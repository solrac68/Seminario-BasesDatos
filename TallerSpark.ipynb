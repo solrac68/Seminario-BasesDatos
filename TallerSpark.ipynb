{
 "cells": [
  {
   "cell_type": "code",
   "execution_count": 1,
   "metadata": {},
   "outputs": [],
   "source": [
    "from pyspark.sql import SparkSession\n",
    "from pyspark.sql import Row\n",
    "from functools import reduce\n",
    "from pyspark.sql import DataFrame\n",
    "from pyspark.sql.types import StringType,DoubleType,FloatType\n",
    "from pyspark.sql.functions import udf\n",
    "from pyspark.sql.functions import regexp_replace\n",
    "import locale\n",
    "import sys\n",
    "import os\n",
    "import re"
   ]
  },
  {
   "cell_type": "code",
   "execution_count": 2,
   "metadata": {},
   "outputs": [
    {
     "data": {
      "text/html": [
       "\n",
       "        <div>\n",
       "            <p><b>SparkContext</b></p>\n",
       "\n",
       "            <p><a href=\"http://nodo1:4040\">Spark UI</a></p>\n",
       "\n",
       "            <dl>\n",
       "              <dt>Version</dt>\n",
       "                <dd><code>v2.4.3</code></dd>\n",
       "              <dt>Master</dt>\n",
       "                <dd><code>local[*]</code></dd>\n",
       "              <dt>AppName</dt>\n",
       "                <dd><code>PySparkShell</code></dd>\n",
       "            </dl>\n",
       "        </div>\n",
       "        "
      ],
      "text/plain": [
       "<SparkContext master=local[*] appName=PySparkShell>"
      ]
     },
     "execution_count": 2,
     "metadata": {},
     "output_type": "execute_result"
    }
   ],
   "source": [
    "sc"
   ]
  },
  {
   "cell_type": "code",
   "execution_count": 3,
   "metadata": {},
   "outputs": [
    {
     "data": {
      "text/html": [
       "\n",
       "            <div>\n",
       "                <p><b>SparkSession - hive</b></p>\n",
       "                \n",
       "        <div>\n",
       "            <p><b>SparkContext</b></p>\n",
       "\n",
       "            <p><a href=\"http://nodo1:4040\">Spark UI</a></p>\n",
       "\n",
       "            <dl>\n",
       "              <dt>Version</dt>\n",
       "                <dd><code>v2.4.3</code></dd>\n",
       "              <dt>Master</dt>\n",
       "                <dd><code>local[*]</code></dd>\n",
       "              <dt>AppName</dt>\n",
       "                <dd><code>PySparkShell</code></dd>\n",
       "            </dl>\n",
       "        </div>\n",
       "        \n",
       "            </div>\n",
       "        "
      ],
      "text/plain": [
       "<pyspark.sql.session.SparkSession at 0x7f5fd0702630>"
      ]
     },
     "execution_count": 3,
     "metadata": {},
     "output_type": "execute_result"
    }
   ],
   "source": [
    "spark"
   ]
  },
  {
   "cell_type": "markdown",
   "metadata": {},
   "source": [
    "# Leyendo lista de Colegios y Estudiantes"
   ]
  },
  {
   "cell_type": "code",
   "execution_count": 4,
   "metadata": {},
   "outputs": [],
   "source": [
    "base = '../Colegios'\n",
    "base2 = '../SB'\n",
    "colegios = os.listdir('../Colegios')\n",
    "estudiantes = os.listdir('../SB')"
   ]
  },
  {
   "cell_type": "code",
   "execution_count": 5,
   "metadata": {},
   "outputs": [],
   "source": [
    "estudiantes.sort()\n",
    "colegios.sort()\n",
    "estuDic = {}\n",
    "coleDic = {}\n",
    "for estu in estudiantes:\n",
    "    estuDic[re.findall('\\d+', estu)[1]] = estu\n",
    "\n",
    "for colegio in colegios:\n",
    "    coleDic[re.findall('\\d+', colegio)[1]] = colegio"
   ]
  },
  {
   "cell_type": "code",
   "execution_count": 6,
   "metadata": {},
   "outputs": [
    {
     "data": {
      "text/plain": [
       "{'20061': 'SB11_20061.txt',\n",
       " '20062': 'SB11_20062.txt',\n",
       " '20071': 'SB11_20071.txt',\n",
       " '20072': 'SB11_20072.txt',\n",
       " '20081': 'SB11_20081.txt',\n",
       " '20082': 'SB11_20082.txt',\n",
       " '20091': 'SB11_20091.txt',\n",
       " '20092': 'SB11_20092.txt',\n",
       " '20101': 'SB11_20101.txt',\n",
       " '20102': 'SB11_20102.txt',\n",
       " '20111': 'SB11_20111.txt',\n",
       " '20112': 'SB11_20112.txt',\n",
       " '20121': 'SB11_20121.txt',\n",
       " '20122': 'SB11_20122.txt',\n",
       " '20131': 'SB11_20131.txt',\n",
       " '20132': 'SB11_20132.txt',\n",
       " '20141': 'SB11_20141.txt',\n",
       " '20142': 'SB11_20142.txt',\n",
       " '20151': 'SB11_20151.txt',\n",
       " '20152': 'SB11_20152.txt',\n",
       " '20161': 'SB11_20161.txt',\n",
       " '20162': 'SB11_20162.txt',\n",
       " '20171': 'SB11_20171.txt',\n",
       " '20172': 'SB11_20172.txt',\n",
       " '20181': 'SB11_20181.txt',\n",
       " '20182': 'SB11_20182.txt',\n",
       " '20191': 'SB11_20191.txt'}"
      ]
     },
     "execution_count": 6,
     "metadata": {},
     "output_type": "execute_result"
    }
   ],
   "source": [
    "estuDic"
   ]
  },
  {
   "cell_type": "code",
   "execution_count": 7,
   "metadata": {},
   "outputs": [
    {
     "data": {
      "text/plain": [
       "{'2006': 'SB11-CLASIFI-PLANTELES-2006.txt',\n",
       " '2007': 'SB11-CLASIFI-PLANTELES-2007.txt',\n",
       " '2008': 'SB11-CLASIFI-PLANTELES-2008.txt',\n",
       " '2009': 'SB11-CLASIFI-PLANTELES-2009.txt',\n",
       " '2010': 'SB11-CLASIFI-PLANTELES-2010.txt',\n",
       " '2011': 'SB11-CLASIFI-PLANTELES-2011.txt',\n",
       " '2012': 'SB11-CLASIFI-PLANTELES-2012.txt',\n",
       " '2013': 'SB11-CLASIFI-PLANTELES-2013.txt',\n",
       " '20141': 'SB11-CLASIFI-PLANTELES-20141.txt',\n",
       " '20142': 'SB11-CLASIFI-PLANTELES-20142.txt',\n",
       " '20151': 'SB11-CLASIFI-PLANTELES-20151.txt',\n",
       " '20152': 'SB11-CLASIFI-PLANTELES-20152.txt',\n",
       " '20161': 'SB11-CLASIFI-PLANTELES-20161.txt',\n",
       " '20162': 'SB11-CLASIFI-PLANTELES-20162.txt',\n",
       " '20171': 'SB11-CLASIFI-PLANTELES-20171.csv',\n",
       " '20172': 'SB11-CLASIFI-PLANTELES-20172.csv',\n",
       " '20181': 'SB11-CLASIFI-PLANTELES-20181.txt',\n",
       " '20182': 'SB11-CLASIFI-PLANTELES-20182.txt'}"
      ]
     },
     "execution_count": 7,
     "metadata": {},
     "output_type": "execute_result"
    }
   ],
   "source": [
    "coleDic"
   ]
  },
  {
   "cell_type": "markdown",
   "metadata": {},
   "source": [
    "# Analizando estructura de Colegios"
   ]
  },
  {
   "cell_type": "code",
   "execution_count": 8,
   "metadata": {},
   "outputs": [
    {
     "name": "stdout",
     "output_type": "stream",
     "text": [
      "Archivo: SB11-CLASIFI-PLANTELES-2006.txt\n",
      "COLE_CODIGO_COLEGIO\tCOLE_INST_NOMBRE\tCOLE_CODMPIO_COLEGIO\tCOLE_MPIO_COLEGIO\tCOLE_DEPTO_COLEGIO\tCOLE_INST_JORNADA\tCOLE_CALENDARIO_COLEGIO\tCOLE_GENEROPOBLACION\tCOLE_NATURALEZA\tCOLE_CIENCIAS_SOCIALES\tCOLE_QUIMICA\tCOLE_FISICA\tCOLE_BIOLOGIA\tCOLE_FILOSOFIA\tCOLE_MATEMATICAS\tCOLE_LENGUAJE\tCOLE_INGLES\tCOLE_GEOGRAFIA\tCOLE_HISTORIA\tCOLE_CATEGORIA\tCOLE_ESTUDIANTES_PRESENTES\n",
      "\n",
      "Archivo: SB11-CLASIFI-PLANTELES-2007.txt\n",
      "COLE_CODIGO_COLEGIO\tCOLE_INST_NOMBRE\tCOLE_CODMPIO_COLEGIO\tCOLE_MPIO_COLEGIO\tCOLE_DEPTO_COLEGIO\tCOLE_INST_JORNADA\tCOLE_CALENDARIO_COLEGIO\tCOLE_GENEROPOBLACION\tCOLE_NATURALEZA\tCOLE_CIENCIAS_SOCIALES\tCOLE_QUIMICA\tCOLE_FISICA\tCOLE_BIOLOGIA\tCOLE_FILOSOFIA\tCOLE_MATEMATICAS\tCOLE_LENGUAJE\tCOLE_INGLES\tCOLE_GEOGRAFIA\tCOLE_HISTORIA\tCOLE_CATEGORIA\tCOLE_ESTUDIANTES_PRESENTES\n",
      "\n",
      "Archivo: SB11-CLASIFI-PLANTELES-2008.txt\n",
      "COLE_CODIGO_COLEGIO\tCOLE_INST_NOMBRE\tCOLE_CODMPIO_COLEGIO\tCOLE_MPIO_COLEGIO\tCOLE_DEPTO_COLEGIO\tCOLE_INST_JORNADA\tCOLE_CALENDARIO_COLEGIO\tCOLE_GENEROPOBLACION\tCOLE_NATURALEZA\tCOLE_CIENCIAS_SOCIALES\tCOLE_QUIMICA\tCOLE_FISICA\tCOLE_BIOLOGIA\tCOLE_FILOSOFIA\tCOLE_MATEMATICAS\tCOLE_LENGUAJE\tCOLE_INGLES\tCOLE_GEOGRAFIA\tCOLE_HISTORIA\tCOLE_CATEGORIA\tCOLE_ESTUDIANTES_PRESENTES\n",
      "\n",
      "Archivo: SB11-CLASIFI-PLANTELES-2009.txt\n",
      "COLE_CODIGO_COLEGIO\tCOLE_INST_NOMBRE\tCOLE_COD_CIUDAD\tCOLE_MPIO_COLEGIO\tCOLE_DEPTO_COLEGIO\tCOLE_INST_JORNADA\tCOLE_CALENDARIO_COLEGIO\tCOLE_GENEROPOBLACION\tCOLE_NATURALEZA\tCOLE_CIENCIAS_SOCIALES\tCOLE_QUIMICA\tCOLE_FISICA\tCOLE_BIOLOGIA\tCOLE_FILOSOFIA\tCOLE_MATEMATICAS\tCOLE_LENGUAJE\tCOLE_INGLES\tCOLE_CATEGORIA\tCOLE_ESTUDIANTES_PRESENTES\n",
      "\n",
      "Archivo: SB11-CLASIFI-PLANTELES-2010.txt\n",
      "COLE_CODIGO_COLEGIO\tCOLE_INST_NOMBRE\tCOLE_COD_CIUDAD\tCOLE_MPIO_COLEGIO\tCOLE_DEPTO_COLEGIO\tCOLE_INST_JORNADA\tCOLE_CALENDARIO_COLEGIO\tCOLE_GENEROPOBLACION\tCOLE_NATURALEZA\tCOLE_CIENCIAS_SOCIALES\tCOLE_QUIMICA\tCOLE_FISICA\tCOLE_BIOLOGIA\tCOLE_FILOSOFIA\tCOLE_MATEMATICAS\tCOLE_LENGUAJE\tCOLE_INGLES\tCOLE_GEOGRAFIA\tCOLE_HISTORIA\tCOLE_CATEGORIA\tCOLE_ESTUDIANTES_PRESENTES\n",
      "\n",
      "Archivo: SB11-CLASIFI-PLANTELES-2011.txt\n",
      "COLE_CODIGO_COLEGIO\tCOLE_INST_NOMBRE\tCOLE_CODMPIO_COLEGIO\tCOLE_MPIO_COLEGIO\tCOLE_DEPTO_COLEGIO\tCOLE_INST_JORNADA\tCOLE_CALENDARIO_COLEGIO\tCOLE_GENEROPOBLACION\tCOLE_NATURALEZA\tCOLE_CIENCIAS_SOCIALES\tCOLE_QUIMICA\tCOLE_FISICA\tCOLE_BIOLOGIA\tCOLE_FILOSOFIA\tCOLE_MATEMATICAS\tCOLE_LENGUAJE\tCOLE_INGLES\tCOLE_GEOGRAFIA\tCOLE_HISTORIA\tCOLE_CATEGORIA\tCOLE_ESTUDIANTES_PRESENTES\n",
      "\n",
      "Archivo: SB11-CLASIFI-PLANTELES-2012.txt\n",
      "COLE_CODIGO_COLEGIO|COLE_INST_NOMBRE|COLE_CODMPIO_COLEGIO|COLE_MPIO_COLEGIO|COLE_DEPTO_COLEGIO|COLE_INST_JORNADA|COLE_CALENDARIO_COLEGIO|COLE_GENEROPOBLACION|COLE_NATURALEZA|COLE_GEOGRAFIA|COLE_QUIMICA|COLE_FISICA|COLE_BIOLOGIA|COLE_HISTORIA|COLE_FILOSOFIA|COLE_MATEMATICAS|COLE_LENGUAJE|COLE_CIENCIAS_SOCIALES|COLE_INGLES|COLE_CATEGORIA|CLPL_N\n",
      "\n",
      "Archivo: SB11-CLASIFI-PLANTELES-2013.txt\n",
      "COLE_CODIGO_COLEGIO|COLE_INST_NOMBRE|COLE_CODMPIO_COLEGIO|COLE_MPIO_COLEGIO|COLE_DEPTO_COLEGIO|COLE_INST_JORNADA|COLE_CALENDARIO_COLEGIO|COLE_GENEROPOBLACION|COLE_NATURALEZA|COLE_GEOGRAFIA|COLE_QUIMICA|COLE_FISICA|COLE_BIOLOGIA|COLE_HISTORIA|COLE_FILOSOFIA|COLE_MATEMATICAS|COLE_LENGUAJE|COLE_CIENCIAS_SOCIALES|COLE_INGLES|COLE_CATEGORIA|CLPL_N\n",
      "\n",
      "Archivo: SB11-CLASIFI-PLANTELES-20141.txt\n",
      "PERIODO\tCOLE_COD_DANE\tCOLE_INST_NOMBRE\tCOLE_CODMPIO_COLEGIO\tCOLE_MPIO_MUNICIPIO\tCOLE_DEPTO_COLEGIO\tCOLE_INST_JORNADA\tCOLE_CALENDARIO_COLEGIO\tCOLE_GENEROPOBLACION\tCOLE_NATURALEZA\tCOLE_QUIMICA\tCOLE_FISICA\tCOLE_BIOLOGIA\tCOLE_FILOSOFIA\tCOLE_MATEMATICAS\tCOLE_LENGUAJE\tCOLE_CIENCIAS_SOCIALES\tCOLE_INGLES\tCOLE_CATEGORIA\tCOLE_ESTUDIANTES_PRESENTES\n",
      "\n",
      "Archivo: SB11-CLASIFI-PLANTELES-20142.txt\n",
      "\"PERIODO\"|\"COLE_COD_DANE\"|\"COLE_INST_NOMBRE\"|\"COLE_CODMPIO_COLEGIO\"|\"COLE_MPIO_MUNICIPIO\"|\"COLE_COD_DEPTO\"|\"COLE_DEPTO_COLEGIO\"|\"COLE_NATURALEZA\"|\"COLE_GRADO\"|\"COLE_CALENDARIO_COLEGIO\"|\"COLE_GENEROPOBLACION\"|\"MATRICULADOS_ULTIMOS_3\"|\"EVALUADOS_ULTIMOS_3\"|\"INDICE_MATEMATICAS\"|\"INDICE_C_NATURALES\"|\"INDICE_SOCIALES_CIUDADANAS\"|\"INDICE_LECTURA_CRITICA\"|\"INDICE_INGLES\"|\"INDICE_TOTAL\"|\"COLE_CATEGORIA\"\n",
      "\n",
      "Archivo: SB11-CLASIFI-PLANTELES-20151.txt\n",
      "\"PERIODO\"|\"COLE_COD_DANE\"|\"COLE_INST_NOMBRE\"|\"COLE_CODMPIO_COLEGIO\"|\"COLE_MPIO_MUNICIPIO\"|\"COLE_COD_DEPTO\"|\"COLE_DEPTO_COLEGIO\"|\"COLE_NATURALEZA\"|\"COLE_GRADO\"|\"COLE_CALENDARIO_COLEGIO\"|\"COLE_GENEROPOBLACION\"|\"MATRICULADOS_ULTIMOS_3\"|\"EVALUADOS_ULTIMOS_3\"|\"INDICE_MATEMATICAS\"|\"INDICE_C_NATURALES\"|\"INDICE_SOCIALES_CIUDADANAS\"|\"INDICE_LECTURA_CRITICA\"|\"INDICE_INGLES\"|\"INDICE_TOTAL\"|\"COLE_CATEGORIA\"\n",
      "\n",
      "Archivo: SB11-CLASIFI-PLANTELES-20152.txt\n",
      "\"PERIODO\"|\"COLE_COD_DANE\"|\"COLE_INST_NOMBRE\"|\"COLE_CODMPIO_COLEGIO\"|\"COLE_MPIO_MUNICIPIO\"|\"COLE_COD_DEPTO\"|\"COLE_DEPTO_COLEGIO\"|\"COLE_NATURALEZA\"|\"COLE_GRADO\"|\"COLE_CALENDARIO_COLEGIO\"|\"COLE_GENEROPOBLACION\"|\"MATRICULADOS_ULTIMOS_3\"|\"EVALUADOS_ULTIMOS_3\"|\"INDICE_MATEMATICAS\"|\"INDICE_C_NATURALES\"|\"INDICE_SOCIALES_CIUDADANAS\"|\"INDICE_LECTURA_CRITICA\"|\"INDICE_INGLES\"|\"INDICE_TOTAL\"|\"COLE_CATEGORIA\"\n",
      "\n",
      "Archivo: SB11-CLASIFI-PLANTELES-20161.txt\n",
      "PERIODO|COLE_COD_DANE|COLE_INST_NOMBRE|COLE_CODMPIO_COLEGIO|COLE_MPIO_MUNICIPIO|COLE_COD_DEPTO|COLE_DEPTO_COLEGIO|COLE_NATURALEZA|COLE_GRADO|COLE_CALENDARIO_COLEGIO|COLE_GENEROPOBLACION|MATRICULADOS_ULTIMOS_3|EVALUADOS_ULTIMOS_3|INDICE_MATEMATICAS|INDICE_C_NATURALES|INDICE_SOCIALES_CIUDADANAS|INDICE_LECTURA_CRITICA|INDICE_INGLES|INDICE_TOTAL|COLE_CATEGORIA\n",
      "\n",
      "Archivo: SB11-CLASIFI-PLANTELES-20162.txt\n",
      "PERIODO|COLE_COD_DANE|COLE_INST_NOMBRE|COLE_CODMPIO_COLEGIO|COLE_MPIO_MUNICIPIO|COLE_COD_DEPTO|COLE_DEPTO_COLEGIO|COLE_NATURALEZA|COLE_GRADO|COLE_CALENDARIO_COLEGIO|COLE_GENEROPOBLACION|MATRICULADOS_ULTIMOS_3|EVALUADOS_ULTIMOS_3|INDICE_MATEMATICAS|INDICE_C_NATURALES|INDICE_SOCIALES_CIUDADANAS|INDICE_LECTURA_CRITICA|INDICE_INGLES|INDICE_TOTAL|COLE_CATEGORIA\n",
      "\n",
      "Archivo: SB11-CLASIFI-PLANTELES-20171.csv\n",
      "\"PERIODO\",\"|\",\"COLE_COD_DANE\",\"|\",\"COLE_INST_NOMBRE\",\"|\",\"COLE_CODMPIO_COLEGIO\",\"|\",\"COLE_MPIO_MUNICIPIO\",\"|\",\"COLE_COD_DEPTO\",\"|\",\"COLE_DEPTO_COLEGIO\",\"|\",\"COLE_NATURALEZA\",\"|\",\"COLE_GRADO\",\"|\",\"COLE_CALENDARIO_COLEGIO\",\"|\",\"COLE_GENEROPOBLACION\",\"|\",\"MATRICULADOS_ULTIMOS_3\",\"|\",\"EVALUADOS_ULTIMOS_3\",\"|\",\"INDICE_MATEMATICAS\",\"|\",\"INDICE_C_NATURALES\",\"|\",\"INDICE_SOCIALES_CIUDADANAS\",\"|\",\"INDICE_LECTURA_CRITICA\",\"|\",\"INDICE_INGLES\",\"|\",\"INDICE_TOTAL\",\"|\",\"COLE_CATEGORIA\"\n",
      "\n",
      "Archivo: SB11-CLASIFI-PLANTELES-20172.csv\n",
      "\"PERIODO\",\"|\",\"COLE_COD_DANE\",\"|\",\"COLE_INST_NOMBRE\",\"|\",\"COLE_CODMPIO_COLEGIO\",\"|\",\"COLE_MPIO_MUNICIPIO\",\"|\",\"COLE_COD_DEPTO\",\"|\",\"COLE_DEPTO_COLEGIO\",\"|\",\"COLE_NATURALEZA\",\"|\",\"COLE_GRADO\",\"|\",\"COLE_CALENDARIO_COLEGIO\",\"|\",\"COLE_GENEROPOBLACION\",\"|\",\"MATRICULADOS_ULTIMOS_3\",\"|\",\"EVALUADOS_ULTIMOS_3\",\"|\",\"INDICE_MATEMATICAS\",\"|\",\"INDICE_C_NATURALES\",\"|\",\"INDICE_SOCIALES_CIUDADANAS\",\"|\",\"INDICE_LECTURA_CRITICA\",\"|\",\"INDICE_INGLES\",\"|\",\"INDICE_TOTAL\",\"|\",\"COLE_CATEGORIA\"\n",
      "\n",
      "Archivo: SB11-CLASIFI-PLANTELES-20181.txt\n",
      "PERIODO\t|\tCOLE_COD_DANE\t|\tCOLE_INST_NOMBRE\t|\tCOLE_CODMPIO_COLEGIO\t|\tCOLE_MPIO_MUNICIPIO\t|\tCOLE_COD_DEPTO\t|\tCOLE_DEPTO_COLEGIO\t|\tCOLE_NATURALEZA\t|\tCOLE_GRADO\t|\tCOLE_CALENDARIO_COLEGIO\t|\tCOLE_GENEROPOBLACION\t|\tMATRICULADOS_ULTIMOS_3\t|\tEVALUADOS_ULTIMOS_3\t|\tINDICE_MATEMATICAS\t|\tINDICE_C_NATURALES\t|\tINDICE_SOCIALES_CIUDADANAS\t|\tINDICE_LECTURA_CRITICA\t|\tINDICE_INGLES\t|\tINDICE_TOTAL\t|\tCOLE_CATEGORIA\n",
      "\n",
      "Archivo: SB11-CLASIFI-PLANTELES-20182.txt\n",
      "PERIODO¬COLE_COD_DANE¬COLE_INST_NOMBRE¬COLE_CODMPIO_COLEGIO¬COLE_MPIO_MUNICIPIO¬COLE_COD_DEPTO¬COLE_DEPTO_COLEGIO¬COLE_NATURALEZA¬COLE_GRADO¬COLE_CALENDARIO_COLEGIO¬COLE_GENEROPOBLACION¬MATRICULADOS_ULTIMOS_3¬EVALUADOS_ULTIMOS_3¬INDICE_MATEMATICAS¬INDICE_C_NATURALES¬INDICE_SOCIALES_CIUDADANAS¬INDICE_LECTURA_CRITICA¬INDICE_INGLES¬INDICE_TOTAL¬COLE_CATEGORIA\n",
      "\n"
     ]
    }
   ],
   "source": [
    "for colegio in colegios:\n",
    "    lines = sc.textFile(base + '/' + colegio)\n",
    "    print(\"Archivo: \" + colegio + \"\\n\" + lines.first() + '\\n')"
   ]
  },
  {
   "cell_type": "markdown",
   "metadata": {},
   "source": [
    "# Analizando estructura de estudiantes"
   ]
  },
  {
   "cell_type": "code",
   "execution_count": 9,
   "metadata": {},
   "outputs": [
    {
     "name": "stdout",
     "output_type": "stream",
     "text": [
      "Archivo: SB11_20061.txt\n",
      "estu_exam_nombreexamen¬estu_estudiante¬periodo¬estu_consecutivo¬estu_edad¬estu_tipo_documento¬estu_pais_reside¬estu_genero¬estu_nacimiento_dia¬estu_nacimiento_mes¬estu_nacimiento_anno¬estu_cod_reside_mcpio¬estu_reside_mcpio¬estu_reside_depto¬estu_zona_reside¬estu_razoninstituto¬cole_valor_pension¬estu_ies_cod_deseada¬estu_carrdeseada_razon¬estu_carrdeseada_cod¬estu_ies_deseada_nombre¬estu_ies_cod_mpio_deseada¬estu_ies_mpio_deseada¬estu_ies_dept_deseada¬estu_mpio_presentacion¬estu_dept_presentacion¬estu_exam_cod_mpio_presentacio¬estu_ano_termino_bachill¬cole_cod_icfes¬cole_cod_dane_institucion¬cole_nombre_sede¬cole_cod_mcpio_ubicacion¬cole_calendario¬cole_genero¬cole_naturaleza¬cole_bilingue¬cole_jornada¬cole_caracter¬punt_lenguaje¬punt_matematicas¬punt_c_sociales¬punt_filosofia¬punt_biologia¬punt_quimica¬punt_fisica¬nombre_idioma¬punt_idioma¬nombre_profundizacion¬punt_profundizacion¬desemp_profundizacion¬nombre_interdisciplinar¬punt_interdisciplinar¬estu_puesto\n",
      "\n",
      "Archivo: SB11_20062.txt\n",
      "estu_exam_nombreexamen¬estu_estudiante¬periodo¬estu_consecutivo¬estu_edad¬estu_tipo_documento¬estu_pais_reside¬estu_genero¬estu_nacimiento_dia¬estu_nacimiento_mes¬estu_nacimiento_anno¬estu_cod_reside_mcpio¬estu_reside_mcpio¬estu_reside_depto¬estu_zona_reside¬estu_razoninstituto¬cole_valor_pension¬estu_ies_cod_deseada¬estu_carrdeseada_razon¬estu_carrdeseada_cod¬estu_ies_deseada_nombre¬estu_ies_cod_mpio_deseada¬estu_ies_mpio_deseada¬estu_ies_dept_deseada¬estu_mpio_presentacion¬estu_dept_presentacion¬estu_exam_cod_mpio_presentacio¬estu_ano_termino_bachill¬cole_cod_icfes¬cole_cod_dane_institucion¬cole_nombre_sede¬cole_cod_mcpio_ubicacion¬cole_calendario¬cole_genero¬cole_naturaleza¬cole_bilingue¬cole_jornada¬cole_caracter¬punt_lenguaje¬punt_matematicas¬punt_c_sociales¬punt_filosofia¬punt_biologia¬punt_quimica¬punt_fisica¬nombre_idioma¬punt_idioma¬nombre_profundizacion¬punt_profundizacion¬desemp_profundizacion¬nombre_interdisciplinar¬punt_interdisciplinar¬estu_puesto\n",
      "\n",
      "Archivo: SB11_20071.txt\n",
      "estu_exam_nombreexamen¬estu_estudiante¬periodo¬estu_consecutivo¬estu_edad¬estu_tipo_documento¬estu_pais_reside¬estu_genero¬estu_nacimiento_dia¬estu_nacimiento_mes¬estu_nacimiento_anno¬estu_cod_reside_mcpio¬estu_reside_mcpio¬estu_reside_depto¬estu_zona_reside¬estu_razoninstituto¬cole_valor_pension¬estu_ies_cod_deseada¬estu_carrdeseada_razon¬estu_carrdeseada_cod¬estu_ies_deseada_nombre¬estu_ies_cod_mpio_deseada¬estu_ies_mpio_deseada¬estu_ies_dept_deseada¬estu_mpio_presentacion¬estu_dept_presentacion¬estu_exam_cod_mpio_presentacio¬estu_ano_termino_bachill¬cole_cod_icfes¬cole_cod_dane_institucion¬cole_nombre_sede¬cole_cod_mcpio_ubicacion¬cole_calendario¬cole_genero¬cole_naturaleza¬cole_bilingue¬cole_jornada¬cole_caracter¬punt_lenguaje¬punt_matematicas¬punt_c_sociales¬punt_filosofia¬punt_biologia¬punt_quimica¬punt_fisica¬punt_ingles¬nombre_profundizacion¬punt_profundizacion¬desemp_profundizacion¬nombre_interdisciplinar¬punt_interdisciplinar¬estu_puesto\n",
      "\n",
      "Archivo: SB11_20072.txt\n",
      "estu_exam_nombreexamen¬estu_estudiante¬periodo¬estu_consecutivo¬estu_edad¬estu_tipo_documento¬estu_pais_reside¬estu_genero¬estu_nacimiento_dia¬estu_nacimiento_mes¬estu_nacimiento_anno¬estu_cod_reside_mcpio¬estu_reside_mcpio¬estu_reside_depto¬estu_zona_reside¬estu_razoninstituto¬cole_valor_pension¬estu_ies_cod_deseada¬estu_carrdeseada_razon¬estu_carrdeseada_cod¬estu_ies_deseada_nombre¬estu_ies_cod_mpio_deseada¬estu_ies_mpio_deseada¬estu_ies_dept_deseada¬estu_mpio_presentacion¬estu_dept_presentacion¬estu_exam_cod_mpio_presentacio¬estu_ano_termino_bachill¬cole_cod_icfes¬cole_cod_dane_institucion¬cole_nombre_sede¬cole_cod_mcpio_ubicacion¬cole_calendario¬cole_genero¬cole_naturaleza¬cole_bilingue¬cole_jornada¬cole_caracter¬punt_lenguaje¬punt_matematicas¬punt_c_sociales¬punt_filosofia¬punt_biologia¬punt_quimica¬punt_fisica¬punt_ingles¬desemp_ingles¬nombre_profundizacion¬punt_profundizacion¬desemp_profundizacion¬nombre_interdisciplinar¬punt_interdisciplinar¬estu_puesto\n",
      "\n",
      "Archivo: SB11_20081.txt\n",
      "estu_exam_nombreexamen¬estu_estudiante¬periodo¬estu_consecutivo¬estu_edad¬estu_tipo_documento¬estu_pais_reside¬estu_genero¬estu_nacimiento_dia¬estu_nacimiento_mes¬estu_nacimiento_anno¬estu_cod_reside_mcpio¬estu_reside_mcpio¬estu_reside_depto¬estu_zona_reside¬estu_area_reside¬cole_valor_pension¬estu_trabaja¬estu_horas_trabaja¬fami_estrato_vivienda¬estu_mpio_presentacion¬estu_dept_presentacion¬estu_exam_cod_mpio_presentacio¬estu_ano_termino_bachill¬fami_educa_padre¬fami_educa_madre¬fami_ocup_padre¬fami_ocup_madre¬fami_cuartos_hogar¬fami_nivel_sisben¬fami_pisos_hogar¬fami_personas_hogar¬fami_computador¬fami_ing_fmiliar_mensual¬fami_lee_escribe_padre¬fami_lee_escribe_madre¬fami_num_hermanos¬fami_educa_hermano¬fami_hermanos_estudian¬fami_dormitorios_hogar¬cole_cod_icfes¬cole_cod_dane_institucion¬cole_nombre_sede¬cole_cod_mcpio_ubicacion¬cole_calendario¬cole_genero¬cole_naturaleza¬cole_bilingue¬cole_jornada¬cole_caracter¬punt_lenguaje¬punt_matematicas¬punt_c_sociales¬punt_filosofia¬punt_biologia¬punt_quimica¬punt_fisica¬punt_ingles¬desemp_ingles¬nombre_profundizacion¬punt_profundizacion¬desemp_profundizacion¬nombre_interdisciplinar¬punt_interdisciplinar¬estu_puesto\n",
      "\n",
      "Archivo: SB11_20082.txt\n",
      "estu_exam_nombreexamen¬estu_estudiante¬periodo¬estu_consecutivo¬estu_edad¬estu_tipo_documento¬estu_pais_reside¬estu_genero¬estu_nacimiento_dia¬estu_nacimiento_mes¬estu_nacimiento_anno¬estu_cod_reside_mcpio¬estu_reside_mcpio¬estu_reside_depto¬estu_zona_reside¬estu_area_reside¬cole_valor_pension¬estu_trabaja¬estu_horas_trabaja¬fami_estrato_vivienda¬estu_mpio_presentacion¬estu_dept_presentacion¬estu_exam_cod_mpio_presentacio¬estu_veces_estado¬estu_ano_termino_bachill¬fami_educa_padre¬fami_educa_madre¬fami_ocup_padre¬fami_ocup_madre¬fami_cuartos_hogar¬fami_nivel_sisben¬fami_pisos_hogar¬fami_personas_hogar¬fami_celular¬fami_internet¬fami_servicio_television¬fami_computador¬fami_dvd¬fami_automovil¬fami_ing_fmiliar_mensual¬fami_lee_escribe_padre¬fami_lee_escribe_madre¬fami_num_hermanos¬fami_educa_hermano¬fami_hermanos_estudian¬fami_dormitorios_hogar¬fami_televisor¬fami_motocicleta¬cole_cod_icfes¬cole_cod_dane_institucion¬cole_nombre_sede¬cole_cod_mcpio_ubicacion¬cole_calendario¬cole_genero¬cole_naturaleza¬cole_bilingue¬cole_jornada¬cole_caracter¬punt_lenguaje¬punt_matematicas¬punt_c_sociales¬punt_filosofia¬punt_biologia¬punt_quimica¬punt_fisica¬punt_ingles¬desemp_ingles¬nombre_profundizacion¬punt_profundizacion¬desemp_profundizacion¬nombre_interdisciplinar¬punt_interdisciplinar¬estu_puesto\n",
      "\n",
      "Archivo: SB11_20091.txt\n",
      "estu_exam_nombreexamen¬estu_estudiante¬periodo¬estu_consecutivo¬estu_edad¬estu_tipo_documento¬estu_pais_reside¬estu_genero¬estu_nacimiento_dia¬estu_nacimiento_mes¬estu_nacimiento_anno¬estu_cod_reside_mcpio¬estu_reside_mcpio¬estu_reside_depto¬estu_zona_reside¬estu_area_reside¬estu_razoninstituto¬cole_valor_pension¬estu_trabaja¬estu_horas_trabaja¬fami_estrato_vivienda¬estu_ies_cod_deseada¬estu_carrdeseada_razon¬estu_ies_deseada_nombre¬estu_ies_cod_mpio_deseada¬estu_ies_mpio_deseada¬estu_ies_dept_deseada¬estu_mpio_presentacion¬estu_dept_presentacion¬estu_exam_cod_mpio_presentacio¬estu_veces_estado¬estu_carrdeseada_tipo¬estu_ano_termino_bachill¬fami_educa_padre¬fami_educa_madre¬fami_ocup_padre¬fami_ocup_madre¬fami_cuartos_hogar¬fami_nivel_sisben¬fami_pisos_hogar¬fami_personas_hogar¬fami_telefono_fijo¬fami_internet¬fami_servicio_television¬fami_computador¬fami_lavadora¬fami_nevera¬fami_horno¬fami_dvd¬fami_microondas¬fami_automovil¬fami_ing_fmiliar_mensual¬fami_educa_hermano¬fami_dormitorios_hogar¬fami_televisor¬fami_electricidad¬fami_acueducto¬fami_alcantarillado¬fami_aseo¬fami_estufa¬fami_sanitario¬fami_conexion_sanitario¬cole_cod_icfes¬cole_cod_dane_institucion¬cole_nombre_sede¬cole_cod_mcpio_ubicacion¬cole_calendario¬cole_genero¬cole_naturaleza¬cole_bilingue¬cole_jornada¬cole_caracter¬punt_lenguaje¬punt_matematicas¬punt_c_sociales¬punt_filosofia¬punt_biologia¬punt_quimica¬punt_fisica¬punt_ingles¬desemp_ingles¬nombre_profundizacion¬punt_profundizacion¬desemp_profundizacion¬nombre_interdisciplinar¬punt_interdisciplinar¬estu_puesto\n",
      "\n",
      "Archivo: SB11_20092.txt\n",
      "estu_exam_nombreexamen¬estu_estudiante¬periodo¬estu_consecutivo¬estu_edad¬estu_tipo_documento¬estu_pais_reside¬estu_genero¬estu_nacimiento_dia¬estu_nacimiento_mes¬estu_nacimiento_anno¬estu_cod_reside_mcpio¬estu_reside_mcpio¬estu_reside_depto¬estu_zona_reside¬estu_area_reside¬cole_valor_pension¬estu_trabaja¬estu_horas_trabaja¬fami_estrato_vivienda¬estu_ies_cod_deseada¬estu_ies_deseada_nombre¬estu_ies_cod_mpio_deseada¬estu_ies_mpio_deseada¬estu_ies_dept_deseada¬estu_mpio_presentacion¬estu_dept_presentacion¬estu_exam_cod_mpio_presentacio¬estu_veces_estado¬estu_carrdeseada_tipo¬estu_ano_termino_bachill¬estu_mes_termino_bachill¬fami_educa_padre¬fami_educa_madre¬fami_ocup_padre¬fami_ocup_madre¬fami_cuartos_hogar¬fami_nivel_sisben¬fami_pisos_hogar¬fami_personas_hogar¬fami_telefono_fijo¬fami_celular¬fami_internet¬fami_servicio_television¬fami_computador¬fami_lavadora¬fami_nevera¬fami_horno¬fami_dvd¬fami_microondas¬fami_automovil¬fami_ing_fmiliar_mensual¬estu_anos_preescolar¬estu_ano_matricula_primero¬estu_ano_termino_quinto¬estu_ano_matricula_sexto¬estu_reprobo_primero¬estu_reprobo_segundo¬estu_reprobo_tercero¬estu_reprobo_cuarto¬estu_reprobo_quinto¬estu_reprobo_sexto¬estu_reprobo_septimo¬estu_reprobo_octavo¬estu_reprobo_noveno¬estu_reprobo_decimo¬estu_reprobo_once_mas¬estu_anos_colegio_actual¬estu_cuantos_cole_estudio¬estu_razon_retiro¬estu_total_alumnos_curso¬estu_prestigioinstitucion¬estu_por_ubicacion¬estu_por_unicaqueofrece¬estu_por_amigosestudiando¬estu_por_otrarazon¬estu_por_orientacionvocacional¬estu_por_tradicionfamiliar¬estu_por_influenciaalguien¬cole_cod_icfes¬cole_cod_dane_institucion¬cole_nombre_sede¬cole_cod_mcpio_ubicacion¬cole_calendario¬cole_genero¬cole_naturaleza¬cole_bilingue¬cole_jornada¬cole_caracter¬punt_lenguaje¬punt_matematicas¬punt_c_sociales¬punt_filosofia¬punt_biologia¬punt_quimica¬punt_fisica¬punt_ingles¬desemp_ingles¬nombre_profundizacion¬punt_profundizacion¬desemp_profundizacion¬nombre_interdisciplinar¬punt_interdisciplinar¬estu_puesto\n",
      "\n",
      "Archivo: SB11_20101.txt\n",
      "estu_exam_nombreexamen¬estu_estudiante¬periodo¬estu_consecutivo¬estu_edad¬estu_tipo_documento¬estu_pais_reside¬estu_genero¬estu_nacimiento_dia¬estu_nacimiento_mes¬estu_nacimiento_anno¬estu_cod_reside_mcpio¬estu_reside_mcpio¬estu_reside_depto¬estu_zona_reside¬estu_area_reside¬cole_valor_pension¬estu_trabaja¬fami_estrato_vivienda¬estu_mpio_presentacion¬estu_dept_presentacion¬estu_exam_cod_mpio_presentacio¬estu_veces_estado¬estu_ano_termino_bachill¬estu_mes_termino_bachill¬fami_educa_padre¬fami_educa_madre¬fami_ocup_padre¬fami_ocup_madre¬fami_nivel_sisben¬fami_pisos_hogar¬fami_personas_hogar¬fami_telefono_fijo¬fami_celular¬fami_internet¬fami_servicio_television¬fami_computador¬fami_lavadora¬fami_nevera¬fami_horno¬fami_dvd¬fami_microondas¬fami_automovil¬fami_ing_fmiliar_mensual¬cole_cod_icfes¬cole_cod_dane_institucion¬cole_nombre_sede¬cole_cod_mcpio_ubicacion¬cole_calendario¬cole_genero¬cole_naturaleza¬cole_bilingue¬cole_jornada¬cole_caracter¬punt_lenguaje¬punt_matematicas¬punt_c_sociales¬punt_filosofia¬punt_biologia¬punt_quimica¬punt_fisica¬punt_ingles¬desemp_ingles¬nombre_profundizacion¬punt_profundizacion¬desemp_profundizacion¬nombre_interdisciplinar¬punt_interdisciplinar¬estu_puesto\n",
      "\n",
      "Archivo: SB11_20102.txt\n",
      "estu_exam_nombreexamen¬estu_estudiante¬periodo¬estu_consecutivo¬estu_edad¬estu_tipo_documento¬estu_pais_reside¬estu_genero¬estu_nacimiento_dia¬estu_nacimiento_mes¬estu_nacimiento_anno¬estu_cod_reside_mcpio¬estu_reside_mcpio¬estu_reside_depto¬estu_zona_reside¬estu_area_reside¬cole_valor_pension¬estu_trabaja¬fami_estrato_vivienda¬estu_ies_cod_deseada¬estu_ies_deseada_nombre¬estu_ies_cod_mpio_deseada¬estu_ies_mpio_deseada¬estu_ies_dept_deseada¬estu_mpio_presentacion¬estu_dept_presentacion¬estu_exam_cod_mpio_presentacio¬estu_veces_estado¬estu_carrdeseada_tipo¬fami_educa_padre¬fami_educa_madre¬fami_ocup_padre¬fami_ocup_madre¬fami_nivel_sisben¬fami_pisos_hogar¬fami_personas_hogar¬fami_telefono_fijo¬fami_celular¬fami_internet¬fami_servicio_television¬fami_computador¬fami_lavadora¬fami_nevera¬fami_horno¬fami_dvd¬fami_microondas¬fami_automovil¬fami_ing_fmiliar_mensual¬estu_anos_preescolar¬estu_ano_matricula_primero¬estu_ano_termino_quinto¬estu_ano_matricula_sexto¬estu_reprobo_primero¬estu_reprobo_segundo¬estu_reprobo_tercero¬estu_reprobo_cuarto¬estu_reprobo_quinto¬estu_reprobo_sexto¬estu_reprobo_septimo¬estu_reprobo_octavo¬estu_reprobo_noveno¬estu_reprobo_decimo¬estu_reprobo_once_mas¬estu_anos_colegio_actual¬estu_cuantos_cole_estudio¬estu_razon_retiro¬estu_total_alumnos_curso¬estu_prestigioinstitucion¬estu_por_ubicacion¬estu_por_unicaqueofrece¬estu_por_amigosestudiando¬estu_por_otrarazon¬estu_por_orientacionvocacional¬estu_por_tradicionfamiliar¬estu_por_influenciaalguien¬cole_cod_icfes¬cole_cod_dane_institucion¬cole_nombre_sede¬cole_cod_mcpio_ubicacion¬cole_calendario¬cole_genero¬cole_naturaleza¬cole_bilingue¬cole_jornada¬cole_caracter¬punt_lenguaje¬punt_matematicas¬punt_c_sociales¬punt_filosofia¬punt_biologia¬punt_quimica¬punt_fisica¬punt_ingles¬desemp_ingles¬nombre_comp_flexible¬punt_comp_flexible¬desemp_comp_flexible¬estu_puesto¬punt_biologia_recal¬punt_c_sociales_recal¬punt_filosofia_recal¬punt_fisica_recal¬punt_ingles_recal¬punt_lenguaje_recal¬punt_matematicas_recal¬punt_quimica_recal\n",
      "\n",
      "Archivo: SB11_20111.txt\n",
      "estu_exam_nombreexamen¬estu_estudiante¬periodo¬estu_consecutivo¬estu_edad¬estu_tipo_documento¬estu_pais_reside¬estu_genero¬estu_nacimiento_dia¬estu_nacimiento_mes¬estu_nacimiento_anno¬estu_cod_reside_mcpio¬estu_reside_mcpio¬estu_reside_depto¬estu_zona_reside¬estu_area_reside¬cole_valor_pension¬estu_trabaja¬fami_estrato_vivienda¬estu_ies_cod_deseada¬estu_ies_deseada_nombre¬estu_ies_cod_mpio_deseada¬estu_ies_mpio_deseada¬estu_ies_dept_deseada¬estu_mpio_presentacion¬estu_dept_presentacion¬estu_exam_cod_mpio_presentacio¬estu_veces_estado¬estu_carrdeseada_tipo¬fami_educa_padre¬fami_educa_madre¬fami_ocup_padre¬fami_ocup_madre¬fami_nivel_sisben¬fami_pisos_hogar¬fami_personas_hogar¬fami_telefono_fijo¬fami_celular¬fami_internet¬fami_servicio_television¬fami_computador¬fami_lavadora¬fami_nevera¬fami_horno¬fami_dvd¬fami_microondas¬fami_automovil¬fami_ing_fmiliar_mensual¬estu_anos_preescolar¬estu_ano_matricula_primero¬estu_ano_termino_quinto¬estu_ano_matricula_sexto¬estu_reprobo_primero¬estu_reprobo_segundo¬estu_reprobo_tercero¬estu_reprobo_cuarto¬estu_reprobo_quinto¬estu_reprobo_sexto¬estu_reprobo_septimo¬estu_reprobo_octavo¬estu_reprobo_noveno¬estu_reprobo_decimo¬estu_reprobo_once_mas¬estu_anos_colegio_actual¬estu_cuantos_cole_estudio¬estu_razon_retiro¬estu_total_alumnos_curso¬estu_prestigioinstitucion¬estu_por_ubicacion¬estu_por_unicaqueofrece¬estu_por_amigosestudiando¬estu_por_otrarazon¬estu_por_orientacionvocacional¬estu_por_tradicionfamiliar¬estu_por_influenciaalguien¬cole_cod_icfes¬cole_cod_dane_institucion¬cole_nombre_sede¬cole_cod_mcpio_ubicacion¬cole_calendario¬cole_genero¬cole_naturaleza¬cole_bilingue¬cole_jornada¬cole_caracter¬punt_lenguaje¬punt_matematicas¬punt_c_sociales¬punt_filosofia¬punt_biologia¬punt_quimica¬punt_fisica¬punt_ingles¬desemp_ingles¬nombre_comp_flexible¬punt_comp_flexible¬desemp_comp_flexible¬estu_puesto\n",
      "\n"
     ]
    },
    {
     "name": "stdout",
     "output_type": "stream",
     "text": [
      "Archivo: SB11_20112.txt\n",
      "ESTU_TIPODOCUMENTO¬ESTU_NACIONALIDAD¬ESTU_GENERO¬ESTU_FECHANACIMIENTO¬PERIODO¬ESTU_CONSECUTIVO¬ESTU_ESTUDIANTE¬ESTU_PAIS_RESIDE¬ESTU_DEPTO_RESIDE¬ESTU_COD_RESIDE_DEPTO¬ESTU_MCPIO_RESIDE¬ESTU_COD_RESIDE_MCPIO¬ESTU_AREARESIDE¬ESTU_MESTERMINOBACHILLER¬ESTU_ANOTERMINOBACHILLER¬ESTU_VALORPENSIONCOLEGIO¬ESTU_MOTIVO_PRESENTAVALIDACION¬ESTU_VECESPRESENTOEXAMEN¬ESTU_FECHAGRADOBACHILLER¬FAMI_EDUCACIONPADRE¬FAMI_EDUCACIONMADRE¬FAMI_OCUPACIONPADRE¬FAMI_OCUPACIONMADRE¬FAMI_ESTRATOVIVIENDA¬FAMI_NIVELSISBEN¬FAMI_PERSONASHOGAR¬FAMI_CUARTOSHOGAR¬FAMI_PISOSHOGAR¬FAMI_TIENEINTERNET¬FAMI_TIENE_SERVICIOTV¬FAMI_TIENECOMPUTADOR¬FAMI_TIENELAVADORA¬FAMI_TIENEMICROONDAS¬FAMI_TIENEHORNO¬FAMI_TIENEAUTOMOVIL¬FAMI_TIENEDVD¬FAMI_TIENE_NEVERA¬FAMI_TIENE_CELULAR¬FAMI_TELEFONO¬FAMI_INGRESOFMILIARMENSUAL¬ESTU_TRABAJAACTUALMENTE¬ESTU_ANTECEDENTES¬ESTU_ANOSPREESCOLAR¬ESTU_ANOMATRICULAPRIMERO¬ESTU_ANOTERMINOQUINTO¬ESTU_ANOMATRICULASEXTO¬ESTU_REPROBOPRIMERO¬ESTU_REPROBOSEGUNDO¬ESTU_REPROBOTERCERO¬ESTU_REPROBOCUARTO¬ESTU_REPROBOQUINTO¬ESTU_REPROBOSEXTO¬ESTU_REPROBOSEPTIMO¬ESTU_REPROBOOCTAVO¬ESTU_REPROBONOVENO¬ESTU_REPROBODECIMO¬ESTU_REPROBOONCEMAS¬ESTU_ANOSCOLEGIOACTUAL¬ESTU_CUANTOSCOLEGIOESTUDIO¬ESTU_SERETIROCOLEGIO¬ESTU_RAZONRETIROCOLEGIO¬ESTU_TOTALALUMNOSCURSO¬ESTU_TIPOCARRERADESEADA¬ESTU_IESDESEADA¬ESTU_INSTPORPRESTIGIO¬ESTU_INSTPORCOSTOMATRICULA¬ESTU_INSTPORUBICACION¬ESTU_INSTPORUNICAQUEOFRECE¬ESTU_INSTPOROPORTUNIDADES¬ESTU_INSTPORAMIGOSESTUDIANDO¬ESTU_INSTPOROTRARAZON¬ESTU_PROGRAMADESEADO¬ESTU_PROGORIENTACIONVOCACIONAL¬ESTU_PROGPORBUSCANDOCARRERA¬ESTU_PROGPORCOLOMBIAAPRENDE¬ESTU_PROGPORINTERESPERSONAL¬ESTU_PROGPORTRADICIONFAMILIAR¬ESTU_PROGPORMEJORARPOSICSOCIAL¬ESTU_PROGPORINFLUENCIAALGUIEN¬COLE_CODIGO_ICFES¬COLE_COD_DANE_ESTABLECIMIENTO¬COLE_NOMBRE_ESTABLECIMIENTO¬COLE_GENERO¬COLE_NATURALEZA¬COLE_CALENDARIO¬COLE_BILINGUE¬COLE_CARACTER¬COLE_COD_DANE_SEDE¬COLE_NOMBRE_SEDE¬COLE_SEDE_PRINCIPAL¬COLE_AREA_UBICACION¬COLE_JORNADA¬COLE_COD_MCPIO_UBICACION¬COLE_MCPIO_UBICACION¬COLE_COD_DEPTO_UBICACION¬COLE_DEPTO_UBICACION¬ESTU_PRIVADO_LIBERTAD¬ESTU_COD_MCPIO_PRESENTACION¬ESTU_MCPIO_PRESENTACION¬ESTU_DEPTO_PRESENTACION¬ESTU_COD_DEPTO_PRESENTACION¬PUNT_MATEMATICAS¬PUNT_INGLES¬DESEMP_INGLES¬PUNT_CIENCIAS_SOCIALES¬PUNT_BIOLOGIA¬PUNT_FILOSOFIA¬PUNT_FISICA¬PUNT_QUIMICA¬PUNT_LENGUAJE¬PUNT_INTERDISC_MEDIOAMBIENTE¬PUNT_INTERDISC_VIOLENCIAYSOC¬PUNT_PROFUNDIZA_BIOLOGIA¬DESEMP_PROFUNDIZA_BIOLOGIA¬PUNT_PROFUNDIZA_CSOCIALES¬DESEMP_PROFUNDIZA_CSOCIALES¬PUNT_PROFUNDIZA_LENGUAJE¬DESEMP_PROFUNDIZA_LENGUAJE¬PUNT_PROFUNDIZA_MATEMATICA¬DESEMP_PROFUNDIZA_MATEMATICA¬ESTU_PUESTO¬ESTU_ESTADOINVESTIGACION\n",
      "\n",
      "Archivo: SB11_20121.txt\n",
      "ESTU_TIPODOCUMENTO¬ESTU_NACIONALIDAD¬ESTU_GENERO¬ESTU_FECHANACIMIENTO¬PERIODO¬ESTU_CONSECUTIVO¬ESTU_ESTUDIANTE¬ESTU_PAIS_RESIDE¬ESTU_ETNIA¬ESTU_LIMITA_MOTRIZ¬ESTU_LIMITA_INVIDENTE¬ESTU_LIMITA_CONDICIONESPECIAL¬ESTU_LIMITA_SORDOCONINTERPRETE¬ESTU_LIMITA_SORDOSININTERPRETE¬ESTU_LIMITA_SORDOCEGUERA¬ESTU_DEPTO_RESIDE¬ESTU_COD_RESIDE_DEPTO¬ESTU_MCPIO_RESIDE¬ESTU_COD_RESIDE_MCPIO¬ESTU_AREARESIDE¬ESTU_MESTERMINOBACHILLER¬ESTU_ANOTERMINOBACHILLER¬ESTU_VALORPENSIONCOLEGIO¬ESTU_OCUPACION_ACTUAL¬ESTU_MOTIVO_PRESENTAVALIDACION¬ESTU_VECESPRESENTOEXAMEN¬ESTU_FECHAGRADOBACHILLER¬FAMI_EDUCACIONPADRE¬FAMI_EDUCACIONMADRE¬FAMI_OCUPACIONPADRE¬FAMI_OCUPACIONMADRE¬FAMI_ESTRATOVIVIENDA¬FAMI_NIVELSISBEN¬FAMI_PERSONASHOGAR¬FAMI_CUARTOSHOGAR¬FAMI_PISOSHOGAR¬FAMI_TIENEINTERNET¬FAMI_TIENE_SERVICIOTV¬FAMI_TIENECOMPUTADOR¬FAMI_TIENELAVADORA¬FAMI_TIENEMICROONDAS¬FAMI_TIENEAUTOMOVIL¬FAMI_TIENEDVD¬FAMI_TIENE_NEVERA¬FAMI_TIENE_CELULAR¬FAMI_TELEFONO¬FAMI_INGRESOFMILIARMENSUAL¬ESTU_TRABAJAACTUALMENTE¬ESTU_ANTECEDENTES¬ESTU_ANOSPREESCOLAR¬ESTU_ANOMATRICULAPRIMERO¬ESTU_ANOTERMINOQUINTO¬ESTU_ANOMATRICULASEXTO¬ESTU_REPROBOPRIMERO¬ESTU_REPROBOSEGUNDO¬ESTU_REPROBOTERCERO¬ESTU_REPROBOCUARTO¬ESTU_REPROBOQUINTO¬ESTU_REPROBOSEXTO¬ESTU_REPROBOSEPTIMO¬ESTU_REPROBOOCTAVO¬ESTU_REPROBONOVENO¬ESTU_REPROBODECIMO¬ESTU_REPROBOONCEMAS¬ESTU_ANOSCOLEGIOACTUAL¬ESTU_CUANTOSCOLEGIOESTUDIO¬ESTU_TOTALALUMNOSCURSO¬ESTU_TIPOCARRERADESEADA¬ESTU_INSTPORPRESTIGIO¬ESTU_INSTPORCOSTOMATRICULA¬ESTU_INSTPORUBICACION¬ESTU_INSTPORUNICAQUEOFRECE¬ESTU_INSTPOROPORTUNIDADES¬ESTU_INSTPORAMIGOSESTUDIANDO¬ESTU_INSTPOROTRARAZON¬ESTU_PROGORIENTACIONVOCACIONAL¬ESTU_PROGPORBUSCANDOCARRERA¬ESTU_PROGPORCOLOMBIAAPRENDE¬ESTU_PROGPORINTERESPERSONAL¬ESTU_PROGPORTRADICIONFAMILIAR¬ESTU_PROGPORMEJORARPOSICSOCIAL¬ESTU_PROGPORINFLUENCIAALGUIEN¬COLE_CODIGO_ICFES¬COLE_COD_DANE_ESTABLECIMIENTO¬COLE_NOMBRE_ESTABLECIMIENTO¬COLE_GENERO¬COLE_NATURALEZA¬COLE_CALENDARIO¬COLE_BILINGUE¬COLE_CARACTER¬COLE_COD_DANE_SEDE¬COLE_NOMBRE_SEDE¬COLE_SEDE_PRINCIPAL¬COLE_AREA_UBICACION¬COLE_JORNADA¬COLE_COD_MCPIO_UBICACION¬COLE_MCPIO_UBICACION¬COLE_COD_DEPTO_UBICACION¬COLE_DEPTO_UBICACION¬ESTU_PRIVADO_LIBERTAD¬ESTU_COD_MCPIO_PRESENTACION¬ESTU_MCPIO_PRESENTACION¬ESTU_DEPTO_PRESENTACION¬ESTU_COD_DEPTO_PRESENTACION¬PUNT_MATEMATICAS¬PUNT_INGLES¬DESEMP_INGLES¬PUNT_CIENCIAS_SOCIALES¬PUNT_BIOLOGIA¬PUNT_FILOSOFIA¬PUNT_FISICA¬PUNT_QUIMICA¬PUNT_LENGUAJE¬PUNT_INTERDISC_MEDIOAMBIENTE¬PUNT_INTERDISC_VIOLENCIAYSOC¬PUNT_PROFUNDIZA_BIOLOGIA¬DESEMP_PROFUNDIZA_BIOLOGIA¬PUNT_PROFUNDIZA_CSOCIALES¬DESEMP_PROFUNDIZA_CSOCIALES¬PUNT_PROFUNDIZA_LENGUAJE¬DESEMP_PROFUNDIZA_LENGUAJE¬PUNT_PROFUNDIZA_MATEMATICA¬DESEMP_PROFUNDIZA_MATEMATICA¬ESTU_PUESTO¬RECAF_PUNT_SOCIALES_CIUDADANAS¬RECAF_PUNT_INGLES¬RECAF_PUNT_LECTURA_CRITICA¬RECAF_PUNT_MATEMATICAS¬RECAF_PUNT_C_NATURALES¬ESTU_ESTADOINVESTIGACION\n",
      "\n",
      "Archivo: SB11_20122.txt\n",
      "ESTU_TIPODOCUMENTO¬ESTU_NACIONALIDAD¬ESTU_GENERO¬ESTU_FECHANACIMIENTO¬PERIODO¬ESTU_CONSECUTIVO¬ESTU_ESTUDIANTE¬ESTU_PAIS_RESIDE¬ESTU_DEPTO_RESIDE¬ESTU_COD_RESIDE_DEPTO¬ESTU_MCPIO_RESIDE¬ESTU_COD_RESIDE_MCPIO¬ESTU_AREARESIDE¬ESTU_MESTERMINOBACHILLER¬ESTU_ANOTERMINOBACHILLER¬ESTU_VALORPENSIONCOLEGIO¬ESTU_MOTIVO_PRESENTAVALIDACION¬ESTU_FECHAGRADOBACHILLER¬FAMI_EDUCACIONPADRE¬FAMI_EDUCACIONMADRE¬FAMI_OCUPACIONPADRE¬FAMI_OCUPACIONMADRE¬FAMI_ESTRATOVIVIENDA¬FAMI_NIVELSISBEN¬FAMI_PERSONASHOGAR¬FAMI_CUARTOSHOGAR¬FAMI_PISOSHOGAR¬FAMI_TIENEINTERNET¬FAMI_TIENE_SERVICIOTV¬FAMI_TIENECOMPUTADOR¬FAMI_TIENELAVADORA¬FAMI_TIENEMICROONDAS¬FAMI_TIENEHORNO¬FAMI_TIENEAUTOMOVIL¬FAMI_TIENEDVD¬FAMI_TIENE_NEVERA¬FAMI_TIENE_CELULAR¬FAMI_TELEFONO¬FAMI_INGRESOFMILIARMENSUAL¬ESTU_TRABAJAACTUALMENTE¬ESTU_HORASSEMANATRABAJA¬ESTU_ANTECEDENTES¬ESTU_ANOSPREESCOLAR¬ESTU_ANOMATRICULAPRIMERO¬ESTU_ANOTERMINOQUINTO¬ESTU_ANOMATRICULASEXTO¬ESTU_REPROBOPRIMERO¬ESTU_REPROBOSEGUNDO¬ESTU_REPROBOTERCERO¬ESTU_REPROBOCUARTO¬ESTU_REPROBOQUINTO¬ESTU_REPROBOSEXTO¬ESTU_REPROBOSEPTIMO¬ESTU_REPROBOOCTAVO¬ESTU_REPROBONOVENO¬ESTU_REPROBODECIMO¬ESTU_REPROBOONCEMAS¬ESTU_ANOSCOLEGIOACTUAL¬ESTU_CUANTOSCOLEGIOESTUDIO¬ESTU_SERETIROCOLEGIO¬ESTU_RAZONRETIROCOLEGIO¬ESTU_TOTALALUMNOSCURSO¬ESTU_TIPOCARRERADESEADA¬ESTU_RAZON_INST_DESEADA¬ESTU_INSTPORPRESTIGIO¬ESTU_INSTPORCOSTOMATRICULA¬ESTU_INSTPORUBICACION¬ESTU_INSTPORUNICAQUEOFRECE¬ESTU_INSTPOROPORTUNIDADES¬ESTU_INSTPORAMIGOSESTUDIANDO¬ESTU_INSTPOROTRARAZON¬ESTU_RAZON_PROG_DESEADO¬ESTU_PROGORIENTACIONVOCACIONAL¬ESTU_PROGPORBUSCANDOCARRERA¬ESTU_PROGPORCOLOMBIAAPRENDE¬ESTU_PROGPORINTERESPERSONAL¬ESTU_PROGPORTRADICIONFAMILIAR¬ESTU_PROGPORMEJORARPOSICSOCIAL¬ESTU_PROGPORINFLUENCIAALGUIEN¬COLE_CODIGO_ICFES¬COLE_COD_DANE_ESTABLECIMIENTO¬COLE_NOMBRE_ESTABLECIMIENTO¬COLE_GENERO¬COLE_NATURALEZA¬COLE_CALENDARIO¬COLE_BILINGUE¬COLE_CARACTER¬COLE_COD_DANE_SEDE¬COLE_NOMBRE_SEDE¬COLE_SEDE_PRINCIPAL¬COLE_AREA_UBICACION¬COLE_COD_MCPIO_UBICACION¬COLE_JORNADA¬COLE_MCPIO_UBICACION¬COLE_COD_DEPTO_UBICACION¬COLE_DEPTO_UBICACION¬ESTU_PRIVADO_LIBERTAD¬ESTU_COD_MCPIO_PRESENTACION¬ESTU_MCPIO_PRESENTACION¬ESTU_DEPTO_PRESENTACION¬ESTU_COD_DEPTO_PRESENTACION¬PUNT_MATEMATICAS¬PUNT_INGLES¬DESEMP_INGLES¬PUNT_CIENCIAS_SOCIALES¬PUNT_BIOLOGIA¬PUNT_FILOSOFIA¬PUNT_FISICA¬PUNT_QUIMICA¬PUNT_LENGUAJE¬PUNT_INTERDISC_MEDIOAMBIENTE¬PUNT_INTERDISC_VIOLENCIAYSOC¬PUNT_PROFUNDIZA_BIOLOGIA¬DESEMP_PROFUNDIZA_BIOLOGIA¬PUNT_PROFUNDIZA_CSOCIALES¬DESEMP_PROFUNDIZA_CSOCIALES¬PUNT_PROFUNDIZA_LENGUAJE¬DESEMP_PROFUNDIZA_LENGUAJE¬PUNT_PROFUNDIZA_MATEMATICA¬DESEMP_PROFUNDIZA_MATEMATICA¬ESTU_PUESTO¬RECAF_PUNT_SOCIALES_CIUDADANAS¬RECAF_PUNT_INGLES¬RECAF_PUNT_LECTURA_CRITICA¬RECAF_PUNT_MATEMATICAS¬RECAF_PUNT_C_NATURALES¬ESTU_ESTADOINVESTIGACION\n",
      "\n",
      "Archivo: SB11_20131.txt\n",
      "ESTU_TIPODOCUMENTO¬ESTU_NACIONALIDAD¬ESTU_GENERO¬ESTU_FECHANACIMIENTO¬PERIODO¬ESTU_CONSECUTIVO¬ESTU_ESTUDIANTE¬ESTU_PAIS_RESIDE¬ESTU_DEPTO_RESIDE¬ESTU_COD_RESIDE_DEPTO¬ESTU_MCPIO_RESIDE¬ESTU_COD_RESIDE_MCPIO¬ESTU_AREARESIDE¬ESTU_VALORPENSIONCOLEGIO¬ESTU_VECESPRESENTOEXAMEN¬FAMI_EDUCACIONPADRE¬FAMI_EDUCACIONMADRE¬FAMI_OCUPACIONPADRE¬FAMI_OCUPACIONMADRE¬FAMI_ESTRATOVIVIENDA¬FAMI_NIVELSISBEN¬FAMI_PERSONASHOGAR¬FAMI_CUARTOSHOGAR¬FAMI_PISOSHOGAR¬FAMI_TIENEINTERNET¬FAMI_TIENECOMPUTADOR¬FAMI_TIENELAVADORA¬FAMI_TIENEMICROONDAS¬FAMI_TIENEHORNO¬FAMI_TIENETELEVISOR¬FAMI_TIENEAUTOMOVIL¬FAMI_TIENEDVD¬FAMI_TIENE_NEVERA¬FAMI_TIENE_CELULAR¬FAMI_TELEFONO¬FAMI_INGRESOFMILIARMENSUAL¬ESTU_TRABAJAACTUALMENTE¬ESTU_RECIBESALARIO¬ESTU_ANTECEDENTES¬ESTU_ANOSPREESCOLAR¬ESTU_ANOMATRICULAPRIMERO¬ESTU_ANOTERMINOQUINTO¬ESTU_ANOMATRICULASEXTO¬ESTU_REPROBOPRIMERO¬ESTU_REPROBOSEGUNDO¬ESTU_REPROBOTERCERO¬ESTU_REPROBOCUARTO¬ESTU_REPROBOQUINTO¬ESTU_REPROBOSEXTO¬ESTU_REPROBOSEPTIMO¬ESTU_REPROBOOCTAVO¬ESTU_REPROBONOVENO¬ESTU_REPROBODECIMO¬ESTU_REPROBOONCEMAS¬ESTU_ANOSCOLEGIOACTUAL¬ESTU_CUANTOSCOLEGIOESTUDIO¬ESTU_SERETIROCOLEGIO¬ESTU_RAZONRETIROCOLEGIO¬ESTU_TOTALALUMNOSCURSO¬ESTU_TIPOCARRERADESEADA¬ESTU_IESDESEADA¬ESTU_COD_MCPIOIESDESEADA¬ESTU_MCPIOIESDESEADA¬ESTU_PROGRAMADESEADO¬ESTU_INSTPORPRESTIGIO¬ESTU_INSTPORCOSTOMATRICULA¬ESTU_INSTPORUBICACION¬ESTU_INSTPORUNICAQUEOFRECE¬ESTU_INSTPOROPORTUNIDADES¬ESTU_INSTPORAMIGOSESTUDIANDO¬ESTU_INSTPOROTRARAZON¬ESTU_PROGORIENTACIONVOCACIONAL¬ESTU_PROGPORBUSCANDOCARRERA¬ESTU_PROGPORCOLOMBIAAPRENDE¬ESTU_PROGPORINTERESPERSONAL¬ESTU_PROGPORTRADICIONFAMILIAR¬ESTU_PROGPORMEJORARPOSICSOCIAL¬ESTU_PROGPORINFLUENCIAALGUIEN¬ESTU_EXPECTATIVAS¬ESTU_INGRESAR_PROG_EDUSUPERIOR¬ESTU_PUNT_ESPERADO_LENGUAJE¬ESTU_PUNT_ESPERADO_MATEMATICAS¬ESTU_PUNT_ESPERADO_INGLES¬ESTU_SALARIO_ESPERADOBACHILLER¬ESTU_SALARIO_ESPERADOTECNICO¬ESTU_SALARIO_ESPERADOPROFESI¬PUNT_CIENCIAS_SOCIALES¬COLE_CODIGO_ICFES¬COLE_COD_DANE_ESTABLECIMIENTO¬COLE_NOMBRE_ESTABLECIMIENTO¬COLE_GENERO¬COLE_NATURALEZA¬COLE_CALENDARIO¬COLE_BILINGUE¬COLE_CARACTER¬COLE_COD_DANE_SEDE¬COLE_NOMBRE_SEDE¬COLE_SEDE_PRINCIPAL¬COLE_AREA_UBICACION¬COLE_JORNADA¬COLE_COD_MCPIO_UBICACION¬COLE_MCPIO_UBICACION¬COLE_COD_DEPTO_UBICACION¬COLE_DEPTO_UBICACION¬ESTU_PRIVADO_LIBERTAD¬ESTU_COD_MCPIO_PRESENTACION¬ESTU_MCPIO_PRESENTACION¬ESTU_DEPTO_PRESENTACION¬ESTU_COD_DEPTO_PRESENTACION¬PUNT_MATEMATICAS¬PUNT_INGLES¬DESEMP_INGLES¬PUNT_BIOLOGIA¬PUNT_FILOSOFIA¬PUNT_INTERDISC_MEDIOAMBIENTE¬PUNT_FISICA¬PUNT_INTERDISC_VIOLENCIAYSOC¬PUNT_PROFUNDIZA_BIOLOGIA¬PUNT_QUIMICA¬DESEMP_PROFUNDIZA_BIOLOGIA¬PUNT_LENGUAJE¬PUNT_PROFUNDIZA_CSOCIALES¬DESEMP_PROFUNDIZA_CSOCIALES¬PUNT_PROFUNDIZA_LENGUAJE¬DESEMP_PROFUNDIZA_LENGUAJE¬PUNT_PROFUNDIZA_MATEMATICA¬DESEMP_PROFUNDIZA_MATEMATICA¬ESTU_PUESTO¬RECAF_PUNT_SOCIALES_CIUDADANAS¬RECAF_PUNT_INGLES¬RECAF_PUNT_LECTURA_CRITICA¬RECAF_PUNT_MATEMATICAS¬RECAF_PUNT_C_NATURALES¬ESTU_ESTADOINVESTIGACION\n",
      "\n",
      "Archivo: SB11_20132.txt\n",
      "ESTU_TIPODOCUMENTO¬ESTU_NACIONALIDAD¬ESTU_GENERO¬ESTU_FECHANACIMIENTO¬PERIODO¬ESTU_CONSECUTIVO¬ESTU_ESTUDIANTE¬ESTU_PAIS_RESIDE¬ESTU_DEPTO_RESIDE¬ESTU_COD_RESIDE_DEPTO¬ESTU_MCPIO_RESIDE¬ESTU_COD_RESIDE_MCPIO¬ESTU_AREARESIDE¬ESTU_VALORPENSIONCOLEGIO¬ESTU_VECESPRESENTOEXAMEN¬FAMI_EDUCACIONPADRE¬FAMI_EDUCACIONMADRE¬FAMI_OCUPACIONPADRE¬FAMI_OCUPACIONMADRE¬FAMI_ESTRATOVIVIENDA¬FAMI_NIVELSISBEN¬FAMI_PERSONASHOGAR¬FAMI_CUARTOSHOGAR¬FAMI_PISOSHOGAR¬FAMI_TIENEINTERNET¬FAMI_TIENECOMPUTADOR¬FAMI_TIENELAVADORA¬FAMI_TIENEMICROONDAS¬FAMI_TIENEHORNO¬FAMI_TIENETELEVISOR¬FAMI_TIENEAUTOMOVIL¬FAMI_TIENEDVD¬FAMI_TIENE_NEVERA¬FAMI_TIENE_CELULAR¬FAMI_TELEFONO¬FAMI_INGRESOFMILIARMENSUAL¬ESTU_TRABAJAACTUALMENTE¬ESTU_RECIBESALARIO¬ESTU_ANTECEDENTES¬ESTU_ANOSPREESCOLAR¬ESTU_ANOMATRICULAPRIMERO¬ESTU_ANOTERMINOQUINTO¬ESTU_ANOMATRICULASEXTO¬ESTU_REPROBOPRIMERO¬ESTU_REPROBOSEGUNDO¬ESTU_REPROBOTERCERO¬ESTU_REPROBOCUARTO¬ESTU_REPROBOQUINTO¬ESTU_REPROBOSEXTO¬ESTU_REPROBOSEPTIMO¬ESTU_REPROBOOCTAVO¬ESTU_REPROBONOVENO¬ESTU_REPROBODECIMO¬ESTU_REPROBOONCEMAS¬ESTU_ANOSCOLEGIOACTUAL¬ESTU_CUANTOSCOLEGIOESTUDIO¬ESTU_SERETIROCOLEGIO¬ESTU_RAZONRETIROCOLEGIO¬ESTU_TOTALALUMNOSCURSO¬ESTU_TIPOCARRERADESEADA¬ESTU_MCPIOIESDESEADA¬ESTU_COD_MCPIOIESDESEADA¬ESTU_IESDESEADA¬ESTU_PROGRAMADESEADO¬ESTU_INSTPORPRESTIGIO¬ESTU_INSTPORCOSTOMATRICULA¬ESTU_INSTPORUBICACION¬ESTU_INSTPORUNICAQUEOFRECE¬ESTU_INSTPOROPORTUNIDADES¬ESTU_INSTPORAMIGOSESTUDIANDO¬ESTU_INSTPOROTRARAZON¬ESTU_PROGORIENTACIONVOCACIONAL¬ESTU_PROGPORBUSCANDOCARRERA¬ESTU_PROGPORCOLOMBIAAPRENDE¬ESTU_PROGPORINTERESPERSONAL¬ESTU_PROGPORTRADICIONFAMILIAR¬ESTU_PROGPORMEJORARPOSICSOCIAL¬ESTU_PROGPORINFLUENCIAALGUIEN¬ESTU_EXPECTATIVAS¬ESTU_INGRESAR_PROG_EDUSUPERIOR¬ESTU_PUNT_ESPERADO_LENGUAJE¬ESTU_PUNT_ESPERADO_MATEMATICAS¬ESTU_PUNT_ESPERADO_INGLES¬ESTU_SALARIO_ESPERADOBACHILLER¬ESTU_SALARIO_ESPERADOTECNICO¬ESTU_SALARIO_ESPERADOPROFESI¬COLE_CODIGO_ICFES¬COLE_COD_DANE_ESTABLECIMIENTO¬COLE_NOMBRE_ESTABLECIMIENTO¬COLE_GENERO¬COLE_NATURALEZA¬COLE_CALENDARIO¬COLE_BILINGUE¬COLE_CARACTER¬COLE_COD_DANE_SEDE¬COLE_NOMBRE_SEDE¬COLE_SEDE_PRINCIPAL¬COLE_AREA_UBICACION¬COLE_JORNADA¬COLE_COD_MCPIO_UBICACION¬COLE_MCPIO_UBICACION¬COLE_COD_DEPTO_UBICACION¬COLE_DEPTO_UBICACION¬ESTU_PRIVADO_LIBERTAD¬ESTU_COD_MCPIO_PRESENTACION¬ESTU_MCPIO_PRESENTACION¬ESTU_DEPTO_PRESENTACION¬ESTU_COD_DEPTO_PRESENTACION¬PUNT_MATEMATICAS¬PUNT_PROFUNDIZA_MATEMATICA¬PUNT_CIENCIAS_SOCIALES¬DESEMP_PROFUNDIZA_MATEMATICA¬PUNT_PROFUNDIZA_CSOCIALES¬DESEMP_PROFUNDIZA_CSOCIALES¬PUNT_INGLES¬DESEMP_INGLES¬PUNT_BIOLOGIA¬PUNT_FILOSOFIA¬PUNT_PROFUNDIZA_BIOLOGIA¬PUNT_FISICA¬DESEMP_PROFUNDIZA_BIOLOGIA¬PUNT_INTERDISC_MEDIOAMBIENTE¬PUNT_QUIMICA¬PUNT_LENGUAJE¬PUNT_PROFUNDIZA_LENGUAJE¬DESEMP_PROFUNDIZA_LENGUAJE¬PUNT_INTERDISC_VIOLENCIAYSOC¬ESTU_PUESTO¬RECAF_PUNT_SOCIALES_CIUDADANAS¬RECAF_PUNT_INGLES¬RECAF_PUNT_LECTURA_CRITICA¬RECAF_PUNT_MATEMATICAS¬RECAF_PUNT_C_NATURALES¬ESTU_ESTADOINVESTIGACION\n",
      "\n",
      "Archivo: SB11_20141.txt\n",
      "ESTU_TIPODOCUMENTO¬ESTU_NACIONALIDAD¬ESTU_GENERO¬ESTU_FECHANACIMIENTO¬PERIODO¬ESTU_CONSECUTIVO¬ESTU_ESTUDIANTE¬ESTU_PAIS_RESIDE¬ESTU_DEPTO_RESIDE¬ESTU_COD_RESIDE_DEPTO¬ESTU_MCPIO_RESIDE¬ESTU_COD_RESIDE_MCPIO¬ESTU_AREARESIDE¬ESTU_VALORPENSIONCOLEGIO¬ESTU_VECESPRESENTOEXAMEN¬FAMI_EDUCACIONPADRE¬FAMI_EDUCACIONMADRE¬FAMI_OCUPACIONPADRE¬FAMI_OCUPACIONMADRE¬FAMI_ESTRATOVIVIENDA¬FAMI_NIVELSISBEN¬FAMI_PERSONASHOGAR¬FAMI_CUARTOSHOGAR¬FAMI_PISOSHOGAR¬FAMI_TIENEINTERNET¬FAMI_TIENECOMPUTADOR¬FAMI_TIENELAVADORA¬FAMI_TIENEMICROONDAS¬FAMI_TIENEHORNO¬FAMI_TIENETELEVISOR¬FAMI_TIENEAUTOMOVIL¬FAMI_TIENEDVD¬FAMI_TIENE_NEVERA¬FAMI_TIENE_CELULAR¬FAMI_TELEFONO¬FAMI_INGRESOFMILIARMENSUAL¬ESTU_TRABAJAACTUALMENTE¬ESTU_RECIBESALARIO¬ESTU_ANTECEDENTES¬ESTU_ANOSPREESCOLAR¬ESTU_ANOMATRICULAPRIMERO¬ESTU_ANOTERMINOQUINTO¬ESTU_ANOMATRICULASEXTO¬ESTU_REPROBOPRIMERO¬ESTU_REPROBOSEGUNDO¬ESTU_REPROBOTERCERO¬ESTU_REPROBOCUARTO¬ESTU_REPROBOQUINTO¬ESTU_REPROBOSEXTO¬ESTU_REPROBOSEPTIMO¬ESTU_REPROBOOCTAVO¬ESTU_REPROBONOVENO¬ESTU_REPROBODECIMO¬ESTU_REPROBOONCEMAS¬ESTU_ANOSCOLEGIOACTUAL¬ESTU_CUANTOSCOLEGIOESTUDIO¬ESTU_SERETIROCOLEGIO¬ESTU_RAZONRETIROCOLEGIO¬ESTU_TOTALALUMNOSCURSO¬ESTU_TIPOCARRERADESEADA¬ESTU_COD_IESDESEADA¬ESTU_IESDESEADA¬ESTU_COD_MCPIOIESDESEADA¬ESTU_MCPIOIESDESEADA¬ESTU_PROGRAMADESEADO¬ESTU_INSTPORPRESTIGIO¬ESTU_INSTPORCOSTOMATRICULA¬ESTU_INSTPORUBICACION¬ESTU_INSTPORUNICAQUEOFRECE¬ESTU_INSTPOROPORTUNIDADES¬ESTU_INSTPORAMIGOSESTUDIANDO¬ESTU_INSTPOROTRARAZON¬ESTU_COD_PROGRAMADESEADO¬ESTU_PROGORIENTACIONVOCACIONAL¬ESTU_PROGPORBUSCANDOCARRERA¬ESTU_PROGPORCOLOMBIAAPRENDE¬ESTU_PROGPORINTERESPERSONAL¬ESTU_PROGPORTRADICIONFAMILIAR¬ESTU_PROGPORMEJORARPOSICSOCIAL¬ESTU_PROGPORINFLUENCIAALGUIEN¬ESTU_EXPECTATIVAS¬ESTU_INGRESAR_PROG_EDUSUPERIOR¬ESTU_PUNT_ESPERADO_LENGUAJE¬ESTU_PUNT_ESPERADO_MATEMATICAS¬ESTU_PUNT_ESPERADO_INGLES¬ESTU_SALARIO_ESPERADOBACHILLER¬ESTU_SALARIO_ESPERADOTECNICO¬ESTU_SALARIO_ESPERADOPROFESI¬COLE_CODIGO_ICFES¬COLE_COD_DANE_ESTABLECIMIENTO¬COLE_NOMBRE_ESTABLECIMIENTO¬COLE_GENERO¬COLE_NATURALEZA¬COLE_CALENDARIO¬COLE_BILINGUE¬COLE_CARACTER¬COLE_COD_DANE_SEDE¬COLE_NOMBRE_SEDE¬COLE_SEDE_PRINCIPAL¬COLE_AREA_UBICACION¬COLE_JORNADA¬COLE_COD_MCPIO_UBICACION¬COLE_MCPIO_UBICACION¬COLE_COD_DEPTO_UBICACION¬COLE_DEPTO_UBICACION¬ESTU_PRIVADO_LIBERTAD¬ESTU_COD_MCPIO_PRESENTACION¬ESTU_MCPIO_PRESENTACION¬ESTU_DEPTO_PRESENTACION¬ESTU_COD_DEPTO_PRESENTACION¬PUNT_MATEMATICAS¬PUNT_PROFUNDIZA_MATEMATICA¬DESEMP_PROFUNDIZA_MATEMATICA¬PUNT_CIENCIAS_SOCIALES¬PUNT_PROFUNDIZA_CSOCIALES¬DESEMP_PROFUNDIZA_CSOCIALES¬PUNT_INGLES¬DESEMP_INGLES¬PUNT_BIOLOGIA¬PUNT_PROFUNDIZA_BIOLOGIA¬DESEMP_PROFUNDIZA_BIOLOGIA¬PUNT_FILOSOFIA¬PUNT_INTERDISC_MEDIOAMBIENTE¬PUNT_FISICA¬PUNT_QUIMICA¬PUNT_LENGUAJE¬PUNT_PROFUNDIZA_LENGUAJE¬DESEMP_PROFUNDIZA_LENGUAJE¬PUNT_INTERDISC_VIOLENCIAYSOC¬ESTU_PUESTO¬RECAF_PUNT_SOCIALES_CIUDADANAS¬RECAF_PUNT_INGLES¬RECAF_PUNT_LECTURA_CRITICA¬RECAF_PUNT_MATEMATICAS¬RECAF_PUNT_C_NATURALES¬ESTU_ESTADOINVESTIGACION\n",
      "\n",
      "Archivo: SB11_20142.txt\n",
      "ESTU_TIPODOCUMENTO¬ESTU_NACIONALIDAD¬ESTU_GENERO¬ESTU_FECHANACIMIENTO¬PERIODO¬ESTU_CONSECUTIVO¬ESTU_ESTUDIANTE¬ESTU_PAIS_RESIDE¬ESTU_ETNIA¬ESTU_LIMITA_MOTRIZ¬ESTU_LIMITA_INVIDENTE¬ESTU_LIMITA_CONDICIONESPECIAL¬ESTU_LIMITA_SORDO¬ESTU_LIMITA_SDOWN¬ESTU_LIMITA_AUTISMO¬ESTU_DEPTO_RESIDE¬ESTU_COD_RESIDE_DEPTO¬ESTU_MCPIO_RESIDE¬ESTU_COD_RESIDE_MCPIO¬ESTU_AREARESIDE¬ESTU_VALORPENSIONCOLEGIO¬ESTU_VECESPRESENTOEXAMEN¬FAMI_EDUCACIONPADRE¬FAMI_EDUCACIONMADRE¬FAMI_OCUPACIONPADRE¬FAMI_OCUPACIONMADRE¬FAMI_ESTRATOVIVIENDA¬FAMI_NIVELSISBEN¬FAMI_PERSONASHOGAR¬FAMI_CUARTOSHOGAR¬FAMI_PISOSHOGAR¬FAMI_TIENEINTERNET¬FAMI_TIENECOMPUTADOR¬FAMI_TIENELAVADORA¬FAMI_TIENEMICROONDAS¬FAMI_TIENEHORNO¬FAMI_TIENESERVICIOTV¬FAMI_TIENEAUTOMOVIL¬FAMI_TIENEDVD¬FAMI_TIENE_NEVERA¬FAMI_TIENE_CELULAR¬FAMI_TELEFONO¬FAMI_INGRESOFMILIARMENSUAL¬ESTU_TRABAJAACTUALMENTE¬ESTU_RECIBESALARIO¬ESTU_ANOSPREESCOLAR¬ESTU_ANOMATRICULAPRIMERO¬ESTU_ANOTERMINOQUINTO¬ESTU_ANOMATRICULASEXTO¬ESTU_ANTECEDENTES¬ESTU_REPROBOPRIMERO¬ESTU_REPROBOSEGUNDO¬ESTU_REPROBOTERCERO¬ESTU_REPROBOCUARTO¬ESTU_REPROBOQUINTO¬ESTU_REPROBOSEXTO¬ESTU_REPROBOSEPTIMO¬ESTU_REPROBOOCTAVO¬ESTU_REPROBONOVENO¬ESTU_REPROBODECIMO¬ESTU_REPROBOONCEMAS¬ESTU_ANOSCOLEGIOACTUAL¬ESTU_CUANTOSCOLEGIOESTUDIO¬ESTU_SERETIROCOLEGIO¬ESTU_RAZONRETIROCOLEGIO¬ESTU_TOTALALUMNOSCURSO¬ESTU_TIPOCARRERADESEADA¬ESTU_IESDESEADA¬ESTU_COD_IESDESEADA¬ESTU_MCPIOIESDESEADA¬ESTU_COD_MCPIOIESDESEADA¬ESTU_INSTPORPRESTIGIO¬ESTU_INSTPORCOSTOMATRICULA¬ESTU_INSTPORUBICACION¬ESTU_INSTPORUNICAQUEOFRECE¬ESTU_INSTPOROPORTUNIDADES¬ESTU_INSTPORAMIGOSESTUDIANDO¬ESTU_INSTPOROTRARAZON¬ESTU_COD_PROGRAMADESEADO¬ESTU_PROGRAMADESEADO¬ESTU_PROGORIENTACIONVOCACIONAL¬ESTU_PROGPORBUSCANDOCARRERA¬ESTU_PROGPORCOLOMBIAAPRENDE¬ESTU_PROGPORINTERESPERSONAL¬ESTU_PROGPORTRADICIONFAMILIAR¬ESTU_PROGPORMEJORARPOSICSOCIAL¬ESTU_PROGPORINFLUENCIAALGUIEN¬ESTU_EXPECTATIVAS¬ESTU_INGRESAR_PROG_EDUSUPERIOR¬ESTU_PUNT_ESPERADO_LENGUAJE¬ESTU_PUNT_ESPERADO_MATEMATICAS¬ESTU_PUNT_ESPERADO_INGLES¬ESTU_SALARIO_ESPERADOBACHILLER¬ESTU_SALARIO_ESPERADOTECNICO¬ESTU_SALARIO_ESPERADOPROFESI¬COLE_CODIGO_ICFES¬COLE_COD_DANE_ESTABLECIMIENTO¬COLE_NOMBRE_ESTABLECIMIENTO¬COLE_GENERO¬COLE_NATURALEZA¬COLE_CALENDARIO¬COLE_BILINGUE¬COLE_CARACTER¬COLE_COD_DANE_SEDE¬COLE_NOMBRE_SEDE¬COLE_SEDE_PRINCIPAL¬COLE_AREA_UBICACION¬COLE_JORNADA¬COLE_COD_MCPIO_UBICACION¬COLE_MCPIO_UBICACION¬COLE_COD_DEPTO_UBICACION¬COLE_DEPTO_UBICACION¬ESTU_PRIVADO_LIBERTAD¬ESTU_COD_MCPIO_PRESENTACION¬ESTU_MCPIO_PRESENTACION¬ESTU_DEPTO_PRESENTACION¬ESTU_COD_DEPTO_PRESENTACION¬PUNT_LECTURA_CRITICA¬DECIL_LECTURA_CRITICA¬PUNT_MATEMATICAS¬DECIL_MATEMATICAS¬PUNT_C_NATURALES¬DECIL_C_NATURALES¬PUNT_SOCIALES_CIUDADANAS¬DECIL_SOCIALES_CIUDADANAS¬PUNT_RAZONA_CUANTITATIVO¬DECIL_RAZONA_CUANTITATIVO¬PUNT_COMP_CIUDADANA¬DECIL_COMP_CIUDADANA¬PUNT_INGLES¬DECIL_INGLES¬DESEMP_INGLES¬PUNT_GLOBAL¬ESTU_PUESTO¬ESTU_INSE_INDIVIDUAL¬ESTU_NSE_INDIVIDUAL¬ESTU_ESTADOINVESTIGACION\n",
      "\n"
     ]
    },
    {
     "name": "stdout",
     "output_type": "stream",
     "text": [
      "Archivo: SB11_20151.txt\n",
      "ESTU_TIPODOCUMENTO¬ESTU_NACIONALIDAD¬ESTU_GENERO¬ESTU_FECHANACIMIENTO¬PERIODO¬ESTU_CONSECUTIVO¬ESTU_ESTUDIANTE¬ESTU_PAIS_RESIDE¬ESTU_ETNIA¬ESTU_LIMITA_MOTRIZ¬ESTU_LIMITA_INVIDENTE¬ESTU_LIMITA_CONDICIONESPECIAL¬ESTU_LIMITA_SORDO¬ESTU_LIMITA_SDOWN¬ESTU_LIMITA_AUTISMO¬ESTU_DEPTO_RESIDE¬ESTU_COD_RESIDE_DEPTO¬ESTU_MCPIO_RESIDE¬ESTU_COD_RESIDE_MCPIO¬ESTU_AREARESIDE¬ESTU_VALORPENSIONCOLEGIO¬ESTU_VECESPRESENTOEXAMEN¬FAMI_EDUCACIONPADRE¬FAMI_EDUCACIONMADRE¬FAMI_OCUPACIONPADRE¬FAMI_OCUPACIONMADRE¬FAMI_NUMHERMANOS¬FAMI_ESTRATOVIVIENDA¬FAMI_NIVELSISBEN¬FAMI_PERSONASHOGAR¬FAMI_CUARTOSHOGAR¬FAMI_PISOSHOGAR¬FAMI_TIENEINTERNET¬FAMI_TIENECOMPUTADOR¬FAMI_TIENELAVADORA¬FAMI_TIENEMICROONDAS¬FAMI_TIENEHORNO¬FAMI_TIENESERVICIOTV¬FAMI_TIENEAUTOMOVIL¬FAMI_TIENEDVD¬FAMI_TELEFONO¬FAMI_NUMLIBROS¬FAMI_INGRESOFMILIARMENSUAL¬ESTU_TRABAJAACTUALMENTE¬ESTU_RECIBESALARIO¬ESTU_ANTECEDENTES¬ESTU_ANOSPREESCOLAR¬ESTU_ANOMATRICULAPRIMERO¬ESTU_ANOTERMINOQUINTO¬ESTU_ANOMATRICULASEXTO¬ESTU_REPROBOPRIMERO¬ESTU_REPROBOSEGUNDO¬ESTU_REPROBOTERCERO¬ESTU_REPROBOCUARTO¬ESTU_REPROBOQUINTO¬ESTU_REPROBOSEXTO¬ESTU_REPROBOSEPTIMO¬ESTU_REPROBOOCTAVO¬ESTU_REPROBONOVENO¬ESTU_REPROBOONCEMAS¬ESTU_ANOSCOLEGIOACTUAL¬ESTU_CUANTOSCOLEGIOESTUDIO¬ESTU_SERETIROCOLEGIO¬ESTU_RAZONRETIROCOLEGIO¬ESTU_TOTALALUMNOSCURSO¬ESTU_VECESFALTOCOLEGIO¬ESTU_PROMEDIOSALON¬ESTU_TIPOCARRERADESEADA¬ESTU_IESDESEADA¬ESTU_COD_IESDESEADA¬ESTU_MCPIOIESDESEADA¬ESTU_COD_MCPIOIESDESEADA¬ESTU_INSTPORPRESTIGIO¬ESTU_INSTPORCOSTOMATRICULA¬ESTU_INSTPORUBICACION¬ESTU_INSTPORUNICAQUEOFRECE¬ESTU_INSTPOROPORTUNIDADES¬ESTU_INSTPORAMIGOSESTUDIANDO¬ESTU_INSTPOROTRARAZON¬ESTU_COD_PROGRAMADESEADO¬ESTU_PROGRAMADESEADO¬ESTU_PROGORIENTACIONVOCACIONAL¬ESTU_PROGPORBUSCANDOCARRERA¬ESTU_PROGPORCOLOMBIAAPRENDE¬ESTU_PROGPORINTERESPERSONAL¬ESTU_PROGPORTRADICIONFAMILIAR¬ESTU_PROGPORMEJORARPOSICSOCIAL¬ESTU_PROGPORINFLUENCIAALGUIEN¬COLE_CODIGO_ICFES¬COLE_COD_DANE_ESTABLECIMIENTO¬COLE_NOMBRE_ESTABLECIMIENTO¬COLE_GENERO¬COLE_NATURALEZA¬COLE_CALENDARIO¬COLE_BILINGUE¬COLE_CARACTER¬COLE_COD_DANE_SEDE¬COLE_NOMBRE_SEDE¬COLE_SEDE_PRINCIPAL¬COLE_AREA_UBICACION¬COLE_JORNADA¬COLE_COD_MCPIO_UBICACION¬COLE_MCPIO_UBICACION¬COLE_COD_DEPTO_UBICACION¬COLE_DEPTO_UBICACION¬ESTU_PRIVADO_LIBERTAD¬ESTU_COD_MCPIO_PRESENTACION¬ESTU_MCPIO_PRESENTACION¬ESTU_DEPTO_PRESENTACION¬ESTU_COD_DEPTO_PRESENTACION¬PUNT_LECTURA_CRITICA¬DECIL_LECTURA_CRITICA¬PUNT_MATEMATICAS¬DECIL_MATEMATICAS¬PUNT_C_NATURALES¬DECIL_C_NATURALES¬PUNT_SOCIALES_CIUDADANAS¬DECIL_SOCIALES_CIUDADANAS¬PUNT_RAZONA_CUANTITATIVO¬DECIL_RAZONA_CUANTITATIVO¬PUNT_COMP_CIUDADANA¬DECIL_COMP_CIUDADANA¬PUNT_INGLES¬DECIL_INGLES¬DESEMP_INGLES¬PUNT_GLOBAL¬ESTU_PUESTO¬ESTU_INSE_INDIVIDUAL¬ESTU_NSE_INDIVIDUAL¬ESTU_ESTADOINVESTIGACION\n",
      "\n",
      "Archivo: SB11_20152.txt\n",
      "ESTU_TIPODOCUMENTO¬ESTU_NACIONALIDAD¬ESTU_GENERO¬ESTU_FECHANACIMIENTO¬PERIODO¬ESTU_CONSECUTIVO¬ESTU_ESTUDIANTE¬ESTU_PAIS_RESIDE¬ESTU_TIENEETNIA¬ESTU_ETNIA¬ESTU_LIMITA_MOTRIZ¬ESTU_LIMITA_INVIDENTE¬ESTU_LIMITA_CONDICIONESPECIAL¬ESTU_LIMITA_SORDO¬ESTU_LIMITA_SDOWN¬ESTU_LIMITA_AUTISMO¬ESTU_DEPTO_RESIDE¬ESTU_COD_RESIDE_DEPTO¬ESTU_MCPIO_RESIDE¬ESTU_COD_RESIDE_MCPIO¬ESTU_AREARESIDE¬ESTU_VALORPENSIONCOLEGIO¬ESTU_VECESPRESENTOEXAMEN¬FAMI_EDUCACIONPADRE¬FAMI_EDUCACIONMADRE¬FAMI_OCUPACIONPADRE¬FAMI_OCUPACIONMADRE¬FAMI_NUMHERMANOS¬FAMI_ESTRATOVIVIENDA¬FAMI_NIVELSISBEN¬FAMI_PERSONASHOGAR¬FAMI_CUARTOSHOGAR¬FAMI_PISOSHOGAR¬FAMI_TIENEINTERNET¬FAMI_TIENECOMPUTADOR¬FAMI_TIENELAVADORA¬FAMI_TIENEMICROONDAS¬FAMI_TIENEHORNO¬FAMI_TIENESERVICIOTV¬FAMI_TIENEAUTOMOVIL¬FAMI_TIENEDVD¬FAMI_TELEFONO¬FAMI_NUMLIBROS¬FAMI_INGRESOFMILIARMENSUAL¬ESTU_TRABAJAACTUALMENTE¬ESTU_RECIBESALARIO¬COLE_CODIGO_ICFES¬COLE_COD_DANE_ESTABLECIMIENTO¬COLE_NOMBRE_ESTABLECIMIENTO¬COLE_GENERO¬COLE_NATURALEZA¬COLE_CALENDARIO¬COLE_BILINGUE¬COLE_CARACTER¬COLE_COD_DANE_SEDE¬COLE_NOMBRE_SEDE¬COLE_SEDE_PRINCIPAL¬COLE_AREA_UBICACION¬COLE_JORNADA¬COLE_COD_MCPIO_UBICACION¬COLE_MCPIO_UBICACION¬COLE_COD_DEPTO_UBICACION¬COLE_DEPTO_UBICACION¬ESTU_PRIVADO_LIBERTAD¬ESTU_COD_MCPIO_PRESENTACION¬ESTU_MCPIO_PRESENTACION¬ESTU_DEPTO_PRESENTACION¬ESTU_COD_DEPTO_PRESENTACION¬PUNT_LECTURA_CRITICA¬DECIL_LECTURA_CRITICA¬PUNT_MATEMATICAS¬DECIL_MATEMATICAS¬PUNT_C_NATURALES¬DECIL_C_NATURALES¬PUNT_SOCIALES_CIUDADANAS¬DECIL_SOCIALES_CIUDADANAS¬PUNT_RAZONA_CUANTITATIVO¬DECIL_RAZONA_CUANTITATIVO¬PUNT_COMP_CIUDADANA¬DECIL_COMP_CIUDADANA¬PUNT_INGLES¬DECIL_INGLES¬DESEMP_INGLES¬PUNT_GLOBAL¬ESTU_PUESTO¬ESTU_INSE_INDIVIDUAL¬ESTU_NSE_INDIVIDUAL¬ESTU_ESTADOINVESTIGACION\n",
      "\n",
      "Archivo: SB11_20161.txt\n",
      "ESTU_TIPODOCUMENTO¬ESTU_NACIONALIDAD¬ESTU_GENERO¬ESTU_FECHANACIMIENTO¬PERIODO¬ESTU_CONSECUTIVO¬ESTU_ESTUDIANTE¬ESTU_PAIS_RESIDE¬ESTU_TIENEETNIA¬ESTU_ETNIA¬ESTU_DEPTO_RESIDE¬ESTU_COD_RESIDE_DEPTO¬ESTU_MCPIO_RESIDE¬ESTU_COD_RESIDE_MCPIO¬ESTU_AREARESIDE¬ESTU_VALORPENSIONCOLEGIO¬ESTU_VECESPRESENTOEXAMEN¬FAMI_EDUCACIONPADRE¬FAMI_EDUCACIONMADRE¬FAMI_OCUPACIONPADRE¬FAMI_OCUPACIONMADRE¬FAMI_NUMHERMANOS¬FAMI_ESTRATOVIVIENDA¬FAMI_NIVELSISBEN¬FAMI_PERSONASHOGAR¬FAMI_CUARTOSHOGAR¬FAMI_PISOSHOGAR¬FAMI_TIENEINTERNET¬FAMI_TIENECOMPUTADOR¬FAMI_TIENELAVADORA¬FAMI_TIENEMICROONDAS¬FAMI_TIENEHORNO¬FAMI_TIENESERVICIOTV¬FAMI_TIENEAUTOMOVIL¬FAMI_TIENEDVD¬FAMI_TELEFONO¬FAMI_NUMLIBROS¬FAMI_INGRESOFMILIARMENSUAL¬ESTU_TRABAJAACTUALMENTE¬ESTU_RECIBESALARIO¬COLE_CODIGO_ICFES¬COLE_COD_DANE_ESTABLECIMIENTO¬COLE_NOMBRE_ESTABLECIMIENTO¬COLE_GENERO¬COLE_NATURALEZA¬COLE_CALENDARIO¬COLE_BILINGUE¬COLE_CARACTER¬COLE_COD_DANE_SEDE¬COLE_NOMBRE_SEDE¬COLE_SEDE_PRINCIPAL¬COLE_AREA_UBICACION¬COLE_JORNADA¬COLE_COD_MCPIO_UBICACION¬COLE_MCPIO_UBICACION¬COLE_COD_DEPTO_UBICACION¬COLE_DEPTO_UBICACION¬ESTU_PRIVADO_LIBERTAD¬ESTU_COD_MCPIO_PRESENTACION¬ESTU_MCPIO_PRESENTACION¬ESTU_DEPTO_PRESENTACION¬ESTU_COD_DEPTO_PRESENTACION¬PUNT_LECTURA_CRITICA¬PERCENTIL_LECTURA_CRITICA¬DESEMP_LECTURA_CRITICA¬PUNT_MATEMATICAS¬PERCENTIL_MATEMATICAS¬DESEMP_MATEMATICAS¬PUNT_C_NATURALES¬PERCENTIL_C_NATURALES¬DESEMP_C_NATURALES¬PUNT_SOCIALES_CIUDADANAS¬PERCENTIL_SOCIALES_CIUDADANAS¬DESEMP_SOCIALES_CIUDADANAS¬PUNT_INGLES¬PERCENTIL_INGLES¬DESEMP_INGLES¬PUNT_GLOBAL¬PERCENTIL_GLOBAL¬ESTU_INSE_INDIVIDUAL¬ESTU_NSE_INDIVIDUAL¬ESTU_NSE_ESTABLECIMIENTO¬ESTU_ESTADOINVESTIGACION\n",
      "\n",
      "Archivo: SB11_20162.txt\n",
      "ESTU_TIPODOCUMENTO¬ESTU_NACIONALIDAD¬ESTU_GENERO¬ESTU_FECHANACIMIENTO¬PERIODO¬ESTU_CONSECUTIVO¬ESTU_ESTUDIANTE¬ESTU_PAIS_RESIDE¬ESTU_TIENEETNIA¬ESTU_ETNIA¬ESTU_DEPTO_RESIDE¬ESTU_COD_RESIDE_DEPTO¬ESTU_MCPIO_RESIDE¬ESTU_COD_RESIDE_MCPIO¬ESTU_AREARESIDE¬ESTU_VALORPENSIONCOLEGIO¬ESTU_VECESPRESENTOEXAMEN¬FAMI_EDUCACIONPADRE¬FAMI_EDUCACIONMADRE¬FAMI_OCUPACIONPADRE¬FAMI_OCUPACIONMADRE¬FAMI_NUMHERMANOS¬FAMI_ESTRATOVIVIENDA¬FAMI_NIVELSISBEN¬FAMI_PERSONASHOGAR¬FAMI_CUARTOSHOGAR¬FAMI_PISOSHOGAR¬FAMI_TIENEINTERNET¬FAMI_TIENECOMPUTADOR¬FAMI_TIENELAVADORA¬FAMI_TIENEMICROONDAS¬FAMI_TIENEHORNO¬FAMI_TIENESERVICIOTV¬FAMI_TIENEAUTOMOVIL¬FAMI_TIENEDVD¬FAMI_TELEFONO¬FAMI_NUMLIBROS¬FAMI_INGRESOFMILIARMENSUAL¬ESTU_TRABAJAACTUALMENTE¬ESTU_RECIBESALARIO¬COLE_CODIGO_ICFES¬COLE_COD_DANE_ESTABLECIMIENTO¬COLE_NOMBRE_ESTABLECIMIENTO¬COLE_GENERO¬COLE_NATURALEZA¬COLE_CALENDARIO¬COLE_BILINGUE¬COLE_CARACTER¬COLE_COD_DANE_SEDE¬COLE_NOMBRE_SEDE¬COLE_SEDE_PRINCIPAL¬COLE_AREA_UBICACION¬COLE_JORNADA¬COLE_COD_MCPIO_UBICACION¬COLE_MCPIO_UBICACION¬COLE_COD_DEPTO_UBICACION¬COLE_DEPTO_UBICACION¬ESTU_PRIVADO_LIBERTAD¬ESTU_COD_MCPIO_PRESENTACION¬ESTU_MCPIO_PRESENTACION¬ESTU_DEPTO_PRESENTACION¬ESTU_COD_DEPTO_PRESENTACION¬PUNT_LECTURA_CRITICA¬PERCENTIL_LECTURA_CRITICA¬DESEMP_LECTURA_CRITICA¬PUNT_MATEMATICAS¬PERCENTIL_MATEMATICAS¬DESEMP_MATEMATICAS¬PUNT_C_NATURALES¬PERCENTIL_C_NATURALES¬DESEMP_C_NATURALES¬PUNT_SOCIALES_CIUDADANAS¬PERCENTIL_SOCIALES_CIUDADANAS¬DESEMP_SOCIALES_CIUDADANAS¬PUNT_INGLES¬PERCENTIL_INGLES¬DESEMP_INGLES¬PUNT_GLOBAL¬PERCENTIL_GLOBAL¬ESTU_INSE_INDIVIDUAL¬ESTU_NSE_INDIVIDUAL¬ESTU_NSE_ESTABLECIMIENTO¬ESTU_ESTADOINVESTIGACION\n",
      "\n",
      "Archivo: SB11_20171.txt\n",
      "ESTU_TIPODOCUMENTO¬ESTU_NACIONALIDAD¬ESTU_GENERO¬ESTU_FECHANACIMIENTO¬PERIODO¬ESTU_CONSECUTIVO¬ESTU_ESTUDIANTE¬ESTU_PAIS_RESIDE¬ESTU_TIENEETNIA¬ESTU_ETNIA¬ESTU_DEPTO_RESIDE¬ESTU_COD_RESIDE_DEPTO¬ESTU_MCPIO_RESIDE¬ESTU_COD_RESIDE_MCPIO¬FAMI_EDUCACIONPADRE¬FAMI_EDUCACIONMADRE¬FAMI_ESTRATOVIVIENDA¬FAMI_PERSONASHOGAR¬FAMI_CUARTOSHOGAR¬FAMI_TIENEINTERNET¬FAMI_TIENECOMPUTADOR¬FAMI_TIENELAVADORA¬FAMI_TIENEHORNOMICROOGAS¬FAMI_TIENESERVICIOTV¬FAMI_TIENEAUTOMOVIL¬FAMI_TIENEMOTOCICLETA¬FAMI_TIENECONSOLAVIDEOJUEGOS¬FAMI_NUMLIBROS¬FAMI_COMELECHEDERIVADOS¬FAMI_COMECARNEPESCADOHUEVO¬FAMI_COMECEREALFRUTOSLEGUMBRE¬FAMI_TRABAJOLABORPADRE¬FAMI_TRABAJOLABORMADRE¬FAMI_SITUACIONECONOMICA¬ESTU_DEDICACIONLECTURADIARIA¬ESTU_DEDICACIONINTERNET¬ESTU_HORASSEMANATRABAJA¬ESTU_TIPOREMUNERACION¬COLE_CODIGO_ICFES¬COLE_COD_DANE_ESTABLECIMIENTO¬COLE_NOMBRE_ESTABLECIMIENTO¬COLE_GENERO¬COLE_NATURALEZA¬COLE_CALENDARIO¬COLE_BILINGUE¬COLE_CARACTER¬COLE_COD_DANE_SEDE¬COLE_NOMBRE_SEDE¬COLE_SEDE_PRINCIPAL¬COLE_AREA_UBICACION¬COLE_JORNADA¬COLE_COD_MCPIO_UBICACION¬COLE_MCPIO_UBICACION¬COLE_COD_DEPTO_UBICACION¬COLE_DEPTO_UBICACION¬ESTU_PRIVADO_LIBERTAD¬ESTU_COD_MCPIO_PRESENTACION¬ESTU_MCPIO_PRESENTACION¬ESTU_DEPTO_PRESENTACION¬ESTU_COD_DEPTO_PRESENTACION¬PUNT_LECTURA_CRITICA¬PERCENTIL_LECTURA_CRITICA¬DESEMP_LECTURA_CRITICA¬PUNT_MATEMATICAS¬PERCENTIL_MATEMATICAS¬DESEMP_MATEMATICAS¬PUNT_C_NATURALES¬PERCENTIL_C_NATURALES¬DESEMP_C_NATURALES¬PUNT_SOCIALES_CIUDADANAS¬PERCENTIL_SOCIALES_CIUDADANAS¬DESEMP_SOCIALES_CIUDADANAS¬PUNT_INGLES¬PERCENTIL_INGLES¬DESEMP_INGLES¬PUNT_GLOBAL¬PERCENTIL_GLOBAL¬ESTU_INSE_INDIVIDUAL¬ESTU_NSE_INDIVIDUAL¬ESTU_NSE_ESTABLECIMIENTO¬ESTU_ESTADOINVESTIGACION\n",
      "\n",
      "Archivo: SB11_20172.txt\n",
      "estu_tipodocumento¬estu_nacionalidad¬estu_genero¬estu_fechanacimiento¬periodo¬estu_consecutivo¬estu_estudiante¬estu_pais_reside¬estu_tieneetnia¬estu_etnia¬estu_limita_motriz¬estu_limita_invidente¬estu_limita_condicionespecial¬estu_limita_sordo¬estu_limita_sdown¬estu_limita_autismo¬estu_depto_reside¬estu_cod_reside_depto¬estu_mcpio_reside¬estu_cod_reside_mcpio¬fami_educacionpadre¬fami_educacionmadre¬fami_estratovivienda¬fami_personashogar¬fami_cuartoshogar¬fami_tienecomputador¬fami_tienelavadora¬fami_tienehornomicroogas¬fami_tieneserviciotv¬fami_tieneautomovil¬fami_tienemotocicleta¬fami_tieneconsolavideojuegos¬fami_numlibros¬fami_comelechederivados¬fami_comecarnepescadohuevo¬fami_comecerealfrutoslegumbre¬fami_trabajolaborpadre¬fami_trabajolabormadre¬fami_situacioneconomica¬estu_dedicacionlecturadiaria¬estu_dedicacioninternet¬estu_horassemanatrabaja¬estu_tiporemuneracion¬cole_codigo_icfes¬cole_cod_dane_establecimiento¬cole_nombre_establecimiento¬cole_genero¬cole_naturaleza¬cole_calendario¬cole_bilingue¬cole_caracter¬cole_cod_dane_sede¬cole_nombre_sede¬cole_sede_principal¬cole_area_ubicacion¬cole_jornada¬cole_cod_mcpio_ubicacion¬cole_mcpio_ubicacion¬cole_cod_depto_ubicacion¬cole_depto_ubicacion¬estu_privado_libertad¬estu_cod_mcpio_presentacion¬estu_mcpio_presentacion¬estu_depto_presentacion¬estu_cod_depto_presentacion¬punt_lectura_critica¬percentil_lectura_critica¬desemp_lectura_critica¬punt_matematicas¬percentil_matematicas¬desemp_matematicas¬punt_c_naturales¬percentil_c_naturales¬desemp_c_naturales¬punt_sociales_ciudadanas¬percentil_sociales_ciudadanas¬desemp_sociales_ciudadanas¬punt_ingles¬percentil_ingles¬desemp_ingles¬punt_global¬percentil_global¬estu_inse_individual¬estu_nse_individual¬estu_nse_establecimiento¬estu_pilopaga\n",
      "\n",
      "Archivo: SB11_20181.txt\n",
      "estu_tipodocumento¬estu_nacionalidad¬estu_genero¬estu_fechanacimiento¬periodo¬estu_consecutivo¬estu_estudiante¬estu_pais_reside¬estu_tieneetnia¬estu_etnia¬estu_limita_motriz¬estu_limita_invidente¬estu_limita_condicionespecial¬estu_limita_sordo¬estu_limita_sdown¬estu_limita_autismo¬estu_depto_reside¬estu_cod_reside_depto¬estu_mcpio_reside¬estu_cod_reside_mcpio¬fami_estratovivienda¬fami_personashogar¬fami_cuartoshogar¬fami_educacionpadre¬fami_educacionmadre¬fami_trabajolaborpadre¬fami_trabajolabormadre¬fami_tieneinternet¬fami_tieneserviciotv¬fami_tienecomputador¬fami_tienelavadora¬fami_tienehornomicroogas¬fami_tieneautomovil¬fami_tienemotocicleta¬fami_tieneconsolavideojuegos¬fami_numlibros¬fami_comelechederivados¬fami_comecarnepescadohuevo¬fami_comecerealfrutoslegumbre¬fami_situacioneconomica¬estu_dedicacionlecturadiaria¬estu_dedicacioninternet¬estu_horassemanatrabaja¬estu_tiporemuneracion¬cole_codigo_icfes¬cole_cod_dane_establecimiento¬cole_nombre_establecimiento¬cole_genero¬cole_naturaleza¬cole_calendario¬cole_bilingue¬cole_caracter¬cole_cod_dane_sede¬cole_nombre_sede¬cole_sede_principal¬cole_area_ubicacion¬cole_jornada¬cole_cod_mcpio_ubicacion¬cole_mcpio_ubicacion¬cole_cod_depto_ubicacion¬cole_depto_ubicacion¬estu_privado_libertad¬estu_cod_mcpio_presentacion¬estu_mcpio_presentacion¬estu_depto_presentacion¬estu_cod_depto_presentacion¬punt_lectura_critica¬percentil_lectura_critica¬desemp_lectura_critica¬punt_matematicas¬percentil_matematicas¬desemp_matematicas¬punt_c_naturales¬percentil_c_naturales¬desemp_c_naturales¬punt_sociales_ciudadanas¬percentil_sociales_ciudadanas¬desemp_sociales_ciudadanas¬punt_ingles¬percentil_ingles¬desemp_ingles¬punt_global¬percentil_global¬estu_inse_individual¬estu_nse_individual¬estu_estadoinvestigacion¬estu_pilopaga\n",
      "\n",
      "Archivo: SB11_20182.txt\n",
      "ESTU_TIPODOCUMENTO¬ESTU_NACIONALIDAD¬ESTU_GENERO¬ESTU_FECHANACIMIENTO¬PERIODO¬ESTU_CONSECUTIVO¬ESTU_ESTUDIANTE¬ESTU_PAIS_RESIDE¬ESTU_TIENEETNIA¬ESTU_ETNIA¬ESTU_LIMITA_MOTRIZ¬ESTU_DEPTO_RESIDE¬ESTU_COD_RESIDE_DEPTO¬ESTU_MCPIO_RESIDE¬ESTU_COD_RESIDE_MCPIO¬FAMI_ESTRATOVIVIENDA¬FAMI_PERSONASHOGAR¬FAMI_CUARTOSHOGAR¬FAMI_EDUCACIONPADRE¬FAMI_EDUCACIONMADRE¬FAMI_TRABAJOLABORPADRE¬FAMI_TRABAJOLABORMADRE¬FAMI_TIENEINTERNET¬FAMI_TIENESERVICIOTV¬FAMI_TIENECOMPUTADOR¬FAMI_TIENELAVADORA¬FAMI_TIENEHORNOMICROOGAS¬FAMI_TIENEAUTOMOVIL¬FAMI_TIENEMOTOCICLETA¬FAMI_TIENECONSOLAVIDEOJUEGOS¬FAMI_NUMLIBROS¬FAMI_COMELECHEDERIVADOS¬FAMI_COMECARNEPESCADOHUEVO¬FAMI_COMECEREALFRUTOSLEGUMBRE¬FAMI_SITUACIONECONOMICA¬ESTU_DEDICACIONLECTURADIARIA¬ESTU_DEDICACIONINTERNET¬ESTU_HORASSEMANATRABAJA¬ESTU_TIPOREMUNERACION¬COLE_CODIGO_ICFES¬COLE_COD_DANE_ESTABLECIMIENTO¬COLE_NOMBRE_ESTABLECIMIENTO¬COLE_GENERO¬COLE_NATURALEZA¬COLE_CALENDARIO¬COLE_BILINGUE¬COLE_CARACTER¬COLE_COD_DANE_SEDE¬COLE_NOMBRE_SEDE¬COLE_SEDE_PRINCIPAL¬COLE_AREA_UBICACION¬COLE_JORNADA¬COLE_COD_MCPIO_UBICACION¬COLE_MCPIO_UBICACION¬COLE_COD_DEPTO_UBICACION¬COLE_DEPTO_UBICACION¬ESTU_PRIVADO_LIBERTAD¬ESTU_COD_MCPIO_PRESENTACION¬ESTU_MCPIO_PRESENTACION¬ESTU_DEPTO_PRESENTACION¬ESTU_COD_DEPTO_PRESENTACION¬PUNT_LECTURA_CRITICA¬PERCENTIL_LECTURA_CRITICA¬DESEMP_LECTURA_CRITICA¬PUNT_MATEMATICAS¬PERCENTIL_MATEMATICAS¬DESEMP_MATEMATICAS¬PUNT_C_NATURALES¬PERCENTIL_C_NATURALES¬DESEMP_C_NATURALES¬PUNT_SOCIALES_CIUDADANAS¬PERCENTIL_SOCIALES_CIUDADANAS¬DESEMP_SOCIALES_CIUDADANAS¬PUNT_INGLES¬PERCENTIL_INGLES¬DESEMP_INGLES¬PUNT_GLOBAL¬PERCENTIL_GLOBAL¬ESTU_NSE_ESTABLECIMIENTO¬ESTU_INSE_INDIVIDUAL¬ESTU_NSE_INDIVIDUAL¬ESTU_ESTADOINVESTIGACION¬ESTU_GENERACION-E\n",
      "\n"
     ]
    },
    {
     "name": "stdout",
     "output_type": "stream",
     "text": [
      "Archivo: SB11_20191.txt\n",
      "ESTU_TIPODOCUMENTO¬ESTU_NACIONALIDAD¬ESTU_GENERO¬ESTU_FECHANACIMIENTO¬PERIODO¬ESTU_CONSECUTIVO¬ESTU_ESTUDIANTE¬ESTU_PAIS_RESIDE¬ESTU_TIENEETNIA¬ESTU_ETNIA¬ESTU_DEPTO_RESIDE¬ESTU_COD_RESIDE_DEPTO¬ESTU_MCPIO_RESIDE¬ESTU_COD_RESIDE_MCPIO¬FAMI_ESTRATOVIVIENDA¬FAMI_PERSONASHOGAR¬FAMI_CUARTOSHOGAR¬FAMI_EDUCACIONPADRE¬FAMI_EDUCACIONMADRE¬FAMI_TRABAJOLABORPADRE¬FAMI_TRABAJOLABORMADRE¬FAMI_TIENEINTERNET¬FAMI_TIENESERVICIOTV¬FAMI_TIENECOMPUTADOR¬FAMI_TIENELAVADORA¬FAMI_TIENEHORNOMICROOGAS¬FAMI_TIENEAUTOMOVIL¬FAMI_TIENEMOTOCICLETA¬FAMI_TIENECONSOLAVIDEOJUEGOS¬FAMI_NUMLIBROS¬FAMI_COMELECHEDERIVADOS¬FAMI_COMECARNEPESCADOHUEVO¬FAMI_COMECEREALFRUTOSLEGUMBRE¬FAMI_SITUACIONECONOMICA¬ESTU_DEDICACIONLECTURADIARIA¬ESTU_DEDICACIONINTERNET¬ESTU_HORASSEMANATRABAJA¬ESTU_TIPOREMUNERACION¬COLE_CODIGO_ICFES¬COLE_COD_DANE_ESTABLECIMIENTO¬COLE_NOMBRE_ESTABLECIMIENTO¬COLE_GENERO¬COLE_NATURALEZA¬COLE_CALENDARIO¬COLE_BILINGUE¬COLE_CARACTER¬COLE_COD_DANE_SEDE¬COLE_NOMBRE_SEDE¬COLE_SEDE_PRINCIPAL¬COLE_AREA_UBICACION¬COLE_JORNADA¬COLE_COD_MCPIO_UBICACION¬COLE_MCPIO_UBICACION¬COLE_COD_DEPTO_UBICACION¬COLE_DEPTO_UBICACION¬ESTU_PRIVADO_LIBERTAD¬ESTU_COD_MCPIO_PRESENTACION¬ESTU_MCPIO_PRESENTACION¬ESTU_DEPTO_PRESENTACION¬ESTU_COD_DEPTO_PRESENTACION¬PUNT_LECTURA_CRITICA¬PERCENTIL_LECTURA_CRITICA¬DESEMP_LECTURA_CRITICA¬PUNT_MATEMATICAS¬PERCENTIL_MATEMATICAS¬DESEMP_MATEMATICAS¬PUNT_C_NATURALES¬PERCENTIL_C_NATURALES¬DESEMP_C_NATURALES¬PUNT_SOCIALES_CIUDADANAS¬PERCENTIL_SOCIALES_CIUDADANAS¬DESEMP_SOCIALES_CIUDADANAS¬PUNT_INGLES¬PERCENTIL_INGLES¬DESEMP_INGLES¬PUNT_GLOBAL¬PERCENTIL_GLOBAL¬ESTU_INSE_INDIVIDUAL¬ESTU_NSE_INDIVIDUAL¬ESTU_NSE_ESTABLECIMIENTO¬ESTU_ESTADOINVESTIGACION¬ESTU_GENERACION-E\n",
      "\n"
     ]
    }
   ],
   "source": [
    "for estu in estudiantes:\n",
    "    linea = sc.textFile(base2 + '/' + estu)\n",
    "    print(\"Archivo: \" + estu + \"\\n\" + linea.first() + '\\n')"
   ]
  },
  {
   "cell_type": "code",
   "execution_count": 10,
   "metadata": {},
   "outputs": [],
   "source": [
    "dfestu = {}\n",
    "dfcole = {}\n",
    "for i in coleDic:\n",
    "    dfestu[i] = None\n",
    "    dfcole[i] = None"
   ]
  },
  {
   "cell_type": "markdown",
   "metadata": {},
   "source": [
    "# 2006"
   ]
  },
  {
   "cell_type": "code",
   "execution_count": 11,
   "metadata": {},
   "outputs": [],
   "source": [
    "# Funciòn para unir cualquier nùmero de dataframes con la misma estructura \n",
    "def unionAll(*dfs):\n",
    "    return reduce(DataFrame.unionAll, dfs)"
   ]
  },
  {
   "cell_type": "code",
   "execution_count": 12,
   "metadata": {},
   "outputs": [
    {
     "name": "stdout",
     "output_type": "stream",
     "text": [
      "Archivos de estudiantes:  SB11_20061.txt SB11_20062.txt\n",
      "Archivos de colegios:  SB11-CLASIFI-PLANTELES-2006.txt\n"
     ]
    }
   ],
   "source": [
    "print(\"Archivos de estudiantes: \", estuDic['20061'],estuDic['20062'])\n",
    "print(\"Archivos de colegios: \",coleDic['2006'])"
   ]
  },
  {
   "cell_type": "code",
   "execution_count": 13,
   "metadata": {},
   "outputs": [],
   "source": [
    "# SE leen los dos archivos y se crean dos dataframes\n",
    "df1 = spark.read.load(base2 + '/' + estuDic['20061'],\"com.databricks.spark.csv\",header='true',inferSchema='true',sep='¬')\n",
    "df2 = spark.read.load(base2 + '/' + estuDic['20062'],\"com.databricks.spark.csv\",header='true',inferSchema='true',sep='¬')"
   ]
  },
  {
   "cell_type": "code",
   "execution_count": 15,
   "metadata": {},
   "outputs": [],
   "source": [
    "columnasPuntos = [\n",
    " 'punt_lenguaje',\n",
    " 'punt_matematicas',\n",
    " 'punt_c_sociales',\n",
    " 'punt_filosofia',\n",
    " 'punt_biologia',\n",
    " 'punt_quimica',\n",
    " 'punt_fisica',\n",
    " 'punt_idioma',\n",
    " 'punt_profundizacion',\n",
    " 'punt_interdisciplinar']"
   ]
  },
  {
   "cell_type": "code",
   "execution_count": 16,
   "metadata": {},
   "outputs": [],
   "source": [
    "# SE unen los dos dataframes\n",
    "df = unionAll(df1,df2)\n",
    "for cp in columnasPuntos:\n",
    "    df = df.withColumn(cp, regexp_replace(cp, ',', '.'))\n",
    "    df = df.withColumn(cp, df[cp].cast(\"float\"))\n",
    "    \n",
    "df1 = df2 = None"
   ]
  },
  {
   "cell_type": "code",
   "execution_count": 63,
   "metadata": {},
   "outputs": [
    {
     "name": "stdout",
     "output_type": "stream",
     "text": [
      "Numero de filas  471878\n"
     ]
    }
   ],
   "source": [
    "print(\"Numero de filas \", df.count())"
   ]
  },
  {
   "cell_type": "code",
   "execution_count": 17,
   "metadata": {},
   "outputs": [
    {
     "name": "stdout",
     "output_type": "stream",
     "text": [
      "root\n",
      " |-- estu_exam_nombreexamen: string (nullable = true)\n",
      " |-- estu_estudiante: integer (nullable = true)\n",
      " |-- periodo: integer (nullable = true)\n",
      " |-- estu_consecutivo: string (nullable = true)\n",
      " |-- estu_edad: integer (nullable = true)\n",
      " |-- estu_tipo_documento: string (nullable = true)\n",
      " |-- estu_pais_reside: string (nullable = true)\n",
      " |-- estu_genero: string (nullable = true)\n",
      " |-- estu_nacimiento_dia: integer (nullable = true)\n",
      " |-- estu_nacimiento_mes: integer (nullable = true)\n",
      " |-- estu_nacimiento_anno: integer (nullable = true)\n",
      " |-- estu_cod_reside_mcpio: integer (nullable = true)\n",
      " |-- estu_reside_mcpio: string (nullable = true)\n",
      " |-- estu_reside_depto: string (nullable = true)\n",
      " |-- estu_zona_reside: integer (nullable = true)\n",
      " |-- estu_razoninstituto: integer (nullable = true)\n",
      " |-- cole_valor_pension: integer (nullable = true)\n",
      " |-- estu_ies_cod_deseada: integer (nullable = true)\n",
      " |-- estu_carrdeseada_razon: integer (nullable = true)\n",
      " |-- estu_carrdeseada_cod: integer (nullable = true)\n",
      " |-- estu_ies_deseada_nombre: string (nullable = true)\n",
      " |-- estu_ies_cod_mpio_deseada: integer (nullable = true)\n",
      " |-- estu_ies_mpio_deseada: string (nullable = true)\n",
      " |-- estu_ies_dept_deseada: string (nullable = true)\n",
      " |-- estu_mpio_presentacion: string (nullable = true)\n",
      " |-- estu_dept_presentacion: string (nullable = true)\n",
      " |-- estu_exam_cod_mpio_presentacio: integer (nullable = true)\n",
      " |-- estu_ano_termino_bachill: integer (nullable = true)\n",
      " |-- cole_cod_icfes: integer (nullable = true)\n",
      " |-- cole_cod_dane_institucion: string (nullable = true)\n",
      " |-- cole_nombre_sede: string (nullable = true)\n",
      " |-- cole_cod_mcpio_ubicacion: integer (nullable = true)\n",
      " |-- cole_calendario: string (nullable = true)\n",
      " |-- cole_genero: string (nullable = true)\n",
      " |-- cole_naturaleza: string (nullable = true)\n",
      " |-- cole_bilingue: integer (nullable = true)\n",
      " |-- cole_jornada: string (nullable = true)\n",
      " |-- cole_caracter: string (nullable = true)\n",
      " |-- punt_lenguaje: float (nullable = true)\n",
      " |-- punt_matematicas: float (nullable = true)\n",
      " |-- punt_c_sociales: float (nullable = true)\n",
      " |-- punt_filosofia: float (nullable = true)\n",
      " |-- punt_biologia: float (nullable = true)\n",
      " |-- punt_quimica: float (nullable = true)\n",
      " |-- punt_fisica: float (nullable = true)\n",
      " |-- nombre_idioma: string (nullable = true)\n",
      " |-- punt_idioma: float (nullable = true)\n",
      " |-- nombre_profundizacion: string (nullable = true)\n",
      " |-- punt_profundizacion: float (nullable = true)\n",
      " |-- desemp_profundizacion: string (nullable = true)\n",
      " |-- nombre_interdisciplinar: string (nullable = true)\n",
      " |-- punt_interdisciplinar: float (nullable = true)\n",
      " |-- estu_puesto: string (nullable = true)\n",
      "\n",
      "None\n"
     ]
    }
   ],
   "source": [
    "print(df.printSchema())"
   ]
  },
  {
   "cell_type": "code",
   "execution_count": 18,
   "metadata": {},
   "outputs": [
    {
     "data": {
      "text/plain": [
       "['estu_exam_nombreexamen',\n",
       " 'estu_estudiante',\n",
       " 'periodo',\n",
       " 'estu_consecutivo',\n",
       " 'estu_edad',\n",
       " 'estu_tipo_documento',\n",
       " 'estu_pais_reside',\n",
       " 'estu_genero',\n",
       " 'estu_nacimiento_dia',\n",
       " 'estu_nacimiento_mes',\n",
       " 'estu_nacimiento_anno',\n",
       " 'estu_cod_reside_mcpio',\n",
       " 'estu_reside_mcpio',\n",
       " 'estu_reside_depto',\n",
       " 'estu_zona_reside',\n",
       " 'estu_razoninstituto',\n",
       " 'cole_valor_pension',\n",
       " 'estu_ies_cod_deseada',\n",
       " 'estu_carrdeseada_razon',\n",
       " 'estu_carrdeseada_cod',\n",
       " 'estu_ies_deseada_nombre',\n",
       " 'estu_ies_cod_mpio_deseada',\n",
       " 'estu_ies_mpio_deseada',\n",
       " 'estu_ies_dept_deseada',\n",
       " 'estu_mpio_presentacion',\n",
       " 'estu_dept_presentacion',\n",
       " 'estu_exam_cod_mpio_presentacio',\n",
       " 'estu_ano_termino_bachill',\n",
       " 'cole_cod_icfes',\n",
       " 'cole_cod_dane_institucion',\n",
       " 'cole_nombre_sede',\n",
       " 'cole_cod_mcpio_ubicacion',\n",
       " 'cole_calendario',\n",
       " 'cole_genero',\n",
       " 'cole_naturaleza',\n",
       " 'cole_bilingue',\n",
       " 'cole_jornada',\n",
       " 'cole_caracter',\n",
       " 'punt_lenguaje',\n",
       " 'punt_matematicas',\n",
       " 'punt_c_sociales',\n",
       " 'punt_filosofia',\n",
       " 'punt_biologia',\n",
       " 'punt_quimica',\n",
       " 'punt_fisica',\n",
       " 'nombre_idioma',\n",
       " 'punt_idioma',\n",
       " 'nombre_profundizacion',\n",
       " 'punt_profundizacion',\n",
       " 'desemp_profundizacion',\n",
       " 'nombre_interdisciplinar',\n",
       " 'punt_interdisciplinar',\n",
       " 'estu_puesto']"
      ]
     },
     "execution_count": 18,
     "metadata": {},
     "output_type": "execute_result"
    }
   ],
   "source": [
    "df.columns"
   ]
  },
  {
   "cell_type": "code",
   "execution_count": 19,
   "metadata": {},
   "outputs": [],
   "source": [
    "# Seleccion de todas las instituciones diferentes\n",
    "dsIns_dane = df.select('cole_cod_dane_institucion').distinct()"
   ]
  },
  {
   "cell_type": "code",
   "execution_count": 20,
   "metadata": {},
   "outputs": [
    {
     "data": {
      "text/plain": [
       "7750"
      ]
     },
     "execution_count": 20,
     "metadata": {},
     "output_type": "execute_result"
    }
   ],
   "source": [
    "dsIns_dane.count()"
   ]
  },
  {
   "cell_type": "code",
   "execution_count": 21,
   "metadata": {},
   "outputs": [],
   "source": [
    "# Contando el numero de estudiantes por instituciòn y mostrandola de forma descendente\n",
    "dsCountEst = df.groupBy('cole_cod_dane_institucion').count().orderBy('count',ascending=\n",
    "False)"
   ]
  },
  {
   "cell_type": "code",
   "execution_count": 22,
   "metadata": {},
   "outputs": [
    {
     "name": "stdout",
     "output_type": "stream",
     "text": [
      "+-------------------------+-----+\n",
      "|cole_cod_dane_institucion|count|\n",
      "+-------------------------+-----+\n",
      "|null                     |7531 |\n",
      "|105001000108             |1200 |\n",
      "|111001024732             |987  |\n",
      "|376001001132             |843  |\n",
      "|168001003591             |817  |\n",
      "|111001019411             |811  |\n",
      "|105001013340             |798  |\n",
      "|113001003274             |702  |\n",
      "|108758000031             |632  |\n",
      "|305440000994             |627  |\n",
      "+-------------------------+-----+\n",
      "only showing top 10 rows\n",
      "\n"
     ]
    }
   ],
   "source": [
    "dsCountEst.show(10,False)"
   ]
  },
  {
   "cell_type": "code",
   "execution_count": 23,
   "metadata": {},
   "outputs": [],
   "source": [
    "#Se crea una columna con el total de los puntajes   \n",
    "df= df.withColumn(\"Suma\",df['punt_lenguaje']+df['punt_matematicas']+df['punt_c_sociales']+\n",
    "                     df['punt_filosofia']+df['punt_biologia']+df['punt_quimica']+df['punt_fisica']+\n",
    "                     df['punt_idioma']+df['punt_profundizacion']+df['punt_interdisciplinar'])"
   ]
  },
  {
   "cell_type": "code",
   "execution_count": 25,
   "metadata": {},
   "outputs": [],
   "source": [
    "#Se crea una lista de columnas para hacer el analisis.\n",
    "columnasToAnalysis = columnasPuntos.copy()\n",
    "columnasToAnalysis.insert(0,'cole_cod_dane_institucion')\n",
    "columnasToAnalysis.append('Suma')"
   ]
  },
  {
   "cell_type": "code",
   "execution_count": 26,
   "metadata": {},
   "outputs": [
    {
     "data": {
      "text/plain": [
       "['cole_cod_dane_institucion',\n",
       " 'punt_lenguaje',\n",
       " 'punt_matematicas',\n",
       " 'punt_c_sociales',\n",
       " 'punt_filosofia',\n",
       " 'punt_biologia',\n",
       " 'punt_quimica',\n",
       " 'punt_fisica',\n",
       " 'punt_idioma',\n",
       " 'punt_profundizacion',\n",
       " 'punt_interdisciplinar',\n",
       " 'Suma']"
      ]
     },
     "execution_count": 26,
     "metadata": {},
     "output_type": "execute_result"
    }
   ],
   "source": [
    "columnasToAnalysis"
   ]
  },
  {
   "cell_type": "code",
   "execution_count": 28,
   "metadata": {},
   "outputs": [],
   "source": [
    "# SE Selecciona el subgrupo de informciòn que se analizara\n",
    "df2006 = df.select(columnasToAnalysis)"
   ]
  },
  {
   "cell_type": "code",
   "execution_count": 29,
   "metadata": {},
   "outputs": [
    {
     "data": {
      "text/plain": [
       "['cole_cod_dane_institucion',\n",
       " 'punt_lenguaje',\n",
       " 'punt_matematicas',\n",
       " 'punt_c_sociales',\n",
       " 'punt_filosofia',\n",
       " 'punt_biologia',\n",
       " 'punt_quimica',\n",
       " 'punt_fisica',\n",
       " 'punt_idioma',\n",
       " 'punt_profundizacion',\n",
       " 'punt_interdisciplinar',\n",
       " 'Suma']"
      ]
     },
     "execution_count": 29,
     "metadata": {},
     "output_type": "execute_result"
    }
   ],
   "source": [
    "df2006.columns"
   ]
  },
  {
   "cell_type": "markdown",
   "metadata": {},
   "source": [
    "## Resultados finales por instituciòn"
   ]
  },
  {
   "cell_type": "code",
   "execution_count": 32,
   "metadata": {},
   "outputs": [],
   "source": [
    "# Còdigo para obtener la media de los resultados de las evaluaciones de todos los estudiantes por instituciòn \n",
    "# y posiciòn en orden descendente.\n",
    "from pyspark.sql.functions import *\n",
    "from pyspark.sql.window import Window\n",
    "\n",
    "df2006p = df2006.groupBy('cole_cod_dane_institucion').mean()\n",
    "df2006p = df2006p.withColumn(\"rank\", dense_rank().over(Window.orderBy(desc(\"avg(Suma)\"))))\n",
    "df2006p = df2006p.orderBy('rank',ascending= True)"
   ]
  },
  {
   "cell_type": "code",
   "execution_count": 33,
   "metadata": {
    "scrolled": true
   },
   "outputs": [
    {
     "name": "stdout",
     "output_type": "stream",
     "text": [
      "+-------------------------+------------------+---------------------+--------------------+-------------------+------------------+------------------+------------------+-----------------+------------------------+--------------------------+-----------------+----+\n",
      "|cole_cod_dane_institucion|avg(punt_lenguaje)|avg(punt_matematicas)|avg(punt_c_sociales)|avg(punt_filosofia)|avg(punt_biologia)|avg(punt_quimica) |avg(punt_fisica)  |avg(punt_idioma) |avg(punt_profundizacion)|avg(punt_interdisciplinar)|avg(Suma)        |rank|\n",
      "+-------------------------+------------------+---------------------+--------------------+-------------------+------------------+------------------+------------------+-----------------+------------------------+--------------------------+-----------------+----+\n",
      "|311001089221             |65.57875061035156 |65.78999948501587    |69.42500019073486   |61.70125079154968  |69.47937536239624 |61.438124656677246|62.29437446594238 |70.63875007629395|6.42750009894371        |57.77499985694885         |590.5481338500977|1   |\n",
      "|311001005176             |61.76166682773166 |68.72666645050049    |63.798055013020836  |59.49500062730577  |63.205555491977265|59.64666642083062 |63.54277748531766 |73.87916692097981|6.883888880411784       |51.400277296702065        |572.339729309082 |2   |\n",
      "|311769003342             |62.50564193725586 |81.12487059373122    |51.82256346482497   |57.838717729617386 |61.20000017606295 |54.41846133501102 |61.87025627723107 |75.43461775168394|7.212564028226412       |54.718974284636666        |568.1466674804688|3   |\n",
      "|311848002611             |62.04812518755595 |68.76489547888438    |61.9271875222524    |60.92979244391123  |61.62291685740153 |61.643020828564964|61.46187496185303 |69.84489651521046|6.730208362142245       |51.376249512036644        |566.3491700490316|4   |\n",
      "|354001000370             |62.39882375679764 |67.24019562964345    |62.305881949032056  |59.031960880055145 |63.411372988831765|60.94901993695427 |61.09666659785252 |69.83764760634479|6.746666683870203       |52.299019420848175        |565.3172607421875|5   |\n",
      "|311001065489             |63.71368388125771 |65.53157866628547    |63.19157871447111   |62.136316801372324 |60.471053073280736|60.89578969855057 |61.8468421132941  |64.26263226960835|6.373684230603669       |55.32210500616776         |563.7452681692023|6   |\n",
      "|311848002424             |61.454788167425924|78.84510515091267    |52.98042516505465   |55.68489370954798  |62.15702117757594 |55.38563825729045 |58.70723407826525 |77.79574731055726|6.231489328627891       |54.09808518024201         |563.3404284538107|7   |\n",
      "|308001004209             |68.18639177145417 |81.81185456895336    |53.041236916768185  |52.89814457450945  |60.041030765808735|56.557938487259385|54.09814460990355 |78.80979612684742|4.91257734397023        |52.66144328756431         |563.0185600359415|8   |\n",
      "|305001015503             |65.57000160217285 |84.13999938964844    |53.91499996185303   |56.13750076293945  |60.59749984741211 |50.052499771118164|59.954999923706055|66.9099988937378 |7.779999852180481       |57.93499946594238         |562.9925079345703|9   |\n",
      "|373001007662             |59.83722241719564 |66.71722221374512    |60.82611105177138   |57.00166702270508  |62.90166685316298 |60.69611104329427 |62.042777591281464|76.1194445292155 |6.57166666454739        |49.71499983469645         |562.4288889567057|10  |\n",
      "+-------------------------+------------------+---------------------+--------------------+-------------------+------------------+------------------+------------------+-----------------+------------------------+--------------------------+-----------------+----+\n",
      "only showing top 10 rows\n",
      "\n"
     ]
    }
   ],
   "source": [
    "df2006p.show(10,False)"
   ]
  },
  {
   "cell_type": "markdown",
   "metadata": {},
   "source": [
    "## Colegios 2006"
   ]
  },
  {
   "cell_type": "code",
   "execution_count": null,
   "metadata": {},
   "outputs": [],
   "source": [
    "# se crea un dataframe con una columna que lo señala el año 2006.\n",
    "from pyspark.sql.functions import lit\n",
    "df = df2006p.withColumn('año',lit(2006))\n",
    "df.show(5,False)"
   ]
  },
  {
   "cell_type": "code",
   "execution_count": 35,
   "metadata": {},
   "outputs": [],
   "source": [
    "# SE crea Dataframe de colegios 2006\n",
    "dfcol2006 = spark.read.load(base + '/' + coleDic['2006'],\"com.databricks.spark.csv\",header='true',inferSchema='true',sep='\\t')\n",
    "dfcol2006 = dfcol2006.withColumn('COLE_CODIGO_COLEGIO', dfcol2006['COLE_CODIGO_COLEGIO'].cast(\"string\"))\n",
    "dfcol2006 = dfcol2006.withColumn('COLE_CODMPIO_COLEGIO', dfcol2006['COLE_CODMPIO_COLEGIO'].cast(\"string\"))"
   ]
  },
  {
   "cell_type": "code",
   "execution_count": 36,
   "metadata": {},
   "outputs": [
    {
     "name": "stdout",
     "output_type": "stream",
     "text": [
      "root\n",
      " |-- COLE_CODIGO_COLEGIO: string (nullable = true)\n",
      " |-- COLE_INST_NOMBRE: string (nullable = true)\n",
      " |-- COLE_CODMPIO_COLEGIO: string (nullable = true)\n",
      " |-- COLE_MPIO_COLEGIO: string (nullable = true)\n",
      " |-- COLE_DEPTO_COLEGIO: string (nullable = true)\n",
      " |-- COLE_INST_JORNADA: string (nullable = true)\n",
      " |-- COLE_CALENDARIO_COLEGIO: string (nullable = true)\n",
      " |-- COLE_GENEROPOBLACION: string (nullable = true)\n",
      " |-- COLE_NATURALEZA: string (nullable = true)\n",
      " |-- COLE_CIENCIAS_SOCIALES: integer (nullable = true)\n",
      " |-- COLE_QUIMICA: integer (nullable = true)\n",
      " |-- COLE_FISICA: integer (nullable = true)\n",
      " |-- COLE_BIOLOGIA: integer (nullable = true)\n",
      " |-- COLE_FILOSOFIA: integer (nullable = true)\n",
      " |-- COLE_MATEMATICAS: integer (nullable = true)\n",
      " |-- COLE_LENGUAJE: integer (nullable = true)\n",
      " |-- COLE_INGLES: string (nullable = true)\n",
      " |-- COLE_GEOGRAFIA: string (nullable = true)\n",
      " |-- COLE_HISTORIA: string (nullable = true)\n",
      " |-- COLE_CATEGORIA: string (nullable = true)\n",
      " |-- COLE_ESTUDIANTES_PRESENTES: integer (nullable = true)\n",
      "\n",
      "None\n"
     ]
    }
   ],
   "source": [
    "print(dfcol2006.printSchema())"
   ]
  },
  {
   "cell_type": "code",
   "execution_count": 37,
   "metadata": {},
   "outputs": [
    {
     "data": {
      "text/plain": [
       "['COLE_CODIGO_COLEGIO',\n",
       " 'COLE_INST_NOMBRE',\n",
       " 'COLE_CODMPIO_COLEGIO',\n",
       " 'COLE_MPIO_COLEGIO',\n",
       " 'COLE_DEPTO_COLEGIO',\n",
       " 'COLE_INST_JORNADA',\n",
       " 'COLE_CALENDARIO_COLEGIO',\n",
       " 'COLE_GENEROPOBLACION',\n",
       " 'COLE_NATURALEZA',\n",
       " 'COLE_CIENCIAS_SOCIALES',\n",
       " 'COLE_QUIMICA',\n",
       " 'COLE_FISICA',\n",
       " 'COLE_BIOLOGIA',\n",
       " 'COLE_FILOSOFIA',\n",
       " 'COLE_MATEMATICAS',\n",
       " 'COLE_LENGUAJE',\n",
       " 'COLE_INGLES',\n",
       " 'COLE_GEOGRAFIA',\n",
       " 'COLE_HISTORIA',\n",
       " 'COLE_CATEGORIA',\n",
       " 'COLE_ESTUDIANTES_PRESENTES']"
      ]
     },
     "execution_count": 37,
     "metadata": {},
     "output_type": "execute_result"
    }
   ],
   "source": [
    "dfcol2006.columns"
   ]
  },
  {
   "cell_type": "code",
   "execution_count": 38,
   "metadata": {},
   "outputs": [],
   "source": [
    "colsColegio = ['COLE_CODIGO_COLEGIO',\n",
    " 'COLE_CODMPIO_COLEGIO',\n",
    " 'COLE_CIENCIAS_SOCIALES',\n",
    " 'COLE_QUIMICA',\n",
    " 'COLE_FISICA',\n",
    " 'COLE_BIOLOGIA',\n",
    " 'COLE_FILOSOFIA',\n",
    " 'COLE_MATEMATICAS',\n",
    " 'COLE_LENGUAJE',\n",
    " 'COLE_INGLES',\n",
    " 'COLE_GEOGRAFIA',\n",
    " 'COLE_HISTORIA']"
   ]
  },
  {
   "cell_type": "code",
   "execution_count": 39,
   "metadata": {},
   "outputs": [],
   "source": [
    "dfcol2006 = dfcol2006.select(colsColegio)"
   ]
  },
  {
   "cell_type": "code",
   "execution_count": 40,
   "metadata": {},
   "outputs": [
    {
     "name": "stdout",
     "output_type": "stream",
     "text": [
      "+-------------------+--------------------+----------------------+------------+-----------+-------------+--------------+----------------+-------------+-----------+--------------+-------------+\n",
      "|COLE_CODIGO_COLEGIO|COLE_CODMPIO_COLEGIO|COLE_CIENCIAS_SOCIALES|COLE_QUIMICA|COLE_FISICA|COLE_BIOLOGIA|COLE_FILOSOFIA|COLE_MATEMATICAS|COLE_LENGUAJE|COLE_INGLES|COLE_GEOGRAFIA|COLE_HISTORIA|\n",
      "+-------------------+--------------------+----------------------+------------+-----------+-------------+--------------+----------------+-------------+-----------+--------------+-------------+\n",
      "|127696             |5001                |6                     |6           |7          |6            |8             |6               |7            |null       |null          |null         |\n",
      "|127704             |20001               |7                     |7           |7          |7            |8             |6               |7            |null       |null          |null         |\n",
      "|127712             |41807               |6                     |7           |6          |7            |7             |6               |7            |null       |null          |null         |\n",
      "|127738             |41319               |5                     |6           |6          |7            |6             |6               |6            |null       |null          |null         |\n",
      "|127746             |47001               |6                     |6           |7          |7            |7             |7               |6            |null       |null          |null         |\n",
      "+-------------------+--------------------+----------------------+------------+-----------+-------------+--------------+----------------+-------------+-----------+--------------+-------------+\n",
      "only showing top 5 rows\n",
      "\n"
     ]
    }
   ],
   "source": [
    "dfcol2006.show(5,False)"
   ]
  },
  {
   "cell_type": "code",
   "execution_count": 43,
   "metadata": {},
   "outputs": [
    {
     "name": "stdout",
     "output_type": "stream",
     "text": [
      "El numero de colegios año 2006 es:  9249\n"
     ]
    }
   ],
   "source": [
    "print(\"El numero de colegios año 2006 es: \", dfcol2006.select('COLE_CODIGO_COLEGIO').distinct().count())"
   ]
  },
  {
   "cell_type": "markdown",
   "metadata": {},
   "source": [
    "## Anàlisis comparativo entre estudiantes y colegios año 2006"
   ]
  },
  {
   "cell_type": "code",
   "execution_count": 46,
   "metadata": {},
   "outputs": [],
   "source": [
    "dfjoin2006 = df.join(dfcol2006, df.cole_cod_dane_institucion == dfcol2006.COLE_CODIGO_COLEGIO)"
   ]
  },
  {
   "cell_type": "code",
   "execution_count": 47,
   "metadata": {},
   "outputs": [
    {
     "name": "stdout",
     "output_type": "stream",
     "text": [
      "Nùmero de colegios coincidentes entre el archivo de estudiantes y colegios: 0\n"
     ]
    }
   ],
   "source": [
    "print(\"Nùmero de colegios coincidentes entre el archivo de estudiantes y colegios:\", dfjoin2006.count())"
   ]
  },
  {
   "cell_type": "code",
   "execution_count": 48,
   "metadata": {},
   "outputs": [
    {
     "name": "stdout",
     "output_type": "stream",
     "text": [
      "Nùmero de colegios coincidentes entre el archivo de estudiantes y colegios: 0\n"
     ]
    }
   ],
   "source": [
    "dfjoin2006 = df.join(dfcol2006, df.cole_cod_dane_institucion == dfcol2006.COLE_CODMPIO_COLEGIO)\n",
    "dfjoin2006.count()\n",
    "print(\"Nùmero de colegios coincidentes entre el archivo de estudiantes y colegios:\", dfjoin2006.count())"
   ]
  },
  {
   "cell_type": "markdown",
   "metadata": {},
   "source": [
    "La informaciòn de colegios no coincide con la informaciòn de estudiantes, no existe cole_cod_dane_institucion en el archivo de colegios."
   ]
  },
  {
   "cell_type": "code",
   "execution_count": null,
   "metadata": {},
   "outputs": [],
   "source": []
  }
 ],
 "metadata": {
  "kernelspec": {
   "display_name": "Python 3",
   "language": "python",
   "name": "python3"
  },
  "language_info": {
   "codemirror_mode": {
    "name": "ipython",
    "version": 3
   },
   "file_extension": ".py",
   "mimetype": "text/x-python",
   "name": "python",
   "nbconvert_exporter": "python",
   "pygments_lexer": "ipython3",
   "version": "3.7.3"
  }
 },
 "nbformat": 4,
 "nbformat_minor": 2
}
