{
 "cells": [
  {
   "cell_type": "code",
   "execution_count": 15,
   "metadata": {},
   "outputs": [],
   "source": [
    "from pyspark.sql import SparkSession\n",
    "from pyspark.sql import Row\n",
    "from functools import reduce\n",
    "from pyspark.sql import DataFrame\n",
    "from pyspark.sql.types import StringType,DoubleType,FloatType\n",
    "from pyspark.sql.functions import udf\n",
    "from pyspark.sql.functions import regexp_replace\n",
    "import locale\n",
    "import sys\n",
    "import os\n",
    "import re"
   ]
  },
  {
   "cell_type": "code",
   "execution_count": 16,
   "metadata": {},
   "outputs": [
    {
     "data": {
      "text/html": [
       "\n",
       "        <div>\n",
       "            <p><b>SparkContext</b></p>\n",
       "\n",
       "            <p><a href=\"http://nodo1:4042\">Spark UI</a></p>\n",
       "\n",
       "            <dl>\n",
       "              <dt>Version</dt>\n",
       "                <dd><code>v2.4.3</code></dd>\n",
       "              <dt>Master</dt>\n",
       "                <dd><code>local[*]</code></dd>\n",
       "              <dt>AppName</dt>\n",
       "                <dd><code>PySparkShell</code></dd>\n",
       "            </dl>\n",
       "        </div>\n",
       "        "
      ],
      "text/plain": [
       "<SparkContext master=local[*] appName=PySparkShell>"
      ]
     },
     "execution_count": 16,
     "metadata": {},
     "output_type": "execute_result"
    }
   ],
   "source": [
    "sc"
   ]
  },
  {
   "cell_type": "code",
   "execution_count": 17,
   "metadata": {},
   "outputs": [
    {
     "data": {
      "text/html": [
       "\n",
       "            <div>\n",
       "                <p><b>SparkSession - hive</b></p>\n",
       "                \n",
       "        <div>\n",
       "            <p><b>SparkContext</b></p>\n",
       "\n",
       "            <p><a href=\"http://nodo1:4042\">Spark UI</a></p>\n",
       "\n",
       "            <dl>\n",
       "              <dt>Version</dt>\n",
       "                <dd><code>v2.4.3</code></dd>\n",
       "              <dt>Master</dt>\n",
       "                <dd><code>local[*]</code></dd>\n",
       "              <dt>AppName</dt>\n",
       "                <dd><code>PySparkShell</code></dd>\n",
       "            </dl>\n",
       "        </div>\n",
       "        \n",
       "            </div>\n",
       "        "
      ],
      "text/plain": [
       "<pyspark.sql.session.SparkSession at 0x7f251856f630>"
      ]
     },
     "execution_count": 17,
     "metadata": {},
     "output_type": "execute_result"
    }
   ],
   "source": [
    "spark"
   ]
  },
  {
   "cell_type": "markdown",
   "metadata": {},
   "source": [
    "# Leyendo lista de Colegios y Estudiantes"
   ]
  },
  {
   "cell_type": "code",
   "execution_count": 18,
   "metadata": {},
   "outputs": [],
   "source": [
    "base = '../Colegios'\n",
    "base2 = '../SB'\n",
    "colegios = os.listdir('../Colegios')\n",
    "estudiantes = os.listdir('../SB')"
   ]
  },
  {
   "cell_type": "code",
   "execution_count": 19,
   "metadata": {},
   "outputs": [],
   "source": [
    "estudiantes.sort()\n",
    "colegios.sort()\n",
    "estuDic = {}\n",
    "coleDic = {}\n",
    "for estu in estudiantes:\n",
    "    estuDic[re.findall('\\d+', estu)[1]] = estu\n",
    "\n",
    "for colegio in colegios:\n",
    "    coleDic[re.findall('\\d+', colegio)[1]] = colegio"
   ]
  },
  {
   "cell_type": "code",
   "execution_count": 20,
   "metadata": {},
   "outputs": [],
   "source": [
    "# Funciòn para unir cualquier nùmero de dataframes con la misma estructura \n",
    "def unionAll(*dfs):\n",
    "    return reduce(DataFrame.unionAll, dfs)"
   ]
  },
  {
   "cell_type": "code",
   "execution_count": 21,
   "metadata": {},
   "outputs": [
    {
     "name": "stdout",
     "output_type": "stream",
     "text": [
      "Archivos de estudiantes:  SB11_20081.txt SB11_20082.txt\n",
      "Archivos de colegios:  SB11-CLASIFI-PLANTELES-2008.txt\n"
     ]
    }
   ],
   "source": [
    "print(\"Archivos de estudiantes: \", estuDic['20081'],estuDic['20082'])\n",
    "print(\"Archivos de colegios: \",coleDic['2008'])"
   ]
  },
  {
   "cell_type": "code",
   "execution_count": 22,
   "metadata": {},
   "outputs": [],
   "source": [
    "columnasPuntos = [\n",
    " 'cole_cod_dane_institucion',\n",
    " 'cole_nombre_sede',\n",
    " 'punt_lenguaje',\n",
    " 'punt_matematicas',\n",
    " 'punt_c_sociales',\n",
    " 'punt_filosofia',\n",
    " 'punt_biologia',\n",
    " 'punt_quimica',\n",
    " 'punt_fisica',\n",
    " 'punt_ingles',\n",
    " 'punt_profundizacion',\n",
    " 'punt_interdisciplinar']"
   ]
  },
  {
   "cell_type": "code",
   "execution_count": 23,
   "metadata": {},
   "outputs": [],
   "source": [
    "# SE leen los dos archivos y se crean dos dataframes\n",
    "df1 = spark.read.load(base2 + '/' + estuDic['20081'],\"com.databricks.spark.csv\",header='true',inferSchema='true',sep='¬').select(columnasPuntos)\n",
    "df2 = spark.read.load(base2 + '/' + estuDic['20082'],\"com.databricks.spark.csv\",header='true',inferSchema='true',sep='¬').select(columnasPuntos)"
   ]
  },
  {
   "cell_type": "code",
   "execution_count": 24,
   "metadata": {},
   "outputs": [],
   "source": [
    "# SE unen los dos dataframes\n",
    "columnasPuntosc = [\n",
    " 'punt_lenguaje',\n",
    " 'punt_matematicas',\n",
    " 'punt_c_sociales',\n",
    " 'punt_filosofia',\n",
    " 'punt_biologia',\n",
    " 'punt_quimica',\n",
    " 'punt_fisica',\n",
    " 'punt_ingles',\n",
    " 'punt_profundizacion',\n",
    " 'punt_interdisciplinar']\n",
    "df = unionAll(df1,df2)\n",
    "for cp in columnasPuntosc:\n",
    "    df = df.withColumn(cp, regexp_replace(cp, ',', '.'))\n",
    "    df = df.withColumn(cp, df[cp].cast(\"float\"))\n",
    "\n",
    "df = df.na.fill({'cole_cod_dane_institucion':'--'})\n",
    "df = df.na.fill({'cole_nombre_sede':'--'})\n",
    "\n",
    "df1 = df2 = None"
   ]
  },
  {
   "cell_type": "code",
   "execution_count": 25,
   "metadata": {},
   "outputs": [
    {
     "name": "stdout",
     "output_type": "stream",
     "text": [
      "Nùmero de filas con cole_cod_dane_institucion nulos:  6390\n",
      "Nùmero de filas con cole_nombre_sede nulos:  0\n"
     ]
    }
   ],
   "source": [
    "# SE evalua sí tiene valores nullos\n",
    "print(\"Nùmero de filas con cole_cod_dane_institucion nulos: \", df.filter(\"cole_cod_dane_institucion = '--'\").count())\n",
    "print(\"Nùmero de filas con cole_nombre_sede nulos: \", df.filter(\"cole_nombre_sede = '--'\").count())"
   ]
  },
  {
   "cell_type": "code",
   "execution_count": 26,
   "metadata": {},
   "outputs": [
    {
     "name": "stdout",
     "output_type": "stream",
     "text": [
      "root\n",
      " |-- cole_cod_dane_institucion: string (nullable = false)\n",
      " |-- cole_nombre_sede: string (nullable = false)\n",
      " |-- punt_lenguaje: float (nullable = true)\n",
      " |-- punt_matematicas: float (nullable = true)\n",
      " |-- punt_c_sociales: float (nullable = true)\n",
      " |-- punt_filosofia: float (nullable = true)\n",
      " |-- punt_biologia: float (nullable = true)\n",
      " |-- punt_quimica: float (nullable = true)\n",
      " |-- punt_fisica: float (nullable = true)\n",
      " |-- punt_ingles: float (nullable = true)\n",
      " |-- punt_profundizacion: float (nullable = true)\n",
      " |-- punt_interdisciplinar: float (nullable = true)\n",
      "\n",
      "None\n"
     ]
    }
   ],
   "source": [
    "print(df.printSchema())"
   ]
  },
  {
   "cell_type": "code",
   "execution_count": 27,
   "metadata": {},
   "outputs": [],
   "source": [
    "# Contando el numero de estudiantes por instituciòn y mostrandola de forma descendente\n",
    "dsCountEst = df.groupBy('cole_nombre_sede').count().orderBy('count',ascending=\n",
    "False)"
   ]
  },
  {
   "cell_type": "code",
   "execution_count": 28,
   "metadata": {},
   "outputs": [
    {
     "name": "stdout",
     "output_type": "stream",
     "text": [
      "+----------------------------------------------------------------------------------------------------+-------+\n",
      "|cole_nombre_sede                                                                                    |num_est|\n",
      "+----------------------------------------------------------------------------------------------------+-------+\n",
      "|INST EDUC CEFA                                                                                      |1156   |\n",
      "|INSTITUTO TECNICO INDUSTRIAL                                                                        |1024   |\n",
      "|INST EDUC INEM JOSE FELIX DE RESTREPO                                                               |1015   |\n",
      "|INEM FRANCISCO DE PAULA SANTANDER                                                                   |852    |\n",
      "|SEDE A - I E TEC INEM CUSTODIO GARCÍA ROVIRA                                                        |761    |\n",
      "|COL TECNISISTEMAS SEDE SUBA                                                                         |748    |\n",
      "|JORGE ELIECER GAITAN                                                                                |679    |\n",
      "|INEM SANTIAGO PEREZ                                                                                 |657    |\n",
      "|COL DE LA UNIV POTIFICIA BOLIVARIANA                                                                |653    |\n",
      "|COLEGIO ANTONIO NARIÑO                                                                              |643    |\n",
      "+----------------------------------------------------------------------------------------------------+-------+\n",
      "only showing top 10 rows\n",
      "\n"
     ]
    }
   ],
   "source": [
    "dsCountEst = dsCountEst.withColumnRenamed(\"count\",\"num_est\")\n",
    "dsCountEst.show(10,False)"
   ]
  },
  {
   "cell_type": "code",
   "execution_count": 29,
   "metadata": {},
   "outputs": [
    {
     "name": "stdout",
     "output_type": "stream",
     "text": [
      "Numero màximo de estudiantes:  1156\n",
      "Numero mìnimo de estudiantes:  1\n"
     ]
    }
   ],
   "source": [
    "rowmax = dsCountEst.agg({\"num_est\": \"max\"}).collect()[0]\n",
    "rowmin = dsCountEst.agg({\"num_est\": \"min\"}).collect()[0]\n",
    "\n",
    "num_est_max = rowmax[\"max(num_est)\"]\n",
    "num_est_min = rowmin[\"min(num_est)\"]\n",
    "\n",
    "print(\"Numero màximo de estudiantes: \",num_est_max)\n",
    "print(\"Numero mìnimo de estudiantes: \",num_est_min)"
   ]
  },
  {
   "cell_type": "code",
   "execution_count": 30,
   "metadata": {},
   "outputs": [],
   "source": [
    "#Se crea una columna con el total de los puntajes   \n",
    "df= df.withColumn(\"Suma\",df['punt_lenguaje']+df['punt_matematicas']+df['punt_c_sociales']+\n",
    "                     df['punt_filosofia']+df['punt_biologia']+df['punt_quimica']+df['punt_fisica']+\n",
    "                     df['punt_ingles']+df['punt_profundizacion']+df['punt_interdisciplinar'])"
   ]
  },
  {
   "cell_type": "markdown",
   "metadata": {},
   "source": [
    "## Resultados finales por instituciòn"
   ]
  },
  {
   "cell_type": "code",
   "execution_count": 31,
   "metadata": {},
   "outputs": [
    {
     "name": "stdout",
     "output_type": "stream",
     "text": [
      "Màxima calificaciòn en colegios:  596.1134561391978\n",
      "Mìxima calificaciòn en colegios:  306.85666910807294\n"
     ]
    }
   ],
   "source": [
    "# Còdigo para obtener la media de los resultados de las evaluaciones de todos los estudiantes por instituciòn \n",
    "# y posiciòn en orden descendente.\n",
    "from pyspark.sql.functions import *\n",
    "from pyspark.sql.window import Window\n",
    "\n",
    "#df = df.groupBy('cole_cod_dane_institucion','cole_nombre_sede').mean()\n",
    "df = df.groupBy('cole_nombre_sede').mean()\n",
    "\n",
    "rowprommax = df.agg({\"avg(Suma)\": \"max\"}).collect()[0]\n",
    "rowprommin = df.agg({\"avg(Suma)\": \"min\"}).collect()[0]\n",
    "\n",
    "prom_est_max = rowprommax[\"max(avg(Suma))\"]\n",
    "prom_est_min = rowprommin[\"min(avg(Suma))\"]\n",
    "\n",
    "print(\"Màxima calificaciòn en colegios: \", prom_est_max)\n",
    "print(\"Mìxima calificaciòn en colegios: \", prom_est_min)"
   ]
  },
  {
   "cell_type": "markdown",
   "metadata": {},
   "source": [
    "## Creación de Indices de evaluación\n",
    "$Indice\\_Prom = \\frac{avg(Suma)}{max(avg(Suma))}$&nbsp;&nbsp;\n",
    "$0 < Indice\\_Prom \\leq 1$\n",
    "\n",
    "$Indice\\_Num = \\frac{num\\_est}{max(num\\_est)}$&nbsp;&nbsp;\n",
    "$0 < Indice\\_Num \\leq 1$\n",
    "\n",
    "$Indice\\_Total = Indice\\_Prom \\times Indice\\_Num$&nbsp;&nbsp;\n",
    "$0 < Indice\\_Total \\leq 1 $\n",
    "\n",
    "$Indice\\_Total$: tiene en consideraciòn el promedio de las calificaciones y el nùmero de estudiantes "
   ]
  },
  {
   "cell_type": "code",
   "execution_count": 32,
   "metadata": {
    "scrolled": true
   },
   "outputs": [],
   "source": [
    "dfjoin = df.join(dsCountEst,\"cole_nombre_sede\")\n",
    "dfjoin= dfjoin.withColumn(\"Indice_Prom\",round(dfjoin['avg(Suma)']/prom_est_max,3))\n",
    "dfjoin= dfjoin.withColumn(\"Indice_Num\",round(dfjoin['num_est']/num_est_max,3))\n",
    "dfjoin= dfjoin.withColumn(\"Indice_Total\",round(dfjoin['Indice_Prom']*dfjoin['Indice_Num'],3))"
   ]
  },
  {
   "cell_type": "code",
   "execution_count": 33,
   "metadata": {},
   "outputs": [
    {
     "name": "stdout",
     "output_type": "stream",
     "text": [
      "root\n",
      " |-- cole_nombre_sede: string (nullable = false)\n",
      " |-- avg(punt_lenguaje): double (nullable = true)\n",
      " |-- avg(punt_matematicas): double (nullable = true)\n",
      " |-- avg(punt_c_sociales): double (nullable = true)\n",
      " |-- avg(punt_filosofia): double (nullable = true)\n",
      " |-- avg(punt_biologia): double (nullable = true)\n",
      " |-- avg(punt_quimica): double (nullable = true)\n",
      " |-- avg(punt_fisica): double (nullable = true)\n",
      " |-- avg(punt_ingles): double (nullable = true)\n",
      " |-- avg(punt_profundizacion): double (nullable = true)\n",
      " |-- avg(punt_interdisciplinar): double (nullable = true)\n",
      " |-- avg(Suma): double (nullable = true)\n",
      " |-- num_est: long (nullable = false)\n",
      " |-- Indice_Prom: double (nullable = true)\n",
      " |-- Indice_Num: double (nullable = true)\n",
      " |-- Indice_Total: double (nullable = true)\n",
      "\n"
     ]
    }
   ],
   "source": [
    "dfjoin.printSchema()"
   ]
  },
  {
   "cell_type": "code",
   "execution_count": 34,
   "metadata": {},
   "outputs": [
    {
     "name": "stdout",
     "output_type": "stream",
     "text": [
      "root\n",
      " |-- cole_nombre_sede: string (nullable = false)\n",
      " |-- avg(Suma): double (nullable = true)\n",
      " |-- num_est: long (nullable = false)\n",
      " |-- Indice_Prom: double (nullable = true)\n",
      " |-- Indice_Num: double (nullable = true)\n",
      " |-- Indice_Total: double (nullable = true)\n",
      " |-- rankProm: integer (nullable = true)\n",
      " |-- rankNum: integer (nullable = true)\n",
      " |-- rankTotal: integer (nullable = true)\n",
      " |-- Media: double (nullable = true)\n",
      "\n"
     ]
    }
   ],
   "source": [
    "dfjoin = dfjoin.select('cole_nombre_sede','avg(Suma)','num_est','Indice_Prom','Indice_Num','Indice_Total')\n",
    "dfjoin = dfjoin.withColumn(\"rankProm\", dense_rank().over(Window.orderBy(desc(\"Indice_Prom\"))))\n",
    "dfjoin = dfjoin.withColumn(\"rankNum\", dense_rank().over(Window.orderBy(desc(\"Indice_Num\"))))\n",
    "dfjoin = dfjoin.withColumn(\"rankTotal\", dense_rank().over(Window.orderBy(desc(\"Indice_Total\"))))\n",
    "dfjoin = dfjoin.withColumn(\"Media\",round(dfjoin['avg(Suma)'],2))\n",
    "dfjoin.printSchema()"
   ]
  },
  {
   "cell_type": "code",
   "execution_count": 35,
   "metadata": {},
   "outputs": [
    {
     "name": "stdout",
     "output_type": "stream",
     "text": [
      "+--------------------+------+-----------+-------+--------+-------+---------+\n",
      "|    cole_nombre_sede| Media|Indice_Prom|num_est|rankProm|rankNum|rankTotal|\n",
      "+--------------------+------+-----------+-------+--------+-------+---------+\n",
      "|GIMN VERMONT     ...|596.11|        1.0|     26|       1|    323|      234|\n",
      "|COL SAN CARLOS   ...|591.92|      0.993|    108|       2|    252|      164|\n",
      "|COL LOS NOGALES  ...|583.85|      0.979|     46|       3|    305|      217|\n",
      "|COLEGIO MARYMOUNT...|580.58|      0.974|     75|       4|    280|      193|\n",
      "|COL LA QUINTA DEL...|579.83|      0.973|     29|       5|    320|      232|\n",
      "|COL SAN JORGE DE ...|574.37|      0.964|     79|       6|    277|      190|\n",
      "|COL SANTA FRANCIS...|571.93|      0.959|     54|       7|    298|      211|\n",
      "|COL ITALIANO LEON...|571.29|      0.958|     53|       8|    299|      212|\n",
      "|GIMN DE LOS CERRO...|570.24|      0.957|     50|       9|    302|      215|\n",
      "|     GIMN LA MONTAÑA| 569.1|      0.955|     47|      10|    304|      217|\n",
      "+--------------------+------+-----------+-------+--------+-------+---------+\n",
      "only showing top 10 rows\n",
      "\n"
     ]
    }
   ],
   "source": [
    "# Se ordena por Indice_Prom\n",
    "dfjoin = dfjoin.orderBy('rankProm',ascending= True)\n",
    "dfjoin.select('cole_nombre_sede','Media','Indice_Prom','num_est','rankProm','rankNum','rankTotal').show(10)"
   ]
  },
  {
   "cell_type": "code",
   "execution_count": 36,
   "metadata": {},
   "outputs": [
    {
     "name": "stdout",
     "output_type": "stream",
     "text": [
      "+--------------------+------+----------+-------+--------+-------+---------+\n",
      "|    cole_nombre_sede| Media|Indice_Num|num_est|rankProm|rankNum|rankTotal|\n",
      "+--------------------+------+----------+-------+--------+-------+---------+\n",
      "|      INST EDUC CEFA|419.06|       1.0|   1156|     229|      1|        1|\n",
      "|INSTITUTO TECNICO...|408.51|     0.886|   1024|     247|      2|        3|\n",
      "|INST EDUC INEM JO...|415.53|     0.878|   1015|     235|      3|        2|\n",
      "|INEM FRANCISCO DE...|408.57|     0.737|    852|     247|      4|        4|\n",
      "|SEDE A - I E TEC ...|411.47|     0.658|    761|     242|      5|        5|\n",
      "|COL TECNISISTEMAS...|389.86|     0.647|    748|     278|      6|        7|\n",
      "|JORGE ELIECER GAITAN|395.04|     0.587|    679|     269|      7|        9|\n",
      "| INEM SANTIAGO PEREZ|407.85|     0.568|    657|     248|      8|        9|\n",
      "|COL DE LA UNIV PO...|464.84|     0.565|    653|     152|      9|        6|\n",
      "|COLEGIO ANTONIO N...|381.71|     0.556|    643|     292|     10|       10|\n",
      "+--------------------+------+----------+-------+--------+-------+---------+\n",
      "only showing top 10 rows\n",
      "\n"
     ]
    }
   ],
   "source": [
    "dfjoin = dfjoin.orderBy('rankNum',ascending= True)\n",
    "dfjoin.select('cole_nombre_sede','Media','Indice_Num','num_est','rankProm','rankNum','rankTotal').show(10)"
   ]
  },
  {
   "cell_type": "code",
   "execution_count": 37,
   "metadata": {},
   "outputs": [
    {
     "name": "stdout",
     "output_type": "stream",
     "text": [
      "+--------------------+------+------------+-------+--------+-------+---------+\n",
      "|    cole_nombre_sede| Media|Indice_Total|num_est|rankProm|rankNum|rankTotal|\n",
      "+--------------------+------+------------+-------+--------+-------+---------+\n",
      "|      INST EDUC CEFA|419.06|       0.703|   1156|     229|      1|        1|\n",
      "|INST EDUC INEM JO...|415.53|       0.612|   1015|     235|      3|        2|\n",
      "|INSTITUTO TECNICO...|408.51|       0.607|   1024|     247|      2|        3|\n",
      "|INEM FRANCISCO DE...|408.57|       0.505|    852|     247|      4|        4|\n",
      "|SEDE A - I E TEC ...|411.47|       0.454|    761|     242|      5|        5|\n",
      "|COL DE LA UNIV PO...|464.84|       0.441|    653|     152|      9|        6|\n",
      "|COL TECNISISTEMAS...|389.86|       0.423|    748|     278|      6|        7|\n",
      "|LIC SALAZAR Y HER...|442.41|       0.404|    629|     190|     11|        8|\n",
      "|JORGE ELIECER GAITAN|395.04|       0.389|    679|     269|      7|        9|\n",
      "| INEM SANTIAGO PEREZ|407.85|       0.389|    657|     248|      8|        9|\n",
      "+--------------------+------+------------+-------+--------+-------+---------+\n",
      "only showing top 10 rows\n",
      "\n"
     ]
    }
   ],
   "source": [
    "# Se ordena por Indice_Total\n",
    "dfjoin = dfjoin.orderBy('rankTotal',ascending= True)\n",
    "dfjoin.select('cole_nombre_sede','Media','Indice_Total','num_est','rankProm','rankNum','rankTotal').show(10)"
   ]
  },
  {
   "cell_type": "markdown",
   "metadata": {},
   "source": [
    "## Colegios"
   ]
  },
  {
   "cell_type": "code",
   "execution_count": 18,
   "metadata": {},
   "outputs": [
    {
     "name": "stdout",
     "output_type": "stream",
     "text": [
      "+-------------------------+------------------+---------------------+--------------------+-------------------+------------------+------------------+------------------+-----------------+------------------------+--------------------------+-----------------+----+----+\n",
      "|cole_cod_dane_institucion|avg(punt_lenguaje)|avg(punt_matematicas)|avg(punt_c_sociales)|avg(punt_filosofia)|avg(punt_biologia)|avg(punt_quimica) |avg(punt_fisica)  |avg(punt_ingles) |avg(punt_profundizacion)|avg(punt_interdisciplinar)|avg(Suma)        |rank|año |\n",
      "+-------------------------+------------------+---------------------+--------------------+-------------------+------------------+------------------+------------------+-----------------+------------------------+--------------------------+-----------------+----+----+\n",
      "|311848000278             |63.33923031733586 |75.28846285893367    |58.86615430391752   |67.3742320720966   |64.95115382854755 |62.65769166212816 |59.681923352755035|79.44307826115535|6.247692291553204       |58.263845883882965        |596.1134561391978|1   |2008|\n",
      "|311848002424             |61.831666275306986|76.08259321142125    |58.6751853801586    |60.91259320576986  |59.461944615399396|60.999351218894674|58.477314719447385|88.71342651932328|6.0927777422799005      |60.67722228721336         |591.9240733959057|2   |2008|\n",
      "|311769003342             |61.886303860208265|74.31673970429793    |55.827174311098844  |63.253044294274375 |60.323043740313985|58.29434718256412 |57.90543489870818 |89.57347861580227|6.352391305177108       |56.11782621300739         |583.8497792119565|3   |2008|\n",
      "|308001004209             |62.59053293863932 |70.24093353271485    |61.715734252929686  |57.986533660888675 |59.21840026855469 |57.56239969889323 |57.05626653035482 |91.3640005493164 |6.147733287811279       |56.698000030517576        |580.5805244954427|4   |2008|\n",
      "|368276000826             |61.07206883923761 |70.9624145770895     |56.52517318725586   |62.52931055529364  |59.34965515136719 |58.92999977901064 |57.86344830743198 |85.0600015048323 |6.219999987503578       |61.31482749149717         |579.8268853549299|5   |2008|\n",
      "+-------------------------+------------------+---------------------+--------------------+-------------------+------------------+------------------+------------------+-----------------+------------------------+--------------------------+-----------------+----+----+\n",
      "only showing top 5 rows\n",
      "\n"
     ]
    }
   ],
   "source": [
    "# se crea un dataframe con una columna que lo señala el año 2006.\n",
    "from pyspark.sql.functions import lit\n",
    "df = df.withColumn('año',lit(2008))\n",
    "df.show(5,False)"
   ]
  },
  {
   "cell_type": "code",
   "execution_count": 19,
   "metadata": {},
   "outputs": [],
   "source": [
    "# SE crea Dataframe de colegios\n",
    "dfc = spark.read.load(base + '/' + coleDic['2008'],\"com.databricks.spark.csv\",header='true',inferSchema='true',sep='\\t')\n",
    "dfc = dfc.withColumn('COLE_CODIGO_COLEGIO', dfc['COLE_CODIGO_COLEGIO'].cast(\"string\"))\n",
    "dfc = dfc.withColumn('COLE_CODMPIO_COLEGIO', dfc['COLE_CODMPIO_COLEGIO'].cast(\"string\"))"
   ]
  },
  {
   "cell_type": "code",
   "execution_count": 20,
   "metadata": {},
   "outputs": [
    {
     "name": "stdout",
     "output_type": "stream",
     "text": [
      "root\n",
      " |-- COLE_CODIGO_COLEGIO: string (nullable = true)\n",
      " |-- COLE_INST_NOMBRE: string (nullable = true)\n",
      " |-- COLE_CODMPIO_COLEGIO: string (nullable = true)\n",
      " |-- COLE_MPIO_COLEGIO: string (nullable = true)\n",
      " |-- COLE_DEPTO_COLEGIO: string (nullable = true)\n",
      " |-- COLE_INST_JORNADA: string (nullable = true)\n",
      " |-- COLE_CALENDARIO_COLEGIO: string (nullable = true)\n",
      " |-- COLE_GENEROPOBLACION: string (nullable = true)\n",
      " |-- COLE_NATURALEZA: string (nullable = true)\n",
      " |-- COLE_CIENCIAS_SOCIALES: integer (nullable = true)\n",
      " |-- COLE_QUIMICA: integer (nullable = true)\n",
      " |-- COLE_FISICA: integer (nullable = true)\n",
      " |-- COLE_BIOLOGIA: integer (nullable = true)\n",
      " |-- COLE_FILOSOFIA: integer (nullable = true)\n",
      " |-- COLE_MATEMATICAS: integer (nullable = true)\n",
      " |-- COLE_LENGUAJE: integer (nullable = true)\n",
      " |-- COLE_INGLES: integer (nullable = true)\n",
      " |-- COLE_GEOGRAFIA: string (nullable = true)\n",
      " |-- COLE_HISTORIA: string (nullable = true)\n",
      " |-- COLE_CATEGORIA: string (nullable = true)\n",
      " |-- COLE_ESTUDIANTES_PRESENTES: integer (nullable = true)\n",
      "\n",
      "None\n"
     ]
    }
   ],
   "source": [
    "print(dfc.printSchema())"
   ]
  },
  {
   "cell_type": "code",
   "execution_count": 21,
   "metadata": {},
   "outputs": [],
   "source": [
    "colsColegio = ['COLE_CODIGO_COLEGIO',\n",
    " 'COLE_CODMPIO_COLEGIO',\n",
    " 'COLE_CIENCIAS_SOCIALES',\n",
    " 'COLE_QUIMICA',\n",
    " 'COLE_FISICA',\n",
    " 'COLE_BIOLOGIA',\n",
    " 'COLE_FILOSOFIA',\n",
    " 'COLE_MATEMATICAS',\n",
    " 'COLE_LENGUAJE',\n",
    " 'COLE_INGLES',\n",
    " 'COLE_GEOGRAFIA',\n",
    " 'COLE_HISTORIA']"
   ]
  },
  {
   "cell_type": "code",
   "execution_count": 22,
   "metadata": {},
   "outputs": [],
   "source": [
    "dfc = dfc.select(colsColegio)"
   ]
  },
  {
   "cell_type": "code",
   "execution_count": 23,
   "metadata": {},
   "outputs": [
    {
     "name": "stdout",
     "output_type": "stream",
     "text": [
      "+-------------------+--------------------+----------------------+------------+-----------+-------------+--------------+----------------+-------------+-----------+--------------+-------------+\n",
      "|COLE_CODIGO_COLEGIO|COLE_CODMPIO_COLEGIO|COLE_CIENCIAS_SOCIALES|COLE_QUIMICA|COLE_FISICA|COLE_BIOLOGIA|COLE_FILOSOFIA|COLE_MATEMATICAS|COLE_LENGUAJE|COLE_INGLES|COLE_GEOGRAFIA|COLE_HISTORIA|\n",
      "+-------------------+--------------------+----------------------+------------+-----------+-------------+--------------+----------------+-------------+-----------+--------------+-------------+\n",
      "|265                |5001                |8                     |6           |5          |7            |8             |7               |7            |7          |null          |null         |\n",
      "|273                |5001                |9                     |9           |8          |8            |8             |8               |8            |9          |null          |null         |\n",
      "|281                |5001                |10                    |10          |9          |9            |8             |9               |9            |12         |null          |null         |\n",
      "|315                |5001                |8                     |7           |7          |7            |8             |7               |8            |8          |null          |null         |\n",
      "|349                |5266                |8                     |6           |7          |8            |7             |7               |8            |9          |null          |null         |\n",
      "+-------------------+--------------------+----------------------+------------+-----------+-------------+--------------+----------------+-------------+-----------+--------------+-------------+\n",
      "only showing top 5 rows\n",
      "\n"
     ]
    }
   ],
   "source": [
    "dfc.show(5,False)"
   ]
  },
  {
   "cell_type": "code",
   "execution_count": 24,
   "metadata": {},
   "outputs": [
    {
     "name": "stdout",
     "output_type": "stream",
     "text": [
      "El numero de colegios es:  10160\n"
     ]
    }
   ],
   "source": [
    "print(\"El numero de colegios es: \", dfc.select('COLE_CODIGO_COLEGIO').count())"
   ]
  },
  {
   "cell_type": "markdown",
   "metadata": {},
   "source": [
    "## Anàlisis comparativo entre estudiantes y colegios"
   ]
  },
  {
   "cell_type": "code",
   "execution_count": 25,
   "metadata": {},
   "outputs": [],
   "source": [
    "dfjoin = df.join(dfc, df.cole_cod_dane_institucion == dfc.COLE_CODIGO_COLEGIO)"
   ]
  },
  {
   "cell_type": "code",
   "execution_count": 26,
   "metadata": {},
   "outputs": [
    {
     "name": "stdout",
     "output_type": "stream",
     "text": [
      "Nùmero de colegios coincidentes entre el archivo de estudiantes y colegios: 0\n"
     ]
    }
   ],
   "source": [
    "print(\"Nùmero de colegios coincidentes entre el archivo de estudiantes y colegios:\", dfjoin.count())"
   ]
  },
  {
   "cell_type": "code",
   "execution_count": 27,
   "metadata": {},
   "outputs": [
    {
     "name": "stdout",
     "output_type": "stream",
     "text": [
      "Nùmero de colegios coincidentes entre el archivo de estudiantes y colegios: 0\n"
     ]
    }
   ],
   "source": [
    "dfjoin = df.join(dfc, df.cole_cod_dane_institucion == dfc.COLE_CODMPIO_COLEGIO)\n",
    "dfjoin.count()\n",
    "print(\"Nùmero de colegios coincidentes entre el archivo de estudiantes y colegios:\", dfjoin.count())"
   ]
  },
  {
   "cell_type": "markdown",
   "metadata": {},
   "source": [
    "La informaciòn de colegios no coincide con la informaciòn de estudiantes, no existe cole_cod_dane_institucion en el archivo de colegios."
   ]
  },
  {
   "cell_type": "code",
   "execution_count": null,
   "metadata": {},
   "outputs": [],
   "source": []
  }
 ],
 "metadata": {
  "kernelspec": {
   "display_name": "Python 3",
   "language": "python",
   "name": "python3"
  },
  "language_info": {
   "codemirror_mode": {
    "name": "ipython",
    "version": 3
   },
   "file_extension": ".py",
   "mimetype": "text/x-python",
   "name": "python",
   "nbconvert_exporter": "python",
   "pygments_lexer": "ipython3",
   "version": "3.7.3"
  }
 },
 "nbformat": 4,
 "nbformat_minor": 2
}
