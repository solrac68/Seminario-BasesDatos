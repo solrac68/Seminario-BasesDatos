{
 "cells": [
  {
   "cell_type": "code",
   "execution_count": 12,
   "metadata": {},
   "outputs": [],
   "source": [
    "from pyspark.sql import SparkSession\n",
    "from pyspark.sql import Row\n",
    "from functools import reduce\n",
    "from pyspark.sql import DataFrame\n",
    "from pyspark.sql.types import StringType,DoubleType,FloatType\n",
    "from pyspark.sql.functions import udf\n",
    "from pyspark.sql.functions import regexp_replace\n",
    "import locale\n",
    "import sys\n",
    "import os\n",
    "import re"
   ]
  },
  {
   "cell_type": "code",
   "execution_count": 13,
   "metadata": {},
   "outputs": [
    {
     "data": {
      "text/html": [
       "\n",
       "        <div>\n",
       "            <p><b>SparkContext</b></p>\n",
       "\n",
       "            <p><a href=\"http://nodo1:4043\">Spark UI</a></p>\n",
       "\n",
       "            <dl>\n",
       "              <dt>Version</dt>\n",
       "                <dd><code>v2.4.3</code></dd>\n",
       "              <dt>Master</dt>\n",
       "                <dd><code>local[*]</code></dd>\n",
       "              <dt>AppName</dt>\n",
       "                <dd><code>PySparkShell</code></dd>\n",
       "            </dl>\n",
       "        </div>\n",
       "        "
      ],
      "text/plain": [
       "<SparkContext master=local[*] appName=PySparkShell>"
      ]
     },
     "execution_count": 13,
     "metadata": {},
     "output_type": "execute_result"
    }
   ],
   "source": [
    "sc"
   ]
  },
  {
   "cell_type": "code",
   "execution_count": 14,
   "metadata": {},
   "outputs": [
    {
     "data": {
      "text/html": [
       "\n",
       "            <div>\n",
       "                <p><b>SparkSession - hive</b></p>\n",
       "                \n",
       "        <div>\n",
       "            <p><b>SparkContext</b></p>\n",
       "\n",
       "            <p><a href=\"http://nodo1:4043\">Spark UI</a></p>\n",
       "\n",
       "            <dl>\n",
       "              <dt>Version</dt>\n",
       "                <dd><code>v2.4.3</code></dd>\n",
       "              <dt>Master</dt>\n",
       "                <dd><code>local[*]</code></dd>\n",
       "              <dt>AppName</dt>\n",
       "                <dd><code>PySparkShell</code></dd>\n",
       "            </dl>\n",
       "        </div>\n",
       "        \n",
       "            </div>\n",
       "        "
      ],
      "text/plain": [
       "<pyspark.sql.session.SparkSession at 0x7f4364538630>"
      ]
     },
     "execution_count": 14,
     "metadata": {},
     "output_type": "execute_result"
    }
   ],
   "source": [
    "spark"
   ]
  },
  {
   "cell_type": "markdown",
   "metadata": {},
   "source": [
    "# Leyendo lista de Colegios y Estudiantes"
   ]
  },
  {
   "cell_type": "code",
   "execution_count": 30,
   "metadata": {},
   "outputs": [],
   "source": [
    "base = '../Colegios'\n",
    "base2 = '../SB'\n",
    "colegios = os.listdir('../Colegios')\n",
    "estudiantes = os.listdir('../SB')"
   ]
  },
  {
   "cell_type": "code",
   "execution_count": 31,
   "metadata": {},
   "outputs": [],
   "source": [
    "estudiantes.sort()\n",
    "colegios.sort()\n",
    "estuDic = {}\n",
    "coleDic = {}\n",
    "for estu in estudiantes:\n",
    "    estuDic[re.findall('\\d+', estu)[1]] = estu\n",
    "\n",
    "for colegio in colegios:\n",
    "    coleDic[re.findall('\\d+', colegio)[1]] = colegio"
   ]
  },
  {
   "cell_type": "code",
   "execution_count": 32,
   "metadata": {},
   "outputs": [],
   "source": [
    "# Funciòn para unir cualquier nùmero de dataframes con la misma estructura \n",
    "def unionAll(*dfs):\n",
    "    return reduce(DataFrame.unionAll, dfs)"
   ]
  },
  {
   "cell_type": "code",
   "execution_count": 33,
   "metadata": {},
   "outputs": [
    {
     "name": "stdout",
     "output_type": "stream",
     "text": [
      "Archivos de estudiantes:  SB11_20091.txt SB11_20092.txt\n",
      "Archivos de colegios:  SB11-CLASIFI-PLANTELES-2009.txt\n"
     ]
    }
   ],
   "source": [
    "print(\"Archivos de estudiantes: \", estuDic['20091'],estuDic['20092'])\n",
    "print(\"Archivos de colegios: \",coleDic['2009'])"
   ]
  },
  {
   "cell_type": "code",
   "execution_count": 45,
   "metadata": {},
   "outputs": [],
   "source": [
    "columnasPuntos = [\n",
    " 'cole_cod_dane_institucion',\n",
    " 'cole_nombre_sede',\n",
    " 'punt_lenguaje',\n",
    " 'punt_matematicas',\n",
    " 'punt_c_sociales',\n",
    " 'punt_filosofia',\n",
    " 'punt_biologia',\n",
    " 'punt_quimica',\n",
    " 'punt_fisica',\n",
    " 'punt_ingles',\n",
    " 'punt_profundizacion',\n",
    " 'punt_interdisciplinar']"
   ]
  },
  {
   "cell_type": "code",
   "execution_count": 46,
   "metadata": {},
   "outputs": [],
   "source": [
    "# SE leen los dos archivos y se crean dos dataframes\n",
    "df1 = spark.read.load(base2 + '/' + estuDic['20091'],\"com.databricks.spark.csv\",header='true',inferSchema='true',sep='¬').select(columnasPuntos)\n",
    "df2 = spark.read.load(base2 + '/' + estuDic['20092'],\"com.databricks.spark.csv\",header='true',inferSchema='true',sep='¬').select(columnasPuntos)"
   ]
  },
  {
   "cell_type": "code",
   "execution_count": 47,
   "metadata": {},
   "outputs": [],
   "source": [
    "# SE unen los dos dataframes\n",
    "columnasPuntosc = [\n",
    " 'punt_lenguaje',\n",
    " 'punt_matematicas',\n",
    " 'punt_c_sociales',\n",
    " 'punt_filosofia',\n",
    " 'punt_biologia',\n",
    " 'punt_quimica',\n",
    " 'punt_fisica',\n",
    " 'punt_ingles',\n",
    " 'punt_profundizacion',\n",
    " 'punt_interdisciplinar']\n",
    "df = unionAll(df1,df2)\n",
    "for cp in columnasPuntosc:\n",
    "    df = df.withColumn(cp, regexp_replace(cp, ',', '.'))\n",
    "    df = df.withColumn(cp, df[cp].cast(\"float\"))\n",
    "\n",
    "df = df.na.fill({'cole_cod_dane_institucion':'--'})\n",
    "df = df.na.fill({'cole_nombre_sede':'--'})\n",
    "    \n",
    "df1 = df2 = None"
   ]
  },
  {
   "cell_type": "code",
   "execution_count": 48,
   "metadata": {},
   "outputs": [
    {
     "name": "stdout",
     "output_type": "stream",
     "text": [
      "Nùmero de filas con cole_cod_dane_institucion nulos:  5378\n",
      "Nùmero de filas con cole_nombre_sede nulos:  0\n"
     ]
    }
   ],
   "source": [
    "# SE evalua sí tiene valores nullos\n",
    "print(\"Nùmero de filas con cole_cod_dane_institucion nulos: \", df.filter(\"cole_cod_dane_institucion = '--'\").count())\n",
    "print(\"Nùmero de filas con cole_nombre_sede nulos: \", df.filter(\"cole_nombre_sede = '--'\").count())"
   ]
  },
  {
   "cell_type": "code",
   "execution_count": 49,
   "metadata": {},
   "outputs": [
    {
     "name": "stdout",
     "output_type": "stream",
     "text": [
      "root\n",
      " |-- cole_cod_dane_institucion: string (nullable = false)\n",
      " |-- cole_nombre_sede: string (nullable = false)\n",
      " |-- punt_lenguaje: float (nullable = true)\n",
      " |-- punt_matematicas: float (nullable = true)\n",
      " |-- punt_c_sociales: float (nullable = true)\n",
      " |-- punt_filosofia: float (nullable = true)\n",
      " |-- punt_biologia: float (nullable = true)\n",
      " |-- punt_quimica: float (nullable = true)\n",
      " |-- punt_fisica: float (nullable = true)\n",
      " |-- punt_ingles: float (nullable = true)\n",
      " |-- punt_profundizacion: float (nullable = true)\n",
      " |-- punt_interdisciplinar: float (nullable = true)\n",
      "\n",
      "None\n"
     ]
    }
   ],
   "source": [
    "print(df.printSchema())"
   ]
  },
  {
   "cell_type": "code",
   "execution_count": 50,
   "metadata": {},
   "outputs": [],
   "source": [
    "# Contando el numero de estudiantes por instituciòn y mostrandola de forma descendente\n",
    "dsCountEst = df.groupBy('cole_nombre_sede').count().orderBy('count',ascending=\n",
    "False)"
   ]
  },
  {
   "cell_type": "code",
   "execution_count": 51,
   "metadata": {},
   "outputs": [
    {
     "name": "stdout",
     "output_type": "stream",
     "text": [
      "+----------------------------------------------------------------------------------------------------+-------+\n",
      "|cole_nombre_sede                                                                                    |num_est|\n",
      "+----------------------------------------------------------------------------------------------------+-------+\n",
      "|INST EDUC CEFA                                                                                      |1062   |\n",
      "|INSTITUTO TECNICO INDUSTRIAL                                                                        |857    |\n",
      "|COL TECNISISTEMAS SEDE SUBA                                                                         |826    |\n",
      "|COLEGIO SAN JOSE F.E.S.S.J.                                                                         |802    |\n",
      "|CIBERCOLEGIO UCN                                                                                    |763    |\n",
      "|INST EDUC INEM JOSE FELIX DE RESTREPO                                                               |739    |\n",
      "|JORGE ELIECER GAITAN                                                                                |729    |\n",
      "|SEDE A - I E TEC INEM CUSTODIO GARCÍA ROVIRA                                                        |722    |\n",
      "|INSTITUTO TECNICO PADRE ALVARO GUTIERREZ PAZ Y FUTURO                                               |701    |\n",
      "|INEM FRANCISCO DE PAULA SANTANDER                                                                   |684    |\n",
      "+----------------------------------------------------------------------------------------------------+-------+\n",
      "only showing top 10 rows\n",
      "\n"
     ]
    }
   ],
   "source": [
    "dsCountEst = dsCountEst.withColumnRenamed(\"count\",\"num_est\")\n",
    "dsCountEst.show(10,False)"
   ]
  },
  {
   "cell_type": "code",
   "execution_count": 52,
   "metadata": {},
   "outputs": [
    {
     "name": "stdout",
     "output_type": "stream",
     "text": [
      "Numero màximo de estudiantes:  1062\n",
      "Numero mìnimo de estudiantes:  1\n"
     ]
    }
   ],
   "source": [
    "rowmax = dsCountEst.agg({\"num_est\": \"max\"}).collect()[0]\n",
    "rowmin = dsCountEst.agg({\"num_est\": \"min\"}).collect()[0]\n",
    "\n",
    "num_est_max = rowmax[\"max(num_est)\"]\n",
    "num_est_min = rowmin[\"min(num_est)\"]\n",
    "\n",
    "print(\"Numero màximo de estudiantes: \",num_est_max)\n",
    "print(\"Numero mìnimo de estudiantes: \",num_est_min)"
   ]
  },
  {
   "cell_type": "code",
   "execution_count": 53,
   "metadata": {},
   "outputs": [],
   "source": [
    "#Se crea una columna con el total de los puntajes   \n",
    "df= df.withColumn(\"Suma\",df['punt_lenguaje']+df['punt_matematicas']+df['punt_c_sociales']+\n",
    "                     df['punt_filosofia']+df['punt_biologia']+df['punt_quimica']+df['punt_fisica']+\n",
    "                     df['punt_ingles']+df['punt_profundizacion']+df['punt_interdisciplinar'])"
   ]
  },
  {
   "cell_type": "markdown",
   "metadata": {},
   "source": [
    "## Resultados finales por instituciòn"
   ]
  },
  {
   "cell_type": "code",
   "execution_count": 54,
   "metadata": {},
   "outputs": [
    {
     "name": "stdout",
     "output_type": "stream",
     "text": [
      "Màxima calificaciòn en colegios:  598.6423645019531\n",
      "Mìxima calificaciòn en colegios:  313.68999938964845\n"
     ]
    }
   ],
   "source": [
    "# Còdigo para obtener la media de los resultados de las evaluaciones de todos los estudiantes por instituciòn \n",
    "# y posiciòn en orden descendente.\n",
    "from pyspark.sql.functions import *\n",
    "from pyspark.sql.window import Window\n",
    "\n",
    "#df = df.groupBy('cole_cod_dane_institucion','cole_nombre_sede').mean()\n",
    "df = df.groupBy('cole_nombre_sede').mean()\n",
    "\n",
    "rowprommax = df.agg({\"avg(Suma)\": \"max\"}).collect()[0]\n",
    "rowprommin = df.agg({\"avg(Suma)\": \"min\"}).collect()[0]\n",
    "\n",
    "prom_est_max = rowprommax[\"max(avg(Suma))\"]\n",
    "prom_est_min = rowprommin[\"min(avg(Suma))\"]\n",
    "\n",
    "print(\"Màxima calificaciòn en colegios: \", prom_est_max)\n",
    "print(\"Mìxima calificaciòn en colegios: \", prom_est_min)"
   ]
  },
  {
   "cell_type": "markdown",
   "metadata": {},
   "source": [
    "## Creación de Indices de evaluación\n",
    "$Indice\\_Prom = \\frac{avg(Suma)}{max(avg(Suma))}$&nbsp;&nbsp;\n",
    "$0 < Indice\\_Prom \\leq 1$\n",
    "\n",
    "$Indice\\_Num = \\frac{num\\_est}{max(num\\_est)}$&nbsp;&nbsp;\n",
    "$0 < Indice\\_Num \\leq 1$\n",
    "\n",
    "$Indice\\_Total = Indice\\_Prom \\times Indice\\_Num$&nbsp;&nbsp;\n",
    "$0 < Indice\\_Total \\leq 1 $\n",
    "\n",
    "$Indice\\_Total$: tiene en consideraciòn el promedio de las calificaciones y el nùmero de estudiantes "
   ]
  },
  {
   "cell_type": "code",
   "execution_count": 55,
   "metadata": {},
   "outputs": [],
   "source": [
    "dfjoin = df.join(dsCountEst,\"cole_nombre_sede\")\n",
    "dfjoin= dfjoin.withColumn(\"Indice_Prom\",round(dfjoin['avg(Suma)']/prom_est_max,3))\n",
    "dfjoin= dfjoin.withColumn(\"Indice_Num\",round(dfjoin['num_est']/num_est_max,3))\n",
    "dfjoin= dfjoin.withColumn(\"Indice_Total\",round(dfjoin['Indice_Prom']*dfjoin['Indice_Num'],3))"
   ]
  },
  {
   "cell_type": "code",
   "execution_count": 56,
   "metadata": {},
   "outputs": [
    {
     "name": "stdout",
     "output_type": "stream",
     "text": [
      "root\n",
      " |-- cole_nombre_sede: string (nullable = false)\n",
      " |-- avg(punt_lenguaje): double (nullable = true)\n",
      " |-- avg(punt_matematicas): double (nullable = true)\n",
      " |-- avg(punt_c_sociales): double (nullable = true)\n",
      " |-- avg(punt_filosofia): double (nullable = true)\n",
      " |-- avg(punt_biologia): double (nullable = true)\n",
      " |-- avg(punt_quimica): double (nullable = true)\n",
      " |-- avg(punt_fisica): double (nullable = true)\n",
      " |-- avg(punt_ingles): double (nullable = true)\n",
      " |-- avg(punt_profundizacion): double (nullable = true)\n",
      " |-- avg(punt_interdisciplinar): double (nullable = true)\n",
      " |-- avg(Suma): double (nullable = true)\n",
      " |-- num_est: long (nullable = false)\n",
      " |-- Indice_Prom: double (nullable = true)\n",
      " |-- Indice_Num: double (nullable = true)\n",
      " |-- Indice_Total: double (nullable = true)\n",
      "\n"
     ]
    }
   ],
   "source": [
    "dfjoin.printSchema()"
   ]
  },
  {
   "cell_type": "code",
   "execution_count": 57,
   "metadata": {},
   "outputs": [
    {
     "name": "stdout",
     "output_type": "stream",
     "text": [
      "root\n",
      " |-- cole_nombre_sede: string (nullable = false)\n",
      " |-- avg(Suma): double (nullable = true)\n",
      " |-- num_est: long (nullable = false)\n",
      " |-- Indice_Prom: double (nullable = true)\n",
      " |-- Indice_Num: double (nullable = true)\n",
      " |-- Indice_Total: double (nullable = true)\n",
      " |-- rankProm: integer (nullable = true)\n",
      " |-- rankNum: integer (nullable = true)\n",
      " |-- rankTotal: integer (nullable = true)\n",
      " |-- Media: double (nullable = true)\n",
      "\n"
     ]
    }
   ],
   "source": [
    "dfjoin = dfjoin.select('cole_nombre_sede','avg(Suma)','num_est','Indice_Prom','Indice_Num','Indice_Total')\n",
    "dfjoin = dfjoin.withColumn(\"rankProm\", dense_rank().over(Window.orderBy(desc(\"Indice_Prom\"))))\n",
    "dfjoin = dfjoin.withColumn(\"rankNum\", dense_rank().over(Window.orderBy(desc(\"Indice_Num\"))))\n",
    "dfjoin = dfjoin.withColumn(\"rankTotal\", dense_rank().over(Window.orderBy(desc(\"Indice_Total\"))))\n",
    "dfjoin = dfjoin.withColumn(\"Media\",round(dfjoin['avg(Suma)'],2))\n",
    "dfjoin.printSchema()"
   ]
  },
  {
   "cell_type": "code",
   "execution_count": 58,
   "metadata": {},
   "outputs": [
    {
     "name": "stdout",
     "output_type": "stream",
     "text": [
      "+--------------------+------+-----------+-------+--------+-------+---------+\n",
      "|    cole_nombre_sede| Media|Indice_Prom|num_est|rankProm|rankNum|rankTotal|\n",
      "+--------------------+------+-----------+-------+--------+-------+---------+\n",
      "|COL LA QUINTA DEL...|598.64|        1.0|     34|       1|    336|      254|\n",
      "|GIMN VERMONT     ...|587.86|      0.982|     65|       2|    307|      226|\n",
      "|COL SAN JORGE DE ...|584.11|      0.976|     71|       3|    301|      221|\n",
      "|COLEGIO BILINGUE ...|575.11|      0.961|      9|       4|    360|      278|\n",
      "|COL SAN CARLOS   ...|572.29|      0.956|    103|       5|    271|      193|\n",
      "|     GIMN LA MONTAÑA|568.73|       0.95|     37|       6|    333|      253|\n",
      "|COL SANTA FRANCIS...|568.45|       0.95|     52|       6|    319|      239|\n",
      "|COL LOS NOGALES  ...|566.43|      0.946|     36|       7|    334|      254|\n",
      "|LIC FRANCES LOUIS...|565.09|      0.944|     80|       8|    293|      215|\n",
      "|INST ALBERTO MERA...|563.35|      0.941|     19|       9|    350|      269|\n",
      "+--------------------+------+-----------+-------+--------+-------+---------+\n",
      "only showing top 10 rows\n",
      "\n"
     ]
    }
   ],
   "source": [
    "# Se ordena por Indice_Prom\n",
    "dfjoin = dfjoin.orderBy('rankProm',ascending= True)\n",
    "dfjoin.select('cole_nombre_sede','Media','Indice_Prom','num_est','rankProm','rankNum','rankTotal').show(10)"
   ]
  },
  {
   "cell_type": "code",
   "execution_count": 59,
   "metadata": {},
   "outputs": [
    {
     "name": "stdout",
     "output_type": "stream",
     "text": [
      "+--------------------+------+----------+-------+--------+-------+---------+\n",
      "|    cole_nombre_sede| Media|Indice_Num|num_est|rankProm|rankNum|rankTotal|\n",
      "+--------------------+------+----------+-------+--------+-------+---------+\n",
      "|      INST EDUC CEFA|425.64|       1.0|   1062|     220|      1|        1|\n",
      "|INSTITUTO TECNICO...|407.54|     0.807|    857|     250|      2|        2|\n",
      "|COL TECNISISTEMAS...|397.58|     0.778|    826|     267|      3|        3|\n",
      "|COLEGIO SAN JOSE ...|387.93|     0.755|    802|     283|      4|        5|\n",
      "|CIBERCOLEGIO UCN ...|372.14|     0.718|    763|     309|      5|        8|\n",
      "|INST EDUC INEM JO...|426.49|     0.696|    739|     219|      6|        4|\n",
      "|JORGE ELIECER GAITAN|396.08|     0.686|    729|     269|      7|        7|\n",
      "|SEDE A - I E TEC ...|414.51|      0.68|    722|     239|      8|        6|\n",
      "|INSTITUTO TECNICO...|374.54|      0.66|    701|     305|      9|       13|\n",
      "|INEM FRANCISCO DE...|415.15|     0.644|    684|     238|     10|        9|\n",
      "+--------------------+------+----------+-------+--------+-------+---------+\n",
      "only showing top 10 rows\n",
      "\n"
     ]
    }
   ],
   "source": [
    "dfjoin = dfjoin.orderBy('rankNum',ascending= True)\n",
    "dfjoin.select('cole_nombre_sede','Media','Indice_Num','num_est','rankProm','rankNum','rankTotal').show(10)"
   ]
  },
  {
   "cell_type": "code",
   "execution_count": 60,
   "metadata": {},
   "outputs": [
    {
     "name": "stdout",
     "output_type": "stream",
     "text": [
      "+--------------------+------+------------+-------+--------+-------+---------+\n",
      "|    cole_nombre_sede| Media|Indice_Total|num_est|rankProm|rankNum|rankTotal|\n",
      "+--------------------+------+------------+-------+--------+-------+---------+\n",
      "|      INST EDUC CEFA|425.64|       0.711|   1062|     220|      1|        1|\n",
      "|INSTITUTO TECNICO...|407.54|        0.55|    857|     250|      2|        2|\n",
      "|COL TECNISISTEMAS...|397.58|       0.517|    826|     267|      3|        3|\n",
      "|INST EDUC INEM JO...|426.49|       0.496|    739|     219|      6|        4|\n",
      "|COLEGIO SAN JOSE ...|387.93|       0.489|    802|     283|      4|        5|\n",
      "|SEDE A - I E TEC ...|414.51|       0.471|    722|     239|      8|        6|\n",
      "|JORGE ELIECER GAITAN|396.08|       0.454|    729|     269|      7|        7|\n",
      "|CIBERCOLEGIO UCN ...|372.14|       0.447|    763|     309|      5|        8|\n",
      "|INEM FRANCISCO DE...|415.15|       0.446|    684|     238|     10|        9|\n",
      "| INEM SANTIAGO PEREZ|412.04|        0.42|    648|     243|     11|       10|\n",
      "+--------------------+------+------------+-------+--------+-------+---------+\n",
      "only showing top 10 rows\n",
      "\n"
     ]
    }
   ],
   "source": [
    "# Se ordena por Indice_Total\n",
    "dfjoin = dfjoin.orderBy('rankTotal',ascending= True)\n",
    "dfjoin.select('cole_nombre_sede','Media','Indice_Total','num_est','rankProm','rankNum','rankTotal').show(10)"
   ]
  },
  {
   "cell_type": "code",
   "execution_count": null,
   "metadata": {},
   "outputs": [],
   "source": []
  },
  {
   "cell_type": "markdown",
   "metadata": {},
   "source": [
    "## Colegios"
   ]
  },
  {
   "cell_type": "code",
   "execution_count": 18,
   "metadata": {},
   "outputs": [
    {
     "name": "stdout",
     "output_type": "stream",
     "text": [
      "+-------------------------+------------------+---------------------+--------------------+-------------------+------------------+------------------+------------------+-----------------+------------------------+--------------------------+-----------------+----+----+\n",
      "|cole_cod_dane_institucion|avg(punt_lenguaje)|avg(punt_matematicas)|avg(punt_c_sociales)|avg(punt_filosofia)|avg(punt_biologia)|avg(punt_quimica) |avg(punt_fisica)  |avg(punt_ingles) |avg(punt_profundizacion)|avg(punt_interdisciplinar)|avg(Suma)        |rank|año |\n",
      "+-------------------------+------------------+---------------------+--------------------+-------------------+------------------+------------------+------------------+-----------------+------------------------+--------------------------+-----------------+----+----+\n",
      "|368276000826             |62.61735287834616 |84.55176499310662    |58.171176573809454  |59.140587862800146 |62.60470659592573 |61.67117702259737 |62.11235315659467 |84.07588207020478|6.905588164049036       |56.79176487642176         |598.6423645019531|1   |2009|\n",
      "|311848000278             |62.93769202599159 |75.89584632286659    |57.565538670466495  |57.7856923029973   |63.73323147113506 |60.64200011033278 |58.51738516000601 |85.3163080068735 |6.729230756026048       |58.740000680776745        |587.8629319411058|2   |2009|\n",
      "|311769000165             |65.38352112031319 |79.07816959434831    |56.08845079448861   |56.0367607868893   |61.7959160603268  |60.939014381086324|59.76338072226081 |84.58154925494127|6.446901361707231       |53.99971803477113         |584.1133844080106|3   |2009|\n",
      "|376001013441             |60.570001390245224|81.48000081380208    |55.134444342719185  |54.65888892279731  |59.401112450493706|58.91333304511176 |59.548888736300995|83.96111128065321|6.179999934302436       |55.25889015197754         |575.106675889757 |4   |2009|\n",
      "|311848002424             |62.56097115822209 |75.33864100928446    |56.594951703710464  |55.085145857727646 |58.81941837940401 |60.20310692648286 |56.596602430621395|84.58126242183944|6.604368899632426       |55.90873825665817         |572.2932108166149|5   |2009|\n",
      "+-------------------------+------------------+---------------------+--------------------+-------------------+------------------+------------------+------------------+-----------------+------------------------+--------------------------+-----------------+----+----+\n",
      "only showing top 5 rows\n",
      "\n"
     ]
    }
   ],
   "source": [
    "# se crea un dataframe con una columna que lo señala el año 2006.\n",
    "from pyspark.sql.functions import lit\n",
    "df = df.withColumn('año',lit(2009))\n",
    "df.show(5,False)"
   ]
  },
  {
   "cell_type": "code",
   "execution_count": 19,
   "metadata": {},
   "outputs": [],
   "source": [
    "# SE crea Dataframe de colegios en este año desaparecio la columna COLE_CODMPIO_COLEGIO\n",
    "dfc = spark.read.load(base + '/' + coleDic['2009'],\"com.databricks.spark.csv\",header='true',inferSchema='true',sep='\\t')\n",
    "dfc = dfc.withColumn('COLE_CODIGO_COLEGIO', dfc['COLE_CODIGO_COLEGIO'].cast(\"string\"))"
   ]
  },
  {
   "cell_type": "code",
   "execution_count": 20,
   "metadata": {},
   "outputs": [
    {
     "name": "stdout",
     "output_type": "stream",
     "text": [
      "root\n",
      " |-- COLE_CODIGO_COLEGIO: string (nullable = true)\n",
      " |-- COLE_INST_NOMBRE: string (nullable = true)\n",
      " |-- COLE_COD_CIUDAD: integer (nullable = true)\n",
      " |-- COLE_MPIO_COLEGIO: string (nullable = true)\n",
      " |-- COLE_DEPTO_COLEGIO: string (nullable = true)\n",
      " |-- COLE_INST_JORNADA: string (nullable = true)\n",
      " |-- COLE_CALENDARIO_COLEGIO: string (nullable = true)\n",
      " |-- COLE_GENEROPOBLACION: string (nullable = true)\n",
      " |-- COLE_NATURALEZA: string (nullable = true)\n",
      " |-- COLE_CIENCIAS_SOCIALES: integer (nullable = true)\n",
      " |-- COLE_QUIMICA: integer (nullable = true)\n",
      " |-- COLE_FISICA: integer (nullable = true)\n",
      " |-- COLE_BIOLOGIA: integer (nullable = true)\n",
      " |-- COLE_FILOSOFIA: integer (nullable = true)\n",
      " |-- COLE_MATEMATICAS: integer (nullable = true)\n",
      " |-- COLE_LENGUAJE: integer (nullable = true)\n",
      " |-- COLE_INGLES: integer (nullable = true)\n",
      " |-- COLE_CATEGORIA: string (nullable = true)\n",
      " |-- COLE_ESTUDIANTES_PRESENTES: integer (nullable = true)\n",
      "\n",
      "None\n"
     ]
    }
   ],
   "source": [
    "print(dfc.printSchema())"
   ]
  },
  {
   "cell_type": "code",
   "execution_count": 21,
   "metadata": {},
   "outputs": [],
   "source": [
    "colsColegio = ['COLE_CODIGO_COLEGIO',\n",
    " 'COLE_CIENCIAS_SOCIALES',\n",
    " 'COLE_QUIMICA',\n",
    " 'COLE_FISICA',\n",
    " 'COLE_BIOLOGIA',\n",
    " 'COLE_FILOSOFIA',\n",
    " 'COLE_MATEMATICAS',\n",
    " 'COLE_LENGUAJE',\n",
    " 'COLE_INGLES']"
   ]
  },
  {
   "cell_type": "code",
   "execution_count": 22,
   "metadata": {},
   "outputs": [],
   "source": [
    "dfc = dfc.select(colsColegio)"
   ]
  },
  {
   "cell_type": "code",
   "execution_count": 23,
   "metadata": {},
   "outputs": [
    {
     "name": "stdout",
     "output_type": "stream",
     "text": [
      "+-------------------+----------------------+------------+-----------+-------------+--------------+----------------+-------------+-----------+\n",
      "|COLE_CODIGO_COLEGIO|COLE_CIENCIAS_SOCIALES|COLE_QUIMICA|COLE_FISICA|COLE_BIOLOGIA|COLE_FILOSOFIA|COLE_MATEMATICAS|COLE_LENGUAJE|COLE_INGLES|\n",
      "+-------------------+----------------------+------------+-----------+-------------+--------------+----------------+-------------+-----------+\n",
      "|18                 |8                     |8           |7          |8            |7             |7               |7            |9          |\n",
      "|59                 |8                     |7           |7          |7            |8             |7               |7            |7          |\n",
      "|75                 |7                     |7           |7          |7            |8             |7               |7            |7          |\n",
      "|83                 |9                     |8           |7          |8            |9             |8               |8            |9          |\n",
      "|91                 |9                     |9           |7          |8            |9             |9               |8            |11         |\n",
      "+-------------------+----------------------+------------+-----------+-------------+--------------+----------------+-------------+-----------+\n",
      "only showing top 5 rows\n",
      "\n"
     ]
    }
   ],
   "source": [
    "dfc.show(5,False)"
   ]
  },
  {
   "cell_type": "code",
   "execution_count": 24,
   "metadata": {},
   "outputs": [
    {
     "name": "stdout",
     "output_type": "stream",
     "text": [
      "El numero de colegios es:  10375\n"
     ]
    }
   ],
   "source": [
    "print(\"El numero de colegios es: \", dfc.select('COLE_CODIGO_COLEGIO').count())"
   ]
  },
  {
   "cell_type": "markdown",
   "metadata": {},
   "source": [
    "## Anàlisis comparativo entre estudiantes y colegios"
   ]
  },
  {
   "cell_type": "code",
   "execution_count": 25,
   "metadata": {},
   "outputs": [],
   "source": [
    "dfjoin = df.join(dfc, df.cole_cod_dane_institucion == dfc.COLE_CODIGO_COLEGIO)"
   ]
  },
  {
   "cell_type": "code",
   "execution_count": 26,
   "metadata": {},
   "outputs": [
    {
     "name": "stdout",
     "output_type": "stream",
     "text": [
      "Nùmero de colegios coincidentes entre el archivo de estudiantes y colegios: 0\n"
     ]
    }
   ],
   "source": [
    "print(\"Nùmero de colegios coincidentes entre el archivo de estudiantes y colegios:\", dfjoin.count())"
   ]
  },
  {
   "cell_type": "markdown",
   "metadata": {},
   "source": [
    "La informaciòn de colegios no coincide con la informaciòn de estudiantes, no existe cole_cod_dane_institucion en el archivo de colegios."
   ]
  },
  {
   "cell_type": "code",
   "execution_count": null,
   "metadata": {},
   "outputs": [],
   "source": []
  }
 ],
 "metadata": {
  "kernelspec": {
   "display_name": "Python 3",
   "language": "python",
   "name": "python3"
  },
  "language_info": {
   "codemirror_mode": {
    "name": "ipython",
    "version": 3
   },
   "file_extension": ".py",
   "mimetype": "text/x-python",
   "name": "python",
   "nbconvert_exporter": "python",
   "pygments_lexer": "ipython3",
   "version": "3.7.3"
  }
 },
 "nbformat": 4,
 "nbformat_minor": 2
}
