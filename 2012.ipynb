{
 "cells": [
  {
   "cell_type": "code",
   "execution_count": 237,
   "metadata": {},
   "outputs": [],
   "source": [
    "from pyspark.sql import SparkSession\n",
    "from pyspark.sql import Row\n",
    "from functools import reduce\n",
    "from pyspark.sql import DataFrame\n",
    "from pyspark.sql.types import StringType,DoubleType,FloatType\n",
    "from pyspark.sql.functions import udf\n",
    "from pyspark.sql.functions import regexp_replace\n",
    "from pyspark.sql.functions import lit\n",
    "import locale\n",
    "import sys\n",
    "import os\n",
    "import re"
   ]
  },
  {
   "cell_type": "code",
   "execution_count": 238,
   "metadata": {},
   "outputs": [
    {
     "data": {
      "text/html": [
       "\n",
       "        <div>\n",
       "            <p><b>SparkContext</b></p>\n",
       "\n",
       "            <p><a href=\"http://nodo1:4043\">Spark UI</a></p>\n",
       "\n",
       "            <dl>\n",
       "              <dt>Version</dt>\n",
       "                <dd><code>v2.4.3</code></dd>\n",
       "              <dt>Master</dt>\n",
       "                <dd><code>local[*]</code></dd>\n",
       "              <dt>AppName</dt>\n",
       "                <dd><code>PySparkShell</code></dd>\n",
       "            </dl>\n",
       "        </div>\n",
       "        "
      ],
      "text/plain": [
       "<SparkContext master=local[*] appName=PySparkShell>"
      ]
     },
     "execution_count": 238,
     "metadata": {},
     "output_type": "execute_result"
    }
   ],
   "source": [
    "sc"
   ]
  },
  {
   "cell_type": "code",
   "execution_count": 239,
   "metadata": {},
   "outputs": [
    {
     "data": {
      "text/html": [
       "\n",
       "            <div>\n",
       "                <p><b>SparkSession - hive</b></p>\n",
       "                \n",
       "        <div>\n",
       "            <p><b>SparkContext</b></p>\n",
       "\n",
       "            <p><a href=\"http://nodo1:4043\">Spark UI</a></p>\n",
       "\n",
       "            <dl>\n",
       "              <dt>Version</dt>\n",
       "                <dd><code>v2.4.3</code></dd>\n",
       "              <dt>Master</dt>\n",
       "                <dd><code>local[*]</code></dd>\n",
       "              <dt>AppName</dt>\n",
       "                <dd><code>PySparkShell</code></dd>\n",
       "            </dl>\n",
       "        </div>\n",
       "        \n",
       "            </div>\n",
       "        "
      ],
      "text/plain": [
       "<pyspark.sql.session.SparkSession at 0x7fb1d06c3630>"
      ]
     },
     "execution_count": 239,
     "metadata": {},
     "output_type": "execute_result"
    }
   ],
   "source": [
    "spark"
   ]
  },
  {
   "cell_type": "markdown",
   "metadata": {},
   "source": [
    "# Leyendo lista de Colegios y Estudiantes"
   ]
  },
  {
   "cell_type": "code",
   "execution_count": 240,
   "metadata": {},
   "outputs": [],
   "source": [
    "base = '../Colegios'\n",
    "base2 = '../SB'\n",
    "colegios = os.listdir('../Colegios')\n",
    "estudiantes = os.listdir('../SB')"
   ]
  },
  {
   "cell_type": "code",
   "execution_count": 241,
   "metadata": {},
   "outputs": [],
   "source": [
    "estudiantes.sort()\n",
    "colegios.sort()\n",
    "estuDic = {}\n",
    "coleDic = {}\n",
    "for estu in estudiantes:\n",
    "    estuDic[re.findall('\\d+', estu)[1]] = estu\n",
    "\n",
    "for colegio in colegios:\n",
    "    coleDic[re.findall('\\d+', colegio)[1]] = colegio"
   ]
  },
  {
   "cell_type": "code",
   "execution_count": 242,
   "metadata": {},
   "outputs": [],
   "source": [
    "# Funciòn para unir cualquier nùmero de dataframes con la misma estructura \n",
    "def unionAll(*dfs):\n",
    "    return reduce(DataFrame.unionAll, dfs)"
   ]
  },
  {
   "cell_type": "code",
   "execution_count": 243,
   "metadata": {},
   "outputs": [
    {
     "name": "stdout",
     "output_type": "stream",
     "text": [
      "Archivos de estudiantes:  SB11_20121.txt SB11_20122.txt\n",
      "Archivos de colegios:  SB11-CLASIFI-PLANTELES-2012.txt\n"
     ]
    }
   ],
   "source": [
    "print(\"Archivos de estudiantes: \", estuDic['20121'],estuDic['20122'])\n",
    "print(\"Archivos de colegios: \",coleDic['2012'])"
   ]
  },
  {
   "cell_type": "code",
   "execution_count": 244,
   "metadata": {},
   "outputs": [],
   "source": [
    "# SE leen los dos archivos y se crean dos dataframes\n",
    "df1 = spark.read.load(base2 + '/' + estuDic['20121'],\"com.databricks.spark.csv\",header='true',inferSchema='true',sep='¬')\n",
    "df2 = spark.read.load(base2 + '/' + estuDic['20122'],\"com.databricks.spark.csv\",header='true',inferSchema='true',sep='¬')"
   ]
  },
  {
   "cell_type": "code",
   "execution_count": 245,
   "metadata": {},
   "outputs": [
    {
     "data": {
      "text/plain": [
       "['ESTU_TIPODOCUMENTO',\n",
       " 'ESTU_NACIONALIDAD',\n",
       " 'ESTU_GENERO',\n",
       " 'ESTU_FECHANACIMIENTO',\n",
       " 'PERIODO',\n",
       " 'ESTU_CONSECUTIVO',\n",
       " 'ESTU_ESTUDIANTE',\n",
       " 'ESTU_PAIS_RESIDE',\n",
       " 'ESTU_ETNIA',\n",
       " 'ESTU_LIMITA_MOTRIZ',\n",
       " 'ESTU_LIMITA_INVIDENTE',\n",
       " 'ESTU_LIMITA_CONDICIONESPECIAL',\n",
       " 'ESTU_LIMITA_SORDOCONINTERPRETE',\n",
       " 'ESTU_LIMITA_SORDOSININTERPRETE',\n",
       " 'ESTU_LIMITA_SORDOCEGUERA',\n",
       " 'ESTU_DEPTO_RESIDE',\n",
       " 'ESTU_COD_RESIDE_DEPTO',\n",
       " 'ESTU_MCPIO_RESIDE',\n",
       " 'ESTU_COD_RESIDE_MCPIO',\n",
       " 'ESTU_AREARESIDE',\n",
       " 'ESTU_MESTERMINOBACHILLER',\n",
       " 'ESTU_ANOTERMINOBACHILLER',\n",
       " 'ESTU_VALORPENSIONCOLEGIO',\n",
       " 'ESTU_OCUPACION_ACTUAL',\n",
       " 'ESTU_MOTIVO_PRESENTAVALIDACION',\n",
       " 'ESTU_VECESPRESENTOEXAMEN',\n",
       " 'ESTU_FECHAGRADOBACHILLER',\n",
       " 'FAMI_EDUCACIONPADRE',\n",
       " 'FAMI_EDUCACIONMADRE',\n",
       " 'FAMI_OCUPACIONPADRE',\n",
       " 'FAMI_OCUPACIONMADRE',\n",
       " 'FAMI_ESTRATOVIVIENDA',\n",
       " 'FAMI_NIVELSISBEN',\n",
       " 'FAMI_PERSONASHOGAR',\n",
       " 'FAMI_CUARTOSHOGAR',\n",
       " 'FAMI_PISOSHOGAR',\n",
       " 'FAMI_TIENEINTERNET',\n",
       " 'FAMI_TIENE_SERVICIOTV',\n",
       " 'FAMI_TIENECOMPUTADOR',\n",
       " 'FAMI_TIENELAVADORA',\n",
       " 'FAMI_TIENEMICROONDAS',\n",
       " 'FAMI_TIENEAUTOMOVIL',\n",
       " 'FAMI_TIENEDVD',\n",
       " 'FAMI_TIENE_NEVERA',\n",
       " 'FAMI_TIENE_CELULAR',\n",
       " 'FAMI_TELEFONO',\n",
       " 'FAMI_INGRESOFMILIARMENSUAL',\n",
       " 'ESTU_TRABAJAACTUALMENTE',\n",
       " 'ESTU_ANTECEDENTES',\n",
       " 'ESTU_ANOSPREESCOLAR',\n",
       " 'ESTU_ANOMATRICULAPRIMERO',\n",
       " 'ESTU_ANOTERMINOQUINTO',\n",
       " 'ESTU_ANOMATRICULASEXTO',\n",
       " 'ESTU_REPROBOPRIMERO',\n",
       " 'ESTU_REPROBOSEGUNDO',\n",
       " 'ESTU_REPROBOTERCERO',\n",
       " 'ESTU_REPROBOCUARTO',\n",
       " 'ESTU_REPROBOQUINTO',\n",
       " 'ESTU_REPROBOSEXTO',\n",
       " 'ESTU_REPROBOSEPTIMO',\n",
       " 'ESTU_REPROBOOCTAVO',\n",
       " 'ESTU_REPROBONOVENO',\n",
       " 'ESTU_REPROBODECIMO',\n",
       " 'ESTU_REPROBOONCEMAS',\n",
       " 'ESTU_ANOSCOLEGIOACTUAL',\n",
       " 'ESTU_CUANTOSCOLEGIOESTUDIO',\n",
       " 'ESTU_TOTALALUMNOSCURSO',\n",
       " 'ESTU_TIPOCARRERADESEADA',\n",
       " 'ESTU_INSTPORPRESTIGIO',\n",
       " 'ESTU_INSTPORCOSTOMATRICULA',\n",
       " 'ESTU_INSTPORUBICACION',\n",
       " 'ESTU_INSTPORUNICAQUEOFRECE',\n",
       " 'ESTU_INSTPOROPORTUNIDADES',\n",
       " 'ESTU_INSTPORAMIGOSESTUDIANDO',\n",
       " 'ESTU_INSTPOROTRARAZON',\n",
       " 'ESTU_PROGORIENTACIONVOCACIONAL',\n",
       " 'ESTU_PROGPORBUSCANDOCARRERA',\n",
       " 'ESTU_PROGPORCOLOMBIAAPRENDE',\n",
       " 'ESTU_PROGPORINTERESPERSONAL',\n",
       " 'ESTU_PROGPORTRADICIONFAMILIAR',\n",
       " 'ESTU_PROGPORMEJORARPOSICSOCIAL',\n",
       " 'ESTU_PROGPORINFLUENCIAALGUIEN',\n",
       " 'COLE_CODIGO_ICFES',\n",
       " 'COLE_COD_DANE_ESTABLECIMIENTO',\n",
       " 'COLE_NOMBRE_ESTABLECIMIENTO',\n",
       " 'COLE_GENERO',\n",
       " 'COLE_NATURALEZA',\n",
       " 'COLE_CALENDARIO',\n",
       " 'COLE_BILINGUE',\n",
       " 'COLE_CARACTER',\n",
       " 'COLE_COD_DANE_SEDE',\n",
       " 'COLE_NOMBRE_SEDE',\n",
       " 'COLE_SEDE_PRINCIPAL',\n",
       " 'COLE_AREA_UBICACION',\n",
       " 'COLE_JORNADA',\n",
       " 'COLE_COD_MCPIO_UBICACION',\n",
       " 'COLE_MCPIO_UBICACION',\n",
       " 'COLE_COD_DEPTO_UBICACION',\n",
       " 'COLE_DEPTO_UBICACION',\n",
       " 'ESTU_PRIVADO_LIBERTAD',\n",
       " 'ESTU_COD_MCPIO_PRESENTACION',\n",
       " 'ESTU_MCPIO_PRESENTACION',\n",
       " 'ESTU_DEPTO_PRESENTACION',\n",
       " 'ESTU_COD_DEPTO_PRESENTACION',\n",
       " 'PUNT_MATEMATICAS',\n",
       " 'PUNT_INGLES',\n",
       " 'DESEMP_INGLES',\n",
       " 'PUNT_CIENCIAS_SOCIALES',\n",
       " 'PUNT_BIOLOGIA',\n",
       " 'PUNT_FILOSOFIA',\n",
       " 'PUNT_FISICA',\n",
       " 'PUNT_QUIMICA',\n",
       " 'PUNT_LENGUAJE',\n",
       " 'PUNT_INTERDISC_MEDIOAMBIENTE',\n",
       " 'PUNT_INTERDISC_VIOLENCIAYSOC',\n",
       " 'PUNT_PROFUNDIZA_BIOLOGIA',\n",
       " 'DESEMP_PROFUNDIZA_BIOLOGIA',\n",
       " 'PUNT_PROFUNDIZA_CSOCIALES',\n",
       " 'DESEMP_PROFUNDIZA_CSOCIALES',\n",
       " 'PUNT_PROFUNDIZA_LENGUAJE',\n",
       " 'DESEMP_PROFUNDIZA_LENGUAJE',\n",
       " 'PUNT_PROFUNDIZA_MATEMATICA',\n",
       " 'DESEMP_PROFUNDIZA_MATEMATICA',\n",
       " 'ESTU_PUESTO',\n",
       " 'RECAF_PUNT_SOCIALES_CIUDADANAS',\n",
       " 'RECAF_PUNT_INGLES',\n",
       " 'RECAF_PUNT_LECTURA_CRITICA',\n",
       " 'RECAF_PUNT_MATEMATICAS',\n",
       " 'RECAF_PUNT_C_NATURALES',\n",
       " 'ESTU_ESTADOINVESTIGACION']"
      ]
     },
     "execution_count": 245,
     "metadata": {},
     "output_type": "execute_result"
    }
   ],
   "source": [
    "df1.columns"
   ]
  },
  {
   "cell_type": "code",
   "execution_count": 246,
   "metadata": {},
   "outputs": [
    {
     "data": {
      "text/plain": [
       "['ESTU_TIPODOCUMENTO',\n",
       " 'ESTU_NACIONALIDAD',\n",
       " 'ESTU_GENERO',\n",
       " 'ESTU_FECHANACIMIENTO',\n",
       " 'PERIODO',\n",
       " 'ESTU_CONSECUTIVO',\n",
       " 'ESTU_ESTUDIANTE',\n",
       " 'ESTU_PAIS_RESIDE',\n",
       " 'ESTU_DEPTO_RESIDE',\n",
       " 'ESTU_COD_RESIDE_DEPTO',\n",
       " 'ESTU_MCPIO_RESIDE',\n",
       " 'ESTU_COD_RESIDE_MCPIO',\n",
       " 'ESTU_AREARESIDE',\n",
       " 'ESTU_MESTERMINOBACHILLER',\n",
       " 'ESTU_ANOTERMINOBACHILLER',\n",
       " 'ESTU_VALORPENSIONCOLEGIO',\n",
       " 'ESTU_MOTIVO_PRESENTAVALIDACION',\n",
       " 'ESTU_FECHAGRADOBACHILLER',\n",
       " 'FAMI_EDUCACIONPADRE',\n",
       " 'FAMI_EDUCACIONMADRE',\n",
       " 'FAMI_OCUPACIONPADRE',\n",
       " 'FAMI_OCUPACIONMADRE',\n",
       " 'FAMI_ESTRATOVIVIENDA',\n",
       " 'FAMI_NIVELSISBEN',\n",
       " 'FAMI_PERSONASHOGAR',\n",
       " 'FAMI_CUARTOSHOGAR',\n",
       " 'FAMI_PISOSHOGAR',\n",
       " 'FAMI_TIENEINTERNET',\n",
       " 'FAMI_TIENE_SERVICIOTV',\n",
       " 'FAMI_TIENECOMPUTADOR',\n",
       " 'FAMI_TIENELAVADORA',\n",
       " 'FAMI_TIENEMICROONDAS',\n",
       " 'FAMI_TIENEHORNO',\n",
       " 'FAMI_TIENEAUTOMOVIL',\n",
       " 'FAMI_TIENEDVD',\n",
       " 'FAMI_TIENE_NEVERA',\n",
       " 'FAMI_TIENE_CELULAR',\n",
       " 'FAMI_TELEFONO',\n",
       " 'FAMI_INGRESOFMILIARMENSUAL',\n",
       " 'ESTU_TRABAJAACTUALMENTE',\n",
       " 'ESTU_HORASSEMANATRABAJA',\n",
       " 'ESTU_ANTECEDENTES',\n",
       " 'ESTU_ANOSPREESCOLAR',\n",
       " 'ESTU_ANOMATRICULAPRIMERO',\n",
       " 'ESTU_ANOTERMINOQUINTO',\n",
       " 'ESTU_ANOMATRICULASEXTO',\n",
       " 'ESTU_REPROBOPRIMERO',\n",
       " 'ESTU_REPROBOSEGUNDO',\n",
       " 'ESTU_REPROBOTERCERO',\n",
       " 'ESTU_REPROBOCUARTO',\n",
       " 'ESTU_REPROBOQUINTO',\n",
       " 'ESTU_REPROBOSEXTO',\n",
       " 'ESTU_REPROBOSEPTIMO',\n",
       " 'ESTU_REPROBOOCTAVO',\n",
       " 'ESTU_REPROBONOVENO',\n",
       " 'ESTU_REPROBODECIMO',\n",
       " 'ESTU_REPROBOONCEMAS',\n",
       " 'ESTU_ANOSCOLEGIOACTUAL',\n",
       " 'ESTU_CUANTOSCOLEGIOESTUDIO',\n",
       " 'ESTU_SERETIROCOLEGIO',\n",
       " 'ESTU_RAZONRETIROCOLEGIO',\n",
       " 'ESTU_TOTALALUMNOSCURSO',\n",
       " 'ESTU_TIPOCARRERADESEADA',\n",
       " 'ESTU_RAZON_INST_DESEADA',\n",
       " 'ESTU_INSTPORPRESTIGIO',\n",
       " 'ESTU_INSTPORCOSTOMATRICULA',\n",
       " 'ESTU_INSTPORUBICACION',\n",
       " 'ESTU_INSTPORUNICAQUEOFRECE',\n",
       " 'ESTU_INSTPOROPORTUNIDADES',\n",
       " 'ESTU_INSTPORAMIGOSESTUDIANDO',\n",
       " 'ESTU_INSTPOROTRARAZON',\n",
       " 'ESTU_RAZON_PROG_DESEADO',\n",
       " 'ESTU_PROGORIENTACIONVOCACIONAL',\n",
       " 'ESTU_PROGPORBUSCANDOCARRERA',\n",
       " 'ESTU_PROGPORCOLOMBIAAPRENDE',\n",
       " 'ESTU_PROGPORINTERESPERSONAL',\n",
       " 'ESTU_PROGPORTRADICIONFAMILIAR',\n",
       " 'ESTU_PROGPORMEJORARPOSICSOCIAL',\n",
       " 'ESTU_PROGPORINFLUENCIAALGUIEN',\n",
       " 'COLE_CODIGO_ICFES',\n",
       " 'COLE_COD_DANE_ESTABLECIMIENTO',\n",
       " 'COLE_NOMBRE_ESTABLECIMIENTO',\n",
       " 'COLE_GENERO',\n",
       " 'COLE_NATURALEZA',\n",
       " 'COLE_CALENDARIO',\n",
       " 'COLE_BILINGUE',\n",
       " 'COLE_CARACTER',\n",
       " 'COLE_COD_DANE_SEDE',\n",
       " 'COLE_NOMBRE_SEDE',\n",
       " 'COLE_SEDE_PRINCIPAL',\n",
       " 'COLE_AREA_UBICACION',\n",
       " 'COLE_COD_MCPIO_UBICACION',\n",
       " 'COLE_JORNADA',\n",
       " 'COLE_MCPIO_UBICACION',\n",
       " 'COLE_COD_DEPTO_UBICACION',\n",
       " 'COLE_DEPTO_UBICACION',\n",
       " 'ESTU_PRIVADO_LIBERTAD',\n",
       " 'ESTU_COD_MCPIO_PRESENTACION',\n",
       " 'ESTU_MCPIO_PRESENTACION',\n",
       " 'ESTU_DEPTO_PRESENTACION',\n",
       " 'ESTU_COD_DEPTO_PRESENTACION',\n",
       " 'PUNT_MATEMATICAS',\n",
       " 'PUNT_INGLES',\n",
       " 'DESEMP_INGLES',\n",
       " 'PUNT_CIENCIAS_SOCIALES',\n",
       " 'PUNT_BIOLOGIA',\n",
       " 'PUNT_FILOSOFIA',\n",
       " 'PUNT_FISICA',\n",
       " 'PUNT_QUIMICA',\n",
       " 'PUNT_LENGUAJE',\n",
       " 'PUNT_INTERDISC_MEDIOAMBIENTE',\n",
       " 'PUNT_INTERDISC_VIOLENCIAYSOC',\n",
       " 'PUNT_PROFUNDIZA_BIOLOGIA',\n",
       " 'DESEMP_PROFUNDIZA_BIOLOGIA',\n",
       " 'PUNT_PROFUNDIZA_CSOCIALES',\n",
       " 'DESEMP_PROFUNDIZA_CSOCIALES',\n",
       " 'PUNT_PROFUNDIZA_LENGUAJE',\n",
       " 'DESEMP_PROFUNDIZA_LENGUAJE',\n",
       " 'PUNT_PROFUNDIZA_MATEMATICA',\n",
       " 'DESEMP_PROFUNDIZA_MATEMATICA',\n",
       " 'ESTU_PUESTO',\n",
       " 'RECAF_PUNT_SOCIALES_CIUDADANAS',\n",
       " 'RECAF_PUNT_INGLES',\n",
       " 'RECAF_PUNT_LECTURA_CRITICA',\n",
       " 'RECAF_PUNT_MATEMATICAS',\n",
       " 'RECAF_PUNT_C_NATURALES',\n",
       " 'ESTU_ESTADOINVESTIGACION']"
      ]
     },
     "execution_count": 246,
     "metadata": {},
     "output_type": "execute_result"
    }
   ],
   "source": [
    "df2.columns"
   ]
  },
  {
   "cell_type": "code",
   "execution_count": 247,
   "metadata": {},
   "outputs": [],
   "source": [
    "columnasPuntos20121 = [\n",
    " 'COLE_COD_DANE_ESTABLECIMIENTO',\n",
    " 'COLE_NOMBRE_ESTABLECIMIENTO',\n",
    " 'PUNT_MATEMATICAS',\n",
    " 'PUNT_INGLES',\n",
    " 'PUNT_CIENCIAS_SOCIALES',\n",
    " 'PUNT_BIOLOGIA',\n",
    " 'PUNT_FILOSOFIA',\n",
    " 'PUNT_FISICA',\n",
    " 'PUNT_QUIMICA',\n",
    " 'PUNT_LENGUAJE',\n",
    " 'PUNT_INTERDISC_MEDIOAMBIENTE',\n",
    " 'PUNT_INTERDISC_VIOLENCIAYSOC',\n",
    " 'PUNT_PROFUNDIZA_BIOLOGIA',\n",
    " 'PUNT_PROFUNDIZA_CSOCIALES',\n",
    " 'PUNT_PROFUNDIZA_LENGUAJE',\n",
    " 'PUNT_PROFUNDIZA_MATEMATICA']\n",
    "\n",
    "columnasPuntos20122 = [\n",
    " 'COLE_COD_DANE_ESTABLECIMIENTO',\n",
    " 'COLE_NOMBRE_ESTABLECIMIENTO',\n",
    " 'PUNT_MATEMATICAS',\n",
    " 'PUNT_INGLES',\n",
    " 'PUNT_CIENCIAS_SOCIALES',\n",
    " 'PUNT_BIOLOGIA',\n",
    " 'PUNT_FILOSOFIA',\n",
    " 'PUNT_FISICA',\n",
    " 'PUNT_QUIMICA',\n",
    " 'PUNT_LENGUAJE',\n",
    " 'PUNT_INTERDISC_MEDIOAMBIENTE',\n",
    " 'PUNT_INTERDISC_VIOLENCIAYSOC',\n",
    " 'PUNT_PROFUNDIZA_BIOLOGIA',\n",
    " 'PUNT_PROFUNDIZA_CSOCIALES',\n",
    " 'PUNT_PROFUNDIZA_LENGUAJE',\n",
    " 'PUNT_PROFUNDIZA_MATEMATICA',   \n",
    "]"
   ]
  },
  {
   "cell_type": "code",
   "execution_count": 248,
   "metadata": {},
   "outputs": [],
   "source": [
    "# SE leen los dos archivos y se crean dos dataframes\n",
    "df1 = df1.select(columnasPuntos20121)\n",
    "df2 = df2.select(columnasPuntos20122)"
   ]
  },
  {
   "cell_type": "code",
   "execution_count": 249,
   "metadata": {},
   "outputs": [],
   "source": [
    "#dft = df1.columns.remove('cole_cod_dane_institucion')\n",
    "cols = columnasPuntos20122\n",
    "cols.remove('COLE_COD_DANE_ESTABLECIMIENTO')\n",
    "cols.remove('COLE_NOMBRE_ESTABLECIMIENTO')"
   ]
  },
  {
   "cell_type": "code",
   "execution_count": 250,
   "metadata": {},
   "outputs": [],
   "source": [
    "# SE unen los dos dataframes\n",
    "df = unionAll(df1,df2)\n",
    "for cp in cols:\n",
    "    df = df.withColumn(cp, regexp_replace(cp, ',', '.'))\n",
    "    df = df.withColumn(cp, df[cp].cast(\"float\"))\n",
    "    df = df.na.fill({cp:0})"
   ]
  },
  {
   "cell_type": "code",
   "execution_count": 251,
   "metadata": {},
   "outputs": [
    {
     "name": "stdout",
     "output_type": "stream",
     "text": [
      "root\n",
      " |-- COLE_COD_DANE_ESTABLECIMIENTO: long (nullable = true)\n",
      " |-- COLE_NOMBRE_ESTABLECIMIENTO: string (nullable = true)\n",
      " |-- PUNT_MATEMATICAS: float (nullable = false)\n",
      " |-- PUNT_INGLES: float (nullable = false)\n",
      " |-- PUNT_CIENCIAS_SOCIALES: float (nullable = false)\n",
      " |-- PUNT_BIOLOGIA: float (nullable = false)\n",
      " |-- PUNT_FILOSOFIA: float (nullable = false)\n",
      " |-- PUNT_FISICA: float (nullable = false)\n",
      " |-- PUNT_QUIMICA: float (nullable = false)\n",
      " |-- PUNT_LENGUAJE: float (nullable = false)\n",
      " |-- PUNT_INTERDISC_MEDIOAMBIENTE: float (nullable = false)\n",
      " |-- PUNT_INTERDISC_VIOLENCIAYSOC: float (nullable = false)\n",
      " |-- PUNT_PROFUNDIZA_BIOLOGIA: float (nullable = false)\n",
      " |-- PUNT_PROFUNDIZA_CSOCIALES: float (nullable = false)\n",
      " |-- PUNT_PROFUNDIZA_LENGUAJE: float (nullable = false)\n",
      " |-- PUNT_PROFUNDIZA_MATEMATICA: float (nullable = false)\n",
      "\n",
      "None\n"
     ]
    }
   ],
   "source": [
    "print(df.printSchema())"
   ]
  },
  {
   "cell_type": "code",
   "execution_count": 252,
   "metadata": {},
   "outputs": [],
   "source": [
    "df = df.withColumn('COLE_COD_DANE_ESTABLECIMIENTO', df['COLE_COD_DANE_ESTABLECIMIENTO'].cast(\"string\"))"
   ]
  },
  {
   "cell_type": "code",
   "execution_count": 253,
   "metadata": {},
   "outputs": [
    {
     "name": "stdout",
     "output_type": "stream",
     "text": [
      "Numero de filas  580551\n"
     ]
    }
   ],
   "source": [
    "print(\"Numero de filas \", df.count())"
   ]
  },
  {
   "cell_type": "code",
   "execution_count": 254,
   "metadata": {},
   "outputs": [],
   "source": [
    "# Contando el numero de estudiantes por instituciòn y mostrandola de forma descendente\n",
    "dsCountEst = df.groupBy('COLE_COD_DANE_ESTABLECIMIENTO').count().orderBy('count',ascending=\n",
    "False)"
   ]
  },
  {
   "cell_type": "code",
   "execution_count": 255,
   "metadata": {},
   "outputs": [
    {
     "name": "stdout",
     "output_type": "stream",
     "text": [
      "+-----------------------------+-------+\n",
      "|COLE_COD_DANE_ESTABLECIMIENTO|num_est|\n",
      "+-----------------------------+-------+\n",
      "|311001105391                 |1202   |\n",
      "|105001000108                 |1093   |\n",
      "|311001105863                 |1076   |\n",
      "|null                         |961    |\n",
      "|105001013340                 |831    |\n",
      "|105615000236                 |660    |\n",
      "|305001003963                 |659    |\n",
      "|176001005813                 |620    |\n",
      "|105154000301                 |594    |\n",
      "|168001003591                 |586    |\n",
      "+-----------------------------+-------+\n",
      "only showing top 10 rows\n",
      "\n"
     ]
    }
   ],
   "source": [
    "dsCountEst = dsCountEst.withColumnRenamed(\"count\",\"num_est\")\n",
    "dsCountEst.show(10,False)\n",
    "# Numero de estudiantes por instituciòn"
   ]
  },
  {
   "cell_type": "code",
   "execution_count": 256,
   "metadata": {},
   "outputs": [],
   "source": [
    "rowmax = dsCountEst.agg({\"num_est\": \"max\"}).collect()[0]\n",
    "rowmin = dsCountEst.agg({\"num_est\": \"min\"}).collect()[0]\n",
    "\n",
    "num_est_max = rowmax[\"max(num_est)\"]\n",
    "num_est_min = rowmin[\"min(num_est)\"]"
   ]
  },
  {
   "cell_type": "code",
   "execution_count": 257,
   "metadata": {},
   "outputs": [
    {
     "name": "stdout",
     "output_type": "stream",
     "text": [
      "Nùmero de estudiantes màximo:  1202\n",
      "Nùmero de estudiantes mìnimo:  1\n"
     ]
    }
   ],
   "source": [
    "print(\"Nùmero de estudiantes màximo: \", num_est_max)\n",
    "print(\"Nùmero de estudiantes mìnimo: \", num_est_min)"
   ]
  },
  {
   "cell_type": "code",
   "execution_count": 258,
   "metadata": {},
   "outputs": [],
   "source": [
    "\n",
    "#Se crea una columna con el total de los puntajes    \n",
    "df= df.withColumn(\"Suma\",df['PUNT_MATEMATICAS']+df['PUNT_INGLES']+df['PUNT_CIENCIAS_SOCIALES']+\n",
    "                     df['PUNT_BIOLOGIA']+df['PUNT_FILOSOFIA']+df['PUNT_FISICA']+df['PUNT_QUIMICA']+\n",
    "                     df['PUNT_LENGUAJE']+df['PUNT_INTERDISC_MEDIOAMBIENTE']+df['PUNT_INTERDISC_VIOLENCIAYSOC']+\n",
    "                     df['PUNT_PROFUNDIZA_BIOLOGIA']+\n",
    "                     df['PUNT_PROFUNDIZA_CSOCIALES']+df['PUNT_PROFUNDIZA_LENGUAJE']+df['PUNT_PROFUNDIZA_MATEMATICA'])\n"
   ]
  },
  {
   "cell_type": "markdown",
   "metadata": {},
   "source": [
    "## Resultados finales por instituciòn"
   ]
  },
  {
   "cell_type": "code",
   "execution_count": 259,
   "metadata": {},
   "outputs": [
    {
     "name": "stdout",
     "output_type": "stream",
     "text": [
      "Màxima calificaciòn en colegios:  586.6666666666666\n",
      "Mìxima calificaciòn en colegios:  283.6363636363636\n"
     ]
    }
   ],
   "source": [
    "from pyspark.sql.functions import *\n",
    "from pyspark.sql.window import Window\n",
    "\n",
    "df = df.groupBy('COLE_COD_DANE_ESTABLECIMIENTO','COLE_NOMBRE_ESTABLECIMIENTO').mean()\n",
    "\n",
    "rowprommax = df.agg({\"avg(Suma)\": \"max\"}).collect()[0]\n",
    "rowprommin = df.agg({\"avg(Suma)\": \"min\"}).collect()[0]\n",
    "\n",
    "prom_est_max = rowprommax[\"max(avg(Suma))\"]\n",
    "prom_est_min = rowprommin[\"min(avg(Suma))\"]\n",
    "\n",
    "print(\"Màxima calificaciòn en colegios: \", prom_est_max)\n",
    "print(\"Mìxima calificaciòn en colegios: \", prom_est_min)"
   ]
  },
  {
   "cell_type": "markdown",
   "metadata": {},
   "source": [
    "## Creación de Indices de evaluación\n",
    "$Indice\\_Prom = \\frac{avg(Suma)}{max(avg(Suma))}$&nbsp;&nbsp;\n",
    "$0 < Indice\\_Prom \\leq 1$\n",
    "\n",
    "$Indice\\_Num = \\frac{num\\_est}{max(num\\_est)}$&nbsp;&nbsp;\n",
    "$0 < Indice\\_Num \\leq 1$\n",
    "\n",
    "$Indice\\_Total = Indice\\_Prom \\times Indice\\_Num$&nbsp;&nbsp;\n",
    "$0 < Indice\\_Total \\leq 1 $\n",
    "\n",
    "$Indice\\_Total$: tiene en consideraciòn el promedio de las calificaciones y el nùmero de estudiantes \n",
    "\n"
   ]
  },
  {
   "cell_type": "code",
   "execution_count": 260,
   "metadata": {},
   "outputs": [],
   "source": [
    "dfjoin = df.join(dsCountEst,\"COLE_COD_DANE_ESTABLECIMIENTO\")\n",
    "dfjoin= dfjoin.withColumn(\"Indice_Prom\",round(dfjoin['avg(Suma)']/prom_est_max,3))\n",
    "dfjoin= dfjoin.withColumn(\"Indice_Num\",round(dfjoin['num_est']/num_est_max,3))\n",
    "dfjoin= dfjoin.withColumn(\"Indice_Total\",round(dfjoin['Indice_Prom']*dfjoin['Indice_Num'],3))"
   ]
  },
  {
   "cell_type": "code",
   "execution_count": 261,
   "metadata": {},
   "outputs": [
    {
     "name": "stdout",
     "output_type": "stream",
     "text": [
      "root\n",
      " |-- COLE_COD_DANE_ESTABLECIMIENTO: string (nullable = true)\n",
      " |-- COLE_NOMBRE_ESTABLECIMIENTO: string (nullable = true)\n",
      " |-- avg(PUNT_MATEMATICAS): double (nullable = true)\n",
      " |-- avg(PUNT_INGLES): double (nullable = true)\n",
      " |-- avg(PUNT_CIENCIAS_SOCIALES): double (nullable = true)\n",
      " |-- avg(PUNT_BIOLOGIA): double (nullable = true)\n",
      " |-- avg(PUNT_FILOSOFIA): double (nullable = true)\n",
      " |-- avg(PUNT_FISICA): double (nullable = true)\n",
      " |-- avg(PUNT_QUIMICA): double (nullable = true)\n",
      " |-- avg(PUNT_LENGUAJE): double (nullable = true)\n",
      " |-- avg(PUNT_INTERDISC_MEDIOAMBIENTE): double (nullable = true)\n",
      " |-- avg(PUNT_INTERDISC_VIOLENCIAYSOC): double (nullable = true)\n",
      " |-- avg(PUNT_PROFUNDIZA_BIOLOGIA): double (nullable = true)\n",
      " |-- avg(PUNT_PROFUNDIZA_CSOCIALES): double (nullable = true)\n",
      " |-- avg(PUNT_PROFUNDIZA_LENGUAJE): double (nullable = true)\n",
      " |-- avg(PUNT_PROFUNDIZA_MATEMATICA): double (nullable = true)\n",
      " |-- avg(Suma): double (nullable = true)\n",
      " |-- num_est: long (nullable = false)\n",
      " |-- Indice_Prom: double (nullable = true)\n",
      " |-- Indice_Num: double (nullable = true)\n",
      " |-- Indice_Total: double (nullable = true)\n",
      "\n"
     ]
    }
   ],
   "source": [
    "dfjoin.printSchema()"
   ]
  },
  {
   "cell_type": "code",
   "execution_count": 262,
   "metadata": {},
   "outputs": [
    {
     "name": "stdout",
     "output_type": "stream",
     "text": [
      "root\n",
      " |-- COLE_COD_DANE_ESTABLECIMIENTO: string (nullable = true)\n",
      " |-- COLE_NOMBRE_ESTABLECIMIENTO: string (nullable = true)\n",
      " |-- avg(Suma): double (nullable = true)\n",
      " |-- num_est: long (nullable = false)\n",
      " |-- Indice_Prom: double (nullable = true)\n",
      " |-- Indice_Num: double (nullable = true)\n",
      " |-- Indice_Total: double (nullable = true)\n",
      " |-- rankProm: integer (nullable = true)\n",
      " |-- rankNum: integer (nullable = true)\n",
      " |-- rankTotal: integer (nullable = true)\n",
      " |-- Media: double (nullable = true)\n",
      "\n"
     ]
    }
   ],
   "source": [
    "dfjoin = dfjoin.select('COLE_COD_DANE_ESTABLECIMIENTO','COLE_NOMBRE_ESTABLECIMIENTO','avg(Suma)','num_est','Indice_Prom','Indice_Num','Indice_Total')\n",
    "dfjoin = dfjoin.withColumn(\"rankProm\", dense_rank().over(Window.orderBy(desc(\"Indice_Prom\"))))\n",
    "dfjoin = dfjoin.withColumn(\"rankNum\", dense_rank().over(Window.orderBy(desc(\"Indice_Num\"))))\n",
    "dfjoin = dfjoin.withColumn(\"rankTotal\", dense_rank().over(Window.orderBy(desc(\"Indice_Total\"))))\n",
    "dfjoin = dfjoin.withColumn(\"Media\",round(dfjoin['avg(Suma)'],2))\n",
    "dfjoin.printSchema()"
   ]
  },
  {
   "cell_type": "code",
   "execution_count": 263,
   "metadata": {},
   "outputs": [
    {
     "name": "stdout",
     "output_type": "stream",
     "text": [
      "+---------------------------+------+-----------+-------+--------+-------+---------+\n",
      "|COLE_NOMBRE_ESTABLECIMIENTO| Media|Indice_Prom|num_est|rankProm|rankNum|rankTotal|\n",
      "+---------------------------+------+-----------+-------+--------+-------+---------+\n",
      "|       COL LA QUINTA DEL...|586.67|        1.0|     21|       1|    307|      215|\n",
      "|            COL LOS NOGALES| 583.2|      0.994|     50|       2|    282|      190|\n",
      "|       COL SAN JORGE DE ...|578.47|      0.986|     66|       3|    269|      178|\n",
      "|       COLEGIO BILINGUE ...|570.75|      0.973|     12|       4|    314|      222|\n",
      "|       COLEGIO HISPANOAM...|569.67|      0.971|     76|       5|    261|      171|\n",
      "|       INST ALBERTO MERA...|567.69|      0.968|     29|       6|    300|      209|\n",
      "|       COLEGIO COLOMBO B...|566.55|      0.966|     71|       7|    265|      175|\n",
      "|            COLEGIO FREINET|565.97|      0.965|     33|       8|    297|      206|\n",
      "|       COL  SAN BONIFACI...|565.76|      0.964|     21|       9|    307|      216|\n",
      "|       CORPORACION EDUCA...|558.73|      0.952|     11|      10|    315|      223|\n",
      "+---------------------------+------+-----------+-------+--------+-------+---------+\n",
      "only showing top 10 rows\n",
      "\n"
     ]
    }
   ],
   "source": [
    "# Se ordena por Indice_Prom\n",
    "dfjoin = dfjoin.orderBy('rankProm',ascending= True)\n",
    "dfjoin.select('COLE_NOMBRE_ESTABLECIMIENTO','Media','Indice_Prom','num_est','rankProm','rankNum','rankTotal').show(10)"
   ]
  },
  {
   "cell_type": "code",
   "execution_count": 264,
   "metadata": {},
   "outputs": [
    {
     "name": "stdout",
     "output_type": "stream",
     "text": [
      "+---------------------------+------+----------+-------+--------+-------+---------+\n",
      "|COLE_NOMBRE_ESTABLECIMIENTO| Media|Indice_Num|num_est|rankProm|rankNum|rankTotal|\n",
      "+---------------------------+------+----------+-------+--------+-------+---------+\n",
      "|       COLEGIO TECNISIST...|369.12|       1.0|   1202|     316|      1|        2|\n",
      "|             INST EDUC CEFA|419.01|     0.909|   1093|     231|      2|        1|\n",
      "|       CENT JOHANN KEPLE...|355.59|     0.895|   1076|     339|      3|        3|\n",
      "|       INST EDUC INEM JO...|417.49|     0.691|    831|     233|      4|        4|\n",
      "|       I. E. ESCUELA NOR...|367.34|     0.549|    660|     319|      5|        7|\n",
      "|       LIC SALAZAR Y HER...|441.85|     0.548|    659|     192|      6|        5|\n",
      "|       INSTITUCION EDUCA...| 395.7|     0.516|    620|     271|      7|        6|\n",
      "|       I. E. LICEO CAUCASIA|365.95|     0.494|    594|     321|      8|       12|\n",
      "|       IE TEC INEM CUSTO...|398.65|     0.488|    586|     265|      9|        8|\n",
      "|       COL VIDA Y PAZ SE...|353.47|     0.487|    585|     342|     10|       13|\n",
      "+---------------------------+------+----------+-------+--------+-------+---------+\n",
      "only showing top 10 rows\n",
      "\n"
     ]
    }
   ],
   "source": [
    "# Se ordena por Indice_Num\n",
    "dfjoin = dfjoin.orderBy('rankNum',ascending= True)\n",
    "dfjoin.select('COLE_NOMBRE_ESTABLECIMIENTO','Media','Indice_Num','num_est','rankProm','rankNum','rankTotal').show(10)"
   ]
  },
  {
   "cell_type": "code",
   "execution_count": 265,
   "metadata": {},
   "outputs": [
    {
     "name": "stdout",
     "output_type": "stream",
     "text": [
      "+---------------------------+------+------------+-------+--------+-------+---------+\n",
      "|COLE_NOMBRE_ESTABLECIMIENTO| Media|Indice_Total|num_est|rankProm|rankNum|rankTotal|\n",
      "+---------------------------+------+------------+-------+--------+-------+---------+\n",
      "|             INST EDUC CEFA|419.01|       0.649|   1093|     231|      2|        1|\n",
      "|       COLEGIO TECNISIST...|369.12|       0.629|   1202|     316|      1|        2|\n",
      "|       CENT JOHANN KEPLE...|355.59|       0.542|   1076|     339|      3|        3|\n",
      "|       INST EDUC INEM JO...|417.49|       0.492|    831|     233|      4|        4|\n",
      "|       LIC SALAZAR Y HER...|441.85|       0.413|    659|     192|      6|        5|\n",
      "|       INSTITUCION EDUCA...| 395.7|       0.348|    620|     271|      7|        6|\n",
      "|       I. E. ESCUELA NOR...|367.34|       0.344|    660|     319|      5|        7|\n",
      "|       IE TEC INEM CUSTO...|398.65|       0.332|    586|     265|      9|        8|\n",
      "|       COLEGIO NACIONAL ...|412.38|       0.315|    539|     242|     13|        9|\n",
      "|       COLEGIO DE LA UNI...|473.11|       0.314|    468|     139|     23|       10|\n",
      "+---------------------------+------+------------+-------+--------+-------+---------+\n",
      "only showing top 10 rows\n",
      "\n"
     ]
    }
   ],
   "source": [
    "# Se ordena por Indice_Total\n",
    "dfjoin = dfjoin.orderBy('rankTotal',ascending= True)\n",
    "dfjoin.select('COLE_NOMBRE_ESTABLECIMIENTO','Media','Indice_Total','num_est','rankProm','rankNum','rankTotal').show(10)"
   ]
  },
  {
   "cell_type": "markdown",
   "metadata": {},
   "source": [
    "## Colegios"
   ]
  },
  {
   "cell_type": "code",
   "execution_count": 105,
   "metadata": {},
   "outputs": [],
   "source": [
    "# SE crea Dataframe de colegios en este año desaparecio la columna COLE_CODMPIO_COLEGIO\n",
    "dfc = spark.read.load(base + '/' + coleDic['2012'],\"com.databricks.spark.csv\",header='true',inferSchema='true',sep='|')\n",
    "dfc = dfc.withColumn('COLE_CODIGO_COLEGIO', dfc['COLE_CODIGO_COLEGIO'].cast(\"string\"))"
   ]
  },
  {
   "cell_type": "code",
   "execution_count": 106,
   "metadata": {},
   "outputs": [
    {
     "name": "stdout",
     "output_type": "stream",
     "text": [
      "root\n",
      " |-- COLE_CODIGO_COLEGIO: string (nullable = true)\n",
      " |-- COLE_INST_NOMBRE: string (nullable = true)\n",
      " |-- COLE_CODMPIO_COLEGIO: integer (nullable = true)\n",
      " |-- COLE_MPIO_COLEGIO: string (nullable = true)\n",
      " |-- COLE_DEPTO_COLEGIO: string (nullable = true)\n",
      " |-- COLE_INST_JORNADA: string (nullable = true)\n",
      " |-- COLE_CALENDARIO_COLEGIO: string (nullable = true)\n",
      " |-- COLE_GENEROPOBLACION: string (nullable = true)\n",
      " |-- COLE_NATURALEZA: string (nullable = true)\n",
      " |-- COLE_GEOGRAFIA: string (nullable = true)\n",
      " |-- COLE_QUIMICA: integer (nullable = true)\n",
      " |-- COLE_FISICA: integer (nullable = true)\n",
      " |-- COLE_BIOLOGIA: integer (nullable = true)\n",
      " |-- COLE_HISTORIA: string (nullable = true)\n",
      " |-- COLE_FILOSOFIA: integer (nullable = true)\n",
      " |-- COLE_MATEMATICAS: integer (nullable = true)\n",
      " |-- COLE_LENGUAJE: integer (nullable = true)\n",
      " |-- COLE_CIENCIAS_SOCIALES: integer (nullable = true)\n",
      " |-- COLE_INGLES: integer (nullable = true)\n",
      " |-- COLE_CATEGORIA: string (nullable = true)\n",
      " |-- CLPL_N: integer (nullable = true)\n",
      "\n",
      "None\n"
     ]
    }
   ],
   "source": [
    "print(dfc.printSchema())"
   ]
  },
  {
   "cell_type": "code",
   "execution_count": 107,
   "metadata": {},
   "outputs": [],
   "source": [
    "colsColegio = ['COLE_CODIGO_COLEGIO',\n",
    " 'COLE_CIENCIAS_SOCIALES',\n",
    " 'COLE_QUIMICA',\n",
    " 'COLE_FISICA',\n",
    " 'COLE_BIOLOGIA',\n",
    " 'COLE_FILOSOFIA',\n",
    " 'COLE_MATEMATICAS',\n",
    " 'COLE_LENGUAJE',\n",
    " 'COLE_INGLES',\n",
    " 'COLE_GEOGRAFIA',\n",
    " 'COLE_HISTORIA']"
   ]
  },
  {
   "cell_type": "code",
   "execution_count": 108,
   "metadata": {},
   "outputs": [],
   "source": [
    "dfc = dfc.select(colsColegio)"
   ]
  },
  {
   "cell_type": "code",
   "execution_count": 109,
   "metadata": {},
   "outputs": [
    {
     "name": "stdout",
     "output_type": "stream",
     "text": [
      "+-------------------+----------------------+------------+-----------+-------------+--------------+----------------+-------------+-----------+--------------+-------------+\n",
      "|COLE_CODIGO_COLEGIO|COLE_CIENCIAS_SOCIALES|COLE_QUIMICA|COLE_FISICA|COLE_BIOLOGIA|COLE_FILOSOFIA|COLE_MATEMATICAS|COLE_LENGUAJE|COLE_INGLES|COLE_GEOGRAFIA|COLE_HISTORIA|\n",
      "+-------------------+----------------------+------------+-----------+-------------+--------------+----------------+-------------+-----------+--------------+-------------+\n",
      "|69278              |8                     |8           |8          |8            |8             |8               |8            |9          |null          |null         |\n",
      "|69336              |7                     |7           |7          |6            |6             |7               |6            |6          |null          |null         |\n",
      "|69351              |7                     |8           |8          |7            |6             |8               |7            |7          |null          |null         |\n",
      "|69583              |7                     |7           |7          |7            |7             |7               |6            |7          |null          |null         |\n",
      "|69682              |8                     |6           |7          |7            |7             |6               |7            |7          |null          |null         |\n",
      "+-------------------+----------------------+------------+-----------+-------------+--------------+----------------+-------------+-----------+--------------+-------------+\n",
      "only showing top 5 rows\n",
      "\n"
     ]
    }
   ],
   "source": [
    "dfc.show(5,False)"
   ]
  },
  {
   "cell_type": "code",
   "execution_count": 110,
   "metadata": {},
   "outputs": [
    {
     "name": "stdout",
     "output_type": "stream",
     "text": [
      "El numero de colegios es:  8359\n"
     ]
    }
   ],
   "source": [
    "print(\"El numero de colegios es: \", dfc.select('COLE_CODIGO_COLEGIO').count())"
   ]
  },
  {
   "cell_type": "markdown",
   "metadata": {},
   "source": [
    "## Anàlisis comparativo entre estudiantes y colegios"
   ]
  },
  {
   "cell_type": "code",
   "execution_count": 111,
   "metadata": {},
   "outputs": [],
   "source": [
    "dfjoin = df1.join(dfc, df1.COLE_COD_DANE_ESTABLECIMIENTO == dfc.COLE_CODIGO_COLEGIO)"
   ]
  },
  {
   "cell_type": "code",
   "execution_count": 112,
   "metadata": {},
   "outputs": [
    {
     "name": "stdout",
     "output_type": "stream",
     "text": [
      "Nùmero de colegios coincidentes entre el archivo de estudiantes: 0\n"
     ]
    }
   ],
   "source": [
    "print(\"Nùmero de colegios coincidentes entre el archivo de estudiantes:\", dfjoin.count())"
   ]
  },
  {
   "cell_type": "markdown",
   "metadata": {},
   "source": [
    "La informaciòn de colegios no coincide con la informaciòn de estudiantes, no existe còdigo dane en el archivo de colegios."
   ]
  }
 ],
 "metadata": {
  "kernelspec": {
   "display_name": "Python 3",
   "language": "python",
   "name": "python3"
  },
  "language_info": {
   "codemirror_mode": {
    "name": "ipython",
    "version": 3
   },
   "file_extension": ".py",
   "mimetype": "text/x-python",
   "name": "python",
   "nbconvert_exporter": "python",
   "pygments_lexer": "ipython3",
   "version": "3.7.3"
  }
 },
 "nbformat": 4,
 "nbformat_minor": 2
}
