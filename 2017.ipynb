{
 "cells": [
  {
   "cell_type": "code",
   "execution_count": 1,
   "metadata": {},
   "outputs": [],
   "source": [
    "from pyspark.sql import SparkSession\n",
    "from pyspark.sql import Row\n",
    "from functools import reduce\n",
    "from pyspark.sql import DataFrame\n",
    "from pyspark.sql.types import StringType,DoubleType,FloatType\n",
    "from pyspark.sql.functions import udf\n",
    "from pyspark.sql.functions import regexp_replace\n",
    "from pyspark.sql.functions import lit\n",
    "import locale\n",
    "import sys\n",
    "import os\n",
    "import re"
   ]
  },
  {
   "cell_type": "code",
   "execution_count": 2,
   "metadata": {},
   "outputs": [
    {
     "data": {
      "text/html": [
       "\n",
       "        <div>\n",
       "            <p><b>SparkContext</b></p>\n",
       "\n",
       "            <p><a href=\"http://nodo1:4044\">Spark UI</a></p>\n",
       "\n",
       "            <dl>\n",
       "              <dt>Version</dt>\n",
       "                <dd><code>v2.4.3</code></dd>\n",
       "              <dt>Master</dt>\n",
       "                <dd><code>local[*]</code></dd>\n",
       "              <dt>AppName</dt>\n",
       "                <dd><code>PySparkShell</code></dd>\n",
       "            </dl>\n",
       "        </div>\n",
       "        "
      ],
      "text/plain": [
       "<SparkContext master=local[*] appName=PySparkShell>"
      ]
     },
     "execution_count": 2,
     "metadata": {},
     "output_type": "execute_result"
    }
   ],
   "source": [
    "sc"
   ]
  },
  {
   "cell_type": "code",
   "execution_count": 3,
   "metadata": {},
   "outputs": [
    {
     "data": {
      "text/html": [
       "\n",
       "            <div>\n",
       "                <p><b>SparkSession - hive</b></p>\n",
       "                \n",
       "        <div>\n",
       "            <p><b>SparkContext</b></p>\n",
       "\n",
       "            <p><a href=\"http://nodo1:4044\">Spark UI</a></p>\n",
       "\n",
       "            <dl>\n",
       "              <dt>Version</dt>\n",
       "                <dd><code>v2.4.3</code></dd>\n",
       "              <dt>Master</dt>\n",
       "                <dd><code>local[*]</code></dd>\n",
       "              <dt>AppName</dt>\n",
       "                <dd><code>PySparkShell</code></dd>\n",
       "            </dl>\n",
       "        </div>\n",
       "        \n",
       "            </div>\n",
       "        "
      ],
      "text/plain": [
       "<pyspark.sql.session.SparkSession at 0x7fd7701e7630>"
      ]
     },
     "execution_count": 3,
     "metadata": {},
     "output_type": "execute_result"
    }
   ],
   "source": [
    "spark"
   ]
  },
  {
   "cell_type": "markdown",
   "metadata": {},
   "source": [
    "# Leyendo lista de Colegios y Estudiantes"
   ]
  },
  {
   "cell_type": "code",
   "execution_count": 4,
   "metadata": {},
   "outputs": [],
   "source": [
    "base = '../Colegios'\n",
    "base2 = '../SB'\n",
    "colegios = os.listdir('../Colegios')\n",
    "estudiantes = os.listdir('../SB')"
   ]
  },
  {
   "cell_type": "code",
   "execution_count": 5,
   "metadata": {},
   "outputs": [],
   "source": [
    "estudiantes.sort()\n",
    "colegios.sort()\n",
    "estuDic = {}\n",
    "coleDic = {}\n",
    "for estu in estudiantes:\n",
    "    estuDic[re.findall('\\d+', estu)[1]] = estu\n",
    "\n",
    "for colegio in colegios:\n",
    "    coleDic[re.findall('\\d+', colegio)[1]] = colegio"
   ]
  },
  {
   "cell_type": "code",
   "execution_count": 6,
   "metadata": {},
   "outputs": [],
   "source": [
    "# Funciòn para unir cualquier nùmero de dataframes con la misma estructura \n",
    "def unionAll(*dfs):\n",
    "    return reduce(DataFrame.unionAll, dfs)"
   ]
  },
  {
   "cell_type": "code",
   "execution_count": 7,
   "metadata": {},
   "outputs": [
    {
     "name": "stdout",
     "output_type": "stream",
     "text": [
      "Archivos de estudiantes:  SB11_20171.txt SB11_20172.txt\n",
      "Archivos de colegios:  SB11-CLASIFI-PLANTELES-20171.csv SB11-CLASIFI-PLANTELES-20172.csv\n"
     ]
    }
   ],
   "source": [
    "print(\"Archivos de estudiantes: \", estuDic['20171'],estuDic['20172'])\n",
    "print(\"Archivos de colegios: \",coleDic['20171'],coleDic['20172'])"
   ]
  },
  {
   "cell_type": "code",
   "execution_count": 8,
   "metadata": {},
   "outputs": [],
   "source": [
    "df1 = spark.read.load(base2 + '/' + estuDic['20171'],\"com.databricks.spark.csv\",header='true',inferSchema='true',sep='¬')"
   ]
  },
  {
   "cell_type": "code",
   "execution_count": 9,
   "metadata": {},
   "outputs": [
    {
     "data": {
      "text/plain": [
       "['ESTU_TIPODOCUMENTO',\n",
       " 'ESTU_NACIONALIDAD',\n",
       " 'ESTU_GENERO',\n",
       " 'ESTU_FECHANACIMIENTO',\n",
       " 'PERIODO',\n",
       " 'ESTU_CONSECUTIVO',\n",
       " 'ESTU_ESTUDIANTE',\n",
       " 'ESTU_PAIS_RESIDE',\n",
       " 'ESTU_TIENEETNIA',\n",
       " 'ESTU_ETNIA',\n",
       " 'ESTU_DEPTO_RESIDE',\n",
       " 'ESTU_COD_RESIDE_DEPTO',\n",
       " 'ESTU_MCPIO_RESIDE',\n",
       " 'ESTU_COD_RESIDE_MCPIO',\n",
       " 'FAMI_EDUCACIONPADRE',\n",
       " 'FAMI_EDUCACIONMADRE',\n",
       " 'FAMI_ESTRATOVIVIENDA',\n",
       " 'FAMI_PERSONASHOGAR',\n",
       " 'FAMI_CUARTOSHOGAR',\n",
       " 'FAMI_TIENEINTERNET',\n",
       " 'FAMI_TIENECOMPUTADOR',\n",
       " 'FAMI_TIENELAVADORA',\n",
       " 'FAMI_TIENEHORNOMICROOGAS',\n",
       " 'FAMI_TIENESERVICIOTV',\n",
       " 'FAMI_TIENEAUTOMOVIL',\n",
       " 'FAMI_TIENEMOTOCICLETA',\n",
       " 'FAMI_TIENECONSOLAVIDEOJUEGOS',\n",
       " 'FAMI_NUMLIBROS',\n",
       " 'FAMI_COMELECHEDERIVADOS',\n",
       " 'FAMI_COMECARNEPESCADOHUEVO',\n",
       " 'FAMI_COMECEREALFRUTOSLEGUMBRE',\n",
       " 'FAMI_TRABAJOLABORPADRE',\n",
       " 'FAMI_TRABAJOLABORMADRE',\n",
       " 'FAMI_SITUACIONECONOMICA',\n",
       " 'ESTU_DEDICACIONLECTURADIARIA',\n",
       " 'ESTU_DEDICACIONINTERNET',\n",
       " 'ESTU_HORASSEMANATRABAJA',\n",
       " 'ESTU_TIPOREMUNERACION',\n",
       " 'COLE_CODIGO_ICFES',\n",
       " 'COLE_COD_DANE_ESTABLECIMIENTO',\n",
       " 'COLE_NOMBRE_ESTABLECIMIENTO',\n",
       " 'COLE_GENERO',\n",
       " 'COLE_NATURALEZA',\n",
       " 'COLE_CALENDARIO',\n",
       " 'COLE_BILINGUE',\n",
       " 'COLE_CARACTER',\n",
       " 'COLE_COD_DANE_SEDE',\n",
       " 'COLE_NOMBRE_SEDE',\n",
       " 'COLE_SEDE_PRINCIPAL',\n",
       " 'COLE_AREA_UBICACION',\n",
       " 'COLE_JORNADA',\n",
       " 'COLE_COD_MCPIO_UBICACION',\n",
       " 'COLE_MCPIO_UBICACION',\n",
       " 'COLE_COD_DEPTO_UBICACION',\n",
       " 'COLE_DEPTO_UBICACION',\n",
       " 'ESTU_PRIVADO_LIBERTAD',\n",
       " 'ESTU_COD_MCPIO_PRESENTACION',\n",
       " 'ESTU_MCPIO_PRESENTACION',\n",
       " 'ESTU_DEPTO_PRESENTACION',\n",
       " 'ESTU_COD_DEPTO_PRESENTACION',\n",
       " 'PUNT_LECTURA_CRITICA',\n",
       " 'PERCENTIL_LECTURA_CRITICA',\n",
       " 'DESEMP_LECTURA_CRITICA',\n",
       " 'PUNT_MATEMATICAS',\n",
       " 'PERCENTIL_MATEMATICAS',\n",
       " 'DESEMP_MATEMATICAS',\n",
       " 'PUNT_C_NATURALES',\n",
       " 'PERCENTIL_C_NATURALES',\n",
       " 'DESEMP_C_NATURALES',\n",
       " 'PUNT_SOCIALES_CIUDADANAS',\n",
       " 'PERCENTIL_SOCIALES_CIUDADANAS',\n",
       " 'DESEMP_SOCIALES_CIUDADANAS',\n",
       " 'PUNT_INGLES',\n",
       " 'PERCENTIL_INGLES',\n",
       " 'DESEMP_INGLES',\n",
       " 'PUNT_GLOBAL',\n",
       " 'PERCENTIL_GLOBAL',\n",
       " 'ESTU_INSE_INDIVIDUAL',\n",
       " 'ESTU_NSE_INDIVIDUAL',\n",
       " 'ESTU_NSE_ESTABLECIMIENTO',\n",
       " 'ESTU_ESTADOINVESTIGACION']"
      ]
     },
     "execution_count": 9,
     "metadata": {},
     "output_type": "execute_result"
    }
   ],
   "source": [
    "df1.columns"
   ]
  },
  {
   "cell_type": "code",
   "execution_count": 10,
   "metadata": {},
   "outputs": [],
   "source": [
    "columnasPuntos20171 = [\n",
    " 'COLE_COD_DANE_ESTABLECIMIENTO',\n",
    " 'COLE_NOMBRE_ESTABLECIMIENTO',\n",
    " 'PUNT_LECTURA_CRITICA',\n",
    " 'PUNT_MATEMATICAS',\n",
    " 'PUNT_C_NATURALES',\n",
    " 'PUNT_SOCIALES_CIUDADANAS',\n",
    " 'PUNT_INGLES']"
   ]
  },
  {
   "cell_type": "code",
   "execution_count": 11,
   "metadata": {},
   "outputs": [],
   "source": [
    "df1 = df1.select(columnasPuntos20171)"
   ]
  },
  {
   "cell_type": "code",
   "execution_count": 12,
   "metadata": {},
   "outputs": [],
   "source": [
    "# SE leen los dos archivos y se crean dos dataframes\n",
    "df2 = spark.read.load(base2 + '/' + estuDic['20172'],\"com.databricks.spark.csv\",header='true',inferSchema='true',sep='¬')"
   ]
  },
  {
   "cell_type": "code",
   "execution_count": 13,
   "metadata": {},
   "outputs": [
    {
     "data": {
      "text/plain": [
       "['estu_tipodocumento',\n",
       " 'estu_nacionalidad',\n",
       " 'estu_genero',\n",
       " 'estu_fechanacimiento',\n",
       " 'periodo',\n",
       " 'estu_consecutivo',\n",
       " 'estu_estudiante',\n",
       " 'estu_pais_reside',\n",
       " 'estu_tieneetnia',\n",
       " 'estu_etnia',\n",
       " 'estu_limita_motriz',\n",
       " 'estu_limita_invidente',\n",
       " 'estu_limita_condicionespecial',\n",
       " 'estu_limita_sordo',\n",
       " 'estu_limita_sdown',\n",
       " 'estu_limita_autismo',\n",
       " 'estu_depto_reside',\n",
       " 'estu_cod_reside_depto',\n",
       " 'estu_mcpio_reside',\n",
       " 'estu_cod_reside_mcpio',\n",
       " 'fami_educacionpadre',\n",
       " 'fami_educacionmadre',\n",
       " 'fami_estratovivienda',\n",
       " 'fami_personashogar',\n",
       " 'fami_cuartoshogar',\n",
       " 'fami_tienecomputador',\n",
       " 'fami_tienelavadora',\n",
       " 'fami_tienehornomicroogas',\n",
       " 'fami_tieneserviciotv',\n",
       " 'fami_tieneautomovil',\n",
       " 'fami_tienemotocicleta',\n",
       " 'fami_tieneconsolavideojuegos',\n",
       " 'fami_numlibros',\n",
       " 'fami_comelechederivados',\n",
       " 'fami_comecarnepescadohuevo',\n",
       " 'fami_comecerealfrutoslegumbre',\n",
       " 'fami_trabajolaborpadre',\n",
       " 'fami_trabajolabormadre',\n",
       " 'fami_situacioneconomica',\n",
       " 'estu_dedicacionlecturadiaria',\n",
       " 'estu_dedicacioninternet',\n",
       " 'estu_horassemanatrabaja',\n",
       " 'estu_tiporemuneracion',\n",
       " 'cole_codigo_icfes',\n",
       " 'cole_cod_dane_establecimiento',\n",
       " 'cole_nombre_establecimiento',\n",
       " 'cole_genero',\n",
       " 'cole_naturaleza',\n",
       " 'cole_calendario',\n",
       " 'cole_bilingue',\n",
       " 'cole_caracter',\n",
       " 'cole_cod_dane_sede',\n",
       " 'cole_nombre_sede',\n",
       " 'cole_sede_principal',\n",
       " 'cole_area_ubicacion',\n",
       " 'cole_jornada',\n",
       " 'cole_cod_mcpio_ubicacion',\n",
       " 'cole_mcpio_ubicacion',\n",
       " 'cole_cod_depto_ubicacion',\n",
       " 'cole_depto_ubicacion',\n",
       " 'estu_privado_libertad',\n",
       " 'estu_cod_mcpio_presentacion',\n",
       " 'estu_mcpio_presentacion',\n",
       " 'estu_depto_presentacion',\n",
       " 'estu_cod_depto_presentacion',\n",
       " 'punt_lectura_critica',\n",
       " 'percentil_lectura_critica',\n",
       " 'desemp_lectura_critica',\n",
       " 'punt_matematicas',\n",
       " 'percentil_matematicas',\n",
       " 'desemp_matematicas',\n",
       " 'punt_c_naturales',\n",
       " 'percentil_c_naturales',\n",
       " 'desemp_c_naturales',\n",
       " 'punt_sociales_ciudadanas',\n",
       " 'percentil_sociales_ciudadanas',\n",
       " 'desemp_sociales_ciudadanas',\n",
       " 'punt_ingles',\n",
       " 'percentil_ingles',\n",
       " 'desemp_ingles',\n",
       " 'punt_global',\n",
       " 'percentil_global',\n",
       " 'estu_inse_individual',\n",
       " 'estu_nse_individual',\n",
       " 'estu_nse_establecimiento',\n",
       " 'estu_pilopaga']"
      ]
     },
     "execution_count": 13,
     "metadata": {},
     "output_type": "execute_result"
    }
   ],
   "source": [
    "df2.columns"
   ]
  },
  {
   "cell_type": "code",
   "execution_count": 14,
   "metadata": {},
   "outputs": [],
   "source": [
    "columnasPuntos20172 = [\n",
    " 'cole_cod_dane_establecimiento',\n",
    " 'cole_nombre_establecimiento',\n",
    " 'punt_lectura_critica',\n",
    " 'punt_matematicas',\n",
    " 'punt_c_naturales',\n",
    " 'punt_sociales_ciudadanas',\n",
    " 'punt_ingles']"
   ]
  },
  {
   "cell_type": "code",
   "execution_count": 15,
   "metadata": {},
   "outputs": [],
   "source": [
    "df2 = df2.select(columnasPuntos20172)"
   ]
  },
  {
   "cell_type": "code",
   "execution_count": 17,
   "metadata": {},
   "outputs": [
    {
     "data": {
      "text/plain": [
       "['PUNT_LECTURA_CRITICA',\n",
       " 'PUNT_MATEMATICAS',\n",
       " 'PUNT_C_NATURALES',\n",
       " 'PUNT_SOCIALES_CIUDADANAS',\n",
       " 'PUNT_INGLES']"
      ]
     },
     "execution_count": 17,
     "metadata": {},
     "output_type": "execute_result"
    }
   ],
   "source": [
    "#dft = df1.columns.remove('cole_cod_dane_institucion')\n",
    "cols = df1.columns\n",
    "cols.remove('COLE_COD_DANE_ESTABLECIMIENTO')\n",
    "cols.remove('COLE_NOMBRE_ESTABLECIMIENTO')\n",
    "cols"
   ]
  },
  {
   "cell_type": "code",
   "execution_count": 18,
   "metadata": {},
   "outputs": [],
   "source": [
    "for cp in cols:\n",
    "    df1 = df1.withColumn(cp, regexp_replace(cp, ',', '.'))\n",
    "    df1 = df1.withColumn(cp, df1[cp].cast(\"float\"))\n",
    "    df1 = df1.na.fill({cp:0})"
   ]
  },
  {
   "cell_type": "code",
   "execution_count": 19,
   "metadata": {},
   "outputs": [],
   "source": [
    "df1 = df1.withColumn('COLE_COD_DANE_ESTABLECIMIENTO', df1['COLE_COD_DANE_ESTABLECIMIENTO'].cast(\"string\"))"
   ]
  },
  {
   "cell_type": "code",
   "execution_count": 20,
   "metadata": {},
   "outputs": [],
   "source": [
    "cols2 = df2.columns\n",
    "cols2.remove('cole_cod_dane_establecimiento')\n",
    "cols2.remove('cole_nombre_establecimiento')"
   ]
  },
  {
   "cell_type": "code",
   "execution_count": 21,
   "metadata": {},
   "outputs": [],
   "source": [
    "for cp in cols2:\n",
    "    df2 = df2.withColumn(cp, regexp_replace(cp, ',', '.'))\n",
    "    df2 = df2.withColumn(cp, df2[cp].cast(\"float\"))\n",
    "    df2 = df2.na.fill({cp:0})\n",
    "df2 = df2.withColumn('cole_cod_dane_establecimiento', df2['cole_cod_dane_establecimiento'].cast(\"string\"))"
   ]
  },
  {
   "cell_type": "code",
   "execution_count": 22,
   "metadata": {},
   "outputs": [
    {
     "name": "stdout",
     "output_type": "stream",
     "text": [
      "Numero de filas primero semestre  12993\n",
      "Numero de filas segundo semestre  546162\n"
     ]
    }
   ],
   "source": [
    "print(\"Numero de filas primero semestre \", df1.count())\n",
    "print(\"Numero de filas segundo semestre \", df2.count())"
   ]
  },
  {
   "cell_type": "code",
   "execution_count": 23,
   "metadata": {},
   "outputs": [
    {
     "name": "stdout",
     "output_type": "stream",
     "text": [
      "root\n",
      " |-- COLE_COD_DANE_ESTABLECIMIENTO: string (nullable = true)\n",
      " |-- COLE_NOMBRE_ESTABLECIMIENTO: string (nullable = true)\n",
      " |-- PUNT_LECTURA_CRITICA: float (nullable = false)\n",
      " |-- PUNT_MATEMATICAS: float (nullable = false)\n",
      " |-- PUNT_C_NATURALES: float (nullable = false)\n",
      " |-- PUNT_SOCIALES_CIUDADANAS: float (nullable = false)\n",
      " |-- PUNT_INGLES: float (nullable = false)\n",
      "\n",
      "None\n"
     ]
    }
   ],
   "source": [
    "print(df1.printSchema())"
   ]
  },
  {
   "cell_type": "code",
   "execution_count": 24,
   "metadata": {},
   "outputs": [
    {
     "name": "stdout",
     "output_type": "stream",
     "text": [
      "root\n",
      " |-- cole_cod_dane_establecimiento: string (nullable = true)\n",
      " |-- cole_nombre_establecimiento: string (nullable = true)\n",
      " |-- punt_lectura_critica: float (nullable = false)\n",
      " |-- punt_matematicas: float (nullable = false)\n",
      " |-- punt_c_naturales: float (nullable = false)\n",
      " |-- punt_sociales_ciudadanas: float (nullable = false)\n",
      " |-- punt_ingles: float (nullable = false)\n",
      "\n",
      "None\n"
     ]
    }
   ],
   "source": [
    "print(df2.printSchema())"
   ]
  },
  {
   "cell_type": "code",
   "execution_count": 25,
   "metadata": {},
   "outputs": [],
   "source": [
    "# Contando el numero de estudiantes por instituciòn y mostrandola de forma descendente\n",
    "dsCountEst1 = df1.groupBy('COLE_COD_DANE_ESTABLECIMIENTO').count().orderBy('count',ascending=\n",
    "False)\n",
    "dsCountEst2 = df2.groupBy('cole_cod_dane_establecimiento').count().orderBy('count',ascending=\n",
    "False)"
   ]
  },
  {
   "cell_type": "code",
   "execution_count": 26,
   "metadata": {},
   "outputs": [
    {
     "name": "stdout",
     "output_type": "stream",
     "text": [
      "+-----------------------------+-----+\n",
      "|COLE_COD_DANE_ESTABLECIMIENTO|count|\n",
      "+-----------------------------+-----+\n",
      "|376001028219                 |206  |\n",
      "|376001007670                 |183  |\n",
      "|376001000900                 |145  |\n",
      "|376001001116                 |136  |\n",
      "|376001026925                 |135  |\n",
      "|376001000721                 |130  |\n",
      "|311001019568                 |127  |\n",
      "|376001003461                 |122  |\n",
      "|311848001011                 |121  |\n",
      "|376001033859                 |119  |\n",
      "+-----------------------------+-----+\n",
      "only showing top 10 rows\n",
      "\n"
     ]
    }
   ],
   "source": [
    "dsCountEst1.show(10,False)\n",
    "# Numero de estudiantes por instituciòn primer semestre"
   ]
  },
  {
   "cell_type": "code",
   "execution_count": 27,
   "metadata": {},
   "outputs": [
    {
     "data": {
      "text/plain": [
       "349"
      ]
     },
     "execution_count": 27,
     "metadata": {},
     "output_type": "execute_result"
    }
   ],
   "source": [
    "dsCountEst1.count()"
   ]
  },
  {
   "cell_type": "code",
   "execution_count": 28,
   "metadata": {},
   "outputs": [
    {
     "name": "stdout",
     "output_type": "stream",
     "text": [
      "+-----------------------------+-----+\n",
      "|cole_cod_dane_establecimiento|count|\n",
      "+-----------------------------+-----+\n",
      "|105001000108                 |959  |\n",
      "|105001013340                 |829  |\n",
      "|176001800052                 |722  |\n",
      "|311001105863                 |695  |\n",
      "|176001005813                 |634  |\n",
      "|111001024732                 |626  |\n",
      "|105154000301                 |604  |\n",
      "|405001016946                 |588  |\n",
      "|105615000236                 |579  |\n",
      "|313001006701                 |567  |\n",
      "+-----------------------------+-----+\n",
      "only showing top 10 rows\n",
      "\n"
     ]
    }
   ],
   "source": [
    "dsCountEst2.show(10,False)\n",
    "# Numero de estudiantes por instituciòn segundo semestre"
   ]
  },
  {
   "cell_type": "code",
   "execution_count": 29,
   "metadata": {},
   "outputs": [],
   "source": [
    "#Se crea una columna con el total de los puntajes \n",
    "df1= df1.withColumn(\"Suma\",df1['PUNT_LECTURA_CRITICA']+df1['PUNT_MATEMATICAS']+df1['PUNT_C_NATURALES']+\n",
    "                    df1['PUNT_SOCIALES_CIUDADANAS']+df1['PUNT_INGLES'])\n",
    "\n",
    "df2= df2.withColumn(\"Suma\",df2['punt_lectura_critica']+df2['punt_matematicas']+df2['punt_c_naturales']+\n",
    "                    df2['punt_sociales_ciudadanas']+df2['punt_ingles'])"
   ]
  },
  {
   "cell_type": "markdown",
   "metadata": {},
   "source": [
    "## Resultados finales por instituciòn 1er semestre"
   ]
  },
  {
   "cell_type": "code",
   "execution_count": 30,
   "metadata": {},
   "outputs": [],
   "source": [
    "# Còdigo para obtener la media de los resultados de las evaluaciones de todos los estudiantes por instituciòn \n",
    "# y posiciòn en orden descendente.\n",
    "from pyspark.sql.functions import *\n",
    "from pyspark.sql.window import Window\n",
    "\n",
    "df1 = df1.groupBy('COLE_COD_DANE_ESTABLECIMIENTO','COLE_NOMBRE_ESTABLECIMIENTO').mean()\n",
    "df1 = df1.withColumn(\"rank\", dense_rank().over(Window.orderBy(desc(\"avg(Suma)\"))))\n",
    "df1 = df1.orderBy('rank',ascending= True)"
   ]
  },
  {
   "cell_type": "code",
   "execution_count": 31,
   "metadata": {
    "scrolled": true
   },
   "outputs": [
    {
     "name": "stdout",
     "output_type": "stream",
     "text": [
      "+-----------------------------+----------------------------------+------------------+----+\n",
      "|COLE_COD_DANE_ESTABLECIMIENTO|COLE_NOMBRE_ESTABLECIMIENTO       |avg(Suma)         |rank|\n",
      "+-----------------------------+----------------------------------+------------------+----+\n",
      "|368001000516                 |COL NUEVO CAMBRIDGE               |397.7631578947368 |1   |\n",
      "|368276000826                 |COL LA QUINTA DEL PUENTE          |394.6             |2   |\n",
      "|376001013441                 |COLEGIO BILINGUE DIANA OESE       |393.36            |3   |\n",
      "|311001105430                 |COL LA COLINA                     |384.15384615384613|4   |\n",
      "|376001043617                 |COLEGIO PHILADELPHIA INTERNACIONAL|383.125           |5   |\n",
      "|311848000278                 |GIMN VERMONT                      |382.7105263157895 |6   |\n",
      "|311848002351                 |COL SANTA FRANCISCA ROMANA        |381.796875        |7   |\n",
      "|311769003342                 |COL LOS NOGALES                   |379.5762711864407 |8   |\n",
      "|311848002424                 |COL SAN CARLOS                    |378.98979591836735|9   |\n",
      "|311769000165                 |COL SAN JORGE DE INGLATERRA       |377.75324675324674|10  |\n",
      "+-----------------------------+----------------------------------+------------------+----+\n",
      "only showing top 10 rows\n",
      "\n"
     ]
    }
   ],
   "source": [
    "df1.select('COLE_COD_DANE_ESTABLECIMIENTO','COLE_NOMBRE_ESTABLECIMIENTO','avg(Suma)','rank').show(10,False)"
   ]
  },
  {
   "cell_type": "markdown",
   "metadata": {},
   "source": [
    "## Resultados finales por instituciòn 2do semestre"
   ]
  },
  {
   "cell_type": "code",
   "execution_count": 32,
   "metadata": {},
   "outputs": [],
   "source": [
    "df2 = df2.groupBy('cole_cod_dane_establecimiento','cole_nombre_establecimiento').mean()\n",
    "df2 = df2.withColumn(\"rank\", dense_rank().over(Window.orderBy(desc(\"avg(Suma)\"))))\n",
    "df2 = df2.orderBy('rank',ascending= True)"
   ]
  },
  {
   "cell_type": "code",
   "execution_count": 33,
   "metadata": {},
   "outputs": [
    {
     "name": "stdout",
     "output_type": "stream",
     "text": [
      "+-----------------------------+---------------------------------------------------+------------------+----+\n",
      "|cole_cod_dane_establecimiento|cole_nombre_establecimiento                        |avg(Suma)         |rank|\n",
      "+-----------------------------+---------------------------------------------------+------------------+----+\n",
      "|311001065489                 |LIC CAMPO DAVID                                    |383.70588235294116|1   |\n",
      "|311001086320                 |GIMNASIO COLOMBO BRITANICO - BILINGÜE INTERNACIONAL|382.22641509433964|2   |\n",
      "|425175032666                 |GIMNASIO EL HONTANAR                               |381.0             |3   |\n",
      "|311848000308                 |COL ANGLO AMERICANO                                |380.07142857142856|4   |\n",
      "|311001076634                 |COL NUEVO COLOMBO AMERICANO                        |379.8196721311475 |5   |\n",
      "|308001001871                 |NUEVO COLEGIO DEL PRADO                            |379.1818181818182 |6   |\n",
      "|311001005176                 |LIC NAVARRA                                        |377.77777777777777|7   |\n",
      "|373001007662                 |COL  SAN BONIFACIO DE LAS LANZAS                   |376.5625          |8   |\n",
      "|311001089221                 |INST ALBERTO MERANI                                |375.2439024390244 |9   |\n",
      "|341001005571                 |COL  ANGLOCANADIENSE DE NEIVA                      |374.59090909090907|10  |\n",
      "+-----------------------------+---------------------------------------------------+------------------+----+\n",
      "only showing top 10 rows\n",
      "\n"
     ]
    }
   ],
   "source": [
    "df2.select('cole_cod_dane_establecimiento','cole_nombre_establecimiento','avg(Suma)','rank').show(10,False)"
   ]
  },
  {
   "cell_type": "markdown",
   "metadata": {},
   "source": [
    "## Colegios primer semestre"
   ]
  },
  {
   "cell_type": "code",
   "execution_count": 41,
   "metadata": {},
   "outputs": [],
   "source": [
    "# SE crea Dataframe de colegios primer semestre\n",
    "dfc = spark.read.load(base + '/' + coleDic['20171'],\"com.databricks.spark.csv\",header='true',inferSchema='true',sep=',')\n",
    "dfc = dfc.withColumn('COLE_COD_DANE', dfc['COLE_COD_DANE'].cast(\"string\"))"
   ]
  },
  {
   "cell_type": "code",
   "execution_count": 43,
   "metadata": {},
   "outputs": [
    {
     "data": {
      "text/plain": [
       "['PERIODO',\n",
       " '|1',\n",
       " 'COLE_COD_DANE',\n",
       " '|3',\n",
       " 'COLE_INST_NOMBRE',\n",
       " '|5',\n",
       " 'COLE_CODMPIO_COLEGIO',\n",
       " '|7',\n",
       " 'COLE_MPIO_MUNICIPIO',\n",
       " '|9',\n",
       " 'COLE_COD_DEPTO',\n",
       " '|11',\n",
       " 'COLE_DEPTO_COLEGIO',\n",
       " '|13',\n",
       " 'COLE_NATURALEZA',\n",
       " '|15',\n",
       " 'COLE_GRADO',\n",
       " '|17',\n",
       " 'COLE_CALENDARIO_COLEGIO',\n",
       " '|19',\n",
       " 'COLE_GENEROPOBLACION',\n",
       " '|21',\n",
       " 'MATRICULADOS_ULTIMOS_3',\n",
       " '|23',\n",
       " 'EVALUADOS_ULTIMOS_3',\n",
       " '|25',\n",
       " 'INDICE_MATEMATICAS',\n",
       " '|27',\n",
       " 'INDICE_C_NATURALES',\n",
       " '|29',\n",
       " 'INDICE_SOCIALES_CIUDADANAS',\n",
       " '|31',\n",
       " 'INDICE_LECTURA_CRITICA',\n",
       " '|33',\n",
       " 'INDICE_INGLES',\n",
       " '|35',\n",
       " 'INDICE_TOTAL',\n",
       " '|37',\n",
       " 'COLE_CATEGORIA']"
      ]
     },
     "execution_count": 43,
     "metadata": {},
     "output_type": "execute_result"
    }
   ],
   "source": [
    "dfc.columns"
   ]
  },
  {
   "cell_type": "code",
   "execution_count": 45,
   "metadata": {},
   "outputs": [],
   "source": [
    "colsColegio = dfc.columns"
   ]
  },
  {
   "cell_type": "code",
   "execution_count": 44,
   "metadata": {},
   "outputs": [
    {
     "name": "stdout",
     "output_type": "stream",
     "text": [
      "+-------------+--------------------+------------+\n",
      "|COLE_COD_DANE|    COLE_INST_NOMBRE|INDICE_TOTAL|\n",
      "+-------------+--------------------+------------+\n",
      "| 376001013441|COLEGIO BILINGUE ...|      0.9254|\n",
      "| 368001000516| COL NUEVO CAMBRIDGE|      0.9119|\n",
      "| 311769003342|     COL LOS NOGALES|      0.9115|\n",
      "| 311848002424|      COL SAN CARLOS|       0.911|\n",
      "| 376001043617|COLEGIO PHILADELP...|      0.9109|\n",
      "| 311769000165|COL SAN JORGE DE ...|      0.9104|\n",
      "| 311848000278|        GIMN VERMONT|      0.9067|\n",
      "| 368276000826|COL LA QUINTA DEL...|      0.9066|\n",
      "| 311848002351|COL SANTA FRANCIS...|      0.9066|\n",
      "| 466001005641|LIC CAMPESTRE DE ...|      0.9038|\n",
      "+-------------+--------------------+------------+\n",
      "only showing top 10 rows\n",
      "\n"
     ]
    }
   ],
   "source": [
    "dfc.select('COLE_COD_DANE','COLE_INST_NOMBRE','INDICE_TOTAL').orderBy('INDICE_TOTAL',ascending= False).show(10)"
   ]
  },
  {
   "cell_type": "code",
   "execution_count": 45,
   "metadata": {},
   "outputs": [
    {
     "name": "stdout",
     "output_type": "stream",
     "text": [
      "El numero de colegios es:  291\n"
     ]
    }
   ],
   "source": [
    "print(\"El numero de colegios es: \", dfc.count())"
   ]
  },
  {
   "cell_type": "markdown",
   "metadata": {},
   "source": [
    "## Colegios segundo semestre"
   ]
  },
  {
   "cell_type": "code",
   "execution_count": 46,
   "metadata": {},
   "outputs": [],
   "source": [
    "# SE crea Dataframe de colegios primer semestre\n",
    "dfc2 = spark.read.load(base + '/' + coleDic['20172'],\"com.databricks.spark.csv\",header='true',inferSchema='true',sep=',')\n",
    "dfc2 = dfc2.withColumn('COLE_COD_DANE', dfc2['COLE_COD_DANE'].cast(\"string\"))"
   ]
  },
  {
   "cell_type": "code",
   "execution_count": 47,
   "metadata": {},
   "outputs": [
    {
     "name": "stdout",
     "output_type": "stream",
     "text": [
      "root\n",
      " |-- PERIODO: integer (nullable = true)\n",
      " |-- |1: string (nullable = true)\n",
      " |-- COLE_COD_DANE: string (nullable = true)\n",
      " |-- |3: string (nullable = true)\n",
      " |-- COLE_INST_NOMBRE: string (nullable = true)\n",
      " |-- |5: string (nullable = true)\n",
      " |-- COLE_CODMPIO_COLEGIO: integer (nullable = true)\n",
      " |-- |7: string (nullable = true)\n",
      " |-- COLE_MPIO_MUNICIPIO: string (nullable = true)\n",
      " |-- |9: string (nullable = true)\n",
      " |-- COLE_COD_DEPTO: integer (nullable = true)\n",
      " |-- |11: string (nullable = true)\n",
      " |-- COLE_DEPTO_COLEGIO: string (nullable = true)\n",
      " |-- |13: string (nullable = true)\n",
      " |-- COLE_NATURALEZA: string (nullable = true)\n",
      " |-- |15: string (nullable = true)\n",
      " |-- COLE_GRADO: integer (nullable = true)\n",
      " |-- |17: string (nullable = true)\n",
      " |-- COLE_CALENDARIO_COLEGIO: string (nullable = true)\n",
      " |-- |19: string (nullable = true)\n",
      " |-- COLE_GENEROPOBLACION: string (nullable = true)\n",
      " |-- |21: string (nullable = true)\n",
      " |-- MATRICULADOS_ULTIMOS_3: integer (nullable = true)\n",
      " |-- |23: string (nullable = true)\n",
      " |-- EVALUADOS_ULTIMOS_3: integer (nullable = true)\n",
      " |-- |25: string (nullable = true)\n",
      " |-- INDICE_MATEMATICAS: double (nullable = true)\n",
      " |-- |27: string (nullable = true)\n",
      " |-- INDICE_C_NATURALES: double (nullable = true)\n",
      " |-- |29: string (nullable = true)\n",
      " |-- INDICE_SOCIALES_CIUDADANAS: double (nullable = true)\n",
      " |-- |31: string (nullable = true)\n",
      " |-- INDICE_LECTURA_CRITICA: double (nullable = true)\n",
      " |-- |33: string (nullable = true)\n",
      " |-- INDICE_INGLES: double (nullable = true)\n",
      " |-- |35: string (nullable = true)\n",
      " |-- INDICE_TOTAL: double (nullable = true)\n",
      " |-- |37: string (nullable = true)\n",
      " |-- COLE_CATEGORIA: string (nullable = true)\n",
      "\n",
      "None\n"
     ]
    }
   ],
   "source": [
    "print(dfc2.printSchema())"
   ]
  },
  {
   "cell_type": "code",
   "execution_count": 48,
   "metadata": {},
   "outputs": [
    {
     "name": "stdout",
     "output_type": "stream",
     "text": [
      "+-------------+--------------------+------------+\n",
      "|COLE_COD_DANE|    COLE_INST_NOMBRE|INDICE_TOTAL|\n",
      "+-------------+--------------------+------------+\n",
      "| 311001065489|     LIC CAMPO DAVID|      0.9143|\n",
      "| 311001076634|COL NUEVO COLOMBO...|      0.9097|\n",
      "| 311001089221| INST ALBERTO MERANI|      0.9072|\n",
      "| 311001005176|         LIC NAVARRA|      0.9055|\n",
      "| 311848000308| COL ANGLO AMERICANO|      0.9036|\n",
      "| 311001086320|GIMNASIO COLOMBO ...|       0.902|\n",
      "| 354518001139|CAMBRIDGE SCHOOL ...|      0.8989|\n",
      "| 368081000937|      COL EL ROSARIO|      0.8988|\n",
      "| 308001001871|NUEVO COLEGIO DEL...|      0.8974|\n",
      "| 315001001842| COLEGIO LOS ÁNGELES|      0.8968|\n",
      "+-------------+--------------------+------------+\n",
      "only showing top 10 rows\n",
      "\n"
     ]
    }
   ],
   "source": [
    "dfc2.select('COLE_COD_DANE','COLE_INST_NOMBRE','INDICE_TOTAL').orderBy('INDICE_TOTAL',ascending= False).show(10)"
   ]
  },
  {
   "cell_type": "code",
   "execution_count": 49,
   "metadata": {},
   "outputs": [
    {
     "name": "stdout",
     "output_type": "stream",
     "text": [
      "El numero de colegios segundo semestre:  9071\n"
     ]
    }
   ],
   "source": [
    "print(\"El numero de colegios segundo semestre: \", dfc2.count())"
   ]
  },
  {
   "cell_type": "markdown",
   "metadata": {},
   "source": [
    "## Anàlisis comparativo entre estudiantes y colegios primer semestre"
   ]
  },
  {
   "cell_type": "code",
   "execution_count": 50,
   "metadata": {},
   "outputs": [],
   "source": [
    "dfjoin = df1.join(dfc, df1.COLE_COD_DANE_ESTABLECIMIENTO == dfc.COLE_COD_DANE)"
   ]
  },
  {
   "cell_type": "code",
   "execution_count": 51,
   "metadata": {},
   "outputs": [
    {
     "name": "stdout",
     "output_type": "stream",
     "text": [
      "Nùmero de colegios coincidentes entre el archivo de estudiantes 1er semestre y colegios: 278\n"
     ]
    }
   ],
   "source": [
    "print(\"Nùmero de colegios coincidentes entre el archivo de estudiantes 1er semestre y colegios:\", dfjoin.count())"
   ]
  },
  {
   "cell_type": "code",
   "execution_count": 52,
   "metadata": {},
   "outputs": [],
   "source": [
    "dfjoinPorNom = df1.join(dfc, df1.COLE_NOMBRE_ESTABLECIMIENTO == dfc.COLE_INST_NOMBRE)"
   ]
  },
  {
   "cell_type": "code",
   "execution_count": 53,
   "metadata": {},
   "outputs": [
    {
     "name": "stdout",
     "output_type": "stream",
     "text": [
      "Nùmero de colegios coincidentes entre el archivo de estudiantes 1er semestre y colegios: 280\n"
     ]
    }
   ],
   "source": [
    "print(\"Nùmero de colegios coincidentes entre el archivo de estudiantes 1er semestre y colegios:\", dfjoinPorNom.count())"
   ]
  },
  {
   "cell_type": "code",
   "execution_count": 54,
   "metadata": {},
   "outputs": [
    {
     "name": "stdout",
     "output_type": "stream",
     "text": [
      "+----+-----------------------------+---------------------------+------------+\n",
      "|rank|COLE_COD_DANE_ESTABLECIMIENTO|COLE_NOMBRE_ESTABLECIMIENTO|INDICE_TOTAL|\n",
      "+----+-----------------------------+---------------------------+------------+\n",
      "|   1|                 368001000516|        COL NUEVO CAMBRIDGE|      0.9119|\n",
      "|   2|                 368276000826|       COL LA QUINTA DEL...|      0.9066|\n",
      "|   3|                 376001013441|       COLEGIO BILINGUE ...|      0.9254|\n",
      "|   4|                 311001105430|              COL LA COLINA|       0.902|\n",
      "|   5|                 376001043617|       COLEGIO PHILADELP...|      0.9109|\n",
      "|   6|                 311848000278|               GIMN VERMONT|      0.9067|\n",
      "|   7|                 311848002351|       COL SANTA FRANCIS...|      0.9066|\n",
      "|   8|                 311769003342|            COL LOS NOGALES|      0.9115|\n",
      "|   9|                 311848002424|             COL SAN CARLOS|       0.911|\n",
      "|  10|                 311769000165|       COL SAN JORGE DE ...|      0.9104|\n",
      "+----+-----------------------------+---------------------------+------------+\n",
      "only showing top 10 rows\n",
      "\n"
     ]
    }
   ],
   "source": [
    "# Se cruza la informaciòn por el nombre del colegio - se evidencia que el còdigo DANE no coincide\n",
    "dfjoin.select('rank','COLE_COD_DANE_ESTABLECIMIENTO','COLE_NOMBRE_ESTABLECIMIENTO','INDICE_TOTAL').show(10)"
   ]
  },
  {
   "cell_type": "markdown",
   "metadata": {},
   "source": [
    "## Anàlisis comparativo entre estudiantes y colegios segundo semestre"
   ]
  },
  {
   "cell_type": "code",
   "execution_count": 55,
   "metadata": {},
   "outputs": [],
   "source": [
    "# SE crea Dataframe de colegios segundo semestre\n",
    "dfc2 = spark.read.load(base + '/' + coleDic['20172'],\"com.databricks.spark.csv\",header='true',inferSchema='true',sep=',')\n",
    "dfc2 = dfc2.withColumn('COLE_COD_DANE', dfc2['COLE_COD_DANE'].cast(\"string\"))"
   ]
  },
  {
   "cell_type": "code",
   "execution_count": 57,
   "metadata": {},
   "outputs": [],
   "source": [
    "dfjoin2 = df2.join(dfc2, df2.cole_cod_dane_establecimiento == dfc2.COLE_COD_DANE)"
   ]
  },
  {
   "cell_type": "code",
   "execution_count": 58,
   "metadata": {},
   "outputs": [
    {
     "name": "stdout",
     "output_type": "stream",
     "text": [
      "Nùmero de colegios coincidentes entre el archivo de estudiantes 2do semestre y colegios: 9069\n"
     ]
    }
   ],
   "source": [
    "print(\"Nùmero de colegios coincidentes entre el archivo de estudiantes 2do semestre y colegios:\", dfjoin2.count())"
   ]
  },
  {
   "cell_type": "code",
   "execution_count": 60,
   "metadata": {},
   "outputs": [
    {
     "name": "stdout",
     "output_type": "stream",
     "text": [
      "+----+-----------------------------+---------------------------+------------+\n",
      "|rank|cole_cod_dane_establecimiento|COLE_NOMBRE_ESTABLECIMIENTO|INDICE_TOTAL|\n",
      "+----+-----------------------------+---------------------------+------------+\n",
      "|   1|                 311001065489|            LIC CAMPO DAVID|      0.9143|\n",
      "|   2|                 311001086320|       GIMNASIO COLOMBO ...|       0.902|\n",
      "|   3|                 425175032666|       GIMNASIO EL HONTANAR|      0.8968|\n",
      "|   4|                 311848000308|        COL ANGLO AMERICANO|      0.9036|\n",
      "|   5|                 311001076634|       COL NUEVO COLOMBO...|      0.9097|\n",
      "|   6|                 308001001871|       NUEVO COLEGIO DEL...|      0.8974|\n",
      "|   7|                 311001005176|                LIC NAVARRA|      0.9055|\n",
      "|   8|                 373001007662|       COL  SAN BONIFACI...|      0.8967|\n",
      "|   9|                 311001089221|        INST ALBERTO MERANI|      0.9072|\n",
      "|  10|                 341001005571|       COL  ANGLOCANADIE...|      0.8838|\n",
      "+----+-----------------------------+---------------------------+------------+\n",
      "only showing top 10 rows\n",
      "\n"
     ]
    }
   ],
   "source": [
    "dfjoin2.select('rank','cole_cod_dane_establecimiento','COLE_NOMBRE_ESTABLECIMIENTO','INDICE_TOTAL').show(10)"
   ]
  },
  {
   "cell_type": "code",
   "execution_count": null,
   "metadata": {},
   "outputs": [],
   "source": []
  }
 ],
 "metadata": {
  "kernelspec": {
   "display_name": "Python 3",
   "language": "python",
   "name": "python3"
  },
  "language_info": {
   "codemirror_mode": {
    "name": "ipython",
    "version": 3
   },
   "file_extension": ".py",
   "mimetype": "text/x-python",
   "name": "python",
   "nbconvert_exporter": "python",
   "pygments_lexer": "ipython3",
   "version": "3.7.3"
  }
 },
 "nbformat": 4,
 "nbformat_minor": 2
}
