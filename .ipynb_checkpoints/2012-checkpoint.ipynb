{
 "cells": [
  {
   "cell_type": "code",
   "execution_count": 83,
   "metadata": {},
   "outputs": [],
   "source": [
    "from pyspark.sql import SparkSession\n",
    "from pyspark.sql import Row\n",
    "from functools import reduce\n",
    "from pyspark.sql import DataFrame\n",
    "from pyspark.sql.types import StringType,DoubleType,FloatType\n",
    "from pyspark.sql.functions import udf\n",
    "from pyspark.sql.functions import regexp_replace\n",
    "from pyspark.sql.functions import lit\n",
    "import locale\n",
    "import sys\n",
    "import os\n",
    "import re"
   ]
  },
  {
   "cell_type": "code",
   "execution_count": 84,
   "metadata": {},
   "outputs": [
    {
     "data": {
      "text/html": [
       "\n",
       "        <div>\n",
       "            <p><b>SparkContext</b></p>\n",
       "\n",
       "            <p><a href=\"http://nodo1:4042\">Spark UI</a></p>\n",
       "\n",
       "            <dl>\n",
       "              <dt>Version</dt>\n",
       "                <dd><code>v2.4.3</code></dd>\n",
       "              <dt>Master</dt>\n",
       "                <dd><code>local[*]</code></dd>\n",
       "              <dt>AppName</dt>\n",
       "                <dd><code>PySparkShell</code></dd>\n",
       "            </dl>\n",
       "        </div>\n",
       "        "
      ],
      "text/plain": [
       "<SparkContext master=local[*] appName=PySparkShell>"
      ]
     },
     "execution_count": 84,
     "metadata": {},
     "output_type": "execute_result"
    }
   ],
   "source": [
    "sc"
   ]
  },
  {
   "cell_type": "code",
   "execution_count": 85,
   "metadata": {},
   "outputs": [
    {
     "data": {
      "text/html": [
       "\n",
       "            <div>\n",
       "                <p><b>SparkSession - hive</b></p>\n",
       "                \n",
       "        <div>\n",
       "            <p><b>SparkContext</b></p>\n",
       "\n",
       "            <p><a href=\"http://nodo1:4042\">Spark UI</a></p>\n",
       "\n",
       "            <dl>\n",
       "              <dt>Version</dt>\n",
       "                <dd><code>v2.4.3</code></dd>\n",
       "              <dt>Master</dt>\n",
       "                <dd><code>local[*]</code></dd>\n",
       "              <dt>AppName</dt>\n",
       "                <dd><code>PySparkShell</code></dd>\n",
       "            </dl>\n",
       "        </div>\n",
       "        \n",
       "            </div>\n",
       "        "
      ],
      "text/plain": [
       "<pyspark.sql.session.SparkSession at 0x7fc51ab37630>"
      ]
     },
     "execution_count": 85,
     "metadata": {},
     "output_type": "execute_result"
    }
   ],
   "source": [
    "spark"
   ]
  },
  {
   "cell_type": "markdown",
   "metadata": {},
   "source": [
    "# Leyendo lista de Colegios y Estudiantes"
   ]
  },
  {
   "cell_type": "code",
   "execution_count": 86,
   "metadata": {},
   "outputs": [],
   "source": [
    "base = '../Colegios'\n",
    "base2 = '../SB'\n",
    "colegios = os.listdir('../Colegios')\n",
    "estudiantes = os.listdir('../SB')"
   ]
  },
  {
   "cell_type": "code",
   "execution_count": 87,
   "metadata": {},
   "outputs": [],
   "source": [
    "estudiantes.sort()\n",
    "colegios.sort()\n",
    "estuDic = {}\n",
    "coleDic = {}\n",
    "for estu in estudiantes:\n",
    "    estuDic[re.findall('\\d+', estu)[1]] = estu\n",
    "\n",
    "for colegio in colegios:\n",
    "    coleDic[re.findall('\\d+', colegio)[1]] = colegio"
   ]
  },
  {
   "cell_type": "code",
   "execution_count": 88,
   "metadata": {},
   "outputs": [],
   "source": [
    "# Funciòn para unir cualquier nùmero de dataframes con la misma estructura \n",
    "def unionAll(*dfs):\n",
    "    return reduce(DataFrame.unionAll, dfs)"
   ]
  },
  {
   "cell_type": "code",
   "execution_count": 89,
   "metadata": {},
   "outputs": [
    {
     "name": "stdout",
     "output_type": "stream",
     "text": [
      "Archivos de estudiantes:  SB11_20121.txt SB11_20122.txt\n",
      "Archivos de colegios:  SB11-CLASIFI-PLANTELES-2012.txt\n"
     ]
    }
   ],
   "source": [
    "print(\"Archivos de estudiantes: \", estuDic['20121'],estuDic['20122'])\n",
    "print(\"Archivos de colegios: \",coleDic['2012'])"
   ]
  },
  {
   "cell_type": "code",
   "execution_count": 90,
   "metadata": {},
   "outputs": [],
   "source": [
    "# SE leen los dos archivos y se crean dos dataframes\n",
    "df1 = spark.read.load(base2 + '/' + estuDic['20121'],\"com.databricks.spark.csv\",header='true',inferSchema='true',sep='¬')\n",
    "df2 = spark.read.load(base2 + '/' + estuDic['20122'],\"com.databricks.spark.csv\",header='true',inferSchema='true',sep='¬')"
   ]
  },
  {
   "cell_type": "code",
   "execution_count": 91,
   "metadata": {},
   "outputs": [
    {
     "data": {
      "text/plain": [
       "['ESTU_TIPODOCUMENTO',\n",
       " 'ESTU_NACIONALIDAD',\n",
       " 'ESTU_GENERO',\n",
       " 'ESTU_FECHANACIMIENTO',\n",
       " 'PERIODO',\n",
       " 'ESTU_CONSECUTIVO',\n",
       " 'ESTU_ESTUDIANTE',\n",
       " 'ESTU_PAIS_RESIDE',\n",
       " 'ESTU_ETNIA',\n",
       " 'ESTU_LIMITA_MOTRIZ',\n",
       " 'ESTU_LIMITA_INVIDENTE',\n",
       " 'ESTU_LIMITA_CONDICIONESPECIAL',\n",
       " 'ESTU_LIMITA_SORDOCONINTERPRETE',\n",
       " 'ESTU_LIMITA_SORDOSININTERPRETE',\n",
       " 'ESTU_LIMITA_SORDOCEGUERA',\n",
       " 'ESTU_DEPTO_RESIDE',\n",
       " 'ESTU_COD_RESIDE_DEPTO',\n",
       " 'ESTU_MCPIO_RESIDE',\n",
       " 'ESTU_COD_RESIDE_MCPIO',\n",
       " 'ESTU_AREARESIDE',\n",
       " 'ESTU_MESTERMINOBACHILLER',\n",
       " 'ESTU_ANOTERMINOBACHILLER',\n",
       " 'ESTU_VALORPENSIONCOLEGIO',\n",
       " 'ESTU_OCUPACION_ACTUAL',\n",
       " 'ESTU_MOTIVO_PRESENTAVALIDACION',\n",
       " 'ESTU_VECESPRESENTOEXAMEN',\n",
       " 'ESTU_FECHAGRADOBACHILLER',\n",
       " 'FAMI_EDUCACIONPADRE',\n",
       " 'FAMI_EDUCACIONMADRE',\n",
       " 'FAMI_OCUPACIONPADRE',\n",
       " 'FAMI_OCUPACIONMADRE',\n",
       " 'FAMI_ESTRATOVIVIENDA',\n",
       " 'FAMI_NIVELSISBEN',\n",
       " 'FAMI_PERSONASHOGAR',\n",
       " 'FAMI_CUARTOSHOGAR',\n",
       " 'FAMI_PISOSHOGAR',\n",
       " 'FAMI_TIENEINTERNET',\n",
       " 'FAMI_TIENE_SERVICIOTV',\n",
       " 'FAMI_TIENECOMPUTADOR',\n",
       " 'FAMI_TIENELAVADORA',\n",
       " 'FAMI_TIENEMICROONDAS',\n",
       " 'FAMI_TIENEAUTOMOVIL',\n",
       " 'FAMI_TIENEDVD',\n",
       " 'FAMI_TIENE_NEVERA',\n",
       " 'FAMI_TIENE_CELULAR',\n",
       " 'FAMI_TELEFONO',\n",
       " 'FAMI_INGRESOFMILIARMENSUAL',\n",
       " 'ESTU_TRABAJAACTUALMENTE',\n",
       " 'ESTU_ANTECEDENTES',\n",
       " 'ESTU_ANOSPREESCOLAR',\n",
       " 'ESTU_ANOMATRICULAPRIMERO',\n",
       " 'ESTU_ANOTERMINOQUINTO',\n",
       " 'ESTU_ANOMATRICULASEXTO',\n",
       " 'ESTU_REPROBOPRIMERO',\n",
       " 'ESTU_REPROBOSEGUNDO',\n",
       " 'ESTU_REPROBOTERCERO',\n",
       " 'ESTU_REPROBOCUARTO',\n",
       " 'ESTU_REPROBOQUINTO',\n",
       " 'ESTU_REPROBOSEXTO',\n",
       " 'ESTU_REPROBOSEPTIMO',\n",
       " 'ESTU_REPROBOOCTAVO',\n",
       " 'ESTU_REPROBONOVENO',\n",
       " 'ESTU_REPROBODECIMO',\n",
       " 'ESTU_REPROBOONCEMAS',\n",
       " 'ESTU_ANOSCOLEGIOACTUAL',\n",
       " 'ESTU_CUANTOSCOLEGIOESTUDIO',\n",
       " 'ESTU_TOTALALUMNOSCURSO',\n",
       " 'ESTU_TIPOCARRERADESEADA',\n",
       " 'ESTU_INSTPORPRESTIGIO',\n",
       " 'ESTU_INSTPORCOSTOMATRICULA',\n",
       " 'ESTU_INSTPORUBICACION',\n",
       " 'ESTU_INSTPORUNICAQUEOFRECE',\n",
       " 'ESTU_INSTPOROPORTUNIDADES',\n",
       " 'ESTU_INSTPORAMIGOSESTUDIANDO',\n",
       " 'ESTU_INSTPOROTRARAZON',\n",
       " 'ESTU_PROGORIENTACIONVOCACIONAL',\n",
       " 'ESTU_PROGPORBUSCANDOCARRERA',\n",
       " 'ESTU_PROGPORCOLOMBIAAPRENDE',\n",
       " 'ESTU_PROGPORINTERESPERSONAL',\n",
       " 'ESTU_PROGPORTRADICIONFAMILIAR',\n",
       " 'ESTU_PROGPORMEJORARPOSICSOCIAL',\n",
       " 'ESTU_PROGPORINFLUENCIAALGUIEN',\n",
       " 'COLE_CODIGO_ICFES',\n",
       " 'COLE_COD_DANE_ESTABLECIMIENTO',\n",
       " 'COLE_NOMBRE_ESTABLECIMIENTO',\n",
       " 'COLE_GENERO',\n",
       " 'COLE_NATURALEZA',\n",
       " 'COLE_CALENDARIO',\n",
       " 'COLE_BILINGUE',\n",
       " 'COLE_CARACTER',\n",
       " 'COLE_COD_DANE_SEDE',\n",
       " 'COLE_NOMBRE_SEDE',\n",
       " 'COLE_SEDE_PRINCIPAL',\n",
       " 'COLE_AREA_UBICACION',\n",
       " 'COLE_JORNADA',\n",
       " 'COLE_COD_MCPIO_UBICACION',\n",
       " 'COLE_MCPIO_UBICACION',\n",
       " 'COLE_COD_DEPTO_UBICACION',\n",
       " 'COLE_DEPTO_UBICACION',\n",
       " 'ESTU_PRIVADO_LIBERTAD',\n",
       " 'ESTU_COD_MCPIO_PRESENTACION',\n",
       " 'ESTU_MCPIO_PRESENTACION',\n",
       " 'ESTU_DEPTO_PRESENTACION',\n",
       " 'ESTU_COD_DEPTO_PRESENTACION',\n",
       " 'PUNT_MATEMATICAS',\n",
       " 'PUNT_INGLES',\n",
       " 'DESEMP_INGLES',\n",
       " 'PUNT_CIENCIAS_SOCIALES',\n",
       " 'PUNT_BIOLOGIA',\n",
       " 'PUNT_FILOSOFIA',\n",
       " 'PUNT_FISICA',\n",
       " 'PUNT_QUIMICA',\n",
       " 'PUNT_LENGUAJE',\n",
       " 'PUNT_INTERDISC_MEDIOAMBIENTE',\n",
       " 'PUNT_INTERDISC_VIOLENCIAYSOC',\n",
       " 'PUNT_PROFUNDIZA_BIOLOGIA',\n",
       " 'DESEMP_PROFUNDIZA_BIOLOGIA',\n",
       " 'PUNT_PROFUNDIZA_CSOCIALES',\n",
       " 'DESEMP_PROFUNDIZA_CSOCIALES',\n",
       " 'PUNT_PROFUNDIZA_LENGUAJE',\n",
       " 'DESEMP_PROFUNDIZA_LENGUAJE',\n",
       " 'PUNT_PROFUNDIZA_MATEMATICA',\n",
       " 'DESEMP_PROFUNDIZA_MATEMATICA',\n",
       " 'ESTU_PUESTO',\n",
       " 'RECAF_PUNT_SOCIALES_CIUDADANAS',\n",
       " 'RECAF_PUNT_INGLES',\n",
       " 'RECAF_PUNT_LECTURA_CRITICA',\n",
       " 'RECAF_PUNT_MATEMATICAS',\n",
       " 'RECAF_PUNT_C_NATURALES',\n",
       " 'ESTU_ESTADOINVESTIGACION']"
      ]
     },
     "execution_count": 91,
     "metadata": {},
     "output_type": "execute_result"
    }
   ],
   "source": [
    "df1.columns"
   ]
  },
  {
   "cell_type": "code",
   "execution_count": 92,
   "metadata": {},
   "outputs": [
    {
     "data": {
      "text/plain": [
       "['ESTU_TIPODOCUMENTO',\n",
       " 'ESTU_NACIONALIDAD',\n",
       " 'ESTU_GENERO',\n",
       " 'ESTU_FECHANACIMIENTO',\n",
       " 'PERIODO',\n",
       " 'ESTU_CONSECUTIVO',\n",
       " 'ESTU_ESTUDIANTE',\n",
       " 'ESTU_PAIS_RESIDE',\n",
       " 'ESTU_DEPTO_RESIDE',\n",
       " 'ESTU_COD_RESIDE_DEPTO',\n",
       " 'ESTU_MCPIO_RESIDE',\n",
       " 'ESTU_COD_RESIDE_MCPIO',\n",
       " 'ESTU_AREARESIDE',\n",
       " 'ESTU_MESTERMINOBACHILLER',\n",
       " 'ESTU_ANOTERMINOBACHILLER',\n",
       " 'ESTU_VALORPENSIONCOLEGIO',\n",
       " 'ESTU_MOTIVO_PRESENTAVALIDACION',\n",
       " 'ESTU_FECHAGRADOBACHILLER',\n",
       " 'FAMI_EDUCACIONPADRE',\n",
       " 'FAMI_EDUCACIONMADRE',\n",
       " 'FAMI_OCUPACIONPADRE',\n",
       " 'FAMI_OCUPACIONMADRE',\n",
       " 'FAMI_ESTRATOVIVIENDA',\n",
       " 'FAMI_NIVELSISBEN',\n",
       " 'FAMI_PERSONASHOGAR',\n",
       " 'FAMI_CUARTOSHOGAR',\n",
       " 'FAMI_PISOSHOGAR',\n",
       " 'FAMI_TIENEINTERNET',\n",
       " 'FAMI_TIENE_SERVICIOTV',\n",
       " 'FAMI_TIENECOMPUTADOR',\n",
       " 'FAMI_TIENELAVADORA',\n",
       " 'FAMI_TIENEMICROONDAS',\n",
       " 'FAMI_TIENEHORNO',\n",
       " 'FAMI_TIENEAUTOMOVIL',\n",
       " 'FAMI_TIENEDVD',\n",
       " 'FAMI_TIENE_NEVERA',\n",
       " 'FAMI_TIENE_CELULAR',\n",
       " 'FAMI_TELEFONO',\n",
       " 'FAMI_INGRESOFMILIARMENSUAL',\n",
       " 'ESTU_TRABAJAACTUALMENTE',\n",
       " 'ESTU_HORASSEMANATRABAJA',\n",
       " 'ESTU_ANTECEDENTES',\n",
       " 'ESTU_ANOSPREESCOLAR',\n",
       " 'ESTU_ANOMATRICULAPRIMERO',\n",
       " 'ESTU_ANOTERMINOQUINTO',\n",
       " 'ESTU_ANOMATRICULASEXTO',\n",
       " 'ESTU_REPROBOPRIMERO',\n",
       " 'ESTU_REPROBOSEGUNDO',\n",
       " 'ESTU_REPROBOTERCERO',\n",
       " 'ESTU_REPROBOCUARTO',\n",
       " 'ESTU_REPROBOQUINTO',\n",
       " 'ESTU_REPROBOSEXTO',\n",
       " 'ESTU_REPROBOSEPTIMO',\n",
       " 'ESTU_REPROBOOCTAVO',\n",
       " 'ESTU_REPROBONOVENO',\n",
       " 'ESTU_REPROBODECIMO',\n",
       " 'ESTU_REPROBOONCEMAS',\n",
       " 'ESTU_ANOSCOLEGIOACTUAL',\n",
       " 'ESTU_CUANTOSCOLEGIOESTUDIO',\n",
       " 'ESTU_SERETIROCOLEGIO',\n",
       " 'ESTU_RAZONRETIROCOLEGIO',\n",
       " 'ESTU_TOTALALUMNOSCURSO',\n",
       " 'ESTU_TIPOCARRERADESEADA',\n",
       " 'ESTU_RAZON_INST_DESEADA',\n",
       " 'ESTU_INSTPORPRESTIGIO',\n",
       " 'ESTU_INSTPORCOSTOMATRICULA',\n",
       " 'ESTU_INSTPORUBICACION',\n",
       " 'ESTU_INSTPORUNICAQUEOFRECE',\n",
       " 'ESTU_INSTPOROPORTUNIDADES',\n",
       " 'ESTU_INSTPORAMIGOSESTUDIANDO',\n",
       " 'ESTU_INSTPOROTRARAZON',\n",
       " 'ESTU_RAZON_PROG_DESEADO',\n",
       " 'ESTU_PROGORIENTACIONVOCACIONAL',\n",
       " 'ESTU_PROGPORBUSCANDOCARRERA',\n",
       " 'ESTU_PROGPORCOLOMBIAAPRENDE',\n",
       " 'ESTU_PROGPORINTERESPERSONAL',\n",
       " 'ESTU_PROGPORTRADICIONFAMILIAR',\n",
       " 'ESTU_PROGPORMEJORARPOSICSOCIAL',\n",
       " 'ESTU_PROGPORINFLUENCIAALGUIEN',\n",
       " 'COLE_CODIGO_ICFES',\n",
       " 'COLE_COD_DANE_ESTABLECIMIENTO',\n",
       " 'COLE_NOMBRE_ESTABLECIMIENTO',\n",
       " 'COLE_GENERO',\n",
       " 'COLE_NATURALEZA',\n",
       " 'COLE_CALENDARIO',\n",
       " 'COLE_BILINGUE',\n",
       " 'COLE_CARACTER',\n",
       " 'COLE_COD_DANE_SEDE',\n",
       " 'COLE_NOMBRE_SEDE',\n",
       " 'COLE_SEDE_PRINCIPAL',\n",
       " 'COLE_AREA_UBICACION',\n",
       " 'COLE_COD_MCPIO_UBICACION',\n",
       " 'COLE_JORNADA',\n",
       " 'COLE_MCPIO_UBICACION',\n",
       " 'COLE_COD_DEPTO_UBICACION',\n",
       " 'COLE_DEPTO_UBICACION',\n",
       " 'ESTU_PRIVADO_LIBERTAD',\n",
       " 'ESTU_COD_MCPIO_PRESENTACION',\n",
       " 'ESTU_MCPIO_PRESENTACION',\n",
       " 'ESTU_DEPTO_PRESENTACION',\n",
       " 'ESTU_COD_DEPTO_PRESENTACION',\n",
       " 'PUNT_MATEMATICAS',\n",
       " 'PUNT_INGLES',\n",
       " 'DESEMP_INGLES',\n",
       " 'PUNT_CIENCIAS_SOCIALES',\n",
       " 'PUNT_BIOLOGIA',\n",
       " 'PUNT_FILOSOFIA',\n",
       " 'PUNT_FISICA',\n",
       " 'PUNT_QUIMICA',\n",
       " 'PUNT_LENGUAJE',\n",
       " 'PUNT_INTERDISC_MEDIOAMBIENTE',\n",
       " 'PUNT_INTERDISC_VIOLENCIAYSOC',\n",
       " 'PUNT_PROFUNDIZA_BIOLOGIA',\n",
       " 'DESEMP_PROFUNDIZA_BIOLOGIA',\n",
       " 'PUNT_PROFUNDIZA_CSOCIALES',\n",
       " 'DESEMP_PROFUNDIZA_CSOCIALES',\n",
       " 'PUNT_PROFUNDIZA_LENGUAJE',\n",
       " 'DESEMP_PROFUNDIZA_LENGUAJE',\n",
       " 'PUNT_PROFUNDIZA_MATEMATICA',\n",
       " 'DESEMP_PROFUNDIZA_MATEMATICA',\n",
       " 'ESTU_PUESTO',\n",
       " 'RECAF_PUNT_SOCIALES_CIUDADANAS',\n",
       " 'RECAF_PUNT_INGLES',\n",
       " 'RECAF_PUNT_LECTURA_CRITICA',\n",
       " 'RECAF_PUNT_MATEMATICAS',\n",
       " 'RECAF_PUNT_C_NATURALES',\n",
       " 'ESTU_ESTADOINVESTIGACION']"
      ]
     },
     "execution_count": 92,
     "metadata": {},
     "output_type": "execute_result"
    }
   ],
   "source": [
    "df2.columns"
   ]
  },
  {
   "cell_type": "code",
   "execution_count": 93,
   "metadata": {},
   "outputs": [],
   "source": [
    "columnasPuntos20121 = [\n",
    " 'COLE_COD_DANE_ESTABLECIMIENTO',\n",
    " 'PUNT_MATEMATICAS',\n",
    " 'PUNT_INGLES',\n",
    " 'PUNT_CIENCIAS_SOCIALES',\n",
    " 'PUNT_BIOLOGIA',\n",
    " 'PUNT_FILOSOFIA',\n",
    " 'PUNT_FISICA',\n",
    " 'PUNT_QUIMICA',\n",
    " 'PUNT_LENGUAJE',\n",
    " 'PUNT_INTERDISC_MEDIOAMBIENTE',\n",
    " 'PUNT_INTERDISC_VIOLENCIAYSOC',\n",
    " 'PUNT_PROFUNDIZA_BIOLOGIA',\n",
    " 'PUNT_PROFUNDIZA_CSOCIALES',\n",
    " 'PUNT_PROFUNDIZA_LENGUAJE',\n",
    " 'PUNT_PROFUNDIZA_MATEMATICA']\n",
    "\n",
    "columnasPuntos20122 = [\n",
    " 'COLE_COD_DANE_ESTABLECIMIENTO',\n",
    " 'PUNT_MATEMATICAS',\n",
    " 'PUNT_INGLES',\n",
    " 'PUNT_CIENCIAS_SOCIALES',\n",
    " 'PUNT_BIOLOGIA',\n",
    " 'PUNT_FILOSOFIA',\n",
    " 'PUNT_FISICA',\n",
    " 'PUNT_QUIMICA',\n",
    " 'PUNT_LENGUAJE',\n",
    " 'PUNT_INTERDISC_MEDIOAMBIENTE',\n",
    " 'PUNT_INTERDISC_VIOLENCIAYSOC',\n",
    " 'PUNT_PROFUNDIZA_BIOLOGIA',\n",
    " 'PUNT_PROFUNDIZA_CSOCIALES',\n",
    " 'PUNT_PROFUNDIZA_LENGUAJE',\n",
    " 'PUNT_PROFUNDIZA_MATEMATICA',   \n",
    "]"
   ]
  },
  {
   "cell_type": "code",
   "execution_count": 94,
   "metadata": {},
   "outputs": [],
   "source": [
    "# SE leen los dos archivos y se crean dos dataframes\n",
    "df1 = spark.read.load(base2 + '/' + estuDic['20121'],\"com.databricks.spark.csv\",header='true',inferSchema='true',sep='¬').select(columnasPuntos20121)\n",
    "df2 = spark.read.load(base2 + '/' + estuDic['20122'],\"com.databricks.spark.csv\",header='true',inferSchema='true',sep='¬').select(columnasPuntos20122)"
   ]
  },
  {
   "cell_type": "code",
   "execution_count": 95,
   "metadata": {},
   "outputs": [],
   "source": [
    "#dft = df1.columns.remove('cole_cod_dane_institucion')\n",
    "cols = columnasPuntos20122\n",
    "cols.remove('COLE_COD_DANE_ESTABLECIMIENTO')"
   ]
  },
  {
   "cell_type": "code",
   "execution_count": 96,
   "metadata": {},
   "outputs": [],
   "source": [
    "# SE unen los dos dataframes\n",
    "df = unionAll(df1,df2)\n",
    "for cp in cols:\n",
    "    df = df.withColumn(cp, regexp_replace(cp, ',', '.'))\n",
    "    df = df.withColumn(cp, df[cp].cast(\"float\"))\n",
    "    df = df.na.fill({cp:0})"
   ]
  },
  {
   "cell_type": "code",
   "execution_count": 97,
   "metadata": {},
   "outputs": [
    {
     "name": "stdout",
     "output_type": "stream",
     "text": [
      "root\n",
      " |-- COLE_COD_DANE_ESTABLECIMIENTO: long (nullable = true)\n",
      " |-- PUNT_MATEMATICAS: float (nullable = false)\n",
      " |-- PUNT_INGLES: float (nullable = false)\n",
      " |-- PUNT_CIENCIAS_SOCIALES: float (nullable = false)\n",
      " |-- PUNT_BIOLOGIA: float (nullable = false)\n",
      " |-- PUNT_FILOSOFIA: float (nullable = false)\n",
      " |-- PUNT_FISICA: float (nullable = false)\n",
      " |-- PUNT_QUIMICA: float (nullable = false)\n",
      " |-- PUNT_LENGUAJE: float (nullable = false)\n",
      " |-- PUNT_INTERDISC_MEDIOAMBIENTE: float (nullable = false)\n",
      " |-- PUNT_INTERDISC_VIOLENCIAYSOC: float (nullable = false)\n",
      " |-- PUNT_PROFUNDIZA_BIOLOGIA: float (nullable = false)\n",
      " |-- PUNT_PROFUNDIZA_CSOCIALES: float (nullable = false)\n",
      " |-- PUNT_PROFUNDIZA_LENGUAJE: float (nullable = false)\n",
      " |-- PUNT_PROFUNDIZA_MATEMATICA: float (nullable = false)\n",
      "\n",
      "None\n"
     ]
    }
   ],
   "source": [
    "print(df.printSchema())"
   ]
  },
  {
   "cell_type": "code",
   "execution_count": 98,
   "metadata": {},
   "outputs": [],
   "source": [
    "df = df.withColumn('COLE_COD_DANE_ESTABLECIMIENTO', df['COLE_COD_DANE_ESTABLECIMIENTO'].cast(\"string\"))"
   ]
  },
  {
   "cell_type": "code",
   "execution_count": 99,
   "metadata": {},
   "outputs": [
    {
     "name": "stdout",
     "output_type": "stream",
     "text": [
      "Numero de filas  580551\n"
     ]
    }
   ],
   "source": [
    "print(\"Numero de filas \", df.count())"
   ]
  },
  {
   "cell_type": "code",
   "execution_count": 100,
   "metadata": {},
   "outputs": [],
   "source": [
    "# Contando el numero de estudiantes por instituciòn y mostrandola de forma descendente\n",
    "dsCountEst = df.groupBy('COLE_COD_DANE_ESTABLECIMIENTO').count().orderBy('count',ascending=\n",
    "False)"
   ]
  },
  {
   "cell_type": "code",
   "execution_count": 101,
   "metadata": {},
   "outputs": [
    {
     "name": "stdout",
     "output_type": "stream",
     "text": [
      "+-----------------------------+-----+\n",
      "|COLE_COD_DANE_ESTABLECIMIENTO|count|\n",
      "+-----------------------------+-----+\n",
      "|311001105391                 |1202 |\n",
      "|105001000108                 |1093 |\n",
      "|311001105863                 |1076 |\n",
      "|null                         |961  |\n",
      "|105001013340                 |831  |\n",
      "|105615000236                 |660  |\n",
      "|305001003963                 |659  |\n",
      "|176001005813                 |620  |\n",
      "|105154000301                 |594  |\n",
      "|168001003591                 |586  |\n",
      "+-----------------------------+-----+\n",
      "only showing top 10 rows\n",
      "\n"
     ]
    }
   ],
   "source": [
    "dsCountEst.show(10,False)\n",
    "# Numero de estudiantes por instituciòn"
   ]
  },
  {
   "cell_type": "code",
   "execution_count": 102,
   "metadata": {},
   "outputs": [],
   "source": [
    "\n",
    "#Se crea una columna con el total de los puntajes    \n",
    "df= df.withColumn(\"Suma\",df['PUNT_MATEMATICAS']+df['PUNT_INGLES']+df['PUNT_CIENCIAS_SOCIALES']+\n",
    "                     df['PUNT_BIOLOGIA']+df['PUNT_FILOSOFIA']+df['PUNT_FISICA']+df['PUNT_QUIMICA']+\n",
    "                     df['PUNT_LENGUAJE']+df['PUNT_INTERDISC_MEDIOAMBIENTE']+df['PUNT_INTERDISC_VIOLENCIAYSOC']+\n",
    "                     df['PUNT_PROFUNDIZA_BIOLOGIA']+\n",
    "                     df['PUNT_PROFUNDIZA_CSOCIALES']+df['PUNT_PROFUNDIZA_LENGUAJE']+df['PUNT_PROFUNDIZA_MATEMATICA'])\n"
   ]
  },
  {
   "cell_type": "markdown",
   "metadata": {},
   "source": [
    "## Resultados finales por instituciòn"
   ]
  },
  {
   "cell_type": "code",
   "execution_count": 103,
   "metadata": {},
   "outputs": [],
   "source": [
    "from pyspark.sql.functions import *\n",
    "from pyspark.sql.window import Window\n",
    "\n",
    "df = df.groupBy('COLE_COD_DANE_ESTABLECIMIENTO').mean()\n",
    "df = df.withColumn(\"rank\", dense_rank().over(Window.orderBy(desc(\"avg(Suma)\"))))\n",
    "df = df.orderBy('rank',ascending= True)"
   ]
  },
  {
   "cell_type": "code",
   "execution_count": 104,
   "metadata": {},
   "outputs": [
    {
     "name": "stdout",
     "output_type": "stream",
     "text": [
      "+-----------------------------+-----------------+----+\n",
      "|COLE_COD_DANE_ESTABLECIMIENTO|avg(Suma)        |rank|\n",
      "+-----------------------------+-----------------+----+\n",
      "|368276000826                 |586.6666666666666|1   |\n",
      "|311769003342                 |583.2            |2   |\n",
      "|311769000165                 |578.469696969697 |3   |\n",
      "|376001013441                 |570.75           |4   |\n",
      "|376001002376                 |569.671052631579 |5   |\n",
      "|311001089221                 |567.6896551724138|6   |\n",
      "|376001002279                 |566.5492957746479|7   |\n",
      "|376001026968                 |565.969696969697 |8   |\n",
      "|373001007662                 |565.7619047619048|9   |\n",
      "|308001012813                 |558.7272727272727|10  |\n",
      "+-----------------------------+-----------------+----+\n",
      "only showing top 10 rows\n",
      "\n"
     ]
    }
   ],
   "source": [
    "df.select('COLE_COD_DANE_ESTABLECIMIENTO','avg(Suma)','rank').show(10,False)"
   ]
  },
  {
   "cell_type": "markdown",
   "metadata": {},
   "source": [
    "## Colegios"
   ]
  },
  {
   "cell_type": "code",
   "execution_count": 105,
   "metadata": {},
   "outputs": [],
   "source": [
    "# SE crea Dataframe de colegios en este año desaparecio la columna COLE_CODMPIO_COLEGIO\n",
    "dfc = spark.read.load(base + '/' + coleDic['2012'],\"com.databricks.spark.csv\",header='true',inferSchema='true',sep='|')\n",
    "dfc = dfc.withColumn('COLE_CODIGO_COLEGIO', dfc['COLE_CODIGO_COLEGIO'].cast(\"string\"))"
   ]
  },
  {
   "cell_type": "code",
   "execution_count": 106,
   "metadata": {},
   "outputs": [
    {
     "name": "stdout",
     "output_type": "stream",
     "text": [
      "root\n",
      " |-- COLE_CODIGO_COLEGIO: string (nullable = true)\n",
      " |-- COLE_INST_NOMBRE: string (nullable = true)\n",
      " |-- COLE_CODMPIO_COLEGIO: integer (nullable = true)\n",
      " |-- COLE_MPIO_COLEGIO: string (nullable = true)\n",
      " |-- COLE_DEPTO_COLEGIO: string (nullable = true)\n",
      " |-- COLE_INST_JORNADA: string (nullable = true)\n",
      " |-- COLE_CALENDARIO_COLEGIO: string (nullable = true)\n",
      " |-- COLE_GENEROPOBLACION: string (nullable = true)\n",
      " |-- COLE_NATURALEZA: string (nullable = true)\n",
      " |-- COLE_GEOGRAFIA: string (nullable = true)\n",
      " |-- COLE_QUIMICA: integer (nullable = true)\n",
      " |-- COLE_FISICA: integer (nullable = true)\n",
      " |-- COLE_BIOLOGIA: integer (nullable = true)\n",
      " |-- COLE_HISTORIA: string (nullable = true)\n",
      " |-- COLE_FILOSOFIA: integer (nullable = true)\n",
      " |-- COLE_MATEMATICAS: integer (nullable = true)\n",
      " |-- COLE_LENGUAJE: integer (nullable = true)\n",
      " |-- COLE_CIENCIAS_SOCIALES: integer (nullable = true)\n",
      " |-- COLE_INGLES: integer (nullable = true)\n",
      " |-- COLE_CATEGORIA: string (nullable = true)\n",
      " |-- CLPL_N: integer (nullable = true)\n",
      "\n",
      "None\n"
     ]
    }
   ],
   "source": [
    "print(dfc.printSchema())"
   ]
  },
  {
   "cell_type": "code",
   "execution_count": 107,
   "metadata": {},
   "outputs": [],
   "source": [
    "colsColegio = ['COLE_CODIGO_COLEGIO',\n",
    " 'COLE_CIENCIAS_SOCIALES',\n",
    " 'COLE_QUIMICA',\n",
    " 'COLE_FISICA',\n",
    " 'COLE_BIOLOGIA',\n",
    " 'COLE_FILOSOFIA',\n",
    " 'COLE_MATEMATICAS',\n",
    " 'COLE_LENGUAJE',\n",
    " 'COLE_INGLES',\n",
    " 'COLE_GEOGRAFIA',\n",
    " 'COLE_HISTORIA']"
   ]
  },
  {
   "cell_type": "code",
   "execution_count": 108,
   "metadata": {},
   "outputs": [],
   "source": [
    "dfc = dfc.select(colsColegio)"
   ]
  },
  {
   "cell_type": "code",
   "execution_count": 109,
   "metadata": {},
   "outputs": [
    {
     "name": "stdout",
     "output_type": "stream",
     "text": [
      "+-------------------+----------------------+------------+-----------+-------------+--------------+----------------+-------------+-----------+--------------+-------------+\n",
      "|COLE_CODIGO_COLEGIO|COLE_CIENCIAS_SOCIALES|COLE_QUIMICA|COLE_FISICA|COLE_BIOLOGIA|COLE_FILOSOFIA|COLE_MATEMATICAS|COLE_LENGUAJE|COLE_INGLES|COLE_GEOGRAFIA|COLE_HISTORIA|\n",
      "+-------------------+----------------------+------------+-----------+-------------+--------------+----------------+-------------+-----------+--------------+-------------+\n",
      "|69278              |8                     |8           |8          |8            |8             |8               |8            |9          |null          |null         |\n",
      "|69336              |7                     |7           |7          |6            |6             |7               |6            |6          |null          |null         |\n",
      "|69351              |7                     |8           |8          |7            |6             |8               |7            |7          |null          |null         |\n",
      "|69583              |7                     |7           |7          |7            |7             |7               |6            |7          |null          |null         |\n",
      "|69682              |8                     |6           |7          |7            |7             |6               |7            |7          |null          |null         |\n",
      "+-------------------+----------------------+------------+-----------+-------------+--------------+----------------+-------------+-----------+--------------+-------------+\n",
      "only showing top 5 rows\n",
      "\n"
     ]
    }
   ],
   "source": [
    "dfc.show(5,False)"
   ]
  },
  {
   "cell_type": "code",
   "execution_count": 110,
   "metadata": {},
   "outputs": [
    {
     "name": "stdout",
     "output_type": "stream",
     "text": [
      "El numero de colegios es:  8359\n"
     ]
    }
   ],
   "source": [
    "print(\"El numero de colegios es: \", dfc.select('COLE_CODIGO_COLEGIO').count())"
   ]
  },
  {
   "cell_type": "markdown",
   "metadata": {},
   "source": [
    "## Anàlisis comparativo entre estudiantes y colegios"
   ]
  },
  {
   "cell_type": "code",
   "execution_count": 111,
   "metadata": {},
   "outputs": [],
   "source": [
    "dfjoin = df1.join(dfc, df1.COLE_COD_DANE_ESTABLECIMIENTO == dfc.COLE_CODIGO_COLEGIO)"
   ]
  },
  {
   "cell_type": "code",
   "execution_count": 112,
   "metadata": {},
   "outputs": [
    {
     "name": "stdout",
     "output_type": "stream",
     "text": [
      "Nùmero de colegios coincidentes entre el archivo de estudiantes: 0\n"
     ]
    }
   ],
   "source": [
    "print(\"Nùmero de colegios coincidentes entre el archivo de estudiantes:\", dfjoin.count())"
   ]
  },
  {
   "cell_type": "markdown",
   "metadata": {},
   "source": [
    "La informaciòn de colegios no coincide con la informaciòn de estudiantes, no existe còdigo dane en el archivo de colegios."
   ]
  }
 ],
 "metadata": {
  "kernelspec": {
   "display_name": "Python 3",
   "language": "python",
   "name": "python3"
  },
  "language_info": {
   "codemirror_mode": {
    "name": "ipython",
    "version": 3
   },
   "file_extension": ".py",
   "mimetype": "text/x-python",
   "name": "python",
   "nbconvert_exporter": "python",
   "pygments_lexer": "ipython3",
   "version": "3.7.3"
  }
 },
 "nbformat": 4,
 "nbformat_minor": 2
}
