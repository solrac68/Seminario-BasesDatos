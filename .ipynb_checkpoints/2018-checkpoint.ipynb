{
 "cells": [
  {
   "cell_type": "code",
   "execution_count": 1,
   "metadata": {},
   "outputs": [],
   "source": [
    "from pyspark.sql import SparkSession\n",
    "from pyspark.sql import Row\n",
    "from functools import reduce\n",
    "from pyspark.sql import DataFrame\n",
    "from pyspark.sql.types import StringType,DoubleType,FloatType\n",
    "from pyspark.sql.functions import udf\n",
    "from pyspark.sql.functions import regexp_replace\n",
    "from pyspark.sql.functions import lit\n",
    "import locale\n",
    "import sys\n",
    "import os\n",
    "import re"
   ]
  },
  {
   "cell_type": "code",
   "execution_count": 2,
   "metadata": {},
   "outputs": [
    {
     "data": {
      "text/html": [
       "\n",
       "        <div>\n",
       "            <p><b>SparkContext</b></p>\n",
       "\n",
       "            <p><a href=\"http://nodo1:4040\">Spark UI</a></p>\n",
       "\n",
       "            <dl>\n",
       "              <dt>Version</dt>\n",
       "                <dd><code>v2.4.3</code></dd>\n",
       "              <dt>Master</dt>\n",
       "                <dd><code>local[*]</code></dd>\n",
       "              <dt>AppName</dt>\n",
       "                <dd><code>PySparkShell</code></dd>\n",
       "            </dl>\n",
       "        </div>\n",
       "        "
      ],
      "text/plain": [
       "<SparkContext master=local[*] appName=PySparkShell>"
      ]
     },
     "execution_count": 2,
     "metadata": {},
     "output_type": "execute_result"
    }
   ],
   "source": [
    "sc"
   ]
  },
  {
   "cell_type": "code",
   "execution_count": 57,
   "metadata": {},
   "outputs": [
    {
     "data": {
      "text/html": [
       "\n",
       "            <div>\n",
       "                <p><b>SparkSession - hive</b></p>\n",
       "                \n",
       "        <div>\n",
       "            <p><b>SparkContext</b></p>\n",
       "\n",
       "            <p><a href=\"http://nodo1:4040\">Spark UI</a></p>\n",
       "\n",
       "            <dl>\n",
       "              <dt>Version</dt>\n",
       "                <dd><code>v2.4.3</code></dd>\n",
       "              <dt>Master</dt>\n",
       "                <dd><code>local[*]</code></dd>\n",
       "              <dt>AppName</dt>\n",
       "                <dd><code>PySparkShell</code></dd>\n",
       "            </dl>\n",
       "        </div>\n",
       "        \n",
       "            </div>\n",
       "        "
      ],
      "text/plain": [
       "<pyspark.sql.session.SparkSession at 0x7f7cf1775630>"
      ]
     },
     "execution_count": 57,
     "metadata": {},
     "output_type": "execute_result"
    }
   ],
   "source": [
    "spark"
   ]
  },
  {
   "cell_type": "markdown",
   "metadata": {},
   "source": [
    "# Leyendo lista de Colegios y Estudiantes"
   ]
  },
  {
   "cell_type": "code",
   "execution_count": 87,
   "metadata": {},
   "outputs": [],
   "source": [
    "base = '../Colegios'\n",
    "base2 = '../SB'\n",
    "colegios = os.listdir('../Colegios')\n",
    "estudiantes = os.listdir('../SB')"
   ]
  },
  {
   "cell_type": "code",
   "execution_count": 88,
   "metadata": {},
   "outputs": [],
   "source": [
    "estudiantes.sort()\n",
    "colegios.sort()\n",
    "estuDic = {}\n",
    "coleDic = {}\n",
    "for estu in estudiantes:\n",
    "    estuDic[re.findall('\\d+', estu)[1]] = estu\n",
    "\n",
    "for colegio in colegios:\n",
    "    coleDic[re.findall('\\d+', colegio)[1]] = colegio"
   ]
  },
  {
   "cell_type": "code",
   "execution_count": 89,
   "metadata": {},
   "outputs": [],
   "source": [
    "# Funciòn para unir cualquier nùmero de dataframes con la misma estructura \n",
    "def unionAll(*dfs):\n",
    "    return reduce(DataFrame.unionAll, dfs)"
   ]
  },
  {
   "cell_type": "code",
   "execution_count": 90,
   "metadata": {},
   "outputs": [
    {
     "name": "stdout",
     "output_type": "stream",
     "text": [
      "Archivos de estudiantes:  SB11_20181.txt SB11_20182.txt\n",
      "Archivos de colegios:  SB11-CLASIFI-PLANTELES-20181.txt SB11-CLASIFI-PLANTELES-20182.txt\n"
     ]
    }
   ],
   "source": [
    "print(\"Archivos de estudiantes: \", estuDic['20181'],estuDic['20182'])\n",
    "print(\"Archivos de colegios: \",coleDic['20181'],coleDic['20182'])"
   ]
  },
  {
   "cell_type": "code",
   "execution_count": 91,
   "metadata": {},
   "outputs": [],
   "source": [
    "df1 = spark.read.load(base2 + '/' + estuDic['20181'],\"com.databricks.spark.csv\",header='true',inferSchema='true',sep='¬')"
   ]
  },
  {
   "cell_type": "code",
   "execution_count": 92,
   "metadata": {},
   "outputs": [
    {
     "data": {
      "text/plain": [
       "['estu_tipodocumento',\n",
       " 'estu_nacionalidad',\n",
       " 'estu_genero',\n",
       " 'estu_fechanacimiento',\n",
       " 'periodo',\n",
       " 'estu_consecutivo',\n",
       " 'estu_estudiante',\n",
       " 'estu_pais_reside',\n",
       " 'estu_tieneetnia',\n",
       " 'estu_etnia',\n",
       " 'estu_limita_motriz',\n",
       " 'estu_limita_invidente',\n",
       " 'estu_limita_condicionespecial',\n",
       " 'estu_limita_sordo',\n",
       " 'estu_limita_sdown',\n",
       " 'estu_limita_autismo',\n",
       " 'estu_depto_reside',\n",
       " 'estu_cod_reside_depto',\n",
       " 'estu_mcpio_reside',\n",
       " 'estu_cod_reside_mcpio',\n",
       " 'fami_estratovivienda',\n",
       " 'fami_personashogar',\n",
       " 'fami_cuartoshogar',\n",
       " 'fami_educacionpadre',\n",
       " 'fami_educacionmadre',\n",
       " 'fami_trabajolaborpadre',\n",
       " 'fami_trabajolabormadre',\n",
       " 'fami_tieneinternet',\n",
       " 'fami_tieneserviciotv',\n",
       " 'fami_tienecomputador',\n",
       " 'fami_tienelavadora',\n",
       " 'fami_tienehornomicroogas',\n",
       " 'fami_tieneautomovil',\n",
       " 'fami_tienemotocicleta',\n",
       " 'fami_tieneconsolavideojuegos',\n",
       " 'fami_numlibros',\n",
       " 'fami_comelechederivados',\n",
       " 'fami_comecarnepescadohuevo',\n",
       " 'fami_comecerealfrutoslegumbre',\n",
       " 'fami_situacioneconomica',\n",
       " 'estu_dedicacionlecturadiaria',\n",
       " 'estu_dedicacioninternet',\n",
       " 'estu_horassemanatrabaja',\n",
       " 'estu_tiporemuneracion',\n",
       " 'cole_codigo_icfes',\n",
       " 'cole_cod_dane_establecimiento',\n",
       " 'cole_nombre_establecimiento',\n",
       " 'cole_genero',\n",
       " 'cole_naturaleza',\n",
       " 'cole_calendario',\n",
       " 'cole_bilingue',\n",
       " 'cole_caracter',\n",
       " 'cole_cod_dane_sede',\n",
       " 'cole_nombre_sede',\n",
       " 'cole_sede_principal',\n",
       " 'cole_area_ubicacion',\n",
       " 'cole_jornada',\n",
       " 'cole_cod_mcpio_ubicacion',\n",
       " 'cole_mcpio_ubicacion',\n",
       " 'cole_cod_depto_ubicacion',\n",
       " 'cole_depto_ubicacion',\n",
       " 'estu_privado_libertad',\n",
       " 'estu_cod_mcpio_presentacion',\n",
       " 'estu_mcpio_presentacion',\n",
       " 'estu_depto_presentacion',\n",
       " 'estu_cod_depto_presentacion',\n",
       " 'punt_lectura_critica',\n",
       " 'percentil_lectura_critica',\n",
       " 'desemp_lectura_critica',\n",
       " 'punt_matematicas',\n",
       " 'percentil_matematicas',\n",
       " 'desemp_matematicas',\n",
       " 'punt_c_naturales',\n",
       " 'percentil_c_naturales',\n",
       " 'desemp_c_naturales',\n",
       " 'punt_sociales_ciudadanas',\n",
       " 'percentil_sociales_ciudadanas',\n",
       " 'desemp_sociales_ciudadanas',\n",
       " 'punt_ingles',\n",
       " 'percentil_ingles',\n",
       " 'desemp_ingles',\n",
       " 'punt_global',\n",
       " 'percentil_global',\n",
       " 'estu_inse_individual',\n",
       " 'estu_nse_individual',\n",
       " 'estu_estadoinvestigacion',\n",
       " 'estu_pilopaga']"
      ]
     },
     "execution_count": 92,
     "metadata": {},
     "output_type": "execute_result"
    }
   ],
   "source": [
    "df1.columns"
   ]
  },
  {
   "cell_type": "code",
   "execution_count": 93,
   "metadata": {},
   "outputs": [],
   "source": [
    "columnasPuntos20181 = [\n",
    " 'cole_cod_dane_establecimiento',\n",
    " 'cole_nombre_establecimiento',\n",
    " 'punt_lectura_critica',\n",
    " 'punt_matematicas',\n",
    " 'punt_c_naturales',\n",
    " 'punt_sociales_ciudadanas',\n",
    " 'punt_ingles']"
   ]
  },
  {
   "cell_type": "code",
   "execution_count": 94,
   "metadata": {},
   "outputs": [],
   "source": [
    "df1 = df1.select(columnasPuntos20181)"
   ]
  },
  {
   "cell_type": "code",
   "execution_count": 95,
   "metadata": {},
   "outputs": [],
   "source": [
    "# SE leen los dos archivos y se crean dos dataframes\n",
    "df2 = spark.read.load(base2 + '/' + estuDic['20182'],\"com.databricks.spark.csv\",header='true',inferSchema='true',sep='¬')"
   ]
  },
  {
   "cell_type": "code",
   "execution_count": 96,
   "metadata": {},
   "outputs": [
    {
     "data": {
      "text/plain": [
       "['ESTU_TIPODOCUMENTO',\n",
       " 'ESTU_NACIONALIDAD',\n",
       " 'ESTU_GENERO',\n",
       " 'ESTU_FECHANACIMIENTO',\n",
       " 'PERIODO',\n",
       " 'ESTU_CONSECUTIVO',\n",
       " 'ESTU_ESTUDIANTE',\n",
       " 'ESTU_PAIS_RESIDE',\n",
       " 'ESTU_TIENEETNIA',\n",
       " 'ESTU_ETNIA',\n",
       " 'ESTU_LIMITA_MOTRIZ',\n",
       " 'ESTU_DEPTO_RESIDE',\n",
       " 'ESTU_COD_RESIDE_DEPTO',\n",
       " 'ESTU_MCPIO_RESIDE',\n",
       " 'ESTU_COD_RESIDE_MCPIO',\n",
       " 'FAMI_ESTRATOVIVIENDA',\n",
       " 'FAMI_PERSONASHOGAR',\n",
       " 'FAMI_CUARTOSHOGAR',\n",
       " 'FAMI_EDUCACIONPADRE',\n",
       " 'FAMI_EDUCACIONMADRE',\n",
       " 'FAMI_TRABAJOLABORPADRE',\n",
       " 'FAMI_TRABAJOLABORMADRE',\n",
       " 'FAMI_TIENEINTERNET',\n",
       " 'FAMI_TIENESERVICIOTV',\n",
       " 'FAMI_TIENECOMPUTADOR',\n",
       " 'FAMI_TIENELAVADORA',\n",
       " 'FAMI_TIENEHORNOMICROOGAS',\n",
       " 'FAMI_TIENEAUTOMOVIL',\n",
       " 'FAMI_TIENEMOTOCICLETA',\n",
       " 'FAMI_TIENECONSOLAVIDEOJUEGOS',\n",
       " 'FAMI_NUMLIBROS',\n",
       " 'FAMI_COMELECHEDERIVADOS',\n",
       " 'FAMI_COMECARNEPESCADOHUEVO',\n",
       " 'FAMI_COMECEREALFRUTOSLEGUMBRE',\n",
       " 'FAMI_SITUACIONECONOMICA',\n",
       " 'ESTU_DEDICACIONLECTURADIARIA',\n",
       " 'ESTU_DEDICACIONINTERNET',\n",
       " 'ESTU_HORASSEMANATRABAJA',\n",
       " 'ESTU_TIPOREMUNERACION',\n",
       " 'COLE_CODIGO_ICFES',\n",
       " 'COLE_COD_DANE_ESTABLECIMIENTO',\n",
       " 'COLE_NOMBRE_ESTABLECIMIENTO',\n",
       " 'COLE_GENERO',\n",
       " 'COLE_NATURALEZA',\n",
       " 'COLE_CALENDARIO',\n",
       " 'COLE_BILINGUE',\n",
       " 'COLE_CARACTER',\n",
       " 'COLE_COD_DANE_SEDE',\n",
       " 'COLE_NOMBRE_SEDE',\n",
       " 'COLE_SEDE_PRINCIPAL',\n",
       " 'COLE_AREA_UBICACION',\n",
       " 'COLE_JORNADA',\n",
       " 'COLE_COD_MCPIO_UBICACION',\n",
       " 'COLE_MCPIO_UBICACION',\n",
       " 'COLE_COD_DEPTO_UBICACION',\n",
       " 'COLE_DEPTO_UBICACION',\n",
       " 'ESTU_PRIVADO_LIBERTAD',\n",
       " 'ESTU_COD_MCPIO_PRESENTACION',\n",
       " 'ESTU_MCPIO_PRESENTACION',\n",
       " 'ESTU_DEPTO_PRESENTACION',\n",
       " 'ESTU_COD_DEPTO_PRESENTACION',\n",
       " 'PUNT_LECTURA_CRITICA',\n",
       " 'PERCENTIL_LECTURA_CRITICA',\n",
       " 'DESEMP_LECTURA_CRITICA',\n",
       " 'PUNT_MATEMATICAS',\n",
       " 'PERCENTIL_MATEMATICAS',\n",
       " 'DESEMP_MATEMATICAS',\n",
       " 'PUNT_C_NATURALES',\n",
       " 'PERCENTIL_C_NATURALES',\n",
       " 'DESEMP_C_NATURALES',\n",
       " 'PUNT_SOCIALES_CIUDADANAS',\n",
       " 'PERCENTIL_SOCIALES_CIUDADANAS',\n",
       " 'DESEMP_SOCIALES_CIUDADANAS',\n",
       " 'PUNT_INGLES',\n",
       " 'PERCENTIL_INGLES',\n",
       " 'DESEMP_INGLES',\n",
       " 'PUNT_GLOBAL',\n",
       " 'PERCENTIL_GLOBAL',\n",
       " 'ESTU_NSE_ESTABLECIMIENTO',\n",
       " 'ESTU_INSE_INDIVIDUAL',\n",
       " 'ESTU_NSE_INDIVIDUAL',\n",
       " 'ESTU_ESTADOINVESTIGACION',\n",
       " 'ESTU_GENERACION-E']"
      ]
     },
     "execution_count": 96,
     "metadata": {},
     "output_type": "execute_result"
    }
   ],
   "source": [
    "df2.columns"
   ]
  },
  {
   "cell_type": "code",
   "execution_count": 97,
   "metadata": {},
   "outputs": [],
   "source": [
    "columnasPuntos20182 = [\n",
    " 'COLE_COD_DANE_ESTABLECIMIENTO',\n",
    " 'COLE_NOMBRE_ESTABLECIMIENTO',\n",
    " 'PUNT_LECTURA_CRITICA',\n",
    " 'PUNT_MATEMATICAS',\n",
    " 'PUNT_C_NATURALES',\n",
    " 'PUNT_SOCIALES_CIUDADANAS',\n",
    " 'PUNT_INGLES',\n",
    " ]"
   ]
  },
  {
   "cell_type": "code",
   "execution_count": 98,
   "metadata": {},
   "outputs": [],
   "source": [
    "df2 = df2.select(columnasPuntos20182)"
   ]
  },
  {
   "cell_type": "code",
   "execution_count": 99,
   "metadata": {},
   "outputs": [
    {
     "data": {
      "text/plain": [
       "['punt_lectura_critica',\n",
       " 'punt_matematicas',\n",
       " 'punt_c_naturales',\n",
       " 'punt_sociales_ciudadanas',\n",
       " 'punt_ingles']"
      ]
     },
     "execution_count": 99,
     "metadata": {},
     "output_type": "execute_result"
    }
   ],
   "source": [
    "cols = df1.columns\n",
    "cols.remove('cole_cod_dane_establecimiento')\n",
    "cols.remove('cole_nombre_establecimiento')\n",
    "cols"
   ]
  },
  {
   "cell_type": "code",
   "execution_count": 100,
   "metadata": {},
   "outputs": [],
   "source": [
    "for cp in cols:\n",
    "    df1 = df1.withColumn(cp, regexp_replace(cp, ',', '.'))\n",
    "    df1 = df1.withColumn(cp, df1[cp].cast(\"float\"))\n",
    "    df1 = df1.na.fill({cp:0})"
   ]
  },
  {
   "cell_type": "code",
   "execution_count": 101,
   "metadata": {},
   "outputs": [],
   "source": [
    "df1 = df1.withColumn('cole_cod_dane_establecimiento', df1['cole_cod_dane_establecimiento'].cast(\"string\"))"
   ]
  },
  {
   "cell_type": "code",
   "execution_count": 102,
   "metadata": {},
   "outputs": [],
   "source": [
    "cols2 = df2.columns\n",
    "cols2.remove('COLE_COD_DANE_ESTABLECIMIENTO')\n",
    "cols2.remove('COLE_NOMBRE_ESTABLECIMIENTO')"
   ]
  },
  {
   "cell_type": "code",
   "execution_count": 103,
   "metadata": {},
   "outputs": [],
   "source": [
    "for cp in cols2:\n",
    "    df2 = df2.withColumn(cp, regexp_replace(cp, ',', '.'))\n",
    "    df2 = df2.withColumn(cp, df2[cp].cast(\"float\"))\n",
    "    df2 = df2.na.fill({cp:0})\n",
    "df2 = df2.withColumn('COLE_COD_DANE_ESTABLECIMIENTO', df2['COLE_COD_DANE_ESTABLECIMIENTO'].cast(\"string\"))"
   ]
  },
  {
   "cell_type": "code",
   "execution_count": 104,
   "metadata": {},
   "outputs": [
    {
     "name": "stdout",
     "output_type": "stream",
     "text": [
      "Numero de filas primero semestre  19798\n",
      "Numero de filas segundo semestre  549934\n"
     ]
    }
   ],
   "source": [
    "print(\"Numero de filas primero semestre \", df1.count())\n",
    "print(\"Numero de filas segundo semestre \", df2.count())"
   ]
  },
  {
   "cell_type": "code",
   "execution_count": 105,
   "metadata": {},
   "outputs": [
    {
     "name": "stdout",
     "output_type": "stream",
     "text": [
      "root\n",
      " |-- cole_cod_dane_establecimiento: string (nullable = true)\n",
      " |-- cole_nombre_establecimiento: string (nullable = true)\n",
      " |-- punt_lectura_critica: float (nullable = false)\n",
      " |-- punt_matematicas: float (nullable = false)\n",
      " |-- punt_c_naturales: float (nullable = false)\n",
      " |-- punt_sociales_ciudadanas: float (nullable = false)\n",
      " |-- punt_ingles: float (nullable = false)\n",
      "\n",
      "None\n"
     ]
    }
   ],
   "source": [
    "print(df1.printSchema())"
   ]
  },
  {
   "cell_type": "code",
   "execution_count": 106,
   "metadata": {},
   "outputs": [
    {
     "name": "stdout",
     "output_type": "stream",
     "text": [
      "root\n",
      " |-- COLE_COD_DANE_ESTABLECIMIENTO: string (nullable = true)\n",
      " |-- COLE_NOMBRE_ESTABLECIMIENTO: string (nullable = true)\n",
      " |-- PUNT_LECTURA_CRITICA: float (nullable = false)\n",
      " |-- PUNT_MATEMATICAS: float (nullable = false)\n",
      " |-- PUNT_C_NATURALES: float (nullable = false)\n",
      " |-- PUNT_SOCIALES_CIUDADANAS: float (nullable = false)\n",
      " |-- PUNT_INGLES: float (nullable = false)\n",
      "\n",
      "None\n"
     ]
    }
   ],
   "source": [
    "print(df2.printSchema())"
   ]
  },
  {
   "cell_type": "code",
   "execution_count": 107,
   "metadata": {},
   "outputs": [],
   "source": [
    "# Contando el numero de estudiantes por instituciòn y mostrandola de forma descendente\n",
    "dsCountEst1 = df1.groupBy('cole_cod_dane_establecimiento').count().orderBy('count',ascending=\n",
    "False)\n",
    "dsCountEst2 = df2.groupBy('COLE_COD_DANE_ESTABLECIMIENTO').count().orderBy('count',ascending=\n",
    "False)"
   ]
  },
  {
   "cell_type": "code",
   "execution_count": 108,
   "metadata": {},
   "outputs": [
    {
     "name": "stdout",
     "output_type": "stream",
     "text": [
      "+-----------------------------+-----+\n",
      "|cole_cod_dane_establecimiento|count|\n",
      "+-----------------------------+-----+\n",
      "|376001007670                 |180  |\n",
      "|305001022682                 |163  |\n",
      "|376001001116                 |159  |\n",
      "|376001028219                 |147  |\n",
      "|376001003461                 |139  |\n",
      "|311001109605                 |130  |\n",
      "|311848001011                 |127  |\n",
      "|376001000276                 |127  |\n",
      "|376001026925                 |123  |\n",
      "|376001000314                 |122  |\n",
      "+-----------------------------+-----+\n",
      "only showing top 10 rows\n",
      "\n"
     ]
    }
   ],
   "source": [
    "dsCountEst1.show(10,False)\n",
    "# Numero de estudiantes por instituciòn primer semestre"
   ]
  },
  {
   "cell_type": "code",
   "execution_count": 109,
   "metadata": {},
   "outputs": [
    {
     "data": {
      "text/plain": [
       "746"
      ]
     },
     "execution_count": 109,
     "metadata": {},
     "output_type": "execute_result"
    }
   ],
   "source": [
    "dsCountEst1.count()"
   ]
  },
  {
   "cell_type": "code",
   "execution_count": 110,
   "metadata": {},
   "outputs": [
    {
     "name": "stdout",
     "output_type": "stream",
     "text": [
      "+-----------------------------+-----+\n",
      "|COLE_COD_DANE_ESTABLECIMIENTO|count|\n",
      "+-----------------------------+-----+\n",
      "|105001000108                 |865  |\n",
      "|176001800052                 |751  |\n",
      "|105001013340                 |721  |\n",
      "|405001016946                 |671  |\n",
      "|105615000236                 |658  |\n",
      "|305001017361                 |627  |\n",
      "|311001105863                 |619  |\n",
      "|111001024732                 |604  |\n",
      "|313001006701                 |545  |\n",
      "|176001005813                 |535  |\n",
      "+-----------------------------+-----+\n",
      "only showing top 10 rows\n",
      "\n"
     ]
    }
   ],
   "source": [
    "dsCountEst2.show(10,False)\n",
    "# Numero de estudiantes por instituciòn segundo semestre"
   ]
  },
  {
   "cell_type": "code",
   "execution_count": 111,
   "metadata": {},
   "outputs": [],
   "source": [
    "#Se crea una columna con el total de los puntajes \n",
    "\n",
    "df1= df1.withColumn(\"Suma\",df1['punt_lectura_critica']+df1['punt_matematicas']+df1['punt_c_naturales']+\n",
    "                    df1['punt_sociales_ciudadanas']+df1['punt_ingles'])\n",
    "\n",
    "df2= df2.withColumn(\"Suma\",df2['PUNT_LECTURA_CRITICA']+df2['PUNT_MATEMATICAS']+df2['PUNT_C_NATURALES']+\n",
    "                    df2['PUNT_SOCIALES_CIUDADANAS']+df2['PUNT_INGLES'])"
   ]
  },
  {
   "cell_type": "markdown",
   "metadata": {},
   "source": [
    "## Resultados finales por instituciòn 1er semestre"
   ]
  },
  {
   "cell_type": "code",
   "execution_count": 112,
   "metadata": {},
   "outputs": [],
   "source": [
    "# Còdigo para obtener la media de los resultados de las evaluaciones de todos los estudiantes por instituciòn \n",
    "# y posiciòn en orden descendente.\n",
    "from pyspark.sql.functions import *\n",
    "from pyspark.sql.window import Window\n",
    "\n",
    "\n",
    "df1 = df1.groupBy('cole_cod_dane_establecimiento','cole_nombre_establecimiento').mean()\n",
    "df1 = df1.withColumn(\"rank\", dense_rank().over(Window.orderBy(desc(\"avg(Suma)\"))))\n",
    "df1 = df1.orderBy('rank',ascending= True)"
   ]
  },
  {
   "cell_type": "code",
   "execution_count": 113,
   "metadata": {
    "scrolled": true
   },
   "outputs": [
    {
     "name": "stdout",
     "output_type": "stream",
     "text": [
      "+-----------------------------+----------------------------------+------------------+----+\n",
      "|cole_cod_dane_establecimiento|cole_nombre_establecimiento       |avg(Suma)         |rank|\n",
      "+-----------------------------+----------------------------------+------------------+----+\n",
      "|368276000826                 |COL LA QUINTA DEL PUENTE          |403.2631578947368 |1   |\n",
      "|368001000516                 |COL NUEVO CAMBRIDGE               |403.1276595744681 |2   |\n",
      "|376001013441                 |COLEGIO BILINGUE DIANA OESE       |392.5208333333333 |3   |\n",
      "|368001006301                 |COLEGIO HARVARD                   |391.0             |4   |\n",
      "|311769000165                 |COL SAN JORGE DE INGLATERRA       |389.2987012987013 |5   |\n",
      "|311001107289                 |GIMN ALESSANDRO VOLTA             |385.2857142857143 |6   |\n",
      "|311848002424                 |COL SAN CARLOS                    |382.2783505154639 |7   |\n",
      "|376001043617                 |COLEGIO PHILADELPHIA INTERNACIONAL|380.72727272727275|8   |\n",
      "|311769003342                 |COL LOS NOGALES                   |379.66101694915255|9   |\n",
      "|311848000278                 |GIMN VERMONT                      |379.3820224719101 |10  |\n",
      "+-----------------------------+----------------------------------+------------------+----+\n",
      "only showing top 10 rows\n",
      "\n"
     ]
    }
   ],
   "source": [
    "df1.select('cole_cod_dane_establecimiento','cole_nombre_establecimiento','avg(Suma)','rank').show(10,False)"
   ]
  },
  {
   "cell_type": "markdown",
   "metadata": {},
   "source": [
    "## Resultados finales por instituciòn 2do semestre"
   ]
  },
  {
   "cell_type": "code",
   "execution_count": 114,
   "metadata": {},
   "outputs": [],
   "source": [
    "df2 = df2.groupBy('COLE_COD_DANE_ESTABLECIMIENTO','COLE_NOMBRE_ESTABLECIMIENTO').mean()\n",
    "df2 = df2.withColumn(\"rank\", dense_rank().over(Window.orderBy(desc(\"INDICE_TOTAL\"))))\n",
    "df2 = df2.orderBy('rank',ascending= True)"
   ]
  },
  {
   "cell_type": "code",
   "execution_count": 115,
   "metadata": {},
   "outputs": [
    {
     "name": "stdout",
     "output_type": "stream",
     "text": [
      "+-----------------------------+----------------------------------------------------------------------------------------------------+-----------------+----+\n",
      "|COLE_COD_DANE_ESTABLECIMIENTO|COLE_NOMBRE_ESTABLECIMIENTO                                                                         |avg(Suma)        |rank|\n",
      "+-----------------------------+----------------------------------------------------------------------------------------------------+-----------------+----+\n",
      "|305001026041                 |COL HERALDOS DEL EVANGELIO                                                                          |399.0            |1   |\n",
      "|311001065489                 |LIC CAMPO DAVID                                                                                     |391.0            |2   |\n",
      "|354518001139                 |CAMBRIDGE SCHOOL (GIMN BILING PLAZA SESAMO)                                                         |386.8            |3   |\n",
      "|311001076634                 |COL NUEVO COLOMBO AMERICANO                                                                         |383.75           |4   |\n",
      "|311001089221                 |INST ALBERTO MERANI                                                                                 |383.5            |5   |\n",
      "|311001086320                 |GIMNASIO COLOMBO BRITANICO - BILINGÜE INTERNACIONAL                                                 |383.2985074626866|6   |\n",
      "|311848000308                 |COL ANGLO AMERICANO                                                                                 |380.2960893854749|7   |\n",
      "|468547002051                 |ASPAEN GIMNASIO CANTILLANA                                                                          |380.0            |8   |\n",
      "|311001005176                 |LIC NAVARRA                                                                                         |378.7916666666667|9   |\n",
      "|373001004396                 |COL INGLES                                                                                          |378.3529411764706|10  |\n",
      "+-----------------------------+----------------------------------------------------------------------------------------------------+-----------------+----+\n",
      "only showing top 10 rows\n",
      "\n"
     ]
    }
   ],
   "source": [
    "df2.select('COLE_COD_DANE_ESTABLECIMIENTO','COLE_NOMBRE_ESTABLECIMIENTO','avg(Suma)','rank').show(10,False)"
   ]
  },
  {
   "cell_type": "markdown",
   "metadata": {},
   "source": [
    "## Colegios primer semestre"
   ]
  },
  {
   "cell_type": "code",
   "execution_count": 160,
   "metadata": {},
   "outputs": [],
   "source": [
    "# SE crea Dataframe de colegios primer semestre\n",
    "dfc = spark.read.load(base + '/' + coleDic['20181'],\"com.databricks.spark.csv\",header='true',inferSchema='true',sep='\\t')\n",
    "dfc = dfc.withColumn('COLE_COD_DANE', dfc['COLE_COD_DANE'].cast(\"string\"))\n",
    "dfc = dfc.withColumn(\"rank\", dense_rank().over(Window.orderBy(desc(\"INDICE_TOTAL\"))))\n",
    "dfc = dfc.orderBy('rank',ascending= True)\n",
    "dfc = dfc.withColumnRenamed(\"rank\",\"rank_indice\")"
   ]
  },
  {
   "cell_type": "code",
   "execution_count": 161,
   "metadata": {},
   "outputs": [
    {
     "data": {
      "text/plain": [
       "['PERIODO',\n",
       " '|1',\n",
       " 'COLE_COD_DANE',\n",
       " '|3',\n",
       " 'COLE_INST_NOMBRE',\n",
       " '|5',\n",
       " 'COLE_CODMPIO_COLEGIO',\n",
       " '|7',\n",
       " 'COLE_MPIO_MUNICIPIO',\n",
       " '|9',\n",
       " 'COLE_COD_DEPTO',\n",
       " '|11',\n",
       " 'COLE_DEPTO_COLEGIO',\n",
       " '|13',\n",
       " 'COLE_NATURALEZA',\n",
       " '|15',\n",
       " 'COLE_GRADO',\n",
       " '|17',\n",
       " 'COLE_CALENDARIO_COLEGIO',\n",
       " '|19',\n",
       " 'COLE_GENEROPOBLACION',\n",
       " '|21',\n",
       " 'MATRICULADOS_ULTIMOS_3',\n",
       " '|23',\n",
       " 'EVALUADOS_ULTIMOS_3',\n",
       " '|25',\n",
       " 'INDICE_MATEMATICAS',\n",
       " '|27',\n",
       " 'INDICE_C_NATURALES',\n",
       " '|29',\n",
       " 'INDICE_SOCIALES_CIUDADANAS',\n",
       " '|31',\n",
       " 'INDICE_LECTURA_CRITICA',\n",
       " '|33',\n",
       " 'INDICE_INGLES',\n",
       " '|35',\n",
       " 'INDICE_TOTAL',\n",
       " '|37',\n",
       " 'COLE_CATEGORIA',\n",
       " 'rank_indice']"
      ]
     },
     "execution_count": 161,
     "metadata": {},
     "output_type": "execute_result"
    }
   ],
   "source": [
    "dfc.columns"
   ]
  },
  {
   "cell_type": "code",
   "execution_count": 128,
   "metadata": {},
   "outputs": [],
   "source": [
    "colsColegio = dfc.columns"
   ]
  },
  {
   "cell_type": "code",
   "execution_count": 162,
   "metadata": {},
   "outputs": [
    {
     "name": "stdout",
     "output_type": "stream",
     "text": [
      "+-------------+--------------------+------------+-----------+\n",
      "|COLE_COD_DANE|    COLE_INST_NOMBRE|INDICE_TOTAL|rank_indice|\n",
      "+-------------+--------------------+------------+-----------+\n",
      "| 376001013441|COLEGIO BILINGUE ...|       0.918|          1|\n",
      "| 368001000516| COL NUEVO CAMBRIDGE|      0.9165|          2|\n",
      "| 311769000165|COL SAN JORGE DE ...|      0.9063|          3|\n",
      "| 311848002424|      COL SAN CARLOS|       0.906|          4|\n",
      "| 368276000826|COL LA QUINTA DEL...|      0.9057|          5|\n",
      "| 376001043617|COLEGIO PHILADELP...|      0.9053|          6|\n",
      "| 311848000278|        GIMN VERMONT|      0.9044|          7|\n",
      "| 311001107289|GIMN ALESSANDRO V...|      0.9029|          8|\n",
      "| 311769003342|     COL LOS NOGALES|      0.9025|          9|\n",
      "| 305001015503|COLEGIO LEONARDO ...|      0.9009|         10|\n",
      "+-------------+--------------------+------------+-----------+\n",
      "only showing top 10 rows\n",
      "\n"
     ]
    }
   ],
   "source": [
    "dfc.select('COLE_COD_DANE','COLE_INST_NOMBRE','INDICE_TOTAL','rank_indice').orderBy('rank_indice',ascending= True).show(10)"
   ]
  },
  {
   "cell_type": "code",
   "execution_count": 163,
   "metadata": {},
   "outputs": [
    {
     "name": "stdout",
     "output_type": "stream",
     "text": [
      "El numero de colegios es:  281\n"
     ]
    }
   ],
   "source": [
    "print(\"El numero de colegios es: \", dfc.count())"
   ]
  },
  {
   "cell_type": "markdown",
   "metadata": {},
   "source": [
    "## Colegios segundo semestre"
   ]
  },
  {
   "cell_type": "code",
   "execution_count": 164,
   "metadata": {},
   "outputs": [],
   "source": [
    "# SE crea Dataframe de colegios primer semestre\n",
    "dfc2 = spark.read.load(base + '/' + coleDic['20182'],\"com.databricks.spark.csv\",header='true',inferSchema='true',sep='¬')\n",
    "dfc2 = dfc2.withColumn('COLE_COD_DANE', dfc2['COLE_COD_DANE'].cast(\"string\"))\n",
    "dfc2 = dfc2.withColumn(\"rank\", dense_rank().over(Window.orderBy(desc(\"INDICE_TOTAL\"))))\n",
    "dfc2 = dfc2.orderBy('rank',ascending= True)\n",
    "dfc2 = dfc2.withColumnRenamed(\"rank\",\"rank_indice\")"
   ]
  },
  {
   "cell_type": "code",
   "execution_count": 165,
   "metadata": {},
   "outputs": [
    {
     "name": "stdout",
     "output_type": "stream",
     "text": [
      "root\n",
      " |-- PERIODO: integer (nullable = true)\n",
      " |-- COLE_COD_DANE: string (nullable = true)\n",
      " |-- COLE_INST_NOMBRE: string (nullable = true)\n",
      " |-- COLE_CODMPIO_COLEGIO: integer (nullable = true)\n",
      " |-- COLE_MPIO_MUNICIPIO: string (nullable = true)\n",
      " |-- COLE_COD_DEPTO: integer (nullable = true)\n",
      " |-- COLE_DEPTO_COLEGIO: string (nullable = true)\n",
      " |-- COLE_NATURALEZA: string (nullable = true)\n",
      " |-- COLE_GRADO: integer (nullable = true)\n",
      " |-- COLE_CALENDARIO_COLEGIO: string (nullable = true)\n",
      " |-- COLE_GENEROPOBLACION: string (nullable = true)\n",
      " |-- MATRICULADOS_ULTIMOS_3: integer (nullable = true)\n",
      " |-- EVALUADOS_ULTIMOS_3: integer (nullable = true)\n",
      " |-- INDICE_MATEMATICAS: string (nullable = true)\n",
      " |-- INDICE_C_NATURALES: string (nullable = true)\n",
      " |-- INDICE_SOCIALES_CIUDADANAS: string (nullable = true)\n",
      " |-- INDICE_LECTURA_CRITICA: string (nullable = true)\n",
      " |-- INDICE_INGLES: string (nullable = true)\n",
      " |-- INDICE_TOTAL: string (nullable = true)\n",
      " |-- COLE_CATEGORIA: string (nullable = true)\n",
      " |-- rank_indice: integer (nullable = true)\n",
      "\n",
      "None\n"
     ]
    }
   ],
   "source": [
    "print(dfc2.printSchema())"
   ]
  },
  {
   "cell_type": "code",
   "execution_count": 166,
   "metadata": {},
   "outputs": [
    {
     "name": "stdout",
     "output_type": "stream",
     "text": [
      "+-------------+--------------------+------------+-----------+\n",
      "|COLE_COD_DANE|    COLE_INST_NOMBRE|INDICE_TOTAL|rank_indice|\n",
      "+-------------+--------------------+------------+-----------+\n",
      "| 311001065489|LIC CAMPO DAVID  ...|      0,9143|          1|\n",
      "| 311001076634|COL NUEVO COLOMBO...|      0,9094|          2|\n",
      "| 311001089221|INST ALBERTO MERA...|       0,908|          3|\n",
      "| 311001086320|GIMNASIO COLOMBO ...|      0,9056|          4|\n",
      "| 354518001139|CAMBRIDGE SCHOOL ...|      0,9051|          5|\n",
      "| 311001005176|LIC NAVARRA      ...|      0,9047|          6|\n",
      "| 311848000308|COL ANGLO AMERICA...|      0,9042|          7|\n",
      "| 308001001871|NUEVO COLEGIO DEL...|      0,9023|          8|\n",
      "| 373001007662|COL  SAN BONIFACI...|      0,8996|          9|\n",
      "| 368081000937|COL EL ROSARIO   ...|      0,8982|         10|\n",
      "+-------------+--------------------+------------+-----------+\n",
      "only showing top 10 rows\n",
      "\n"
     ]
    }
   ],
   "source": [
    "dfc2.select('COLE_COD_DANE','COLE_INST_NOMBRE','INDICE_TOTAL','rank_indice').orderBy('rank_indice',ascending= True).show(10)"
   ]
  },
  {
   "cell_type": "code",
   "execution_count": 167,
   "metadata": {},
   "outputs": [
    {
     "name": "stdout",
     "output_type": "stream",
     "text": [
      "El numero de colegios segundo semestre:  9150\n"
     ]
    }
   ],
   "source": [
    "print(\"El numero de colegios segundo semestre: \", dfc2.count())"
   ]
  },
  {
   "cell_type": "markdown",
   "metadata": {},
   "source": [
    "## Anàlisis comparativo entre estudiantes y colegios primer semestre"
   ]
  },
  {
   "cell_type": "code",
   "execution_count": 168,
   "metadata": {},
   "outputs": [],
   "source": [
    "dfjoin = df1.join(dfc, df1.cole_cod_dane_establecimiento == dfc.COLE_COD_DANE)"
   ]
  },
  {
   "cell_type": "code",
   "execution_count": 169,
   "metadata": {},
   "outputs": [
    {
     "data": {
      "text/plain": [
       "['cole_cod_dane_establecimiento',\n",
       " 'cole_nombre_establecimiento',\n",
       " 'avg(punt_lectura_critica)',\n",
       " 'avg(punt_matematicas)',\n",
       " 'avg(punt_c_naturales)',\n",
       " 'avg(punt_sociales_ciudadanas)',\n",
       " 'avg(punt_ingles)',\n",
       " 'avg(Suma)',\n",
       " 'rank',\n",
       " 'PERIODO',\n",
       " '|1',\n",
       " 'COLE_COD_DANE',\n",
       " '|3',\n",
       " 'COLE_INST_NOMBRE',\n",
       " '|5',\n",
       " 'COLE_CODMPIO_COLEGIO',\n",
       " '|7',\n",
       " 'COLE_MPIO_MUNICIPIO',\n",
       " '|9',\n",
       " 'COLE_COD_DEPTO',\n",
       " '|11',\n",
       " 'COLE_DEPTO_COLEGIO',\n",
       " '|13',\n",
       " 'COLE_NATURALEZA',\n",
       " '|15',\n",
       " 'COLE_GRADO',\n",
       " '|17',\n",
       " 'COLE_CALENDARIO_COLEGIO',\n",
       " '|19',\n",
       " 'COLE_GENEROPOBLACION',\n",
       " '|21',\n",
       " 'MATRICULADOS_ULTIMOS_3',\n",
       " '|23',\n",
       " 'EVALUADOS_ULTIMOS_3',\n",
       " '|25',\n",
       " 'INDICE_MATEMATICAS',\n",
       " '|27',\n",
       " 'INDICE_C_NATURALES',\n",
       " '|29',\n",
       " 'INDICE_SOCIALES_CIUDADANAS',\n",
       " '|31',\n",
       " 'INDICE_LECTURA_CRITICA',\n",
       " '|33',\n",
       " 'INDICE_INGLES',\n",
       " '|35',\n",
       " 'INDICE_TOTAL',\n",
       " '|37',\n",
       " 'COLE_CATEGORIA',\n",
       " 'rank_indice']"
      ]
     },
     "execution_count": 169,
     "metadata": {},
     "output_type": "execute_result"
    }
   ],
   "source": [
    "dfjoin.columns"
   ]
  },
  {
   "cell_type": "code",
   "execution_count": 170,
   "metadata": {},
   "outputs": [
    {
     "name": "stdout",
     "output_type": "stream",
     "text": [
      "Nùmero de colegios coincidentes entre el archivo de estudiantes 1er semestre y colegios: 281\n"
     ]
    }
   ],
   "source": [
    "print(\"Nùmero de colegios coincidentes entre el archivo de estudiantes 1er semestre y colegios:\", dfjoin.count())"
   ]
  },
  {
   "cell_type": "code",
   "execution_count": 171,
   "metadata": {},
   "outputs": [
    {
     "name": "stdout",
     "output_type": "stream",
     "text": [
      "+----+-----------------------------+---------------------------+------------+-----------+\n",
      "|rank|cole_cod_dane_establecimiento|cole_nombre_establecimiento|INDICE_TOTAL|rank_indice|\n",
      "+----+-----------------------------+---------------------------+------------+-----------+\n",
      "|   1|                 368276000826|       COL LA QUINTA DEL...|      0.9057|          5|\n",
      "|   2|                 368001000516|        COL NUEVO CAMBRIDGE|      0.9165|          2|\n",
      "|   3|                 376001013441|       COLEGIO BILINGUE ...|       0.918|          1|\n",
      "|   5|                 311769000165|       COL SAN JORGE DE ...|      0.9063|          3|\n",
      "|   6|                 311001107289|       GIMN ALESSANDRO V...|      0.9029|          8|\n",
      "|   7|                 311848002424|             COL SAN CARLOS|       0.906|          4|\n",
      "|   8|                 376001043617|       COLEGIO PHILADELP...|      0.9053|          6|\n",
      "|   9|                 311769003342|            COL LOS NOGALES|      0.9025|          9|\n",
      "|  10|                 311848000278|               GIMN VERMONT|      0.9044|          7|\n",
      "|  11|                 311001105430|              COL LA COLINA|      0.8955|         15|\n",
      "+----+-----------------------------+---------------------------+------------+-----------+\n",
      "only showing top 10 rows\n",
      "\n"
     ]
    }
   ],
   "source": [
    "# Se cruza la informaciòn por el nombre del colegio - se evidencia que el còdigo DANE no coincide\n",
    "dfjoin.select('rank','cole_cod_dane_establecimiento','cole_nombre_establecimiento','INDICE_TOTAL','rank_indice').show(10)"
   ]
  },
  {
   "cell_type": "markdown",
   "metadata": {},
   "source": [
    "## Anàlisis comparativo entre estudiantes y colegios segundo semestre"
   ]
  },
  {
   "cell_type": "code",
   "execution_count": 173,
   "metadata": {},
   "outputs": [],
   "source": [
    "dfjoin2 = df2.join(dfc2, df2.COLE_COD_DANE_ESTABLECIMIENTO == dfc2.COLE_COD_DANE)"
   ]
  },
  {
   "cell_type": "code",
   "execution_count": 174,
   "metadata": {},
   "outputs": [
    {
     "name": "stdout",
     "output_type": "stream",
     "text": [
      "Nùmero de colegios coincidentes entre el archivo de estudiantes 2do semestre y colegios: 9148\n"
     ]
    }
   ],
   "source": [
    "print(\"Nùmero de colegios coincidentes entre el archivo de estudiantes 2do semestre y colegios:\", dfjoin2.count())"
   ]
  },
  {
   "cell_type": "code",
   "execution_count": 175,
   "metadata": {},
   "outputs": [
    {
     "name": "stdout",
     "output_type": "stream",
     "text": [
      "+----+-----------------------------+---------------------------+------------+-----------+\n",
      "|rank|COLE_COD_DANE_ESTABLECIMIENTO|COLE_NOMBRE_ESTABLECIMIENTO|INDICE_TOTAL|rank_indice|\n",
      "+----+-----------------------------+---------------------------+------------+-----------+\n",
      "|   2|                 311001065489|       LIC CAMPO DAVID  ...|      0,9143|          1|\n",
      "|   3|                 354518001139|       CAMBRIDGE SCHOOL ...|      0,9051|          5|\n",
      "|   4|                 311001076634|       COL NUEVO COLOMBO...|      0,9094|          2|\n",
      "|   5|                 311001089221|       INST ALBERTO MERA...|       0,908|          3|\n",
      "|   6|                 311001086320|       GIMNASIO COLOMBO ...|      0,9056|          4|\n",
      "|   7|                 311848000308|       COL ANGLO AMERICA...|      0,9042|          7|\n",
      "|   8|                 468547002051|       ASPAEN GIMNASIO C...|      0,8937|         14|\n",
      "|   9|                 311001005176|       LIC NAVARRA      ...|      0,9047|          6|\n",
      "|  10|                 373001004396|                 COL INGLES|      0,8917|         18|\n",
      "|  11|                 308001001871|       NUEVO COLEGIO DEL...|      0,9023|          8|\n",
      "+----+-----------------------------+---------------------------+------------+-----------+\n",
      "only showing top 10 rows\n",
      "\n"
     ]
    }
   ],
   "source": [
    "dfjoin2.select('rank','COLE_COD_DANE_ESTABLECIMIENTO','COLE_NOMBRE_ESTABLECIMIENTO','INDICE_TOTAL','rank_indice').show(10)"
   ]
  }
 ],
 "metadata": {
  "kernelspec": {
   "display_name": "Python 3",
   "language": "python",
   "name": "python3"
  },
  "language_info": {
   "codemirror_mode": {
    "name": "ipython",
    "version": 3
   },
   "file_extension": ".py",
   "mimetype": "text/x-python",
   "name": "python",
   "nbconvert_exporter": "python",
   "pygments_lexer": "ipython3",
   "version": "3.7.3"
  }
 },
 "nbformat": 4,
 "nbformat_minor": 2
}
