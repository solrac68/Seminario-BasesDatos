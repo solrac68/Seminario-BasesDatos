{
 "cells": [
  {
   "cell_type": "code",
   "execution_count": 235,
   "metadata": {},
   "outputs": [],
   "source": [
    "from pyspark.sql import SparkSession\n",
    "from pyspark.sql import Row\n",
    "from functools import reduce\n",
    "from pyspark.sql import DataFrame\n",
    "from pyspark.sql.types import StringType,DoubleType,FloatType\n",
    "from pyspark.sql.functions import udf\n",
    "from pyspark.sql.functions import regexp_replace\n",
    "from pyspark.sql.functions import lit\n",
    "import locale\n",
    "import sys\n",
    "import os\n",
    "import re"
   ]
  },
  {
   "cell_type": "code",
   "execution_count": 236,
   "metadata": {},
   "outputs": [
    {
     "data": {
      "text/html": [
       "\n",
       "        <div>\n",
       "            <p><b>SparkContext</b></p>\n",
       "\n",
       "            <p><a href=\"http://nodo1:4040\">Spark UI</a></p>\n",
       "\n",
       "            <dl>\n",
       "              <dt>Version</dt>\n",
       "                <dd><code>v2.4.3</code></dd>\n",
       "              <dt>Master</dt>\n",
       "                <dd><code>local[*]</code></dd>\n",
       "              <dt>AppName</dt>\n",
       "                <dd><code>PySparkShell</code></dd>\n",
       "            </dl>\n",
       "        </div>\n",
       "        "
      ],
      "text/plain": [
       "<SparkContext master=local[*] appName=PySparkShell>"
      ]
     },
     "execution_count": 236,
     "metadata": {},
     "output_type": "execute_result"
    }
   ],
   "source": [
    "sc"
   ]
  },
  {
   "cell_type": "code",
   "execution_count": 237,
   "metadata": {},
   "outputs": [
    {
     "data": {
      "text/html": [
       "\n",
       "            <div>\n",
       "                <p><b>SparkSession - hive</b></p>\n",
       "                \n",
       "        <div>\n",
       "            <p><b>SparkContext</b></p>\n",
       "\n",
       "            <p><a href=\"http://nodo1:4040\">Spark UI</a></p>\n",
       "\n",
       "            <dl>\n",
       "              <dt>Version</dt>\n",
       "                <dd><code>v2.4.3</code></dd>\n",
       "              <dt>Master</dt>\n",
       "                <dd><code>local[*]</code></dd>\n",
       "              <dt>AppName</dt>\n",
       "                <dd><code>PySparkShell</code></dd>\n",
       "            </dl>\n",
       "        </div>\n",
       "        \n",
       "            </div>\n",
       "        "
      ],
      "text/plain": [
       "<pyspark.sql.session.SparkSession at 0x7f54e439c630>"
      ]
     },
     "execution_count": 237,
     "metadata": {},
     "output_type": "execute_result"
    }
   ],
   "source": [
    "spark"
   ]
  },
  {
   "cell_type": "markdown",
   "metadata": {},
   "source": [
    "# Leyendo lista de Colegios y Estudiantes"
   ]
  },
  {
   "cell_type": "code",
   "execution_count": 238,
   "metadata": {},
   "outputs": [],
   "source": [
    "base = '../Colegios'\n",
    "base2 = '../SB'\n",
    "colegios = os.listdir('../Colegios')\n",
    "estudiantes = os.listdir('../SB')"
   ]
  },
  {
   "cell_type": "code",
   "execution_count": 239,
   "metadata": {},
   "outputs": [],
   "source": [
    "estudiantes.sort()\n",
    "colegios.sort()\n",
    "estuDic = {}\n",
    "coleDic = {}\n",
    "for estu in estudiantes:\n",
    "    estuDic[re.findall('\\d+', estu)[1]] = estu\n",
    "\n",
    "for colegio in colegios:\n",
    "    coleDic[re.findall('\\d+', colegio)[1]] = colegio"
   ]
  },
  {
   "cell_type": "code",
   "execution_count": 240,
   "metadata": {},
   "outputs": [],
   "source": [
    "# Funciòn para unir cualquier nùmero de dataframes con la misma estructura \n",
    "def unionAll(*dfs):\n",
    "    return reduce(DataFrame.unionAll, dfs)"
   ]
  },
  {
   "cell_type": "code",
   "execution_count": 241,
   "metadata": {},
   "outputs": [
    {
     "name": "stdout",
     "output_type": "stream",
     "text": [
      "Archivos de estudiantes:  SB11_20141.txt SB11_20142.txt\n",
      "Archivos de colegios:  SB11-CLASIFI-PLANTELES-20141.txt SB11-CLASIFI-PLANTELES-20142.txt\n"
     ]
    }
   ],
   "source": [
    "print(\"Archivos de estudiantes: \", estuDic['20141'],estuDic['20142'])\n",
    "print(\"Archivos de colegios: \",coleDic['20141'],coleDic['20142'])"
   ]
  },
  {
   "cell_type": "code",
   "execution_count": 242,
   "metadata": {},
   "outputs": [],
   "source": [
    "df1 = spark.read.load(base2 + '/' + estuDic['20141'],\"com.databricks.spark.csv\",header='true',inferSchema='true',sep='¬')"
   ]
  },
  {
   "cell_type": "code",
   "execution_count": 243,
   "metadata": {},
   "outputs": [
    {
     "data": {
      "text/plain": [
       "['ESTU_TIPODOCUMENTO',\n",
       " 'ESTU_NACIONALIDAD',\n",
       " 'ESTU_GENERO',\n",
       " 'ESTU_FECHANACIMIENTO',\n",
       " 'PERIODO',\n",
       " 'ESTU_CONSECUTIVO',\n",
       " 'ESTU_ESTUDIANTE',\n",
       " 'ESTU_PAIS_RESIDE',\n",
       " 'ESTU_DEPTO_RESIDE',\n",
       " 'ESTU_COD_RESIDE_DEPTO',\n",
       " 'ESTU_MCPIO_RESIDE',\n",
       " 'ESTU_COD_RESIDE_MCPIO',\n",
       " 'ESTU_AREARESIDE',\n",
       " 'ESTU_VALORPENSIONCOLEGIO',\n",
       " 'ESTU_VECESPRESENTOEXAMEN',\n",
       " 'FAMI_EDUCACIONPADRE',\n",
       " 'FAMI_EDUCACIONMADRE',\n",
       " 'FAMI_OCUPACIONPADRE',\n",
       " 'FAMI_OCUPACIONMADRE',\n",
       " 'FAMI_ESTRATOVIVIENDA',\n",
       " 'FAMI_NIVELSISBEN',\n",
       " 'FAMI_PERSONASHOGAR',\n",
       " 'FAMI_CUARTOSHOGAR',\n",
       " 'FAMI_PISOSHOGAR',\n",
       " 'FAMI_TIENEINTERNET',\n",
       " 'FAMI_TIENECOMPUTADOR',\n",
       " 'FAMI_TIENELAVADORA',\n",
       " 'FAMI_TIENEMICROONDAS',\n",
       " 'FAMI_TIENEHORNO',\n",
       " 'FAMI_TIENETELEVISOR',\n",
       " 'FAMI_TIENEAUTOMOVIL',\n",
       " 'FAMI_TIENEDVD',\n",
       " 'FAMI_TIENE_NEVERA',\n",
       " 'FAMI_TIENE_CELULAR',\n",
       " 'FAMI_TELEFONO',\n",
       " 'FAMI_INGRESOFMILIARMENSUAL',\n",
       " 'ESTU_TRABAJAACTUALMENTE',\n",
       " 'ESTU_RECIBESALARIO',\n",
       " 'ESTU_ANTECEDENTES',\n",
       " 'ESTU_ANOSPREESCOLAR',\n",
       " 'ESTU_ANOMATRICULAPRIMERO',\n",
       " 'ESTU_ANOTERMINOQUINTO',\n",
       " 'ESTU_ANOMATRICULASEXTO',\n",
       " 'ESTU_REPROBOPRIMERO',\n",
       " 'ESTU_REPROBOSEGUNDO',\n",
       " 'ESTU_REPROBOTERCERO',\n",
       " 'ESTU_REPROBOCUARTO',\n",
       " 'ESTU_REPROBOQUINTO',\n",
       " 'ESTU_REPROBOSEXTO',\n",
       " 'ESTU_REPROBOSEPTIMO',\n",
       " 'ESTU_REPROBOOCTAVO',\n",
       " 'ESTU_REPROBONOVENO',\n",
       " 'ESTU_REPROBODECIMO',\n",
       " 'ESTU_REPROBOONCEMAS',\n",
       " 'ESTU_ANOSCOLEGIOACTUAL',\n",
       " 'ESTU_CUANTOSCOLEGIOESTUDIO',\n",
       " 'ESTU_SERETIROCOLEGIO',\n",
       " 'ESTU_RAZONRETIROCOLEGIO',\n",
       " 'ESTU_TOTALALUMNOSCURSO',\n",
       " 'ESTU_TIPOCARRERADESEADA',\n",
       " 'ESTU_COD_IESDESEADA',\n",
       " 'ESTU_IESDESEADA',\n",
       " 'ESTU_COD_MCPIOIESDESEADA',\n",
       " 'ESTU_MCPIOIESDESEADA',\n",
       " 'ESTU_PROGRAMADESEADO',\n",
       " 'ESTU_INSTPORPRESTIGIO',\n",
       " 'ESTU_INSTPORCOSTOMATRICULA',\n",
       " 'ESTU_INSTPORUBICACION',\n",
       " 'ESTU_INSTPORUNICAQUEOFRECE',\n",
       " 'ESTU_INSTPOROPORTUNIDADES',\n",
       " 'ESTU_INSTPORAMIGOSESTUDIANDO',\n",
       " 'ESTU_INSTPOROTRARAZON',\n",
       " 'ESTU_COD_PROGRAMADESEADO',\n",
       " 'ESTU_PROGORIENTACIONVOCACIONAL',\n",
       " 'ESTU_PROGPORBUSCANDOCARRERA',\n",
       " 'ESTU_PROGPORCOLOMBIAAPRENDE',\n",
       " 'ESTU_PROGPORINTERESPERSONAL',\n",
       " 'ESTU_PROGPORTRADICIONFAMILIAR',\n",
       " 'ESTU_PROGPORMEJORARPOSICSOCIAL',\n",
       " 'ESTU_PROGPORINFLUENCIAALGUIEN',\n",
       " 'ESTU_EXPECTATIVAS',\n",
       " 'ESTU_INGRESAR_PROG_EDUSUPERIOR',\n",
       " 'ESTU_PUNT_ESPERADO_LENGUAJE',\n",
       " 'ESTU_PUNT_ESPERADO_MATEMATICAS',\n",
       " 'ESTU_PUNT_ESPERADO_INGLES',\n",
       " 'ESTU_SALARIO_ESPERADOBACHILLER',\n",
       " 'ESTU_SALARIO_ESPERADOTECNICO',\n",
       " 'ESTU_SALARIO_ESPERADOPROFESI',\n",
       " 'COLE_CODIGO_ICFES',\n",
       " 'COLE_COD_DANE_ESTABLECIMIENTO',\n",
       " 'COLE_NOMBRE_ESTABLECIMIENTO',\n",
       " 'COLE_GENERO',\n",
       " 'COLE_NATURALEZA',\n",
       " 'COLE_CALENDARIO',\n",
       " 'COLE_BILINGUE',\n",
       " 'COLE_CARACTER',\n",
       " 'COLE_COD_DANE_SEDE',\n",
       " 'COLE_NOMBRE_SEDE',\n",
       " 'COLE_SEDE_PRINCIPAL',\n",
       " 'COLE_AREA_UBICACION',\n",
       " 'COLE_JORNADA',\n",
       " 'COLE_COD_MCPIO_UBICACION',\n",
       " 'COLE_MCPIO_UBICACION',\n",
       " 'COLE_COD_DEPTO_UBICACION',\n",
       " 'COLE_DEPTO_UBICACION',\n",
       " 'ESTU_PRIVADO_LIBERTAD',\n",
       " 'ESTU_COD_MCPIO_PRESENTACION',\n",
       " 'ESTU_MCPIO_PRESENTACION',\n",
       " 'ESTU_DEPTO_PRESENTACION',\n",
       " 'ESTU_COD_DEPTO_PRESENTACION',\n",
       " 'PUNT_MATEMATICAS',\n",
       " 'PUNT_PROFUNDIZA_MATEMATICA',\n",
       " 'DESEMP_PROFUNDIZA_MATEMATICA',\n",
       " 'PUNT_CIENCIAS_SOCIALES',\n",
       " 'PUNT_PROFUNDIZA_CSOCIALES',\n",
       " 'DESEMP_PROFUNDIZA_CSOCIALES',\n",
       " 'PUNT_INGLES',\n",
       " 'DESEMP_INGLES',\n",
       " 'PUNT_BIOLOGIA',\n",
       " 'PUNT_PROFUNDIZA_BIOLOGIA',\n",
       " 'DESEMP_PROFUNDIZA_BIOLOGIA',\n",
       " 'PUNT_FILOSOFIA',\n",
       " 'PUNT_INTERDISC_MEDIOAMBIENTE',\n",
       " 'PUNT_FISICA',\n",
       " 'PUNT_QUIMICA',\n",
       " 'PUNT_LENGUAJE',\n",
       " 'PUNT_PROFUNDIZA_LENGUAJE',\n",
       " 'DESEMP_PROFUNDIZA_LENGUAJE',\n",
       " 'PUNT_INTERDISC_VIOLENCIAYSOC',\n",
       " 'ESTU_PUESTO',\n",
       " 'RECAF_PUNT_SOCIALES_CIUDADANAS',\n",
       " 'RECAF_PUNT_INGLES',\n",
       " 'RECAF_PUNT_LECTURA_CRITICA',\n",
       " 'RECAF_PUNT_MATEMATICAS',\n",
       " 'RECAF_PUNT_C_NATURALES',\n",
       " 'ESTU_ESTADOINVESTIGACION']"
      ]
     },
     "execution_count": 243,
     "metadata": {},
     "output_type": "execute_result"
    }
   ],
   "source": [
    "df1.columns"
   ]
  },
  {
   "cell_type": "code",
   "execution_count": 244,
   "metadata": {},
   "outputs": [],
   "source": [
    "columnasPuntos20141 = [\n",
    " 'COLE_COD_DANE_ESTABLECIMIENTO',\n",
    " 'COLE_NOMBRE_ESTABLECIMIENTO',\n",
    " 'PUNT_MATEMATICAS',\n",
    " 'PUNT_PROFUNDIZA_MATEMATICA',\n",
    " 'PUNT_CIENCIAS_SOCIALES',\n",
    " 'PUNT_PROFUNDIZA_CSOCIALES',\n",
    " 'PUNT_INGLES',\n",
    " 'PUNT_BIOLOGIA',\n",
    " 'PUNT_PROFUNDIZA_BIOLOGIA',\n",
    " 'PUNT_FILOSOFIA',\n",
    " 'PUNT_INTERDISC_MEDIOAMBIENTE',\n",
    " 'PUNT_FISICA',\n",
    " 'PUNT_QUIMICA',\n",
    " 'PUNT_LENGUAJE',\n",
    " 'PUNT_PROFUNDIZA_LENGUAJE',\n",
    " 'PUNT_INTERDISC_VIOLENCIAYSOC']"
   ]
  },
  {
   "cell_type": "code",
   "execution_count": 245,
   "metadata": {},
   "outputs": [],
   "source": [
    "df1 = df1.select(columnasPuntos20141)"
   ]
  },
  {
   "cell_type": "code",
   "execution_count": 246,
   "metadata": {},
   "outputs": [],
   "source": [
    "# SE leen los dos archivos y se crean dos dataframes\n",
    "df2 = spark.read.load(base2 + '/' + estuDic['20142'],\"com.databricks.spark.csv\",header='true',inferSchema='true',sep='¬')"
   ]
  },
  {
   "cell_type": "code",
   "execution_count": 247,
   "metadata": {},
   "outputs": [],
   "source": [
    "columnasPuntos20142 = [\n",
    " 'COLE_COD_DANE_ESTABLECIMIENTO',\n",
    " 'COLE_NOMBRE_ESTABLECIMIENTO',\n",
    " 'PUNT_LECTURA_CRITICA',\n",
    " 'PUNT_MATEMATICAS',\n",
    " 'PUNT_C_NATURALES',\n",
    " 'PUNT_SOCIALES_CIUDADANAS',\n",
    " 'PUNT_RAZONA_CUANTITATIVO',\n",
    " 'PUNT_COMP_CIUDADANA',\n",
    " 'PUNT_INGLES'\n",
    "]"
   ]
  },
  {
   "cell_type": "code",
   "execution_count": 248,
   "metadata": {},
   "outputs": [],
   "source": [
    "df2 = df2.select(columnasPuntos20142)"
   ]
  },
  {
   "cell_type": "code",
   "execution_count": 249,
   "metadata": {},
   "outputs": [
    {
     "data": {
      "text/plain": [
       "['PUNT_MATEMATICAS',\n",
       " 'PUNT_PROFUNDIZA_MATEMATICA',\n",
       " 'PUNT_CIENCIAS_SOCIALES',\n",
       " 'PUNT_PROFUNDIZA_CSOCIALES',\n",
       " 'PUNT_INGLES',\n",
       " 'PUNT_BIOLOGIA',\n",
       " 'PUNT_PROFUNDIZA_BIOLOGIA',\n",
       " 'PUNT_FILOSOFIA',\n",
       " 'PUNT_INTERDISC_MEDIOAMBIENTE',\n",
       " 'PUNT_FISICA',\n",
       " 'PUNT_QUIMICA',\n",
       " 'PUNT_LENGUAJE',\n",
       " 'PUNT_PROFUNDIZA_LENGUAJE',\n",
       " 'PUNT_INTERDISC_VIOLENCIAYSOC']"
      ]
     },
     "execution_count": 249,
     "metadata": {},
     "output_type": "execute_result"
    }
   ],
   "source": [
    "#dft = df1.columns.remove('cole_cod_dane_institucion')\n",
    "cols = df1.columns\n",
    "cols.remove('COLE_COD_DANE_ESTABLECIMIENTO')\n",
    "cols.remove('COLE_NOMBRE_ESTABLECIMIENTO')\n",
    "cols"
   ]
  },
  {
   "cell_type": "code",
   "execution_count": 250,
   "metadata": {},
   "outputs": [],
   "source": [
    "# SE unen los dos dataframes\n",
    "# df = unionAll(df1,df2)\n",
    "for cp in cols:\n",
    "    df1 = df1.withColumn(cp, regexp_replace(cp, ',', '.'))\n",
    "    df1 = df1.withColumn(cp, df1[cp].cast(\"float\"))\n",
    "    df1 = df1.na.fill({cp:0})\n",
    "df1 = df1.na.fill({'COLE_COD_DANE_ESTABLECIMIENTO':'--'})\n",
    "df1 = df1.na.fill({'COLE_NOMBRE_ESTABLECIMIENTO':'--'})"
   ]
  },
  {
   "cell_type": "code",
   "execution_count": 251,
   "metadata": {},
   "outputs": [
    {
     "name": "stdout",
     "output_type": "stream",
     "text": [
      "Nùmero de filas con cole_cod_dane_institucion nulos:  0\n",
      "Nùmero de filas con cole_nombre_sede nulos:  0\n"
     ]
    }
   ],
   "source": [
    "# SE evalua sí tiene valores nullos\n",
    "print(\"Nùmero de filas con cole_cod_dane_institucion nulos: \", df1.filter(\"COLE_COD_DANE_ESTABLECIMIENTO = '--'\").count())\n",
    "print(\"Nùmero de filas con cole_nombre_sede nulos: \", df1.filter(\"COLE_NOMBRE_ESTABLECIMIENTO = '--'\").count())"
   ]
  },
  {
   "cell_type": "code",
   "execution_count": 252,
   "metadata": {},
   "outputs": [],
   "source": [
    "df1 = df1.withColumn('COLE_COD_DANE_ESTABLECIMIENTO', df1['COLE_COD_DANE_ESTABLECIMIENTO'].cast(\"string\"))"
   ]
  },
  {
   "cell_type": "code",
   "execution_count": 253,
   "metadata": {},
   "outputs": [],
   "source": [
    "cols2 = df2.columns\n",
    "cols2.remove('COLE_COD_DANE_ESTABLECIMIENTO')\n",
    "cols2.remove('COLE_NOMBRE_ESTABLECIMIENTO')"
   ]
  },
  {
   "cell_type": "code",
   "execution_count": 254,
   "metadata": {},
   "outputs": [],
   "source": [
    "for cp in cols2:\n",
    "    df2 = df2.withColumn(cp, regexp_replace(cp, ',', '.'))\n",
    "    df2 = df2.withColumn(cp, df2[cp].cast(\"float\"))\n",
    "    df2 = df2.na.fill({cp:0})\n",
    "df2 = df2.withColumn('COLE_COD_DANE_ESTABLECIMIENTO', df2['COLE_COD_DANE_ESTABLECIMIENTO'].cast(\"string\"))\n",
    "df2 = df2.na.fill({'COLE_COD_DANE_ESTABLECIMIENTO':'--'})\n",
    "df2 = df2.na.fill({'COLE_NOMBRE_ESTABLECIMIENTO':'--'})"
   ]
  },
  {
   "cell_type": "code",
   "execution_count": 255,
   "metadata": {},
   "outputs": [
    {
     "name": "stdout",
     "output_type": "stream",
     "text": [
      "Nùmero de filas con cole_cod_dane_institucion nulos:  107\n",
      "Nùmero de filas con cole_nombre_sede nulos:  0\n"
     ]
    }
   ],
   "source": [
    "# SE evalua sí tiene valores nullos\n",
    "print(\"Nùmero de filas con cole_cod_dane_institucion nulos: \", df2.filter(\"COLE_COD_DANE_ESTABLECIMIENTO = '--'\").count())\n",
    "print(\"Nùmero de filas con cole_nombre_sede nulos: \", df2.filter(\"COLE_NOMBRE_ESTABLECIMIENTO = '--'\").count())"
   ]
  },
  {
   "cell_type": "code",
   "execution_count": 256,
   "metadata": {},
   "outputs": [],
   "source": [
    "# Contando el numero de estudiantes por instituciòn y mostrandola de forma descendente\n",
    "dsCountEst1 = df1.groupBy('COLE_COD_DANE_ESTABLECIMIENTO').count().orderBy('count',ascending=\n",
    "False)\n",
    "dsCountEst2 = df2.groupBy('COLE_COD_DANE_ESTABLECIMIENTO').count().orderBy('count',ascending=\n",
    "False)"
   ]
  },
  {
   "cell_type": "code",
   "execution_count": 257,
   "metadata": {},
   "outputs": [
    {
     "name": "stdout",
     "output_type": "stream",
     "text": [
      "+-----------------------------+-------+\n",
      "|COLE_COD_DANE_ESTABLECIMIENTO|num_est|\n",
      "+-----------------------------+-------+\n",
      "|311001105863                 |465    |\n",
      "|305001024544                 |326    |\n",
      "|305001007861                 |267    |\n",
      "|476248000478                 |258    |\n",
      "|376001028219                 |204    |\n",
      "|376001000721                 |176    |\n",
      "|376001003461                 |168    |\n",
      "|311001106410                 |159    |\n",
      "|376001007670                 |150    |\n",
      "|376001026925                 |142    |\n",
      "+-----------------------------+-------+\n",
      "only showing top 10 rows\n",
      "\n",
      "+-----------------------------+-------+\n",
      "|COLE_COD_DANE_ESTABLECIMIENTO|num_est|\n",
      "+-----------------------------+-------+\n",
      "|311001105391                 |1133   |\n",
      "|105001000108                 |1001   |\n",
      "|311001105863                 |957    |\n",
      "|105001013340                 |794    |\n",
      "|105615000236                 |671    |\n",
      "|305001007861                 |663    |\n",
      "|176001005813                 |648    |\n",
      "|305001003963                 |608    |\n",
      "|105154000301                 |572    |\n",
      "|405001016946                 |551    |\n",
      "+-----------------------------+-------+\n",
      "only showing top 10 rows\n",
      "\n"
     ]
    }
   ],
   "source": [
    "dsCountEst1 = dsCountEst1.withColumnRenamed(\"count\",\"num_est\")\n",
    "dsCountEst1.show(10,False)\n",
    "\n",
    "dsCountEst2 = dsCountEst2.withColumnRenamed(\"count\",\"num_est\")\n",
    "dsCountEst2.show(10,False)"
   ]
  },
  {
   "cell_type": "code",
   "execution_count": 258,
   "metadata": {},
   "outputs": [
    {
     "name": "stdout",
     "output_type": "stream",
     "text": [
      "Numero màximo de estudiantes:  465\n",
      "Numero mìnimo de estudiantes:  1\n"
     ]
    }
   ],
   "source": [
    "rowmax1 = dsCountEst1.agg({\"num_est\": \"max\"}).collect()[0]\n",
    "rowmin1 = dsCountEst1.agg({\"num_est\": \"min\"}).collect()[0]\n",
    "\n",
    "num_est_max1 = rowmax1[\"max(num_est)\"]\n",
    "num_est_min1 = rowmin1[\"min(num_est)\"]\n",
    "\n",
    "print(\"Numero màximo de estudiantes: \",num_est_max1)\n",
    "print(\"Numero mìnimo de estudiantes: \",num_est_min1)"
   ]
  },
  {
   "cell_type": "code",
   "execution_count": 259,
   "metadata": {},
   "outputs": [
    {
     "name": "stdout",
     "output_type": "stream",
     "text": [
      "Numero màximo de estudiantes:  1133\n",
      "Numero mìnimo de estudiantes:  1\n"
     ]
    }
   ],
   "source": [
    "rowmax2 = dsCountEst2.agg({\"num_est\": \"max\"}).collect()[0]\n",
    "rowmin2 = dsCountEst2.agg({\"num_est\": \"min\"}).collect()[0]\n",
    "\n",
    "num_est_max2 = rowmax2[\"max(num_est)\"]\n",
    "num_est_min2 = rowmin2[\"min(num_est)\"]\n",
    "\n",
    "print(\"Numero màximo de estudiantes: \",num_est_max2)\n",
    "print(\"Numero mìnimo de estudiantes: \",num_est_min2)"
   ]
  },
  {
   "cell_type": "code",
   "execution_count": 260,
   "metadata": {},
   "outputs": [],
   "source": [
    "#Se crea una columna con el total de los puntajes \n",
    "df1= df1.withColumn(\"Suma\",df1['PUNT_MATEMATICAS']+df1['PUNT_PROFUNDIZA_MATEMATICA']+df1['PUNT_CIENCIAS_SOCIALES']+\n",
    "                     df1['PUNT_PROFUNDIZA_CSOCIALES']+df1['PUNT_INGLES']+df1['PUNT_BIOLOGIA']+df1['PUNT_PROFUNDIZA_BIOLOGIA']+\n",
    "                     df1['PUNT_FILOSOFIA']+df1['PUNT_INTERDISC_MEDIOAMBIENTE']+df1['PUNT_FISICA']+df1['PUNT_QUIMICA']+\n",
    "                     df1['PUNT_LENGUAJE']+df1['PUNT_PROFUNDIZA_LENGUAJE']+df1['PUNT_INTERDISC_VIOLENCIAYSOC'])\n",
    "\n",
    "df2= df2.withColumn(\"Suma\",df2['PUNT_LECTURA_CRITICA']+df2['PUNT_MATEMATICAS']+df2['PUNT_C_NATURALES']\n",
    "                    +df2['PUNT_SOCIALES_CIUDADANAS']+df2['PUNT_RAZONA_CUANTITATIVO']+df2['PUNT_COMP_CIUDADANA']\n",
    "                    +df2['PUNT_INGLES'])"
   ]
  },
  {
   "cell_type": "markdown",
   "metadata": {},
   "source": [
    "## Resultados finales por instituciòn 1er semestre"
   ]
  },
  {
   "cell_type": "code",
   "execution_count": 261,
   "metadata": {},
   "outputs": [
    {
     "name": "stdout",
     "output_type": "stream",
     "text": [
      "Màxima calificaciòn en colegios:  594.719298245614\n",
      "Mìxima calificaciòn en colegios:  271.0\n"
     ]
    }
   ],
   "source": [
    "# Còdigo para obtener la media de los resultados de las evaluaciones de todos los estudiantes por instituciòn \n",
    "# y posiciòn en orden descendente.\n",
    "from pyspark.sql.functions import *\n",
    "from pyspark.sql.window import Window\n",
    "\n",
    "#df = df.groupBy('cole_cod_dane_institucion','cole_nombre_sede').mean()\n",
    "df1 = df1.groupBy('COLE_COD_DANE_ESTABLECIMIENTO','COLE_NOMBRE_ESTABLECIMIENTO').mean()\n",
    "\n",
    "rowprommax1 = df1.agg({\"avg(Suma)\": \"max\"}).collect()[0]\n",
    "rowprommin1 = df1.agg({\"avg(Suma)\": \"min\"}).collect()[0]\n",
    "\n",
    "prom_est_max1 = rowprommax1[\"max(avg(Suma))\"]\n",
    "prom_est_min1 = rowprommin1[\"min(avg(Suma))\"]\n",
    "\n",
    "print(\"Màxima calificaciòn en colegios: \", prom_est_max1)\n",
    "print(\"Mìxima calificaciòn en colegios: \", prom_est_min1)"
   ]
  },
  {
   "cell_type": "code",
   "execution_count": 262,
   "metadata": {},
   "outputs": [
    {
     "name": "stdout",
     "output_type": "stream",
     "text": [
      "root\n",
      " |-- COLE_COD_DANE_ESTABLECIMIENTO: string (nullable = true)\n",
      " |-- COLE_NOMBRE_ESTABLECIMIENTO: string (nullable = false)\n",
      " |-- avg(PUNT_MATEMATICAS): double (nullable = true)\n",
      " |-- avg(PUNT_PROFUNDIZA_MATEMATICA): double (nullable = true)\n",
      " |-- avg(PUNT_CIENCIAS_SOCIALES): double (nullable = true)\n",
      " |-- avg(PUNT_PROFUNDIZA_CSOCIALES): double (nullable = true)\n",
      " |-- avg(PUNT_INGLES): double (nullable = true)\n",
      " |-- avg(PUNT_BIOLOGIA): double (nullable = true)\n",
      " |-- avg(PUNT_PROFUNDIZA_BIOLOGIA): double (nullable = true)\n",
      " |-- avg(PUNT_FILOSOFIA): double (nullable = true)\n",
      " |-- avg(PUNT_INTERDISC_MEDIOAMBIENTE): double (nullable = true)\n",
      " |-- avg(PUNT_FISICA): double (nullable = true)\n",
      " |-- avg(PUNT_QUIMICA): double (nullable = true)\n",
      " |-- avg(PUNT_LENGUAJE): double (nullable = true)\n",
      " |-- avg(PUNT_PROFUNDIZA_LENGUAJE): double (nullable = true)\n",
      " |-- avg(PUNT_INTERDISC_VIOLENCIAYSOC): double (nullable = true)\n",
      " |-- avg(Suma): double (nullable = true)\n",
      " |-- num_est: long (nullable = false)\n",
      "\n"
     ]
    }
   ],
   "source": [
    "dfjoin1 = df1.join(dsCountEst1,\"COLE_COD_DANE_ESTABLECIMIENTO\")\n",
    "dfjoin1.printSchema()"
   ]
  },
  {
   "cell_type": "code",
   "execution_count": 263,
   "metadata": {
    "scrolled": true
   },
   "outputs": [],
   "source": [
    "dfjoin1= dfjoin1.withColumn(\"Indice_Prom\",round(dfjoin1['avg(Suma)']/prom_est_max1,3))\n",
    "dfjoin1= dfjoin1.withColumn(\"Indice_Num\",round(dfjoin1['num_est']/num_est_max1,3))\n",
    "dfjoin1= dfjoin1.withColumn(\"Indice_Total\",round(dfjoin1['Indice_Prom']*dfjoin1['Indice_Num'],3))"
   ]
  },
  {
   "cell_type": "code",
   "execution_count": 264,
   "metadata": {},
   "outputs": [],
   "source": [
    "dfjoin1 = df1.join(dsCountEst1,\"COLE_COD_DANE_ESTABLECIMIENTO\")\n",
    "dfjoin1= dfjoin1.withColumn(\"Indice_Prom\",round(dfjoin1['avg(Suma)']/prom_est_max1,3))\n",
    "dfjoin1= dfjoin1.withColumn(\"Indice_Num\",round(dfjoin1['num_est']/num_est_max1,3))\n",
    "dfjoin1= dfjoin1.withColumn(\"Indice_Total\",round(dfjoin1['Indice_Prom']*dfjoin1['Indice_Num'],3))"
   ]
  },
  {
   "cell_type": "code",
   "execution_count": 265,
   "metadata": {},
   "outputs": [],
   "source": [
    "dfjoin1 = dfjoin1.select('COLE_NOMBRE_ESTABLECIMIENTO','COLE_COD_DANE_ESTABLECIMIENTO','avg(Suma)','num_est','Indice_Prom','Indice_Num','Indice_Total')\n",
    "dfjoin1 = dfjoin1.withColumn(\"rankProm\", dense_rank().over(Window.orderBy(desc(\"Indice_Prom\"))))\n",
    "dfjoin1 = dfjoin1.withColumn(\"rankNum\", dense_rank().over(Window.orderBy(desc(\"Indice_Num\"))))\n",
    "dfjoin1 = dfjoin1.withColumn(\"rankTotal\", dense_rank().over(Window.orderBy(desc(\"Indice_Total\"))))\n",
    "dfjoin1 = dfjoin1.withColumn(\"Media\",round(dfjoin1['avg(Suma)'],2))"
   ]
  },
  {
   "cell_type": "code",
   "execution_count": 266,
   "metadata": {},
   "outputs": [
    {
     "name": "stdout",
     "output_type": "stream",
     "text": [
      "+---------------------------+------+-----------+-------+--------+-------+---------+\n",
      "|COLE_NOMBRE_ESTABLECIMIENTO| Media|Indice_Prom|num_est|rankProm|rankNum|rankTotal|\n",
      "+---------------------------+------+-----------+-------+--------+-------+---------+\n",
      "|            COL LOS NOGALES|594.72|        1.0|     57|       1|     62|       50|\n",
      "|       COL LA QUINTA DEL...|586.77|      0.987|     30|       2|     89|      100|\n",
      "|       COL SAN MATEO APO...|576.21|      0.969|     61|       3|     58|       47|\n",
      "|       COL  MONTESSORI B...|570.43|      0.959|     35|       4|     84|       93|\n",
      "|       COL SAN CARLOS   ...|569.99|      0.958|     92|       5|     30|       22|\n",
      "|       GIMN VERMONT     ...|569.82|      0.958|    103|       5|     23|       16|\n",
      "|        ASPAEN LICEO TACURÍ|567.62|      0.954|     13|       6|    106|      134|\n",
      "|       ASPAEN GIMNASIO C...|564.48|      0.949|     33|       7|     86|       97|\n",
      "|       COL SAN JORGE DE ...|563.18|      0.947|     88|       8|     32|       25|\n",
      "|       COL FUNDACION LIC...|561.64|      0.944|     36|       9|     83|       92|\n",
      "+---------------------------+------+-----------+-------+--------+-------+---------+\n",
      "only showing top 10 rows\n",
      "\n"
     ]
    }
   ],
   "source": [
    "# Se ordena por Indice_Prom\n",
    "dfjoin1 = dfjoin1.orderBy('rankProm',ascending= True)\n",
    "dfjoin1.select('COLE_NOMBRE_ESTABLECIMIENTO','Media','Indice_Prom','num_est','rankProm','rankNum','rankTotal').show(10)"
   ]
  },
  {
   "cell_type": "code",
   "execution_count": 267,
   "metadata": {},
   "outputs": [
    {
     "name": "stdout",
     "output_type": "stream",
     "text": [
      "+---------------------------+------+----------+-------+--------+-------+---------+\n",
      "|COLE_NOMBRE_ESTABLECIMIENTO| Media|Indice_Num|num_est|rankProm|rankNum|rankTotal|\n",
      "+---------------------------+------+----------+-------+--------+-------+---------+\n",
      "|       CENT JOHANN KEPLE...|359.25|       1.0|    465|     244|      1|        1|\n",
      "|       COL NUEVO CERVANT...|326.86|     0.701|    326|     298|      2|        2|\n",
      "|            GIMN GUAYACANES|348.07|     0.574|    267|     263|      3|        3|\n",
      "|       INST TEC CIAL E I...|356.78|     0.555|    258|     248|      4|        4|\n",
      "|       COLEGIO COMFANDI ...|433.47|     0.439|    204|     138|      5|        5|\n",
      "|       COLEGIO FRANCISCA...|426.08|     0.378|    176|     145|      6|        7|\n",
      "|       COLEGIO SAN ANTON...|471.26|     0.361|    168|      95|      7|        6|\n",
      "|       INST POLITECNICO ...|337.51|     0.342|    159|     280|      8|       20|\n",
      "|       COLEGIO LEON DE G...|437.57|     0.323|    150|     131|      9|        9|\n",
      "|        COMFANDI MIRAFLORES|424.01|     0.305|    142|     147|     10|       14|\n",
      "+---------------------------+------+----------+-------+--------+-------+---------+\n",
      "only showing top 10 rows\n",
      "\n"
     ]
    }
   ],
   "source": [
    "dfjoin1 = dfjoin1.orderBy('rankNum',ascending= True)\n",
    "dfjoin1.select('COLE_NOMBRE_ESTABLECIMIENTO','Media','Indice_Num','num_est','rankProm','rankNum','rankTotal').show(10)"
   ]
  },
  {
   "cell_type": "code",
   "execution_count": 268,
   "metadata": {},
   "outputs": [
    {
     "name": "stdout",
     "output_type": "stream",
     "text": [
      "+---------------------------+------+------------+-------+--------+-------+---------+\n",
      "|COLE_NOMBRE_ESTABLECIMIENTO| Media|Indice_Total|num_est|rankProm|rankNum|rankTotal|\n",
      "+---------------------------+------+------------+-------+--------+-------+---------+\n",
      "|       CENT JOHANN KEPLE...|359.25|       0.604|    465|     244|      1|        1|\n",
      "|       COL NUEVO CERVANT...|326.86|       0.386|    326|     298|      2|        2|\n",
      "|            GIMN GUAYACANES|348.07|       0.336|    267|     263|      3|        3|\n",
      "|       INST TEC CIAL E I...|356.78|       0.333|    258|     248|      4|        4|\n",
      "|       COLEGIO COMFANDI ...|433.47|        0.32|    204|     138|      5|        5|\n",
      "|       COLEGIO SAN ANTON...|471.26|       0.286|    168|      95|      7|        6|\n",
      "|       COLEGIO FRANCISCA...|426.08|       0.271|    176|     145|      6|        7|\n",
      "|       COL SAN BARTOLOME...| 523.7|       0.239|    126|      45|     15|        8|\n",
      "|       COLEGIO LEON DE G...|437.57|       0.238|    150|     131|      9|        9|\n",
      "|       COL NUEVA GRANADA...|520.83|       0.237|    126|      48|     15|       10|\n",
      "+---------------------------+------+------------+-------+--------+-------+---------+\n",
      "only showing top 10 rows\n",
      "\n"
     ]
    }
   ],
   "source": [
    "# Se ordena por Indice_Total\n",
    "dfjoin1 = dfjoin1.orderBy('rankTotal',ascending= True)\n",
    "dfjoin1.select('COLE_NOMBRE_ESTABLECIMIENTO','Media','Indice_Total','num_est','rankProm','rankNum','rankTotal').show(10)"
   ]
  },
  {
   "cell_type": "code",
   "execution_count": 269,
   "metadata": {},
   "outputs": [
    {
     "name": "stdout",
     "output_type": "stream",
     "text": [
      "root\n",
      " |-- COLE_NOMBRE_ESTABLECIMIENTO: string (nullable = false)\n",
      " |-- COLE_COD_DANE_ESTABLECIMIENTO: string (nullable = true)\n",
      " |-- avg(Suma): double (nullable = true)\n",
      " |-- num_est: long (nullable = false)\n",
      " |-- Indice_Prom: double (nullable = true)\n",
      " |-- Indice_Num: double (nullable = true)\n",
      " |-- Indice_Total: double (nullable = true)\n",
      " |-- rankProm: integer (nullable = true)\n",
      " |-- rankNum: integer (nullable = true)\n",
      " |-- rankTotal: integer (nullable = true)\n",
      " |-- Media: double (nullable = true)\n",
      "\n"
     ]
    }
   ],
   "source": [
    "dfjoin1.printSchema()"
   ]
  },
  {
   "cell_type": "markdown",
   "metadata": {},
   "source": [
    "## Resultados finales por instituciòn 2do semestre"
   ]
  },
  {
   "cell_type": "code",
   "execution_count": 210,
   "metadata": {},
   "outputs": [
    {
     "name": "stdout",
     "output_type": "stream",
     "text": [
      "Màxima calificaciòn en colegios:  594.719298245614\n",
      "Mìxima calificaciòn en colegios:  271.0\n"
     ]
    }
   ],
   "source": [
    "# Còdigo para obtener la media de los resultados de las evaluaciones de todos los estudiantes por instituciòn \n",
    "# y posiciòn en orden descendente.\n",
    "from pyspark.sql.functions import *\n",
    "from pyspark.sql.window import Window\n",
    "\n",
    "#df = df.groupBy('cole_cod_dane_institucion','cole_nombre_sede').mean()\n",
    "df2 = df2.groupBy('COLE_NOMBRE_ESTABLECIMIENTO','COLE_COD_DANE_ESTABLECIMIENTO').mean()\n",
    "\n",
    "rowprommax2 = df2.agg({\"avg(Suma)\": \"max\"}).collect()[0]\n",
    "rowprommin2 = df2.agg({\"avg(Suma)\": \"min\"}).collect()[0]\n",
    "\n",
    "prom_est_max2 = rowprommax1[\"max(avg(Suma))\"]\n",
    "prom_est_min2 = rowprommin1[\"min(avg(Suma))\"]\n",
    "\n",
    "print(\"Màxima calificaciòn en colegios: \", prom_est_max2)\n",
    "print(\"Mìxima calificaciòn en colegios: \", prom_est_min2)"
   ]
  },
  {
   "cell_type": "code",
   "execution_count": 211,
   "metadata": {},
   "outputs": [],
   "source": [
    "dfjoin2 = df2.join(dsCountEst2,\"COLE_COD_DANE_ESTABLECIMIENTO\")\n",
    "dfjoin2= dfjoin2.withColumn(\"Indice_Prom\",round(dfjoin2['avg(Suma)']/prom_est_max2,3))\n",
    "dfjoin2= dfjoin2.withColumn(\"Indice_Num\",round(dfjoin2['num_est']/num_est_max2,3))\n",
    "dfjoin2= dfjoin2.withColumn(\"Indice_Total\",round(dfjoin2['Indice_Prom']*dfjoin2['Indice_Num'],3))"
   ]
  },
  {
   "cell_type": "code",
   "execution_count": 212,
   "metadata": {},
   "outputs": [],
   "source": [
    "dfjoin2 = dfjoin2.select('COLE_NOMBRE_ESTABLECIMIENTO','avg(Suma)','num_est','Indice_Prom','Indice_Num','Indice_Total')\n",
    "dfjoin2 = dfjoin2.withColumn(\"rankProm\", dense_rank().over(Window.orderBy(desc(\"Indice_Prom\"))))\n",
    "dfjoin2 = dfjoin2.withColumn(\"rankNum\", dense_rank().over(Window.orderBy(desc(\"Indice_Num\"))))\n",
    "dfjoin2 = dfjoin2.withColumn(\"rankTotal\", dense_rank().over(Window.orderBy(desc(\"Indice_Total\"))))\n",
    "dfjoin2 = dfjoin2.withColumn(\"Media\",round(dfjoin2['avg(Suma)'],2))"
   ]
  },
  {
   "cell_type": "code",
   "execution_count": 213,
   "metadata": {},
   "outputs": [
    {
     "name": "stdout",
     "output_type": "stream",
     "text": [
      "+---------------------------+------+-----------+-------+--------+-------+---------+\n",
      "|COLE_NOMBRE_ESTABLECIMIENTO| Media|Indice_Prom|num_est|rankProm|rankNum|rankTotal|\n",
      "+---------------------------+------+-----------+-------+--------+-------+---------+\n",
      "|       COLOMBO BRITANICO...|541.58|      0.911|     72|       1|    252|      155|\n",
      "|       CAMBRIDGE SCHOOL ...|538.57|      0.906|     14|       2|    304|      202|\n",
      "|                LIC NAVARRA|534.09|      0.898|     45|       3|    276|      177|\n",
      "|        INST ALBERTO MERANI|530.41|      0.892|     32|       4|    288|      188|\n",
      "|       COL NUEVO COLOMBO...|527.86|      0.888|     65|       5|    259|      162|\n",
      "|            LIC CAMPO DAVID|526.35|      0.885|     17|       6|    301|      200|\n",
      "|        COL ANGLO AMERICANO|524.37|      0.882|    166|       7|    169|       83|\n",
      "|                 COL REFOUS|523.81|      0.881|     72|       8|    252|      157|\n",
      "|        COLEGIO CORAZONISTA|519.91|      0.874|    149|       9|    184|       98|\n",
      "|             COL EL ROSARIO|516.62|      0.869|     42|      10|    279|      181|\n",
      "+---------------------------+------+-----------+-------+--------+-------+---------+\n",
      "only showing top 10 rows\n",
      "\n"
     ]
    }
   ],
   "source": [
    "# Se ordena por Indice_Prom\n",
    "dfjoin2 = dfjoin2.orderBy('rankProm',ascending= True)\n",
    "dfjoin2.select('COLE_NOMBRE_ESTABLECIMIENTO','Media','Indice_Prom','num_est','rankProm','rankNum','rankTotal').show(10)"
   ]
  },
  {
   "cell_type": "code",
   "execution_count": 214,
   "metadata": {},
   "outputs": [
    {
     "name": "stdout",
     "output_type": "stream",
     "text": [
      "+---------------------------+------+----------+-------+--------+-------+---------+\n",
      "|COLE_NOMBRE_ESTABLECIMIENTO| Media|Indice_Num|num_est|rankProm|rankNum|rankTotal|\n",
      "+---------------------------+------+----------+-------+--------+-------+---------+\n",
      "|       COL TECNISISTEMAS...|337.34|       1.0|   1133|     278|      1|        1|\n",
      "|             INST EDUC CEFA|376.28|     0.883|   1001|     212|      2|        2|\n",
      "|         CENT JOHANN KEPLER|320.51|     0.845|    957|     306|      3|        4|\n",
      "|       INST EDUC INEM JO...|388.74|     0.701|    794|     191|      4|        3|\n",
      "|       I. E. ESCUELA NOR...|316.58|     0.592|    671|     313|      5|        8|\n",
      "|            GIMN GUAYACANES|316.58|     0.585|    663|     313|      6|        9|\n",
      "|       INSTITUCION EDUCA...|367.61|     0.572|    648|     227|      7|        6|\n",
      "|       LIC SALAZAR Y HER...|399.25|     0.537|    608|     174|      8|        5|\n",
      "|       I. E. LICEO CAUCASIA|331.38|     0.505|    572|     288|      9|       13|\n",
      "|       COL COOP SAN ANTO...|315.31|     0.486|    551|     315|     10|       15|\n",
      "+---------------------------+------+----------+-------+--------+-------+---------+\n",
      "only showing top 10 rows\n",
      "\n"
     ]
    }
   ],
   "source": [
    "dfjoin2 = dfjoin2.orderBy('rankNum',ascending= True)\n",
    "dfjoin2.select('COLE_NOMBRE_ESTABLECIMIENTO','Media','Indice_Num','num_est','rankProm','rankNum','rankTotal').show(10)"
   ]
  },
  {
   "cell_type": "code",
   "execution_count": 215,
   "metadata": {},
   "outputs": [
    {
     "name": "stdout",
     "output_type": "stream",
     "text": [
      "+---------------------------+------+------------+-------+--------+-------+---------+\n",
      "|COLE_NOMBRE_ESTABLECIMIENTO| Media|Indice_Total|num_est|rankProm|rankNum|rankTotal|\n",
      "+---------------------------+------+------------+-------+--------+-------+---------+\n",
      "|       COL TECNISISTEMAS...|337.34|       0.567|   1133|     278|      1|        1|\n",
      "|             INST EDUC CEFA|376.28|       0.559|   1001|     212|      2|        2|\n",
      "|       INST EDUC INEM JO...|388.74|       0.458|    794|     191|      4|        3|\n",
      "|         CENT JOHANN KEPLER|320.51|       0.455|    957|     306|      3|        4|\n",
      "|       LIC SALAZAR Y HER...|399.25|        0.36|    608|     174|      8|        5|\n",
      "|       INSTITUCION EDUCA...|367.61|       0.353|    648|     227|      7|        6|\n",
      "|       COLEGIO DE LA UNI...|424.35|       0.342|    543|     131|     11|        7|\n",
      "|       I. E. ESCUELA NOR...|316.58|       0.315|    671|     313|      5|        8|\n",
      "|            GIMN GUAYACANES|316.58|       0.311|    663|     313|      6|        9|\n",
      "|       COLEGIO NACIONAL ...|389.46|        0.29|    501|     190|     14|       10|\n",
      "+---------------------------+------+------------+-------+--------+-------+---------+\n",
      "only showing top 10 rows\n",
      "\n"
     ]
    }
   ],
   "source": [
    "# Se ordena por Indice_Total\n",
    "dfjoin2 = dfjoin2.orderBy('rankTotal',ascending= True)\n",
    "dfjoin2.select('COLE_NOMBRE_ESTABLECIMIENTO','Media','Indice_Total','num_est','rankProm','rankNum','rankTotal').show(10)"
   ]
  },
  {
   "cell_type": "markdown",
   "metadata": {},
   "source": [
    "## Colegios primer semestre"
   ]
  },
  {
   "cell_type": "code",
   "execution_count": 216,
   "metadata": {},
   "outputs": [],
   "source": [
    "# SE crea Dataframe de colegios primer semestre\n",
    "dfc = spark.read.load(base + '/' + coleDic['20141'],\"com.databricks.spark.csv\",header='true',inferSchema='true',sep='\\t')\n",
    "dfc = dfc.withColumn('COLE_COD_DANE', dfc['COLE_COD_DANE'].cast(\"string\"))"
   ]
  },
  {
   "cell_type": "code",
   "execution_count": 217,
   "metadata": {},
   "outputs": [
    {
     "name": "stdout",
     "output_type": "stream",
     "text": [
      "root\n",
      " |-- PERIODO: integer (nullable = true)\n",
      " |-- COLE_COD_DANE: string (nullable = true)\n",
      " |-- COLE_INST_NOMBRE: string (nullable = true)\n",
      " |-- COLE_CODMPIO_COLEGIO: integer (nullable = true)\n",
      " |-- COLE_MPIO_MUNICIPIO: string (nullable = true)\n",
      " |-- COLE_DEPTO_COLEGIO: string (nullable = true)\n",
      " |-- COLE_INST_JORNADA: string (nullable = true)\n",
      " |-- COLE_CALENDARIO_COLEGIO: string (nullable = true)\n",
      " |-- COLE_GENEROPOBLACION: string (nullable = true)\n",
      " |-- COLE_NATURALEZA: string (nullable = true)\n",
      " |-- COLE_QUIMICA: integer (nullable = true)\n",
      " |-- COLE_FISICA: integer (nullable = true)\n",
      " |-- COLE_BIOLOGIA: integer (nullable = true)\n",
      " |-- COLE_FILOSOFIA: integer (nullable = true)\n",
      " |-- COLE_MATEMATICAS: integer (nullable = true)\n",
      " |-- COLE_LENGUAJE: integer (nullable = true)\n",
      " |-- COLE_CIENCIAS_SOCIALES: integer (nullable = true)\n",
      " |-- COLE_INGLES: integer (nullable = true)\n",
      " |-- COLE_CATEGORIA: string (nullable = true)\n",
      " |-- COLE_ESTUDIANTES_PRESENTES: integer (nullable = true)\n",
      "\n",
      "None\n"
     ]
    }
   ],
   "source": [
    "print(dfc.printSchema())"
   ]
  },
  {
   "cell_type": "code",
   "execution_count": 218,
   "metadata": {},
   "outputs": [],
   "source": [
    "colsColegio = dfc.columns"
   ]
  },
  {
   "cell_type": "code",
   "execution_count": 219,
   "metadata": {},
   "outputs": [
    {
     "name": "stdout",
     "output_type": "stream",
     "text": [
      "+-------------+--------------------+--------------------------+\n",
      "|COLE_COD_DANE|    COLE_INST_NOMBRE|COLE_ESTUDIANTES_PRESENTES|\n",
      "+-------------+--------------------+--------------------------+\n",
      "|        86769|COLEGIO SAN LUIS ...|                         7|\n",
      "|        36889|COLEGIO LOS ANGEL...|                        52|\n",
      "|       150581|  COLEGIO SAN RAFAEL|                        19|\n",
      "|       136036|CENT EDUC DIST CA...|                        37|\n",
      "|       136952|CENT EDUC DIST CA...|                        20|\n",
      "|         4986|IE TECNICA PIO AL...|                        30|\n",
      "|         5785|INSTITUCION EDUCA...|                        24|\n",
      "|        41459|COLEGIO COMERCIAL...|                        11|\n",
      "|       158725|           SIGLO XXI|                        13|\n",
      "|       106120|EL NUEVO COL THE ...|                        47|\n",
      "+-------------+--------------------+--------------------------+\n",
      "only showing top 10 rows\n",
      "\n"
     ]
    }
   ],
   "source": [
    "dfc.select('COLE_COD_DANE','COLE_INST_NOMBRE','COLE_ESTUDIANTES_PRESENTES').show(10)"
   ]
  },
  {
   "cell_type": "code",
   "execution_count": 220,
   "metadata": {},
   "outputs": [
    {
     "name": "stdout",
     "output_type": "stream",
     "text": [
      "El numero de colegios es:  365\n"
     ]
    }
   ],
   "source": [
    "print(\"El numero de colegios es: \", dfc.count())"
   ]
  },
  {
   "cell_type": "markdown",
   "metadata": {},
   "source": [
    "## Colegios segundo semestre"
   ]
  },
  {
   "cell_type": "code",
   "execution_count": 221,
   "metadata": {},
   "outputs": [],
   "source": [
    "# SE crea Dataframe de colegios primer semestre\n",
    "dfc2 = spark.read.load(base + '/' + coleDic['20142'],\"com.databricks.spark.csv\",header='true',inferSchema='true',sep='|')\n",
    "dfc2 = dfc2.withColumn('COLE_COD_DANE', dfc2['COLE_COD_DANE'].cast(\"string\"))"
   ]
  },
  {
   "cell_type": "code",
   "execution_count": 222,
   "metadata": {},
   "outputs": [
    {
     "name": "stdout",
     "output_type": "stream",
     "text": [
      "+-------------+--------------------+------------+\n",
      "|COLE_COD_DANE|    COLE_INST_NOMBRE|INDICE_TOTAL|\n",
      "+-------------+--------------------+------------+\n",
      "| 205790000235| I. E. LA INMACULADA|      0,6112|\n",
      "| 154128000019|INST EDUCATIVA CO...|      0,6924|\n",
      "| 108433000051|INSTITUCION EDUCA...|      0,6012|\n",
      "| 105147000568|I. E. JOSE MARIA ...|      0,6692|\n",
      "| 105147000401|      I. E. COLOMBIA|      0,6408|\n",
      "| 219110000636|INSTITUCION EDUCA...|      0,5284|\n",
      "| 419110000970|          I.E. TIMBA|      0,6417|\n",
      "| 111001104264|COLEGIO GERARDO M...|      0,6945|\n",
      "| 205138000142|I. E. R. BUENOS A...|      0,6721|\n",
      "| 276364001458|    I.E. SAN ANTONIO|       0,607|\n",
      "+-------------+--------------------+------------+\n",
      "only showing top 10 rows\n",
      "\n"
     ]
    }
   ],
   "source": [
    "dfc2.select('COLE_COD_DANE','COLE_INST_NOMBRE','INDICE_TOTAL').show(10)"
   ]
  },
  {
   "cell_type": "code",
   "execution_count": 223,
   "metadata": {},
   "outputs": [
    {
     "name": "stdout",
     "output_type": "stream",
     "text": [
      "El numero de colegios segundo semestre:  10927\n"
     ]
    }
   ],
   "source": [
    "print(\"El numero de colegios segundo semestre: \", dfc2.count())"
   ]
  },
  {
   "cell_type": "markdown",
   "metadata": {},
   "source": [
    "## Anàlisis comparativo entre estudiantes y colegios primer semestre"
   ]
  },
  {
   "cell_type": "code",
   "execution_count": 270,
   "metadata": {},
   "outputs": [
    {
     "name": "stdout",
     "output_type": "stream",
     "text": [
      "root\n",
      " |-- COLE_NOMBRE_ESTABLECIMIENTO: string (nullable = false)\n",
      " |-- COLE_COD_DANE_ESTABLECIMIENTO: string (nullable = true)\n",
      " |-- avg(Suma): double (nullable = true)\n",
      " |-- num_est: long (nullable = false)\n",
      " |-- Indice_Prom: double (nullable = true)\n",
      " |-- Indice_Num: double (nullable = true)\n",
      " |-- Indice_Total: double (nullable = true)\n",
      " |-- rankProm: integer (nullable = true)\n",
      " |-- rankNum: integer (nullable = true)\n",
      " |-- rankTotal: integer (nullable = true)\n",
      " |-- Media: double (nullable = true)\n",
      "\n"
     ]
    }
   ],
   "source": [
    "dfjoin1.printSchema()"
   ]
  },
  {
   "cell_type": "code",
   "execution_count": 271,
   "metadata": {},
   "outputs": [],
   "source": [
    "dfjoinPorCod = dfjoin1.join(dfc, dfjoin1.COLE_COD_DANE_ESTABLECIMIENTO == dfc.COLE_COD_DANE)"
   ]
  },
  {
   "cell_type": "code",
   "execution_count": 272,
   "metadata": {},
   "outputs": [
    {
     "name": "stdout",
     "output_type": "stream",
     "text": [
      "Nùmero de colegios coincidentes entre el archivo de estudiantes 1er semestre y colegios: 0\n"
     ]
    }
   ],
   "source": [
    "print(\"Nùmero de colegios coincidentes entre el archivo de estudiantes 1er semestre y colegios:\", dfjoinPorCod.count())"
   ]
  },
  {
   "cell_type": "code",
   "execution_count": 273,
   "metadata": {},
   "outputs": [],
   "source": [
    "dfjoinPorNom = dfjoin1.join(dfc, dfjoin1.COLE_NOMBRE_ESTABLECIMIENTO == dfc.COLE_INST_NOMBRE)"
   ]
  },
  {
   "cell_type": "code",
   "execution_count": 274,
   "metadata": {},
   "outputs": [
    {
     "name": "stdout",
     "output_type": "stream",
     "text": [
      "Nùmero de colegios coincidentes entre el archivo de estudiantes 1er semestre y colegios: 169\n"
     ]
    }
   ],
   "source": [
    "print(\"Nùmero de colegios coincidentes entre el archivo de estudiantes 1er semestre y colegios:\", dfjoinPorNom.count())"
   ]
  },
  {
   "cell_type": "code",
   "execution_count": 275,
   "metadata": {},
   "outputs": [
    {
     "name": "stdout",
     "output_type": "stream",
     "text": [
      "root\n",
      " |-- COLE_NOMBRE_ESTABLECIMIENTO: string (nullable = false)\n",
      " |-- COLE_COD_DANE_ESTABLECIMIENTO: string (nullable = true)\n",
      " |-- avg(Suma): double (nullable = true)\n",
      " |-- num_est: long (nullable = false)\n",
      " |-- Indice_Prom: double (nullable = true)\n",
      " |-- Indice_Num: double (nullable = true)\n",
      " |-- Indice_Total: double (nullable = true)\n",
      " |-- rankProm: integer (nullable = true)\n",
      " |-- rankNum: integer (nullable = true)\n",
      " |-- rankTotal: integer (nullable = true)\n",
      " |-- Media: double (nullable = true)\n",
      " |-- PERIODO: integer (nullable = true)\n",
      " |-- COLE_COD_DANE: string (nullable = true)\n",
      " |-- COLE_INST_NOMBRE: string (nullable = true)\n",
      " |-- COLE_CODMPIO_COLEGIO: integer (nullable = true)\n",
      " |-- COLE_MPIO_MUNICIPIO: string (nullable = true)\n",
      " |-- COLE_DEPTO_COLEGIO: string (nullable = true)\n",
      " |-- COLE_INST_JORNADA: string (nullable = true)\n",
      " |-- COLE_CALENDARIO_COLEGIO: string (nullable = true)\n",
      " |-- COLE_GENEROPOBLACION: string (nullable = true)\n",
      " |-- COLE_NATURALEZA: string (nullable = true)\n",
      " |-- COLE_QUIMICA: integer (nullable = true)\n",
      " |-- COLE_FISICA: integer (nullable = true)\n",
      " |-- COLE_BIOLOGIA: integer (nullable = true)\n",
      " |-- COLE_FILOSOFIA: integer (nullable = true)\n",
      " |-- COLE_MATEMATICAS: integer (nullable = true)\n",
      " |-- COLE_LENGUAJE: integer (nullable = true)\n",
      " |-- COLE_CIENCIAS_SOCIALES: integer (nullable = true)\n",
      " |-- COLE_INGLES: integer (nullable = true)\n",
      " |-- COLE_CATEGORIA: string (nullable = true)\n",
      " |-- COLE_ESTUDIANTES_PRESENTES: integer (nullable = true)\n",
      "\n"
     ]
    }
   ],
   "source": [
    "dfjoinPorNom.printSchema()"
   ]
  },
  {
   "cell_type": "code",
   "execution_count": 281,
   "metadata": {},
   "outputs": [
    {
     "name": "stdout",
     "output_type": "stream",
     "text": [
      "+--------+---------------+---------------------------+------------+-----------------------------+-------------+\n",
      "|rankProm|rankIndiceTotal|COLE_NOMBRE_ESTABLECIMIENTO|INDICE_TOTAL|COLE_COD_DANE_ESTABLECIMIENTO|COLE_COD_DANE|\n",
      "+--------+---------------+---------------------------+------------+-----------------------------+-------------+\n",
      "|     138|              1|       COLEGIO COMFANDI ...|        0.32|                 376001028219|        58727|\n",
      "|      95|              2|       COLEGIO SAN ANTON...|       0.286|                 376001003461|        17293|\n",
      "|     145|              3|       COLEGIO FRANCISCA...|       0.271|                 376001000721|        16980|\n",
      "|      26|              4|              COL BERCHMANS|       0.236|                 376001000276|        17335|\n",
      "|     104|              5|          COLEGIO AMERICANO|       0.222|                 376001001116|        16691|\n",
      "|     122|              6|       COLEGIO CLARETIAN...|       0.217|                 376001000012|        17368|\n",
      "|     147|              6|        COMFANDI MIRAFLORES|       0.217|                 376001026925|        36681|\n",
      "|      67|              7|       COL. SAN LUIS GON...|       0.215|                 317001001896|         6023|\n",
      "|       5|              8|       GIMN VERMONT     ...|       0.213|                 311848000278|        25130|\n",
      "|      33|              9|       COL ANDINO       ...|       0.202|                 311769003474|        19349|\n",
      "+--------+---------------+---------------------------+------------+-----------------------------+-------------+\n",
      "only showing top 10 rows\n",
      "\n"
     ]
    }
   ],
   "source": [
    "# Se cruza la informaciòn por el nombre del colegio - se evidencia que el còdigo DANE no coincide\n",
    "dfjoinPorNom = dfjoinPorNom.withColumn(\"rankIndiceTotal\", dense_rank().over(Window.orderBy(desc(\"INDICE_TOTAL\"))))\n",
    "dfjoinPorNom.select('rankProm','rankIndiceTotal','COLE_NOMBRE_ESTABLECIMIENTO','INDICE_TOTAL','COLE_COD_DANE_ESTABLECIMIENTO','COLE_COD_DANE').show(10)"
   ]
  },
  {
   "cell_type": "markdown",
   "metadata": {},
   "source": [
    "## Anàlisis comparativo entre estudiantes y colegios segundo semestre"
   ]
  },
  {
   "cell_type": "code",
   "execution_count": 290,
   "metadata": {},
   "outputs": [],
   "source": [
    "# SE crea Dataframe de colegios segundo semestre\n",
    "dfc2 = spark.read.load(base + '/' + coleDic['20142'],\"com.databricks.spark.csv\",header='true',inferSchema='true',sep='|')\n",
    "dfc2 = dfc2.withColumn('COLE_COD_DANE', dfc2['COLE_COD_DANE'].cast(\"string\"))"
   ]
  },
  {
   "cell_type": "code",
   "execution_count": 291,
   "metadata": {},
   "outputs": [],
   "source": [
    "dfjoin2 = df2.join(dfc2, df2.COLE_COD_DANE_ESTABLECIMIENTO == dfc2.COLE_COD_DANE)"
   ]
  },
  {
   "cell_type": "code",
   "execution_count": 292,
   "metadata": {},
   "outputs": [
    {
     "name": "stdout",
     "output_type": "stream",
     "text": [
      "Nùmero de colegios coincidentes entre el archivo de estudiantes 2do semestre y colegios: 643385\n"
     ]
    }
   ],
   "source": [
    "print(\"Nùmero de colegios coincidentes entre el archivo de estudiantes 2do semestre y colegios:\", dfjoin2.count())"
   ]
  },
  {
   "cell_type": "code",
   "execution_count": 289,
   "metadata": {},
   "outputs": [
    {
     "name": "stdout",
     "output_type": "stream",
     "text": [
      "root\n",
      " |-- COLE_COD_DANE_ESTABLECIMIENTO: string (nullable = false)\n",
      " |-- COLE_NOMBRE_ESTABLECIMIENTO: string (nullable = false)\n",
      " |-- PUNT_LECTURA_CRITICA: float (nullable = false)\n",
      " |-- PUNT_MATEMATICAS: float (nullable = false)\n",
      " |-- PUNT_C_NATURALES: float (nullable = false)\n",
      " |-- PUNT_SOCIALES_CIUDADANAS: float (nullable = false)\n",
      " |-- PUNT_RAZONA_CUANTITATIVO: float (nullable = false)\n",
      " |-- PUNT_COMP_CIUDADANA: float (nullable = false)\n",
      " |-- PUNT_INGLES: float (nullable = false)\n",
      " |-- Suma: float (nullable = false)\n",
      " |-- PERIODO: integer (nullable = true)\n",
      " |-- COLE_COD_DANE: string (nullable = true)\n",
      " |-- COLE_INST_NOMBRE: string (nullable = true)\n",
      " |-- COLE_CODMPIO_COLEGIO: integer (nullable = true)\n",
      " |-- COLE_MPIO_MUNICIPIO: string (nullable = true)\n",
      " |-- COLE_COD_DEPTO: integer (nullable = true)\n",
      " |-- COLE_DEPTO_COLEGIO: string (nullable = true)\n",
      " |-- COLE_NATURALEZA: string (nullable = true)\n",
      " |-- COLE_GRADO: integer (nullable = true)\n",
      " |-- COLE_CALENDARIO_COLEGIO: string (nullable = true)\n",
      " |-- COLE_GENEROPOBLACION: string (nullable = true)\n",
      " |-- MATRICULADOS_ULTIMOS_3: integer (nullable = true)\n",
      " |-- EVALUADOS_ULTIMOS_3: integer (nullable = true)\n",
      " |-- INDICE_MATEMATICAS: string (nullable = true)\n",
      " |-- INDICE_C_NATURALES: string (nullable = true)\n",
      " |-- INDICE_SOCIALES_CIUDADANAS: string (nullable = true)\n",
      " |-- INDICE_LECTURA_CRITICA: string (nullable = true)\n",
      " |-- INDICE_INGLES: string (nullable = true)\n",
      " |-- INDICE_TOTAL: string (nullable = true)\n",
      " |-- COLE_CATEGORIA: string (nullable = true)\n",
      " |-- rankIndiceTotal: integer (nullable = true)\n",
      "\n"
     ]
    }
   ],
   "source": [
    "dfjoin2.printSchema()"
   ]
  },
  {
   "cell_type": "code",
   "execution_count": 288,
   "metadata": {},
   "outputs": [
    {
     "ename": "AnalysisException",
     "evalue": "\"cannot resolve '`rankProm`' given input columns: [COLE_NATURALEZA, COLE_GENEROPOBLACION, INDICE_SOCIALES_CIUDADANAS, INDICE_INGLES, PUNT_RAZONA_CUANTITATIVO, COLE_COD_DEPTO, PUNT_MATEMATICAS, INDICE_TOTAL, rankIndiceTotal, COLE_COD_DANE, INDICE_LECTURA_CRITICA, COLE_DEPTO_COLEGIO, COLE_NOMBRE_ESTABLECIMIENTO, COLE_GRADO, PUNT_LECTURA_CRITICA, COLE_CALENDARIO_COLEGIO, COLE_COD_DANE_ESTABLECIMIENTO, PUNT_C_NATURALES, PUNT_COMP_CIUDADANA, PUNT_INGLES, PUNT_SOCIALES_CIUDADANAS, COLE_INST_NOMBRE, PERIODO, COLE_MPIO_MUNICIPIO, COLE_CODMPIO_COLEGIO, Suma, INDICE_MATEMATICAS, MATRICULADOS_ULTIMOS_3, EVALUADOS_ULTIMOS_3, INDICE_C_NATURALES, COLE_CATEGORIA];;\\n'Project ['rankProm, rankIndiceTotal#18866, INDICE_TOTAL#18654, COLE_COD_DANE_ESTABLECIMIENTO#17247, COLE_NOMBRE_ESTABLECIMIENTO#17266, INDICE_TOTAL#18654]\\n+- Project [COLE_COD_DANE_ESTABLECIMIENTO#17247, COLE_NOMBRE_ESTABLECIMIENTO#17266, PUNT_LECTURA_CRITICA#16984, PUNT_MATEMATICAS#17023, PUNT_C_NATURALES#17062, PUNT_SOCIALES_CIUDADANAS#17101, PUNT_RAZONA_CUANTITATIVO#17140, PUNT_COMP_CIUDADANA#17179, PUNT_INGLES#17218, Suma#17415, PERIODO#18636, COLE_COD_DANE#18676, COLE_INST_NOMBRE#18638, COLE_CODMPIO_COLEGIO#18639, COLE_MPIO_MUNICIPIO#18640, COLE_COD_DEPTO#18641, COLE_DEPTO_COLEGIO#18642, COLE_NATURALEZA#18643, COLE_GRADO#18644, COLE_CALENDARIO_COLEGIO#18645, COLE_GENEROPOBLACION#18646, MATRICULADOS_ULTIMOS_3#18647, EVALUADOS_ULTIMOS_3#18648, INDICE_MATEMATICAS#18649, ... 7 more fields]\\n   +- Project [COLE_COD_DANE_ESTABLECIMIENTO#17247, COLE_NOMBRE_ESTABLECIMIENTO#17266, PUNT_LECTURA_CRITICA#16984, PUNT_MATEMATICAS#17023, PUNT_C_NATURALES#17062, PUNT_SOCIALES_CIUDADANAS#17101, PUNT_RAZONA_CUANTITATIVO#17140, PUNT_COMP_CIUDADANA#17179, PUNT_INGLES#17218, Suma#17415, PERIODO#18636, COLE_COD_DANE#18676, COLE_INST_NOMBRE#18638, COLE_CODMPIO_COLEGIO#18639, COLE_MPIO_MUNICIPIO#18640, COLE_COD_DEPTO#18641, COLE_DEPTO_COLEGIO#18642, COLE_NATURALEZA#18643, COLE_GRADO#18644, COLE_CALENDARIO_COLEGIO#18645, COLE_GENEROPOBLACION#18646, MATRICULADOS_ULTIMOS_3#18647, EVALUADOS_ULTIMOS_3#18648, INDICE_MATEMATICAS#18649, ... 8 more fields]\\n      +- Window [dense_rank(INDICE_TOTAL#18654) windowspecdefinition(INDICE_TOTAL#18654 DESC NULLS LAST, specifiedwindowframe(RowFrame, unboundedpreceding$(), currentrow$())) AS rankIndiceTotal#18866], [INDICE_TOTAL#18654 DESC NULLS LAST]\\n         +- Project [COLE_COD_DANE_ESTABLECIMIENTO#17247, COLE_NOMBRE_ESTABLECIMIENTO#17266, PUNT_LECTURA_CRITICA#16984, PUNT_MATEMATICAS#17023, PUNT_C_NATURALES#17062, PUNT_SOCIALES_CIUDADANAS#17101, PUNT_RAZONA_CUANTITATIVO#17140, PUNT_COMP_CIUDADANA#17179, PUNT_INGLES#17218, Suma#17415, PERIODO#18636, COLE_COD_DANE#18676, COLE_INST_NOMBRE#18638, COLE_CODMPIO_COLEGIO#18639, COLE_MPIO_MUNICIPIO#18640, COLE_COD_DEPTO#18641, COLE_DEPTO_COLEGIO#18642, COLE_NATURALEZA#18643, COLE_GRADO#18644, COLE_CALENDARIO_COLEGIO#18645, COLE_GENEROPOBLACION#18646, MATRICULADOS_ULTIMOS_3#18647, EVALUADOS_ULTIMOS_3#18648, INDICE_MATEMATICAS#18649, ... 6 more fields]\\n            +- Project [COLE_COD_DANE_ESTABLECIMIENTO#17247, COLE_NOMBRE_ESTABLECIMIENTO#17266, PUNT_LECTURA_CRITICA#16984, PUNT_MATEMATICAS#17023, PUNT_C_NATURALES#17062, PUNT_SOCIALES_CIUDADANAS#17101, PUNT_RAZONA_CUANTITATIVO#17140, PUNT_COMP_CIUDADANA#17179, PUNT_INGLES#17218, Suma#17415, PERIODO#18636, COLE_COD_DANE#18676, COLE_INST_NOMBRE#18638, COLE_CODMPIO_COLEGIO#18639, COLE_MPIO_MUNICIPIO#18640, COLE_COD_DEPTO#18641, COLE_DEPTO_COLEGIO#18642, COLE_NATURALEZA#18643, COLE_GRADO#18644, COLE_CALENDARIO_COLEGIO#18645, COLE_GENEROPOBLACION#18646, MATRICULADOS_ULTIMOS_3#18647, EVALUADOS_ULTIMOS_3#18648, INDICE_MATEMATICAS#18649, ... 7 more fields]\\n               +- Project [COLE_COD_DANE_ESTABLECIMIENTO#17247, COLE_NOMBRE_ESTABLECIMIENTO#17266, PUNT_LECTURA_CRITICA#16984, PUNT_MATEMATICAS#17023, PUNT_C_NATURALES#17062, PUNT_SOCIALES_CIUDADANAS#17101, PUNT_RAZONA_CUANTITATIVO#17140, PUNT_COMP_CIUDADANA#17179, PUNT_INGLES#17218, Suma#17415, PERIODO#18636, COLE_COD_DANE#18676, COLE_INST_NOMBRE#18638, COLE_CODMPIO_COLEGIO#18639, COLE_MPIO_MUNICIPIO#18640, COLE_COD_DEPTO#18641, COLE_DEPTO_COLEGIO#18642, COLE_NATURALEZA#18643, COLE_GRADO#18644, COLE_CALENDARIO_COLEGIO#18645, COLE_GENEROPOBLACION#18646, MATRICULADOS_ULTIMOS_3#18647, EVALUADOS_ULTIMOS_3#18648, INDICE_MATEMATICAS#18649, ... 8 more fields]\\n                  +- Window [dense_rank(INDICE_TOTAL#18654) windowspecdefinition(INDICE_TOTAL#18654 DESC NULLS LAST, specifiedwindowframe(RowFrame, unboundedpreceding$(), currentrow$())) AS rankIndiceTotal#18826], [INDICE_TOTAL#18654 DESC NULLS LAST]\\n                     +- Project [COLE_COD_DANE_ESTABLECIMIENTO#17247, COLE_NOMBRE_ESTABLECIMIENTO#17266, PUNT_LECTURA_CRITICA#16984, PUNT_MATEMATICAS#17023, PUNT_C_NATURALES#17062, PUNT_SOCIALES_CIUDADANAS#17101, PUNT_RAZONA_CUANTITATIVO#17140, PUNT_COMP_CIUDADANA#17179, PUNT_INGLES#17218, Suma#17415, PERIODO#18636, COLE_COD_DANE#18676, COLE_INST_NOMBRE#18638, COLE_CODMPIO_COLEGIO#18639, COLE_MPIO_MUNICIPIO#18640, COLE_COD_DEPTO#18641, COLE_DEPTO_COLEGIO#18642, COLE_NATURALEZA#18643, COLE_GRADO#18644, COLE_CALENDARIO_COLEGIO#18645, COLE_GENEROPOBLACION#18646, MATRICULADOS_ULTIMOS_3#18647, EVALUADOS_ULTIMOS_3#18648, INDICE_MATEMATICAS#18649, ... 6 more fields]\\n                        +- Join Inner, (COLE_COD_DANE_ESTABLECIMIENTO#17247 = COLE_COD_DANE#18676)\\n                           :- Project [COLE_COD_DANE_ESTABLECIMIENTO#17247, COLE_NOMBRE_ESTABLECIMIENTO#17266, PUNT_LECTURA_CRITICA#16984, PUNT_MATEMATICAS#17023, PUNT_C_NATURALES#17062, PUNT_SOCIALES_CIUDADANAS#17101, PUNT_RAZONA_CUANTITATIVO#17140, PUNT_COMP_CIUDADANA#17179, PUNT_INGLES#17218, ((((((PUNT_LECTURA_CRITICA#16984 + PUNT_MATEMATICAS#17023) + PUNT_C_NATURALES#17062) + PUNT_SOCIALES_CIUDADANAS#17101) + PUNT_RAZONA_CUANTITATIVO#17140) + PUNT_COMP_CIUDADANA#17179) + PUNT_INGLES#17218) AS Suma#17415]\\n                           :  +- Project [COLE_COD_DANE_ESTABLECIMIENTO#17247, coalesce(COLE_NOMBRE_ESTABLECIMIENTO#15705, cast(-- as string)) AS COLE_NOMBRE_ESTABLECIMIENTO#17266, PUNT_LECTURA_CRITICA#16984, PUNT_MATEMATICAS#17023, PUNT_C_NATURALES#17062, PUNT_SOCIALES_CIUDADANAS#17101, PUNT_RAZONA_CUANTITATIVO#17140, PUNT_COMP_CIUDADANA#17179, PUNT_INGLES#17218]\\n                           :     +- Project [coalesce(COLE_COD_DANE_ESTABLECIMIENTO#17228, cast(-- as string)) AS COLE_COD_DANE_ESTABLECIMIENTO#17247, COLE_NOMBRE_ESTABLECIMIENTO#15705, PUNT_LECTURA_CRITICA#16984, PUNT_MATEMATICAS#17023, PUNT_C_NATURALES#17062, PUNT_SOCIALES_CIUDADANAS#17101, PUNT_RAZONA_CUANTITATIVO#17140, PUNT_COMP_CIUDADANA#17179, PUNT_INGLES#17218]\\n                           :        +- Project [cast(COLE_COD_DANE_ESTABLECIMIENTO#15704L as string) AS COLE_COD_DANE_ESTABLECIMIENTO#17228, COLE_NOMBRE_ESTABLECIMIENTO#15705, PUNT_LECTURA_CRITICA#16984, PUNT_MATEMATICAS#17023, PUNT_C_NATURALES#17062, PUNT_SOCIALES_CIUDADANAS#17101, PUNT_RAZONA_CUANTITATIVO#17140, PUNT_COMP_CIUDADANA#17179, PUNT_INGLES#17218]\\n                           :           +- Project [COLE_COD_DANE_ESTABLECIMIENTO#15704L, COLE_NOMBRE_ESTABLECIMIENTO#15705, PUNT_LECTURA_CRITICA#16984, PUNT_MATEMATICAS#17023, PUNT_C_NATURALES#17062, PUNT_SOCIALES_CIUDADANAS#17101, PUNT_RAZONA_CUANTITATIVO#17140, PUNT_COMP_CIUDADANA#17179, coalesce(nanvl(PUNT_INGLES#17199, cast(null as float)), cast(0 as float)) AS PUNT_INGLES#17218]\\n                           :              +- Project [COLE_COD_DANE_ESTABLECIMIENTO#15704L, COLE_NOMBRE_ESTABLECIMIENTO#15705, PUNT_LECTURA_CRITICA#16984, PUNT_MATEMATICAS#17023, PUNT_C_NATURALES#17062, PUNT_SOCIALES_CIUDADANAS#17101, PUNT_RAZONA_CUANTITATIVO#17140, PUNT_COMP_CIUDADANA#17179, cast(PUNT_INGLES#17189 as float) AS PUNT_INGLES#17199]\\n                           :                 +- Project [COLE_COD_DANE_ESTABLECIMIENTO#15704L, COLE_NOMBRE_ESTABLECIMIENTO#15705, PUNT_LECTURA_CRITICA#16984, PUNT_MATEMATICAS#17023, PUNT_C_NATURALES#17062, PUNT_SOCIALES_CIUDADANAS#17101, PUNT_RAZONA_CUANTITATIVO#17140, PUNT_COMP_CIUDADANA#17179, regexp_replace(cast(PUNT_INGLES#15737 as string), ,, .) AS PUNT_INGLES#17189]\\n                           :                    +- Project [COLE_COD_DANE_ESTABLECIMIENTO#15704L, COLE_NOMBRE_ESTABLECIMIENTO#15705, PUNT_LECTURA_CRITICA#16984, PUNT_MATEMATICAS#17023, PUNT_C_NATURALES#17062, PUNT_SOCIALES_CIUDADANAS#17101, PUNT_RAZONA_CUANTITATIVO#17140, coalesce(nanvl(PUNT_COMP_CIUDADANA#17160, cast(null as float)), cast(0 as float)) AS PUNT_COMP_CIUDADANA#17179, PUNT_INGLES#15737]\\n                           :                       +- Project [COLE_COD_DANE_ESTABLECIMIENTO#15704L, COLE_NOMBRE_ESTABLECIMIENTO#15705, PUNT_LECTURA_CRITICA#16984, PUNT_MATEMATICAS#17023, PUNT_C_NATURALES#17062, PUNT_SOCIALES_CIUDADANAS#17101, PUNT_RAZONA_CUANTITATIVO#17140, cast(PUNT_COMP_CIUDADANA#17150 as float) AS PUNT_COMP_CIUDADANA#17160, PUNT_INGLES#15737]\\n                           :                          +- Project [COLE_COD_DANE_ESTABLECIMIENTO#15704L, COLE_NOMBRE_ESTABLECIMIENTO#15705, PUNT_LECTURA_CRITICA#16984, PUNT_MATEMATICAS#17023, PUNT_C_NATURALES#17062, PUNT_SOCIALES_CIUDADANAS#17101, PUNT_RAZONA_CUANTITATIVO#17140, regexp_replace(cast(PUNT_COMP_CIUDADANA#15735 as string), ,, .) AS PUNT_COMP_CIUDADANA#17150, PUNT_INGLES#15737]\\n                           :                             +- Project [COLE_COD_DANE_ESTABLECIMIENTO#15704L, COLE_NOMBRE_ESTABLECIMIENTO#15705, PUNT_LECTURA_CRITICA#16984, PUNT_MATEMATICAS#17023, PUNT_C_NATURALES#17062, PUNT_SOCIALES_CIUDADANAS#17101, coalesce(nanvl(PUNT_RAZONA_CUANTITATIVO#17121, cast(null as float)), cast(0 as float)) AS PUNT_RAZONA_CUANTITATIVO#17140, PUNT_COMP_CIUDADANA#15735, PUNT_INGLES#15737]\\n                           :                                +- Project [COLE_COD_DANE_ESTABLECIMIENTO#15704L, COLE_NOMBRE_ESTABLECIMIENTO#15705, PUNT_LECTURA_CRITICA#16984, PUNT_MATEMATICAS#17023, PUNT_C_NATURALES#17062, PUNT_SOCIALES_CIUDADANAS#17101, cast(PUNT_RAZONA_CUANTITATIVO#17111 as float) AS PUNT_RAZONA_CUANTITATIVO#17121, PUNT_COMP_CIUDADANA#15735, PUNT_INGLES#15737]\\n                           :                                   +- Project [COLE_COD_DANE_ESTABLECIMIENTO#15704L, COLE_NOMBRE_ESTABLECIMIENTO#15705, PUNT_LECTURA_CRITICA#16984, PUNT_MATEMATICAS#17023, PUNT_C_NATURALES#17062, PUNT_SOCIALES_CIUDADANAS#17101, regexp_replace(cast(PUNT_RAZONA_CUANTITATIVO#15733 as string), ,, .) AS PUNT_RAZONA_CUANTITATIVO#17111, PUNT_COMP_CIUDADANA#15735, PUNT_INGLES#15737]\\n                           :                                      +- Project [COLE_COD_DANE_ESTABLECIMIENTO#15704L, COLE_NOMBRE_ESTABLECIMIENTO#15705, PUNT_LECTURA_CRITICA#16984, PUNT_MATEMATICAS#17023, PUNT_C_NATURALES#17062, coalesce(nanvl(PUNT_SOCIALES_CIUDADANAS#17082, cast(null as float)), cast(0 as float)) AS PUNT_SOCIALES_CIUDADANAS#17101, PUNT_RAZONA_CUANTITATIVO#15733, PUNT_COMP_CIUDADANA#15735, PUNT_INGLES#15737]\\n                           :                                         +- Project [COLE_COD_DANE_ESTABLECIMIENTO#15704L, COLE_NOMBRE_ESTABLECIMIENTO#15705, PUNT_LECTURA_CRITICA#16984, PUNT_MATEMATICAS#17023, PUNT_C_NATURALES#17062, cast(PUNT_SOCIALES_CIUDADANAS#17072 as float) AS PUNT_SOCIALES_CIUDADANAS#17082, PUNT_RAZONA_CUANTITATIVO#15733, PUNT_COMP_CIUDADANA#15735, PUNT_INGLES#15737]\\n                           :                                            +- Project [COLE_COD_DANE_ESTABLECIMIENTO#15704L, COLE_NOMBRE_ESTABLECIMIENTO#15705, PUNT_LECTURA_CRITICA#16984, PUNT_MATEMATICAS#17023, PUNT_C_NATURALES#17062, regexp_replace(cast(PUNT_SOCIALES_CIUDADANAS#15731 as string), ,, .) AS PUNT_SOCIALES_CIUDADANAS#17072, PUNT_RAZONA_CUANTITATIVO#15733, PUNT_COMP_CIUDADANA#15735, PUNT_INGLES#15737]\\n                           :                                               +- Project [COLE_COD_DANE_ESTABLECIMIENTO#15704L, COLE_NOMBRE_ESTABLECIMIENTO#15705, PUNT_LECTURA_CRITICA#16984, PUNT_MATEMATICAS#17023, coalesce(nanvl(PUNT_C_NATURALES#17043, cast(null as float)), cast(0 as float)) AS PUNT_C_NATURALES#17062, PUNT_SOCIALES_CIUDADANAS#15731, PUNT_RAZONA_CUANTITATIVO#15733, PUNT_COMP_CIUDADANA#15735, PUNT_INGLES#15737]\\n                           :                                                  +- Project [COLE_COD_DANE_ESTABLECIMIENTO#15704L, COLE_NOMBRE_ESTABLECIMIENTO#15705, PUNT_LECTURA_CRITICA#16984, PUNT_MATEMATICAS#17023, cast(PUNT_C_NATURALES#17033 as float) AS PUNT_C_NATURALES#17043, PUNT_SOCIALES_CIUDADANAS#15731, PUNT_RAZONA_CUANTITATIVO#15733, PUNT_COMP_CIUDADANA#15735, PUNT_INGLES#15737]\\n                           :                                                     +- Project [COLE_COD_DANE_ESTABLECIMIENTO#15704L, COLE_NOMBRE_ESTABLECIMIENTO#15705, PUNT_LECTURA_CRITICA#16984, PUNT_MATEMATICAS#17023, regexp_replace(cast(PUNT_C_NATURALES#15729 as string), ,, .) AS PUNT_C_NATURALES#17033, PUNT_SOCIALES_CIUDADANAS#15731, PUNT_RAZONA_CUANTITATIVO#15733, PUNT_COMP_CIUDADANA#15735, PUNT_INGLES#15737]\\n                           :                                                        +- Project [COLE_COD_DANE_ESTABLECIMIENTO#15704L, COLE_NOMBRE_ESTABLECIMIENTO#15705, PUNT_LECTURA_CRITICA#16984, coalesce(nanvl(PUNT_MATEMATICAS#17004, cast(null as float)), cast(0 as float)) AS PUNT_MATEMATICAS#17023, PUNT_C_NATURALES#15729, PUNT_SOCIALES_CIUDADANAS#15731, PUNT_RAZONA_CUANTITATIVO#15733, PUNT_COMP_CIUDADANA#15735, PUNT_INGLES#15737]\\n                           :                                                           +- Project [COLE_COD_DANE_ESTABLECIMIENTO#15704L, COLE_NOMBRE_ESTABLECIMIENTO#15705, PUNT_LECTURA_CRITICA#16984, cast(PUNT_MATEMATICAS#16994 as float) AS PUNT_MATEMATICAS#17004, PUNT_C_NATURALES#15729, PUNT_SOCIALES_CIUDADANAS#15731, PUNT_RAZONA_CUANTITATIVO#15733, PUNT_COMP_CIUDADANA#15735, PUNT_INGLES#15737]\\n                           :                                                              +- Project [COLE_COD_DANE_ESTABLECIMIENTO#15704L, COLE_NOMBRE_ESTABLECIMIENTO#15705, PUNT_LECTURA_CRITICA#16984, regexp_replace(cast(PUNT_MATEMATICAS#15727 as string), ,, .) AS PUNT_MATEMATICAS#16994, PUNT_C_NATURALES#15729, PUNT_SOCIALES_CIUDADANAS#15731, PUNT_RAZONA_CUANTITATIVO#15733, PUNT_COMP_CIUDADANA#15735, PUNT_INGLES#15737]\\n                           :                                                                 +- Project [COLE_COD_DANE_ESTABLECIMIENTO#15704L, COLE_NOMBRE_ESTABLECIMIENTO#15705, coalesce(nanvl(PUNT_LECTURA_CRITICA#16965, cast(null as float)), cast(0 as float)) AS PUNT_LECTURA_CRITICA#16984, PUNT_MATEMATICAS#15727, PUNT_C_NATURALES#15729, PUNT_SOCIALES_CIUDADANAS#15731, PUNT_RAZONA_CUANTITATIVO#15733, PUNT_COMP_CIUDADANA#15735, PUNT_INGLES#15737]\\n                           :                                                                    +- Project [COLE_COD_DANE_ESTABLECIMIENTO#15704L, COLE_NOMBRE_ESTABLECIMIENTO#15705, cast(PUNT_LECTURA_CRITICA#16955 as float) AS PUNT_LECTURA_CRITICA#16965, PUNT_MATEMATICAS#15727, PUNT_C_NATURALES#15729, PUNT_SOCIALES_CIUDADANAS#15731, PUNT_RAZONA_CUANTITATIVO#15733, PUNT_COMP_CIUDADANA#15735, PUNT_INGLES#15737]\\n                           :                                                                       +- Project [COLE_COD_DANE_ESTABLECIMIENTO#15704L, COLE_NOMBRE_ESTABLECIMIENTO#15705, regexp_replace(cast(PUNT_LECTURA_CRITICA#15725 as string), ,, .) AS PUNT_LECTURA_CRITICA#16955, PUNT_MATEMATICAS#15727, PUNT_C_NATURALES#15729, PUNT_SOCIALES_CIUDADANAS#15731, PUNT_RAZONA_CUANTITATIVO#15733, PUNT_COMP_CIUDADANA#15735, PUNT_INGLES#15737]\\n                           :                                                                          +- Project [COLE_COD_DANE_ESTABLECIMIENTO#15704L, COLE_NOMBRE_ESTABLECIMIENTO#15705, PUNT_LECTURA_CRITICA#15725, PUNT_MATEMATICAS#15727, PUNT_C_NATURALES#15729, PUNT_SOCIALES_CIUDADANAS#15731, PUNT_RAZONA_CUANTITATIVO#15733, PUNT_COMP_CIUDADANA#15735, PUNT_INGLES#15737]\\n                           :                                                                             +- Relation[ESTU_TIPODOCUMENTO#15608,ESTU_NACIONALIDAD#15609,ESTU_GENERO#15610,ESTU_FECHANACIMIENTO#15611,PERIODO#15612,ESTU_CONSECUTIVO#15613,ESTU_ESTUDIANTE#15614,ESTU_PAIS_RESIDE#15615,ESTU_ETNIA#15616,ESTU_LIMITA_MOTRIZ#15617,ESTU_LIMITA_INVIDENTE#15618,ESTU_LIMITA_CONDICIONESPECIAL#15619,ESTU_LIMITA_SORDO#15620,ESTU_LIMITA_SDOWN#15621,ESTU_LIMITA_AUTISMO#15622,ESTU_DEPTO_RESIDE#15623,ESTU_COD_RESIDE_DEPTO#15624,ESTU_MCPIO_RESIDE#15625,ESTU_COD_RESIDE_MCPIO#15626,ESTU_AREARESIDE#15627,ESTU_VALORPENSIONCOLEGIO#15628,ESTU_VECESPRESENTOEXAMEN#15629,FAMI_EDUCACIONPADRE#15630,FAMI_EDUCACIONMADRE#15631,... 113 more fields] csv\\n                           +- Project [PERIODO#18636, cast(COLE_COD_DANE#18637L as string) AS COLE_COD_DANE#18676, COLE_INST_NOMBRE#18638, COLE_CODMPIO_COLEGIO#18639, COLE_MPIO_MUNICIPIO#18640, COLE_COD_DEPTO#18641, COLE_DEPTO_COLEGIO#18642, COLE_NATURALEZA#18643, COLE_GRADO#18644, COLE_CALENDARIO_COLEGIO#18645, COLE_GENEROPOBLACION#18646, MATRICULADOS_ULTIMOS_3#18647, EVALUADOS_ULTIMOS_3#18648, INDICE_MATEMATICAS#18649, INDICE_C_NATURALES#18650, INDICE_SOCIALES_CIUDADANAS#18651, INDICE_LECTURA_CRITICA#18652, INDICE_INGLES#18653, INDICE_TOTAL#18654, COLE_CATEGORIA#18655]\\n                              +- Relation[PERIODO#18636,COLE_COD_DANE#18637L,COLE_INST_NOMBRE#18638,COLE_CODMPIO_COLEGIO#18639,COLE_MPIO_MUNICIPIO#18640,COLE_COD_DEPTO#18641,COLE_DEPTO_COLEGIO#18642,COLE_NATURALEZA#18643,COLE_GRADO#18644,COLE_CALENDARIO_COLEGIO#18645,COLE_GENEROPOBLACION#18646,MATRICULADOS_ULTIMOS_3#18647,EVALUADOS_ULTIMOS_3#18648,INDICE_MATEMATICAS#18649,INDICE_C_NATURALES#18650,INDICE_SOCIALES_CIUDADANAS#18651,INDICE_LECTURA_CRITICA#18652,INDICE_INGLES#18653,INDICE_TOTAL#18654,COLE_CATEGORIA#18655] csv\\n\"",
     "output_type": "error",
     "traceback": [
      "\u001b[0;31m---------------------------------------------------------------------------\u001b[0m",
      "\u001b[0;31mPy4JJavaError\u001b[0m                             Traceback (most recent call last)",
      "\u001b[0;32m/usr/local/spark/spark-2.4.3-bin-hadoop2.7/python/pyspark/sql/utils.py\u001b[0m in \u001b[0;36mdeco\u001b[0;34m(*a, **kw)\u001b[0m\n\u001b[1;32m     62\u001b[0m         \u001b[0;32mtry\u001b[0m\u001b[0;34m:\u001b[0m\u001b[0;34m\u001b[0m\u001b[0;34m\u001b[0m\u001b[0m\n\u001b[0;32m---> 63\u001b[0;31m             \u001b[0;32mreturn\u001b[0m \u001b[0mf\u001b[0m\u001b[0;34m(\u001b[0m\u001b[0;34m*\u001b[0m\u001b[0ma\u001b[0m\u001b[0;34m,\u001b[0m \u001b[0;34m**\u001b[0m\u001b[0mkw\u001b[0m\u001b[0;34m)\u001b[0m\u001b[0;34m\u001b[0m\u001b[0;34m\u001b[0m\u001b[0m\n\u001b[0m\u001b[1;32m     64\u001b[0m         \u001b[0;32mexcept\u001b[0m \u001b[0mpy4j\u001b[0m\u001b[0;34m.\u001b[0m\u001b[0mprotocol\u001b[0m\u001b[0;34m.\u001b[0m\u001b[0mPy4JJavaError\u001b[0m \u001b[0;32mas\u001b[0m \u001b[0me\u001b[0m\u001b[0;34m:\u001b[0m\u001b[0;34m\u001b[0m\u001b[0;34m\u001b[0m\u001b[0m\n",
      "\u001b[0;32m/usr/local/spark/spark-2.4.3-bin-hadoop2.7/python/lib/py4j-0.10.7-src.zip/py4j/protocol.py\u001b[0m in \u001b[0;36mget_return_value\u001b[0;34m(answer, gateway_client, target_id, name)\u001b[0m\n\u001b[1;32m    327\u001b[0m                     \u001b[0;34m\"An error occurred while calling {0}{1}{2}.\\n\"\u001b[0m\u001b[0;34m.\u001b[0m\u001b[0;34m\u001b[0m\u001b[0;34m\u001b[0m\u001b[0m\n\u001b[0;32m--> 328\u001b[0;31m                     format(target_id, \".\", name), value)\n\u001b[0m\u001b[1;32m    329\u001b[0m             \u001b[0;32melse\u001b[0m\u001b[0;34m:\u001b[0m\u001b[0;34m\u001b[0m\u001b[0;34m\u001b[0m\u001b[0m\n",
      "\u001b[0;31mPy4JJavaError\u001b[0m: An error occurred while calling o3889.select.\n: org.apache.spark.sql.AnalysisException: cannot resolve '`rankProm`' given input columns: [COLE_NATURALEZA, COLE_GENEROPOBLACION, INDICE_SOCIALES_CIUDADANAS, INDICE_INGLES, PUNT_RAZONA_CUANTITATIVO, COLE_COD_DEPTO, PUNT_MATEMATICAS, INDICE_TOTAL, rankIndiceTotal, COLE_COD_DANE, INDICE_LECTURA_CRITICA, COLE_DEPTO_COLEGIO, COLE_NOMBRE_ESTABLECIMIENTO, COLE_GRADO, PUNT_LECTURA_CRITICA, COLE_CALENDARIO_COLEGIO, COLE_COD_DANE_ESTABLECIMIENTO, PUNT_C_NATURALES, PUNT_COMP_CIUDADANA, PUNT_INGLES, PUNT_SOCIALES_CIUDADANAS, COLE_INST_NOMBRE, PERIODO, COLE_MPIO_MUNICIPIO, COLE_CODMPIO_COLEGIO, Suma, INDICE_MATEMATICAS, MATRICULADOS_ULTIMOS_3, EVALUADOS_ULTIMOS_3, INDICE_C_NATURALES, COLE_CATEGORIA];;\n'Project ['rankProm, rankIndiceTotal#18866, INDICE_TOTAL#18654, COLE_COD_DANE_ESTABLECIMIENTO#17247, COLE_NOMBRE_ESTABLECIMIENTO#17266, INDICE_TOTAL#18654]\n+- Project [COLE_COD_DANE_ESTABLECIMIENTO#17247, COLE_NOMBRE_ESTABLECIMIENTO#17266, PUNT_LECTURA_CRITICA#16984, PUNT_MATEMATICAS#17023, PUNT_C_NATURALES#17062, PUNT_SOCIALES_CIUDADANAS#17101, PUNT_RAZONA_CUANTITATIVO#17140, PUNT_COMP_CIUDADANA#17179, PUNT_INGLES#17218, Suma#17415, PERIODO#18636, COLE_COD_DANE#18676, COLE_INST_NOMBRE#18638, COLE_CODMPIO_COLEGIO#18639, COLE_MPIO_MUNICIPIO#18640, COLE_COD_DEPTO#18641, COLE_DEPTO_COLEGIO#18642, COLE_NATURALEZA#18643, COLE_GRADO#18644, COLE_CALENDARIO_COLEGIO#18645, COLE_GENEROPOBLACION#18646, MATRICULADOS_ULTIMOS_3#18647, EVALUADOS_ULTIMOS_3#18648, INDICE_MATEMATICAS#18649, ... 7 more fields]\n   +- Project [COLE_COD_DANE_ESTABLECIMIENTO#17247, COLE_NOMBRE_ESTABLECIMIENTO#17266, PUNT_LECTURA_CRITICA#16984, PUNT_MATEMATICAS#17023, PUNT_C_NATURALES#17062, PUNT_SOCIALES_CIUDADANAS#17101, PUNT_RAZONA_CUANTITATIVO#17140, PUNT_COMP_CIUDADANA#17179, PUNT_INGLES#17218, Suma#17415, PERIODO#18636, COLE_COD_DANE#18676, COLE_INST_NOMBRE#18638, COLE_CODMPIO_COLEGIO#18639, COLE_MPIO_MUNICIPIO#18640, COLE_COD_DEPTO#18641, COLE_DEPTO_COLEGIO#18642, COLE_NATURALEZA#18643, COLE_GRADO#18644, COLE_CALENDARIO_COLEGIO#18645, COLE_GENEROPOBLACION#18646, MATRICULADOS_ULTIMOS_3#18647, EVALUADOS_ULTIMOS_3#18648, INDICE_MATEMATICAS#18649, ... 8 more fields]\n      +- Window [dense_rank(INDICE_TOTAL#18654) windowspecdefinition(INDICE_TOTAL#18654 DESC NULLS LAST, specifiedwindowframe(RowFrame, unboundedpreceding$(), currentrow$())) AS rankIndiceTotal#18866], [INDICE_TOTAL#18654 DESC NULLS LAST]\n         +- Project [COLE_COD_DANE_ESTABLECIMIENTO#17247, COLE_NOMBRE_ESTABLECIMIENTO#17266, PUNT_LECTURA_CRITICA#16984, PUNT_MATEMATICAS#17023, PUNT_C_NATURALES#17062, PUNT_SOCIALES_CIUDADANAS#17101, PUNT_RAZONA_CUANTITATIVO#17140, PUNT_COMP_CIUDADANA#17179, PUNT_INGLES#17218, Suma#17415, PERIODO#18636, COLE_COD_DANE#18676, COLE_INST_NOMBRE#18638, COLE_CODMPIO_COLEGIO#18639, COLE_MPIO_MUNICIPIO#18640, COLE_COD_DEPTO#18641, COLE_DEPTO_COLEGIO#18642, COLE_NATURALEZA#18643, COLE_GRADO#18644, COLE_CALENDARIO_COLEGIO#18645, COLE_GENEROPOBLACION#18646, MATRICULADOS_ULTIMOS_3#18647, EVALUADOS_ULTIMOS_3#18648, INDICE_MATEMATICAS#18649, ... 6 more fields]\n            +- Project [COLE_COD_DANE_ESTABLECIMIENTO#17247, COLE_NOMBRE_ESTABLECIMIENTO#17266, PUNT_LECTURA_CRITICA#16984, PUNT_MATEMATICAS#17023, PUNT_C_NATURALES#17062, PUNT_SOCIALES_CIUDADANAS#17101, PUNT_RAZONA_CUANTITATIVO#17140, PUNT_COMP_CIUDADANA#17179, PUNT_INGLES#17218, Suma#17415, PERIODO#18636, COLE_COD_DANE#18676, COLE_INST_NOMBRE#18638, COLE_CODMPIO_COLEGIO#18639, COLE_MPIO_MUNICIPIO#18640, COLE_COD_DEPTO#18641, COLE_DEPTO_COLEGIO#18642, COLE_NATURALEZA#18643, COLE_GRADO#18644, COLE_CALENDARIO_COLEGIO#18645, COLE_GENEROPOBLACION#18646, MATRICULADOS_ULTIMOS_3#18647, EVALUADOS_ULTIMOS_3#18648, INDICE_MATEMATICAS#18649, ... 7 more fields]\n               +- Project [COLE_COD_DANE_ESTABLECIMIENTO#17247, COLE_NOMBRE_ESTABLECIMIENTO#17266, PUNT_LECTURA_CRITICA#16984, PUNT_MATEMATICAS#17023, PUNT_C_NATURALES#17062, PUNT_SOCIALES_CIUDADANAS#17101, PUNT_RAZONA_CUANTITATIVO#17140, PUNT_COMP_CIUDADANA#17179, PUNT_INGLES#17218, Suma#17415, PERIODO#18636, COLE_COD_DANE#18676, COLE_INST_NOMBRE#18638, COLE_CODMPIO_COLEGIO#18639, COLE_MPIO_MUNICIPIO#18640, COLE_COD_DEPTO#18641, COLE_DEPTO_COLEGIO#18642, COLE_NATURALEZA#18643, COLE_GRADO#18644, COLE_CALENDARIO_COLEGIO#18645, COLE_GENEROPOBLACION#18646, MATRICULADOS_ULTIMOS_3#18647, EVALUADOS_ULTIMOS_3#18648, INDICE_MATEMATICAS#18649, ... 8 more fields]\n                  +- Window [dense_rank(INDICE_TOTAL#18654) windowspecdefinition(INDICE_TOTAL#18654 DESC NULLS LAST, specifiedwindowframe(RowFrame, unboundedpreceding$(), currentrow$())) AS rankIndiceTotal#18826], [INDICE_TOTAL#18654 DESC NULLS LAST]\n                     +- Project [COLE_COD_DANE_ESTABLECIMIENTO#17247, COLE_NOMBRE_ESTABLECIMIENTO#17266, PUNT_LECTURA_CRITICA#16984, PUNT_MATEMATICAS#17023, PUNT_C_NATURALES#17062, PUNT_SOCIALES_CIUDADANAS#17101, PUNT_RAZONA_CUANTITATIVO#17140, PUNT_COMP_CIUDADANA#17179, PUNT_INGLES#17218, Suma#17415, PERIODO#18636, COLE_COD_DANE#18676, COLE_INST_NOMBRE#18638, COLE_CODMPIO_COLEGIO#18639, COLE_MPIO_MUNICIPIO#18640, COLE_COD_DEPTO#18641, COLE_DEPTO_COLEGIO#18642, COLE_NATURALEZA#18643, COLE_GRADO#18644, COLE_CALENDARIO_COLEGIO#18645, COLE_GENEROPOBLACION#18646, MATRICULADOS_ULTIMOS_3#18647, EVALUADOS_ULTIMOS_3#18648, INDICE_MATEMATICAS#18649, ... 6 more fields]\n                        +- Join Inner, (COLE_COD_DANE_ESTABLECIMIENTO#17247 = COLE_COD_DANE#18676)\n                           :- Project [COLE_COD_DANE_ESTABLECIMIENTO#17247, COLE_NOMBRE_ESTABLECIMIENTO#17266, PUNT_LECTURA_CRITICA#16984, PUNT_MATEMATICAS#17023, PUNT_C_NATURALES#17062, PUNT_SOCIALES_CIUDADANAS#17101, PUNT_RAZONA_CUANTITATIVO#17140, PUNT_COMP_CIUDADANA#17179, PUNT_INGLES#17218, ((((((PUNT_LECTURA_CRITICA#16984 + PUNT_MATEMATICAS#17023) + PUNT_C_NATURALES#17062) + PUNT_SOCIALES_CIUDADANAS#17101) + PUNT_RAZONA_CUANTITATIVO#17140) + PUNT_COMP_CIUDADANA#17179) + PUNT_INGLES#17218) AS Suma#17415]\n                           :  +- Project [COLE_COD_DANE_ESTABLECIMIENTO#17247, coalesce(COLE_NOMBRE_ESTABLECIMIENTO#15705, cast(-- as string)) AS COLE_NOMBRE_ESTABLECIMIENTO#17266, PUNT_LECTURA_CRITICA#16984, PUNT_MATEMATICAS#17023, PUNT_C_NATURALES#17062, PUNT_SOCIALES_CIUDADANAS#17101, PUNT_RAZONA_CUANTITATIVO#17140, PUNT_COMP_CIUDADANA#17179, PUNT_INGLES#17218]\n                           :     +- Project [coalesce(COLE_COD_DANE_ESTABLECIMIENTO#17228, cast(-- as string)) AS COLE_COD_DANE_ESTABLECIMIENTO#17247, COLE_NOMBRE_ESTABLECIMIENTO#15705, PUNT_LECTURA_CRITICA#16984, PUNT_MATEMATICAS#17023, PUNT_C_NATURALES#17062, PUNT_SOCIALES_CIUDADANAS#17101, PUNT_RAZONA_CUANTITATIVO#17140, PUNT_COMP_CIUDADANA#17179, PUNT_INGLES#17218]\n                           :        +- Project [cast(COLE_COD_DANE_ESTABLECIMIENTO#15704L as string) AS COLE_COD_DANE_ESTABLECIMIENTO#17228, COLE_NOMBRE_ESTABLECIMIENTO#15705, PUNT_LECTURA_CRITICA#16984, PUNT_MATEMATICAS#17023, PUNT_C_NATURALES#17062, PUNT_SOCIALES_CIUDADANAS#17101, PUNT_RAZONA_CUANTITATIVO#17140, PUNT_COMP_CIUDADANA#17179, PUNT_INGLES#17218]\n                           :           +- Project [COLE_COD_DANE_ESTABLECIMIENTO#15704L, COLE_NOMBRE_ESTABLECIMIENTO#15705, PUNT_LECTURA_CRITICA#16984, PUNT_MATEMATICAS#17023, PUNT_C_NATURALES#17062, PUNT_SOCIALES_CIUDADANAS#17101, PUNT_RAZONA_CUANTITATIVO#17140, PUNT_COMP_CIUDADANA#17179, coalesce(nanvl(PUNT_INGLES#17199, cast(null as float)), cast(0 as float)) AS PUNT_INGLES#17218]\n                           :              +- Project [COLE_COD_DANE_ESTABLECIMIENTO#15704L, COLE_NOMBRE_ESTABLECIMIENTO#15705, PUNT_LECTURA_CRITICA#16984, PUNT_MATEMATICAS#17023, PUNT_C_NATURALES#17062, PUNT_SOCIALES_CIUDADANAS#17101, PUNT_RAZONA_CUANTITATIVO#17140, PUNT_COMP_CIUDADANA#17179, cast(PUNT_INGLES#17189 as float) AS PUNT_INGLES#17199]\n                           :                 +- Project [COLE_COD_DANE_ESTABLECIMIENTO#15704L, COLE_NOMBRE_ESTABLECIMIENTO#15705, PUNT_LECTURA_CRITICA#16984, PUNT_MATEMATICAS#17023, PUNT_C_NATURALES#17062, PUNT_SOCIALES_CIUDADANAS#17101, PUNT_RAZONA_CUANTITATIVO#17140, PUNT_COMP_CIUDADANA#17179, regexp_replace(cast(PUNT_INGLES#15737 as string), ,, .) AS PUNT_INGLES#17189]\n                           :                    +- Project [COLE_COD_DANE_ESTABLECIMIENTO#15704L, COLE_NOMBRE_ESTABLECIMIENTO#15705, PUNT_LECTURA_CRITICA#16984, PUNT_MATEMATICAS#17023, PUNT_C_NATURALES#17062, PUNT_SOCIALES_CIUDADANAS#17101, PUNT_RAZONA_CUANTITATIVO#17140, coalesce(nanvl(PUNT_COMP_CIUDADANA#17160, cast(null as float)), cast(0 as float)) AS PUNT_COMP_CIUDADANA#17179, PUNT_INGLES#15737]\n                           :                       +- Project [COLE_COD_DANE_ESTABLECIMIENTO#15704L, COLE_NOMBRE_ESTABLECIMIENTO#15705, PUNT_LECTURA_CRITICA#16984, PUNT_MATEMATICAS#17023, PUNT_C_NATURALES#17062, PUNT_SOCIALES_CIUDADANAS#17101, PUNT_RAZONA_CUANTITATIVO#17140, cast(PUNT_COMP_CIUDADANA#17150 as float) AS PUNT_COMP_CIUDADANA#17160, PUNT_INGLES#15737]\n                           :                          +- Project [COLE_COD_DANE_ESTABLECIMIENTO#15704L, COLE_NOMBRE_ESTABLECIMIENTO#15705, PUNT_LECTURA_CRITICA#16984, PUNT_MATEMATICAS#17023, PUNT_C_NATURALES#17062, PUNT_SOCIALES_CIUDADANAS#17101, PUNT_RAZONA_CUANTITATIVO#17140, regexp_replace(cast(PUNT_COMP_CIUDADANA#15735 as string), ,, .) AS PUNT_COMP_CIUDADANA#17150, PUNT_INGLES#15737]\n                           :                             +- Project [COLE_COD_DANE_ESTABLECIMIENTO#15704L, COLE_NOMBRE_ESTABLECIMIENTO#15705, PUNT_LECTURA_CRITICA#16984, PUNT_MATEMATICAS#17023, PUNT_C_NATURALES#17062, PUNT_SOCIALES_CIUDADANAS#17101, coalesce(nanvl(PUNT_RAZONA_CUANTITATIVO#17121, cast(null as float)), cast(0 as float)) AS PUNT_RAZONA_CUANTITATIVO#17140, PUNT_COMP_CIUDADANA#15735, PUNT_INGLES#15737]\n                           :                                +- Project [COLE_COD_DANE_ESTABLECIMIENTO#15704L, COLE_NOMBRE_ESTABLECIMIENTO#15705, PUNT_LECTURA_CRITICA#16984, PUNT_MATEMATICAS#17023, PUNT_C_NATURALES#17062, PUNT_SOCIALES_CIUDADANAS#17101, cast(PUNT_RAZONA_CUANTITATIVO#17111 as float) AS PUNT_RAZONA_CUANTITATIVO#17121, PUNT_COMP_CIUDADANA#15735, PUNT_INGLES#15737]\n                           :                                   +- Project [COLE_COD_DANE_ESTABLECIMIENTO#15704L, COLE_NOMBRE_ESTABLECIMIENTO#15705, PUNT_LECTURA_CRITICA#16984, PUNT_MATEMATICAS#17023, PUNT_C_NATURALES#17062, PUNT_SOCIALES_CIUDADANAS#17101, regexp_replace(cast(PUNT_RAZONA_CUANTITATIVO#15733 as string), ,, .) AS PUNT_RAZONA_CUANTITATIVO#17111, PUNT_COMP_CIUDADANA#15735, PUNT_INGLES#15737]\n                           :                                      +- Project [COLE_COD_DANE_ESTABLECIMIENTO#15704L, COLE_NOMBRE_ESTABLECIMIENTO#15705, PUNT_LECTURA_CRITICA#16984, PUNT_MATEMATICAS#17023, PUNT_C_NATURALES#17062, coalesce(nanvl(PUNT_SOCIALES_CIUDADANAS#17082, cast(null as float)), cast(0 as float)) AS PUNT_SOCIALES_CIUDADANAS#17101, PUNT_RAZONA_CUANTITATIVO#15733, PUNT_COMP_CIUDADANA#15735, PUNT_INGLES#15737]\n                           :                                         +- Project [COLE_COD_DANE_ESTABLECIMIENTO#15704L, COLE_NOMBRE_ESTABLECIMIENTO#15705, PUNT_LECTURA_CRITICA#16984, PUNT_MATEMATICAS#17023, PUNT_C_NATURALES#17062, cast(PUNT_SOCIALES_CIUDADANAS#17072 as float) AS PUNT_SOCIALES_CIUDADANAS#17082, PUNT_RAZONA_CUANTITATIVO#15733, PUNT_COMP_CIUDADANA#15735, PUNT_INGLES#15737]\n                           :                                            +- Project [COLE_COD_DANE_ESTABLECIMIENTO#15704L, COLE_NOMBRE_ESTABLECIMIENTO#15705, PUNT_LECTURA_CRITICA#16984, PUNT_MATEMATICAS#17023, PUNT_C_NATURALES#17062, regexp_replace(cast(PUNT_SOCIALES_CIUDADANAS#15731 as string), ,, .) AS PUNT_SOCIALES_CIUDADANAS#17072, PUNT_RAZONA_CUANTITATIVO#15733, PUNT_COMP_CIUDADANA#15735, PUNT_INGLES#15737]\n                           :                                               +- Project [COLE_COD_DANE_ESTABLECIMIENTO#15704L, COLE_NOMBRE_ESTABLECIMIENTO#15705, PUNT_LECTURA_CRITICA#16984, PUNT_MATEMATICAS#17023, coalesce(nanvl(PUNT_C_NATURALES#17043, cast(null as float)), cast(0 as float)) AS PUNT_C_NATURALES#17062, PUNT_SOCIALES_CIUDADANAS#15731, PUNT_RAZONA_CUANTITATIVO#15733, PUNT_COMP_CIUDADANA#15735, PUNT_INGLES#15737]\n                           :                                                  +- Project [COLE_COD_DANE_ESTABLECIMIENTO#15704L, COLE_NOMBRE_ESTABLECIMIENTO#15705, PUNT_LECTURA_CRITICA#16984, PUNT_MATEMATICAS#17023, cast(PUNT_C_NATURALES#17033 as float) AS PUNT_C_NATURALES#17043, PUNT_SOCIALES_CIUDADANAS#15731, PUNT_RAZONA_CUANTITATIVO#15733, PUNT_COMP_CIUDADANA#15735, PUNT_INGLES#15737]\n                           :                                                     +- Project [COLE_COD_DANE_ESTABLECIMIENTO#15704L, COLE_NOMBRE_ESTABLECIMIENTO#15705, PUNT_LECTURA_CRITICA#16984, PUNT_MATEMATICAS#17023, regexp_replace(cast(PUNT_C_NATURALES#15729 as string), ,, .) AS PUNT_C_NATURALES#17033, PUNT_SOCIALES_CIUDADANAS#15731, PUNT_RAZONA_CUANTITATIVO#15733, PUNT_COMP_CIUDADANA#15735, PUNT_INGLES#15737]\n                           :                                                        +- Project [COLE_COD_DANE_ESTABLECIMIENTO#15704L, COLE_NOMBRE_ESTABLECIMIENTO#15705, PUNT_LECTURA_CRITICA#16984, coalesce(nanvl(PUNT_MATEMATICAS#17004, cast(null as float)), cast(0 as float)) AS PUNT_MATEMATICAS#17023, PUNT_C_NATURALES#15729, PUNT_SOCIALES_CIUDADANAS#15731, PUNT_RAZONA_CUANTITATIVO#15733, PUNT_COMP_CIUDADANA#15735, PUNT_INGLES#15737]\n                           :                                                           +- Project [COLE_COD_DANE_ESTABLECIMIENTO#15704L, COLE_NOMBRE_ESTABLECIMIENTO#15705, PUNT_LECTURA_CRITICA#16984, cast(PUNT_MATEMATICAS#16994 as float) AS PUNT_MATEMATICAS#17004, PUNT_C_NATURALES#15729, PUNT_SOCIALES_CIUDADANAS#15731, PUNT_RAZONA_CUANTITATIVO#15733, PUNT_COMP_CIUDADANA#15735, PUNT_INGLES#15737]\n                           :                                                              +- Project [COLE_COD_DANE_ESTABLECIMIENTO#15704L, COLE_NOMBRE_ESTABLECIMIENTO#15705, PUNT_LECTURA_CRITICA#16984, regexp_replace(cast(PUNT_MATEMATICAS#15727 as string), ,, .) AS PUNT_MATEMATICAS#16994, PUNT_C_NATURALES#15729, PUNT_SOCIALES_CIUDADANAS#15731, PUNT_RAZONA_CUANTITATIVO#15733, PUNT_COMP_CIUDADANA#15735, PUNT_INGLES#15737]\n                           :                                                                 +- Project [COLE_COD_DANE_ESTABLECIMIENTO#15704L, COLE_NOMBRE_ESTABLECIMIENTO#15705, coalesce(nanvl(PUNT_LECTURA_CRITICA#16965, cast(null as float)), cast(0 as float)) AS PUNT_LECTURA_CRITICA#16984, PUNT_MATEMATICAS#15727, PUNT_C_NATURALES#15729, PUNT_SOCIALES_CIUDADANAS#15731, PUNT_RAZONA_CUANTITATIVO#15733, PUNT_COMP_CIUDADANA#15735, PUNT_INGLES#15737]\n                           :                                                                    +- Project [COLE_COD_DANE_ESTABLECIMIENTO#15704L, COLE_NOMBRE_ESTABLECIMIENTO#15705, cast(PUNT_LECTURA_CRITICA#16955 as float) AS PUNT_LECTURA_CRITICA#16965, PUNT_MATEMATICAS#15727, PUNT_C_NATURALES#15729, PUNT_SOCIALES_CIUDADANAS#15731, PUNT_RAZONA_CUANTITATIVO#15733, PUNT_COMP_CIUDADANA#15735, PUNT_INGLES#15737]\n                           :                                                                       +- Project [COLE_COD_DANE_ESTABLECIMIENTO#15704L, COLE_NOMBRE_ESTABLECIMIENTO#15705, regexp_replace(cast(PUNT_LECTURA_CRITICA#15725 as string), ,, .) AS PUNT_LECTURA_CRITICA#16955, PUNT_MATEMATICAS#15727, PUNT_C_NATURALES#15729, PUNT_SOCIALES_CIUDADANAS#15731, PUNT_RAZONA_CUANTITATIVO#15733, PUNT_COMP_CIUDADANA#15735, PUNT_INGLES#15737]\n                           :                                                                          +- Project [COLE_COD_DANE_ESTABLECIMIENTO#15704L, COLE_NOMBRE_ESTABLECIMIENTO#15705, PUNT_LECTURA_CRITICA#15725, PUNT_MATEMATICAS#15727, PUNT_C_NATURALES#15729, PUNT_SOCIALES_CIUDADANAS#15731, PUNT_RAZONA_CUANTITATIVO#15733, PUNT_COMP_CIUDADANA#15735, PUNT_INGLES#15737]\n                           :                                                                             +- Relation[ESTU_TIPODOCUMENTO#15608,ESTU_NACIONALIDAD#15609,ESTU_GENERO#15610,ESTU_FECHANACIMIENTO#15611,PERIODO#15612,ESTU_CONSECUTIVO#15613,ESTU_ESTUDIANTE#15614,ESTU_PAIS_RESIDE#15615,ESTU_ETNIA#15616,ESTU_LIMITA_MOTRIZ#15617,ESTU_LIMITA_INVIDENTE#15618,ESTU_LIMITA_CONDICIONESPECIAL#15619,ESTU_LIMITA_SORDO#15620,ESTU_LIMITA_SDOWN#15621,ESTU_LIMITA_AUTISMO#15622,ESTU_DEPTO_RESIDE#15623,ESTU_COD_RESIDE_DEPTO#15624,ESTU_MCPIO_RESIDE#15625,ESTU_COD_RESIDE_MCPIO#15626,ESTU_AREARESIDE#15627,ESTU_VALORPENSIONCOLEGIO#15628,ESTU_VECESPRESENTOEXAMEN#15629,FAMI_EDUCACIONPADRE#15630,FAMI_EDUCACIONMADRE#15631,... 113 more fields] csv\n                           +- Project [PERIODO#18636, cast(COLE_COD_DANE#18637L as string) AS COLE_COD_DANE#18676, COLE_INST_NOMBRE#18638, COLE_CODMPIO_COLEGIO#18639, COLE_MPIO_MUNICIPIO#18640, COLE_COD_DEPTO#18641, COLE_DEPTO_COLEGIO#18642, COLE_NATURALEZA#18643, COLE_GRADO#18644, COLE_CALENDARIO_COLEGIO#18645, COLE_GENEROPOBLACION#18646, MATRICULADOS_ULTIMOS_3#18647, EVALUADOS_ULTIMOS_3#18648, INDICE_MATEMATICAS#18649, INDICE_C_NATURALES#18650, INDICE_SOCIALES_CIUDADANAS#18651, INDICE_LECTURA_CRITICA#18652, INDICE_INGLES#18653, INDICE_TOTAL#18654, COLE_CATEGORIA#18655]\n                              +- Relation[PERIODO#18636,COLE_COD_DANE#18637L,COLE_INST_NOMBRE#18638,COLE_CODMPIO_COLEGIO#18639,COLE_MPIO_MUNICIPIO#18640,COLE_COD_DEPTO#18641,COLE_DEPTO_COLEGIO#18642,COLE_NATURALEZA#18643,COLE_GRADO#18644,COLE_CALENDARIO_COLEGIO#18645,COLE_GENEROPOBLACION#18646,MATRICULADOS_ULTIMOS_3#18647,EVALUADOS_ULTIMOS_3#18648,INDICE_MATEMATICAS#18649,INDICE_C_NATURALES#18650,INDICE_SOCIALES_CIUDADANAS#18651,INDICE_LECTURA_CRITICA#18652,INDICE_INGLES#18653,INDICE_TOTAL#18654,COLE_CATEGORIA#18655] csv\n\n\tat org.apache.spark.sql.catalyst.analysis.package$AnalysisErrorAt.failAnalysis(package.scala:42)\n\tat org.apache.spark.sql.catalyst.analysis.CheckAnalysis$$anonfun$checkAnalysis$1$$anonfun$apply$3.applyOrElse(CheckAnalysis.scala:110)\n\tat org.apache.spark.sql.catalyst.analysis.CheckAnalysis$$anonfun$checkAnalysis$1$$anonfun$apply$3.applyOrElse(CheckAnalysis.scala:107)\n\tat org.apache.spark.sql.catalyst.trees.TreeNode$$anonfun$transformUp$1.apply(TreeNode.scala:278)\n\tat org.apache.spark.sql.catalyst.trees.TreeNode$$anonfun$transformUp$1.apply(TreeNode.scala:278)\n\tat org.apache.spark.sql.catalyst.trees.CurrentOrigin$.withOrigin(TreeNode.scala:70)\n\tat org.apache.spark.sql.catalyst.trees.TreeNode.transformUp(TreeNode.scala:277)\n\tat org.apache.spark.sql.catalyst.plans.QueryPlan$$anonfun$transformExpressionsUp$1.apply(QueryPlan.scala:93)\n\tat org.apache.spark.sql.catalyst.plans.QueryPlan$$anonfun$transformExpressionsUp$1.apply(QueryPlan.scala:93)\n\tat org.apache.spark.sql.catalyst.plans.QueryPlan$$anonfun$1.apply(QueryPlan.scala:105)\n\tat org.apache.spark.sql.catalyst.plans.QueryPlan$$anonfun$1.apply(QueryPlan.scala:105)\n\tat org.apache.spark.sql.catalyst.trees.CurrentOrigin$.withOrigin(TreeNode.scala:70)\n\tat org.apache.spark.sql.catalyst.plans.QueryPlan.transformExpression$1(QueryPlan.scala:104)\n\tat org.apache.spark.sql.catalyst.plans.QueryPlan.org$apache$spark$sql$catalyst$plans$QueryPlan$$recursiveTransform$1(QueryPlan.scala:116)\n\tat org.apache.spark.sql.catalyst.plans.QueryPlan$$anonfun$org$apache$spark$sql$catalyst$plans$QueryPlan$$recursiveTransform$1$2.apply(QueryPlan.scala:121)\n\tat scala.collection.TraversableLike$$anonfun$map$1.apply(TraversableLike.scala:234)\n\tat scala.collection.TraversableLike$$anonfun$map$1.apply(TraversableLike.scala:234)\n\tat scala.collection.mutable.ResizableArray$class.foreach(ResizableArray.scala:59)\n\tat scala.collection.mutable.ArrayBuffer.foreach(ArrayBuffer.scala:48)\n\tat scala.collection.TraversableLike$class.map(TraversableLike.scala:234)\n\tat scala.collection.AbstractTraversable.map(Traversable.scala:104)\n\tat org.apache.spark.sql.catalyst.plans.QueryPlan.org$apache$spark$sql$catalyst$plans$QueryPlan$$recursiveTransform$1(QueryPlan.scala:121)\n\tat org.apache.spark.sql.catalyst.plans.QueryPlan$$anonfun$2.apply(QueryPlan.scala:126)\n\tat org.apache.spark.sql.catalyst.trees.TreeNode.mapProductIterator(TreeNode.scala:187)\n\tat org.apache.spark.sql.catalyst.plans.QueryPlan.mapExpressions(QueryPlan.scala:126)\n\tat org.apache.spark.sql.catalyst.plans.QueryPlan.transformExpressionsUp(QueryPlan.scala:93)\n\tat org.apache.spark.sql.catalyst.analysis.CheckAnalysis$$anonfun$checkAnalysis$1.apply(CheckAnalysis.scala:107)\n\tat org.apache.spark.sql.catalyst.analysis.CheckAnalysis$$anonfun$checkAnalysis$1.apply(CheckAnalysis.scala:85)\n\tat org.apache.spark.sql.catalyst.trees.TreeNode.foreachUp(TreeNode.scala:127)\n\tat org.apache.spark.sql.catalyst.analysis.CheckAnalysis$class.checkAnalysis(CheckAnalysis.scala:85)\n\tat org.apache.spark.sql.catalyst.analysis.Analyzer.checkAnalysis(Analyzer.scala:95)\n\tat org.apache.spark.sql.catalyst.analysis.Analyzer$$anonfun$executeAndCheck$1.apply(Analyzer.scala:108)\n\tat org.apache.spark.sql.catalyst.analysis.Analyzer$$anonfun$executeAndCheck$1.apply(Analyzer.scala:105)\n\tat org.apache.spark.sql.catalyst.plans.logical.AnalysisHelper$.markInAnalyzer(AnalysisHelper.scala:201)\n\tat org.apache.spark.sql.catalyst.analysis.Analyzer.executeAndCheck(Analyzer.scala:105)\n\tat org.apache.spark.sql.execution.QueryExecution.analyzed$lzycompute(QueryExecution.scala:57)\n\tat org.apache.spark.sql.execution.QueryExecution.analyzed(QueryExecution.scala:55)\n\tat org.apache.spark.sql.execution.QueryExecution.assertAnalyzed(QueryExecution.scala:47)\n\tat org.apache.spark.sql.Dataset$.ofRows(Dataset.scala:78)\n\tat org.apache.spark.sql.Dataset.org$apache$spark$sql$Dataset$$withPlan(Dataset.scala:3406)\n\tat org.apache.spark.sql.Dataset.select(Dataset.scala:1334)\n\tat sun.reflect.GeneratedMethodAccessor87.invoke(Unknown Source)\n\tat sun.reflect.DelegatingMethodAccessorImpl.invoke(DelegatingMethodAccessorImpl.java:43)\n\tat java.lang.reflect.Method.invoke(Method.java:498)\n\tat py4j.reflection.MethodInvoker.invoke(MethodInvoker.java:244)\n\tat py4j.reflection.ReflectionEngine.invoke(ReflectionEngine.java:357)\n\tat py4j.Gateway.invoke(Gateway.java:282)\n\tat py4j.commands.AbstractCommand.invokeMethod(AbstractCommand.java:132)\n\tat py4j.commands.CallCommand.execute(CallCommand.java:79)\n\tat py4j.GatewayConnection.run(GatewayConnection.java:238)\n\tat java.lang.Thread.run(Thread.java:748)\n",
      "\nDuring handling of the above exception, another exception occurred:\n",
      "\u001b[0;31mAnalysisException\u001b[0m                         Traceback (most recent call last)",
      "\u001b[0;32m<ipython-input-288-45405da5eaf7>\u001b[0m in \u001b[0;36m<module>\u001b[0;34m\u001b[0m\n\u001b[1;32m      1\u001b[0m \u001b[0mdfjoin2\u001b[0m \u001b[0;34m=\u001b[0m \u001b[0mdfjoin2\u001b[0m\u001b[0;34m.\u001b[0m\u001b[0mwithColumn\u001b[0m\u001b[0;34m(\u001b[0m\u001b[0;34m\"rankIndiceTotal\"\u001b[0m\u001b[0;34m,\u001b[0m \u001b[0mdense_rank\u001b[0m\u001b[0;34m(\u001b[0m\u001b[0;34m)\u001b[0m\u001b[0;34m.\u001b[0m\u001b[0mover\u001b[0m\u001b[0;34m(\u001b[0m\u001b[0mWindow\u001b[0m\u001b[0;34m.\u001b[0m\u001b[0morderBy\u001b[0m\u001b[0;34m(\u001b[0m\u001b[0mdesc\u001b[0m\u001b[0;34m(\u001b[0m\u001b[0;34m\"INDICE_TOTAL\"\u001b[0m\u001b[0;34m)\u001b[0m\u001b[0;34m)\u001b[0m\u001b[0;34m)\u001b[0m\u001b[0;34m)\u001b[0m\u001b[0;34m\u001b[0m\u001b[0;34m\u001b[0m\u001b[0m\n\u001b[0;32m----> 2\u001b[0;31m \u001b[0mdfjoin2\u001b[0m\u001b[0;34m.\u001b[0m\u001b[0mselect\u001b[0m\u001b[0;34m(\u001b[0m\u001b[0;34m'rankProm'\u001b[0m\u001b[0;34m,\u001b[0m\u001b[0;34m'rankIndiceTotal'\u001b[0m\u001b[0;34m,\u001b[0m\u001b[0;34m'INDICE_TOTAL'\u001b[0m\u001b[0;34m,\u001b[0m\u001b[0;34m'COLE_COD_DANE_ESTABLECIMIENTO'\u001b[0m\u001b[0;34m,\u001b[0m\u001b[0;34m'COLE_NOMBRE_ESTABLECIMIENTO'\u001b[0m\u001b[0;34m,\u001b[0m\u001b[0;34m'INDICE_TOTAL'\u001b[0m\u001b[0;34m)\u001b[0m\u001b[0;34m.\u001b[0m\u001b[0mshow\u001b[0m\u001b[0;34m(\u001b[0m\u001b[0;36m10\u001b[0m\u001b[0;34m)\u001b[0m\u001b[0;34m\u001b[0m\u001b[0;34m\u001b[0m\u001b[0m\n\u001b[0m",
      "\u001b[0;32m/usr/local/spark/spark-2.4.3-bin-hadoop2.7/python/pyspark/sql/dataframe.py\u001b[0m in \u001b[0;36mselect\u001b[0;34m(self, *cols)\u001b[0m\n\u001b[1;32m   1318\u001b[0m         \u001b[0;34m[\u001b[0m\u001b[0mRow\u001b[0m\u001b[0;34m(\u001b[0m\u001b[0mname\u001b[0m\u001b[0;34m=\u001b[0m\u001b[0;34mu'Alice'\u001b[0m\u001b[0;34m,\u001b[0m \u001b[0mage\u001b[0m\u001b[0;34m=\u001b[0m\u001b[0;36m12\u001b[0m\u001b[0;34m)\u001b[0m\u001b[0;34m,\u001b[0m \u001b[0mRow\u001b[0m\u001b[0;34m(\u001b[0m\u001b[0mname\u001b[0m\u001b[0;34m=\u001b[0m\u001b[0;34mu'Bob'\u001b[0m\u001b[0;34m,\u001b[0m \u001b[0mage\u001b[0m\u001b[0;34m=\u001b[0m\u001b[0;36m15\u001b[0m\u001b[0;34m)\u001b[0m\u001b[0;34m]\u001b[0m\u001b[0;34m\u001b[0m\u001b[0;34m\u001b[0m\u001b[0m\n\u001b[1;32m   1319\u001b[0m         \"\"\"\n\u001b[0;32m-> 1320\u001b[0;31m         \u001b[0mjdf\u001b[0m \u001b[0;34m=\u001b[0m \u001b[0mself\u001b[0m\u001b[0;34m.\u001b[0m\u001b[0m_jdf\u001b[0m\u001b[0;34m.\u001b[0m\u001b[0mselect\u001b[0m\u001b[0;34m(\u001b[0m\u001b[0mself\u001b[0m\u001b[0;34m.\u001b[0m\u001b[0m_jcols\u001b[0m\u001b[0;34m(\u001b[0m\u001b[0;34m*\u001b[0m\u001b[0mcols\u001b[0m\u001b[0;34m)\u001b[0m\u001b[0;34m)\u001b[0m\u001b[0;34m\u001b[0m\u001b[0;34m\u001b[0m\u001b[0m\n\u001b[0m\u001b[1;32m   1321\u001b[0m         \u001b[0;32mreturn\u001b[0m \u001b[0mDataFrame\u001b[0m\u001b[0;34m(\u001b[0m\u001b[0mjdf\u001b[0m\u001b[0;34m,\u001b[0m \u001b[0mself\u001b[0m\u001b[0;34m.\u001b[0m\u001b[0msql_ctx\u001b[0m\u001b[0;34m)\u001b[0m\u001b[0;34m\u001b[0m\u001b[0;34m\u001b[0m\u001b[0m\n\u001b[1;32m   1322\u001b[0m \u001b[0;34m\u001b[0m\u001b[0m\n",
      "\u001b[0;32m/usr/local/spark/spark-2.4.3-bin-hadoop2.7/python/lib/py4j-0.10.7-src.zip/py4j/java_gateway.py\u001b[0m in \u001b[0;36m__call__\u001b[0;34m(self, *args)\u001b[0m\n\u001b[1;32m   1255\u001b[0m         \u001b[0manswer\u001b[0m \u001b[0;34m=\u001b[0m \u001b[0mself\u001b[0m\u001b[0;34m.\u001b[0m\u001b[0mgateway_client\u001b[0m\u001b[0;34m.\u001b[0m\u001b[0msend_command\u001b[0m\u001b[0;34m(\u001b[0m\u001b[0mcommand\u001b[0m\u001b[0;34m)\u001b[0m\u001b[0;34m\u001b[0m\u001b[0;34m\u001b[0m\u001b[0m\n\u001b[1;32m   1256\u001b[0m         return_value = get_return_value(\n\u001b[0;32m-> 1257\u001b[0;31m             answer, self.gateway_client, self.target_id, self.name)\n\u001b[0m\u001b[1;32m   1258\u001b[0m \u001b[0;34m\u001b[0m\u001b[0m\n\u001b[1;32m   1259\u001b[0m         \u001b[0;32mfor\u001b[0m \u001b[0mtemp_arg\u001b[0m \u001b[0;32min\u001b[0m \u001b[0mtemp_args\u001b[0m\u001b[0;34m:\u001b[0m\u001b[0;34m\u001b[0m\u001b[0;34m\u001b[0m\u001b[0m\n",
      "\u001b[0;32m/usr/local/spark/spark-2.4.3-bin-hadoop2.7/python/pyspark/sql/utils.py\u001b[0m in \u001b[0;36mdeco\u001b[0;34m(*a, **kw)\u001b[0m\n\u001b[1;32m     67\u001b[0m                                              e.java_exception.getStackTrace()))\n\u001b[1;32m     68\u001b[0m             \u001b[0;32mif\u001b[0m \u001b[0ms\u001b[0m\u001b[0;34m.\u001b[0m\u001b[0mstartswith\u001b[0m\u001b[0;34m(\u001b[0m\u001b[0;34m'org.apache.spark.sql.AnalysisException: '\u001b[0m\u001b[0;34m)\u001b[0m\u001b[0;34m:\u001b[0m\u001b[0;34m\u001b[0m\u001b[0;34m\u001b[0m\u001b[0m\n\u001b[0;32m---> 69\u001b[0;31m                 \u001b[0;32mraise\u001b[0m \u001b[0mAnalysisException\u001b[0m\u001b[0;34m(\u001b[0m\u001b[0ms\u001b[0m\u001b[0;34m.\u001b[0m\u001b[0msplit\u001b[0m\u001b[0;34m(\u001b[0m\u001b[0;34m': '\u001b[0m\u001b[0;34m,\u001b[0m \u001b[0;36m1\u001b[0m\u001b[0;34m)\u001b[0m\u001b[0;34m[\u001b[0m\u001b[0;36m1\u001b[0m\u001b[0;34m]\u001b[0m\u001b[0;34m,\u001b[0m \u001b[0mstackTrace\u001b[0m\u001b[0;34m)\u001b[0m\u001b[0;34m\u001b[0m\u001b[0;34m\u001b[0m\u001b[0m\n\u001b[0m\u001b[1;32m     70\u001b[0m             \u001b[0;32mif\u001b[0m \u001b[0ms\u001b[0m\u001b[0;34m.\u001b[0m\u001b[0mstartswith\u001b[0m\u001b[0;34m(\u001b[0m\u001b[0;34m'org.apache.spark.sql.catalyst.analysis'\u001b[0m\u001b[0;34m)\u001b[0m\u001b[0;34m:\u001b[0m\u001b[0;34m\u001b[0m\u001b[0;34m\u001b[0m\u001b[0m\n\u001b[1;32m     71\u001b[0m                 \u001b[0;32mraise\u001b[0m \u001b[0mAnalysisException\u001b[0m\u001b[0;34m(\u001b[0m\u001b[0ms\u001b[0m\u001b[0;34m.\u001b[0m\u001b[0msplit\u001b[0m\u001b[0;34m(\u001b[0m\u001b[0;34m': '\u001b[0m\u001b[0;34m,\u001b[0m \u001b[0;36m1\u001b[0m\u001b[0;34m)\u001b[0m\u001b[0;34m[\u001b[0m\u001b[0;36m1\u001b[0m\u001b[0;34m]\u001b[0m\u001b[0;34m,\u001b[0m \u001b[0mstackTrace\u001b[0m\u001b[0;34m)\u001b[0m\u001b[0;34m\u001b[0m\u001b[0;34m\u001b[0m\u001b[0m\n",
      "\u001b[0;31mAnalysisException\u001b[0m: \"cannot resolve '`rankProm`' given input columns: [COLE_NATURALEZA, COLE_GENEROPOBLACION, INDICE_SOCIALES_CIUDADANAS, INDICE_INGLES, PUNT_RAZONA_CUANTITATIVO, COLE_COD_DEPTO, PUNT_MATEMATICAS, INDICE_TOTAL, rankIndiceTotal, COLE_COD_DANE, INDICE_LECTURA_CRITICA, COLE_DEPTO_COLEGIO, COLE_NOMBRE_ESTABLECIMIENTO, COLE_GRADO, PUNT_LECTURA_CRITICA, COLE_CALENDARIO_COLEGIO, COLE_COD_DANE_ESTABLECIMIENTO, PUNT_C_NATURALES, PUNT_COMP_CIUDADANA, PUNT_INGLES, PUNT_SOCIALES_CIUDADANAS, COLE_INST_NOMBRE, PERIODO, COLE_MPIO_MUNICIPIO, COLE_CODMPIO_COLEGIO, Suma, INDICE_MATEMATICAS, MATRICULADOS_ULTIMOS_3, EVALUADOS_ULTIMOS_3, INDICE_C_NATURALES, COLE_CATEGORIA];;\\n'Project ['rankProm, rankIndiceTotal#18866, INDICE_TOTAL#18654, COLE_COD_DANE_ESTABLECIMIENTO#17247, COLE_NOMBRE_ESTABLECIMIENTO#17266, INDICE_TOTAL#18654]\\n+- Project [COLE_COD_DANE_ESTABLECIMIENTO#17247, COLE_NOMBRE_ESTABLECIMIENTO#17266, PUNT_LECTURA_CRITICA#16984, PUNT_MATEMATICAS#17023, PUNT_C_NATURALES#17062, PUNT_SOCIALES_CIUDADANAS#17101, PUNT_RAZONA_CUANTITATIVO#17140, PUNT_COMP_CIUDADANA#17179, PUNT_INGLES#17218, Suma#17415, PERIODO#18636, COLE_COD_DANE#18676, COLE_INST_NOMBRE#18638, COLE_CODMPIO_COLEGIO#18639, COLE_MPIO_MUNICIPIO#18640, COLE_COD_DEPTO#18641, COLE_DEPTO_COLEGIO#18642, COLE_NATURALEZA#18643, COLE_GRADO#18644, COLE_CALENDARIO_COLEGIO#18645, COLE_GENEROPOBLACION#18646, MATRICULADOS_ULTIMOS_3#18647, EVALUADOS_ULTIMOS_3#18648, INDICE_MATEMATICAS#18649, ... 7 more fields]\\n   +- Project [COLE_COD_DANE_ESTABLECIMIENTO#17247, COLE_NOMBRE_ESTABLECIMIENTO#17266, PUNT_LECTURA_CRITICA#16984, PUNT_MATEMATICAS#17023, PUNT_C_NATURALES#17062, PUNT_SOCIALES_CIUDADANAS#17101, PUNT_RAZONA_CUANTITATIVO#17140, PUNT_COMP_CIUDADANA#17179, PUNT_INGLES#17218, Suma#17415, PERIODO#18636, COLE_COD_DANE#18676, COLE_INST_NOMBRE#18638, COLE_CODMPIO_COLEGIO#18639, COLE_MPIO_MUNICIPIO#18640, COLE_COD_DEPTO#18641, COLE_DEPTO_COLEGIO#18642, COLE_NATURALEZA#18643, COLE_GRADO#18644, COLE_CALENDARIO_COLEGIO#18645, COLE_GENEROPOBLACION#18646, MATRICULADOS_ULTIMOS_3#18647, EVALUADOS_ULTIMOS_3#18648, INDICE_MATEMATICAS#18649, ... 8 more fields]\\n      +- Window [dense_rank(INDICE_TOTAL#18654) windowspecdefinition(INDICE_TOTAL#18654 DESC NULLS LAST, specifiedwindowframe(RowFrame, unboundedpreceding$(), currentrow$())) AS rankIndiceTotal#18866], [INDICE_TOTAL#18654 DESC NULLS LAST]\\n         +- Project [COLE_COD_DANE_ESTABLECIMIENTO#17247, COLE_NOMBRE_ESTABLECIMIENTO#17266, PUNT_LECTURA_CRITICA#16984, PUNT_MATEMATICAS#17023, PUNT_C_NATURALES#17062, PUNT_SOCIALES_CIUDADANAS#17101, PUNT_RAZONA_CUANTITATIVO#17140, PUNT_COMP_CIUDADANA#17179, PUNT_INGLES#17218, Suma#17415, PERIODO#18636, COLE_COD_DANE#18676, COLE_INST_NOMBRE#18638, COLE_CODMPIO_COLEGIO#18639, COLE_MPIO_MUNICIPIO#18640, COLE_COD_DEPTO#18641, COLE_DEPTO_COLEGIO#18642, COLE_NATURALEZA#18643, COLE_GRADO#18644, COLE_CALENDARIO_COLEGIO#18645, COLE_GENEROPOBLACION#18646, MATRICULADOS_ULTIMOS_3#18647, EVALUADOS_ULTIMOS_3#18648, INDICE_MATEMATICAS#18649, ... 6 more fields]\\n            +- Project [COLE_COD_DANE_ESTABLECIMIENTO#17247, COLE_NOMBRE_ESTABLECIMIENTO#17266, PUNT_LECTURA_CRITICA#16984, PUNT_MATEMATICAS#17023, PUNT_C_NATURALES#17062, PUNT_SOCIALES_CIUDADANAS#17101, PUNT_RAZONA_CUANTITATIVO#17140, PUNT_COMP_CIUDADANA#17179, PUNT_INGLES#17218, Suma#17415, PERIODO#18636, COLE_COD_DANE#18676, COLE_INST_NOMBRE#18638, COLE_CODMPIO_COLEGIO#18639, COLE_MPIO_MUNICIPIO#18640, COLE_COD_DEPTO#18641, COLE_DEPTO_COLEGIO#18642, COLE_NATURALEZA#18643, COLE_GRADO#18644, COLE_CALENDARIO_COLEGIO#18645, COLE_GENEROPOBLACION#18646, MATRICULADOS_ULTIMOS_3#18647, EVALUADOS_ULTIMOS_3#18648, INDICE_MATEMATICAS#18649, ... 7 more fields]\\n               +- Project [COLE_COD_DANE_ESTABLECIMIENTO#17247, COLE_NOMBRE_ESTABLECIMIENTO#17266, PUNT_LECTURA_CRITICA#16984, PUNT_MATEMATICAS#17023, PUNT_C_NATURALES#17062, PUNT_SOCIALES_CIUDADANAS#17101, PUNT_RAZONA_CUANTITATIVO#17140, PUNT_COMP_CIUDADANA#17179, PUNT_INGLES#17218, Suma#17415, PERIODO#18636, COLE_COD_DANE#18676, COLE_INST_NOMBRE#18638, COLE_CODMPIO_COLEGIO#18639, COLE_MPIO_MUNICIPIO#18640, COLE_COD_DEPTO#18641, COLE_DEPTO_COLEGIO#18642, COLE_NATURALEZA#18643, COLE_GRADO#18644, COLE_CALENDARIO_COLEGIO#18645, COLE_GENEROPOBLACION#18646, MATRICULADOS_ULTIMOS_3#18647, EVALUADOS_ULTIMOS_3#18648, INDICE_MATEMATICAS#18649, ... 8 more fields]\\n                  +- Window [dense_rank(INDICE_TOTAL#18654) windowspecdefinition(INDICE_TOTAL#18654 DESC NULLS LAST, specifiedwindowframe(RowFrame, unboundedpreceding$(), currentrow$())) AS rankIndiceTotal#18826], [INDICE_TOTAL#18654 DESC NULLS LAST]\\n                     +- Project [COLE_COD_DANE_ESTABLECIMIENTO#17247, COLE_NOMBRE_ESTABLECIMIENTO#17266, PUNT_LECTURA_CRITICA#16984, PUNT_MATEMATICAS#17023, PUNT_C_NATURALES#17062, PUNT_SOCIALES_CIUDADANAS#17101, PUNT_RAZONA_CUANTITATIVO#17140, PUNT_COMP_CIUDADANA#17179, PUNT_INGLES#17218, Suma#17415, PERIODO#18636, COLE_COD_DANE#18676, COLE_INST_NOMBRE#18638, COLE_CODMPIO_COLEGIO#18639, COLE_MPIO_MUNICIPIO#18640, COLE_COD_DEPTO#18641, COLE_DEPTO_COLEGIO#18642, COLE_NATURALEZA#18643, COLE_GRADO#18644, COLE_CALENDARIO_COLEGIO#18645, COLE_GENEROPOBLACION#18646, MATRICULADOS_ULTIMOS_3#18647, EVALUADOS_ULTIMOS_3#18648, INDICE_MATEMATICAS#18649, ... 6 more fields]\\n                        +- Join Inner, (COLE_COD_DANE_ESTABLECIMIENTO#17247 = COLE_COD_DANE#18676)\\n                           :- Project [COLE_COD_DANE_ESTABLECIMIENTO#17247, COLE_NOMBRE_ESTABLECIMIENTO#17266, PUNT_LECTURA_CRITICA#16984, PUNT_MATEMATICAS#17023, PUNT_C_NATURALES#17062, PUNT_SOCIALES_CIUDADANAS#17101, PUNT_RAZONA_CUANTITATIVO#17140, PUNT_COMP_CIUDADANA#17179, PUNT_INGLES#17218, ((((((PUNT_LECTURA_CRITICA#16984 + PUNT_MATEMATICAS#17023) + PUNT_C_NATURALES#17062) + PUNT_SOCIALES_CIUDADANAS#17101) + PUNT_RAZONA_CUANTITATIVO#17140) + PUNT_COMP_CIUDADANA#17179) + PUNT_INGLES#17218) AS Suma#17415]\\n                           :  +- Project [COLE_COD_DANE_ESTABLECIMIENTO#17247, coalesce(COLE_NOMBRE_ESTABLECIMIENTO#15705, cast(-- as string)) AS COLE_NOMBRE_ESTABLECIMIENTO#17266, PUNT_LECTURA_CRITICA#16984, PUNT_MATEMATICAS#17023, PUNT_C_NATURALES#17062, PUNT_SOCIALES_CIUDADANAS#17101, PUNT_RAZONA_CUANTITATIVO#17140, PUNT_COMP_CIUDADANA#17179, PUNT_INGLES#17218]\\n                           :     +- Project [coalesce(COLE_COD_DANE_ESTABLECIMIENTO#17228, cast(-- as string)) AS COLE_COD_DANE_ESTABLECIMIENTO#17247, COLE_NOMBRE_ESTABLECIMIENTO#15705, PUNT_LECTURA_CRITICA#16984, PUNT_MATEMATICAS#17023, PUNT_C_NATURALES#17062, PUNT_SOCIALES_CIUDADANAS#17101, PUNT_RAZONA_CUANTITATIVO#17140, PUNT_COMP_CIUDADANA#17179, PUNT_INGLES#17218]\\n                           :        +- Project [cast(COLE_COD_DANE_ESTABLECIMIENTO#15704L as string) AS COLE_COD_DANE_ESTABLECIMIENTO#17228, COLE_NOMBRE_ESTABLECIMIENTO#15705, PUNT_LECTURA_CRITICA#16984, PUNT_MATEMATICAS#17023, PUNT_C_NATURALES#17062, PUNT_SOCIALES_CIUDADANAS#17101, PUNT_RAZONA_CUANTITATIVO#17140, PUNT_COMP_CIUDADANA#17179, PUNT_INGLES#17218]\\n                           :           +- Project [COLE_COD_DANE_ESTABLECIMIENTO#15704L, COLE_NOMBRE_ESTABLECIMIENTO#15705, PUNT_LECTURA_CRITICA#16984, PUNT_MATEMATICAS#17023, PUNT_C_NATURALES#17062, PUNT_SOCIALES_CIUDADANAS#17101, PUNT_RAZONA_CUANTITATIVO#17140, PUNT_COMP_CIUDADANA#17179, coalesce(nanvl(PUNT_INGLES#17199, cast(null as float)), cast(0 as float)) AS PUNT_INGLES#17218]\\n                           :              +- Project [COLE_COD_DANE_ESTABLECIMIENTO#15704L, COLE_NOMBRE_ESTABLECIMIENTO#15705, PUNT_LECTURA_CRITICA#16984, PUNT_MATEMATICAS#17023, PUNT_C_NATURALES#17062, PUNT_SOCIALES_CIUDADANAS#17101, PUNT_RAZONA_CUANTITATIVO#17140, PUNT_COMP_CIUDADANA#17179, cast(PUNT_INGLES#17189 as float) AS PUNT_INGLES#17199]\\n                           :                 +- Project [COLE_COD_DANE_ESTABLECIMIENTO#15704L, COLE_NOMBRE_ESTABLECIMIENTO#15705, PUNT_LECTURA_CRITICA#16984, PUNT_MATEMATICAS#17023, PUNT_C_NATURALES#17062, PUNT_SOCIALES_CIUDADANAS#17101, PUNT_RAZONA_CUANTITATIVO#17140, PUNT_COMP_CIUDADANA#17179, regexp_replace(cast(PUNT_INGLES#15737 as string), ,, .) AS PUNT_INGLES#17189]\\n                           :                    +- Project [COLE_COD_DANE_ESTABLECIMIENTO#15704L, COLE_NOMBRE_ESTABLECIMIENTO#15705, PUNT_LECTURA_CRITICA#16984, PUNT_MATEMATICAS#17023, PUNT_C_NATURALES#17062, PUNT_SOCIALES_CIUDADANAS#17101, PUNT_RAZONA_CUANTITATIVO#17140, coalesce(nanvl(PUNT_COMP_CIUDADANA#17160, cast(null as float)), cast(0 as float)) AS PUNT_COMP_CIUDADANA#17179, PUNT_INGLES#15737]\\n                           :                       +- Project [COLE_COD_DANE_ESTABLECIMIENTO#15704L, COLE_NOMBRE_ESTABLECIMIENTO#15705, PUNT_LECTURA_CRITICA#16984, PUNT_MATEMATICAS#17023, PUNT_C_NATURALES#17062, PUNT_SOCIALES_CIUDADANAS#17101, PUNT_RAZONA_CUANTITATIVO#17140, cast(PUNT_COMP_CIUDADANA#17150 as float) AS PUNT_COMP_CIUDADANA#17160, PUNT_INGLES#15737]\\n                           :                          +- Project [COLE_COD_DANE_ESTABLECIMIENTO#15704L, COLE_NOMBRE_ESTABLECIMIENTO#15705, PUNT_LECTURA_CRITICA#16984, PUNT_MATEMATICAS#17023, PUNT_C_NATURALES#17062, PUNT_SOCIALES_CIUDADANAS#17101, PUNT_RAZONA_CUANTITATIVO#17140, regexp_replace(cast(PUNT_COMP_CIUDADANA#15735 as string), ,, .) AS PUNT_COMP_CIUDADANA#17150, PUNT_INGLES#15737]\\n                           :                             +- Project [COLE_COD_DANE_ESTABLECIMIENTO#15704L, COLE_NOMBRE_ESTABLECIMIENTO#15705, PUNT_LECTURA_CRITICA#16984, PUNT_MATEMATICAS#17023, PUNT_C_NATURALES#17062, PUNT_SOCIALES_CIUDADANAS#17101, coalesce(nanvl(PUNT_RAZONA_CUANTITATIVO#17121, cast(null as float)), cast(0 as float)) AS PUNT_RAZONA_CUANTITATIVO#17140, PUNT_COMP_CIUDADANA#15735, PUNT_INGLES#15737]\\n                           :                                +- Project [COLE_COD_DANE_ESTABLECIMIENTO#15704L, COLE_NOMBRE_ESTABLECIMIENTO#15705, PUNT_LECTURA_CRITICA#16984, PUNT_MATEMATICAS#17023, PUNT_C_NATURALES#17062, PUNT_SOCIALES_CIUDADANAS#17101, cast(PUNT_RAZONA_CUANTITATIVO#17111 as float) AS PUNT_RAZONA_CUANTITATIVO#17121, PUNT_COMP_CIUDADANA#15735, PUNT_INGLES#15737]\\n                           :                                   +- Project [COLE_COD_DANE_ESTABLECIMIENTO#15704L, COLE_NOMBRE_ESTABLECIMIENTO#15705, PUNT_LECTURA_CRITICA#16984, PUNT_MATEMATICAS#17023, PUNT_C_NATURALES#17062, PUNT_SOCIALES_CIUDADANAS#17101, regexp_replace(cast(PUNT_RAZONA_CUANTITATIVO#15733 as string), ,, .) AS PUNT_RAZONA_CUANTITATIVO#17111, PUNT_COMP_CIUDADANA#15735, PUNT_INGLES#15737]\\n                           :                                      +- Project [COLE_COD_DANE_ESTABLECIMIENTO#15704L, COLE_NOMBRE_ESTABLECIMIENTO#15705, PUNT_LECTURA_CRITICA#16984, PUNT_MATEMATICAS#17023, PUNT_C_NATURALES#17062, coalesce(nanvl(PUNT_SOCIALES_CIUDADANAS#17082, cast(null as float)), cast(0 as float)) AS PUNT_SOCIALES_CIUDADANAS#17101, PUNT_RAZONA_CUANTITATIVO#15733, PUNT_COMP_CIUDADANA#15735, PUNT_INGLES#15737]\\n                           :                                         +- Project [COLE_COD_DANE_ESTABLECIMIENTO#15704L, COLE_NOMBRE_ESTABLECIMIENTO#15705, PUNT_LECTURA_CRITICA#16984, PUNT_MATEMATICAS#17023, PUNT_C_NATURALES#17062, cast(PUNT_SOCIALES_CIUDADANAS#17072 as float) AS PUNT_SOCIALES_CIUDADANAS#17082, PUNT_RAZONA_CUANTITATIVO#15733, PUNT_COMP_CIUDADANA#15735, PUNT_INGLES#15737]\\n                           :                                            +- Project [COLE_COD_DANE_ESTABLECIMIENTO#15704L, COLE_NOMBRE_ESTABLECIMIENTO#15705, PUNT_LECTURA_CRITICA#16984, PUNT_MATEMATICAS#17023, PUNT_C_NATURALES#17062, regexp_replace(cast(PUNT_SOCIALES_CIUDADANAS#15731 as string), ,, .) AS PUNT_SOCIALES_CIUDADANAS#17072, PUNT_RAZONA_CUANTITATIVO#15733, PUNT_COMP_CIUDADANA#15735, PUNT_INGLES#15737]\\n                           :                                               +- Project [COLE_COD_DANE_ESTABLECIMIENTO#15704L, COLE_NOMBRE_ESTABLECIMIENTO#15705, PUNT_LECTURA_CRITICA#16984, PUNT_MATEMATICAS#17023, coalesce(nanvl(PUNT_C_NATURALES#17043, cast(null as float)), cast(0 as float)) AS PUNT_C_NATURALES#17062, PUNT_SOCIALES_CIUDADANAS#15731, PUNT_RAZONA_CUANTITATIVO#15733, PUNT_COMP_CIUDADANA#15735, PUNT_INGLES#15737]\\n                           :                                                  +- Project [COLE_COD_DANE_ESTABLECIMIENTO#15704L, COLE_NOMBRE_ESTABLECIMIENTO#15705, PUNT_LECTURA_CRITICA#16984, PUNT_MATEMATICAS#17023, cast(PUNT_C_NATURALES#17033 as float) AS PUNT_C_NATURALES#17043, PUNT_SOCIALES_CIUDADANAS#15731, PUNT_RAZONA_CUANTITATIVO#15733, PUNT_COMP_CIUDADANA#15735, PUNT_INGLES#15737]\\n                           :                                                     +- Project [COLE_COD_DANE_ESTABLECIMIENTO#15704L, COLE_NOMBRE_ESTABLECIMIENTO#15705, PUNT_LECTURA_CRITICA#16984, PUNT_MATEMATICAS#17023, regexp_replace(cast(PUNT_C_NATURALES#15729 as string), ,, .) AS PUNT_C_NATURALES#17033, PUNT_SOCIALES_CIUDADANAS#15731, PUNT_RAZONA_CUANTITATIVO#15733, PUNT_COMP_CIUDADANA#15735, PUNT_INGLES#15737]\\n                           :                                                        +- Project [COLE_COD_DANE_ESTABLECIMIENTO#15704L, COLE_NOMBRE_ESTABLECIMIENTO#15705, PUNT_LECTURA_CRITICA#16984, coalesce(nanvl(PUNT_MATEMATICAS#17004, cast(null as float)), cast(0 as float)) AS PUNT_MATEMATICAS#17023, PUNT_C_NATURALES#15729, PUNT_SOCIALES_CIUDADANAS#15731, PUNT_RAZONA_CUANTITATIVO#15733, PUNT_COMP_CIUDADANA#15735, PUNT_INGLES#15737]\\n                           :                                                           +- Project [COLE_COD_DANE_ESTABLECIMIENTO#15704L, COLE_NOMBRE_ESTABLECIMIENTO#15705, PUNT_LECTURA_CRITICA#16984, cast(PUNT_MATEMATICAS#16994 as float) AS PUNT_MATEMATICAS#17004, PUNT_C_NATURALES#15729, PUNT_SOCIALES_CIUDADANAS#15731, PUNT_RAZONA_CUANTITATIVO#15733, PUNT_COMP_CIUDADANA#15735, PUNT_INGLES#15737]\\n                           :                                                              +- Project [COLE_COD_DANE_ESTABLECIMIENTO#15704L, COLE_NOMBRE_ESTABLECIMIENTO#15705, PUNT_LECTURA_CRITICA#16984, regexp_replace(cast(PUNT_MATEMATICAS#15727 as string), ,, .) AS PUNT_MATEMATICAS#16994, PUNT_C_NATURALES#15729, PUNT_SOCIALES_CIUDADANAS#15731, PUNT_RAZONA_CUANTITATIVO#15733, PUNT_COMP_CIUDADANA#15735, PUNT_INGLES#15737]\\n                           :                                                                 +- Project [COLE_COD_DANE_ESTABLECIMIENTO#15704L, COLE_NOMBRE_ESTABLECIMIENTO#15705, coalesce(nanvl(PUNT_LECTURA_CRITICA#16965, cast(null as float)), cast(0 as float)) AS PUNT_LECTURA_CRITICA#16984, PUNT_MATEMATICAS#15727, PUNT_C_NATURALES#15729, PUNT_SOCIALES_CIUDADANAS#15731, PUNT_RAZONA_CUANTITATIVO#15733, PUNT_COMP_CIUDADANA#15735, PUNT_INGLES#15737]\\n                           :                                                                    +- Project [COLE_COD_DANE_ESTABLECIMIENTO#15704L, COLE_NOMBRE_ESTABLECIMIENTO#15705, cast(PUNT_LECTURA_CRITICA#16955 as float) AS PUNT_LECTURA_CRITICA#16965, PUNT_MATEMATICAS#15727, PUNT_C_NATURALES#15729, PUNT_SOCIALES_CIUDADANAS#15731, PUNT_RAZONA_CUANTITATIVO#15733, PUNT_COMP_CIUDADANA#15735, PUNT_INGLES#15737]\\n                           :                                                                       +- Project [COLE_COD_DANE_ESTABLECIMIENTO#15704L, COLE_NOMBRE_ESTABLECIMIENTO#15705, regexp_replace(cast(PUNT_LECTURA_CRITICA#15725 as string), ,, .) AS PUNT_LECTURA_CRITICA#16955, PUNT_MATEMATICAS#15727, PUNT_C_NATURALES#15729, PUNT_SOCIALES_CIUDADANAS#15731, PUNT_RAZONA_CUANTITATIVO#15733, PUNT_COMP_CIUDADANA#15735, PUNT_INGLES#15737]\\n                           :                                                                          +- Project [COLE_COD_DANE_ESTABLECIMIENTO#15704L, COLE_NOMBRE_ESTABLECIMIENTO#15705, PUNT_LECTURA_CRITICA#15725, PUNT_MATEMATICAS#15727, PUNT_C_NATURALES#15729, PUNT_SOCIALES_CIUDADANAS#15731, PUNT_RAZONA_CUANTITATIVO#15733, PUNT_COMP_CIUDADANA#15735, PUNT_INGLES#15737]\\n                           :                                                                             +- Relation[ESTU_TIPODOCUMENTO#15608,ESTU_NACIONALIDAD#15609,ESTU_GENERO#15610,ESTU_FECHANACIMIENTO#15611,PERIODO#15612,ESTU_CONSECUTIVO#15613,ESTU_ESTUDIANTE#15614,ESTU_PAIS_RESIDE#15615,ESTU_ETNIA#15616,ESTU_LIMITA_MOTRIZ#15617,ESTU_LIMITA_INVIDENTE#15618,ESTU_LIMITA_CONDICIONESPECIAL#15619,ESTU_LIMITA_SORDO#15620,ESTU_LIMITA_SDOWN#15621,ESTU_LIMITA_AUTISMO#15622,ESTU_DEPTO_RESIDE#15623,ESTU_COD_RESIDE_DEPTO#15624,ESTU_MCPIO_RESIDE#15625,ESTU_COD_RESIDE_MCPIO#15626,ESTU_AREARESIDE#15627,ESTU_VALORPENSIONCOLEGIO#15628,ESTU_VECESPRESENTOEXAMEN#15629,FAMI_EDUCACIONPADRE#15630,FAMI_EDUCACIONMADRE#15631,... 113 more fields] csv\\n                           +- Project [PERIODO#18636, cast(COLE_COD_DANE#18637L as string) AS COLE_COD_DANE#18676, COLE_INST_NOMBRE#18638, COLE_CODMPIO_COLEGIO#18639, COLE_MPIO_MUNICIPIO#18640, COLE_COD_DEPTO#18641, COLE_DEPTO_COLEGIO#18642, COLE_NATURALEZA#18643, COLE_GRADO#18644, COLE_CALENDARIO_COLEGIO#18645, COLE_GENEROPOBLACION#18646, MATRICULADOS_ULTIMOS_3#18647, EVALUADOS_ULTIMOS_3#18648, INDICE_MATEMATICAS#18649, INDICE_C_NATURALES#18650, INDICE_SOCIALES_CIUDADANAS#18651, INDICE_LECTURA_CRITICA#18652, INDICE_INGLES#18653, INDICE_TOTAL#18654, COLE_CATEGORIA#18655]\\n                              +- Relation[PERIODO#18636,COLE_COD_DANE#18637L,COLE_INST_NOMBRE#18638,COLE_CODMPIO_COLEGIO#18639,COLE_MPIO_MUNICIPIO#18640,COLE_COD_DEPTO#18641,COLE_DEPTO_COLEGIO#18642,COLE_NATURALEZA#18643,COLE_GRADO#18644,COLE_CALENDARIO_COLEGIO#18645,COLE_GENEROPOBLACION#18646,MATRICULADOS_ULTIMOS_3#18647,EVALUADOS_ULTIMOS_3#18648,INDICE_MATEMATICAS#18649,INDICE_C_NATURALES#18650,INDICE_SOCIALES_CIUDADANAS#18651,INDICE_LECTURA_CRITICA#18652,INDICE_INGLES#18653,INDICE_TOTAL#18654,COLE_CATEGORIA#18655] csv\\n\""
     ]
    }
   ],
   "source": [
    "dfjoin2 = dfjoin2.withColumn(\"rankIndiceTotal\", dense_rank().over(Window.orderBy(desc(\"INDICE_TOTAL\"))))\n",
    "dfjoin2.select('rankProm','rankIndiceTotal','INDICE_TOTAL','COLE_COD_DANE_ESTABLECIMIENTO','COLE_NOMBRE_ESTABLECIMIENTO','INDICE_TOTAL').show(10)"
   ]
  },
  {
   "cell_type": "code",
   "execution_count": null,
   "metadata": {},
   "outputs": [],
   "source": []
  }
 ],
 "metadata": {
  "kernelspec": {
   "display_name": "Python 3",
   "language": "python",
   "name": "python3"
  },
  "language_info": {
   "codemirror_mode": {
    "name": "ipython",
    "version": 3
   },
   "file_extension": ".py",
   "mimetype": "text/x-python",
   "name": "python",
   "nbconvert_exporter": "python",
   "pygments_lexer": "ipython3",
   "version": "3.7.3"
  }
 },
 "nbformat": 4,
 "nbformat_minor": 2
}
