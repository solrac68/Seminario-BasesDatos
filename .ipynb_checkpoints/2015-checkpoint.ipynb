{
 "cells": [
  {
   "cell_type": "code",
   "execution_count": 1,
   "metadata": {},
   "outputs": [],
   "source": [
    "from pyspark.sql import SparkSession\n",
    "from pyspark.sql import Row\n",
    "from functools import reduce\n",
    "from pyspark.sql import DataFrame\n",
    "from pyspark.sql.types import StringType,DoubleType,FloatType\n",
    "from pyspark.sql.functions import udf\n",
    "from pyspark.sql.functions import regexp_replace\n",
    "from pyspark.sql.functions import lit\n",
    "import locale\n",
    "import sys\n",
    "import os\n",
    "import re"
   ]
  },
  {
   "cell_type": "code",
   "execution_count": 2,
   "metadata": {},
   "outputs": [
    {
     "data": {
      "text/html": [
       "\n",
       "        <div>\n",
       "            <p><b>SparkContext</b></p>\n",
       "\n",
       "            <p><a href=\"http://nodo1:4042\">Spark UI</a></p>\n",
       "\n",
       "            <dl>\n",
       "              <dt>Version</dt>\n",
       "                <dd><code>v2.4.3</code></dd>\n",
       "              <dt>Master</dt>\n",
       "                <dd><code>local[*]</code></dd>\n",
       "              <dt>AppName</dt>\n",
       "                <dd><code>PySparkShell</code></dd>\n",
       "            </dl>\n",
       "        </div>\n",
       "        "
      ],
      "text/plain": [
       "<SparkContext master=local[*] appName=PySparkShell>"
      ]
     },
     "execution_count": 2,
     "metadata": {},
     "output_type": "execute_result"
    }
   ],
   "source": [
    "sc"
   ]
  },
  {
   "cell_type": "code",
   "execution_count": 3,
   "metadata": {},
   "outputs": [
    {
     "data": {
      "text/html": [
       "\n",
       "            <div>\n",
       "                <p><b>SparkSession - hive</b></p>\n",
       "                \n",
       "        <div>\n",
       "            <p><b>SparkContext</b></p>\n",
       "\n",
       "            <p><a href=\"http://nodo1:4042\">Spark UI</a></p>\n",
       "\n",
       "            <dl>\n",
       "              <dt>Version</dt>\n",
       "                <dd><code>v2.4.3</code></dd>\n",
       "              <dt>Master</dt>\n",
       "                <dd><code>local[*]</code></dd>\n",
       "              <dt>AppName</dt>\n",
       "                <dd><code>PySparkShell</code></dd>\n",
       "            </dl>\n",
       "        </div>\n",
       "        \n",
       "            </div>\n",
       "        "
      ],
      "text/plain": [
       "<pyspark.sql.session.SparkSession at 0x7f396432d630>"
      ]
     },
     "execution_count": 3,
     "metadata": {},
     "output_type": "execute_result"
    }
   ],
   "source": [
    "spark"
   ]
  },
  {
   "cell_type": "markdown",
   "metadata": {},
   "source": [
    "# Leyendo lista de Colegios y Estudiantes"
   ]
  },
  {
   "cell_type": "code",
   "execution_count": 4,
   "metadata": {},
   "outputs": [],
   "source": [
    "base = '../Colegios'\n",
    "base2 = '../SB'\n",
    "colegios = os.listdir('../Colegios')\n",
    "estudiantes = os.listdir('../SB')"
   ]
  },
  {
   "cell_type": "code",
   "execution_count": 5,
   "metadata": {},
   "outputs": [],
   "source": [
    "estudiantes.sort()\n",
    "colegios.sort()\n",
    "estuDic = {}\n",
    "coleDic = {}\n",
    "for estu in estudiantes:\n",
    "    estuDic[re.findall('\\d+', estu)[1]] = estu\n",
    "\n",
    "for colegio in colegios:\n",
    "    coleDic[re.findall('\\d+', colegio)[1]] = colegio"
   ]
  },
  {
   "cell_type": "code",
   "execution_count": 6,
   "metadata": {},
   "outputs": [],
   "source": [
    "# Funciòn para unir cualquier nùmero de dataframes con la misma estructura \n",
    "def unionAll(*dfs):\n",
    "    return reduce(DataFrame.unionAll, dfs)"
   ]
  },
  {
   "cell_type": "code",
   "execution_count": 7,
   "metadata": {},
   "outputs": [
    {
     "name": "stdout",
     "output_type": "stream",
     "text": [
      "Archivos de estudiantes:  SB11_20151.txt SB11_20152.txt\n",
      "Archivos de colegios:  SB11-CLASIFI-PLANTELES-20151.txt SB11-CLASIFI-PLANTELES-20152.txt\n"
     ]
    }
   ],
   "source": [
    "print(\"Archivos de estudiantes: \", estuDic['20151'],estuDic['20152'])\n",
    "print(\"Archivos de colegios: \",coleDic['20151'],coleDic['20152'])"
   ]
  },
  {
   "cell_type": "code",
   "execution_count": 8,
   "metadata": {},
   "outputs": [],
   "source": [
    "df1 = spark.read.load(base2 + '/' + estuDic['20151'],\"com.databricks.spark.csv\",header='true',inferSchema='true',sep='¬')"
   ]
  },
  {
   "cell_type": "code",
   "execution_count": 9,
   "metadata": {},
   "outputs": [
    {
     "data": {
      "text/plain": [
       "['ESTU_TIPODOCUMENTO',\n",
       " 'ESTU_NACIONALIDAD',\n",
       " 'ESTU_GENERO',\n",
       " 'ESTU_FECHANACIMIENTO',\n",
       " 'PERIODO',\n",
       " 'ESTU_CONSECUTIVO',\n",
       " 'ESTU_ESTUDIANTE',\n",
       " 'ESTU_PAIS_RESIDE',\n",
       " 'ESTU_ETNIA',\n",
       " 'ESTU_LIMITA_MOTRIZ',\n",
       " 'ESTU_LIMITA_INVIDENTE',\n",
       " 'ESTU_LIMITA_CONDICIONESPECIAL',\n",
       " 'ESTU_LIMITA_SORDO',\n",
       " 'ESTU_LIMITA_SDOWN',\n",
       " 'ESTU_LIMITA_AUTISMO',\n",
       " 'ESTU_DEPTO_RESIDE',\n",
       " 'ESTU_COD_RESIDE_DEPTO',\n",
       " 'ESTU_MCPIO_RESIDE',\n",
       " 'ESTU_COD_RESIDE_MCPIO',\n",
       " 'ESTU_AREARESIDE',\n",
       " 'ESTU_VALORPENSIONCOLEGIO',\n",
       " 'ESTU_VECESPRESENTOEXAMEN',\n",
       " 'FAMI_EDUCACIONPADRE',\n",
       " 'FAMI_EDUCACIONMADRE',\n",
       " 'FAMI_OCUPACIONPADRE',\n",
       " 'FAMI_OCUPACIONMADRE',\n",
       " 'FAMI_NUMHERMANOS',\n",
       " 'FAMI_ESTRATOVIVIENDA',\n",
       " 'FAMI_NIVELSISBEN',\n",
       " 'FAMI_PERSONASHOGAR',\n",
       " 'FAMI_CUARTOSHOGAR',\n",
       " 'FAMI_PISOSHOGAR',\n",
       " 'FAMI_TIENEINTERNET',\n",
       " 'FAMI_TIENECOMPUTADOR',\n",
       " 'FAMI_TIENELAVADORA',\n",
       " 'FAMI_TIENEMICROONDAS',\n",
       " 'FAMI_TIENEHORNO',\n",
       " 'FAMI_TIENESERVICIOTV',\n",
       " 'FAMI_TIENEAUTOMOVIL',\n",
       " 'FAMI_TIENEDVD',\n",
       " 'FAMI_TELEFONO',\n",
       " 'FAMI_NUMLIBROS',\n",
       " 'FAMI_INGRESOFMILIARMENSUAL',\n",
       " 'ESTU_TRABAJAACTUALMENTE',\n",
       " 'ESTU_RECIBESALARIO',\n",
       " 'ESTU_ANTECEDENTES',\n",
       " 'ESTU_ANOSPREESCOLAR',\n",
       " 'ESTU_ANOMATRICULAPRIMERO',\n",
       " 'ESTU_ANOTERMINOQUINTO',\n",
       " 'ESTU_ANOMATRICULASEXTO',\n",
       " 'ESTU_REPROBOPRIMERO',\n",
       " 'ESTU_REPROBOSEGUNDO',\n",
       " 'ESTU_REPROBOTERCERO',\n",
       " 'ESTU_REPROBOCUARTO',\n",
       " 'ESTU_REPROBOQUINTO',\n",
       " 'ESTU_REPROBOSEXTO',\n",
       " 'ESTU_REPROBOSEPTIMO',\n",
       " 'ESTU_REPROBOOCTAVO',\n",
       " 'ESTU_REPROBONOVENO',\n",
       " 'ESTU_REPROBOONCEMAS',\n",
       " 'ESTU_ANOSCOLEGIOACTUAL',\n",
       " 'ESTU_CUANTOSCOLEGIOESTUDIO',\n",
       " 'ESTU_SERETIROCOLEGIO',\n",
       " 'ESTU_RAZONRETIROCOLEGIO',\n",
       " 'ESTU_TOTALALUMNOSCURSO',\n",
       " 'ESTU_VECESFALTOCOLEGIO',\n",
       " 'ESTU_PROMEDIOSALON',\n",
       " 'ESTU_TIPOCARRERADESEADA',\n",
       " 'ESTU_IESDESEADA',\n",
       " 'ESTU_COD_IESDESEADA',\n",
       " 'ESTU_MCPIOIESDESEADA',\n",
       " 'ESTU_COD_MCPIOIESDESEADA',\n",
       " 'ESTU_INSTPORPRESTIGIO',\n",
       " 'ESTU_INSTPORCOSTOMATRICULA',\n",
       " 'ESTU_INSTPORUBICACION',\n",
       " 'ESTU_INSTPORUNICAQUEOFRECE',\n",
       " 'ESTU_INSTPOROPORTUNIDADES',\n",
       " 'ESTU_INSTPORAMIGOSESTUDIANDO',\n",
       " 'ESTU_INSTPOROTRARAZON',\n",
       " 'ESTU_COD_PROGRAMADESEADO',\n",
       " 'ESTU_PROGRAMADESEADO',\n",
       " 'ESTU_PROGORIENTACIONVOCACIONAL',\n",
       " 'ESTU_PROGPORBUSCANDOCARRERA',\n",
       " 'ESTU_PROGPORCOLOMBIAAPRENDE',\n",
       " 'ESTU_PROGPORINTERESPERSONAL',\n",
       " 'ESTU_PROGPORTRADICIONFAMILIAR',\n",
       " 'ESTU_PROGPORMEJORARPOSICSOCIAL',\n",
       " 'ESTU_PROGPORINFLUENCIAALGUIEN',\n",
       " 'COLE_CODIGO_ICFES',\n",
       " 'COLE_COD_DANE_ESTABLECIMIENTO',\n",
       " 'COLE_NOMBRE_ESTABLECIMIENTO',\n",
       " 'COLE_GENERO',\n",
       " 'COLE_NATURALEZA',\n",
       " 'COLE_CALENDARIO',\n",
       " 'COLE_BILINGUE',\n",
       " 'COLE_CARACTER',\n",
       " 'COLE_COD_DANE_SEDE',\n",
       " 'COLE_NOMBRE_SEDE',\n",
       " 'COLE_SEDE_PRINCIPAL',\n",
       " 'COLE_AREA_UBICACION',\n",
       " 'COLE_JORNADA',\n",
       " 'COLE_COD_MCPIO_UBICACION',\n",
       " 'COLE_MCPIO_UBICACION',\n",
       " 'COLE_COD_DEPTO_UBICACION',\n",
       " 'COLE_DEPTO_UBICACION',\n",
       " 'ESTU_PRIVADO_LIBERTAD',\n",
       " 'ESTU_COD_MCPIO_PRESENTACION',\n",
       " 'ESTU_MCPIO_PRESENTACION',\n",
       " 'ESTU_DEPTO_PRESENTACION',\n",
       " 'ESTU_COD_DEPTO_PRESENTACION',\n",
       " 'PUNT_LECTURA_CRITICA',\n",
       " 'DECIL_LECTURA_CRITICA',\n",
       " 'PUNT_MATEMATICAS',\n",
       " 'DECIL_MATEMATICAS',\n",
       " 'PUNT_C_NATURALES',\n",
       " 'DECIL_C_NATURALES',\n",
       " 'PUNT_SOCIALES_CIUDADANAS',\n",
       " 'DECIL_SOCIALES_CIUDADANAS',\n",
       " 'PUNT_RAZONA_CUANTITATIVO',\n",
       " 'DECIL_RAZONA_CUANTITATIVO',\n",
       " 'PUNT_COMP_CIUDADANA',\n",
       " 'DECIL_COMP_CIUDADANA',\n",
       " 'PUNT_INGLES',\n",
       " 'DECIL_INGLES',\n",
       " 'DESEMP_INGLES',\n",
       " 'PUNT_GLOBAL',\n",
       " 'ESTU_PUESTO',\n",
       " 'ESTU_INSE_INDIVIDUAL',\n",
       " 'ESTU_NSE_INDIVIDUAL',\n",
       " 'ESTU_ESTADOINVESTIGACION']"
      ]
     },
     "execution_count": 9,
     "metadata": {},
     "output_type": "execute_result"
    }
   ],
   "source": [
    "df1.columns"
   ]
  },
  {
   "cell_type": "code",
   "execution_count": 10,
   "metadata": {},
   "outputs": [],
   "source": [
    "columnasPuntos20151 = [\n",
    " 'COLE_COD_DANE_ESTABLECIMIENTO',\n",
    " 'COLE_NOMBRE_ESTABLECIMIENTO',\n",
    " 'PUNT_LECTURA_CRITICA',\n",
    " 'PUNT_MATEMATICAS',\n",
    " 'PUNT_C_NATURALES',\n",
    " 'PUNT_SOCIALES_CIUDADANAS',\n",
    " 'PUNT_RAZONA_CUANTITATIVO',\n",
    " 'PUNT_COMP_CIUDADANA',\n",
    " 'PUNT_INGLES']"
   ]
  },
  {
   "cell_type": "code",
   "execution_count": 11,
   "metadata": {},
   "outputs": [],
   "source": [
    "df1 = df1.select(columnasPuntos20151)"
   ]
  },
  {
   "cell_type": "code",
   "execution_count": 12,
   "metadata": {},
   "outputs": [],
   "source": [
    "# SE leen los dos archivos y se crean dos dataframes\n",
    "df2 = spark.read.load(base2 + '/' + estuDic['20152'],\"com.databricks.spark.csv\",header='true',inferSchema='true',sep='¬')"
   ]
  },
  {
   "cell_type": "code",
   "execution_count": 13,
   "metadata": {},
   "outputs": [
    {
     "data": {
      "text/plain": [
       "['ESTU_TIPODOCUMENTO',\n",
       " 'ESTU_NACIONALIDAD',\n",
       " 'ESTU_GENERO',\n",
       " 'ESTU_FECHANACIMIENTO',\n",
       " 'PERIODO',\n",
       " 'ESTU_CONSECUTIVO',\n",
       " 'ESTU_ESTUDIANTE',\n",
       " 'ESTU_PAIS_RESIDE',\n",
       " 'ESTU_TIENEETNIA',\n",
       " 'ESTU_ETNIA',\n",
       " 'ESTU_LIMITA_MOTRIZ',\n",
       " 'ESTU_LIMITA_INVIDENTE',\n",
       " 'ESTU_LIMITA_CONDICIONESPECIAL',\n",
       " 'ESTU_LIMITA_SORDO',\n",
       " 'ESTU_LIMITA_SDOWN',\n",
       " 'ESTU_LIMITA_AUTISMO',\n",
       " 'ESTU_DEPTO_RESIDE',\n",
       " 'ESTU_COD_RESIDE_DEPTO',\n",
       " 'ESTU_MCPIO_RESIDE',\n",
       " 'ESTU_COD_RESIDE_MCPIO',\n",
       " 'ESTU_AREARESIDE',\n",
       " 'ESTU_VALORPENSIONCOLEGIO',\n",
       " 'ESTU_VECESPRESENTOEXAMEN',\n",
       " 'FAMI_EDUCACIONPADRE',\n",
       " 'FAMI_EDUCACIONMADRE',\n",
       " 'FAMI_OCUPACIONPADRE',\n",
       " 'FAMI_OCUPACIONMADRE',\n",
       " 'FAMI_NUMHERMANOS',\n",
       " 'FAMI_ESTRATOVIVIENDA',\n",
       " 'FAMI_NIVELSISBEN',\n",
       " 'FAMI_PERSONASHOGAR',\n",
       " 'FAMI_CUARTOSHOGAR',\n",
       " 'FAMI_PISOSHOGAR',\n",
       " 'FAMI_TIENEINTERNET',\n",
       " 'FAMI_TIENECOMPUTADOR',\n",
       " 'FAMI_TIENELAVADORA',\n",
       " 'FAMI_TIENEMICROONDAS',\n",
       " 'FAMI_TIENEHORNO',\n",
       " 'FAMI_TIENESERVICIOTV',\n",
       " 'FAMI_TIENEAUTOMOVIL',\n",
       " 'FAMI_TIENEDVD',\n",
       " 'FAMI_TELEFONO',\n",
       " 'FAMI_NUMLIBROS',\n",
       " 'FAMI_INGRESOFMILIARMENSUAL',\n",
       " 'ESTU_TRABAJAACTUALMENTE',\n",
       " 'ESTU_RECIBESALARIO',\n",
       " 'COLE_CODIGO_ICFES',\n",
       " 'COLE_COD_DANE_ESTABLECIMIENTO',\n",
       " 'COLE_NOMBRE_ESTABLECIMIENTO',\n",
       " 'COLE_GENERO',\n",
       " 'COLE_NATURALEZA',\n",
       " 'COLE_CALENDARIO',\n",
       " 'COLE_BILINGUE',\n",
       " 'COLE_CARACTER',\n",
       " 'COLE_COD_DANE_SEDE',\n",
       " 'COLE_NOMBRE_SEDE',\n",
       " 'COLE_SEDE_PRINCIPAL',\n",
       " 'COLE_AREA_UBICACION',\n",
       " 'COLE_JORNADA',\n",
       " 'COLE_COD_MCPIO_UBICACION',\n",
       " 'COLE_MCPIO_UBICACION',\n",
       " 'COLE_COD_DEPTO_UBICACION',\n",
       " 'COLE_DEPTO_UBICACION',\n",
       " 'ESTU_PRIVADO_LIBERTAD',\n",
       " 'ESTU_COD_MCPIO_PRESENTACION',\n",
       " 'ESTU_MCPIO_PRESENTACION',\n",
       " 'ESTU_DEPTO_PRESENTACION',\n",
       " 'ESTU_COD_DEPTO_PRESENTACION',\n",
       " 'PUNT_LECTURA_CRITICA',\n",
       " 'DECIL_LECTURA_CRITICA',\n",
       " 'PUNT_MATEMATICAS',\n",
       " 'DECIL_MATEMATICAS',\n",
       " 'PUNT_C_NATURALES',\n",
       " 'DECIL_C_NATURALES',\n",
       " 'PUNT_SOCIALES_CIUDADANAS',\n",
       " 'DECIL_SOCIALES_CIUDADANAS',\n",
       " 'PUNT_RAZONA_CUANTITATIVO',\n",
       " 'DECIL_RAZONA_CUANTITATIVO',\n",
       " 'PUNT_COMP_CIUDADANA',\n",
       " 'DECIL_COMP_CIUDADANA',\n",
       " 'PUNT_INGLES',\n",
       " 'DECIL_INGLES',\n",
       " 'DESEMP_INGLES',\n",
       " 'PUNT_GLOBAL',\n",
       " 'ESTU_PUESTO',\n",
       " 'ESTU_INSE_INDIVIDUAL',\n",
       " 'ESTU_NSE_INDIVIDUAL',\n",
       " 'ESTU_ESTADOINVESTIGACION']"
      ]
     },
     "execution_count": 13,
     "metadata": {},
     "output_type": "execute_result"
    }
   ],
   "source": [
    "df2.columns"
   ]
  },
  {
   "cell_type": "code",
   "execution_count": 14,
   "metadata": {},
   "outputs": [],
   "source": [
    "columnasPuntos20152 = [\n",
    " 'COLE_COD_DANE_ESTABLECIMIENTO',\n",
    " 'COLE_NOMBRE_ESTABLECIMIENTO',\n",
    " 'PUNT_LECTURA_CRITICA',\n",
    " 'PUNT_MATEMATICAS',\n",
    " 'PUNT_C_NATURALES',\n",
    " 'PUNT_SOCIALES_CIUDADANAS',\n",
    " 'PUNT_RAZONA_CUANTITATIVO',\n",
    " 'PUNT_COMP_CIUDADANA',\n",
    " 'PUNT_INGLES']"
   ]
  },
  {
   "cell_type": "code",
   "execution_count": 15,
   "metadata": {},
   "outputs": [],
   "source": [
    "df2 = df2.select(columnasPuntos20152)"
   ]
  },
  {
   "cell_type": "code",
   "execution_count": 16,
   "metadata": {},
   "outputs": [
    {
     "data": {
      "text/plain": [
       "['PUNT_LECTURA_CRITICA',\n",
       " 'PUNT_MATEMATICAS',\n",
       " 'PUNT_C_NATURALES',\n",
       " 'PUNT_SOCIALES_CIUDADANAS',\n",
       " 'PUNT_RAZONA_CUANTITATIVO',\n",
       " 'PUNT_COMP_CIUDADANA',\n",
       " 'PUNT_INGLES']"
      ]
     },
     "execution_count": 16,
     "metadata": {},
     "output_type": "execute_result"
    }
   ],
   "source": [
    "#dft = df1.columns.remove('cole_cod_dane_institucion')\n",
    "cols = df1.columns\n",
    "cols.remove('COLE_COD_DANE_ESTABLECIMIENTO')\n",
    "cols.remove('COLE_NOMBRE_ESTABLECIMIENTO')\n",
    "cols"
   ]
  },
  {
   "cell_type": "code",
   "execution_count": 17,
   "metadata": {},
   "outputs": [],
   "source": [
    "# SE unen los dos dataframes\n",
    "# df = unionAll(df1,df2)\n",
    "for cp in cols:\n",
    "    df1 = df1.withColumn(cp, regexp_replace(cp, ',', '.'))\n",
    "    df1 = df1.withColumn(cp, df1[cp].cast(\"float\"))\n",
    "    df1 = df1.na.fill({cp:0})"
   ]
  },
  {
   "cell_type": "code",
   "execution_count": 18,
   "metadata": {},
   "outputs": [],
   "source": [
    "df1 = df1.withColumn('COLE_COD_DANE_ESTABLECIMIENTO', df1['COLE_COD_DANE_ESTABLECIMIENTO'].cast(\"string\"))"
   ]
  },
  {
   "cell_type": "code",
   "execution_count": 19,
   "metadata": {},
   "outputs": [],
   "source": [
    "cols2 = df2.columns\n",
    "cols2.remove('COLE_COD_DANE_ESTABLECIMIENTO')\n",
    "cols2.remove('COLE_NOMBRE_ESTABLECIMIENTO')"
   ]
  },
  {
   "cell_type": "code",
   "execution_count": 20,
   "metadata": {},
   "outputs": [],
   "source": [
    "for cp in cols2:\n",
    "    df2 = df2.withColumn(cp, regexp_replace(cp, ',', '.'))\n",
    "    df2 = df2.withColumn(cp, df2[cp].cast(\"float\"))\n",
    "    df2 = df2.na.fill({cp:0})\n",
    "df2 = df2.withColumn('COLE_COD_DANE_ESTABLECIMIENTO', df2['COLE_COD_DANE_ESTABLECIMIENTO'].cast(\"string\"))"
   ]
  },
  {
   "cell_type": "code",
   "execution_count": 21,
   "metadata": {},
   "outputs": [
    {
     "name": "stdout",
     "output_type": "stream",
     "text": [
      "Numero de filas primero semestre  25947\n",
      "Numero de filas segundo semestre  542450\n"
     ]
    }
   ],
   "source": [
    "print(\"Numero de filas primero semestre \", df1.count())\n",
    "print(\"Numero de filas segundo semestre \", df2.count())"
   ]
  },
  {
   "cell_type": "code",
   "execution_count": 22,
   "metadata": {},
   "outputs": [
    {
     "name": "stdout",
     "output_type": "stream",
     "text": [
      "root\n",
      " |-- COLE_COD_DANE_ESTABLECIMIENTO: string (nullable = true)\n",
      " |-- COLE_NOMBRE_ESTABLECIMIENTO: string (nullable = true)\n",
      " |-- PUNT_LECTURA_CRITICA: float (nullable = false)\n",
      " |-- PUNT_MATEMATICAS: float (nullable = false)\n",
      " |-- PUNT_C_NATURALES: float (nullable = false)\n",
      " |-- PUNT_SOCIALES_CIUDADANAS: float (nullable = false)\n",
      " |-- PUNT_RAZONA_CUANTITATIVO: float (nullable = false)\n",
      " |-- PUNT_COMP_CIUDADANA: float (nullable = false)\n",
      " |-- PUNT_INGLES: float (nullable = false)\n",
      "\n",
      "None\n"
     ]
    }
   ],
   "source": [
    "print(df1.printSchema())"
   ]
  },
  {
   "cell_type": "code",
   "execution_count": 23,
   "metadata": {},
   "outputs": [
    {
     "name": "stdout",
     "output_type": "stream",
     "text": [
      "root\n",
      " |-- COLE_COD_DANE_ESTABLECIMIENTO: string (nullable = true)\n",
      " |-- COLE_NOMBRE_ESTABLECIMIENTO: string (nullable = true)\n",
      " |-- PUNT_LECTURA_CRITICA: float (nullable = false)\n",
      " |-- PUNT_MATEMATICAS: float (nullable = false)\n",
      " |-- PUNT_C_NATURALES: float (nullable = false)\n",
      " |-- PUNT_SOCIALES_CIUDADANAS: float (nullable = false)\n",
      " |-- PUNT_RAZONA_CUANTITATIVO: float (nullable = false)\n",
      " |-- PUNT_COMP_CIUDADANA: float (nullable = false)\n",
      " |-- PUNT_INGLES: float (nullable = false)\n",
      "\n",
      "None\n"
     ]
    }
   ],
   "source": [
    "print(df2.printSchema())"
   ]
  },
  {
   "cell_type": "code",
   "execution_count": 24,
   "metadata": {},
   "outputs": [],
   "source": [
    "# Contando el numero de estudiantes por instituciòn y mostrandola de forma descendente\n",
    "dsCountEst1 = df1.groupBy('COLE_COD_DANE_ESTABLECIMIENTO').count().orderBy('count',ascending=\n",
    "False)\n",
    "dsCountEst2 = df2.groupBy('COLE_COD_DANE_ESTABLECIMIENTO').count().orderBy('count',ascending=\n",
    "False)"
   ]
  },
  {
   "cell_type": "code",
   "execution_count": 25,
   "metadata": {},
   "outputs": [
    {
     "name": "stdout",
     "output_type": "stream",
     "text": [
      "+-----------------------------+-----+\n",
      "|COLE_COD_DANE_ESTABLECIMIENTO|count|\n",
      "+-----------------------------+-----+\n",
      "|311001105863                 |332  |\n",
      "|311001104786                 |288  |\n",
      "|305001024544                 |236  |\n",
      "|376001028219                 |208  |\n",
      "|376001000721                 |167  |\n",
      "|376001003461                 |160  |\n",
      "|376001007670                 |144  |\n",
      "|305088002488                 |142  |\n",
      "|305001024505                 |135  |\n",
      "|376001001116                 |129  |\n",
      "+-----------------------------+-----+\n",
      "only showing top 10 rows\n",
      "\n"
     ]
    }
   ],
   "source": [
    "dsCountEst1.show(10,False)\n",
    "# Numero de estudiantes por instituciòn primer semestre"
   ]
  },
  {
   "cell_type": "code",
   "execution_count": 26,
   "metadata": {},
   "outputs": [
    {
     "data": {
      "text/plain": [
       "892"
      ]
     },
     "execution_count": 26,
     "metadata": {},
     "output_type": "execute_result"
    }
   ],
   "source": [
    "dsCountEst1.count()"
   ]
  },
  {
   "cell_type": "code",
   "execution_count": 27,
   "metadata": {},
   "outputs": [
    {
     "name": "stdout",
     "output_type": "stream",
     "text": [
      "+-----------------------------+-----+\n",
      "|COLE_COD_DANE_ESTABLECIMIENTO|count|\n",
      "+-----------------------------+-----+\n",
      "|105001000108                 |987  |\n",
      "|311001105863                 |787  |\n",
      "|305001007861                 |765  |\n",
      "|105001013340                 |686  |\n",
      "|311001105391                 |675  |\n",
      "|105615000236                 |618  |\n",
      "|405001016946                 |595  |\n",
      "|305001017361                 |592  |\n",
      "|111001024732                 |587  |\n",
      "|176001005813                 |581  |\n",
      "+-----------------------------+-----+\n",
      "only showing top 10 rows\n",
      "\n"
     ]
    }
   ],
   "source": [
    "dsCountEst2.show(10,False)\n",
    "# Numero de estudiantes por instituciòn segundo semestre"
   ]
  },
  {
   "cell_type": "code",
   "execution_count": 28,
   "metadata": {},
   "outputs": [],
   "source": [
    "#Se crea una columna con el total de los puntajes \n",
    "df1= df1.withColumn(\"Suma\",df1['PUNT_LECTURA_CRITICA']+df1['PUNT_MATEMATICAS']+df1['PUNT_C_NATURALES']+\n",
    "                    df1['PUNT_SOCIALES_CIUDADANAS']+df1['PUNT_RAZONA_CUANTITATIVO']+\n",
    "                    df1['PUNT_COMP_CIUDADANA']+df1['PUNT_INGLES'])\n",
    "\n",
    "df2= df2.withColumn(\"Suma\",df2['PUNT_LECTURA_CRITICA']+df2['PUNT_MATEMATICAS']+df2['PUNT_C_NATURALES']+\n",
    "                    df2['PUNT_SOCIALES_CIUDADANAS']+df2['PUNT_RAZONA_CUANTITATIVO']+\n",
    "                    df2['PUNT_COMP_CIUDADANA']+df2['PUNT_INGLES'])"
   ]
  },
  {
   "cell_type": "markdown",
   "metadata": {},
   "source": [
    "## Resultados finales por instituciòn 1er semestre"
   ]
  },
  {
   "cell_type": "code",
   "execution_count": 29,
   "metadata": {},
   "outputs": [],
   "source": [
    "# Còdigo para obtener la media de los resultados de las evaluaciones de todos los estudiantes por instituciòn \n",
    "# y posiciòn en orden descendente.\n",
    "from pyspark.sql.functions import *\n",
    "from pyspark.sql.window import Window\n",
    "\n",
    "df1 = df1.groupBy('COLE_COD_DANE_ESTABLECIMIENTO','COLE_NOMBRE_ESTABLECIMIENTO').mean()\n",
    "df1 = df1.withColumn(\"rank\", dense_rank().over(Window.orderBy(desc(\"avg(Suma)\"))))\n",
    "df1 = df1.orderBy('rank',ascending= True)"
   ]
  },
  {
   "cell_type": "code",
   "execution_count": 30,
   "metadata": {
    "scrolled": true
   },
   "outputs": [
    {
     "name": "stdout",
     "output_type": "stream",
     "text": [
      "+-----------------------------+----------------------------------+-----------------+----+\n",
      "|COLE_COD_DANE_ESTABLECIMIENTO|COLE_NOMBRE_ESTABLECIMIENTO       |avg(Suma)        |rank|\n",
      "+-----------------------------+----------------------------------+-----------------+----+\n",
      "|376001013441                 |COLEGIO BILINGUE DIANA OESE       |575.9705882352941|1   |\n",
      "|311769003342                 |COL LOS NOGALES                   |570.4516129032259|2   |\n",
      "|368276000826                 |COL LA QUINTA DEL PUENTE          |568.8571428571429|3   |\n",
      "|311001105430                 |COL LA COLINA                     |560.8823529411765|4   |\n",
      "|311848002424                 |COL SAN CARLOS                    |559.6666666666666|5   |\n",
      "|311769000165                 |COL SAN JORGE DE INGLATERRA       |559.3108108108108|6   |\n",
      "|376001043617                 |COLEGIO PHILADELPHIA INTERNACIONAL|558.6538461538462|7   |\n",
      "|311848002351                 |COL SANTA FRANCISCA ROMANA        |552.7014925373135|8   |\n",
      "|425758800009                 |COL CAMPOALEGRE LTDA              |552.3125         |9   |\n",
      "|311769004292                 |COL SAN MATEO APOSTOL             |552.0727272727273|10  |\n",
      "+-----------------------------+----------------------------------+-----------------+----+\n",
      "only showing top 10 rows\n",
      "\n"
     ]
    }
   ],
   "source": [
    "df1.select('COLE_COD_DANE_ESTABLECIMIENTO','COLE_NOMBRE_ESTABLECIMIENTO','avg(Suma)','rank').show(10,False)"
   ]
  },
  {
   "cell_type": "markdown",
   "metadata": {},
   "source": [
    "## Resultados finales por instituciòn 2do semestre"
   ]
  },
  {
   "cell_type": "code",
   "execution_count": 31,
   "metadata": {},
   "outputs": [],
   "source": [
    "df2 = df2.groupBy('COLE_COD_DANE_ESTABLECIMIENTO','COLE_NOMBRE_ESTABLECIMIENTO').mean()\n",
    "df2 = df2.withColumn(\"rank\", dense_rank().over(Window.orderBy(desc(\"avg(Suma)\"))))\n",
    "df2 = df2.orderBy('rank',ascending= True)"
   ]
  },
  {
   "cell_type": "code",
   "execution_count": 32,
   "metadata": {},
   "outputs": [
    {
     "name": "stdout",
     "output_type": "stream",
     "text": [
      "+-----------------------------+-------------------------------------------+-----------------+----+\n",
      "|COLE_COD_DANE_ESTABLECIMIENTO|COLE_NOMBRE_ESTABLECIMIENTO                |avg(Suma)        |rank|\n",
      "+-----------------------------+-------------------------------------------+-----------------+----+\n",
      "|311001065489                 |LIC CAMPO DAVID                            |579.3            |1   |\n",
      "|311001076634                 |COL NUEVO COLOMBO AMERICANO                |562.9347826086956|2   |\n",
      "|311001005176                 |LIC NAVARRA                                |557.0            |3   |\n",
      "|311001089221                 |INST ALBERTO MERANI                        |555.0909090909091|4   |\n",
      "|354518001139                 |CAMBRIDGE SCHOOL (GIMN BILING PLAZA SESAMO)|553.3076923076923|5   |\n",
      "|311848000308                 |COL ANGLO AMERICANO                        |549.953947368421 |6   |\n",
      "|311848003072                 |COL INTERNACIONAL DE BOGOTA                |549.0            |7   |\n",
      "|376001024612                 |COL EL PINAR                               |545.0            |8   |\n",
      "|311001086320                 |COLOMBO BRITANICO - BILINGÜE INTERNACIONAL |543.8607594936709|9   |\n",
      "|368001002411                 |FUND COL UIS                               |539.2738095238095|10  |\n",
      "+-----------------------------+-------------------------------------------+-----------------+----+\n",
      "only showing top 10 rows\n",
      "\n"
     ]
    }
   ],
   "source": [
    "df2.select('COLE_COD_DANE_ESTABLECIMIENTO','COLE_NOMBRE_ESTABLECIMIENTO','avg(Suma)','rank').show(10,False)"
   ]
  },
  {
   "cell_type": "markdown",
   "metadata": {},
   "source": [
    "## Colegios primer semestre"
   ]
  },
  {
   "cell_type": "code",
   "execution_count": 33,
   "metadata": {},
   "outputs": [],
   "source": [
    "# SE crea Dataframe de colegios primer semestre\n",
    "dfc = spark.read.load(base + '/' + coleDic['20151'],\"com.databricks.spark.csv\",header='true',inferSchema='true',sep='|')\n",
    "dfc = dfc.withColumn('COLE_COD_DANE', dfc['COLE_COD_DANE'].cast(\"string\"))\n",
    "dfc = dfc.withColumn(\"rankIndiceTotal\", dense_rank().over(Window.orderBy(desc(\"INDICE_TOTAL\"))))\n",
    "dfc = dfc.orderBy('rankIndiceTotal',ascending= True)\n",
    "#dfc = dfc.withColumnRenamed(\"rank\",\"rankIndiceTotal\")"
   ]
  },
  {
   "cell_type": "code",
   "execution_count": 34,
   "metadata": {},
   "outputs": [
    {
     "name": "stdout",
     "output_type": "stream",
     "text": [
      "root\n",
      " |-- PERIODO: integer (nullable = true)\n",
      " |-- COLE_COD_DANE: string (nullable = true)\n",
      " |-- COLE_INST_NOMBRE: string (nullable = true)\n",
      " |-- COLE_CODMPIO_COLEGIO: integer (nullable = true)\n",
      " |-- COLE_MPIO_MUNICIPIO: string (nullable = true)\n",
      " |-- COLE_COD_DEPTO: integer (nullable = true)\n",
      " |-- COLE_DEPTO_COLEGIO: string (nullable = true)\n",
      " |-- COLE_NATURALEZA: string (nullable = true)\n",
      " |-- COLE_GRADO: integer (nullable = true)\n",
      " |-- COLE_CALENDARIO_COLEGIO: string (nullable = true)\n",
      " |-- COLE_GENEROPOBLACION: string (nullable = true)\n",
      " |-- MATRICULADOS_ULTIMOS_3: integer (nullable = true)\n",
      " |-- EVALUADOS_ULTIMOS_3: integer (nullable = true)\n",
      " |-- INDICE_MATEMATICAS: string (nullable = true)\n",
      " |-- INDICE_C_NATURALES: string (nullable = true)\n",
      " |-- INDICE_SOCIALES_CIUDADANAS: string (nullable = true)\n",
      " |-- INDICE_LECTURA_CRITICA: string (nullable = true)\n",
      " |-- INDICE_INGLES: string (nullable = true)\n",
      " |-- INDICE_TOTAL: string (nullable = true)\n",
      " |-- COLE_CATEGORIA: string (nullable = true)\n",
      " |-- rankIndiceTotal: integer (nullable = true)\n",
      "\n",
      "None\n"
     ]
    }
   ],
   "source": [
    "print(dfc.printSchema())"
   ]
  },
  {
   "cell_type": "code",
   "execution_count": 35,
   "metadata": {},
   "outputs": [],
   "source": [
    "colsColegio = dfc.columns"
   ]
  },
  {
   "cell_type": "code",
   "execution_count": 36,
   "metadata": {},
   "outputs": [
    {
     "name": "stdout",
     "output_type": "stream",
     "text": [
      "+---------------+-------------+--------------------+------------+\n",
      "|rankIndiceTotal|COLE_COD_DANE|    COLE_INST_NOMBRE|INDICE_TOTAL|\n",
      "+---------------+-------------+--------------------+------------+\n",
      "|              1| 311769003342|     COL LOS NOGALES|       0,908|\n",
      "|              2| 376001013441|COLEGIO BILINGUE ...|      0,9062|\n",
      "|              3| 368276000826|COL LA QUINTA DEL...|      0,9025|\n",
      "|              4| 311848000278|        GIMN VERMONT|      0,8993|\n",
      "|              5| 311769000165|COL SAN JORGE DE ...|      0,8987|\n",
      "|              6| 311848002351|COL SANTA FRANCIS...|      0,8953|\n",
      "|              6| 311848002424|      COL SAN CARLOS|      0,8953|\n",
      "|              7| 411848002780|COL CAMPOALEGRE LTDA|      0,8914|\n",
      "|              8| 311001105430|       COL LA COLINA|      0,8907|\n",
      "|              9| 311001105375|COL  MONTESSORI B...|      0,8903|\n",
      "+---------------+-------------+--------------------+------------+\n",
      "only showing top 10 rows\n",
      "\n"
     ]
    }
   ],
   "source": [
    "dfc.select('rankIndiceTotal','COLE_COD_DANE','COLE_INST_NOMBRE','INDICE_TOTAL').show(10)"
   ]
  },
  {
   "cell_type": "code",
   "execution_count": 37,
   "metadata": {},
   "outputs": [
    {
     "name": "stdout",
     "output_type": "stream",
     "text": [
      "El numero de colegios es:  500\n"
     ]
    }
   ],
   "source": [
    "print(\"El numero de colegios es: \", dfc.count())"
   ]
  },
  {
   "cell_type": "markdown",
   "metadata": {},
   "source": [
    "## Colegios segundo semestre"
   ]
  },
  {
   "cell_type": "code",
   "execution_count": 52,
   "metadata": {},
   "outputs": [],
   "source": [
    "# SE crea Dataframe de colegios primer semestre\n",
    "dfc2 = spark.read.load(base + '/' + coleDic['20152'],\"com.databricks.spark.csv\",header='true',inferSchema='true',sep='|')\n",
    "dfc2 = dfc2.withColumn('COLE_COD_DANE', dfc2['COLE_COD_DANE'].cast(\"string\"))\n",
    "dfc2 = dfc2.withColumn(\"rankIndiceTotal\", dense_rank().over(Window.orderBy(desc(\"INDICE_TOTAL\"))))\n",
    "dfc2 = dfc2.orderBy('rankIndiceTotal',ascending= True)\n",
    "#dfc = dfc.withColumnRenamed(\"rank\",\"rankIndiceTotal\")"
   ]
  },
  {
   "cell_type": "code",
   "execution_count": 53,
   "metadata": {},
   "outputs": [
    {
     "name": "stdout",
     "output_type": "stream",
     "text": [
      "root\n",
      " |-- PERIODO: integer (nullable = true)\n",
      " |-- COLE_COD_DANE: string (nullable = true)\n",
      " |-- COLE_INST_NOMBRE: string (nullable = true)\n",
      " |-- COLE_CODMPIO_COLEGIO: integer (nullable = true)\n",
      " |-- COLE_MPIO_MUNICIPIO: string (nullable = true)\n",
      " |-- COLE_COD_DEPTO: integer (nullable = true)\n",
      " |-- COLE_DEPTO_COLEGIO: string (nullable = true)\n",
      " |-- COLE_NATURALEZA: string (nullable = true)\n",
      " |-- COLE_GRADO: integer (nullable = true)\n",
      " |-- COLE_CALENDARIO_COLEGIO: string (nullable = true)\n",
      " |-- COLE_GENEROPOBLACION: string (nullable = true)\n",
      " |-- MATRICULADOS_ULTIMOS_3: integer (nullable = true)\n",
      " |-- EVALUADOS_ULTIMOS_3: integer (nullable = true)\n",
      " |-- INDICE_MATEMATICAS: string (nullable = true)\n",
      " |-- INDICE_C_NATURALES: string (nullable = true)\n",
      " |-- INDICE_SOCIALES_CIUDADANAS: string (nullable = true)\n",
      " |-- INDICE_LECTURA_CRITICA: string (nullable = true)\n",
      " |-- INDICE_INGLES: string (nullable = true)\n",
      " |-- INDICE_TOTAL: string (nullable = true)\n",
      " |-- COLE_CATEGORIA: string (nullable = true)\n",
      " |-- rankIndiceTotal: integer (nullable = true)\n",
      "\n",
      "None\n"
     ]
    }
   ],
   "source": [
    "print(dfc2.printSchema())"
   ]
  },
  {
   "cell_type": "code",
   "execution_count": 54,
   "metadata": {},
   "outputs": [
    {
     "name": "stdout",
     "output_type": "stream",
     "text": [
      "+---------------+-------------+--------------------+------------+\n",
      "|rankIndiceTotal|COLE_COD_DANE|    COLE_INST_NOMBRE|INDICE_TOTAL|\n",
      "+---------------+-------------+--------------------+------------+\n",
      "|              1| 354518001139|CAMBRIDGE SCHOOL ...|      0,9131|\n",
      "|              2| 311001089221| INST ALBERTO MERANI|      0,9129|\n",
      "|              3| 311001065489|     LIC CAMPO DAVID|      0,9127|\n",
      "|              4| 311001076634|COL NUEVO COLOMBO...|      0,9077|\n",
      "|              5| 311001005176|         LIC NAVARRA|       0,907|\n",
      "|              6| 311001086320|GIMNASIO COLOMBO ...|      0,9036|\n",
      "|              7| 311848000308| COL ANGLO AMERICANO|      0,8993|\n",
      "|              8| 308001005299|FUNDACION EDUCATI...|      0,8978|\n",
      "|              9| 425214000149|          COL REFOUS|      0,8969|\n",
      "|             10| 311001090921|COL CORAZONISTA H...|      0,8938|\n",
      "+---------------+-------------+--------------------+------------+\n",
      "only showing top 10 rows\n",
      "\n"
     ]
    }
   ],
   "source": [
    "dfc2.select('rankIndiceTotal','COLE_COD_DANE','COLE_INST_NOMBRE','INDICE_TOTAL').show(10)"
   ]
  },
  {
   "cell_type": "code",
   "execution_count": 55,
   "metadata": {},
   "outputs": [
    {
     "name": "stdout",
     "output_type": "stream",
     "text": [
      "El numero de colegios segundo semestre:  9315\n"
     ]
    }
   ],
   "source": [
    "print(\"El numero de colegios segundo semestre: \", dfc2.count())"
   ]
  },
  {
   "cell_type": "markdown",
   "metadata": {},
   "source": [
    "## Anàlisis comparativo entre estudiantes y colegios primer semestre"
   ]
  },
  {
   "cell_type": "code",
   "execution_count": 56,
   "metadata": {},
   "outputs": [],
   "source": [
    "dfjoin = df1.join(dfc, df1.COLE_COD_DANE_ESTABLECIMIENTO == dfc.COLE_COD_DANE)"
   ]
  },
  {
   "cell_type": "code",
   "execution_count": 57,
   "metadata": {},
   "outputs": [
    {
     "name": "stdout",
     "output_type": "stream",
     "text": [
      "Nùmero de colegios coincidentes entre el archivo de estudiantes 1er semestre y colegios: 490\n"
     ]
    }
   ],
   "source": [
    "print(\"Nùmero de colegios coincidentes entre el archivo de estudiantes 1er semestre y colegios:\", dfjoin.count())"
   ]
  },
  {
   "cell_type": "code",
   "execution_count": 58,
   "metadata": {},
   "outputs": [],
   "source": [
    "dfjoinPorNom = df1.join(dfc, df1.COLE_NOMBRE_ESTABLECIMIENTO == dfc.COLE_INST_NOMBRE)"
   ]
  },
  {
   "cell_type": "code",
   "execution_count": 59,
   "metadata": {},
   "outputs": [
    {
     "name": "stdout",
     "output_type": "stream",
     "text": [
      "Nùmero de colegios coincidentes entre el archivo de estudiantes 1er semestre y colegios: 417\n"
     ]
    }
   ],
   "source": [
    "print(\"Nùmero de colegios coincidentes entre el archivo de estudiantes 1er semestre y colegios:\", dfjoinPorNom.count())"
   ]
  },
  {
   "cell_type": "code",
   "execution_count": 60,
   "metadata": {},
   "outputs": [
    {
     "name": "stdout",
     "output_type": "stream",
     "text": [
      "+----+---------------+------------+-----------------------------+---------------------------+------------+\n",
      "|rank|rankIndiceTotal|INDICE_TOTAL|COLE_COD_DANE_ESTABLECIMIENTO|COLE_NOMBRE_ESTABLECIMIENTO|INDICE_TOTAL|\n",
      "+----+---------------+------------+-----------------------------+---------------------------+------------+\n",
      "|   1|              2|      0,9062|                 376001013441|       COLEGIO BILINGUE ...|      0,9062|\n",
      "|   2|              1|       0,908|                 311769003342|            COL LOS NOGALES|       0,908|\n",
      "|   3|              3|      0,9025|                 368276000826|       COL LA QUINTA DEL...|      0,9025|\n",
      "|   4|              8|      0,8907|                 311001105430|              COL LA COLINA|      0,8907|\n",
      "|   5|              6|      0,8953|                 311848002424|             COL SAN CARLOS|      0,8953|\n",
      "|   6|              5|      0,8987|                 311769000165|       COL SAN JORGE DE ...|      0,8987|\n",
      "|   7|             13|      0,8819|                 376001043617|       COLEGIO PHILADELP...|      0,8819|\n",
      "|   8|              6|      0,8953|                 311848002351|       COL SANTA FRANCIS...|      0,8953|\n",
      "|  10|             11|      0,8877|                 311769004292|       COL SAN MATEO APO...|      0,8877|\n",
      "|  11|             15|      0,8787|                 466001005641|       LIC CAMPESTRE DE ...|      0,8787|\n",
      "+----+---------------+------------+-----------------------------+---------------------------+------------+\n",
      "only showing top 10 rows\n",
      "\n"
     ]
    }
   ],
   "source": [
    "# Se cruza la informaciòn por el nombre del colegio - se evidencia que el còdigo DANE no coincide\n",
    "#dfjoin = dfjoin.withColumn(\"rankIndiceTotal\", dense_rank().over(Window.orderBy(desc(\"INDICE_TOTAL\"))))\n",
    "dfjoin.select('rank','rankIndiceTotal','INDICE_TOTAL','COLE_COD_DANE_ESTABLECIMIENTO','COLE_NOMBRE_ESTABLECIMIENTO','INDICE_TOTAL').show(10)"
   ]
  },
  {
   "cell_type": "markdown",
   "metadata": {},
   "source": [
    "## Anàlisis comparativo entre estudiantes y colegios segundo semestre"
   ]
  },
  {
   "cell_type": "code",
   "execution_count": 61,
   "metadata": {},
   "outputs": [],
   "source": [
    "# SE crea Dataframe de colegios segundo semestre\n",
    "# dfc2 = spark.read.load(base + '/' + coleDic['20152'],\"com.databricks.spark.csv\",header='true',inferSchema='true',sep='|')\n",
    "# dfc2 = dfc2.withColumn('COLE_COD_DANE', dfc2['COLE_COD_DANE'].cast(\"string\"))"
   ]
  },
  {
   "cell_type": "code",
   "execution_count": 62,
   "metadata": {},
   "outputs": [],
   "source": [
    "dfjoin2 = df2.join(dfc2, df2.COLE_COD_DANE_ESTABLECIMIENTO == dfc2.COLE_COD_DANE)"
   ]
  },
  {
   "cell_type": "code",
   "execution_count": 63,
   "metadata": {},
   "outputs": [
    {
     "name": "stdout",
     "output_type": "stream",
     "text": [
      "Nùmero de colegios coincidentes entre el archivo de estudiantes 2do semestre y colegios: 9191\n"
     ]
    }
   ],
   "source": [
    "print(\"Nùmero de colegios coincidentes entre el archivo de estudiantes 2do semestre y colegios:\", dfjoin2.count())"
   ]
  },
  {
   "cell_type": "code",
   "execution_count": 64,
   "metadata": {},
   "outputs": [
    {
     "data": {
      "text/plain": [
       "['COLE_COD_DANE_ESTABLECIMIENTO',\n",
       " 'COLE_NOMBRE_ESTABLECIMIENTO',\n",
       " 'avg(PUNT_LECTURA_CRITICA)',\n",
       " 'avg(PUNT_MATEMATICAS)',\n",
       " 'avg(PUNT_C_NATURALES)',\n",
       " 'avg(PUNT_SOCIALES_CIUDADANAS)',\n",
       " 'avg(PUNT_RAZONA_CUANTITATIVO)',\n",
       " 'avg(PUNT_COMP_CIUDADANA)',\n",
       " 'avg(PUNT_INGLES)',\n",
       " 'avg(Suma)',\n",
       " 'rank',\n",
       " 'PERIODO',\n",
       " 'COLE_COD_DANE',\n",
       " 'COLE_INST_NOMBRE',\n",
       " 'COLE_CODMPIO_COLEGIO',\n",
       " 'COLE_MPIO_MUNICIPIO',\n",
       " 'COLE_COD_DEPTO',\n",
       " 'COLE_DEPTO_COLEGIO',\n",
       " 'COLE_NATURALEZA',\n",
       " 'COLE_GRADO',\n",
       " 'COLE_CALENDARIO_COLEGIO',\n",
       " 'COLE_GENEROPOBLACION',\n",
       " 'MATRICULADOS_ULTIMOS_3',\n",
       " 'EVALUADOS_ULTIMOS_3',\n",
       " 'INDICE_MATEMATICAS',\n",
       " 'INDICE_C_NATURALES',\n",
       " 'INDICE_SOCIALES_CIUDADANAS',\n",
       " 'INDICE_LECTURA_CRITICA',\n",
       " 'INDICE_INGLES',\n",
       " 'INDICE_TOTAL',\n",
       " 'COLE_CATEGORIA',\n",
       " 'rankIndiceTotal']"
      ]
     },
     "execution_count": 64,
     "metadata": {},
     "output_type": "execute_result"
    }
   ],
   "source": [
    "dfjoin2.columns"
   ]
  },
  {
   "cell_type": "code",
   "execution_count": 65,
   "metadata": {},
   "outputs": [
    {
     "name": "stdout",
     "output_type": "stream",
     "text": [
      "+----+---------------+------------+-----------------------------+---------------------------+\n",
      "|rank|rankIndiceTotal|INDICE_TOTAL|COLE_COD_DANE_ESTABLECIMIENTO|COLE_NOMBRE_ESTABLECIMIENTO|\n",
      "+----+---------------+------------+-----------------------------+---------------------------+\n",
      "|   1|              3|      0,9127|                 311001065489|            LIC CAMPO DAVID|\n",
      "|   2|              4|      0,9077|                 311001076634|       COL NUEVO COLOMBO...|\n",
      "|   3|              5|       0,907|                 311001005176|                LIC NAVARRA|\n",
      "|   4|              2|      0,9129|                 311001089221|        INST ALBERTO MERANI|\n",
      "|   5|              1|      0,9131|                 354518001139|       CAMBRIDGE SCHOOL ...|\n",
      "|   6|              7|      0,8993|                 311848000308|        COL ANGLO AMERICANO|\n",
      "|   8|           1176|      0,6924|                 376001024612|               COL EL PINAR|\n",
      "|   9|              6|      0,9036|                 311001086320|       COLOMBO BRITANICO...|\n",
      "|  10|             19|      0,8857|                 368001002411|               FUND COL UIS|\n",
      "|  11|             36|      0,8724|                 308001001871|       NUEVO COLEGIO DEL...|\n",
      "+----+---------------+------------+-----------------------------+---------------------------+\n",
      "only showing top 10 rows\n",
      "\n"
     ]
    }
   ],
   "source": [
    "dfjoin2.select('rank','rankIndiceTotal','INDICE_TOTAL','COLE_COD_DANE_ESTABLECIMIENTO','COLE_NOMBRE_ESTABLECIMIENTO').show(10)"
   ]
  },
  {
   "cell_type": "code",
   "execution_count": null,
   "metadata": {},
   "outputs": [],
   "source": []
  }
 ],
 "metadata": {
  "kernelspec": {
   "display_name": "Python 3",
   "language": "python",
   "name": "python3"
  },
  "language_info": {
   "codemirror_mode": {
    "name": "ipython",
    "version": 3
   },
   "file_extension": ".py",
   "mimetype": "text/x-python",
   "name": "python",
   "nbconvert_exporter": "python",
   "pygments_lexer": "ipython3",
   "version": "3.7.3"
  }
 },
 "nbformat": 4,
 "nbformat_minor": 2
}
