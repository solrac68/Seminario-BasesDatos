{
 "cells": [
  {
   "cell_type": "code",
   "execution_count": 24,
   "metadata": {},
   "outputs": [],
   "source": [
    "from pyspark.sql import SparkSession\n",
    "from pyspark.sql import Row\n",
    "from functools import reduce\n",
    "from pyspark.sql import DataFrame\n",
    "from pyspark.sql.types import StringType,DoubleType,FloatType\n",
    "from pyspark.sql.functions import udf\n",
    "from pyspark.sql.functions import regexp_replace\n",
    "from pyspark.sql.functions import lit\n",
    "import locale\n",
    "import sys\n",
    "import os\n",
    "import re"
   ]
  },
  {
   "cell_type": "code",
   "execution_count": 25,
   "metadata": {},
   "outputs": [
    {
     "data": {
      "text/html": [
       "\n",
       "        <div>\n",
       "            <p><b>SparkContext</b></p>\n",
       "\n",
       "            <p><a href=\"http://nodo1:4041\">Spark UI</a></p>\n",
       "\n",
       "            <dl>\n",
       "              <dt>Version</dt>\n",
       "                <dd><code>v2.4.3</code></dd>\n",
       "              <dt>Master</dt>\n",
       "                <dd><code>local[*]</code></dd>\n",
       "              <dt>AppName</dt>\n",
       "                <dd><code>PySparkShell</code></dd>\n",
       "            </dl>\n",
       "        </div>\n",
       "        "
      ],
      "text/plain": [
       "<SparkContext master=local[*] appName=PySparkShell>"
      ]
     },
     "execution_count": 25,
     "metadata": {},
     "output_type": "execute_result"
    }
   ],
   "source": [
    "sc"
   ]
  },
  {
   "cell_type": "code",
   "execution_count": 26,
   "metadata": {},
   "outputs": [
    {
     "data": {
      "text/html": [
       "\n",
       "            <div>\n",
       "                <p><b>SparkSession - hive</b></p>\n",
       "                \n",
       "        <div>\n",
       "            <p><b>SparkContext</b></p>\n",
       "\n",
       "            <p><a href=\"http://nodo1:4041\">Spark UI</a></p>\n",
       "\n",
       "            <dl>\n",
       "              <dt>Version</dt>\n",
       "                <dd><code>v2.4.3</code></dd>\n",
       "              <dt>Master</dt>\n",
       "                <dd><code>local[*]</code></dd>\n",
       "              <dt>AppName</dt>\n",
       "                <dd><code>PySparkShell</code></dd>\n",
       "            </dl>\n",
       "        </div>\n",
       "        \n",
       "            </div>\n",
       "        "
      ],
      "text/plain": [
       "<pyspark.sql.session.SparkSession at 0x7f31e4492630>"
      ]
     },
     "execution_count": 26,
     "metadata": {},
     "output_type": "execute_result"
    }
   ],
   "source": [
    "spark"
   ]
  },
  {
   "cell_type": "markdown",
   "metadata": {},
   "source": [
    "# Leyendo lista de Colegios y Estudiantes"
   ]
  },
  {
   "cell_type": "code",
   "execution_count": 27,
   "metadata": {},
   "outputs": [],
   "source": [
    "base = '../Colegios'\n",
    "base2 = '../SB'\n",
    "colegios = os.listdir('../Colegios')\n",
    "estudiantes = os.listdir('../SB')"
   ]
  },
  {
   "cell_type": "code",
   "execution_count": 28,
   "metadata": {},
   "outputs": [],
   "source": [
    "estudiantes.sort()\n",
    "colegios.sort()\n",
    "estuDic = {}\n",
    "coleDic = {}\n",
    "for estu in estudiantes:\n",
    "    estuDic[re.findall('\\d+', estu)[1]] = estu\n",
    "\n",
    "for colegio in colegios:\n",
    "    coleDic[re.findall('\\d+', colegio)[1]] = colegio"
   ]
  },
  {
   "cell_type": "code",
   "execution_count": 29,
   "metadata": {},
   "outputs": [],
   "source": [
    "# Funciòn para unir cualquier nùmero de dataframes con la misma estructura \n",
    "def unionAll(*dfs):\n",
    "    return reduce(DataFrame.unionAll, dfs)"
   ]
  },
  {
   "cell_type": "code",
   "execution_count": 30,
   "metadata": {},
   "outputs": [
    {
     "name": "stdout",
     "output_type": "stream",
     "text": [
      "Archivos de estudiantes:  SB11_20101.txt SB11_20102.txt\n",
      "Archivos de colegios:  SB11-CLASIFI-PLANTELES-2010.txt\n"
     ]
    }
   ],
   "source": [
    "print(\"Archivos de estudiantes: \", estuDic['20101'],estuDic['20102'])\n",
    "print(\"Archivos de colegios: \",coleDic['2010'])"
   ]
  },
  {
   "cell_type": "code",
   "execution_count": 20,
   "metadata": {},
   "outputs": [],
   "source": [
    "columnasPuntos20101 = [\n",
    " 'cole_cod_dane_institucion',\n",
    " 'punt_lenguaje',\n",
    " 'punt_matematicas',\n",
    " 'punt_c_sociales',\n",
    " 'punt_filosofia',\n",
    " 'punt_biologia',\n",
    " 'punt_quimica',\n",
    " 'punt_fisica',\n",
    " 'punt_ingles',\n",
    " 'punt_profundizacion',\n",
    " 'punt_interdisciplinar']\n",
    "\n",
    "columnasPuntos20102 = [\n",
    " 'cole_cod_dane_institucion',\n",
    " 'punt_lenguaje',\n",
    " 'punt_matematicas',\n",
    " 'punt_c_sociales',\n",
    " 'punt_filosofia',\n",
    " 'punt_biologia',\n",
    " 'punt_quimica',\n",
    " 'punt_fisica',\n",
    " 'punt_ingles',\n",
    " 'punt_comp_flexible']\n",
    "\n",
    "# Columnas en comun entre el primero y el segundo semestre\n",
    "columnasPuntos = [\n",
    " 'cole_cod_dane_institucion',\n",
    " 'punt_lenguaje',\n",
    " 'punt_matematicas',\n",
    " 'punt_c_sociales',\n",
    " 'punt_filosofia',\n",
    " 'punt_biologia',\n",
    " 'punt_quimica',\n",
    " 'punt_fisica',\n",
    " 'punt_ingles']\n",
    "\n",
    "\n",
    "# https://sparkbyexamples.com/spark/rename-a-column-on-spark-dataframes/"
   ]
  },
  {
   "cell_type": "code",
   "execution_count": 21,
   "metadata": {},
   "outputs": [],
   "source": [
    "# from pyspark.sql.functions import lit\n",
    "# df = df.withColumn('año',lit(2009))\n",
    "#df1 = spark.read.load(base2 + '/' + estuDic['20101'],\"com.databricks.spark.csv\",header='true',inferSchema='true',sep='¬').select(columnasPuntos20101)\n",
    "#columnasPuntos20101.remove('cole_cod_dane_institucion')\n",
    "#for cp in columnasPuntos20101:\n",
    "#    df1 = df1.withColumn(cp, regexp_replace(cp, ',', '.'))\n",
    "#    df1 = df1.withColumn(cp, df[cp].cast(\"float\"))"
   ]
  },
  {
   "cell_type": "code",
   "execution_count": 35,
   "metadata": {},
   "outputs": [],
   "source": [
    "# SE leen los dos archivos y se crean dos dataframes\n",
    "df1 = spark.read.load(base2 + '/' + estuDic['20101'],\"com.databricks.spark.csv\",header='true',inferSchema='true',sep='¬').select(columnasPuntos20101).withColumn('punt_comp_flexible',lit(0))\n",
    "df2 = spark.read.load(base2 + '/' + estuDic['20102'],\"com.databricks.spark.csv\",header='true',inferSchema='true',sep='¬').select(columnasPuntos20102).withColumn('punt_profundizacion',lit(0)).withColumn('punt_interdisciplinar',lit(0))"
   ]
  },
  {
   "cell_type": "code",
   "execution_count": 39,
   "metadata": {},
   "outputs": [
    {
     "data": {
      "text/plain": [
       "['punt_lenguaje',\n",
       " 'punt_matematicas',\n",
       " 'punt_c_sociales',\n",
       " 'punt_filosofia',\n",
       " 'punt_biologia',\n",
       " 'punt_quimica',\n",
       " 'punt_fisica',\n",
       " 'punt_ingles',\n",
       " 'punt_profundizacion',\n",
       " 'punt_interdisciplinar',\n",
       " 'punt_comp_flexible']"
      ]
     },
     "execution_count": 39,
     "metadata": {},
     "output_type": "execute_result"
    }
   ],
   "source": [
    "#dft = df1.columns.remove('cole_cod_dane_institucion')\n",
    "cols = df1.columns\n",
    "cols.remove('cole_cod_dane_institucion')\n",
    "cols"
   ]
  },
  {
   "cell_type": "code",
   "execution_count": 40,
   "metadata": {},
   "outputs": [],
   "source": [
    "# SE unen los dos dataframes\n",
    "df = unionAll(df1,df2)\n",
    "for cp in cols:\n",
    "    df = df.withColumn(cp, regexp_replace(cp, ',', '.'))\n",
    "    df = df.withColumn(cp, df[cp].cast(\"float\"))\n",
    "    \n",
    "df1 = df2 = None"
   ]
  },
  {
   "cell_type": "code",
   "execution_count": 41,
   "metadata": {},
   "outputs": [
    {
     "name": "stdout",
     "output_type": "stream",
     "text": [
      "Numero de filas  570844\n"
     ]
    }
   ],
   "source": [
    "print(\"Numero de filas \", df.count())"
   ]
  },
  {
   "cell_type": "code",
   "execution_count": 42,
   "metadata": {},
   "outputs": [
    {
     "name": "stdout",
     "output_type": "stream",
     "text": [
      "root\n",
      " |-- cole_cod_dane_institucion: string (nullable = true)\n",
      " |-- punt_lenguaje: float (nullable = true)\n",
      " |-- punt_matematicas: float (nullable = true)\n",
      " |-- punt_c_sociales: float (nullable = true)\n",
      " |-- punt_filosofia: float (nullable = true)\n",
      " |-- punt_biologia: float (nullable = true)\n",
      " |-- punt_quimica: float (nullable = true)\n",
      " |-- punt_fisica: float (nullable = true)\n",
      " |-- punt_ingles: float (nullable = true)\n",
      " |-- punt_profundizacion: float (nullable = true)\n",
      " |-- punt_interdisciplinar: float (nullable = true)\n",
      " |-- punt_comp_flexible: float (nullable = true)\n",
      "\n",
      "None\n"
     ]
    }
   ],
   "source": [
    "print(df.printSchema())"
   ]
  },
  {
   "cell_type": "code",
   "execution_count": 43,
   "metadata": {},
   "outputs": [],
   "source": [
    "# Contando el numero de estudiantes por instituciòn y mostrandola de forma descendente\n",
    "dsCountEst = df.groupBy('cole_cod_dane_institucion').count().orderBy('count',ascending=\n",
    "False)"
   ]
  },
  {
   "cell_type": "code",
   "execution_count": 44,
   "metadata": {},
   "outputs": [
    {
     "name": "stdout",
     "output_type": "stream",
     "text": [
      "+-------------------------+-----+\n",
      "|cole_cod_dane_institucion|count|\n",
      "+-------------------------+-----+\n",
      "|null                     |5572 |\n",
      "|105001000108             |1205 |\n",
      "|311001105391             |904  |\n",
      "|325754005072             |904  |\n",
      "|354001001520             |849  |\n",
      "|105001013340             |845  |\n",
      "|305615001312             |802  |\n",
      "|305266019802             |715  |\n",
      "|368001005488             |686  |\n",
      "|168001003591             |681  |\n",
      "+-------------------------+-----+\n",
      "only showing top 10 rows\n",
      "\n"
     ]
    }
   ],
   "source": [
    "dsCountEst.show(10,False)"
   ]
  },
  {
   "cell_type": "code",
   "execution_count": 46,
   "metadata": {},
   "outputs": [],
   "source": [
    "#Se crea una columna con el total de los puntajes   \n",
    "df= df.withColumn(\"Suma\",df['punt_lenguaje']+df['punt_matematicas']+df['punt_c_sociales']+\n",
    "                     df['punt_filosofia']+df['punt_biologia']+df['punt_quimica']+df['punt_fisica']+\n",
    "                     df['punt_ingles']+df['punt_profundizacion']+df['punt_interdisciplinar']+df['punt_comp_flexible'])"
   ]
  },
  {
   "cell_type": "markdown",
   "metadata": {},
   "source": [
    "## Resultados finales por instituciòn"
   ]
  },
  {
   "cell_type": "code",
   "execution_count": 47,
   "metadata": {},
   "outputs": [],
   "source": [
    "# Còdigo para obtener la media de los resultados de las evaluaciones de todos los estudiantes por instituciòn \n",
    "# y posiciòn en orden descendente.\n",
    "from pyspark.sql.functions import *\n",
    "from pyspark.sql.window import Window\n",
    "\n",
    "df = df.groupBy('cole_cod_dane_institucion').mean()\n",
    "df = df.withColumn(\"rank\", dense_rank().over(Window.orderBy(desc(\"avg(Suma)\"))))\n",
    "df = df.orderBy('rank',ascending= True)"
   ]
  },
  {
   "cell_type": "code",
   "execution_count": 48,
   "metadata": {
    "scrolled": true
   },
   "outputs": [
    {
     "name": "stdout",
     "output_type": "stream",
     "text": [
      "+-------------------------+------------------+---------------------+--------------------+-------------------+------------------+-----------------+-----------------+-----------------+------------------------+--------------------------+-----------------------+-----------------+----+\n",
      "|cole_cod_dane_institucion|avg(punt_lenguaje)|avg(punt_matematicas)|avg(punt_c_sociales)|avg(punt_filosofia)|avg(punt_biologia)|avg(punt_quimica)|avg(punt_fisica) |avg(punt_ingles) |avg(punt_profundizacion)|avg(punt_interdisciplinar)|avg(punt_comp_flexible)|avg(Suma)        |rank|\n",
      "+-------------------------+------------------+---------------------+--------------------+-------------------+------------------+-----------------+-----------------+-----------------+------------------------+--------------------------+-----------------------+-----------------+----+\n",
      "|311001089221             |75.66388893127441 |78.86555671691895    |73.45277701483832   |68.61888694763184  |81.00722312927246 |81.56333372328017|70.65833388434515|90.66055552164714|48.25388820966085       |0.0                       |0.0                    |668.7444424099392|1   |\n",
      "|308001005299             |72.83190500168573 |79.45428612118675    |70.72047624133882   |64.99095190139045  |69.8495245433989  |74.40190433320545|67.90428633916946|90.18714287167504|57.65952366874332       |0.0                       |0.0                    |647.999994187128 |2   |\n",
      "|311001065489             |73.46466725667318 |87.32266743977864    |67.10733311971029   |66.01333287556966  |77.89066797892252 |85.78866628011068|80.83666687011718|85.85133361816406|7.566666762034099       |0.0                       |0.0                    |631.8419738769531|3   |\n",
      "|311848000308             |70.82753759355687 |73.42589660189044    |69.77462697384962   |66.15208896238413  |70.85604494009445 |80.09231331099325|69.6514180880874 |94.10932905282547|33.040597232420055      |0.0                       |0.0                    |627.9298460092117|4   |\n",
      "|305001006831             |70.10999870300293 |78.53500111897786    |76.69999821980794   |64.18166542053223  |74.21833356221516 |80.14833196004231|68.4199988047282 |99.14666748046875|14.900000174840292      |0.0                       |0.0                    |626.3600158691406|5   |\n",
      "|468547002051             |69.69588313383214 |78.45411884083467    |69.0623534707462    |64.95705885045669  |67.48470620548024 |78.99647028305951|68.77235345279469|91.97705975700828|29.105294031255386      |0.0                       |0.0                    |618.5052992876838|6   |\n",
      "|373001007662             |75.08000074114118 |72.07809611729213    |69.1009521484375    |64.48428490048363  |69.63714290800549 |82.08666683378674|66.07095246087937|91.54000127883185|27.570476282210578      |0.0                       |0.0                    |617.6485682896206|7   |\n",
      "|368001000729             |73.32544776482311 |72.3700008237265     |69.09308906493148   |66.49105602357446  |70.74544736040318 |79.81113787395198|67.2104065437627 |88.4865043454054 |28.158048912761657      |0.0                       |0.0                    |615.6911320880176|8   |\n",
      "|311001086320             |69.45177256910107 |78.62531739246997    |68.11063264291498   |64.86455651778209  |71.89683566515959 |83.29303784913654|69.8093673126607 |99.02848130238208|8.150506303280215       |0.0                       |0.0                    |613.2305054483535|9   |\n",
      "|311001076634             |72.20619065420968 |71.37380999610538    |67.61809521629696   |65.26880945478167  |70.24309539794922 |71.21095230465843|61.13428579057966|90.63214347476051|36.18428582804544       |0.0                       |0.0                    |605.8716648646763|10  |\n",
      "+-------------------------+------------------+---------------------+--------------------+-------------------+------------------+-----------------+-----------------+-----------------+------------------------+--------------------------+-----------------------+-----------------+----+\n",
      "only showing top 10 rows\n",
      "\n"
     ]
    }
   ],
   "source": [
    "df.show(10,False)"
   ]
  },
  {
   "cell_type": "markdown",
   "metadata": {},
   "source": [
    "## Colegios"
   ]
  },
  {
   "cell_type": "code",
   "execution_count": 49,
   "metadata": {},
   "outputs": [
    {
     "name": "stdout",
     "output_type": "stream",
     "text": [
      "+-------------------------+------------------+---------------------+--------------------+-------------------+------------------+-----------------+-----------------+-----------------+------------------------+--------------------------+-----------------------+-----------------+----+----+\n",
      "|cole_cod_dane_institucion|avg(punt_lenguaje)|avg(punt_matematicas)|avg(punt_c_sociales)|avg(punt_filosofia)|avg(punt_biologia)|avg(punt_quimica)|avg(punt_fisica) |avg(punt_ingles) |avg(punt_profundizacion)|avg(punt_interdisciplinar)|avg(punt_comp_flexible)|avg(Suma)        |rank|año |\n",
      "+-------------------------+------------------+---------------------+--------------------+-------------------+------------------+-----------------+-----------------+-----------------+------------------------+--------------------------+-----------------------+-----------------+----+----+\n",
      "|311001089221             |75.66388893127441 |78.86555671691895    |73.45277701483832   |68.61888694763184  |81.00722312927246 |81.56333372328017|70.65833388434515|90.66055552164714|48.25388820966085       |0.0                       |0.0                    |668.7444424099392|1   |2010|\n",
      "|308001005299             |72.83190500168573 |79.45428612118675    |70.72047624133882   |64.99095190139045  |69.8495245433989  |74.40190433320545|67.90428633916946|90.18714287167504|57.65952366874332       |0.0                       |0.0                    |647.999994187128 |2   |2010|\n",
      "|311001065489             |73.46466725667318 |87.32266743977864    |67.10733311971029   |66.01333287556966  |77.89066797892252 |85.78866628011068|80.83666687011718|85.85133361816406|7.566666762034099       |0.0                       |0.0                    |631.8419738769531|3   |2010|\n",
      "|311848000308             |70.82753759355687 |73.42589660189044    |69.77462697384962   |66.15208896238413  |70.85604494009445 |80.09231331099325|69.6514180880874 |94.10932905282547|33.040597232420055      |0.0                       |0.0                    |627.9298460092117|4   |2010|\n",
      "|305001006831             |70.10999870300293 |78.53500111897786    |76.69999821980794   |64.18166542053223  |74.21833356221516 |80.14833196004231|68.4199988047282 |99.14666748046875|14.900000174840292      |0.0                       |0.0                    |626.3600158691406|5   |2010|\n",
      "+-------------------------+------------------+---------------------+--------------------+-------------------+------------------+-----------------+-----------------+-----------------+------------------------+--------------------------+-----------------------+-----------------+----+----+\n",
      "only showing top 5 rows\n",
      "\n"
     ]
    }
   ],
   "source": [
    "# se crea un dataframe con una columna que lo señala el año 2006.\n",
    "from pyspark.sql.functions import lit\n",
    "df = df.withColumn('año',lit(2010))\n",
    "df.show(5,False)"
   ]
  },
  {
   "cell_type": "code",
   "execution_count": 50,
   "metadata": {},
   "outputs": [],
   "source": [
    "# SE crea Dataframe de colegios en este año desaparecio la columna COLE_CODMPIO_COLEGIO\n",
    "dfc = spark.read.load(base + '/' + coleDic['2010'],\"com.databricks.spark.csv\",header='true',inferSchema='true',sep='\\t')\n",
    "dfc = dfc.withColumn('COLE_CODIGO_COLEGIO', dfc['COLE_CODIGO_COLEGIO'].cast(\"string\"))"
   ]
  },
  {
   "cell_type": "code",
   "execution_count": 51,
   "metadata": {},
   "outputs": [
    {
     "name": "stdout",
     "output_type": "stream",
     "text": [
      "root\n",
      " |-- COLE_CODIGO_COLEGIO: string (nullable = true)\n",
      " |-- COLE_INST_NOMBRE: string (nullable = true)\n",
      " |-- COLE_COD_CIUDAD: integer (nullable = true)\n",
      " |-- COLE_MPIO_COLEGIO: string (nullable = true)\n",
      " |-- COLE_DEPTO_COLEGIO: string (nullable = true)\n",
      " |-- COLE_INST_JORNADA: string (nullable = true)\n",
      " |-- COLE_CALENDARIO_COLEGIO: string (nullable = true)\n",
      " |-- COLE_GENEROPOBLACION: string (nullable = true)\n",
      " |-- COLE_NATURALEZA: string (nullable = true)\n",
      " |-- COLE_CIENCIAS_SOCIALES: integer (nullable = true)\n",
      " |-- COLE_QUIMICA: integer (nullable = true)\n",
      " |-- COLE_FISICA: integer (nullable = true)\n",
      " |-- COLE_BIOLOGIA: integer (nullable = true)\n",
      " |-- COLE_FILOSOFIA: integer (nullable = true)\n",
      " |-- COLE_MATEMATICAS: integer (nullable = true)\n",
      " |-- COLE_LENGUAJE: integer (nullable = true)\n",
      " |-- COLE_INGLES: integer (nullable = true)\n",
      " |-- COLE_GEOGRAFIA: string (nullable = true)\n",
      " |-- COLE_HISTORIA: string (nullable = true)\n",
      " |-- COLE_CATEGORIA: string (nullable = true)\n",
      " |-- COLE_ESTUDIANTES_PRESENTES: integer (nullable = true)\n",
      "\n",
      "None\n"
     ]
    }
   ],
   "source": [
    "print(dfc.printSchema())"
   ]
  },
  {
   "cell_type": "code",
   "execution_count": 52,
   "metadata": {},
   "outputs": [],
   "source": [
    "colsColegio = ['COLE_CODIGO_COLEGIO',\n",
    " 'COLE_CIENCIAS_SOCIALES',\n",
    " 'COLE_QUIMICA',\n",
    " 'COLE_FISICA',\n",
    " 'COLE_BIOLOGIA',\n",
    " 'COLE_FILOSOFIA',\n",
    " 'COLE_MATEMATICAS',\n",
    " 'COLE_LENGUAJE',\n",
    " 'COLE_INGLES','COLE_GEOGRAFIA','COLE_HISTORIA']"
   ]
  },
  {
   "cell_type": "code",
   "execution_count": 53,
   "metadata": {},
   "outputs": [],
   "source": [
    "dfc = dfc.select(colsColegio)"
   ]
  },
  {
   "cell_type": "code",
   "execution_count": 54,
   "metadata": {},
   "outputs": [
    {
     "name": "stdout",
     "output_type": "stream",
     "text": [
      "+-------------------+----------------------+------------+-----------+-------------+--------------+----------------+-------------+-----------+--------------+-------------+\n",
      "|COLE_CODIGO_COLEGIO|COLE_CIENCIAS_SOCIALES|COLE_QUIMICA|COLE_FISICA|COLE_BIOLOGIA|COLE_FILOSOFIA|COLE_MATEMATICAS|COLE_LENGUAJE|COLE_INGLES|COLE_GEOGRAFIA|COLE_HISTORIA|\n",
      "+-------------------+----------------------+------------+-----------+-------------+--------------+----------------+-------------+-----------+--------------+-------------+\n",
      "|43364              |7                     |6           |7          |6            |7             |6               |6            |6          |null          |null         |\n",
      "|43372              |8                     |7           |7          |6            |9             |7               |7            |7          |null          |null         |\n",
      "|43406              |7                     |6           |7          |6            |6             |6               |5            |6          |null          |null         |\n",
      "|43422              |7                     |5           |6          |6            |6             |6               |6            |6          |null          |null         |\n",
      "|43430              |8                     |9           |7          |8            |9             |9               |7            |8          |null          |null         |\n",
      "+-------------------+----------------------+------------+-----------+-------------+--------------+----------------+-------------+-----------+--------------+-------------+\n",
      "only showing top 5 rows\n",
      "\n"
     ]
    }
   ],
   "source": [
    "dfc.show(5,False)"
   ]
  },
  {
   "cell_type": "code",
   "execution_count": 55,
   "metadata": {},
   "outputs": [
    {
     "name": "stdout",
     "output_type": "stream",
     "text": [
      "El numero de colegios es:  10974\n"
     ]
    }
   ],
   "source": [
    "print(\"El numero de colegios es: \", dfc.select('COLE_CODIGO_COLEGIO').count())"
   ]
  },
  {
   "cell_type": "markdown",
   "metadata": {},
   "source": [
    "## Anàlisis comparativo entre estudiantes y colegios"
   ]
  },
  {
   "cell_type": "code",
   "execution_count": 56,
   "metadata": {},
   "outputs": [],
   "source": [
    "dfjoin = df.join(dfc, df.cole_cod_dane_institucion == dfc.COLE_CODIGO_COLEGIO)"
   ]
  },
  {
   "cell_type": "code",
   "execution_count": 57,
   "metadata": {},
   "outputs": [
    {
     "name": "stdout",
     "output_type": "stream",
     "text": [
      "Nùmero de colegios coincidentes entre el archivo de estudiantes y colegios: 0\n"
     ]
    }
   ],
   "source": [
    "print(\"Nùmero de colegios coincidentes entre el archivo de estudiantes y colegios:\", dfjoin.count())"
   ]
  },
  {
   "cell_type": "markdown",
   "metadata": {},
   "source": [
    "La informaciòn de colegios no coincide con la informaciòn de estudiantes, no existe cole_cod_dane_institucion en el archivo de colegios."
   ]
  }
 ],
 "metadata": {
  "kernelspec": {
   "display_name": "Python 3",
   "language": "python",
   "name": "python3"
  },
  "language_info": {
   "codemirror_mode": {
    "name": "ipython",
    "version": 3
   },
   "file_extension": ".py",
   "mimetype": "text/x-python",
   "name": "python",
   "nbconvert_exporter": "python",
   "pygments_lexer": "ipython3",
   "version": "3.7.3"
  }
 },
 "nbformat": 4,
 "nbformat_minor": 2
}
