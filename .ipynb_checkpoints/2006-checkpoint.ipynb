{
 "cells": [
  {
   "cell_type": "code",
   "execution_count": 1,
   "metadata": {},
   "outputs": [],
   "source": [
    "from pyspark.sql import SparkSession\n",
    "from pyspark.sql import Row\n",
    "from functools import reduce\n",
    "from pyspark.sql import DataFrame\n",
    "from pyspark.sql.types import StringType,DoubleType,FloatType\n",
    "from pyspark.sql.functions import udf\n",
    "from pyspark.sql.functions import regexp_replace\n",
    "import locale\n",
    "import sys\n",
    "import os\n",
    "import re"
   ]
  },
  {
   "cell_type": "code",
   "execution_count": 2,
   "metadata": {},
   "outputs": [
    {
     "data": {
      "text/html": [
       "\n",
       "        <div>\n",
       "            <p><b>SparkContext</b></p>\n",
       "\n",
       "            <p><a href=\"http://nodo1:4046\">Spark UI</a></p>\n",
       "\n",
       "            <dl>\n",
       "              <dt>Version</dt>\n",
       "                <dd><code>v2.4.3</code></dd>\n",
       "              <dt>Master</dt>\n",
       "                <dd><code>local[*]</code></dd>\n",
       "              <dt>AppName</dt>\n",
       "                <dd><code>PySparkShell</code></dd>\n",
       "            </dl>\n",
       "        </div>\n",
       "        "
      ],
      "text/plain": [
       "<SparkContext master=local[*] appName=PySparkShell>"
      ]
     },
     "execution_count": 2,
     "metadata": {},
     "output_type": "execute_result"
    }
   ],
   "source": [
    "sc"
   ]
  },
  {
   "cell_type": "code",
   "execution_count": 3,
   "metadata": {},
   "outputs": [
    {
     "data": {
      "text/html": [
       "\n",
       "            <div>\n",
       "                <p><b>SparkSession - hive</b></p>\n",
       "                \n",
       "        <div>\n",
       "            <p><b>SparkContext</b></p>\n",
       "\n",
       "            <p><a href=\"http://nodo1:4046\">Spark UI</a></p>\n",
       "\n",
       "            <dl>\n",
       "              <dt>Version</dt>\n",
       "                <dd><code>v2.4.3</code></dd>\n",
       "              <dt>Master</dt>\n",
       "                <dd><code>local[*]</code></dd>\n",
       "              <dt>AppName</dt>\n",
       "                <dd><code>PySparkShell</code></dd>\n",
       "            </dl>\n",
       "        </div>\n",
       "        \n",
       "            </div>\n",
       "        "
      ],
      "text/plain": [
       "<pyspark.sql.session.SparkSession at 0x7fa23a9f7630>"
      ]
     },
     "execution_count": 3,
     "metadata": {},
     "output_type": "execute_result"
    }
   ],
   "source": [
    "spark"
   ]
  },
  {
   "cell_type": "markdown",
   "metadata": {},
   "source": [
    "# Leyendo lista de Colegios y Estudiantes"
   ]
  },
  {
   "cell_type": "code",
   "execution_count": 4,
   "metadata": {},
   "outputs": [],
   "source": [
    "base = '../Colegios'\n",
    "base2 = '../SB'\n",
    "colegios = os.listdir('../Colegios')\n",
    "estudiantes = os.listdir('../SB')"
   ]
  },
  {
   "cell_type": "code",
   "execution_count": 5,
   "metadata": {},
   "outputs": [],
   "source": [
    "estudiantes.sort()\n",
    "colegios.sort()\n",
    "estuDic = {}\n",
    "coleDic = {}\n",
    "for estu in estudiantes:\n",
    "    estuDic[re.findall('\\d+', estu)[1]] = estu\n",
    "\n",
    "for colegio in colegios:\n",
    "    coleDic[re.findall('\\d+', colegio)[1]] = colegio"
   ]
  },
  {
   "cell_type": "code",
   "execution_count": 6,
   "metadata": {},
   "outputs": [],
   "source": [
    "dfestu = {}\n",
    "dfcole = {}\n",
    "for i in coleDic:\n",
    "    dfestu[i] = None\n",
    "    dfcole[i] = None"
   ]
  },
  {
   "cell_type": "code",
   "execution_count": 7,
   "metadata": {},
   "outputs": [],
   "source": [
    "# Funciòn para unir cualquier nùmero de dataframes con la misma estructura \n",
    "def unionAll(*dfs):\n",
    "    return reduce(DataFrame.unionAll, dfs)"
   ]
  },
  {
   "cell_type": "code",
   "execution_count": 8,
   "metadata": {},
   "outputs": [
    {
     "name": "stdout",
     "output_type": "stream",
     "text": [
      "Archivos de estudiantes:  SB11_20061.txt SB11_20062.txt\n",
      "Archivos de colegios:  SB11-CLASIFI-PLANTELES-2006.txt\n"
     ]
    }
   ],
   "source": [
    "print(\"Archivos de estudiantes: \", estuDic['20061'],estuDic['20062'])\n",
    "print(\"Archivos de colegios: \",coleDic['2006'])"
   ]
  },
  {
   "cell_type": "code",
   "execution_count": 9,
   "metadata": {},
   "outputs": [],
   "source": [
    "# SE leen los dos archivos y se crean dos dataframes\n",
    "df1 = spark.read.load(base2 + '/' + estuDic['20061'],\"com.databricks.spark.csv\",header='true',inferSchema='true',sep='¬')\n",
    "df2 = spark.read.load(base2 + '/' + estuDic['20062'],\"com.databricks.spark.csv\",header='true',inferSchema='true',sep='¬')"
   ]
  },
  {
   "cell_type": "code",
   "execution_count": 10,
   "metadata": {},
   "outputs": [],
   "source": [
    "columnasPuntos = [\n",
    " 'punt_lenguaje',\n",
    " 'punt_matematicas',\n",
    " 'punt_c_sociales',\n",
    " 'punt_filosofia',\n",
    " 'punt_biologia',\n",
    " 'punt_quimica',\n",
    " 'punt_fisica',\n",
    " 'punt_idioma',\n",
    " 'punt_profundizacion',\n",
    " 'punt_interdisciplinar']"
   ]
  },
  {
   "cell_type": "code",
   "execution_count": 11,
   "metadata": {},
   "outputs": [],
   "source": [
    "# SE unen los dos dataframes\n",
    "df = unionAll(df1,df2)\n",
    "for cp in columnasPuntos:\n",
    "    df = df.withColumn(cp, regexp_replace(cp, ',', '.'))\n",
    "    df = df.withColumn(cp, df[cp].cast(\"float\"))\n",
    "    \n",
    "df1 = df2 = None"
   ]
  },
  {
   "cell_type": "code",
   "execution_count": 12,
   "metadata": {},
   "outputs": [
    {
     "name": "stdout",
     "output_type": "stream",
     "text": [
      "Numero de filas  471878\n"
     ]
    }
   ],
   "source": [
    "print(\"Numero de filas \", df.count())"
   ]
  },
  {
   "cell_type": "code",
   "execution_count": 13,
   "metadata": {},
   "outputs": [
    {
     "name": "stdout",
     "output_type": "stream",
     "text": [
      "root\n",
      " |-- estu_exam_nombreexamen: string (nullable = true)\n",
      " |-- estu_estudiante: integer (nullable = true)\n",
      " |-- periodo: integer (nullable = true)\n",
      " |-- estu_consecutivo: string (nullable = true)\n",
      " |-- estu_edad: integer (nullable = true)\n",
      " |-- estu_tipo_documento: string (nullable = true)\n",
      " |-- estu_pais_reside: string (nullable = true)\n",
      " |-- estu_genero: string (nullable = true)\n",
      " |-- estu_nacimiento_dia: integer (nullable = true)\n",
      " |-- estu_nacimiento_mes: integer (nullable = true)\n",
      " |-- estu_nacimiento_anno: integer (nullable = true)\n",
      " |-- estu_cod_reside_mcpio: integer (nullable = true)\n",
      " |-- estu_reside_mcpio: string (nullable = true)\n",
      " |-- estu_reside_depto: string (nullable = true)\n",
      " |-- estu_zona_reside: integer (nullable = true)\n",
      " |-- estu_razoninstituto: integer (nullable = true)\n",
      " |-- cole_valor_pension: integer (nullable = true)\n",
      " |-- estu_ies_cod_deseada: integer (nullable = true)\n",
      " |-- estu_carrdeseada_razon: integer (nullable = true)\n",
      " |-- estu_carrdeseada_cod: integer (nullable = true)\n",
      " |-- estu_ies_deseada_nombre: string (nullable = true)\n",
      " |-- estu_ies_cod_mpio_deseada: integer (nullable = true)\n",
      " |-- estu_ies_mpio_deseada: string (nullable = true)\n",
      " |-- estu_ies_dept_deseada: string (nullable = true)\n",
      " |-- estu_mpio_presentacion: string (nullable = true)\n",
      " |-- estu_dept_presentacion: string (nullable = true)\n",
      " |-- estu_exam_cod_mpio_presentacio: integer (nullable = true)\n",
      " |-- estu_ano_termino_bachill: integer (nullable = true)\n",
      " |-- cole_cod_icfes: integer (nullable = true)\n",
      " |-- cole_cod_dane_institucion: string (nullable = true)\n",
      " |-- cole_nombre_sede: string (nullable = true)\n",
      " |-- cole_cod_mcpio_ubicacion: integer (nullable = true)\n",
      " |-- cole_calendario: string (nullable = true)\n",
      " |-- cole_genero: string (nullable = true)\n",
      " |-- cole_naturaleza: string (nullable = true)\n",
      " |-- cole_bilingue: integer (nullable = true)\n",
      " |-- cole_jornada: string (nullable = true)\n",
      " |-- cole_caracter: string (nullable = true)\n",
      " |-- punt_lenguaje: float (nullable = true)\n",
      " |-- punt_matematicas: float (nullable = true)\n",
      " |-- punt_c_sociales: float (nullable = true)\n",
      " |-- punt_filosofia: float (nullable = true)\n",
      " |-- punt_biologia: float (nullable = true)\n",
      " |-- punt_quimica: float (nullable = true)\n",
      " |-- punt_fisica: float (nullable = true)\n",
      " |-- nombre_idioma: string (nullable = true)\n",
      " |-- punt_idioma: float (nullable = true)\n",
      " |-- nombre_profundizacion: string (nullable = true)\n",
      " |-- punt_profundizacion: float (nullable = true)\n",
      " |-- desemp_profundizacion: string (nullable = true)\n",
      " |-- nombre_interdisciplinar: string (nullable = true)\n",
      " |-- punt_interdisciplinar: float (nullable = true)\n",
      " |-- estu_puesto: string (nullable = true)\n",
      "\n",
      "None\n"
     ]
    }
   ],
   "source": [
    "print(df.printSchema())"
   ]
  },
  {
   "cell_type": "code",
   "execution_count": 14,
   "metadata": {},
   "outputs": [
    {
     "data": {
      "text/plain": [
       "['estu_exam_nombreexamen',\n",
       " 'estu_estudiante',\n",
       " 'periodo',\n",
       " 'estu_consecutivo',\n",
       " 'estu_edad',\n",
       " 'estu_tipo_documento',\n",
       " 'estu_pais_reside',\n",
       " 'estu_genero',\n",
       " 'estu_nacimiento_dia',\n",
       " 'estu_nacimiento_mes',\n",
       " 'estu_nacimiento_anno',\n",
       " 'estu_cod_reside_mcpio',\n",
       " 'estu_reside_mcpio',\n",
       " 'estu_reside_depto',\n",
       " 'estu_zona_reside',\n",
       " 'estu_razoninstituto',\n",
       " 'cole_valor_pension',\n",
       " 'estu_ies_cod_deseada',\n",
       " 'estu_carrdeseada_razon',\n",
       " 'estu_carrdeseada_cod',\n",
       " 'estu_ies_deseada_nombre',\n",
       " 'estu_ies_cod_mpio_deseada',\n",
       " 'estu_ies_mpio_deseada',\n",
       " 'estu_ies_dept_deseada',\n",
       " 'estu_mpio_presentacion',\n",
       " 'estu_dept_presentacion',\n",
       " 'estu_exam_cod_mpio_presentacio',\n",
       " 'estu_ano_termino_bachill',\n",
       " 'cole_cod_icfes',\n",
       " 'cole_cod_dane_institucion',\n",
       " 'cole_nombre_sede',\n",
       " 'cole_cod_mcpio_ubicacion',\n",
       " 'cole_calendario',\n",
       " 'cole_genero',\n",
       " 'cole_naturaleza',\n",
       " 'cole_bilingue',\n",
       " 'cole_jornada',\n",
       " 'cole_caracter',\n",
       " 'punt_lenguaje',\n",
       " 'punt_matematicas',\n",
       " 'punt_c_sociales',\n",
       " 'punt_filosofia',\n",
       " 'punt_biologia',\n",
       " 'punt_quimica',\n",
       " 'punt_fisica',\n",
       " 'nombre_idioma',\n",
       " 'punt_idioma',\n",
       " 'nombre_profundizacion',\n",
       " 'punt_profundizacion',\n",
       " 'desemp_profundizacion',\n",
       " 'nombre_interdisciplinar',\n",
       " 'punt_interdisciplinar',\n",
       " 'estu_puesto']"
      ]
     },
     "execution_count": 14,
     "metadata": {},
     "output_type": "execute_result"
    }
   ],
   "source": [
    "df.columns"
   ]
  },
  {
   "cell_type": "code",
   "execution_count": 15,
   "metadata": {},
   "outputs": [],
   "source": [
    "# Seleccion de todas las instituciones diferentes\n",
    "dsIns_dane = df.select('cole_cod_dane_institucion').distinct()"
   ]
  },
  {
   "cell_type": "code",
   "execution_count": 16,
   "metadata": {},
   "outputs": [
    {
     "data": {
      "text/plain": [
       "7750"
      ]
     },
     "execution_count": 16,
     "metadata": {},
     "output_type": "execute_result"
    }
   ],
   "source": [
    "dsIns_dane.count()"
   ]
  },
  {
   "cell_type": "code",
   "execution_count": 17,
   "metadata": {},
   "outputs": [],
   "source": [
    "# Contando el numero de estudiantes por instituciòn y mostrandola de forma descendente\n",
    "dsCountEst = df.groupBy('cole_cod_dane_institucion').count().orderBy('count',ascending=\n",
    "False)"
   ]
  },
  {
   "cell_type": "code",
   "execution_count": 18,
   "metadata": {},
   "outputs": [
    {
     "name": "stdout",
     "output_type": "stream",
     "text": [
      "+-------------------------+-----+\n",
      "|cole_cod_dane_institucion|count|\n",
      "+-------------------------+-----+\n",
      "|null                     |7531 |\n",
      "|105001000108             |1200 |\n",
      "|111001024732             |987  |\n",
      "|376001001132             |843  |\n",
      "|168001003591             |817  |\n",
      "|111001019411             |811  |\n",
      "|105001013340             |798  |\n",
      "|113001003274             |702  |\n",
      "|108758000031             |632  |\n",
      "|305440000994             |627  |\n",
      "+-------------------------+-----+\n",
      "only showing top 10 rows\n",
      "\n"
     ]
    }
   ],
   "source": [
    "dsCountEst.show(10,False)"
   ]
  },
  {
   "cell_type": "code",
   "execution_count": 19,
   "metadata": {},
   "outputs": [],
   "source": [
    "#Se crea una columna con el total de los puntajes   \n",
    "df= df.withColumn(\"Suma\",df['punt_lenguaje']+df['punt_matematicas']+df['punt_c_sociales']+\n",
    "                     df['punt_filosofia']+df['punt_biologia']+df['punt_quimica']+df['punt_fisica']+\n",
    "                     df['punt_idioma']+df['punt_profundizacion']+df['punt_interdisciplinar'])"
   ]
  },
  {
   "cell_type": "code",
   "execution_count": 20,
   "metadata": {},
   "outputs": [],
   "source": [
    "#Se crea una lista de columnas para hacer el analisis.\n",
    "columnasToAnalysis = columnasPuntos.copy()\n",
    "columnasToAnalysis.insert(0,'cole_cod_dane_institucion')\n",
    "columnasToAnalysis.append('Suma')"
   ]
  },
  {
   "cell_type": "code",
   "execution_count": 21,
   "metadata": {},
   "outputs": [
    {
     "data": {
      "text/plain": [
       "['cole_cod_dane_institucion',\n",
       " 'punt_lenguaje',\n",
       " 'punt_matematicas',\n",
       " 'punt_c_sociales',\n",
       " 'punt_filosofia',\n",
       " 'punt_biologia',\n",
       " 'punt_quimica',\n",
       " 'punt_fisica',\n",
       " 'punt_idioma',\n",
       " 'punt_profundizacion',\n",
       " 'punt_interdisciplinar',\n",
       " 'Suma']"
      ]
     },
     "execution_count": 21,
     "metadata": {},
     "output_type": "execute_result"
    }
   ],
   "source": [
    "columnasToAnalysis"
   ]
  },
  {
   "cell_type": "code",
   "execution_count": 22,
   "metadata": {},
   "outputs": [],
   "source": [
    "# SE Selecciona el subgrupo de informciòn que se analizara\n",
    "df = df.select(columnasToAnalysis)"
   ]
  },
  {
   "cell_type": "code",
   "execution_count": 23,
   "metadata": {},
   "outputs": [
    {
     "data": {
      "text/plain": [
       "['cole_cod_dane_institucion',\n",
       " 'punt_lenguaje',\n",
       " 'punt_matematicas',\n",
       " 'punt_c_sociales',\n",
       " 'punt_filosofia',\n",
       " 'punt_biologia',\n",
       " 'punt_quimica',\n",
       " 'punt_fisica',\n",
       " 'punt_idioma',\n",
       " 'punt_profundizacion',\n",
       " 'punt_interdisciplinar',\n",
       " 'Suma']"
      ]
     },
     "execution_count": 23,
     "metadata": {},
     "output_type": "execute_result"
    }
   ],
   "source": [
    "df.columns"
   ]
  },
  {
   "cell_type": "markdown",
   "metadata": {},
   "source": [
    "## Resultados finales por instituciòn"
   ]
  },
  {
   "cell_type": "code",
   "execution_count": 24,
   "metadata": {},
   "outputs": [],
   "source": [
    "# Còdigo para obtener la media de los resultados de las evaluaciones de todos los estudiantes por instituciòn \n",
    "# y posiciòn en orden descendente.\n",
    "from pyspark.sql.functions import *\n",
    "from pyspark.sql.window import Window\n",
    "\n",
    "df = df.groupBy('cole_cod_dane_institucion').mean()\n",
    "df = df.withColumn(\"rank\", dense_rank().over(Window.orderBy(desc(\"avg(Suma)\"))))\n",
    "df = df.orderBy('rank',ascending= True)"
   ]
  },
  {
   "cell_type": "code",
   "execution_count": 25,
   "metadata": {
    "scrolled": true
   },
   "outputs": [
    {
     "name": "stdout",
     "output_type": "stream",
     "text": [
      "+-------------------------+-----------------+----+\n",
      "|cole_cod_dane_institucion|avg(Suma)        |rank|\n",
      "+-------------------------+-----------------+----+\n",
      "|311001089221             |590.5481338500977|1   |\n",
      "|311001005176             |572.339729309082 |2   |\n",
      "|311769003342             |568.1466674804688|3   |\n",
      "|311848002611             |566.3491700490316|4   |\n",
      "|354001000370             |565.3172607421875|5   |\n",
      "|311001065489             |563.7452681692023|6   |\n",
      "|311848002424             |563.3404284538107|7   |\n",
      "|308001004209             |563.0185600359415|8   |\n",
      "|305001015503             |562.9925079345703|9   |\n",
      "|373001007662             |562.4288889567057|10  |\n",
      "+-------------------------+-----------------+----+\n",
      "only showing top 10 rows\n",
      "\n"
     ]
    }
   ],
   "source": [
    "df.select('cole_cod_dane_institucion','avg(Suma)','rank').show(10,False)"
   ]
  },
  {
   "cell_type": "markdown",
   "metadata": {},
   "source": [
    "## Colegios 2006"
   ]
  },
  {
   "cell_type": "code",
   "execution_count": 26,
   "metadata": {},
   "outputs": [
    {
     "name": "stdout",
     "output_type": "stream",
     "text": [
      "+-------------------------+------------------+---------------------+--------------------+-------------------+------------------+------------------+-----------------+-----------------+------------------------+--------------------------+-----------------+----+----+\n",
      "|cole_cod_dane_institucion|avg(punt_lenguaje)|avg(punt_matematicas)|avg(punt_c_sociales)|avg(punt_filosofia)|avg(punt_biologia)|avg(punt_quimica) |avg(punt_fisica) |avg(punt_idioma) |avg(punt_profundizacion)|avg(punt_interdisciplinar)|avg(Suma)        |rank|año |\n",
      "+-------------------------+------------------+---------------------+--------------------+-------------------+------------------+------------------+-----------------+-----------------+------------------------+--------------------------+-----------------+----+----+\n",
      "|311001089221             |65.57875061035156 |65.78999948501587    |69.42500019073486   |61.70125079154968  |69.47937536239624 |61.438124656677246|62.29437446594238|70.63875007629395|6.42750009894371        |57.77499985694885         |590.5481338500977|1   |2006|\n",
      "|311001005176             |61.76166682773166 |68.72666645050049    |63.798055013020836  |59.49500062730577  |63.205555491977265|59.64666642083062 |63.54277748531766|73.87916692097981|6.883888880411784       |51.400277296702065        |572.339729309082 |2   |2006|\n",
      "|311769003342             |62.50564193725586 |81.12487059373122    |51.82256346482497   |57.838717729617386 |61.20000017606295 |54.41846133501102 |61.87025627723107|75.43461775168394|7.212564028226412       |54.718974284636666        |568.1466674804688|3   |2006|\n",
      "|311848002611             |62.04812518755595 |68.76489547888438    |61.9271875222524    |60.92979244391123  |61.62291685740153 |61.643020828564964|61.46187496185303|69.84489651521046|6.730208362142245       |51.376249512036644        |566.3491700490316|4   |2006|\n",
      "|354001000370             |62.39882375679764 |67.24019562964345    |62.305881949032056  |59.031960880055145 |63.411372988831765|60.94901993695427 |61.09666659785252|69.83764760634479|6.746666683870203       |52.299019420848175        |565.3172607421875|5   |2006|\n",
      "+-------------------------+------------------+---------------------+--------------------+-------------------+------------------+------------------+-----------------+-----------------+------------------------+--------------------------+-----------------+----+----+\n",
      "only showing top 5 rows\n",
      "\n"
     ]
    }
   ],
   "source": [
    "# se crea un dataframe con una columna que lo señala el año 2006.\n",
    "from pyspark.sql.functions import lit\n",
    "df = df.withColumn('año',lit(2006))\n",
    "df.show(5,False)"
   ]
  },
  {
   "cell_type": "code",
   "execution_count": 27,
   "metadata": {},
   "outputs": [],
   "source": [
    "# SE crea Dataframe de colegios 2006\n",
    "dfc = spark.read.load(base + '/' + coleDic['2006'],\"com.databricks.spark.csv\",header='true',inferSchema='true',sep='\\t')\n",
    "dfc = dfc.withColumn('COLE_CODIGO_COLEGIO', dfc['COLE_CODIGO_COLEGIO'].cast(\"string\"))\n",
    "dfc = dfc.withColumn('COLE_CODMPIO_COLEGIO', dfc['COLE_CODMPIO_COLEGIO'].cast(\"string\"))"
   ]
  },
  {
   "cell_type": "code",
   "execution_count": 28,
   "metadata": {},
   "outputs": [
    {
     "name": "stdout",
     "output_type": "stream",
     "text": [
      "root\n",
      " |-- COLE_CODIGO_COLEGIO: string (nullable = true)\n",
      " |-- COLE_INST_NOMBRE: string (nullable = true)\n",
      " |-- COLE_CODMPIO_COLEGIO: string (nullable = true)\n",
      " |-- COLE_MPIO_COLEGIO: string (nullable = true)\n",
      " |-- COLE_DEPTO_COLEGIO: string (nullable = true)\n",
      " |-- COLE_INST_JORNADA: string (nullable = true)\n",
      " |-- COLE_CALENDARIO_COLEGIO: string (nullable = true)\n",
      " |-- COLE_GENEROPOBLACION: string (nullable = true)\n",
      " |-- COLE_NATURALEZA: string (nullable = true)\n",
      " |-- COLE_CIENCIAS_SOCIALES: integer (nullable = true)\n",
      " |-- COLE_QUIMICA: integer (nullable = true)\n",
      " |-- COLE_FISICA: integer (nullable = true)\n",
      " |-- COLE_BIOLOGIA: integer (nullable = true)\n",
      " |-- COLE_FILOSOFIA: integer (nullable = true)\n",
      " |-- COLE_MATEMATICAS: integer (nullable = true)\n",
      " |-- COLE_LENGUAJE: integer (nullable = true)\n",
      " |-- COLE_INGLES: string (nullable = true)\n",
      " |-- COLE_GEOGRAFIA: string (nullable = true)\n",
      " |-- COLE_HISTORIA: string (nullable = true)\n",
      " |-- COLE_CATEGORIA: string (nullable = true)\n",
      " |-- COLE_ESTUDIANTES_PRESENTES: integer (nullable = true)\n",
      "\n",
      "None\n"
     ]
    }
   ],
   "source": [
    "print(dfc.printSchema())"
   ]
  },
  {
   "cell_type": "code",
   "execution_count": 29,
   "metadata": {},
   "outputs": [
    {
     "data": {
      "text/plain": [
       "['COLE_CODIGO_COLEGIO',\n",
       " 'COLE_INST_NOMBRE',\n",
       " 'COLE_CODMPIO_COLEGIO',\n",
       " 'COLE_MPIO_COLEGIO',\n",
       " 'COLE_DEPTO_COLEGIO',\n",
       " 'COLE_INST_JORNADA',\n",
       " 'COLE_CALENDARIO_COLEGIO',\n",
       " 'COLE_GENEROPOBLACION',\n",
       " 'COLE_NATURALEZA',\n",
       " 'COLE_CIENCIAS_SOCIALES',\n",
       " 'COLE_QUIMICA',\n",
       " 'COLE_FISICA',\n",
       " 'COLE_BIOLOGIA',\n",
       " 'COLE_FILOSOFIA',\n",
       " 'COLE_MATEMATICAS',\n",
       " 'COLE_LENGUAJE',\n",
       " 'COLE_INGLES',\n",
       " 'COLE_GEOGRAFIA',\n",
       " 'COLE_HISTORIA',\n",
       " 'COLE_CATEGORIA',\n",
       " 'COLE_ESTUDIANTES_PRESENTES']"
      ]
     },
     "execution_count": 29,
     "metadata": {},
     "output_type": "execute_result"
    }
   ],
   "source": [
    "dfc.columns"
   ]
  },
  {
   "cell_type": "code",
   "execution_count": 30,
   "metadata": {},
   "outputs": [],
   "source": [
    "colsColegio = ['COLE_CODIGO_COLEGIO',\n",
    " 'COLE_CODMPIO_COLEGIO',\n",
    " 'COLE_CIENCIAS_SOCIALES',\n",
    " 'COLE_QUIMICA',\n",
    " 'COLE_FISICA',\n",
    " 'COLE_BIOLOGIA',\n",
    " 'COLE_FILOSOFIA',\n",
    " 'COLE_MATEMATICAS',\n",
    " 'COLE_LENGUAJE',\n",
    " 'COLE_INGLES',\n",
    " 'COLE_GEOGRAFIA',\n",
    " 'COLE_HISTORIA']"
   ]
  },
  {
   "cell_type": "code",
   "execution_count": 31,
   "metadata": {},
   "outputs": [],
   "source": [
    "dfc = dfc.select(colsColegio)"
   ]
  },
  {
   "cell_type": "code",
   "execution_count": 35,
   "metadata": {},
   "outputs": [
    {
     "name": "stdout",
     "output_type": "stream",
     "text": [
      "+-------------------+--------------------+----------------------+------------+-----------+-------------+--------------+----------------+-------------+-----------+--------------+-------------+\n",
      "|COLE_CODIGO_COLEGIO|COLE_CODMPIO_COLEGIO|COLE_CIENCIAS_SOCIALES|COLE_QUIMICA|COLE_FISICA|COLE_BIOLOGIA|COLE_FILOSOFIA|COLE_MATEMATICAS|COLE_LENGUAJE|COLE_INGLES|COLE_GEOGRAFIA|COLE_HISTORIA|\n",
      "+-------------------+--------------------+----------------------+------------+-----------+-------------+--------------+----------------+-------------+-----------+--------------+-------------+\n",
      "|127696             |5001                |6                     |6           |7          |6            |8             |6               |7            |null       |null          |null         |\n",
      "|127704             |20001               |7                     |7           |7          |7            |8             |6               |7            |null       |null          |null         |\n",
      "|127712             |41807               |6                     |7           |6          |7            |7             |6               |7            |null       |null          |null         |\n",
      "|127738             |41319               |5                     |6           |6          |7            |6             |6               |6            |null       |null          |null         |\n",
      "|127746             |47001               |6                     |6           |7          |7            |7             |7               |6            |null       |null          |null         |\n",
      "+-------------------+--------------------+----------------------+------------+-----------+-------------+--------------+----------------+-------------+-----------+--------------+-------------+\n",
      "only showing top 5 rows\n",
      "\n"
     ]
    }
   ],
   "source": [
    "dfc.show(5,False)"
   ]
  },
  {
   "cell_type": "code",
   "execution_count": 36,
   "metadata": {},
   "outputs": [
    {
     "name": "stdout",
     "output_type": "stream",
     "text": [
      "El numero de colegios año 2006 es:  9249\n"
     ]
    }
   ],
   "source": [
    "print(\"El numero de colegios año 2006 es: \", dfc.select('COLE_CODIGO_COLEGIO').distinct().count())"
   ]
  },
  {
   "cell_type": "markdown",
   "metadata": {},
   "source": [
    "## Anàlisis comparativo entre estudiantes y colegios año 2006"
   ]
  },
  {
   "cell_type": "code",
   "execution_count": 38,
   "metadata": {},
   "outputs": [],
   "source": [
    "dfjoin2006 = df.join(dfc, df.cole_cod_dane_institucion == dfc.COLE_CODIGO_COLEGIO)"
   ]
  },
  {
   "cell_type": "code",
   "execution_count": 92,
   "metadata": {},
   "outputs": [
    {
     "name": "stdout",
     "output_type": "stream",
     "text": [
      "Nùmero de colegios coincidentes entre el archivo de estudiantes y colegios: 0\n"
     ]
    }
   ],
   "source": [
    "print(\"Nùmero de colegios coincidentes entre el archivo de estudiantes y colegios:\", dfjoin2006.count())"
   ]
  },
  {
   "cell_type": "code",
   "execution_count": 39,
   "metadata": {},
   "outputs": [
    {
     "name": "stdout",
     "output_type": "stream",
     "text": [
      "Nùmero de colegios coincidentes entre el archivo de estudiantes y colegios: 0\n"
     ]
    }
   ],
   "source": [
    "dfjoin2006 = df.join(dfc, df.cole_cod_dane_institucion == dfc.COLE_CODMPIO_COLEGIO)\n",
    "print(\"Nùmero de colegios coincidentes entre el archivo de estudiantes y colegios:\", dfjoin2006.count())"
   ]
  },
  {
   "cell_type": "markdown",
   "metadata": {},
   "source": [
    "La informaciòn de colegios no coincide con la informaciòn de estudiantes, no existe cole_cod_dane_institucion en el archivo de colegios."
   ]
  }
 ],
 "metadata": {
  "kernelspec": {
   "display_name": "Python 3",
   "language": "python",
   "name": "python3"
  },
  "language_info": {
   "codemirror_mode": {
    "name": "ipython",
    "version": 3
   },
   "file_extension": ".py",
   "mimetype": "text/x-python",
   "name": "python",
   "nbconvert_exporter": "python",
   "pygments_lexer": "ipython3",
   "version": "3.7.3"
  }
 },
 "nbformat": 4,
 "nbformat_minor": 2
}
