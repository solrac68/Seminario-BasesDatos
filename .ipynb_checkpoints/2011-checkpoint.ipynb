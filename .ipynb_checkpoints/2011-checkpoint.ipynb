{
 "cells": [
  {
   "cell_type": "code",
   "execution_count": 57,
   "metadata": {},
   "outputs": [],
   "source": [
    "from pyspark.sql import SparkSession\n",
    "from pyspark.sql import Row\n",
    "from functools import reduce\n",
    "from pyspark.sql import DataFrame\n",
    "from pyspark.sql.types import StringType,DoubleType,FloatType\n",
    "from pyspark.sql.functions import udf\n",
    "from pyspark.sql.functions import regexp_replace\n",
    "from pyspark.sql.functions import lit\n",
    "import locale\n",
    "import sys\n",
    "import os\n",
    "import re"
   ]
  },
  {
   "cell_type": "code",
   "execution_count": 58,
   "metadata": {},
   "outputs": [
    {
     "data": {
      "text/html": [
       "\n",
       "        <div>\n",
       "            <p><b>SparkContext</b></p>\n",
       "\n",
       "            <p><a href=\"http://nodo1:4045\">Spark UI</a></p>\n",
       "\n",
       "            <dl>\n",
       "              <dt>Version</dt>\n",
       "                <dd><code>v2.4.3</code></dd>\n",
       "              <dt>Master</dt>\n",
       "                <dd><code>local[*]</code></dd>\n",
       "              <dt>AppName</dt>\n",
       "                <dd><code>PySparkShell</code></dd>\n",
       "            </dl>\n",
       "        </div>\n",
       "        "
      ],
      "text/plain": [
       "<SparkContext master=local[*] appName=PySparkShell>"
      ]
     },
     "execution_count": 58,
     "metadata": {},
     "output_type": "execute_result"
    }
   ],
   "source": [
    "sc"
   ]
  },
  {
   "cell_type": "code",
   "execution_count": 59,
   "metadata": {},
   "outputs": [
    {
     "data": {
      "text/html": [
       "\n",
       "            <div>\n",
       "                <p><b>SparkSession - hive</b></p>\n",
       "                \n",
       "        <div>\n",
       "            <p><b>SparkContext</b></p>\n",
       "\n",
       "            <p><a href=\"http://nodo1:4045\">Spark UI</a></p>\n",
       "\n",
       "            <dl>\n",
       "              <dt>Version</dt>\n",
       "                <dd><code>v2.4.3</code></dd>\n",
       "              <dt>Master</dt>\n",
       "                <dd><code>local[*]</code></dd>\n",
       "              <dt>AppName</dt>\n",
       "                <dd><code>PySparkShell</code></dd>\n",
       "            </dl>\n",
       "        </div>\n",
       "        \n",
       "            </div>\n",
       "        "
      ],
      "text/plain": [
       "<pyspark.sql.session.SparkSession at 0x7f00d809e630>"
      ]
     },
     "execution_count": 59,
     "metadata": {},
     "output_type": "execute_result"
    }
   ],
   "source": [
    "spark"
   ]
  },
  {
   "cell_type": "markdown",
   "metadata": {},
   "source": [
    "# Leyendo lista de Colegios y Estudiantes"
   ]
  },
  {
   "cell_type": "code",
   "execution_count": 60,
   "metadata": {},
   "outputs": [],
   "source": [
    "base = '../Colegios'\n",
    "base2 = '../SB'\n",
    "colegios = os.listdir('../Colegios')\n",
    "estudiantes = os.listdir('../SB')"
   ]
  },
  {
   "cell_type": "code",
   "execution_count": 61,
   "metadata": {},
   "outputs": [],
   "source": [
    "estudiantes.sort()\n",
    "colegios.sort()\n",
    "estuDic = {}\n",
    "coleDic = {}\n",
    "for estu in estudiantes:\n",
    "    estuDic[re.findall('\\d+', estu)[1]] = estu\n",
    "\n",
    "for colegio in colegios:\n",
    "    coleDic[re.findall('\\d+', colegio)[1]] = colegio"
   ]
  },
  {
   "cell_type": "code",
   "execution_count": 62,
   "metadata": {},
   "outputs": [],
   "source": [
    "# Funciòn para unir cualquier nùmero de dataframes con la misma estructura \n",
    "def unionAll(*dfs):\n",
    "    return reduce(DataFrame.unionAll, dfs)"
   ]
  },
  {
   "cell_type": "code",
   "execution_count": 63,
   "metadata": {},
   "outputs": [
    {
     "name": "stdout",
     "output_type": "stream",
     "text": [
      "Archivos de estudiantes:  SB11_20111.txt SB11_20112.txt\n",
      "Archivos de colegios:  SB11-CLASIFI-PLANTELES-2011.txt\n"
     ]
    }
   ],
   "source": [
    "print(\"Archivos de estudiantes: \", estuDic['20111'],estuDic['20112'])\n",
    "print(\"Archivos de colegios: \",coleDic['2011'])"
   ]
  },
  {
   "cell_type": "code",
   "execution_count": 64,
   "metadata": {},
   "outputs": [],
   "source": [
    "# SE leen los dos archivos y se crean dos dataframes\n",
    "df1 = spark.read.load(base2 + '/' + estuDic['20111'],\"com.databricks.spark.csv\",header='true',inferSchema='true',sep='¬')\n",
    "df2 = spark.read.load(base2 + '/' + estuDic['20112'],\"com.databricks.spark.csv\",header='true',inferSchema='true',sep='¬')"
   ]
  },
  {
   "cell_type": "code",
   "execution_count": 65,
   "metadata": {},
   "outputs": [],
   "source": [
    "columnasPuntos20111 = ['cole_cod_dane_institucion','cole_nombre_sede',\n",
    " 'punt_lenguaje',\n",
    " 'punt_matematicas',\n",
    " 'punt_c_sociales',\n",
    " 'punt_filosofia',\n",
    " 'punt_biologia',\n",
    " 'punt_quimica',\n",
    " 'punt_fisica',\n",
    " 'punt_ingles',\n",
    " 'punt_comp_flexible']\n",
    "\n",
    "columnasPuntos20112 = [\n",
    " 'COLE_COD_DANE_ESTABLECIMIENTO',\n",
    " 'COLE_NOMBRE_ESTABLECIMIENTO',\n",
    " 'PUNT_MATEMATICAS',\n",
    " 'PUNT_INGLES',\n",
    " 'PUNT_CIENCIAS_SOCIALES',\n",
    " 'PUNT_BIOLOGIA',\n",
    " 'PUNT_FILOSOFIA',\n",
    " 'PUNT_FISICA',\n",
    " 'PUNT_QUIMICA',\n",
    " 'PUNT_LENGUAJE',\n",
    " 'PUNT_INTERDISC_MEDIOAMBIENTE',\n",
    " 'PUNT_INTERDISC_VIOLENCIAYSOC',\n",
    " 'PUNT_PROFUNDIZA_BIOLOGIA',\n",
    " 'PUNT_PROFUNDIZA_CSOCIALES',\n",
    " 'PUNT_PROFUNDIZA_LENGUAJE',\n",
    " 'PUNT_PROFUNDIZA_MATEMATICA'    \n",
    "]"
   ]
  },
  {
   "cell_type": "code",
   "execution_count": 66,
   "metadata": {},
   "outputs": [],
   "source": [
    "# SE leen los dos archivos y se crean dos dataframes\n",
    "df1 = df1.select(columnasPuntos20111)\n",
    "df2 = df2.select(columnasPuntos20112)"
   ]
  },
  {
   "cell_type": "code",
   "execution_count": 67,
   "metadata": {},
   "outputs": [
    {
     "data": {
      "text/plain": [
       "['punt_lenguaje',\n",
       " 'punt_matematicas',\n",
       " 'punt_c_sociales',\n",
       " 'punt_filosofia',\n",
       " 'punt_biologia',\n",
       " 'punt_quimica',\n",
       " 'punt_fisica',\n",
       " 'punt_ingles',\n",
       " 'punt_comp_flexible']"
      ]
     },
     "execution_count": 67,
     "metadata": {},
     "output_type": "execute_result"
    }
   ],
   "source": [
    "#dft = df1.columns.remove('cole_cod_dane_institucion')\n",
    "cols = df1.columns\n",
    "cols.remove('cole_cod_dane_institucion')\n",
    "cols.remove('cole_nombre_sede')\n",
    "cols"
   ]
  },
  {
   "cell_type": "code",
   "execution_count": 68,
   "metadata": {},
   "outputs": [],
   "source": [
    "# SE unen los dos dataframes\n",
    "# df = unionAll(df1,df2)\n",
    "for cp in cols:\n",
    "    df1 = df1.withColumn(cp, regexp_replace(cp, ',', '.'))\n",
    "    df1 = df1.withColumn(cp, df1[cp].cast(\"float\"))\n",
    "    df1 = df1.na.fill({cp:0})\n",
    "\n",
    "df1 = df1.na.fill({'cole_cod_dane_institucion':'--'})\n",
    "df1 = df1.na.fill({'cole_nombre_sede':'--'})"
   ]
  },
  {
   "cell_type": "code",
   "execution_count": 69,
   "metadata": {},
   "outputs": [
    {
     "name": "stdout",
     "output_type": "stream",
     "text": [
      "Nùmero de filas con cole_cod_dane_institucion nulos:  565\n",
      "Nùmero de filas con cole_nombre_sede nulos:  0\n"
     ]
    }
   ],
   "source": [
    "# SE evalua sí tiene valores nullos\n",
    "print(\"Nùmero de filas con cole_cod_dane_institucion nulos: \", df1.filter(\"cole_cod_dane_institucion = '--'\").count())\n",
    "print(\"Nùmero de filas con cole_nombre_sede nulos: \", df1.filter(\"cole_nombre_sede = '--'\").count())"
   ]
  },
  {
   "cell_type": "code",
   "execution_count": 70,
   "metadata": {},
   "outputs": [
    {
     "data": {
      "text/plain": [
       "['PUNT_MATEMATICAS',\n",
       " 'PUNT_INGLES',\n",
       " 'PUNT_CIENCIAS_SOCIALES',\n",
       " 'PUNT_BIOLOGIA',\n",
       " 'PUNT_FILOSOFIA',\n",
       " 'PUNT_FISICA',\n",
       " 'PUNT_QUIMICA',\n",
       " 'PUNT_LENGUAJE',\n",
       " 'PUNT_INTERDISC_MEDIOAMBIENTE',\n",
       " 'PUNT_INTERDISC_VIOLENCIAYSOC',\n",
       " 'PUNT_PROFUNDIZA_BIOLOGIA',\n",
       " 'PUNT_PROFUNDIZA_CSOCIALES',\n",
       " 'PUNT_PROFUNDIZA_LENGUAJE',\n",
       " 'PUNT_PROFUNDIZA_MATEMATICA']"
      ]
     },
     "execution_count": 70,
     "metadata": {},
     "output_type": "execute_result"
    }
   ],
   "source": [
    "cols2 = df2.columns\n",
    "cols2.remove('COLE_COD_DANE_ESTABLECIMIENTO')\n",
    "cols2.remove('COLE_NOMBRE_ESTABLECIMIENTO')\n",
    "cols2"
   ]
  },
  {
   "cell_type": "code",
   "execution_count": 71,
   "metadata": {},
   "outputs": [
    {
     "name": "stdout",
     "output_type": "stream",
     "text": [
      "Nùmero de filas con COLE_COD_DANE_ESTABLECIMIENTO nulos:  726\n",
      "Nùmero de filas con cole_nombre_sede nulos:  21\n"
     ]
    }
   ],
   "source": [
    "for cp in cols2:\n",
    "    df2 = df2.withColumn(cp, regexp_replace(cp, ',', '.'))\n",
    "    df2 = df2.withColumn(cp, df2[cp].cast(\"float\"))\n",
    "    df2 = df2.na.fill({cp:0})\n",
    "df2 = df2.withColumn('COLE_COD_DANE_ESTABLECIMIENTO', df2['COLE_COD_DANE_ESTABLECIMIENTO'].cast(\"string\"))\n",
    "\n",
    "df2 = df2.na.fill({'COLE_COD_DANE_ESTABLECIMIENTO':'--'})\n",
    "df2 = df2.na.fill({'COLE_NOMBRE_ESTABLECIMIENTO':'--'})\n",
    "\n",
    "# SE evalua sí tiene valores nullos\n",
    "print(\"Nùmero de filas con COLE_COD_DANE_ESTABLECIMIENTO nulos: \", df2.filter(\"COLE_COD_DANE_ESTABLECIMIENTO = '--'\").count())\n",
    "print(\"Nùmero de filas con cole_nombre_sede nulos: \", df2.filter(\"COLE_NOMBRE_ESTABLECIMIENTO = '--'\").count())"
   ]
  },
  {
   "cell_type": "code",
   "execution_count": 72,
   "metadata": {},
   "outputs": [
    {
     "name": "stdout",
     "output_type": "stream",
     "text": [
      "Numero de filas primero semestre  31712\n",
      "Numero de filas segundo semestre  540707\n"
     ]
    }
   ],
   "source": [
    "print(\"Numero de filas primero semestre \", df1.count())\n",
    "print(\"Numero de filas segundo semestre \", df2.count())"
   ]
  },
  {
   "cell_type": "code",
   "execution_count": 73,
   "metadata": {},
   "outputs": [
    {
     "name": "stdout",
     "output_type": "stream",
     "text": [
      "root\n",
      " |-- cole_cod_dane_institucion: string (nullable = false)\n",
      " |-- cole_nombre_sede: string (nullable = false)\n",
      " |-- punt_lenguaje: float (nullable = false)\n",
      " |-- punt_matematicas: float (nullable = false)\n",
      " |-- punt_c_sociales: float (nullable = false)\n",
      " |-- punt_filosofia: float (nullable = false)\n",
      " |-- punt_biologia: float (nullable = false)\n",
      " |-- punt_quimica: float (nullable = false)\n",
      " |-- punt_fisica: float (nullable = false)\n",
      " |-- punt_ingles: float (nullable = false)\n",
      " |-- punt_comp_flexible: float (nullable = false)\n",
      "\n",
      "None\n"
     ]
    }
   ],
   "source": [
    "print(df1.printSchema())"
   ]
  },
  {
   "cell_type": "code",
   "execution_count": 74,
   "metadata": {},
   "outputs": [
    {
     "name": "stdout",
     "output_type": "stream",
     "text": [
      "root\n",
      " |-- COLE_COD_DANE_ESTABLECIMIENTO: string (nullable = false)\n",
      " |-- COLE_NOMBRE_ESTABLECIMIENTO: string (nullable = false)\n",
      " |-- PUNT_MATEMATICAS: float (nullable = false)\n",
      " |-- PUNT_INGLES: float (nullable = false)\n",
      " |-- PUNT_CIENCIAS_SOCIALES: float (nullable = false)\n",
      " |-- PUNT_BIOLOGIA: float (nullable = false)\n",
      " |-- PUNT_FILOSOFIA: float (nullable = false)\n",
      " |-- PUNT_FISICA: float (nullable = false)\n",
      " |-- PUNT_QUIMICA: float (nullable = false)\n",
      " |-- PUNT_LENGUAJE: float (nullable = false)\n",
      " |-- PUNT_INTERDISC_MEDIOAMBIENTE: float (nullable = false)\n",
      " |-- PUNT_INTERDISC_VIOLENCIAYSOC: float (nullable = false)\n",
      " |-- PUNT_PROFUNDIZA_BIOLOGIA: float (nullable = false)\n",
      " |-- PUNT_PROFUNDIZA_CSOCIALES: float (nullable = false)\n",
      " |-- PUNT_PROFUNDIZA_LENGUAJE: float (nullable = false)\n",
      " |-- PUNT_PROFUNDIZA_MATEMATICA: float (nullable = false)\n",
      "\n",
      "None\n"
     ]
    }
   ],
   "source": [
    "print(df2.printSchema())"
   ]
  },
  {
   "cell_type": "code",
   "execution_count": 75,
   "metadata": {},
   "outputs": [],
   "source": [
    "# Contando el numero de estudiantes por instituciòn y mostrandola de forma descendente\n",
    "dsCountEst1 = df1.groupBy('cole_nombre_sede').count().orderBy('count',ascending=\n",
    "False)\n",
    "dsCountEst2 = df2.groupBy('COLE_NOMBRE_ESTABLECIMIENTO').count().orderBy('count',ascending=\n",
    "False)"
   ]
  },
  {
   "cell_type": "code",
   "execution_count": 76,
   "metadata": {},
   "outputs": [
    {
     "name": "stdout",
     "output_type": "stream",
     "text": [
      "+----------------------------------------------------------------------------------------------------+-------+\n",
      "|cole_nombre_sede                                                                                    |num_est|\n",
      "+----------------------------------------------------------------------------------------------------+-------+\n",
      "|BACHILLERATO AGROPECUARIO SAT PROHACIENDO - SEDE PRINCIPAL                                          |378    |\n",
      "|CONCENTRACION  URBANA MIGUEL ANTONIO CARO                                                           |278    |\n",
      "|COL CREADORES DEL FUTURO                                                                            |247    |\n",
      "|INSTITUTO REGIONAL COREDI                                                                           |246    |\n",
      "|COL BRITANICO SEDE TUNJUELITO                                                                       |245    |\n",
      "|COL VIDA Y PAZ SEDE CENTRO                                                                          |242    |\n",
      "|INSTITUTO GERWILL - SEDE PRINCIPAL                                                                  |239    |\n",
      "|COL TECNISISTEMAS SEDE SUBA                                                                         |236    |\n",
      "|COL COMPUSOCIAL                                                                                     |218    |\n",
      "|INSTITUTO CODESARROLLO - SEDE PRINCIPAL                                                             |208    |\n",
      "+----------------------------------------------------------------------------------------------------+-------+\n",
      "only showing top 10 rows\n",
      "\n"
     ]
    }
   ],
   "source": [
    "dsCountEst1 = dsCountEst1.withColumnRenamed(\"count\",\"num_est\")\n",
    "dsCountEst1.show(10,False)\n",
    "# Numero de estudiantes por instituciòn primer semestre"
   ]
  },
  {
   "cell_type": "code",
   "execution_count": 77,
   "metadata": {},
   "outputs": [
    {
     "name": "stdout",
     "output_type": "stream",
     "text": [
      "Numero màximo de estudiantes:  378\n",
      "Numero mìnimo de estudiantes:  1\n"
     ]
    }
   ],
   "source": [
    "rowmax1 = dsCountEst1.agg({\"num_est\": \"max\"}).collect()[0]\n",
    "rowmin1 = dsCountEst1.agg({\"num_est\": \"min\"}).collect()[0]\n",
    "\n",
    "num_est_max1 = rowmax1[\"max(num_est)\"]\n",
    "num_est_min1 = rowmin1[\"min(num_est)\"]\n",
    "\n",
    "print(\"Numero màximo de estudiantes: \",num_est_max1)\n",
    "print(\"Numero mìnimo de estudiantes: \",num_est_min1)"
   ]
  },
  {
   "cell_type": "code",
   "execution_count": 78,
   "metadata": {},
   "outputs": [
    {
     "name": "stdout",
     "output_type": "stream",
     "text": [
      "+------------------------------------------------+-------+\n",
      "|COLE_NOMBRE_ESTABLECIMIENTO                     |num_est|\n",
      "+------------------------------------------------+-------+\n",
      "|INST EDUC CEFA                                  |1037   |\n",
      "|INSTITUCION EDUCATIVA FRANCISCO JOSE DE CALDAS  |935    |\n",
      "|IE JORGE ELIECER GAITAN                         |836    |\n",
      "|COLEGIO TECNISISTEMAS                           |817    |\n",
      "|INST EDUC INEM JOSE FELIX DE RESTREPO           |730    |\n",
      "|INSTITUTO TECNICO PARA EL DESARROLLO RURAL IDEAR|729    |\n",
      "|COLEGIO SAN JOSE F.E.S.S.J                      |714    |\n",
      "|INSTITUCION EDUCATIVA SIMON BOLIVAR             |714    |\n",
      "|I. E. LICEO CAUCASIA                            |680    |\n",
      "|I.E. TEC IND JULIO FLOREZ                       |675    |\n",
      "+------------------------------------------------+-------+\n",
      "only showing top 10 rows\n",
      "\n"
     ]
    }
   ],
   "source": [
    "dsCountEst2 = dsCountEst2.withColumnRenamed(\"count\",\"num_est\")\n",
    "dsCountEst2.show(10,False)\n",
    "# Numero de estudiantes por instituciòn segundo semestre"
   ]
  },
  {
   "cell_type": "code",
   "execution_count": 79,
   "metadata": {},
   "outputs": [
    {
     "name": "stdout",
     "output_type": "stream",
     "text": [
      "Numero màximo de estudiantes:  1037\n",
      "Numero mìnimo de estudiantes:  1\n"
     ]
    }
   ],
   "source": [
    "rowmax2 = dsCountEst2.agg({\"num_est\": \"max\"}).collect()[0]\n",
    "rowmin2 = dsCountEst2.agg({\"num_est\": \"min\"}).collect()[0]\n",
    "\n",
    "num_est_max2 = rowmax2[\"max(num_est)\"]\n",
    "num_est_min2 = rowmin2[\"min(num_est)\"]\n",
    "\n",
    "print(\"Numero màximo de estudiantes: \",num_est_max2)\n",
    "print(\"Numero mìnimo de estudiantes: \",num_est_min2)"
   ]
  },
  {
   "cell_type": "code",
   "execution_count": 80,
   "metadata": {},
   "outputs": [],
   "source": [
    "#Se crea una columna con el total de los puntajes   \n",
    "df1= df1.withColumn(\"Suma\",df1['punt_lenguaje']+df1['punt_matematicas']+df1['punt_c_sociales']+\n",
    "                     df1['punt_filosofia']+df1['punt_biologia']+df1['punt_quimica']+df1['punt_fisica']+\n",
    "                     df1['punt_ingles']+df1['punt_comp_flexible'])\n",
    "    \n",
    "df2= df2.withColumn(\"Suma\",df2['PUNT_MATEMATICAS']+df2['PUNT_INGLES']+df2['PUNT_CIENCIAS_SOCIALES']+\n",
    "                     df2['PUNT_BIOLOGIA']+df2['PUNT_FILOSOFIA']+df2['PUNT_FISICA']+df2['PUNT_QUIMICA']+\n",
    "                     df2['PUNT_LENGUAJE']+df2['PUNT_INTERDISC_MEDIOAMBIENTE']+\n",
    "                     df2['PUNT_INTERDISC_VIOLENCIAYSOC']+df2['PUNT_PROFUNDIZA_BIOLOGIA']+\n",
    "                     df2['PUNT_PROFUNDIZA_CSOCIALES']+df2['PUNT_PROFUNDIZA_LENGUAJE']+df2['PUNT_PROFUNDIZA_MATEMATICA'])\n"
   ]
  },
  {
   "cell_type": "markdown",
   "metadata": {},
   "source": [
    "## Resultados finales por instituciòn 1er semestre"
   ]
  },
  {
   "cell_type": "code",
   "execution_count": 81,
   "metadata": {},
   "outputs": [
    {
     "name": "stdout",
     "output_type": "stream",
     "text": [
      "Màxima calificaciòn en colegios:  572.510009765625\n",
      "Mìxima calificaciòn en colegios:  273.02001953125\n"
     ]
    }
   ],
   "source": [
    "# Còdigo para obtener la media de los resultados de las evaluaciones de todos los estudiantes por instituciòn \n",
    "# y posiciòn en orden descendente.\n",
    "from pyspark.sql.functions import *\n",
    "from pyspark.sql.window import Window\n",
    "\n",
    "#df = df.groupBy('cole_cod_dane_institucion','cole_nombre_sede').mean()\n",
    "df1 = df1.groupBy('cole_nombre_sede').mean()\n",
    "\n",
    "rowprommax1 = df1.agg({\"avg(Suma)\": \"max\"}).collect()[0]\n",
    "rowprommin1 = df1.agg({\"avg(Suma)\": \"min\"}).collect()[0]\n",
    "\n",
    "prom_est_max1 = rowprommax1[\"max(avg(Suma))\"]\n",
    "prom_est_min1 = rowprommin1[\"min(avg(Suma))\"]\n",
    "\n",
    "print(\"Màxima calificaciòn en colegios: \", prom_est_max1)\n",
    "print(\"Mìxima calificaciòn en colegios: \", prom_est_min1)"
   ]
  },
  {
   "cell_type": "code",
   "execution_count": 83,
   "metadata": {},
   "outputs": [],
   "source": [
    "dfjoin = df1.join(dsCountEst1,\"cole_nombre_sede\")\n",
    "dfjoin= dfjoin.withColumn(\"Indice_Prom\",round(dfjoin['avg(Suma)']/prom_est_max1,3))\n",
    "dfjoin= dfjoin.withColumn(\"Indice_Num\",round(dfjoin['num_est']/num_est_max1,3))\n",
    "dfjoin= dfjoin.withColumn(\"Indice_Total\",round(dfjoin['Indice_Prom']*dfjoin['Indice_Num'],3))"
   ]
  },
  {
   "cell_type": "code",
   "execution_count": 84,
   "metadata": {},
   "outputs": [],
   "source": [
    "dfjoin = dfjoin.select('cole_nombre_sede','avg(Suma)','num_est','Indice_Prom','Indice_Num','Indice_Total')\n",
    "dfjoin = dfjoin.withColumn(\"rankProm\", dense_rank().over(Window.orderBy(desc(\"Indice_Prom\"))))\n",
    "dfjoin = dfjoin.withColumn(\"rankNum\", dense_rank().over(Window.orderBy(desc(\"Indice_Num\"))))\n",
    "dfjoin = dfjoin.withColumn(\"rankTotal\", dense_rank().over(Window.orderBy(desc(\"Indice_Total\"))))\n",
    "dfjoin = dfjoin.withColumn(\"Media\",round(dfjoin['avg(Suma)'],2))"
   ]
  },
  {
   "cell_type": "code",
   "execution_count": 85,
   "metadata": {},
   "outputs": [
    {
     "name": "stdout",
     "output_type": "stream",
     "text": [
      "+--------------------+------+-----------+-------+--------+-------+---------+\n",
      "|    cole_nombre_sede| Media|Indice_Prom|num_est|rankProm|rankNum|rankTotal|\n",
      "+--------------------+------+-----------+-------+--------+-------+---------+\n",
      "|COL DAVID EISENHO...|572.51|        1.0|      1|       1|    128|      211|\n",
      "|COL LA QUINTA DEL...|568.68|      0.993|     31|       2|     98|      133|\n",
      "|COLEGIO BILINGUE ...|566.25|      0.989|     11|       3|    118|      185|\n",
      "|COL SANTA FRANCIS...|561.38|      0.981|     57|       4|     72|       72|\n",
      "|COL LOS NOGALES  ...|554.29|      0.968|     56|       5|     73|       77|\n",
      "|COL. INTERNACIONA...| 548.4|      0.958|     22|       6|    107|      158|\n",
      "|GIMN. CARTAGENA D...| 548.3|      0.958|     25|       6|    104|      151|\n",
      "|COL SAN JORGE DE ...| 544.8|      0.952|     58|       7|     71|       74|\n",
      "|GIMN VERMONT     ...|542.78|      0.948|     84|       8|     49|       36|\n",
      "|COL ABRAHAM LINCO...|542.43|      0.947|     65|       9|     64|       63|\n",
      "+--------------------+------+-----------+-------+--------+-------+---------+\n",
      "only showing top 10 rows\n",
      "\n"
     ]
    }
   ],
   "source": [
    "# Se ordena por Indice_Prom\n",
    "dfjoin = dfjoin.orderBy('rankProm',ascending= True)\n",
    "dfjoin.select('cole_nombre_sede','Media','Indice_Prom','num_est','rankProm','rankNum','rankTotal').show(10)"
   ]
  },
  {
   "cell_type": "code",
   "execution_count": 86,
   "metadata": {},
   "outputs": [
    {
     "name": "stdout",
     "output_type": "stream",
     "text": [
      "+--------------------+------+----------+-------+--------+-------+---------+\n",
      "|    cole_nombre_sede| Media|Indice_Num|num_est|rankProm|rankNum|rankTotal|\n",
      "+--------------------+------+----------+-------+--------+-------+---------+\n",
      "|BACHILLERATO AGRO...|355.96|       1.0|    378|     257|      1|        1|\n",
      "|CONCENTRACION  UR...|361.01|     0.735|    278|     248|      2|        2|\n",
      "|COL CREADORES DEL...|341.79|     0.653|    247|     279|      3|        6|\n",
      "|INSTITUTO REGIONA...|353.59|     0.651|    246|     261|      4|        5|\n",
      "|COL BRITANICO SED...|375.57|     0.648|    245|     223|      5|        3|\n",
      "|COL VIDA Y PAZ SE...|370.96|      0.64|    242|     231|      6|        4|\n",
      "|INSTITUTO GERWILL...|340.14|     0.632|    239|     282|      7|        8|\n",
      "|COL TECNISISTEMAS...|380.53|     0.624|    236|     214|      8|        4|\n",
      "|     COL COMPUSOCIAL|358.23|     0.577|    218|     253|      9|       10|\n",
      "|INSTITUTO CODESAR...|370.06|      0.55|    208|     233|     10|       11|\n",
      "+--------------------+------+----------+-------+--------+-------+---------+\n",
      "only showing top 10 rows\n",
      "\n"
     ]
    }
   ],
   "source": [
    "dfjoin = dfjoin.orderBy('rankNum',ascending= True)\n",
    "dfjoin.select('cole_nombre_sede','Media','Indice_Num','num_est','rankProm','rankNum','rankTotal').show(10)"
   ]
  },
  {
   "cell_type": "code",
   "execution_count": 87,
   "metadata": {},
   "outputs": [
    {
     "name": "stdout",
     "output_type": "stream",
     "text": [
      "+--------------------+------+------------+-------+--------+-------+---------+\n",
      "|    cole_nombre_sede| Media|Indice_Total|num_est|rankProm|rankNum|rankTotal|\n",
      "+--------------------+------+------------+-------+--------+-------+---------+\n",
      "|BACHILLERATO AGRO...|355.96|       0.622|    378|     257|      1|        1|\n",
      "|CONCENTRACION  UR...|361.01|       0.464|    278|     248|      2|        2|\n",
      "|COL BRITANICO SED...|375.57|       0.425|    245|     223|      5|        3|\n",
      "|COL VIDA Y PAZ SE...|370.96|       0.415|    242|     231|      6|        4|\n",
      "|COL TECNISISTEMAS...|380.53|       0.415|    236|     214|      8|        4|\n",
      "|INSTITUTO REGIONA...|353.59|       0.402|    246|     261|      4|        5|\n",
      "|COL CREADORES DEL...|341.79|        0.39|    247|     279|      3|        6|\n",
      "|COLEGIO SAN ANTON...|451.91|       0.386|    185|     108|     14|        7|\n",
      "|INSTITUTO GERWILL...|340.14|       0.375|    239|     282|      7|        8|\n",
      "|COLEGIO FRANCISCA...|436.16|       0.369|    183|     128|     15|        9|\n",
      "+--------------------+------+------------+-------+--------+-------+---------+\n",
      "only showing top 10 rows\n",
      "\n"
     ]
    }
   ],
   "source": [
    "# Se ordena por Indice_Total\n",
    "dfjoin = dfjoin.orderBy('rankTotal',ascending= True)\n",
    "dfjoin.select('cole_nombre_sede','Media','Indice_Total','num_est','rankProm','rankNum','rankTotal').show(10)"
   ]
  },
  {
   "cell_type": "markdown",
   "metadata": {},
   "source": [
    "## Resultados finales por instituciòn 2do semestre"
   ]
  },
  {
   "cell_type": "code",
   "execution_count": 90,
   "metadata": {},
   "outputs": [
    {
     "name": "stdout",
     "output_type": "stream",
     "text": [
      "Màxima calificaciòn en colegios:  572.510009765625\n",
      "Mìxima calificaciòn en colegios:  273.02001953125\n"
     ]
    }
   ],
   "source": [
    "# Còdigo para obtener la media de los resultados de las evaluaciones de todos los estudiantes por instituciòn \n",
    "# y posiciòn en orden descendente.\n",
    "from pyspark.sql.functions import *\n",
    "from pyspark.sql.window import Window\n",
    "\n",
    "#df = df.groupBy('cole_cod_dane_institucion','cole_nombre_sede').mean()\n",
    "df2 = df2.groupBy('COLE_NOMBRE_ESTABLECIMIENTO').mean()\n",
    "\n",
    "rowprommax2 = df2.agg({\"avg(Suma)\": \"max\"}).collect()[0]\n",
    "rowprommin2 = df2.agg({\"avg(Suma)\": \"min\"}).collect()[0]\n",
    "\n",
    "prom_est_max2 = rowprommax1[\"max(avg(Suma))\"]\n",
    "prom_est_min2 = rowprommin1[\"min(avg(Suma))\"]\n",
    "\n",
    "print(\"Màxima calificaciòn en colegios: \", prom_est_max2)\n",
    "print(\"Mìxima calificaciòn en colegios: \", prom_est_min2)"
   ]
  },
  {
   "cell_type": "code",
   "execution_count": 92,
   "metadata": {},
   "outputs": [],
   "source": [
    "dfjoin = df2.join(dsCountEst2,\"COLE_NOMBRE_ESTABLECIMIENTO\")\n",
    "dfjoin= dfjoin.withColumn(\"Indice_Prom\",round(dfjoin['avg(Suma)']/prom_est_max2,3))\n",
    "dfjoin= dfjoin.withColumn(\"Indice_Num\",round(dfjoin['num_est']/num_est_max2,3))\n",
    "dfjoin= dfjoin.withColumn(\"Indice_Total\",round(dfjoin['Indice_Prom']*dfjoin['Indice_Num'],3))"
   ]
  },
  {
   "cell_type": "code",
   "execution_count": 93,
   "metadata": {},
   "outputs": [],
   "source": [
    "dfjoin = dfjoin.select('COLE_NOMBRE_ESTABLECIMIENTO','avg(Suma)','num_est','Indice_Prom','Indice_Num','Indice_Total')\n",
    "dfjoin = dfjoin.withColumn(\"rankProm\", dense_rank().over(Window.orderBy(desc(\"Indice_Prom\"))))\n",
    "dfjoin = dfjoin.withColumn(\"rankNum\", dense_rank().over(Window.orderBy(desc(\"Indice_Num\"))))\n",
    "dfjoin = dfjoin.withColumn(\"rankTotal\", dense_rank().over(Window.orderBy(desc(\"Indice_Total\"))))\n",
    "dfjoin = dfjoin.withColumn(\"Media\",round(dfjoin['avg(Suma)'],2))"
   ]
  },
  {
   "cell_type": "code",
   "execution_count": 94,
   "metadata": {},
   "outputs": [
    {
     "name": "stdout",
     "output_type": "stream",
     "text": [
      "+---------------------------+------+-----------+-------+--------+-------+---------+\n",
      "|COLE_NOMBRE_ESTABLECIMIENTO| Media|Indice_Prom|num_est|rankProm|rankNum|rankTotal|\n",
      "+---------------------------+------+-----------+-------+--------+-------+---------+\n",
      "|       GLENN DOMAN ESCUE...| 580.0|      1.013|      3|       1|    378|      289|\n",
      "|       LICEO COOPERATIVO...| 560.0|      0.978|      1|       2|    380|      291|\n",
      "|       GIMNASIO COLOMBO ...|552.49|      0.965|     73|       3|    311|      224|\n",
      "|       COL ANGLO AMERICA...|546.54|      0.955|    138|       4|    248|      165|\n",
      "|       INST ALBERTO MERA...|540.53|      0.944|     17|       5|    365|      277|\n",
      "|       COL DE LA COMPANI...|538.21|       0.94|     57|       6|    326|      240|\n",
      "|       FUNDACION EDUCATI...|535.73|      0.936|     11|       7|    370|      282|\n",
      "|       COL NUEVO COLOMBO...|535.78|      0.936|     51|       7|    332|      246|\n",
      "|       LIC NAVARRA      ...|533.26|      0.931|     47|       8|    336|      250|\n",
      "|       LIC CAMPO DAVID  ...|531.72|      0.929|     18|       9|    364|      276|\n",
      "+---------------------------+------+-----------+-------+--------+-------+---------+\n",
      "only showing top 10 rows\n",
      "\n"
     ]
    }
   ],
   "source": [
    "# Se ordena por Indice_Prom\n",
    "dfjoin = dfjoin.orderBy('rankProm',ascending= True)\n",
    "dfjoin.select('COLE_NOMBRE_ESTABLECIMIENTO','Media','Indice_Prom','num_est','rankProm','rankNum','rankTotal').show(10)"
   ]
  },
  {
   "cell_type": "code",
   "execution_count": 95,
   "metadata": {},
   "outputs": [
    {
     "name": "stdout",
     "output_type": "stream",
     "text": [
      "+---------------------------+------+----------+-------+--------+-------+---------+\n",
      "|COLE_NOMBRE_ESTABLECIMIENTO| Media|Indice_Num|num_est|rankProm|rankNum|rankTotal|\n",
      "+---------------------------+------+----------+-------+--------+-------+---------+\n",
      "|             INST EDUC CEFA|427.45|       1.0|   1037|     162|      1|        1|\n",
      "|       INSTITUCION EDUCA...|362.65|     0.902|    935|     276|      2|        2|\n",
      "|       IE JORGE ELIECER ...|367.92|     0.806|    836|     266|      3|        4|\n",
      "|       COLEGIO TECNISIST...|364.33|     0.788|    817|     273|      4|        5|\n",
      "|       INST EDUC INEM JO...|422.65|     0.704|    730|     171|      5|        3|\n",
      "|       INSTITUTO TECNICO...|345.48|     0.703|    729|     306|      6|       10|\n",
      "|       COLEGIO SAN JOSE ...|337.57|     0.689|    714|     319|      7|       14|\n",
      "|       INSTITUCION EDUCA...|367.46|     0.689|    714|     267|      7|        8|\n",
      "|       I. E. LICEO CAUCASIA|363.15|     0.656|    680|     275|      8|       12|\n",
      "|       I.E. TEC IND JULI...|364.44|     0.651|    675|     272|      9|       13|\n",
      "+---------------------------+------+----------+-------+--------+-------+---------+\n",
      "only showing top 10 rows\n",
      "\n"
     ]
    }
   ],
   "source": [
    "dfjoin = dfjoin.orderBy('rankNum',ascending= True)\n",
    "dfjoin.select('COLE_NOMBRE_ESTABLECIMIENTO','Media','Indice_Num','num_est','rankProm','rankNum','rankTotal').show(10)"
   ]
  },
  {
   "cell_type": "code",
   "execution_count": 96,
   "metadata": {},
   "outputs": [
    {
     "name": "stdout",
     "output_type": "stream",
     "text": [
      "+---------------------------+------+------------+-------+--------+-------+---------+\n",
      "|COLE_NOMBRE_ESTABLECIMIENTO| Media|Indice_Total|num_est|rankProm|rankNum|rankTotal|\n",
      "+---------------------------+------+------------+-------+--------+-------+---------+\n",
      "|             INST EDUC CEFA|427.45|       0.747|   1037|     162|      1|        1|\n",
      "|       INSTITUCION EDUCA...|362.65|       0.571|    935|     276|      2|        2|\n",
      "|       INST EDUC INEM JO...|422.65|        0.52|    730|     171|      5|        3|\n",
      "|       IE JORGE ELIECER ...|367.92|       0.518|    836|     266|      3|        4|\n",
      "|       COLEGIO TECNISIST...|364.33|       0.501|    817|     273|      4|        5|\n",
      "|               COL LA SALLE|441.61|       0.466|    626|     138|     11|        6|\n",
      "|       LIC SALAZAR Y HER...|447.29|       0.456|    606|     128|     14|        7|\n",
      "|       INSTITUCION EDUCA...|367.46|       0.442|    714|     267|      7|        8|\n",
      "|       COLEGIO DE LA UNI...|480.88|       0.427|    527|      69|     21|        9|\n",
      "|       INSTITUTO TECNICO...|345.48|       0.424|    729|     306|      6|       10|\n",
      "+---------------------------+------+------------+-------+--------+-------+---------+\n",
      "only showing top 10 rows\n",
      "\n"
     ]
    }
   ],
   "source": [
    "# Se ordena por Indice_Total\n",
    "dfjoin = dfjoin.orderBy('rankTotal',ascending= True)\n",
    "dfjoin.select('COLE_NOMBRE_ESTABLECIMIENTO','Media','Indice_Total','num_est','rankProm','rankNum','rankTotal').show(10)"
   ]
  },
  {
   "cell_type": "markdown",
   "metadata": {},
   "source": [
    "## Colegios"
   ]
  },
  {
   "cell_type": "code",
   "execution_count": 150,
   "metadata": {},
   "outputs": [],
   "source": [
    "# SE crea Dataframe de colegios en este año desaparecio la columna COLE_CODMPIO_COLEGIO\n",
    "dfc = spark.read.load(base + '/' + coleDic['2011'],\"com.databricks.spark.csv\",header='true',inferSchema='true',sep='\\t')\n",
    "dfc = dfc.withColumn('COLE_CODIGO_COLEGIO', dfc['COLE_CODIGO_COLEGIO'].cast(\"string\"))"
   ]
  },
  {
   "cell_type": "code",
   "execution_count": 151,
   "metadata": {},
   "outputs": [
    {
     "name": "stdout",
     "output_type": "stream",
     "text": [
      "root\n",
      " |-- COLE_CODIGO_COLEGIO: string (nullable = true)\n",
      " |-- COLE_INST_NOMBRE: string (nullable = true)\n",
      " |-- COLE_CODMPIO_COLEGIO: integer (nullable = true)\n",
      " |-- COLE_MPIO_COLEGIO: string (nullable = true)\n",
      " |-- COLE_DEPTO_COLEGIO: string (nullable = true)\n",
      " |-- COLE_INST_JORNADA: string (nullable = true)\n",
      " |-- COLE_CALENDARIO_COLEGIO: string (nullable = true)\n",
      " |-- COLE_GENEROPOBLACION: string (nullable = true)\n",
      " |-- COLE_NATURALEZA: string (nullable = true)\n",
      " |-- COLE_CIENCIAS_SOCIALES: integer (nullable = true)\n",
      " |-- COLE_QUIMICA: integer (nullable = true)\n",
      " |-- COLE_FISICA: integer (nullable = true)\n",
      " |-- COLE_BIOLOGIA: integer (nullable = true)\n",
      " |-- COLE_FILOSOFIA: integer (nullable = true)\n",
      " |-- COLE_MATEMATICAS: integer (nullable = true)\n",
      " |-- COLE_LENGUAJE: integer (nullable = true)\n",
      " |-- COLE_INGLES: integer (nullable = true)\n",
      " |-- COLE_GEOGRAFIA: string (nullable = true)\n",
      " |-- COLE_HISTORIA: string (nullable = true)\n",
      " |-- COLE_CATEGORIA: string (nullable = true)\n",
      " |-- COLE_ESTUDIANTES_PRESENTES: integer (nullable = true)\n",
      "\n",
      "None\n"
     ]
    }
   ],
   "source": [
    "print(dfc.printSchema())"
   ]
  },
  {
   "cell_type": "code",
   "execution_count": 152,
   "metadata": {},
   "outputs": [],
   "source": [
    "colsColegio = ['COLE_CODIGO_COLEGIO',\n",
    " 'COLE_CIENCIAS_SOCIALES',\n",
    " 'COLE_QUIMICA',\n",
    " 'COLE_FISICA',\n",
    " 'COLE_BIOLOGIA',\n",
    " 'COLE_FILOSOFIA',\n",
    " 'COLE_MATEMATICAS',\n",
    " 'COLE_LENGUAJE',\n",
    " 'COLE_INGLES',\n",
    " 'COLE_GEOGRAFIA',\n",
    " 'COLE_HISTORIA']"
   ]
  },
  {
   "cell_type": "code",
   "execution_count": 153,
   "metadata": {},
   "outputs": [],
   "source": [
    "dfc = dfc.select(colsColegio)"
   ]
  },
  {
   "cell_type": "code",
   "execution_count": 154,
   "metadata": {},
   "outputs": [
    {
     "name": "stdout",
     "output_type": "stream",
     "text": [
      "+-------------------+----------------------+------------+-----------+-------------+--------------+----------------+-------------+-----------+--------------+-------------+\n",
      "|COLE_CODIGO_COLEGIO|COLE_CIENCIAS_SOCIALES|COLE_QUIMICA|COLE_FISICA|COLE_BIOLOGIA|COLE_FILOSOFIA|COLE_MATEMATICAS|COLE_LENGUAJE|COLE_INGLES|COLE_GEOGRAFIA|COLE_HISTORIA|\n",
      "+-------------------+----------------------+------------+-----------+-------------+--------------+----------------+-------------+-----------+--------------+-------------+\n",
      "|156588             |7                     |6           |7          |7            |6             |7               |7            |7          |null          |null         |\n",
      "|156653             |5                     |5           |6          |4            |5             |5               |6            |5          |null          |null         |\n",
      "|156687             |6                     |6           |6          |6            |6             |5               |6            |6          |null          |null         |\n",
      "|156695             |6                     |5           |5          |6            |6             |6               |6            |5          |null          |null         |\n",
      "|156703             |6                     |5           |6          |5            |5             |6               |5            |6          |null          |null         |\n",
      "+-------------------+----------------------+------------+-----------+-------------+--------------+----------------+-------------+-----------+--------------+-------------+\n",
      "only showing top 5 rows\n",
      "\n"
     ]
    }
   ],
   "source": [
    "dfc.show(5,False)"
   ]
  },
  {
   "cell_type": "code",
   "execution_count": 155,
   "metadata": {},
   "outputs": [
    {
     "name": "stdout",
     "output_type": "stream",
     "text": [
      "El numero de colegios es:  8586\n"
     ]
    }
   ],
   "source": [
    "print(\"El numero de colegios es: \", dfc.select('COLE_CODIGO_COLEGIO').count())"
   ]
  },
  {
   "cell_type": "markdown",
   "metadata": {},
   "source": [
    "## Anàlisis comparativo entre estudiantes y colegios"
   ]
  },
  {
   "cell_type": "code",
   "execution_count": 156,
   "metadata": {},
   "outputs": [],
   "source": [
    "dfjoin = df1.join(dfc, df1.cole_cod_dane_institucion == dfc.COLE_CODIGO_COLEGIO)"
   ]
  },
  {
   "cell_type": "code",
   "execution_count": 157,
   "metadata": {},
   "outputs": [
    {
     "name": "stdout",
     "output_type": "stream",
     "text": [
      "Nùmero de colegios coincidentes entre el archivo de estudiantes 1er semestre y colegios: 0\n"
     ]
    }
   ],
   "source": [
    "print(\"Nùmero de colegios coincidentes entre el archivo de estudiantes 1er semestre y colegios:\", dfjoin.count())"
   ]
  },
  {
   "cell_type": "code",
   "execution_count": 158,
   "metadata": {},
   "outputs": [],
   "source": [
    "dfjoin = df2.join(dfc, df2.COLE_COD_DANE_ESTABLECIMIENTO == dfc.COLE_CODIGO_COLEGIO)"
   ]
  },
  {
   "cell_type": "code",
   "execution_count": 159,
   "metadata": {},
   "outputs": [
    {
     "name": "stdout",
     "output_type": "stream",
     "text": [
      "Nùmero de colegios coincidentes entre el archivo de estudiantes 2do semestre y colegios: 0\n"
     ]
    }
   ],
   "source": [
    "print(\"Nùmero de colegios coincidentes entre el archivo de estudiantes 2do semestre y colegios:\", dfjoin.count())"
   ]
  },
  {
   "cell_type": "markdown",
   "metadata": {},
   "source": [
    "La informaciòn de colegios no coincide con la informaciòn de estudiantes, no existe cole_cod_dane_institucion en el archivo de colegios."
   ]
  }
 ],
 "metadata": {
  "kernelspec": {
   "display_name": "Python 3",
   "language": "python",
   "name": "python3"
  },
  "language_info": {
   "codemirror_mode": {
    "name": "ipython",
    "version": 3
   },
   "file_extension": ".py",
   "mimetype": "text/x-python",
   "name": "python",
   "nbconvert_exporter": "python",
   "pygments_lexer": "ipython3",
   "version": "3.7.3"
  }
 },
 "nbformat": 4,
 "nbformat_minor": 2
}
