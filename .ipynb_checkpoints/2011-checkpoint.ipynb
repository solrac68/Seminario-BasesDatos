{
 "cells": [
  {
   "cell_type": "code",
   "execution_count": 47,
   "metadata": {},
   "outputs": [],
   "source": [
    "from pyspark.sql import SparkSession\n",
    "from pyspark.sql import Row\n",
    "from functools import reduce\n",
    "from pyspark.sql import DataFrame\n",
    "from pyspark.sql.types import StringType,DoubleType,FloatType\n",
    "from pyspark.sql.functions import udf\n",
    "from pyspark.sql.functions import regexp_replace\n",
    "from pyspark.sql.functions import lit\n",
    "import locale\n",
    "import sys\n",
    "import os\n",
    "import re"
   ]
  },
  {
   "cell_type": "code",
   "execution_count": 48,
   "metadata": {},
   "outputs": [
    {
     "data": {
      "text/html": [
       "\n",
       "        <div>\n",
       "            <p><b>SparkContext</b></p>\n",
       "\n",
       "            <p><a href=\"http://nodo1:4042\">Spark UI</a></p>\n",
       "\n",
       "            <dl>\n",
       "              <dt>Version</dt>\n",
       "                <dd><code>v2.4.3</code></dd>\n",
       "              <dt>Master</dt>\n",
       "                <dd><code>local[*]</code></dd>\n",
       "              <dt>AppName</dt>\n",
       "                <dd><code>PySparkShell</code></dd>\n",
       "            </dl>\n",
       "        </div>\n",
       "        "
      ],
      "text/plain": [
       "<SparkContext master=local[*] appName=PySparkShell>"
      ]
     },
     "execution_count": 48,
     "metadata": {},
     "output_type": "execute_result"
    }
   ],
   "source": [
    "sc"
   ]
  },
  {
   "cell_type": "code",
   "execution_count": 49,
   "metadata": {},
   "outputs": [
    {
     "data": {
      "text/html": [
       "\n",
       "            <div>\n",
       "                <p><b>SparkSession - hive</b></p>\n",
       "                \n",
       "        <div>\n",
       "            <p><b>SparkContext</b></p>\n",
       "\n",
       "            <p><a href=\"http://nodo1:4042\">Spark UI</a></p>\n",
       "\n",
       "            <dl>\n",
       "              <dt>Version</dt>\n",
       "                <dd><code>v2.4.3</code></dd>\n",
       "              <dt>Master</dt>\n",
       "                <dd><code>local[*]</code></dd>\n",
       "              <dt>AppName</dt>\n",
       "                <dd><code>PySparkShell</code></dd>\n",
       "            </dl>\n",
       "        </div>\n",
       "        \n",
       "            </div>\n",
       "        "
      ],
      "text/plain": [
       "<pyspark.sql.session.SparkSession at 0x7f5eac17b630>"
      ]
     },
     "execution_count": 49,
     "metadata": {},
     "output_type": "execute_result"
    }
   ],
   "source": [
    "spark"
   ]
  },
  {
   "cell_type": "markdown",
   "metadata": {},
   "source": [
    "# Leyendo lista de Colegios y Estudiantes"
   ]
  },
  {
   "cell_type": "code",
   "execution_count": 50,
   "metadata": {},
   "outputs": [],
   "source": [
    "base = '../Colegios'\n",
    "base2 = '../SB'\n",
    "colegios = os.listdir('../Colegios')\n",
    "estudiantes = os.listdir('../SB')"
   ]
  },
  {
   "cell_type": "code",
   "execution_count": 51,
   "metadata": {},
   "outputs": [],
   "source": [
    "estudiantes.sort()\n",
    "colegios.sort()\n",
    "estuDic = {}\n",
    "coleDic = {}\n",
    "for estu in estudiantes:\n",
    "    estuDic[re.findall('\\d+', estu)[1]] = estu\n",
    "\n",
    "for colegio in colegios:\n",
    "    coleDic[re.findall('\\d+', colegio)[1]] = colegio"
   ]
  },
  {
   "cell_type": "code",
   "execution_count": 52,
   "metadata": {},
   "outputs": [],
   "source": [
    "# Funciòn para unir cualquier nùmero de dataframes con la misma estructura \n",
    "def unionAll(*dfs):\n",
    "    return reduce(DataFrame.unionAll, dfs)"
   ]
  },
  {
   "cell_type": "code",
   "execution_count": 53,
   "metadata": {},
   "outputs": [
    {
     "name": "stdout",
     "output_type": "stream",
     "text": [
      "Archivos de estudiantes:  SB11_20111.txt SB11_20112.txt\n",
      "Archivos de colegios:  SB11-CLASIFI-PLANTELES-2011.txt\n"
     ]
    }
   ],
   "source": [
    "print(\"Archivos de estudiantes: \", estuDic['20111'],estuDic['20112'])\n",
    "print(\"Archivos de colegios: \",coleDic['2011'])"
   ]
  },
  {
   "cell_type": "code",
   "execution_count": 54,
   "metadata": {},
   "outputs": [],
   "source": [
    "# SE leen los dos archivos y se crean dos dataframes\n",
    "df1 = spark.read.load(base2 + '/' + estuDic['20111'],\"com.databricks.spark.csv\",header='true',inferSchema='true',sep='¬')\n",
    "df2 = spark.read.load(base2 + '/' + estuDic['20112'],\"com.databricks.spark.csv\",header='true',inferSchema='true',sep='¬')"
   ]
  },
  {
   "cell_type": "code",
   "execution_count": 55,
   "metadata": {},
   "outputs": [],
   "source": [
    "columnasPuntos20111 = ['cole_cod_dane_institucion','cole_nombre_sede',\n",
    " 'punt_lenguaje',\n",
    " 'punt_matematicas',\n",
    " 'punt_c_sociales',\n",
    " 'punt_filosofia',\n",
    " 'punt_biologia',\n",
    " 'punt_quimica',\n",
    " 'punt_fisica',\n",
    " 'punt_ingles',\n",
    " 'punt_comp_flexible']\n",
    "\n",
    "columnasPuntos20112 = [\n",
    " 'COLE_COD_DANE_ESTABLECIMIENTO',\n",
    " 'COLE_NOMBRE_ESTABLECIMIENTO',\n",
    " 'PUNT_MATEMATICAS',\n",
    " 'PUNT_INGLES',\n",
    " 'PUNT_CIENCIAS_SOCIALES',\n",
    " 'PUNT_BIOLOGIA',\n",
    " 'PUNT_FILOSOFIA',\n",
    " 'PUNT_FISICA',\n",
    " 'PUNT_QUIMICA',\n",
    " 'PUNT_LENGUAJE',\n",
    " 'PUNT_INTERDISC_MEDIOAMBIENTE',\n",
    " 'PUNT_INTERDISC_VIOLENCIAYSOC',\n",
    " 'PUNT_PROFUNDIZA_BIOLOGIA',\n",
    " 'PUNT_PROFUNDIZA_CSOCIALES',\n",
    " 'PUNT_PROFUNDIZA_LENGUAJE',\n",
    " 'PUNT_PROFUNDIZA_MATEMATICA'    \n",
    "]"
   ]
  },
  {
   "cell_type": "code",
   "execution_count": 56,
   "metadata": {},
   "outputs": [],
   "source": [
    "# SE leen los dos archivos y se crean dos dataframes\n",
    "df1 = df1.select(columnasPuntos20111)\n",
    "df2 = df2.select(columnasPuntos20112)"
   ]
  },
  {
   "cell_type": "code",
   "execution_count": 57,
   "metadata": {},
   "outputs": [
    {
     "data": {
      "text/plain": [
       "['punt_lenguaje',\n",
       " 'punt_matematicas',\n",
       " 'punt_c_sociales',\n",
       " 'punt_filosofia',\n",
       " 'punt_biologia',\n",
       " 'punt_quimica',\n",
       " 'punt_fisica',\n",
       " 'punt_ingles',\n",
       " 'punt_comp_flexible']"
      ]
     },
     "execution_count": 57,
     "metadata": {},
     "output_type": "execute_result"
    }
   ],
   "source": [
    "#dft = df1.columns.remove('cole_cod_dane_institucion')\n",
    "cols = df1.columns\n",
    "cols.remove('cole_cod_dane_institucion')\n",
    "cols.remove('cole_nombre_sede')\n",
    "cols"
   ]
  },
  {
   "cell_type": "code",
   "execution_count": 58,
   "metadata": {},
   "outputs": [],
   "source": [
    "# SE unen los dos dataframes\n",
    "# df = unionAll(df1,df2)\n",
    "for cp in cols:\n",
    "    df1 = df1.withColumn(cp, regexp_replace(cp, ',', '.'))\n",
    "    df1 = df1.withColumn(cp, df1[cp].cast(\"float\"))\n",
    "    df1 = df1.na.fill({cp:0})"
   ]
  },
  {
   "cell_type": "code",
   "execution_count": 59,
   "metadata": {},
   "outputs": [
    {
     "data": {
      "text/plain": [
       "['PUNT_MATEMATICAS',\n",
       " 'PUNT_INGLES',\n",
       " 'PUNT_CIENCIAS_SOCIALES',\n",
       " 'PUNT_BIOLOGIA',\n",
       " 'PUNT_FILOSOFIA',\n",
       " 'PUNT_FISICA',\n",
       " 'PUNT_QUIMICA',\n",
       " 'PUNT_LENGUAJE',\n",
       " 'PUNT_INTERDISC_MEDIOAMBIENTE',\n",
       " 'PUNT_INTERDISC_VIOLENCIAYSOC',\n",
       " 'PUNT_PROFUNDIZA_BIOLOGIA',\n",
       " 'PUNT_PROFUNDIZA_CSOCIALES',\n",
       " 'PUNT_PROFUNDIZA_LENGUAJE',\n",
       " 'PUNT_PROFUNDIZA_MATEMATICA']"
      ]
     },
     "execution_count": 59,
     "metadata": {},
     "output_type": "execute_result"
    }
   ],
   "source": [
    "cols2 = df2.columns\n",
    "cols2.remove('COLE_COD_DANE_ESTABLECIMIENTO')\n",
    "cols2.remove('COLE_NOMBRE_ESTABLECIMIENTO')\n",
    "cols2"
   ]
  },
  {
   "cell_type": "code",
   "execution_count": 60,
   "metadata": {},
   "outputs": [],
   "source": [
    "for cp in cols2:\n",
    "    df2 = df2.withColumn(cp, regexp_replace(cp, ',', '.'))\n",
    "    df2 = df2.withColumn(cp, df2[cp].cast(\"float\"))\n",
    "    df2 = df2.na.fill({cp:0})\n",
    "df2 = df2.withColumn('COLE_COD_DANE_ESTABLECIMIENTO', df2['COLE_COD_DANE_ESTABLECIMIENTO'].cast(\"string\"))"
   ]
  },
  {
   "cell_type": "code",
   "execution_count": 61,
   "metadata": {},
   "outputs": [
    {
     "name": "stdout",
     "output_type": "stream",
     "text": [
      "Numero de filas primero semestre  31712\n",
      "Numero de filas segundo semestre  540707\n"
     ]
    }
   ],
   "source": [
    "print(\"Numero de filas primero semestre \", df1.count())\n",
    "print(\"Numero de filas segundo semestre \", df2.count())"
   ]
  },
  {
   "cell_type": "code",
   "execution_count": 62,
   "metadata": {},
   "outputs": [
    {
     "name": "stdout",
     "output_type": "stream",
     "text": [
      "root\n",
      " |-- cole_cod_dane_institucion: string (nullable = true)\n",
      " |-- cole_nombre_sede: string (nullable = true)\n",
      " |-- punt_lenguaje: float (nullable = false)\n",
      " |-- punt_matematicas: float (nullable = false)\n",
      " |-- punt_c_sociales: float (nullable = false)\n",
      " |-- punt_filosofia: float (nullable = false)\n",
      " |-- punt_biologia: float (nullable = false)\n",
      " |-- punt_quimica: float (nullable = false)\n",
      " |-- punt_fisica: float (nullable = false)\n",
      " |-- punt_ingles: float (nullable = false)\n",
      " |-- punt_comp_flexible: float (nullable = false)\n",
      "\n",
      "None\n"
     ]
    }
   ],
   "source": [
    "print(df1.printSchema())"
   ]
  },
  {
   "cell_type": "code",
   "execution_count": 63,
   "metadata": {},
   "outputs": [
    {
     "name": "stdout",
     "output_type": "stream",
     "text": [
      "root\n",
      " |-- COLE_COD_DANE_ESTABLECIMIENTO: string (nullable = true)\n",
      " |-- COLE_NOMBRE_ESTABLECIMIENTO: string (nullable = true)\n",
      " |-- PUNT_MATEMATICAS: float (nullable = false)\n",
      " |-- PUNT_INGLES: float (nullable = false)\n",
      " |-- PUNT_CIENCIAS_SOCIALES: float (nullable = false)\n",
      " |-- PUNT_BIOLOGIA: float (nullable = false)\n",
      " |-- PUNT_FILOSOFIA: float (nullable = false)\n",
      " |-- PUNT_FISICA: float (nullable = false)\n",
      " |-- PUNT_QUIMICA: float (nullable = false)\n",
      " |-- PUNT_LENGUAJE: float (nullable = false)\n",
      " |-- PUNT_INTERDISC_MEDIOAMBIENTE: float (nullable = false)\n",
      " |-- PUNT_INTERDISC_VIOLENCIAYSOC: float (nullable = false)\n",
      " |-- PUNT_PROFUNDIZA_BIOLOGIA: float (nullable = false)\n",
      " |-- PUNT_PROFUNDIZA_CSOCIALES: float (nullable = false)\n",
      " |-- PUNT_PROFUNDIZA_LENGUAJE: float (nullable = false)\n",
      " |-- PUNT_PROFUNDIZA_MATEMATICA: float (nullable = false)\n",
      "\n",
      "None\n"
     ]
    }
   ],
   "source": [
    "print(df2.printSchema())"
   ]
  },
  {
   "cell_type": "code",
   "execution_count": 64,
   "metadata": {},
   "outputs": [],
   "source": [
    "# Contando el numero de estudiantes por instituciòn y mostrandola de forma descendente\n",
    "dsCountEst1 = df1.groupBy('cole_cod_dane_institucion','cole_nombre_sede').count().orderBy('count',ascending=\n",
    "False)\n",
    "dsCountEst2 = df2.groupBy('COLE_COD_DANE_ESTABLECIMIENTO','COLE_NOMBRE_ESTABLECIMIENTO').count().orderBy('count',ascending=\n",
    "False)"
   ]
  },
  {
   "cell_type": "code",
   "execution_count": 65,
   "metadata": {},
   "outputs": [
    {
     "name": "stdout",
     "output_type": "stream",
     "text": [
      "+-------------------------+----------------------------------------------------------------------------------------------------+-------+\n",
      "|cole_cod_dane_institucion|cole_nombre_sede                                                                                    |num_est|\n",
      "+-------------------------+----------------------------------------------------------------------------------------------------+-------+\n",
      "|473024000490             |BACHILLERATO AGROPECUARIO SAT PROHACIENDO - SEDE PRINCIPAL                                          |378    |\n",
      "|125286000123             |CONCENTRACION  URBANA MIGUEL ANTONIO CARO                                                           |278    |\n",
      "|305001020558             |COL CREADORES DEL FUTURO                                                                            |247    |\n",
      "|311001104786             |COL BRITANICO SEDE TUNJUELITO                                                                       |245    |\n",
      "|105001024571             |COL VIDA Y PAZ SEDE CENTRO                                                                          |242    |\n",
      "|311001109605             |INSTITUTO GERWILL - SEDE PRINCIPAL                                                                  |239    |\n",
      "|311001105391             |COL TECNISISTEMAS SEDE SUBA                                                                         |236    |\n",
      "|305001024609             |COL COMPUSOCIAL                                                                                     |218    |\n",
      "|305890001390             |INSTITUTO CODESARROLLO - SEDE PRINCIPAL                                                             |208    |\n",
      "|368001005488             |COL  COLOMBO VENEZOLANO                                                                             |188    |\n",
      "+-------------------------+----------------------------------------------------------------------------------------------------+-------+\n",
      "only showing top 10 rows\n",
      "\n"
     ]
    }
   ],
   "source": [
    "dsCountEst1 = dsCountEst1.withColumnRenamed(\"count\",\"num_est\")\n",
    "dsCountEst1.show(10,False)\n",
    "# Numero de estudiantes por instituciòn primer semestre"
   ]
  },
  {
   "cell_type": "code",
   "execution_count": 66,
   "metadata": {},
   "outputs": [
    {
     "name": "stdout",
     "output_type": "stream",
     "text": [
      "+-----------------------------+-------------------------------------+-------+\n",
      "|COLE_COD_DANE_ESTABLECIMIENTO|COLE_NOMBRE_ESTABLECIMIENTO          |num_est|\n",
      "+-----------------------------+-------------------------------------+-------+\n",
      "|105001000108                 |INST EDUC CEFA                       |1037   |\n",
      "|311001105391                 |COLEGIO TECNISISTEMAS                |801    |\n",
      "|105001013340                 |INST EDUC INEM JOSE FELIX DE RESTREPO|730    |\n",
      "|325754005072                 |COLEGIO SAN JOSE F.E.S.S.J           |714    |\n",
      "|105154000301                 |I. E. LICEO CAUCASIA                 |680    |\n",
      "|115176000084                 |I.E. TEC IND JULIO FLOREZ            |675    |\n",
      "|168001003591                 |IE TEC INEM CUSTODIO GARCÍA ROVIRA   |624    |\n",
      "|305001017433                 |COL COLOMBIANO DE BACHILLERATO       |623    |\n",
      "|305001003963                 |LIC SALAZAR Y HERRERA                |606    |\n",
      "|111001019411                 |COLEGIO INEM SANTIAGO PEREZ (IED)    |578    |\n",
      "+-----------------------------+-------------------------------------+-------+\n",
      "only showing top 10 rows\n",
      "\n"
     ]
    }
   ],
   "source": [
    "dsCountEst2 = dsCountEst2.withColumnRenamed(\"count\",\"num_est\")\n",
    "dsCountEst2.show(10,False)\n",
    "# Numero de estudiantes por instituciòn segundo semestre"
   ]
  },
  {
   "cell_type": "code",
   "execution_count": 67,
   "metadata": {},
   "outputs": [],
   "source": [
    "#Se crea una columna con el total de los puntajes   \n",
    "df1= df1.withColumn(\"Suma\",df1['punt_lenguaje']+df1['punt_matematicas']+df1['punt_c_sociales']+\n",
    "                     df1['punt_filosofia']+df1['punt_biologia']+df1['punt_quimica']+df1['punt_fisica']+\n",
    "                     df1['punt_ingles']+df1['punt_comp_flexible'])\n",
    "    \n",
    "df2= df2.withColumn(\"Suma\",df2['PUNT_MATEMATICAS']+df2['PUNT_INGLES']+df2['PUNT_CIENCIAS_SOCIALES']+\n",
    "                     df2['PUNT_BIOLOGIA']+df2['PUNT_FILOSOFIA']+df2['PUNT_FISICA']+df2['PUNT_QUIMICA']+\n",
    "                     df2['PUNT_LENGUAJE']+df2['PUNT_INTERDISC_MEDIOAMBIENTE']+\n",
    "                     df2['PUNT_INTERDISC_VIOLENCIAYSOC']+df2['PUNT_PROFUNDIZA_BIOLOGIA']+\n",
    "                     df2['PUNT_PROFUNDIZA_CSOCIALES']+df2['PUNT_PROFUNDIZA_LENGUAJE']+df2['PUNT_PROFUNDIZA_MATEMATICA'])\n"
   ]
  },
  {
   "cell_type": "markdown",
   "metadata": {},
   "source": [
    "## Resultados finales por instituciòn 1er semestre"
   ]
  },
  {
   "cell_type": "code",
   "execution_count": 68,
   "metadata": {},
   "outputs": [],
   "source": [
    "# Còdigo para obtener la media de los resultados de las evaluaciones de todos los estudiantes por instituciòn \n",
    "# y posiciòn en orden descendente.\n",
    "from pyspark.sql.functions import *\n",
    "from pyspark.sql.window import Window\n",
    "\n",
    "df1 = df1.groupBy('cole_cod_dane_institucion').mean()\n",
    "df1 = df1.withColumn(\"rank\", dense_rank().over(Window.orderBy(desc(\"avg(Suma)\"))))"
   ]
  },
  {
   "cell_type": "code",
   "execution_count": 69,
   "metadata": {},
   "outputs": [],
   "source": [
    "dfjoin1 = df1.join(dsCountEst1,\"cole_cod_dane_institucion\")\n",
    "dfjoin1 = dfjoin1.withColumn(\"Media\",round(dfjoin1['avg(Suma)'],2))\n",
    "dfjoin1 = dfjoin1.orderBy('rank',ascending= True)"
   ]
  },
  {
   "cell_type": "code",
   "execution_count": 70,
   "metadata": {},
   "outputs": [
    {
     "data": {
      "text/plain": [
       "['cole_cod_dane_institucion',\n",
       " 'avg(punt_lenguaje)',\n",
       " 'avg(punt_matematicas)',\n",
       " 'avg(punt_c_sociales)',\n",
       " 'avg(punt_filosofia)',\n",
       " 'avg(punt_biologia)',\n",
       " 'avg(punt_quimica)',\n",
       " 'avg(punt_fisica)',\n",
       " 'avg(punt_ingles)',\n",
       " 'avg(punt_comp_flexible)',\n",
       " 'avg(Suma)',\n",
       " 'rank',\n",
       " 'cole_nombre_sede',\n",
       " 'num_est',\n",
       " 'Media']"
      ]
     },
     "execution_count": 70,
     "metadata": {},
     "output_type": "execute_result"
    }
   ],
   "source": [
    "dfjoin1.columns"
   ]
  },
  {
   "cell_type": "code",
   "execution_count": 71,
   "metadata": {},
   "outputs": [
    {
     "name": "stdout",
     "output_type": "stream",
     "text": [
      "+-------------------------+--------------------+------+----+-------+\n",
      "|cole_cod_dane_institucion|    cole_nombre_sede| Media|rank|num_est|\n",
      "+-------------------------+--------------------+------+----+-------+\n",
      "|             425126047909|COL DAVID EISENHO...|572.51|   1|      1|\n",
      "|             368276000826|COL LA QUINTA DEL...|568.68|   2|     31|\n",
      "|             376001013441|COLEGIO BILINGUE ...|566.25|   3|     11|\n",
      "|             311848002351|COL SANTA FRANCIS...|561.38|   4|     57|\n",
      "|             311769003342|COL LOS NOGALES  ...|554.29|   5|     56|\n",
      "|             311769002818|COL. INTERNACIONA...| 548.4|   6|     22|\n",
      "|             313836000348|GIMN. CARTAGENA D...| 548.3|   7|     25|\n",
      "|             311769000165|COL SAN JORGE DE ...| 544.8|   8|     58|\n",
      "|             311848000278|GIMN VERMONT     ...|542.78|   9|     84|\n",
      "|             311769001781|COL ABRAHAM LINCO...|542.43|  10|     65|\n",
      "+-------------------------+--------------------+------+----+-------+\n",
      "only showing top 10 rows\n",
      "\n"
     ]
    }
   ],
   "source": [
    "dfjoin1.select('cole_cod_dane_institucion','cole_nombre_sede','Media','rank','num_est').show(10)"
   ]
  },
  {
   "cell_type": "markdown",
   "metadata": {},
   "source": [
    "## Resultados finales por instituciòn 2do semestre"
   ]
  },
  {
   "cell_type": "code",
   "execution_count": 75,
   "metadata": {},
   "outputs": [],
   "source": [
    "df2 = df2.groupBy('COLE_COD_DANE_ESTABLECIMIENTO').mean()\n",
    "df2 = df2.withColumn(\"rank\", dense_rank().over(Window.orderBy(desc(\"avg(Suma)\"))))"
   ]
  },
  {
   "cell_type": "code",
   "execution_count": 76,
   "metadata": {},
   "outputs": [],
   "source": [
    "dfjoin2 = df2.join(dsCountEst2,\"COLE_COD_DANE_ESTABLECIMIENTO\")\n",
    "dfjoin2 = dfjoin2.withColumn(\"Media\",round(dfjoin2['avg(Suma)'],2))\n",
    "dfjoin2 = dfjoin2.orderBy('rank',ascending= True)"
   ]
  },
  {
   "cell_type": "code",
   "execution_count": 78,
   "metadata": {},
   "outputs": [
    {
     "name": "stdout",
     "output_type": "stream",
     "text": [
      "+-----------------------------+---------------------------+------+----+-------+\n",
      "|COLE_COD_DANE_ESTABLECIMIENTO|COLE_NOMBRE_ESTABLECIMIENTO| Media|rank|num_est|\n",
      "+-----------------------------+---------------------------+------+----+-------+\n",
      "|                 368001005861|       GLENN DOMAN ESCUE...| 580.0|   1|      3|\n",
      "|                 315759002670|       LICEO COOPERATIVO...| 560.0|   2|      1|\n",
      "|                 311001086320|       GIMNASIO COLOMBO ...|552.49|   3|     73|\n",
      "|                 311848000308|       COL ANGLO AMERICA...|546.54|   4|    138|\n",
      "|                 311001089221|       INST ALBERTO MERA...|540.53|   5|     17|\n",
      "|                 305001006784|       COL DE LA COMPANI...|538.21|   6|     57|\n",
      "|                 311001076634|       COL NUEVO COLOMBO...|535.78|   7|     51|\n",
      "|                 308001005299|       FUNDACION EDUCATI...|535.73|   8|     11|\n",
      "|                 311001005176|       LIC NAVARRA      ...|533.26|   9|     47|\n",
      "|                 311001090921|        COLEGIO CORAZONISTA|533.17|  10|    110|\n",
      "+-----------------------------+---------------------------+------+----+-------+\n",
      "only showing top 10 rows\n",
      "\n"
     ]
    }
   ],
   "source": [
    "dfjoin2.select('COLE_COD_DANE_ESTABLECIMIENTO','COLE_NOMBRE_ESTABLECIMIENTO','Media','rank','num_est').show(10)"
   ]
  },
  {
   "cell_type": "markdown",
   "metadata": {},
   "source": [
    "## Colegios"
   ]
  },
  {
   "cell_type": "code",
   "execution_count": 150,
   "metadata": {},
   "outputs": [],
   "source": [
    "# SE crea Dataframe de colegios en este año desaparecio la columna COLE_CODMPIO_COLEGIO\n",
    "dfc = spark.read.load(base + '/' + coleDic['2011'],\"com.databricks.spark.csv\",header='true',inferSchema='true',sep='\\t')\n",
    "dfc = dfc.withColumn('COLE_CODIGO_COLEGIO', dfc['COLE_CODIGO_COLEGIO'].cast(\"string\"))"
   ]
  },
  {
   "cell_type": "code",
   "execution_count": 151,
   "metadata": {},
   "outputs": [
    {
     "name": "stdout",
     "output_type": "stream",
     "text": [
      "root\n",
      " |-- COLE_CODIGO_COLEGIO: string (nullable = true)\n",
      " |-- COLE_INST_NOMBRE: string (nullable = true)\n",
      " |-- COLE_CODMPIO_COLEGIO: integer (nullable = true)\n",
      " |-- COLE_MPIO_COLEGIO: string (nullable = true)\n",
      " |-- COLE_DEPTO_COLEGIO: string (nullable = true)\n",
      " |-- COLE_INST_JORNADA: string (nullable = true)\n",
      " |-- COLE_CALENDARIO_COLEGIO: string (nullable = true)\n",
      " |-- COLE_GENEROPOBLACION: string (nullable = true)\n",
      " |-- COLE_NATURALEZA: string (nullable = true)\n",
      " |-- COLE_CIENCIAS_SOCIALES: integer (nullable = true)\n",
      " |-- COLE_QUIMICA: integer (nullable = true)\n",
      " |-- COLE_FISICA: integer (nullable = true)\n",
      " |-- COLE_BIOLOGIA: integer (nullable = true)\n",
      " |-- COLE_FILOSOFIA: integer (nullable = true)\n",
      " |-- COLE_MATEMATICAS: integer (nullable = true)\n",
      " |-- COLE_LENGUAJE: integer (nullable = true)\n",
      " |-- COLE_INGLES: integer (nullable = true)\n",
      " |-- COLE_GEOGRAFIA: string (nullable = true)\n",
      " |-- COLE_HISTORIA: string (nullable = true)\n",
      " |-- COLE_CATEGORIA: string (nullable = true)\n",
      " |-- COLE_ESTUDIANTES_PRESENTES: integer (nullable = true)\n",
      "\n",
      "None\n"
     ]
    }
   ],
   "source": [
    "print(dfc.printSchema())"
   ]
  },
  {
   "cell_type": "code",
   "execution_count": 152,
   "metadata": {},
   "outputs": [],
   "source": [
    "colsColegio = ['COLE_CODIGO_COLEGIO',\n",
    " 'COLE_CIENCIAS_SOCIALES',\n",
    " 'COLE_QUIMICA',\n",
    " 'COLE_FISICA',\n",
    " 'COLE_BIOLOGIA',\n",
    " 'COLE_FILOSOFIA',\n",
    " 'COLE_MATEMATICAS',\n",
    " 'COLE_LENGUAJE',\n",
    " 'COLE_INGLES',\n",
    " 'COLE_GEOGRAFIA',\n",
    " 'COLE_HISTORIA']"
   ]
  },
  {
   "cell_type": "code",
   "execution_count": 153,
   "metadata": {},
   "outputs": [],
   "source": [
    "dfc = dfc.select(colsColegio)"
   ]
  },
  {
   "cell_type": "code",
   "execution_count": 154,
   "metadata": {},
   "outputs": [
    {
     "name": "stdout",
     "output_type": "stream",
     "text": [
      "+-------------------+----------------------+------------+-----------+-------------+--------------+----------------+-------------+-----------+--------------+-------------+\n",
      "|COLE_CODIGO_COLEGIO|COLE_CIENCIAS_SOCIALES|COLE_QUIMICA|COLE_FISICA|COLE_BIOLOGIA|COLE_FILOSOFIA|COLE_MATEMATICAS|COLE_LENGUAJE|COLE_INGLES|COLE_GEOGRAFIA|COLE_HISTORIA|\n",
      "+-------------------+----------------------+------------+-----------+-------------+--------------+----------------+-------------+-----------+--------------+-------------+\n",
      "|156588             |7                     |6           |7          |7            |6             |7               |7            |7          |null          |null         |\n",
      "|156653             |5                     |5           |6          |4            |5             |5               |6            |5          |null          |null         |\n",
      "|156687             |6                     |6           |6          |6            |6             |5               |6            |6          |null          |null         |\n",
      "|156695             |6                     |5           |5          |6            |6             |6               |6            |5          |null          |null         |\n",
      "|156703             |6                     |5           |6          |5            |5             |6               |5            |6          |null          |null         |\n",
      "+-------------------+----------------------+------------+-----------+-------------+--------------+----------------+-------------+-----------+--------------+-------------+\n",
      "only showing top 5 rows\n",
      "\n"
     ]
    }
   ],
   "source": [
    "dfc.show(5,False)"
   ]
  },
  {
   "cell_type": "code",
   "execution_count": 155,
   "metadata": {},
   "outputs": [
    {
     "name": "stdout",
     "output_type": "stream",
     "text": [
      "El numero de colegios es:  8586\n"
     ]
    }
   ],
   "source": [
    "print(\"El numero de colegios es: \", dfc.select('COLE_CODIGO_COLEGIO').count())"
   ]
  },
  {
   "cell_type": "markdown",
   "metadata": {},
   "source": [
    "## Anàlisis comparativo entre estudiantes y colegios"
   ]
  },
  {
   "cell_type": "code",
   "execution_count": 156,
   "metadata": {},
   "outputs": [],
   "source": [
    "dfjoin = df1.join(dfc, df1.cole_cod_dane_institucion == dfc.COLE_CODIGO_COLEGIO)"
   ]
  },
  {
   "cell_type": "code",
   "execution_count": 157,
   "metadata": {},
   "outputs": [
    {
     "name": "stdout",
     "output_type": "stream",
     "text": [
      "Nùmero de colegios coincidentes entre el archivo de estudiantes 1er semestre y colegios: 0\n"
     ]
    }
   ],
   "source": [
    "print(\"Nùmero de colegios coincidentes entre el archivo de estudiantes 1er semestre y colegios:\", dfjoin.count())"
   ]
  },
  {
   "cell_type": "code",
   "execution_count": 158,
   "metadata": {},
   "outputs": [],
   "source": [
    "dfjoin = df2.join(dfc, df2.COLE_COD_DANE_ESTABLECIMIENTO == dfc.COLE_CODIGO_COLEGIO)"
   ]
  },
  {
   "cell_type": "code",
   "execution_count": 159,
   "metadata": {},
   "outputs": [
    {
     "name": "stdout",
     "output_type": "stream",
     "text": [
      "Nùmero de colegios coincidentes entre el archivo de estudiantes 2do semestre y colegios: 0\n"
     ]
    }
   ],
   "source": [
    "print(\"Nùmero de colegios coincidentes entre el archivo de estudiantes 2do semestre y colegios:\", dfjoin.count())"
   ]
  },
  {
   "cell_type": "markdown",
   "metadata": {},
   "source": [
    "La informaciòn de colegios no coincide con la informaciòn de estudiantes, no existe cole_cod_dane_institucion en el archivo de colegios."
   ]
  }
 ],
 "metadata": {
  "kernelspec": {
   "display_name": "Python 3",
   "language": "python",
   "name": "python3"
  },
  "language_info": {
   "codemirror_mode": {
    "name": "ipython",
    "version": 3
   },
   "file_extension": ".py",
   "mimetype": "text/x-python",
   "name": "python",
   "nbconvert_exporter": "python",
   "pygments_lexer": "ipython3",
   "version": "3.7.3"
  }
 },
 "nbformat": 4,
 "nbformat_minor": 2
}
