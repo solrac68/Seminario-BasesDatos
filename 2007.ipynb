{
 "cells": [
  {
   "cell_type": "code",
   "execution_count": 1,
   "metadata": {},
   "outputs": [],
   "source": [
    "from pyspark.sql import SparkSession\n",
    "from pyspark.sql import Row\n",
    "from functools import reduce\n",
    "from pyspark.sql import DataFrame\n",
    "from pyspark.sql.types import StringType,DoubleType,FloatType\n",
    "from pyspark.sql.functions import udf\n",
    "from pyspark.sql.functions import regexp_replace\n",
    "import locale\n",
    "import sys\n",
    "import os\n",
    "import re"
   ]
  },
  {
   "cell_type": "code",
   "execution_count": 2,
   "metadata": {},
   "outputs": [
    {
     "data": {
      "text/html": [
       "\n",
       "        <div>\n",
       "            <p><b>SparkContext</b></p>\n",
       "\n",
       "            <p><a href=\"http://nodo1:4047\">Spark UI</a></p>\n",
       "\n",
       "            <dl>\n",
       "              <dt>Version</dt>\n",
       "                <dd><code>v2.4.3</code></dd>\n",
       "              <dt>Master</dt>\n",
       "                <dd><code>local[*]</code></dd>\n",
       "              <dt>AppName</dt>\n",
       "                <dd><code>PySparkShell</code></dd>\n",
       "            </dl>\n",
       "        </div>\n",
       "        "
      ],
      "text/plain": [
       "<SparkContext master=local[*] appName=PySparkShell>"
      ]
     },
     "execution_count": 2,
     "metadata": {},
     "output_type": "execute_result"
    }
   ],
   "source": [
    "sc"
   ]
  },
  {
   "cell_type": "code",
   "execution_count": 3,
   "metadata": {},
   "outputs": [
    {
     "data": {
      "text/html": [
       "\n",
       "            <div>\n",
       "                <p><b>SparkSession - hive</b></p>\n",
       "                \n",
       "        <div>\n",
       "            <p><b>SparkContext</b></p>\n",
       "\n",
       "            <p><a href=\"http://nodo1:4047\">Spark UI</a></p>\n",
       "\n",
       "            <dl>\n",
       "              <dt>Version</dt>\n",
       "                <dd><code>v2.4.3</code></dd>\n",
       "              <dt>Master</dt>\n",
       "                <dd><code>local[*]</code></dd>\n",
       "              <dt>AppName</dt>\n",
       "                <dd><code>PySparkShell</code></dd>\n",
       "            </dl>\n",
       "        </div>\n",
       "        \n",
       "            </div>\n",
       "        "
      ],
      "text/plain": [
       "<pyspark.sql.session.SparkSession at 0x7f838be39630>"
      ]
     },
     "execution_count": 3,
     "metadata": {},
     "output_type": "execute_result"
    }
   ],
   "source": [
    "spark"
   ]
  },
  {
   "cell_type": "markdown",
   "metadata": {},
   "source": [
    "# Leyendo lista de Colegios y Estudiantes"
   ]
  },
  {
   "cell_type": "code",
   "execution_count": 4,
   "metadata": {},
   "outputs": [],
   "source": [
    "base = '../Colegios'\n",
    "base2 = '../SB'\n",
    "colegios = os.listdir('../Colegios')\n",
    "estudiantes = os.listdir('../SB')"
   ]
  },
  {
   "cell_type": "code",
   "execution_count": 5,
   "metadata": {},
   "outputs": [],
   "source": [
    "estudiantes.sort()\n",
    "colegios.sort()\n",
    "estuDic = {}\n",
    "coleDic = {}\n",
    "for estu in estudiantes:\n",
    "    estuDic[re.findall('\\d+', estu)[1]] = estu\n",
    "\n",
    "for colegio in colegios:\n",
    "    coleDic[re.findall('\\d+', colegio)[1]] = colegio"
   ]
  },
  {
   "cell_type": "code",
   "execution_count": 6,
   "metadata": {},
   "outputs": [],
   "source": [
    "dfestu = {}\n",
    "dfcole = {}\n",
    "for i in coleDic:\n",
    "    dfestu[i] = None\n",
    "    dfcole[i] = None"
   ]
  },
  {
   "cell_type": "code",
   "execution_count": 7,
   "metadata": {},
   "outputs": [],
   "source": [
    "# Funciòn para unir cualquier nùmero de dataframes con la misma estructura \n",
    "def unionAll(*dfs):\n",
    "    return reduce(DataFrame.unionAll, dfs)"
   ]
  },
  {
   "cell_type": "code",
   "execution_count": 8,
   "metadata": {},
   "outputs": [
    {
     "name": "stdout",
     "output_type": "stream",
     "text": [
      "Archivos de estudiantes:  SB11_20071.txt SB11_20072.txt\n",
      "Archivos de colegios:  SB11-CLASIFI-PLANTELES-2007.txt\n"
     ]
    }
   ],
   "source": [
    "print(\"Archivos de estudiantes: \", estuDic['20071'],estuDic['20072'])\n",
    "print(\"Archivos de colegios: \",coleDic['2007'])"
   ]
  },
  {
   "cell_type": "code",
   "execution_count": 9,
   "metadata": {},
   "outputs": [],
   "source": [
    "columnasPuntos = [\n",
    " 'cole_cod_dane_institucion',\n",
    " 'punt_lenguaje',\n",
    " 'punt_matematicas',\n",
    " 'punt_c_sociales',\n",
    " 'punt_filosofia',\n",
    " 'punt_biologia',\n",
    " 'punt_quimica',\n",
    " 'punt_fisica',\n",
    " 'punt_ingles',\n",
    " 'punt_profundizacion',\n",
    " 'punt_interdisciplinar']"
   ]
  },
  {
   "cell_type": "code",
   "execution_count": 10,
   "metadata": {},
   "outputs": [],
   "source": [
    "# SE leen los dos archivos y se crean dos dataframes\n",
    "df1 = spark.read.load(base2 + '/' + estuDic['20071'],\"com.databricks.spark.csv\",header='true',inferSchema='true',sep='¬').select(columnasPuntos)\n",
    "df2 = spark.read.load(base2 + '/' + estuDic['20072'],\"com.databricks.spark.csv\",header='true',inferSchema='true',sep='¬').select(columnasPuntos)"
   ]
  },
  {
   "cell_type": "code",
   "execution_count": 11,
   "metadata": {},
   "outputs": [],
   "source": [
    "# SE unen los dos dataframes\n",
    "columnasPuntosc = [\n",
    " 'punt_lenguaje',\n",
    " 'punt_matematicas',\n",
    " 'punt_c_sociales',\n",
    " 'punt_filosofia',\n",
    " 'punt_biologia',\n",
    " 'punt_quimica',\n",
    " 'punt_fisica',\n",
    " 'punt_ingles',\n",
    " 'punt_profundizacion',\n",
    " 'punt_interdisciplinar']\n",
    "df = unionAll(df1,df2)\n",
    "for cp in columnasPuntosc:\n",
    "    df = df.withColumn(cp, regexp_replace(cp, ',', '.'))\n",
    "    df = df.withColumn(cp, df[cp].cast(\"float\"))\n",
    "    \n",
    "df1 = df2 = None"
   ]
  },
  {
   "cell_type": "code",
   "execution_count": 12,
   "metadata": {},
   "outputs": [
    {
     "name": "stdout",
     "output_type": "stream",
     "text": [
      "Numero de filas  502389\n"
     ]
    }
   ],
   "source": [
    "print(\"Numero de filas \", df.count())"
   ]
  },
  {
   "cell_type": "code",
   "execution_count": 13,
   "metadata": {},
   "outputs": [
    {
     "name": "stdout",
     "output_type": "stream",
     "text": [
      "root\n",
      " |-- cole_cod_dane_institucion: string (nullable = true)\n",
      " |-- punt_lenguaje: float (nullable = true)\n",
      " |-- punt_matematicas: float (nullable = true)\n",
      " |-- punt_c_sociales: float (nullable = true)\n",
      " |-- punt_filosofia: float (nullable = true)\n",
      " |-- punt_biologia: float (nullable = true)\n",
      " |-- punt_quimica: float (nullable = true)\n",
      " |-- punt_fisica: float (nullable = true)\n",
      " |-- punt_ingles: float (nullable = true)\n",
      " |-- punt_profundizacion: float (nullable = true)\n",
      " |-- punt_interdisciplinar: float (nullable = true)\n",
      "\n",
      "None\n"
     ]
    }
   ],
   "source": [
    "print(df.printSchema())"
   ]
  },
  {
   "cell_type": "code",
   "execution_count": 14,
   "metadata": {},
   "outputs": [],
   "source": [
    "# Contando el numero de estudiantes por instituciòn y mostrandola de forma descendente\n",
    "dsCountEst = df.groupBy('cole_cod_dane_institucion').count().orderBy('count',ascending=\n",
    "False)"
   ]
  },
  {
   "cell_type": "code",
   "execution_count": 15,
   "metadata": {},
   "outputs": [
    {
     "name": "stdout",
     "output_type": "stream",
     "text": [
      "+-------------------------+-----+\n",
      "|cole_cod_dane_institucion|count|\n",
      "+-------------------------+-----+\n",
      "|null                     |6981 |\n",
      "|105001000108             |1088 |\n",
      "|111001024732             |1013 |\n",
      "|111001019411             |871  |\n",
      "|105001013340             |856  |\n",
      "|111102000753             |684  |\n",
      "|305001003963             |669  |\n",
      "|111001010839             |663  |\n",
      "|168001003591             |660  |\n",
      "|113001003274             |648  |\n",
      "+-------------------------+-----+\n",
      "only showing top 10 rows\n",
      "\n"
     ]
    }
   ],
   "source": [
    "dsCountEst.show(10,False)"
   ]
  },
  {
   "cell_type": "code",
   "execution_count": 16,
   "metadata": {},
   "outputs": [],
   "source": [
    "#Se crea una columna con el total de los puntajes   \n",
    "df= df.withColumn(\"Suma\",df['punt_lenguaje']+df['punt_matematicas']+df['punt_c_sociales']+\n",
    "                     df['punt_filosofia']+df['punt_biologia']+df['punt_quimica']+df['punt_fisica']+\n",
    "                     df['punt_ingles']+df['punt_profundizacion']+df['punt_interdisciplinar'])"
   ]
  },
  {
   "cell_type": "markdown",
   "metadata": {},
   "source": [
    "## Resultados finales por instituciòn"
   ]
  },
  {
   "cell_type": "code",
   "execution_count": 17,
   "metadata": {},
   "outputs": [],
   "source": [
    "# Còdigo para obtener la media de los resultados de las evaluaciones de todos los estudiantes por instituciòn \n",
    "# y posiciòn en orden descendente.\n",
    "from pyspark.sql.functions import *\n",
    "from pyspark.sql.window import Window\n",
    "\n",
    "df = df.groupBy('cole_cod_dane_institucion').mean()\n",
    "df = df.withColumn(\"rank\", dense_rank().over(Window.orderBy(desc(\"avg(Suma)\"))))\n",
    "df = df.orderBy('rank',ascending= True)"
   ]
  },
  {
   "cell_type": "code",
   "execution_count": 18,
   "metadata": {
    "scrolled": true
   },
   "outputs": [
    {
     "name": "stdout",
     "output_type": "stream",
     "text": [
      "+-------------------------+-----------------+----+\n",
      "|cole_cod_dane_institucion|avg(Suma)        |rank|\n",
      "+-------------------------+-----------------+----+\n",
      "|311001089221             |578.0105333830181|1   |\n",
      "|311001005176             |576.2979576804421|2   |\n",
      "|311848002611             |571.2077433268229|3   |\n",
      "|425214000149             |564.1735229492188|4   |\n",
      "|468547002051             |562.5039142111074|5   |\n",
      "|313001008429             |562.3300048828125|6   |\n",
      "|405440000789             |561.9118471498842|7   |\n",
      "|311001090921             |560.2738064150267|8   |\n",
      "|311001065489             |558.7706451416016|9   |\n",
      "|373001007662             |556.1993865966797|10  |\n",
      "+-------------------------+-----------------+----+\n",
      "only showing top 10 rows\n",
      "\n"
     ]
    }
   ],
   "source": [
    "df.select('cole_cod_dane_institucion','avg(Suma)','rank').show(10,False)"
   ]
  },
  {
   "cell_type": "markdown",
   "metadata": {},
   "source": [
    "## Colegios"
   ]
  },
  {
   "cell_type": "code",
   "execution_count": 19,
   "metadata": {},
   "outputs": [
    {
     "name": "stdout",
     "output_type": "stream",
     "text": [
      "+-------------------------+------------------+---------------------+--------------------+-------------------+------------------+------------------+------------------+-----------------+------------------------+--------------------------+-----------------+----+----+\n",
      "|cole_cod_dane_institucion|avg(punt_lenguaje)|avg(punt_matematicas)|avg(punt_c_sociales)|avg(punt_filosofia)|avg(punt_biologia)|avg(punt_quimica) |avg(punt_fisica)  |avg(punt_ingles) |avg(punt_profundizacion)|avg(punt_interdisciplinar)|avg(Suma)        |rank|año |\n",
      "+-------------------------+------------------+---------------------+--------------------+-------------------+------------------+------------------+------------------+-----------------+------------------------+--------------------------+-----------------+----+----+\n",
      "|311001089221             |61.91473629600123 |70.93947340312756    |67.34420977140728   |51.50736838892887  |65.5378946003161  |58.80894711143092 |58.67578908016807 |76.65473837601512|6.891579000573409       |59.73578884727076         |578.0105333830181|1   |2007|\n",
      "|311001005176             |59.70977228338068 |77.03522768887606    |62.06045428189364   |48.96204506267201  |62.97340887243097 |56.355454271489926|64.5415906906128  |83.45477277582341|7.1250000108372085      |54.08022663810036         |576.2979576804421|2   |2007|\n",
      "|311848002611             |57.89698885845882 |78.16182782573085    |60.262257524715956  |46.28204271870275  |59.791290365239625|60.72569836852371 |63.534838194488195|82.53526995258946|7.20462364791542        |54.81290304532615         |571.2077433268229|3   |2007|\n",
      "|425214000149             |57.74074024624295 |73.76629688121655    |59.830370090625905  |45.94111096417463  |63.95925910384567 |59.49055502149794 |64.30796277081525 |78.63518524169922|6.883148202189693       |53.6188885724103          |564.1735229492188|4   |2007|\n",
      "|468547002051             |59.11260820471722 |67.26565236630647    |58.059999548870586  |45.148695323778234 |61.83869569197945 |60.09391237341839 |59.07260811847189 |92.6791295590608 |6.315217412036398       |52.91739107214886         |562.5039142111074|5   |2007|\n",
      "+-------------------------+------------------+---------------------+--------------------+-------------------+------------------+------------------+------------------+-----------------+------------------------+--------------------------+-----------------+----+----+\n",
      "only showing top 5 rows\n",
      "\n"
     ]
    }
   ],
   "source": [
    "# se crea un dataframe con una columna del año.\n",
    "from pyspark.sql.functions import lit\n",
    "df = df.withColumn('año',lit(2007))\n",
    "df.show(5,False)"
   ]
  },
  {
   "cell_type": "code",
   "execution_count": 20,
   "metadata": {},
   "outputs": [],
   "source": [
    "# SE crea Dataframe de colegios 2007\n",
    "dfc = spark.read.load(base + '/' + coleDic['2007'],\"com.databricks.spark.csv\",header='true',inferSchema='true',sep='\\t')\n",
    "dfc = dfc.withColumn('COLE_CODIGO_COLEGIO', dfc['COLE_CODIGO_COLEGIO'].cast(\"string\"))\n",
    "dfc = dfc.withColumn('COLE_CODMPIO_COLEGIO', dfc['COLE_CODMPIO_COLEGIO'].cast(\"string\"))"
   ]
  },
  {
   "cell_type": "code",
   "execution_count": 21,
   "metadata": {},
   "outputs": [
    {
     "name": "stdout",
     "output_type": "stream",
     "text": [
      "root\n",
      " |-- COLE_CODIGO_COLEGIO: string (nullable = true)\n",
      " |-- COLE_INST_NOMBRE: string (nullable = true)\n",
      " |-- COLE_CODMPIO_COLEGIO: string (nullable = true)\n",
      " |-- COLE_MPIO_COLEGIO: string (nullable = true)\n",
      " |-- COLE_DEPTO_COLEGIO: string (nullable = true)\n",
      " |-- COLE_INST_JORNADA: string (nullable = true)\n",
      " |-- COLE_CALENDARIO_COLEGIO: string (nullable = true)\n",
      " |-- COLE_GENEROPOBLACION: string (nullable = true)\n",
      " |-- COLE_NATURALEZA: string (nullable = true)\n",
      " |-- COLE_CIENCIAS_SOCIALES: integer (nullable = true)\n",
      " |-- COLE_QUIMICA: integer (nullable = true)\n",
      " |-- COLE_FISICA: integer (nullable = true)\n",
      " |-- COLE_BIOLOGIA: integer (nullable = true)\n",
      " |-- COLE_FILOSOFIA: integer (nullable = true)\n",
      " |-- COLE_MATEMATICAS: integer (nullable = true)\n",
      " |-- COLE_LENGUAJE: integer (nullable = true)\n",
      " |-- COLE_INGLES: integer (nullable = true)\n",
      " |-- COLE_GEOGRAFIA: string (nullable = true)\n",
      " |-- COLE_HISTORIA: string (nullable = true)\n",
      " |-- COLE_CATEGORIA: string (nullable = true)\n",
      " |-- COLE_ESTUDIANTES_PRESENTES: integer (nullable = true)\n",
      "\n",
      "None\n"
     ]
    }
   ],
   "source": [
    "print(dfc.printSchema())"
   ]
  },
  {
   "cell_type": "code",
   "execution_count": 22,
   "metadata": {},
   "outputs": [],
   "source": [
    "colsColegio = ['COLE_CODIGO_COLEGIO',\n",
    " 'COLE_CODMPIO_COLEGIO',\n",
    " 'COLE_CIENCIAS_SOCIALES',\n",
    " 'COLE_QUIMICA',\n",
    " 'COLE_FISICA',\n",
    " 'COLE_BIOLOGIA',\n",
    " 'COLE_FILOSOFIA',\n",
    " 'COLE_MATEMATICAS',\n",
    " 'COLE_LENGUAJE',\n",
    " 'COLE_INGLES',\n",
    " 'COLE_GEOGRAFIA',\n",
    " 'COLE_HISTORIA']"
   ]
  },
  {
   "cell_type": "code",
   "execution_count": 23,
   "metadata": {},
   "outputs": [],
   "source": [
    "dfc = dfc.select(colsColegio)"
   ]
  },
  {
   "cell_type": "code",
   "execution_count": 24,
   "metadata": {},
   "outputs": [
    {
     "name": "stdout",
     "output_type": "stream",
     "text": [
      "+-------------------+--------------------+----------------------+------------+-----------+-------------+--------------+----------------+-------------+-----------+--------------+-------------+\n",
      "|COLE_CODIGO_COLEGIO|COLE_CODMPIO_COLEGIO|COLE_CIENCIAS_SOCIALES|COLE_QUIMICA|COLE_FISICA|COLE_BIOLOGIA|COLE_FILOSOFIA|COLE_MATEMATICAS|COLE_LENGUAJE|COLE_INGLES|COLE_GEOGRAFIA|COLE_HISTORIA|\n",
      "+-------------------+--------------------+----------------------+------------+-----------+-------------+--------------+----------------+-------------+-----------+--------------+-------------+\n",
      "|135442             |47001               |5                     |6           |5          |7            |4             |7               |8            |5          |null          |null         |\n",
      "|135459             |25322               |6                     |7           |6          |6            |5             |7               |6            |5          |null          |null         |\n",
      "|135467             |5001                |6                     |7           |5          |6            |5             |7               |6            |5          |null          |null         |\n",
      "|135475             |5001                |6                     |6           |6          |6            |6             |6               |6            |5          |null          |null         |\n",
      "|135483             |41319               |5                     |6           |6          |7            |6             |6               |8            |5          |null          |null         |\n",
      "+-------------------+--------------------+----------------------+------------+-----------+-------------+--------------+----------------+-------------+-----------+--------------+-------------+\n",
      "only showing top 5 rows\n",
      "\n"
     ]
    }
   ],
   "source": [
    "dfc.show(5,False)"
   ]
  },
  {
   "cell_type": "code",
   "execution_count": 25,
   "metadata": {},
   "outputs": [
    {
     "name": "stdout",
     "output_type": "stream",
     "text": [
      "El numero de colegios:  9680\n"
     ]
    }
   ],
   "source": [
    "print(\"El numero de colegios: \", dfc.select('COLE_CODIGO_COLEGIO').count())"
   ]
  },
  {
   "cell_type": "markdown",
   "metadata": {},
   "source": [
    "## Anàlisis comparativo entre estudiantes y colegios"
   ]
  },
  {
   "cell_type": "code",
   "execution_count": 26,
   "metadata": {},
   "outputs": [],
   "source": [
    "dfjoin = df.join(dfc, df.cole_cod_dane_institucion == dfc.COLE_CODIGO_COLEGIO)"
   ]
  },
  {
   "cell_type": "code",
   "execution_count": 27,
   "metadata": {},
   "outputs": [
    {
     "name": "stdout",
     "output_type": "stream",
     "text": [
      "Nùmero de colegios coincidentes entre el archivo de estudiantes y colegios: 0\n"
     ]
    }
   ],
   "source": [
    "print(\"Nùmero de colegios coincidentes entre el archivo de estudiantes y colegios:\", dfjoin.count())"
   ]
  },
  {
   "cell_type": "code",
   "execution_count": 28,
   "metadata": {},
   "outputs": [
    {
     "name": "stdout",
     "output_type": "stream",
     "text": [
      "Nùmero de colegios coincidentes entre el archivo de estudiantes y colegios: 0\n"
     ]
    }
   ],
   "source": [
    "dfjoin = df.join(dfc, df.cole_cod_dane_institucion == dfc.COLE_CODMPIO_COLEGIO)\n",
    "dfjoin.count()\n",
    "print(\"Nùmero de colegios coincidentes entre el archivo de estudiantes y colegios:\", dfjoin.count())"
   ]
  },
  {
   "cell_type": "markdown",
   "metadata": {},
   "source": [
    "La informaciòn de colegios no coincide con la informaciòn de estudiantes, no existe cole_cod_dane_institucion en el archivo de colegios."
   ]
  }
 ],
 "metadata": {
  "kernelspec": {
   "display_name": "Python 3",
   "language": "python",
   "name": "python3"
  },
  "language_info": {
   "codemirror_mode": {
    "name": "ipython",
    "version": 3
   },
   "file_extension": ".py",
   "mimetype": "text/x-python",
   "name": "python",
   "nbconvert_exporter": "python",
   "pygments_lexer": "ipython3",
   "version": "3.7.3"
  }
 },
 "nbformat": 4,
 "nbformat_minor": 2
}
