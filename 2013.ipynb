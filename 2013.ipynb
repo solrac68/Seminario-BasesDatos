{
 "cells": [
  {
   "cell_type": "code",
   "execution_count": 35,
   "metadata": {},
   "outputs": [],
   "source": [
    "from pyspark.sql import SparkSession\n",
    "from pyspark.sql import Row\n",
    "from functools import reduce\n",
    "from pyspark.sql import DataFrame\n",
    "from pyspark.sql.types import StringType,DoubleType,FloatType\n",
    "from pyspark.sql.functions import udf\n",
    "from pyspark.sql.functions import regexp_replace\n",
    "from pyspark.sql.functions import lit\n",
    "import locale\n",
    "import sys\n",
    "import os\n",
    "import re"
   ]
  },
  {
   "cell_type": "code",
   "execution_count": 36,
   "metadata": {},
   "outputs": [
    {
     "data": {
      "text/html": [
       "\n",
       "        <div>\n",
       "            <p><b>SparkContext</b></p>\n",
       "\n",
       "            <p><a href=\"http://nodo1:4047\">Spark UI</a></p>\n",
       "\n",
       "            <dl>\n",
       "              <dt>Version</dt>\n",
       "                <dd><code>v2.4.3</code></dd>\n",
       "              <dt>Master</dt>\n",
       "                <dd><code>local[*]</code></dd>\n",
       "              <dt>AppName</dt>\n",
       "                <dd><code>PySparkShell</code></dd>\n",
       "            </dl>\n",
       "        </div>\n",
       "        "
      ],
      "text/plain": [
       "<SparkContext master=local[*] appName=PySparkShell>"
      ]
     },
     "execution_count": 36,
     "metadata": {},
     "output_type": "execute_result"
    }
   ],
   "source": [
    "sc"
   ]
  },
  {
   "cell_type": "code",
   "execution_count": 37,
   "metadata": {},
   "outputs": [
    {
     "data": {
      "text/html": [
       "\n",
       "            <div>\n",
       "                <p><b>SparkSession - hive</b></p>\n",
       "                \n",
       "        <div>\n",
       "            <p><b>SparkContext</b></p>\n",
       "\n",
       "            <p><a href=\"http://nodo1:4047\">Spark UI</a></p>\n",
       "\n",
       "            <dl>\n",
       "              <dt>Version</dt>\n",
       "                <dd><code>v2.4.3</code></dd>\n",
       "              <dt>Master</dt>\n",
       "                <dd><code>local[*]</code></dd>\n",
       "              <dt>AppName</dt>\n",
       "                <dd><code>PySparkShell</code></dd>\n",
       "            </dl>\n",
       "        </div>\n",
       "        \n",
       "            </div>\n",
       "        "
      ],
      "text/plain": [
       "<pyspark.sql.session.SparkSession at 0x7fe0d0516630>"
      ]
     },
     "execution_count": 37,
     "metadata": {},
     "output_type": "execute_result"
    }
   ],
   "source": [
    "spark"
   ]
  },
  {
   "cell_type": "markdown",
   "metadata": {},
   "source": [
    "# Leyendo lista de Colegios y Estudiantes"
   ]
  },
  {
   "cell_type": "code",
   "execution_count": 38,
   "metadata": {},
   "outputs": [],
   "source": [
    "base = '../Colegios'\n",
    "base2 = '../SB'\n",
    "colegios = os.listdir('../Colegios')\n",
    "estudiantes = os.listdir('../SB')"
   ]
  },
  {
   "cell_type": "code",
   "execution_count": 39,
   "metadata": {},
   "outputs": [],
   "source": [
    "estudiantes.sort()\n",
    "colegios.sort()\n",
    "estuDic = {}\n",
    "coleDic = {}\n",
    "for estu in estudiantes:\n",
    "    estuDic[re.findall('\\d+', estu)[1]] = estu\n",
    "\n",
    "for colegio in colegios:\n",
    "    coleDic[re.findall('\\d+', colegio)[1]] = colegio"
   ]
  },
  {
   "cell_type": "code",
   "execution_count": 40,
   "metadata": {},
   "outputs": [],
   "source": [
    "# Funciòn para unir cualquier nùmero de dataframes con la misma estructura \n",
    "def unionAll(*dfs):\n",
    "    return reduce(DataFrame.unionAll, dfs)"
   ]
  },
  {
   "cell_type": "code",
   "execution_count": 41,
   "metadata": {},
   "outputs": [
    {
     "name": "stdout",
     "output_type": "stream",
     "text": [
      "Archivos de estudiantes:  SB11_20131.txt SB11_20132.txt\n",
      "Archivos de colegios:  SB11-CLASIFI-PLANTELES-2013.txt\n"
     ]
    }
   ],
   "source": [
    "print(\"Archivos de estudiantes: \", estuDic['20131'],estuDic['20132'])\n",
    "print(\"Archivos de colegios: \",coleDic['2013'])"
   ]
  },
  {
   "cell_type": "code",
   "execution_count": 42,
   "metadata": {},
   "outputs": [],
   "source": [
    "# SE leen los dos archivos y se crean dos dataframes\n",
    "df1 = spark.read.load(base2 + '/' + estuDic['20131'],\"com.databricks.spark.csv\",header='true',inferSchema='true',sep='¬')\n",
    "df2 = spark.read.load(base2 + '/' + estuDic['20132'],\"com.databricks.spark.csv\",header='true',inferSchema='true',sep='¬')"
   ]
  },
  {
   "cell_type": "code",
   "execution_count": 43,
   "metadata": {},
   "outputs": [
    {
     "data": {
      "text/plain": [
       "['ESTU_TIPODOCUMENTO',\n",
       " 'ESTU_NACIONALIDAD',\n",
       " 'ESTU_GENERO',\n",
       " 'ESTU_FECHANACIMIENTO',\n",
       " 'PERIODO',\n",
       " 'ESTU_CONSECUTIVO',\n",
       " 'ESTU_ESTUDIANTE',\n",
       " 'ESTU_PAIS_RESIDE',\n",
       " 'ESTU_DEPTO_RESIDE',\n",
       " 'ESTU_COD_RESIDE_DEPTO',\n",
       " 'ESTU_MCPIO_RESIDE',\n",
       " 'ESTU_COD_RESIDE_MCPIO',\n",
       " 'ESTU_AREARESIDE',\n",
       " 'ESTU_VALORPENSIONCOLEGIO',\n",
       " 'ESTU_VECESPRESENTOEXAMEN',\n",
       " 'FAMI_EDUCACIONPADRE',\n",
       " 'FAMI_EDUCACIONMADRE',\n",
       " 'FAMI_OCUPACIONPADRE',\n",
       " 'FAMI_OCUPACIONMADRE',\n",
       " 'FAMI_ESTRATOVIVIENDA',\n",
       " 'FAMI_NIVELSISBEN',\n",
       " 'FAMI_PERSONASHOGAR',\n",
       " 'FAMI_CUARTOSHOGAR',\n",
       " 'FAMI_PISOSHOGAR',\n",
       " 'FAMI_TIENEINTERNET',\n",
       " 'FAMI_TIENECOMPUTADOR',\n",
       " 'FAMI_TIENELAVADORA',\n",
       " 'FAMI_TIENEMICROONDAS',\n",
       " 'FAMI_TIENEHORNO',\n",
       " 'FAMI_TIENETELEVISOR',\n",
       " 'FAMI_TIENEAUTOMOVIL',\n",
       " 'FAMI_TIENEDVD',\n",
       " 'FAMI_TIENE_NEVERA',\n",
       " 'FAMI_TIENE_CELULAR',\n",
       " 'FAMI_TELEFONO',\n",
       " 'FAMI_INGRESOFMILIARMENSUAL',\n",
       " 'ESTU_TRABAJAACTUALMENTE',\n",
       " 'ESTU_RECIBESALARIO',\n",
       " 'ESTU_ANTECEDENTES',\n",
       " 'ESTU_ANOSPREESCOLAR',\n",
       " 'ESTU_ANOMATRICULAPRIMERO',\n",
       " 'ESTU_ANOTERMINOQUINTO',\n",
       " 'ESTU_ANOMATRICULASEXTO',\n",
       " 'ESTU_REPROBOPRIMERO',\n",
       " 'ESTU_REPROBOSEGUNDO',\n",
       " 'ESTU_REPROBOTERCERO',\n",
       " 'ESTU_REPROBOCUARTO',\n",
       " 'ESTU_REPROBOQUINTO',\n",
       " 'ESTU_REPROBOSEXTO',\n",
       " 'ESTU_REPROBOSEPTIMO',\n",
       " 'ESTU_REPROBOOCTAVO',\n",
       " 'ESTU_REPROBONOVENO',\n",
       " 'ESTU_REPROBODECIMO',\n",
       " 'ESTU_REPROBOONCEMAS',\n",
       " 'ESTU_ANOSCOLEGIOACTUAL',\n",
       " 'ESTU_CUANTOSCOLEGIOESTUDIO',\n",
       " 'ESTU_SERETIROCOLEGIO',\n",
       " 'ESTU_RAZONRETIROCOLEGIO',\n",
       " 'ESTU_TOTALALUMNOSCURSO',\n",
       " 'ESTU_TIPOCARRERADESEADA',\n",
       " 'ESTU_IESDESEADA',\n",
       " 'ESTU_COD_MCPIOIESDESEADA',\n",
       " 'ESTU_MCPIOIESDESEADA',\n",
       " 'ESTU_PROGRAMADESEADO',\n",
       " 'ESTU_INSTPORPRESTIGIO',\n",
       " 'ESTU_INSTPORCOSTOMATRICULA',\n",
       " 'ESTU_INSTPORUBICACION',\n",
       " 'ESTU_INSTPORUNICAQUEOFRECE',\n",
       " 'ESTU_INSTPOROPORTUNIDADES',\n",
       " 'ESTU_INSTPORAMIGOSESTUDIANDO',\n",
       " 'ESTU_INSTPOROTRARAZON',\n",
       " 'ESTU_PROGORIENTACIONVOCACIONAL',\n",
       " 'ESTU_PROGPORBUSCANDOCARRERA',\n",
       " 'ESTU_PROGPORCOLOMBIAAPRENDE',\n",
       " 'ESTU_PROGPORINTERESPERSONAL',\n",
       " 'ESTU_PROGPORTRADICIONFAMILIAR',\n",
       " 'ESTU_PROGPORMEJORARPOSICSOCIAL',\n",
       " 'ESTU_PROGPORINFLUENCIAALGUIEN',\n",
       " 'ESTU_EXPECTATIVAS',\n",
       " 'ESTU_INGRESAR_PROG_EDUSUPERIOR',\n",
       " 'ESTU_PUNT_ESPERADO_LENGUAJE',\n",
       " 'ESTU_PUNT_ESPERADO_MATEMATICAS',\n",
       " 'ESTU_PUNT_ESPERADO_INGLES',\n",
       " 'ESTU_SALARIO_ESPERADOBACHILLER',\n",
       " 'ESTU_SALARIO_ESPERADOTECNICO',\n",
       " 'ESTU_SALARIO_ESPERADOPROFESI',\n",
       " 'PUNT_CIENCIAS_SOCIALES',\n",
       " 'COLE_CODIGO_ICFES',\n",
       " 'COLE_COD_DANE_ESTABLECIMIENTO',\n",
       " 'COLE_NOMBRE_ESTABLECIMIENTO',\n",
       " 'COLE_GENERO',\n",
       " 'COLE_NATURALEZA',\n",
       " 'COLE_CALENDARIO',\n",
       " 'COLE_BILINGUE',\n",
       " 'COLE_CARACTER',\n",
       " 'COLE_COD_DANE_SEDE',\n",
       " 'COLE_NOMBRE_SEDE',\n",
       " 'COLE_SEDE_PRINCIPAL',\n",
       " 'COLE_AREA_UBICACION',\n",
       " 'COLE_JORNADA',\n",
       " 'COLE_COD_MCPIO_UBICACION',\n",
       " 'COLE_MCPIO_UBICACION',\n",
       " 'COLE_COD_DEPTO_UBICACION',\n",
       " 'COLE_DEPTO_UBICACION',\n",
       " 'ESTU_PRIVADO_LIBERTAD',\n",
       " 'ESTU_COD_MCPIO_PRESENTACION',\n",
       " 'ESTU_MCPIO_PRESENTACION',\n",
       " 'ESTU_DEPTO_PRESENTACION',\n",
       " 'ESTU_COD_DEPTO_PRESENTACION',\n",
       " 'PUNT_MATEMATICAS',\n",
       " 'PUNT_INGLES',\n",
       " 'DESEMP_INGLES',\n",
       " 'PUNT_BIOLOGIA',\n",
       " 'PUNT_FILOSOFIA',\n",
       " 'PUNT_INTERDISC_MEDIOAMBIENTE',\n",
       " 'PUNT_FISICA',\n",
       " 'PUNT_INTERDISC_VIOLENCIAYSOC',\n",
       " 'PUNT_PROFUNDIZA_BIOLOGIA',\n",
       " 'PUNT_QUIMICA',\n",
       " 'DESEMP_PROFUNDIZA_BIOLOGIA',\n",
       " 'PUNT_LENGUAJE',\n",
       " 'PUNT_PROFUNDIZA_CSOCIALES',\n",
       " 'DESEMP_PROFUNDIZA_CSOCIALES',\n",
       " 'PUNT_PROFUNDIZA_LENGUAJE',\n",
       " 'DESEMP_PROFUNDIZA_LENGUAJE',\n",
       " 'PUNT_PROFUNDIZA_MATEMATICA',\n",
       " 'DESEMP_PROFUNDIZA_MATEMATICA',\n",
       " 'ESTU_PUESTO',\n",
       " 'RECAF_PUNT_SOCIALES_CIUDADANAS',\n",
       " 'RECAF_PUNT_INGLES',\n",
       " 'RECAF_PUNT_LECTURA_CRITICA',\n",
       " 'RECAF_PUNT_MATEMATICAS',\n",
       " 'RECAF_PUNT_C_NATURALES',\n",
       " 'ESTU_ESTADOINVESTIGACION']"
      ]
     },
     "execution_count": 43,
     "metadata": {},
     "output_type": "execute_result"
    }
   ],
   "source": [
    "df1.columns"
   ]
  },
  {
   "cell_type": "code",
   "execution_count": 44,
   "metadata": {},
   "outputs": [
    {
     "data": {
      "text/plain": [
       "['ESTU_TIPODOCUMENTO',\n",
       " 'ESTU_NACIONALIDAD',\n",
       " 'ESTU_GENERO',\n",
       " 'ESTU_FECHANACIMIENTO',\n",
       " 'PERIODO',\n",
       " 'ESTU_CONSECUTIVO',\n",
       " 'ESTU_ESTUDIANTE',\n",
       " 'ESTU_PAIS_RESIDE',\n",
       " 'ESTU_DEPTO_RESIDE',\n",
       " 'ESTU_COD_RESIDE_DEPTO',\n",
       " 'ESTU_MCPIO_RESIDE',\n",
       " 'ESTU_COD_RESIDE_MCPIO',\n",
       " 'ESTU_AREARESIDE',\n",
       " 'ESTU_VALORPENSIONCOLEGIO',\n",
       " 'ESTU_VECESPRESENTOEXAMEN',\n",
       " 'FAMI_EDUCACIONPADRE',\n",
       " 'FAMI_EDUCACIONMADRE',\n",
       " 'FAMI_OCUPACIONPADRE',\n",
       " 'FAMI_OCUPACIONMADRE',\n",
       " 'FAMI_ESTRATOVIVIENDA',\n",
       " 'FAMI_NIVELSISBEN',\n",
       " 'FAMI_PERSONASHOGAR',\n",
       " 'FAMI_CUARTOSHOGAR',\n",
       " 'FAMI_PISOSHOGAR',\n",
       " 'FAMI_TIENEINTERNET',\n",
       " 'FAMI_TIENECOMPUTADOR',\n",
       " 'FAMI_TIENELAVADORA',\n",
       " 'FAMI_TIENEMICROONDAS',\n",
       " 'FAMI_TIENEHORNO',\n",
       " 'FAMI_TIENETELEVISOR',\n",
       " 'FAMI_TIENEAUTOMOVIL',\n",
       " 'FAMI_TIENEDVD',\n",
       " 'FAMI_TIENE_NEVERA',\n",
       " 'FAMI_TIENE_CELULAR',\n",
       " 'FAMI_TELEFONO',\n",
       " 'FAMI_INGRESOFMILIARMENSUAL',\n",
       " 'ESTU_TRABAJAACTUALMENTE',\n",
       " 'ESTU_RECIBESALARIO',\n",
       " 'ESTU_ANTECEDENTES',\n",
       " 'ESTU_ANOSPREESCOLAR',\n",
       " 'ESTU_ANOMATRICULAPRIMERO',\n",
       " 'ESTU_ANOTERMINOQUINTO',\n",
       " 'ESTU_ANOMATRICULASEXTO',\n",
       " 'ESTU_REPROBOPRIMERO',\n",
       " 'ESTU_REPROBOSEGUNDO',\n",
       " 'ESTU_REPROBOTERCERO',\n",
       " 'ESTU_REPROBOCUARTO',\n",
       " 'ESTU_REPROBOQUINTO',\n",
       " 'ESTU_REPROBOSEXTO',\n",
       " 'ESTU_REPROBOSEPTIMO',\n",
       " 'ESTU_REPROBOOCTAVO',\n",
       " 'ESTU_REPROBONOVENO',\n",
       " 'ESTU_REPROBODECIMO',\n",
       " 'ESTU_REPROBOONCEMAS',\n",
       " 'ESTU_ANOSCOLEGIOACTUAL',\n",
       " 'ESTU_CUANTOSCOLEGIOESTUDIO',\n",
       " 'ESTU_SERETIROCOLEGIO',\n",
       " 'ESTU_RAZONRETIROCOLEGIO',\n",
       " 'ESTU_TOTALALUMNOSCURSO',\n",
       " 'ESTU_TIPOCARRERADESEADA',\n",
       " 'ESTU_MCPIOIESDESEADA',\n",
       " 'ESTU_COD_MCPIOIESDESEADA',\n",
       " 'ESTU_IESDESEADA',\n",
       " 'ESTU_PROGRAMADESEADO',\n",
       " 'ESTU_INSTPORPRESTIGIO',\n",
       " 'ESTU_INSTPORCOSTOMATRICULA',\n",
       " 'ESTU_INSTPORUBICACION',\n",
       " 'ESTU_INSTPORUNICAQUEOFRECE',\n",
       " 'ESTU_INSTPOROPORTUNIDADES',\n",
       " 'ESTU_INSTPORAMIGOSESTUDIANDO',\n",
       " 'ESTU_INSTPOROTRARAZON',\n",
       " 'ESTU_PROGORIENTACIONVOCACIONAL',\n",
       " 'ESTU_PROGPORBUSCANDOCARRERA',\n",
       " 'ESTU_PROGPORCOLOMBIAAPRENDE',\n",
       " 'ESTU_PROGPORINTERESPERSONAL',\n",
       " 'ESTU_PROGPORTRADICIONFAMILIAR',\n",
       " 'ESTU_PROGPORMEJORARPOSICSOCIAL',\n",
       " 'ESTU_PROGPORINFLUENCIAALGUIEN',\n",
       " 'ESTU_EXPECTATIVAS',\n",
       " 'ESTU_INGRESAR_PROG_EDUSUPERIOR',\n",
       " 'ESTU_PUNT_ESPERADO_LENGUAJE',\n",
       " 'ESTU_PUNT_ESPERADO_MATEMATICAS',\n",
       " 'ESTU_PUNT_ESPERADO_INGLES',\n",
       " 'ESTU_SALARIO_ESPERADOBACHILLER',\n",
       " 'ESTU_SALARIO_ESPERADOTECNICO',\n",
       " 'ESTU_SALARIO_ESPERADOPROFESI',\n",
       " 'COLE_CODIGO_ICFES',\n",
       " 'COLE_COD_DANE_ESTABLECIMIENTO',\n",
       " 'COLE_NOMBRE_ESTABLECIMIENTO',\n",
       " 'COLE_GENERO',\n",
       " 'COLE_NATURALEZA',\n",
       " 'COLE_CALENDARIO',\n",
       " 'COLE_BILINGUE',\n",
       " 'COLE_CARACTER',\n",
       " 'COLE_COD_DANE_SEDE',\n",
       " 'COLE_NOMBRE_SEDE',\n",
       " 'COLE_SEDE_PRINCIPAL',\n",
       " 'COLE_AREA_UBICACION',\n",
       " 'COLE_JORNADA',\n",
       " 'COLE_COD_MCPIO_UBICACION',\n",
       " 'COLE_MCPIO_UBICACION',\n",
       " 'COLE_COD_DEPTO_UBICACION',\n",
       " 'COLE_DEPTO_UBICACION',\n",
       " 'ESTU_PRIVADO_LIBERTAD',\n",
       " 'ESTU_COD_MCPIO_PRESENTACION',\n",
       " 'ESTU_MCPIO_PRESENTACION',\n",
       " 'ESTU_DEPTO_PRESENTACION',\n",
       " 'ESTU_COD_DEPTO_PRESENTACION',\n",
       " 'PUNT_MATEMATICAS',\n",
       " 'PUNT_PROFUNDIZA_MATEMATICA',\n",
       " 'PUNT_CIENCIAS_SOCIALES',\n",
       " 'DESEMP_PROFUNDIZA_MATEMATICA',\n",
       " 'PUNT_PROFUNDIZA_CSOCIALES',\n",
       " 'DESEMP_PROFUNDIZA_CSOCIALES',\n",
       " 'PUNT_INGLES',\n",
       " 'DESEMP_INGLES',\n",
       " 'PUNT_BIOLOGIA',\n",
       " 'PUNT_FILOSOFIA',\n",
       " 'PUNT_PROFUNDIZA_BIOLOGIA',\n",
       " 'PUNT_FISICA',\n",
       " 'DESEMP_PROFUNDIZA_BIOLOGIA',\n",
       " 'PUNT_INTERDISC_MEDIOAMBIENTE',\n",
       " 'PUNT_QUIMICA',\n",
       " 'PUNT_LENGUAJE',\n",
       " 'PUNT_PROFUNDIZA_LENGUAJE',\n",
       " 'DESEMP_PROFUNDIZA_LENGUAJE',\n",
       " 'PUNT_INTERDISC_VIOLENCIAYSOC',\n",
       " 'ESTU_PUESTO',\n",
       " 'RECAF_PUNT_SOCIALES_CIUDADANAS',\n",
       " 'RECAF_PUNT_INGLES',\n",
       " 'RECAF_PUNT_LECTURA_CRITICA',\n",
       " 'RECAF_PUNT_MATEMATICAS',\n",
       " 'RECAF_PUNT_C_NATURALES',\n",
       " 'ESTU_ESTADOINVESTIGACION']"
      ]
     },
     "execution_count": 44,
     "metadata": {},
     "output_type": "execute_result"
    }
   ],
   "source": [
    "df2.columns"
   ]
  },
  {
   "cell_type": "code",
   "execution_count": 45,
   "metadata": {},
   "outputs": [],
   "source": [
    "columnasPuntos20131 = [\n",
    " 'COLE_COD_DANE_ESTABLECIMIENTO',\n",
    " 'COLE_NOMBRE_ESTABLECIMIENTO',\n",
    " 'PUNT_MATEMATICAS',\n",
    " 'PUNT_INGLES',\n",
    " 'PUNT_BIOLOGIA',\n",
    " 'PUNT_FILOSOFIA',\n",
    " 'PUNT_INTERDISC_MEDIOAMBIENTE',\n",
    " 'PUNT_FISICA',\n",
    " 'PUNT_INTERDISC_VIOLENCIAYSOC',\n",
    " 'PUNT_PROFUNDIZA_BIOLOGIA',\n",
    " 'PUNT_QUIMICA',\n",
    " 'PUNT_LENGUAJE',\n",
    " 'PUNT_PROFUNDIZA_CSOCIALES',\n",
    " 'PUNT_PROFUNDIZA_LENGUAJE',\n",
    " 'PUNT_PROFUNDIZA_MATEMATICA']\n",
    "\n",
    "columnasPuntos20132 = [\n",
    " 'COLE_COD_DANE_ESTABLECIMIENTO',\n",
    " 'COLE_NOMBRE_ESTABLECIMIENTO',\n",
    " 'PUNT_MATEMATICAS',\n",
    " 'PUNT_PROFUNDIZA_MATEMATICA',\n",
    " 'PUNT_CIENCIAS_SOCIALES',\n",
    " 'PUNT_PROFUNDIZA_CSOCIALES',\n",
    " 'PUNT_INGLES',\n",
    " 'PUNT_BIOLOGIA',\n",
    " 'PUNT_FILOSOFIA',\n",
    " 'PUNT_PROFUNDIZA_BIOLOGIA',\n",
    " 'PUNT_FISICA',\n",
    " 'PUNT_INTERDISC_MEDIOAMBIENTE',\n",
    " 'PUNT_QUIMICA',\n",
    " 'PUNT_LENGUAJE',\n",
    " 'PUNT_PROFUNDIZA_LENGUAJE',\n",
    " 'PUNT_INTERDISC_VIOLENCIAYSOC'  \n",
    "]"
   ]
  },
  {
   "cell_type": "code",
   "execution_count": 47,
   "metadata": {},
   "outputs": [],
   "source": [
    "# SE leen los dos archivos y se crean dos dataframes\n",
    "df1 = spark.read.load(base2 + '/' + estuDic['20131'],\"com.databricks.spark.csv\",header='true',inferSchema='true',sep='¬').select(columnasPuntos20132)\n",
    "df2 = spark.read.load(base2 + '/' + estuDic['20132'],\"com.databricks.spark.csv\",header='true',inferSchema='true',sep='¬').select(columnasPuntos20132)"
   ]
  },
  {
   "cell_type": "code",
   "execution_count": 48,
   "metadata": {},
   "outputs": [],
   "source": [
    "\n",
    "cols = columnasPuntos20132\n",
    "cols.remove('COLE_COD_DANE_ESTABLECIMIENTO')\n",
    "cols.remove('COLE_NOMBRE_ESTABLECIMIENTO')"
   ]
  },
  {
   "cell_type": "code",
   "execution_count": 49,
   "metadata": {},
   "outputs": [],
   "source": [
    "# SE unen los dos dataframes\n",
    "df = unionAll(df1,df2)\n",
    "for cp in cols:\n",
    "    df = df.withColumn(cp, regexp_replace(cp, ',', '.'))\n",
    "    df = df.withColumn(cp, df[cp].cast(\"float\"))\n",
    "    df = df.na.fill({cp:0})\n",
    "df = df.na.fill({'COLE_COD_DANE_ESTABLECIMIENTO':'--'})\n",
    "df = df.na.fill({'COLE_NOMBRE_ESTABLECIMIENTO':'--'})"
   ]
  },
  {
   "cell_type": "code",
   "execution_count": 50,
   "metadata": {},
   "outputs": [
    {
     "name": "stdout",
     "output_type": "stream",
     "text": [
      "Nùmero de filas con cole_cod_dane_institucion nulos:  0\n",
      "Nùmero de filas con cole_nombre_sede nulos:  0\n"
     ]
    }
   ],
   "source": [
    "# SE evalua sí tiene valores nullos\n",
    "print(\"Nùmero de filas con cole_cod_dane_institucion nulos: \", df.filter(\"COLE_COD_DANE_ESTABLECIMIENTO = '--'\").count())\n",
    "print(\"Nùmero de filas con cole_nombre_sede nulos: \", df.filter(\"COLE_NOMBRE_ESTABLECIMIENTO = '--'\").count())"
   ]
  },
  {
   "cell_type": "code",
   "execution_count": 51,
   "metadata": {},
   "outputs": [],
   "source": [
    "df = df.withColumn('COLE_COD_DANE_ESTABLECIMIENTO', df['COLE_COD_DANE_ESTABLECIMIENTO'].cast(\"string\"))"
   ]
  },
  {
   "cell_type": "code",
   "execution_count": 52,
   "metadata": {},
   "outputs": [
    {
     "name": "stdout",
     "output_type": "stream",
     "text": [
      "Numero de filas  576092\n"
     ]
    }
   ],
   "source": [
    "print(\"Numero de filas \", df.count())"
   ]
  },
  {
   "cell_type": "code",
   "execution_count": 53,
   "metadata": {},
   "outputs": [],
   "source": [
    "# Contando el numero de estudiantes por instituciòn y mostrandola de forma descendente\n",
    "dsCountEst = df.groupBy('COLE_COD_DANE_ESTABLECIMIENTO').count().orderBy('count',ascending=\n",
    "False)"
   ]
  },
  {
   "cell_type": "code",
   "execution_count": 56,
   "metadata": {},
   "outputs": [
    {
     "name": "stdout",
     "output_type": "stream",
     "text": [
      "+-----------------------------+-------+\n",
      "|COLE_COD_DANE_ESTABLECIMIENTO|num_est|\n",
      "+-----------------------------+-------+\n",
      "|311001105863                 |1285   |\n",
      "|311001105391                 |1144   |\n",
      "|105001000108                 |1103   |\n",
      "|105001013340                 |725    |\n",
      "|105615000236                 |708    |\n",
      "|305001003963                 |661    |\n",
      "|311001104786                 |658    |\n",
      "|176001005813                 |618    |\n",
      "|105154000301                 |607    |\n",
      "|168001003591                 |551    |\n",
      "+-----------------------------+-------+\n",
      "only showing top 10 rows\n",
      "\n"
     ]
    }
   ],
   "source": [
    "dsCountEst = dsCountEst.withColumnRenamed(\"count\",\"num_est\")\n",
    "dsCountEst.show(10,False)\n",
    "# Numero de estudiantes por instituciòn"
   ]
  },
  {
   "cell_type": "code",
   "execution_count": 57,
   "metadata": {},
   "outputs": [],
   "source": [
    "rowmax = dsCountEst.agg({\"num_est\": \"max\"}).collect()[0]\n",
    "rowmin = dsCountEst.agg({\"num_est\": \"min\"}).collect()[0]\n",
    "\n",
    "num_est_max = rowmax[\"max(num_est)\"]\n",
    "num_est_min = rowmin[\"min(num_est)\"]"
   ]
  },
  {
   "cell_type": "code",
   "execution_count": 58,
   "metadata": {},
   "outputs": [],
   "source": [
    "#Se crea una columna con el total de los puntajes   \n",
    "df= df.withColumn(\"Suma\",df['PUNT_MATEMATICAS']+df['PUNT_INGLES']+df['PUNT_CIENCIAS_SOCIALES']+\n",
    "                     df['PUNT_BIOLOGIA']+df['PUNT_FILOSOFIA']+df['PUNT_FISICA']+df['PUNT_QUIMICA']+\n",
    "                     df['PUNT_LENGUAJE']+df['PUNT_INTERDISC_MEDIOAMBIENTE']+df['PUNT_INTERDISC_VIOLENCIAYSOC']+\n",
    "                     df['PUNT_PROFUNDIZA_BIOLOGIA']+\n",
    "                     df['PUNT_PROFUNDIZA_CSOCIALES']+df['PUNT_PROFUNDIZA_LENGUAJE']+df['PUNT_PROFUNDIZA_MATEMATICA'])\n"
   ]
  },
  {
   "cell_type": "markdown",
   "metadata": {},
   "source": [
    "## Resultados finales por instituciòn"
   ]
  },
  {
   "cell_type": "code",
   "execution_count": 59,
   "metadata": {},
   "outputs": [
    {
     "name": "stdout",
     "output_type": "stream",
     "text": [
      "Màxima calificaciòn en colegios:  601.4285714285714\n",
      "Mìxima calificaciòn en colegios:  281.25\n"
     ]
    }
   ],
   "source": [
    "from pyspark.sql.functions import *\n",
    "from pyspark.sql.window import Window\n",
    "\n",
    "df = df.groupBy('COLE_COD_DANE_ESTABLECIMIENTO','COLE_NOMBRE_ESTABLECIMIENTO').mean()\n",
    "\n",
    "rowprommax = df.agg({\"avg(Suma)\": \"max\"}).collect()[0]\n",
    "rowprommin = df.agg({\"avg(Suma)\": \"min\"}).collect()[0]\n",
    "\n",
    "prom_est_max = rowprommax[\"max(avg(Suma))\"]\n",
    "prom_est_min = rowprommin[\"min(avg(Suma))\"]\n",
    "\n",
    "print(\"Màxima calificaciòn en colegios: \", prom_est_max)\n",
    "print(\"Mìxima calificaciòn en colegios: \", prom_est_min)"
   ]
  },
  {
   "cell_type": "code",
   "execution_count": 60,
   "metadata": {},
   "outputs": [],
   "source": [
    "dfjoin = df.join(dsCountEst,\"COLE_COD_DANE_ESTABLECIMIENTO\")\n",
    "dfjoin= dfjoin.withColumn(\"Indice_Prom\",round(dfjoin['avg(Suma)']/prom_est_max,3))\n",
    "dfjoin= dfjoin.withColumn(\"Indice_Num\",round(dfjoin['num_est']/num_est_max,3))\n",
    "dfjoin= dfjoin.withColumn(\"Indice_Total\",round(dfjoin['Indice_Prom']*dfjoin['Indice_Num'],3))"
   ]
  },
  {
   "cell_type": "code",
   "execution_count": 61,
   "metadata": {},
   "outputs": [
    {
     "name": "stdout",
     "output_type": "stream",
     "text": [
      "root\n",
      " |-- COLE_COD_DANE_ESTABLECIMIENTO: string (nullable = true)\n",
      " |-- COLE_NOMBRE_ESTABLECIMIENTO: string (nullable = false)\n",
      " |-- avg(Suma): double (nullable = true)\n",
      " |-- num_est: long (nullable = false)\n",
      " |-- Indice_Prom: double (nullable = true)\n",
      " |-- Indice_Num: double (nullable = true)\n",
      " |-- Indice_Total: double (nullable = true)\n",
      " |-- rankProm: integer (nullable = true)\n",
      " |-- rankNum: integer (nullable = true)\n",
      " |-- rankTotal: integer (nullable = true)\n",
      " |-- Media: double (nullable = true)\n",
      "\n"
     ]
    }
   ],
   "source": [
    "dfjoin = dfjoin.select('COLE_COD_DANE_ESTABLECIMIENTO','COLE_NOMBRE_ESTABLECIMIENTO','avg(Suma)','num_est','Indice_Prom','Indice_Num','Indice_Total')\n",
    "dfjoin = dfjoin.withColumn(\"rankProm\", dense_rank().over(Window.orderBy(desc(\"Indice_Prom\"))))\n",
    "dfjoin = dfjoin.withColumn(\"rankNum\", dense_rank().over(Window.orderBy(desc(\"Indice_Num\"))))\n",
    "dfjoin = dfjoin.withColumn(\"rankTotal\", dense_rank().over(Window.orderBy(desc(\"Indice_Total\"))))\n",
    "dfjoin = dfjoin.withColumn(\"Media\",round(dfjoin['avg(Suma)'],2))\n",
    "dfjoin.printSchema()"
   ]
  },
  {
   "cell_type": "code",
   "execution_count": 62,
   "metadata": {},
   "outputs": [
    {
     "name": "stdout",
     "output_type": "stream",
     "text": [
      "+---------------------------+------+-----------+-------+--------+-------+---------+\n",
      "|COLE_NOMBRE_ESTABLECIMIENTO| Media|Indice_Prom|num_est|rankProm|rankNum|rankTotal|\n",
      "+---------------------------+------+-----------+-------+--------+-------+---------+\n",
      "|       COLEGIO BILINGUE ...|601.43|        1.0|     14|       1|    291|      196|\n",
      "|       INST ALBERTO MERA...|597.06|      0.993|     34|       2|    276|      181|\n",
      "|       GIMN VERMONT     ...|586.61|      0.975|     94|       3|    229|      136|\n",
      "|        COL NUEVO CAMBRIDGE| 583.8|      0.971|     44|       4|    268|      174|\n",
      "|       COLEGIO LEONARDO ...| 584.0|      0.971|      1|       4|    301|      206|\n",
      "|       COL LA QUINTA DEL...|580.76|      0.966|     25|       5|    283|      189|\n",
      "|       COLEGIO SEMINARIO...|580.32|      0.965|     28|       6|    280|      186|\n",
      "|       COL SAN JORGE DE ...|579.05|      0.963|     55|       7|    259|      166|\n",
      "|             COL MONTESSORI| 575.6|      0.957|     63|       8|    253|      160|\n",
      "|       COL NUEVO COLOMBO...|574.72|      0.956|     60|       9|    255|      162|\n",
      "+---------------------------+------+-----------+-------+--------+-------+---------+\n",
      "only showing top 10 rows\n",
      "\n"
     ]
    }
   ],
   "source": [
    "# Se ordena por Indice_Prom\n",
    "dfjoin = dfjoin.orderBy('rankProm',ascending= True)\n",
    "dfjoin.select('COLE_NOMBRE_ESTABLECIMIENTO','Media','Indice_Prom','num_est','rankProm','rankNum','rankTotal').show(10)"
   ]
  },
  {
   "cell_type": "code",
   "execution_count": 63,
   "metadata": {},
   "outputs": [
    {
     "name": "stdout",
     "output_type": "stream",
     "text": [
      "+---------------------------+------+----------+-------+--------+-------+---------+\n",
      "|COLE_NOMBRE_ESTABLECIMIENTO| Media|Indice_Num|num_est|rankProm|rankNum|rankTotal|\n",
      "+---------------------------+------+----------+-------+--------+-------+---------+\n",
      "|       CENT JOHANN KEPLE...|362.98|       1.0|   1285|     334|      1|        1|\n",
      "|       COLEGIO TECNISIST...|362.68|      0.89|   1144|     335|      2|        3|\n",
      "|             INST EDUC CEFA|411.76|     0.858|   1103|     253|      3|        2|\n",
      "|       INST EDUC INEM JO...|430.53|     0.564|    725|     222|      4|        4|\n",
      "|       I. E. ESCUELA NOR...|368.99|     0.551|    708|     324|      5|        6|\n",
      "|       LIC SALAZAR Y HER...|446.58|     0.514|    661|     195|      6|        5|\n",
      "|       COL BRITANICO SED...|368.71|     0.512|    658|     325|      7|        8|\n",
      "|       INSTITUCION EDUCA...|390.97|     0.481|    618|     288|      8|        9|\n",
      "|       I. E. LICEO CAUCASIA|356.98|     0.472|    607|     344|      9|       11|\n",
      "|       IE TEC INEM CUSTO...|398.34|     0.429|    551|     276|     10|       10|\n",
      "+---------------------------+------+----------+-------+--------+-------+---------+\n",
      "only showing top 10 rows\n",
      "\n"
     ]
    }
   ],
   "source": [
    "# Se ordena por Indice_Num\n",
    "dfjoin = dfjoin.orderBy('rankNum',ascending= True)\n",
    "dfjoin.select('COLE_NOMBRE_ESTABLECIMIENTO','Media','Indice_Num','num_est','rankProm','rankNum','rankTotal').show(10)"
   ]
  },
  {
   "cell_type": "code",
   "execution_count": 64,
   "metadata": {},
   "outputs": [
    {
     "name": "stdout",
     "output_type": "stream",
     "text": [
      "+---------------------------+------+------------+-------+--------+-------+---------+\n",
      "|COLE_NOMBRE_ESTABLECIMIENTO| Media|Indice_Total|num_est|rankProm|rankNum|rankTotal|\n",
      "+---------------------------+------+------------+-------+--------+-------+---------+\n",
      "|       CENT JOHANN KEPLE...|362.98|       0.604|   1285|     334|      1|        1|\n",
      "|             INST EDUC CEFA|411.76|       0.588|   1103|     253|      3|        2|\n",
      "|       COLEGIO TECNISIST...|362.68|       0.537|   1144|     335|      2|        3|\n",
      "|       INST EDUC INEM JO...|430.53|       0.404|    725|     222|      4|        4|\n",
      "|       LIC SALAZAR Y HER...|446.58|       0.382|    661|     195|      6|        5|\n",
      "|       I. E. ESCUELA NOR...|368.99|       0.338|    708|     324|      5|        6|\n",
      "|       COLEGIO DE LA UNI...|477.06|       0.337|    546|     145|     11|        7|\n",
      "|       COL BRITANICO SED...|368.71|       0.314|    658|     325|      7|        8|\n",
      "|       INSTITUCION EDUCA...|390.97|       0.313|    618|     288|      8|        9|\n",
      "|       IE TEC INEM CUSTO...|398.34|       0.284|    551|     276|     10|       10|\n",
      "+---------------------------+------+------------+-------+--------+-------+---------+\n",
      "only showing top 10 rows\n",
      "\n"
     ]
    }
   ],
   "source": [
    "# Se ordena por Indice_Total\n",
    "dfjoin = dfjoin.orderBy('rankTotal',ascending= True)\n",
    "dfjoin.select('COLE_NOMBRE_ESTABLECIMIENTO','Media','Indice_Total','num_est','rankProm','rankNum','rankTotal').show(10)"
   ]
  },
  {
   "cell_type": "markdown",
   "metadata": {},
   "source": [
    "## Colegios"
   ]
  },
  {
   "cell_type": "code",
   "execution_count": 28,
   "metadata": {},
   "outputs": [],
   "source": [
    "# SE crea Dataframe de colegios en este año desaparecio la columna COLE_CODMPIO_COLEGIO\n",
    "dfc = spark.read.load(base + '/' + coleDic['2013'],\"com.databricks.spark.csv\",header='true',inferSchema='true',sep='|')\n",
    "dfc = dfc.withColumn('COLE_CODIGO_COLEGIO', dfc['COLE_CODIGO_COLEGIO'].cast(\"string\"))"
   ]
  },
  {
   "cell_type": "code",
   "execution_count": 29,
   "metadata": {},
   "outputs": [
    {
     "name": "stdout",
     "output_type": "stream",
     "text": [
      "root\n",
      " |-- COLE_CODIGO_COLEGIO: string (nullable = true)\n",
      " |-- COLE_INST_NOMBRE: string (nullable = true)\n",
      " |-- COLE_CODMPIO_COLEGIO: integer (nullable = true)\n",
      " |-- COLE_MPIO_COLEGIO: string (nullable = true)\n",
      " |-- COLE_DEPTO_COLEGIO: string (nullable = true)\n",
      " |-- COLE_INST_JORNADA: string (nullable = true)\n",
      " |-- COLE_CALENDARIO_COLEGIO: string (nullable = true)\n",
      " |-- COLE_GENEROPOBLACION: string (nullable = true)\n",
      " |-- COLE_NATURALEZA: string (nullable = true)\n",
      " |-- COLE_GEOGRAFIA: string (nullable = true)\n",
      " |-- COLE_QUIMICA: integer (nullable = true)\n",
      " |-- COLE_FISICA: integer (nullable = true)\n",
      " |-- COLE_BIOLOGIA: integer (nullable = true)\n",
      " |-- COLE_HISTORIA: string (nullable = true)\n",
      " |-- COLE_FILOSOFIA: integer (nullable = true)\n",
      " |-- COLE_MATEMATICAS: integer (nullable = true)\n",
      " |-- COLE_LENGUAJE: integer (nullable = true)\n",
      " |-- COLE_CIENCIAS_SOCIALES: integer (nullable = true)\n",
      " |-- COLE_INGLES: integer (nullable = true)\n",
      " |-- COLE_CATEGORIA: string (nullable = true)\n",
      " |-- CLPL_N: integer (nullable = true)\n",
      "\n",
      "None\n"
     ]
    }
   ],
   "source": [
    "print(dfc.printSchema())"
   ]
  },
  {
   "cell_type": "code",
   "execution_count": 30,
   "metadata": {},
   "outputs": [],
   "source": [
    "colsColegio = ['COLE_CODIGO_COLEGIO',\n",
    " 'COLE_CIENCIAS_SOCIALES',\n",
    " 'COLE_QUIMICA',\n",
    " 'COLE_FISICA',\n",
    " 'COLE_BIOLOGIA',\n",
    " 'COLE_FILOSOFIA',\n",
    " 'COLE_MATEMATICAS',\n",
    " 'COLE_LENGUAJE',\n",
    " 'COLE_INGLES',\n",
    " 'COLE_GEOGRAFIA',\n",
    " 'COLE_HISTORIA']"
   ]
  },
  {
   "cell_type": "code",
   "execution_count": 31,
   "metadata": {},
   "outputs": [],
   "source": [
    "dfc = dfc.select(colsColegio)"
   ]
  },
  {
   "cell_type": "code",
   "execution_count": 32,
   "metadata": {},
   "outputs": [
    {
     "name": "stdout",
     "output_type": "stream",
     "text": [
      "+-------------------+----------------------+------------+-----------+-------------+--------------+----------------+-------------+-----------+--------------+-------------+\n",
      "|COLE_CODIGO_COLEGIO|COLE_CIENCIAS_SOCIALES|COLE_QUIMICA|COLE_FISICA|COLE_BIOLOGIA|COLE_FILOSOFIA|COLE_MATEMATICAS|COLE_LENGUAJE|COLE_INGLES|COLE_GEOGRAFIA|COLE_HISTORIA|\n",
      "+-------------------+----------------------+------------+-----------+-------------+--------------+----------------+-------------+-----------+--------------+-------------+\n",
      "|120717             |7                     |7           |7          |6            |7             |6               |7            |6          |null          |null         |\n",
      "|6833               |7                     |6           |7          |5            |7             |7               |6            |7          |null          |null         |\n",
      "|6817               |8                     |7           |7          |7            |7             |7               |8            |7          |null          |null         |\n",
      "|64329              |7                     |6           |7          |6            |5             |6               |6            |6          |null          |null         |\n",
      "|169482             |9                     |5           |7          |7            |6             |6               |8            |7          |null          |null         |\n",
      "+-------------------+----------------------+------------+-----------+-------------+--------------+----------------+-------------+-----------+--------------+-------------+\n",
      "only showing top 5 rows\n",
      "\n"
     ]
    }
   ],
   "source": [
    "dfc.show(5,False)"
   ]
  },
  {
   "cell_type": "code",
   "execution_count": 33,
   "metadata": {},
   "outputs": [
    {
     "name": "stdout",
     "output_type": "stream",
     "text": [
      "El numero de colegios es:  8139\n"
     ]
    }
   ],
   "source": [
    "print(\"El numero de colegios es: \", dfc.select('COLE_CODIGO_COLEGIO').count())"
   ]
  },
  {
   "cell_type": "markdown",
   "metadata": {},
   "source": [
    "## Anàlisis comparativo entre estudiantes y colegios"
   ]
  },
  {
   "cell_type": "code",
   "execution_count": 34,
   "metadata": {},
   "outputs": [],
   "source": [
    "dfjoin = df1.join(dfc, df1.COLE_COD_DANE_ESTABLECIMIENTO == dfc.COLE_CODIGO_COLEGIO)"
   ]
  },
  {
   "cell_type": "code",
   "execution_count": 35,
   "metadata": {},
   "outputs": [
    {
     "name": "stdout",
     "output_type": "stream",
     "text": [
      "Nùmero de colegios coincidentes entre el archivo de estudiantes: 0\n"
     ]
    }
   ],
   "source": [
    "print(\"Nùmero de colegios coincidentes entre el archivo de estudiantes:\", dfjoin.count())"
   ]
  },
  {
   "cell_type": "markdown",
   "metadata": {},
   "source": [
    "La informaciòn de colegios no coincide con la informaciòn de estudiantes, no existe còdigo dane en el archivo de colegios."
   ]
  }
 ],
 "metadata": {
  "kernelspec": {
   "display_name": "Python 3",
   "language": "python",
   "name": "python3"
  },
  "language_info": {
   "codemirror_mode": {
    "name": "ipython",
    "version": 3
   },
   "file_extension": ".py",
   "mimetype": "text/x-python",
   "name": "python",
   "nbconvert_exporter": "python",
   "pygments_lexer": "ipython3",
   "version": "3.7.3"
  }
 },
 "nbformat": 4,
 "nbformat_minor": 2
}
