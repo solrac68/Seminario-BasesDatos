{
 "cells": [
  {
   "cell_type": "code",
   "execution_count": 3,
   "metadata": {},
   "outputs": [],
   "source": [
    "from pyspark.sql import SparkSession\n",
    "from pyspark.sql import Row\n",
    "from functools import reduce\n",
    "from pyspark.sql import DataFrame\n",
    "from pyspark.sql.types import StringType,DoubleType,FloatType\n",
    "from pyspark.sql.functions import udf\n",
    "from pyspark.sql.functions import regexp_replace\n",
    "import locale\n",
    "import sys\n",
    "import os\n",
    "import re"
   ]
  },
  {
   "cell_type": "markdown",
   "metadata": {},
   "source": [
    "# Leyendo lista de Colegios y Estudiantes"
   ]
  },
  {
   "cell_type": "code",
   "execution_count": 4,
   "metadata": {},
   "outputs": [],
   "source": [
    "base = '../Colegios'\n",
    "base2 = '../SB'\n",
    "colegios = os.listdir('../Colegios')\n",
    "estudiantes = os.listdir('../SB')"
   ]
  },
  {
   "cell_type": "code",
   "execution_count": 5,
   "metadata": {},
   "outputs": [],
   "source": [
    "estudiantes.sort()\n",
    "colegios.sort()\n",
    "estuDic = {}\n",
    "coleDic = {}\n",
    "for estu in estudiantes:\n",
    "    estuDic[re.findall('\\d+', estu)[1]] = estu\n",
    "\n",
    "for colegio in colegios:\n",
    "    coleDic[re.findall('\\d+', colegio)[1]] = colegio"
   ]
  },
  {
   "cell_type": "code",
   "execution_count": 6,
   "metadata": {},
   "outputs": [
    {
     "data": {
      "text/plain": [
       "{'20061': 'SB11_20061.txt',\n",
       " '20062': 'SB11_20062.txt',\n",
       " '20071': 'SB11_20071.txt',\n",
       " '20072': 'SB11_20072.txt',\n",
       " '20081': 'SB11_20081.txt',\n",
       " '20082': 'SB11_20082.txt',\n",
       " '20091': 'SB11_20091.txt',\n",
       " '20092': 'SB11_20092.txt',\n",
       " '20101': 'SB11_20101.txt',\n",
       " '20102': 'SB11_20102.txt',\n",
       " '20111': 'SB11_20111.txt',\n",
       " '20112': 'SB11_20112.txt',\n",
       " '20121': 'SB11_20121.txt',\n",
       " '20122': 'SB11_20122.txt',\n",
       " '20131': 'SB11_20131.txt',\n",
       " '20132': 'SB11_20132.txt',\n",
       " '20141': 'SB11_20141.txt',\n",
       " '20142': 'SB11_20142.txt',\n",
       " '20151': 'SB11_20151.txt',\n",
       " '20152': 'SB11_20152.txt',\n",
       " '20161': 'SB11_20161.txt',\n",
       " '20162': 'SB11_20162.txt',\n",
       " '20171': 'SB11_20171.txt',\n",
       " '20172': 'SB11_20172.txt',\n",
       " '20181': 'SB11_20181.txt',\n",
       " '20182': 'SB11_20182.txt',\n",
       " '20191': 'SB11_20191.txt'}"
      ]
     },
     "execution_count": 6,
     "metadata": {},
     "output_type": "execute_result"
    }
   ],
   "source": [
    "estuDic"
   ]
  },
  {
   "cell_type": "code",
   "execution_count": 7,
   "metadata": {},
   "outputs": [
    {
     "data": {
      "text/plain": [
       "{'2006': 'SB11-CLASIFI-PLANTELES-2006.txt',\n",
       " '2007': 'SB11-CLASIFI-PLANTELES-2007.txt',\n",
       " '2008': 'SB11-CLASIFI-PLANTELES-2008.txt',\n",
       " '2009': 'SB11-CLASIFI-PLANTELES-2009.txt',\n",
       " '2010': 'SB11-CLASIFI-PLANTELES-2010.txt',\n",
       " '2011': 'SB11-CLASIFI-PLANTELES-2011.txt',\n",
       " '2012': 'SB11-CLASIFI-PLANTELES-2012.txt',\n",
       " '2013': 'SB11-CLASIFI-PLANTELES-2013.txt',\n",
       " '20141': 'SB11-CLASIFI-PLANTELES-20141.txt',\n",
       " '20142': 'SB11-CLASIFI-PLANTELES-20142.txt',\n",
       " '20151': 'SB11-CLASIFI-PLANTELES-20151.txt',\n",
       " '20152': 'SB11-CLASIFI-PLANTELES-20152.txt',\n",
       " '20161': 'SB11-CLASIFI-PLANTELES-20161.txt',\n",
       " '20162': 'SB11-CLASIFI-PLANTELES-20162.txt',\n",
       " '20171': 'SB11-CLASIFI-PLANTELES-20171.csv',\n",
       " '20172': 'SB11-CLASIFI-PLANTELES-20172.csv',\n",
       " '20181': 'SB11-CLASIFI-PLANTELES-20181.txt',\n",
       " '20182': 'SB11-CLASIFI-PLANTELES-20182.txt'}"
      ]
     },
     "execution_count": 7,
     "metadata": {},
     "output_type": "execute_result"
    }
   ],
   "source": [
    "coleDic"
   ]
  },
  {
   "cell_type": "markdown",
   "metadata": {},
   "source": [
    "# Analizando estructura de Colegios"
   ]
  },
  {
   "cell_type": "code",
   "execution_count": 8,
   "metadata": {},
   "outputs": [
    {
     "name": "stdout",
     "output_type": "stream",
     "text": [
      "Archivo: SB11-CLASIFI-PLANTELES-2006.txt\n",
      "COLE_CODIGO_COLEGIO\tCOLE_INST_NOMBRE\tCOLE_CODMPIO_COLEGIO\tCOLE_MPIO_COLEGIO\tCOLE_DEPTO_COLEGIO\tCOLE_INST_JORNADA\tCOLE_CALENDARIO_COLEGIO\tCOLE_GENEROPOBLACION\tCOLE_NATURALEZA\tCOLE_CIENCIAS_SOCIALES\tCOLE_QUIMICA\tCOLE_FISICA\tCOLE_BIOLOGIA\tCOLE_FILOSOFIA\tCOLE_MATEMATICAS\tCOLE_LENGUAJE\tCOLE_INGLES\tCOLE_GEOGRAFIA\tCOLE_HISTORIA\tCOLE_CATEGORIA\tCOLE_ESTUDIANTES_PRESENTES\n",
      "\n",
      "Archivo: SB11-CLASIFI-PLANTELES-2007.txt\n",
      "COLE_CODIGO_COLEGIO\tCOLE_INST_NOMBRE\tCOLE_CODMPIO_COLEGIO\tCOLE_MPIO_COLEGIO\tCOLE_DEPTO_COLEGIO\tCOLE_INST_JORNADA\tCOLE_CALENDARIO_COLEGIO\tCOLE_GENEROPOBLACION\tCOLE_NATURALEZA\tCOLE_CIENCIAS_SOCIALES\tCOLE_QUIMICA\tCOLE_FISICA\tCOLE_BIOLOGIA\tCOLE_FILOSOFIA\tCOLE_MATEMATICAS\tCOLE_LENGUAJE\tCOLE_INGLES\tCOLE_GEOGRAFIA\tCOLE_HISTORIA\tCOLE_CATEGORIA\tCOLE_ESTUDIANTES_PRESENTES\n",
      "\n",
      "Archivo: SB11-CLASIFI-PLANTELES-2008.txt\n",
      "COLE_CODIGO_COLEGIO\tCOLE_INST_NOMBRE\tCOLE_CODMPIO_COLEGIO\tCOLE_MPIO_COLEGIO\tCOLE_DEPTO_COLEGIO\tCOLE_INST_JORNADA\tCOLE_CALENDARIO_COLEGIO\tCOLE_GENEROPOBLACION\tCOLE_NATURALEZA\tCOLE_CIENCIAS_SOCIALES\tCOLE_QUIMICA\tCOLE_FISICA\tCOLE_BIOLOGIA\tCOLE_FILOSOFIA\tCOLE_MATEMATICAS\tCOLE_LENGUAJE\tCOLE_INGLES\tCOLE_GEOGRAFIA\tCOLE_HISTORIA\tCOLE_CATEGORIA\tCOLE_ESTUDIANTES_PRESENTES\n",
      "\n",
      "Archivo: SB11-CLASIFI-PLANTELES-2009.txt\n",
      "COLE_CODIGO_COLEGIO\tCOLE_INST_NOMBRE\tCOLE_COD_CIUDAD\tCOLE_MPIO_COLEGIO\tCOLE_DEPTO_COLEGIO\tCOLE_INST_JORNADA\tCOLE_CALENDARIO_COLEGIO\tCOLE_GENEROPOBLACION\tCOLE_NATURALEZA\tCOLE_CIENCIAS_SOCIALES\tCOLE_QUIMICA\tCOLE_FISICA\tCOLE_BIOLOGIA\tCOLE_FILOSOFIA\tCOLE_MATEMATICAS\tCOLE_LENGUAJE\tCOLE_INGLES\tCOLE_CATEGORIA\tCOLE_ESTUDIANTES_PRESENTES\n",
      "\n",
      "Archivo: SB11-CLASIFI-PLANTELES-2010.txt\n",
      "COLE_CODIGO_COLEGIO\tCOLE_INST_NOMBRE\tCOLE_COD_CIUDAD\tCOLE_MPIO_COLEGIO\tCOLE_DEPTO_COLEGIO\tCOLE_INST_JORNADA\tCOLE_CALENDARIO_COLEGIO\tCOLE_GENEROPOBLACION\tCOLE_NATURALEZA\tCOLE_CIENCIAS_SOCIALES\tCOLE_QUIMICA\tCOLE_FISICA\tCOLE_BIOLOGIA\tCOLE_FILOSOFIA\tCOLE_MATEMATICAS\tCOLE_LENGUAJE\tCOLE_INGLES\tCOLE_GEOGRAFIA\tCOLE_HISTORIA\tCOLE_CATEGORIA\tCOLE_ESTUDIANTES_PRESENTES\n",
      "\n",
      "Archivo: SB11-CLASIFI-PLANTELES-2011.txt\n",
      "COLE_CODIGO_COLEGIO\tCOLE_INST_NOMBRE\tCOLE_CODMPIO_COLEGIO\tCOLE_MPIO_COLEGIO\tCOLE_DEPTO_COLEGIO\tCOLE_INST_JORNADA\tCOLE_CALENDARIO_COLEGIO\tCOLE_GENEROPOBLACION\tCOLE_NATURALEZA\tCOLE_CIENCIAS_SOCIALES\tCOLE_QUIMICA\tCOLE_FISICA\tCOLE_BIOLOGIA\tCOLE_FILOSOFIA\tCOLE_MATEMATICAS\tCOLE_LENGUAJE\tCOLE_INGLES\tCOLE_GEOGRAFIA\tCOLE_HISTORIA\tCOLE_CATEGORIA\tCOLE_ESTUDIANTES_PRESENTES\n",
      "\n",
      "Archivo: SB11-CLASIFI-PLANTELES-2012.txt\n",
      "COLE_CODIGO_COLEGIO|COLE_INST_NOMBRE|COLE_CODMPIO_COLEGIO|COLE_MPIO_COLEGIO|COLE_DEPTO_COLEGIO|COLE_INST_JORNADA|COLE_CALENDARIO_COLEGIO|COLE_GENEROPOBLACION|COLE_NATURALEZA|COLE_GEOGRAFIA|COLE_QUIMICA|COLE_FISICA|COLE_BIOLOGIA|COLE_HISTORIA|COLE_FILOSOFIA|COLE_MATEMATICAS|COLE_LENGUAJE|COLE_CIENCIAS_SOCIALES|COLE_INGLES|COLE_CATEGORIA|CLPL_N\n",
      "\n",
      "Archivo: SB11-CLASIFI-PLANTELES-2013.txt\n",
      "COLE_CODIGO_COLEGIO|COLE_INST_NOMBRE|COLE_CODMPIO_COLEGIO|COLE_MPIO_COLEGIO|COLE_DEPTO_COLEGIO|COLE_INST_JORNADA|COLE_CALENDARIO_COLEGIO|COLE_GENEROPOBLACION|COLE_NATURALEZA|COLE_GEOGRAFIA|COLE_QUIMICA|COLE_FISICA|COLE_BIOLOGIA|COLE_HISTORIA|COLE_FILOSOFIA|COLE_MATEMATICAS|COLE_LENGUAJE|COLE_CIENCIAS_SOCIALES|COLE_INGLES|COLE_CATEGORIA|CLPL_N\n",
      "\n",
      "Archivo: SB11-CLASIFI-PLANTELES-20141.txt\n",
      "PERIODO\tCOLE_COD_DANE\tCOLE_INST_NOMBRE\tCOLE_CODMPIO_COLEGIO\tCOLE_MPIO_MUNICIPIO\tCOLE_DEPTO_COLEGIO\tCOLE_INST_JORNADA\tCOLE_CALENDARIO_COLEGIO\tCOLE_GENEROPOBLACION\tCOLE_NATURALEZA\tCOLE_QUIMICA\tCOLE_FISICA\tCOLE_BIOLOGIA\tCOLE_FILOSOFIA\tCOLE_MATEMATICAS\tCOLE_LENGUAJE\tCOLE_CIENCIAS_SOCIALES\tCOLE_INGLES\tCOLE_CATEGORIA\tCOLE_ESTUDIANTES_PRESENTES\n",
      "\n",
      "Archivo: SB11-CLASIFI-PLANTELES-20142.txt\n",
      "\"PERIODO\"|\"COLE_COD_DANE\"|\"COLE_INST_NOMBRE\"|\"COLE_CODMPIO_COLEGIO\"|\"COLE_MPIO_MUNICIPIO\"|\"COLE_COD_DEPTO\"|\"COLE_DEPTO_COLEGIO\"|\"COLE_NATURALEZA\"|\"COLE_GRADO\"|\"COLE_CALENDARIO_COLEGIO\"|\"COLE_GENEROPOBLACION\"|\"MATRICULADOS_ULTIMOS_3\"|\"EVALUADOS_ULTIMOS_3\"|\"INDICE_MATEMATICAS\"|\"INDICE_C_NATURALES\"|\"INDICE_SOCIALES_CIUDADANAS\"|\"INDICE_LECTURA_CRITICA\"|\"INDICE_INGLES\"|\"INDICE_TOTAL\"|\"COLE_CATEGORIA\"\n",
      "\n",
      "Archivo: SB11-CLASIFI-PLANTELES-20151.txt\n",
      "\"PERIODO\"|\"COLE_COD_DANE\"|\"COLE_INST_NOMBRE\"|\"COLE_CODMPIO_COLEGIO\"|\"COLE_MPIO_MUNICIPIO\"|\"COLE_COD_DEPTO\"|\"COLE_DEPTO_COLEGIO\"|\"COLE_NATURALEZA\"|\"COLE_GRADO\"|\"COLE_CALENDARIO_COLEGIO\"|\"COLE_GENEROPOBLACION\"|\"MATRICULADOS_ULTIMOS_3\"|\"EVALUADOS_ULTIMOS_3\"|\"INDICE_MATEMATICAS\"|\"INDICE_C_NATURALES\"|\"INDICE_SOCIALES_CIUDADANAS\"|\"INDICE_LECTURA_CRITICA\"|\"INDICE_INGLES\"|\"INDICE_TOTAL\"|\"COLE_CATEGORIA\"\n",
      "\n",
      "Archivo: SB11-CLASIFI-PLANTELES-20152.txt\n",
      "\"PERIODO\"|\"COLE_COD_DANE\"|\"COLE_INST_NOMBRE\"|\"COLE_CODMPIO_COLEGIO\"|\"COLE_MPIO_MUNICIPIO\"|\"COLE_COD_DEPTO\"|\"COLE_DEPTO_COLEGIO\"|\"COLE_NATURALEZA\"|\"COLE_GRADO\"|\"COLE_CALENDARIO_COLEGIO\"|\"COLE_GENEROPOBLACION\"|\"MATRICULADOS_ULTIMOS_3\"|\"EVALUADOS_ULTIMOS_3\"|\"INDICE_MATEMATICAS\"|\"INDICE_C_NATURALES\"|\"INDICE_SOCIALES_CIUDADANAS\"|\"INDICE_LECTURA_CRITICA\"|\"INDICE_INGLES\"|\"INDICE_TOTAL\"|\"COLE_CATEGORIA\"\n",
      "\n",
      "Archivo: SB11-CLASIFI-PLANTELES-20161.txt\n",
      "PERIODO|COLE_COD_DANE|COLE_INST_NOMBRE|COLE_CODMPIO_COLEGIO|COLE_MPIO_MUNICIPIO|COLE_COD_DEPTO|COLE_DEPTO_COLEGIO|COLE_NATURALEZA|COLE_GRADO|COLE_CALENDARIO_COLEGIO|COLE_GENEROPOBLACION|MATRICULADOS_ULTIMOS_3|EVALUADOS_ULTIMOS_3|INDICE_MATEMATICAS|INDICE_C_NATURALES|INDICE_SOCIALES_CIUDADANAS|INDICE_LECTURA_CRITICA|INDICE_INGLES|INDICE_TOTAL|COLE_CATEGORIA\n",
      "\n",
      "Archivo: SB11-CLASIFI-PLANTELES-20162.txt\n",
      "PERIODO|COLE_COD_DANE|COLE_INST_NOMBRE|COLE_CODMPIO_COLEGIO|COLE_MPIO_MUNICIPIO|COLE_COD_DEPTO|COLE_DEPTO_COLEGIO|COLE_NATURALEZA|COLE_GRADO|COLE_CALENDARIO_COLEGIO|COLE_GENEROPOBLACION|MATRICULADOS_ULTIMOS_3|EVALUADOS_ULTIMOS_3|INDICE_MATEMATICAS|INDICE_C_NATURALES|INDICE_SOCIALES_CIUDADANAS|INDICE_LECTURA_CRITICA|INDICE_INGLES|INDICE_TOTAL|COLE_CATEGORIA\n",
      "\n",
      "Archivo: SB11-CLASIFI-PLANTELES-20171.csv\n",
      "\"PERIODO\",\"|\",\"COLE_COD_DANE\",\"|\",\"COLE_INST_NOMBRE\",\"|\",\"COLE_CODMPIO_COLEGIO\",\"|\",\"COLE_MPIO_MUNICIPIO\",\"|\",\"COLE_COD_DEPTO\",\"|\",\"COLE_DEPTO_COLEGIO\",\"|\",\"COLE_NATURALEZA\",\"|\",\"COLE_GRADO\",\"|\",\"COLE_CALENDARIO_COLEGIO\",\"|\",\"COLE_GENEROPOBLACION\",\"|\",\"MATRICULADOS_ULTIMOS_3\",\"|\",\"EVALUADOS_ULTIMOS_3\",\"|\",\"INDICE_MATEMATICAS\",\"|\",\"INDICE_C_NATURALES\",\"|\",\"INDICE_SOCIALES_CIUDADANAS\",\"|\",\"INDICE_LECTURA_CRITICA\",\"|\",\"INDICE_INGLES\",\"|\",\"INDICE_TOTAL\",\"|\",\"COLE_CATEGORIA\"\n",
      "\n",
      "Archivo: SB11-CLASIFI-PLANTELES-20172.csv\n",
      "\"PERIODO\",\"|\",\"COLE_COD_DANE\",\"|\",\"COLE_INST_NOMBRE\",\"|\",\"COLE_CODMPIO_COLEGIO\",\"|\",\"COLE_MPIO_MUNICIPIO\",\"|\",\"COLE_COD_DEPTO\",\"|\",\"COLE_DEPTO_COLEGIO\",\"|\",\"COLE_NATURALEZA\",\"|\",\"COLE_GRADO\",\"|\",\"COLE_CALENDARIO_COLEGIO\",\"|\",\"COLE_GENEROPOBLACION\",\"|\",\"MATRICULADOS_ULTIMOS_3\",\"|\",\"EVALUADOS_ULTIMOS_3\",\"|\",\"INDICE_MATEMATICAS\",\"|\",\"INDICE_C_NATURALES\",\"|\",\"INDICE_SOCIALES_CIUDADANAS\",\"|\",\"INDICE_LECTURA_CRITICA\",\"|\",\"INDICE_INGLES\",\"|\",\"INDICE_TOTAL\",\"|\",\"COLE_CATEGORIA\"\n",
      "\n",
      "Archivo: SB11-CLASIFI-PLANTELES-20181.txt\n",
      "PERIODO\t|\tCOLE_COD_DANE\t|\tCOLE_INST_NOMBRE\t|\tCOLE_CODMPIO_COLEGIO\t|\tCOLE_MPIO_MUNICIPIO\t|\tCOLE_COD_DEPTO\t|\tCOLE_DEPTO_COLEGIO\t|\tCOLE_NATURALEZA\t|\tCOLE_GRADO\t|\tCOLE_CALENDARIO_COLEGIO\t|\tCOLE_GENEROPOBLACION\t|\tMATRICULADOS_ULTIMOS_3\t|\tEVALUADOS_ULTIMOS_3\t|\tINDICE_MATEMATICAS\t|\tINDICE_C_NATURALES\t|\tINDICE_SOCIALES_CIUDADANAS\t|\tINDICE_LECTURA_CRITICA\t|\tINDICE_INGLES\t|\tINDICE_TOTAL\t|\tCOLE_CATEGORIA\n",
      "\n",
      "Archivo: SB11-CLASIFI-PLANTELES-20182.txt\n",
      "PERIODO¬COLE_COD_DANE¬COLE_INST_NOMBRE¬COLE_CODMPIO_COLEGIO¬COLE_MPIO_MUNICIPIO¬COLE_COD_DEPTO¬COLE_DEPTO_COLEGIO¬COLE_NATURALEZA¬COLE_GRADO¬COLE_CALENDARIO_COLEGIO¬COLE_GENEROPOBLACION¬MATRICULADOS_ULTIMOS_3¬EVALUADOS_ULTIMOS_3¬INDICE_MATEMATICAS¬INDICE_C_NATURALES¬INDICE_SOCIALES_CIUDADANAS¬INDICE_LECTURA_CRITICA¬INDICE_INGLES¬INDICE_TOTAL¬COLE_CATEGORIA\n",
      "\n"
     ]
    }
   ],
   "source": [
    "for colegio in colegios:\n",
    "    lines = sc.textFile(base + '/' + colegio)\n",
    "    print(\"Archivo: \" + colegio + \"\\n\" + lines.first() + '\\n')"
   ]
  },
  {
   "cell_type": "markdown",
   "metadata": {},
   "source": [
    "# Analizando estructura de estudiantes"
   ]
  },
  {
   "cell_type": "code",
   "execution_count": 9,
   "metadata": {},
   "outputs": [
    {
     "name": "stdout",
     "output_type": "stream",
     "text": [
      "Archivo: SB11_20061.txt\n",
      "estu_exam_nombreexamen¬estu_estudiante¬periodo¬estu_consecutivo¬estu_edad¬estu_tipo_documento¬estu_pais_reside¬estu_genero¬estu_nacimiento_dia¬estu_nacimiento_mes¬estu_nacimiento_anno¬estu_cod_reside_mcpio¬estu_reside_mcpio¬estu_reside_depto¬estu_zona_reside¬estu_razoninstituto¬cole_valor_pension¬estu_ies_cod_deseada¬estu_carrdeseada_razon¬estu_carrdeseada_cod¬estu_ies_deseada_nombre¬estu_ies_cod_mpio_deseada¬estu_ies_mpio_deseada¬estu_ies_dept_deseada¬estu_mpio_presentacion¬estu_dept_presentacion¬estu_exam_cod_mpio_presentacio¬estu_ano_termino_bachill¬cole_cod_icfes¬cole_cod_dane_institucion¬cole_nombre_sede¬cole_cod_mcpio_ubicacion¬cole_calendario¬cole_genero¬cole_naturaleza¬cole_bilingue¬cole_jornada¬cole_caracter¬punt_lenguaje¬punt_matematicas¬punt_c_sociales¬punt_filosofia¬punt_biologia¬punt_quimica¬punt_fisica¬nombre_idioma¬punt_idioma¬nombre_profundizacion¬punt_profundizacion¬desemp_profundizacion¬nombre_interdisciplinar¬punt_interdisciplinar¬estu_puesto\n",
      "\n",
      "Archivo: SB11_20062.txt\n",
      "estu_exam_nombreexamen¬estu_estudiante¬periodo¬estu_consecutivo¬estu_edad¬estu_tipo_documento¬estu_pais_reside¬estu_genero¬estu_nacimiento_dia¬estu_nacimiento_mes¬estu_nacimiento_anno¬estu_cod_reside_mcpio¬estu_reside_mcpio¬estu_reside_depto¬estu_zona_reside¬estu_razoninstituto¬cole_valor_pension¬estu_ies_cod_deseada¬estu_carrdeseada_razon¬estu_carrdeseada_cod¬estu_ies_deseada_nombre¬estu_ies_cod_mpio_deseada¬estu_ies_mpio_deseada¬estu_ies_dept_deseada¬estu_mpio_presentacion¬estu_dept_presentacion¬estu_exam_cod_mpio_presentacio¬estu_ano_termino_bachill¬cole_cod_icfes¬cole_cod_dane_institucion¬cole_nombre_sede¬cole_cod_mcpio_ubicacion¬cole_calendario¬cole_genero¬cole_naturaleza¬cole_bilingue¬cole_jornada¬cole_caracter¬punt_lenguaje¬punt_matematicas¬punt_c_sociales¬punt_filosofia¬punt_biologia¬punt_quimica¬punt_fisica¬nombre_idioma¬punt_idioma¬nombre_profundizacion¬punt_profundizacion¬desemp_profundizacion¬nombre_interdisciplinar¬punt_interdisciplinar¬estu_puesto\n",
      "\n",
      "Archivo: SB11_20071.txt\n",
      "estu_exam_nombreexamen¬estu_estudiante¬periodo¬estu_consecutivo¬estu_edad¬estu_tipo_documento¬estu_pais_reside¬estu_genero¬estu_nacimiento_dia¬estu_nacimiento_mes¬estu_nacimiento_anno¬estu_cod_reside_mcpio¬estu_reside_mcpio¬estu_reside_depto¬estu_zona_reside¬estu_razoninstituto¬cole_valor_pension¬estu_ies_cod_deseada¬estu_carrdeseada_razon¬estu_carrdeseada_cod¬estu_ies_deseada_nombre¬estu_ies_cod_mpio_deseada¬estu_ies_mpio_deseada¬estu_ies_dept_deseada¬estu_mpio_presentacion¬estu_dept_presentacion¬estu_exam_cod_mpio_presentacio¬estu_ano_termino_bachill¬cole_cod_icfes¬cole_cod_dane_institucion¬cole_nombre_sede¬cole_cod_mcpio_ubicacion¬cole_calendario¬cole_genero¬cole_naturaleza¬cole_bilingue¬cole_jornada¬cole_caracter¬punt_lenguaje¬punt_matematicas¬punt_c_sociales¬punt_filosofia¬punt_biologia¬punt_quimica¬punt_fisica¬punt_ingles¬nombre_profundizacion¬punt_profundizacion¬desemp_profundizacion¬nombre_interdisciplinar¬punt_interdisciplinar¬estu_puesto\n",
      "\n",
      "Archivo: SB11_20072.txt\n",
      "estu_exam_nombreexamen¬estu_estudiante¬periodo¬estu_consecutivo¬estu_edad¬estu_tipo_documento¬estu_pais_reside¬estu_genero¬estu_nacimiento_dia¬estu_nacimiento_mes¬estu_nacimiento_anno¬estu_cod_reside_mcpio¬estu_reside_mcpio¬estu_reside_depto¬estu_zona_reside¬estu_razoninstituto¬cole_valor_pension¬estu_ies_cod_deseada¬estu_carrdeseada_razon¬estu_carrdeseada_cod¬estu_ies_deseada_nombre¬estu_ies_cod_mpio_deseada¬estu_ies_mpio_deseada¬estu_ies_dept_deseada¬estu_mpio_presentacion¬estu_dept_presentacion¬estu_exam_cod_mpio_presentacio¬estu_ano_termino_bachill¬cole_cod_icfes¬cole_cod_dane_institucion¬cole_nombre_sede¬cole_cod_mcpio_ubicacion¬cole_calendario¬cole_genero¬cole_naturaleza¬cole_bilingue¬cole_jornada¬cole_caracter¬punt_lenguaje¬punt_matematicas¬punt_c_sociales¬punt_filosofia¬punt_biologia¬punt_quimica¬punt_fisica¬punt_ingles¬desemp_ingles¬nombre_profundizacion¬punt_profundizacion¬desemp_profundizacion¬nombre_interdisciplinar¬punt_interdisciplinar¬estu_puesto\n",
      "\n",
      "Archivo: SB11_20081.txt\n",
      "estu_exam_nombreexamen¬estu_estudiante¬periodo¬estu_consecutivo¬estu_edad¬estu_tipo_documento¬estu_pais_reside¬estu_genero¬estu_nacimiento_dia¬estu_nacimiento_mes¬estu_nacimiento_anno¬estu_cod_reside_mcpio¬estu_reside_mcpio¬estu_reside_depto¬estu_zona_reside¬estu_area_reside¬cole_valor_pension¬estu_trabaja¬estu_horas_trabaja¬fami_estrato_vivienda¬estu_mpio_presentacion¬estu_dept_presentacion¬estu_exam_cod_mpio_presentacio¬estu_ano_termino_bachill¬fami_educa_padre¬fami_educa_madre¬fami_ocup_padre¬fami_ocup_madre¬fami_cuartos_hogar¬fami_nivel_sisben¬fami_pisos_hogar¬fami_personas_hogar¬fami_computador¬fami_ing_fmiliar_mensual¬fami_lee_escribe_padre¬fami_lee_escribe_madre¬fami_num_hermanos¬fami_educa_hermano¬fami_hermanos_estudian¬fami_dormitorios_hogar¬cole_cod_icfes¬cole_cod_dane_institucion¬cole_nombre_sede¬cole_cod_mcpio_ubicacion¬cole_calendario¬cole_genero¬cole_naturaleza¬cole_bilingue¬cole_jornada¬cole_caracter¬punt_lenguaje¬punt_matematicas¬punt_c_sociales¬punt_filosofia¬punt_biologia¬punt_quimica¬punt_fisica¬punt_ingles¬desemp_ingles¬nombre_profundizacion¬punt_profundizacion¬desemp_profundizacion¬nombre_interdisciplinar¬punt_interdisciplinar¬estu_puesto\n",
      "\n",
      "Archivo: SB11_20082.txt\n",
      "estu_exam_nombreexamen¬estu_estudiante¬periodo¬estu_consecutivo¬estu_edad¬estu_tipo_documento¬estu_pais_reside¬estu_genero¬estu_nacimiento_dia¬estu_nacimiento_mes¬estu_nacimiento_anno¬estu_cod_reside_mcpio¬estu_reside_mcpio¬estu_reside_depto¬estu_zona_reside¬estu_area_reside¬cole_valor_pension¬estu_trabaja¬estu_horas_trabaja¬fami_estrato_vivienda¬estu_mpio_presentacion¬estu_dept_presentacion¬estu_exam_cod_mpio_presentacio¬estu_veces_estado¬estu_ano_termino_bachill¬fami_educa_padre¬fami_educa_madre¬fami_ocup_padre¬fami_ocup_madre¬fami_cuartos_hogar¬fami_nivel_sisben¬fami_pisos_hogar¬fami_personas_hogar¬fami_celular¬fami_internet¬fami_servicio_television¬fami_computador¬fami_dvd¬fami_automovil¬fami_ing_fmiliar_mensual¬fami_lee_escribe_padre¬fami_lee_escribe_madre¬fami_num_hermanos¬fami_educa_hermano¬fami_hermanos_estudian¬fami_dormitorios_hogar¬fami_televisor¬fami_motocicleta¬cole_cod_icfes¬cole_cod_dane_institucion¬cole_nombre_sede¬cole_cod_mcpio_ubicacion¬cole_calendario¬cole_genero¬cole_naturaleza¬cole_bilingue¬cole_jornada¬cole_caracter¬punt_lenguaje¬punt_matematicas¬punt_c_sociales¬punt_filosofia¬punt_biologia¬punt_quimica¬punt_fisica¬punt_ingles¬desemp_ingles¬nombre_profundizacion¬punt_profundizacion¬desemp_profundizacion¬nombre_interdisciplinar¬punt_interdisciplinar¬estu_puesto\n",
      "\n",
      "Archivo: SB11_20091.txt\n",
      "estu_exam_nombreexamen¬estu_estudiante¬periodo¬estu_consecutivo¬estu_edad¬estu_tipo_documento¬estu_pais_reside¬estu_genero¬estu_nacimiento_dia¬estu_nacimiento_mes¬estu_nacimiento_anno¬estu_cod_reside_mcpio¬estu_reside_mcpio¬estu_reside_depto¬estu_zona_reside¬estu_area_reside¬estu_razoninstituto¬cole_valor_pension¬estu_trabaja¬estu_horas_trabaja¬fami_estrato_vivienda¬estu_ies_cod_deseada¬estu_carrdeseada_razon¬estu_ies_deseada_nombre¬estu_ies_cod_mpio_deseada¬estu_ies_mpio_deseada¬estu_ies_dept_deseada¬estu_mpio_presentacion¬estu_dept_presentacion¬estu_exam_cod_mpio_presentacio¬estu_veces_estado¬estu_carrdeseada_tipo¬estu_ano_termino_bachill¬fami_educa_padre¬fami_educa_madre¬fami_ocup_padre¬fami_ocup_madre¬fami_cuartos_hogar¬fami_nivel_sisben¬fami_pisos_hogar¬fami_personas_hogar¬fami_telefono_fijo¬fami_internet¬fami_servicio_television¬fami_computador¬fami_lavadora¬fami_nevera¬fami_horno¬fami_dvd¬fami_microondas¬fami_automovil¬fami_ing_fmiliar_mensual¬fami_educa_hermano¬fami_dormitorios_hogar¬fami_televisor¬fami_electricidad¬fami_acueducto¬fami_alcantarillado¬fami_aseo¬fami_estufa¬fami_sanitario¬fami_conexion_sanitario¬cole_cod_icfes¬cole_cod_dane_institucion¬cole_nombre_sede¬cole_cod_mcpio_ubicacion¬cole_calendario¬cole_genero¬cole_naturaleza¬cole_bilingue¬cole_jornada¬cole_caracter¬punt_lenguaje¬punt_matematicas¬punt_c_sociales¬punt_filosofia¬punt_biologia¬punt_quimica¬punt_fisica¬punt_ingles¬desemp_ingles¬nombre_profundizacion¬punt_profundizacion¬desemp_profundizacion¬nombre_interdisciplinar¬punt_interdisciplinar¬estu_puesto\n",
      "\n",
      "Archivo: SB11_20092.txt\n",
      "estu_exam_nombreexamen¬estu_estudiante¬periodo¬estu_consecutivo¬estu_edad¬estu_tipo_documento¬estu_pais_reside¬estu_genero¬estu_nacimiento_dia¬estu_nacimiento_mes¬estu_nacimiento_anno¬estu_cod_reside_mcpio¬estu_reside_mcpio¬estu_reside_depto¬estu_zona_reside¬estu_area_reside¬cole_valor_pension¬estu_trabaja¬estu_horas_trabaja¬fami_estrato_vivienda¬estu_ies_cod_deseada¬estu_ies_deseada_nombre¬estu_ies_cod_mpio_deseada¬estu_ies_mpio_deseada¬estu_ies_dept_deseada¬estu_mpio_presentacion¬estu_dept_presentacion¬estu_exam_cod_mpio_presentacio¬estu_veces_estado¬estu_carrdeseada_tipo¬estu_ano_termino_bachill¬estu_mes_termino_bachill¬fami_educa_padre¬fami_educa_madre¬fami_ocup_padre¬fami_ocup_madre¬fami_cuartos_hogar¬fami_nivel_sisben¬fami_pisos_hogar¬fami_personas_hogar¬fami_telefono_fijo¬fami_celular¬fami_internet¬fami_servicio_television¬fami_computador¬fami_lavadora¬fami_nevera¬fami_horno¬fami_dvd¬fami_microondas¬fami_automovil¬fami_ing_fmiliar_mensual¬estu_anos_preescolar¬estu_ano_matricula_primero¬estu_ano_termino_quinto¬estu_ano_matricula_sexto¬estu_reprobo_primero¬estu_reprobo_segundo¬estu_reprobo_tercero¬estu_reprobo_cuarto¬estu_reprobo_quinto¬estu_reprobo_sexto¬estu_reprobo_septimo¬estu_reprobo_octavo¬estu_reprobo_noveno¬estu_reprobo_decimo¬estu_reprobo_once_mas¬estu_anos_colegio_actual¬estu_cuantos_cole_estudio¬estu_razon_retiro¬estu_total_alumnos_curso¬estu_prestigioinstitucion¬estu_por_ubicacion¬estu_por_unicaqueofrece¬estu_por_amigosestudiando¬estu_por_otrarazon¬estu_por_orientacionvocacional¬estu_por_tradicionfamiliar¬estu_por_influenciaalguien¬cole_cod_icfes¬cole_cod_dane_institucion¬cole_nombre_sede¬cole_cod_mcpio_ubicacion¬cole_calendario¬cole_genero¬cole_naturaleza¬cole_bilingue¬cole_jornada¬cole_caracter¬punt_lenguaje¬punt_matematicas¬punt_c_sociales¬punt_filosofia¬punt_biologia¬punt_quimica¬punt_fisica¬punt_ingles¬desemp_ingles¬nombre_profundizacion¬punt_profundizacion¬desemp_profundizacion¬nombre_interdisciplinar¬punt_interdisciplinar¬estu_puesto\n",
      "\n"
     ]
    },
    {
     "name": "stdout",
     "output_type": "stream",
     "text": [
      "Archivo: SB11_20101.txt\n",
      "estu_exam_nombreexamen¬estu_estudiante¬periodo¬estu_consecutivo¬estu_edad¬estu_tipo_documento¬estu_pais_reside¬estu_genero¬estu_nacimiento_dia¬estu_nacimiento_mes¬estu_nacimiento_anno¬estu_cod_reside_mcpio¬estu_reside_mcpio¬estu_reside_depto¬estu_zona_reside¬estu_area_reside¬cole_valor_pension¬estu_trabaja¬fami_estrato_vivienda¬estu_mpio_presentacion¬estu_dept_presentacion¬estu_exam_cod_mpio_presentacio¬estu_veces_estado¬estu_ano_termino_bachill¬estu_mes_termino_bachill¬fami_educa_padre¬fami_educa_madre¬fami_ocup_padre¬fami_ocup_madre¬fami_nivel_sisben¬fami_pisos_hogar¬fami_personas_hogar¬fami_telefono_fijo¬fami_celular¬fami_internet¬fami_servicio_television¬fami_computador¬fami_lavadora¬fami_nevera¬fami_horno¬fami_dvd¬fami_microondas¬fami_automovil¬fami_ing_fmiliar_mensual¬cole_cod_icfes¬cole_cod_dane_institucion¬cole_nombre_sede¬cole_cod_mcpio_ubicacion¬cole_calendario¬cole_genero¬cole_naturaleza¬cole_bilingue¬cole_jornada¬cole_caracter¬punt_lenguaje¬punt_matematicas¬punt_c_sociales¬punt_filosofia¬punt_biologia¬punt_quimica¬punt_fisica¬punt_ingles¬desemp_ingles¬nombre_profundizacion¬punt_profundizacion¬desemp_profundizacion¬nombre_interdisciplinar¬punt_interdisciplinar¬estu_puesto\n",
      "\n",
      "Archivo: SB11_20102.txt\n",
      "estu_exam_nombreexamen¬estu_estudiante¬periodo¬estu_consecutivo¬estu_edad¬estu_tipo_documento¬estu_pais_reside¬estu_genero¬estu_nacimiento_dia¬estu_nacimiento_mes¬estu_nacimiento_anno¬estu_cod_reside_mcpio¬estu_reside_mcpio¬estu_reside_depto¬estu_zona_reside¬estu_area_reside¬cole_valor_pension¬estu_trabaja¬fami_estrato_vivienda¬estu_ies_cod_deseada¬estu_ies_deseada_nombre¬estu_ies_cod_mpio_deseada¬estu_ies_mpio_deseada¬estu_ies_dept_deseada¬estu_mpio_presentacion¬estu_dept_presentacion¬estu_exam_cod_mpio_presentacio¬estu_veces_estado¬estu_carrdeseada_tipo¬fami_educa_padre¬fami_educa_madre¬fami_ocup_padre¬fami_ocup_madre¬fami_nivel_sisben¬fami_pisos_hogar¬fami_personas_hogar¬fami_telefono_fijo¬fami_celular¬fami_internet¬fami_servicio_television¬fami_computador¬fami_lavadora¬fami_nevera¬fami_horno¬fami_dvd¬fami_microondas¬fami_automovil¬fami_ing_fmiliar_mensual¬estu_anos_preescolar¬estu_ano_matricula_primero¬estu_ano_termino_quinto¬estu_ano_matricula_sexto¬estu_reprobo_primero¬estu_reprobo_segundo¬estu_reprobo_tercero¬estu_reprobo_cuarto¬estu_reprobo_quinto¬estu_reprobo_sexto¬estu_reprobo_septimo¬estu_reprobo_octavo¬estu_reprobo_noveno¬estu_reprobo_decimo¬estu_reprobo_once_mas¬estu_anos_colegio_actual¬estu_cuantos_cole_estudio¬estu_razon_retiro¬estu_total_alumnos_curso¬estu_prestigioinstitucion¬estu_por_ubicacion¬estu_por_unicaqueofrece¬estu_por_amigosestudiando¬estu_por_otrarazon¬estu_por_orientacionvocacional¬estu_por_tradicionfamiliar¬estu_por_influenciaalguien¬cole_cod_icfes¬cole_cod_dane_institucion¬cole_nombre_sede¬cole_cod_mcpio_ubicacion¬cole_calendario¬cole_genero¬cole_naturaleza¬cole_bilingue¬cole_jornada¬cole_caracter¬punt_lenguaje¬punt_matematicas¬punt_c_sociales¬punt_filosofia¬punt_biologia¬punt_quimica¬punt_fisica¬punt_ingles¬desemp_ingles¬nombre_comp_flexible¬punt_comp_flexible¬desemp_comp_flexible¬estu_puesto¬punt_biologia_recal¬punt_c_sociales_recal¬punt_filosofia_recal¬punt_fisica_recal¬punt_ingles_recal¬punt_lenguaje_recal¬punt_matematicas_recal¬punt_quimica_recal\n",
      "\n",
      "Archivo: SB11_20111.txt\n",
      "estu_exam_nombreexamen¬estu_estudiante¬periodo¬estu_consecutivo¬estu_edad¬estu_tipo_documento¬estu_pais_reside¬estu_genero¬estu_nacimiento_dia¬estu_nacimiento_mes¬estu_nacimiento_anno¬estu_cod_reside_mcpio¬estu_reside_mcpio¬estu_reside_depto¬estu_zona_reside¬estu_area_reside¬cole_valor_pension¬estu_trabaja¬fami_estrato_vivienda¬estu_ies_cod_deseada¬estu_ies_deseada_nombre¬estu_ies_cod_mpio_deseada¬estu_ies_mpio_deseada¬estu_ies_dept_deseada¬estu_mpio_presentacion¬estu_dept_presentacion¬estu_exam_cod_mpio_presentacio¬estu_veces_estado¬estu_carrdeseada_tipo¬fami_educa_padre¬fami_educa_madre¬fami_ocup_padre¬fami_ocup_madre¬fami_nivel_sisben¬fami_pisos_hogar¬fami_personas_hogar¬fami_telefono_fijo¬fami_celular¬fami_internet¬fami_servicio_television¬fami_computador¬fami_lavadora¬fami_nevera¬fami_horno¬fami_dvd¬fami_microondas¬fami_automovil¬fami_ing_fmiliar_mensual¬estu_anos_preescolar¬estu_ano_matricula_primero¬estu_ano_termino_quinto¬estu_ano_matricula_sexto¬estu_reprobo_primero¬estu_reprobo_segundo¬estu_reprobo_tercero¬estu_reprobo_cuarto¬estu_reprobo_quinto¬estu_reprobo_sexto¬estu_reprobo_septimo¬estu_reprobo_octavo¬estu_reprobo_noveno¬estu_reprobo_decimo¬estu_reprobo_once_mas¬estu_anos_colegio_actual¬estu_cuantos_cole_estudio¬estu_razon_retiro¬estu_total_alumnos_curso¬estu_prestigioinstitucion¬estu_por_ubicacion¬estu_por_unicaqueofrece¬estu_por_amigosestudiando¬estu_por_otrarazon¬estu_por_orientacionvocacional¬estu_por_tradicionfamiliar¬estu_por_influenciaalguien¬cole_cod_icfes¬cole_cod_dane_institucion¬cole_nombre_sede¬cole_cod_mcpio_ubicacion¬cole_calendario¬cole_genero¬cole_naturaleza¬cole_bilingue¬cole_jornada¬cole_caracter¬punt_lenguaje¬punt_matematicas¬punt_c_sociales¬punt_filosofia¬punt_biologia¬punt_quimica¬punt_fisica¬punt_ingles¬desemp_ingles¬nombre_comp_flexible¬punt_comp_flexible¬desemp_comp_flexible¬estu_puesto\n",
      "\n",
      "Archivo: SB11_20112.txt\n",
      "ESTU_TIPODOCUMENTO¬ESTU_NACIONALIDAD¬ESTU_GENERO¬ESTU_FECHANACIMIENTO¬PERIODO¬ESTU_CONSECUTIVO¬ESTU_ESTUDIANTE¬ESTU_PAIS_RESIDE¬ESTU_DEPTO_RESIDE¬ESTU_COD_RESIDE_DEPTO¬ESTU_MCPIO_RESIDE¬ESTU_COD_RESIDE_MCPIO¬ESTU_AREARESIDE¬ESTU_MESTERMINOBACHILLER¬ESTU_ANOTERMINOBACHILLER¬ESTU_VALORPENSIONCOLEGIO¬ESTU_MOTIVO_PRESENTAVALIDACION¬ESTU_VECESPRESENTOEXAMEN¬ESTU_FECHAGRADOBACHILLER¬FAMI_EDUCACIONPADRE¬FAMI_EDUCACIONMADRE¬FAMI_OCUPACIONPADRE¬FAMI_OCUPACIONMADRE¬FAMI_ESTRATOVIVIENDA¬FAMI_NIVELSISBEN¬FAMI_PERSONASHOGAR¬FAMI_CUARTOSHOGAR¬FAMI_PISOSHOGAR¬FAMI_TIENEINTERNET¬FAMI_TIENE_SERVICIOTV¬FAMI_TIENECOMPUTADOR¬FAMI_TIENELAVADORA¬FAMI_TIENEMICROONDAS¬FAMI_TIENEHORNO¬FAMI_TIENEAUTOMOVIL¬FAMI_TIENEDVD¬FAMI_TIENE_NEVERA¬FAMI_TIENE_CELULAR¬FAMI_TELEFONO¬FAMI_INGRESOFMILIARMENSUAL¬ESTU_TRABAJAACTUALMENTE¬ESTU_ANTECEDENTES¬ESTU_ANOSPREESCOLAR¬ESTU_ANOMATRICULAPRIMERO¬ESTU_ANOTERMINOQUINTO¬ESTU_ANOMATRICULASEXTO¬ESTU_REPROBOPRIMERO¬ESTU_REPROBOSEGUNDO¬ESTU_REPROBOTERCERO¬ESTU_REPROBOCUARTO¬ESTU_REPROBOQUINTO¬ESTU_REPROBOSEXTO¬ESTU_REPROBOSEPTIMO¬ESTU_REPROBOOCTAVO¬ESTU_REPROBONOVENO¬ESTU_REPROBODECIMO¬ESTU_REPROBOONCEMAS¬ESTU_ANOSCOLEGIOACTUAL¬ESTU_CUANTOSCOLEGIOESTUDIO¬ESTU_SERETIROCOLEGIO¬ESTU_RAZONRETIROCOLEGIO¬ESTU_TOTALALUMNOSCURSO¬ESTU_TIPOCARRERADESEADA¬ESTU_IESDESEADA¬ESTU_INSTPORPRESTIGIO¬ESTU_INSTPORCOSTOMATRICULA¬ESTU_INSTPORUBICACION¬ESTU_INSTPORUNICAQUEOFRECE¬ESTU_INSTPOROPORTUNIDADES¬ESTU_INSTPORAMIGOSESTUDIANDO¬ESTU_INSTPOROTRARAZON¬ESTU_PROGRAMADESEADO¬ESTU_PROGORIENTACIONVOCACIONAL¬ESTU_PROGPORBUSCANDOCARRERA¬ESTU_PROGPORCOLOMBIAAPRENDE¬ESTU_PROGPORINTERESPERSONAL¬ESTU_PROGPORTRADICIONFAMILIAR¬ESTU_PROGPORMEJORARPOSICSOCIAL¬ESTU_PROGPORINFLUENCIAALGUIEN¬COLE_CODIGO_ICFES¬COLE_COD_DANE_ESTABLECIMIENTO¬COLE_NOMBRE_ESTABLECIMIENTO¬COLE_GENERO¬COLE_NATURALEZA¬COLE_CALENDARIO¬COLE_BILINGUE¬COLE_CARACTER¬COLE_COD_DANE_SEDE¬COLE_NOMBRE_SEDE¬COLE_SEDE_PRINCIPAL¬COLE_AREA_UBICACION¬COLE_JORNADA¬COLE_COD_MCPIO_UBICACION¬COLE_MCPIO_UBICACION¬COLE_COD_DEPTO_UBICACION¬COLE_DEPTO_UBICACION¬ESTU_PRIVADO_LIBERTAD¬ESTU_COD_MCPIO_PRESENTACION¬ESTU_MCPIO_PRESENTACION¬ESTU_DEPTO_PRESENTACION¬ESTU_COD_DEPTO_PRESENTACION¬PUNT_MATEMATICAS¬PUNT_INGLES¬DESEMP_INGLES¬PUNT_CIENCIAS_SOCIALES¬PUNT_BIOLOGIA¬PUNT_FILOSOFIA¬PUNT_FISICA¬PUNT_QUIMICA¬PUNT_LENGUAJE¬PUNT_INTERDISC_MEDIOAMBIENTE¬PUNT_INTERDISC_VIOLENCIAYSOC¬PUNT_PROFUNDIZA_BIOLOGIA¬DESEMP_PROFUNDIZA_BIOLOGIA¬PUNT_PROFUNDIZA_CSOCIALES¬DESEMP_PROFUNDIZA_CSOCIALES¬PUNT_PROFUNDIZA_LENGUAJE¬DESEMP_PROFUNDIZA_LENGUAJE¬PUNT_PROFUNDIZA_MATEMATICA¬DESEMP_PROFUNDIZA_MATEMATICA¬ESTU_PUESTO¬ESTU_ESTADOINVESTIGACION\n",
      "\n",
      "Archivo: SB11_20121.txt\n",
      "ESTU_TIPODOCUMENTO¬ESTU_NACIONALIDAD¬ESTU_GENERO¬ESTU_FECHANACIMIENTO¬PERIODO¬ESTU_CONSECUTIVO¬ESTU_ESTUDIANTE¬ESTU_PAIS_RESIDE¬ESTU_ETNIA¬ESTU_LIMITA_MOTRIZ¬ESTU_LIMITA_INVIDENTE¬ESTU_LIMITA_CONDICIONESPECIAL¬ESTU_LIMITA_SORDOCONINTERPRETE¬ESTU_LIMITA_SORDOSININTERPRETE¬ESTU_LIMITA_SORDOCEGUERA¬ESTU_DEPTO_RESIDE¬ESTU_COD_RESIDE_DEPTO¬ESTU_MCPIO_RESIDE¬ESTU_COD_RESIDE_MCPIO¬ESTU_AREARESIDE¬ESTU_MESTERMINOBACHILLER¬ESTU_ANOTERMINOBACHILLER¬ESTU_VALORPENSIONCOLEGIO¬ESTU_OCUPACION_ACTUAL¬ESTU_MOTIVO_PRESENTAVALIDACION¬ESTU_VECESPRESENTOEXAMEN¬ESTU_FECHAGRADOBACHILLER¬FAMI_EDUCACIONPADRE¬FAMI_EDUCACIONMADRE¬FAMI_OCUPACIONPADRE¬FAMI_OCUPACIONMADRE¬FAMI_ESTRATOVIVIENDA¬FAMI_NIVELSISBEN¬FAMI_PERSONASHOGAR¬FAMI_CUARTOSHOGAR¬FAMI_PISOSHOGAR¬FAMI_TIENEINTERNET¬FAMI_TIENE_SERVICIOTV¬FAMI_TIENECOMPUTADOR¬FAMI_TIENELAVADORA¬FAMI_TIENEMICROONDAS¬FAMI_TIENEAUTOMOVIL¬FAMI_TIENEDVD¬FAMI_TIENE_NEVERA¬FAMI_TIENE_CELULAR¬FAMI_TELEFONO¬FAMI_INGRESOFMILIARMENSUAL¬ESTU_TRABAJAACTUALMENTE¬ESTU_ANTECEDENTES¬ESTU_ANOSPREESCOLAR¬ESTU_ANOMATRICULAPRIMERO¬ESTU_ANOTERMINOQUINTO¬ESTU_ANOMATRICULASEXTO¬ESTU_REPROBOPRIMERO¬ESTU_REPROBOSEGUNDO¬ESTU_REPROBOTERCERO¬ESTU_REPROBOCUARTO¬ESTU_REPROBOQUINTO¬ESTU_REPROBOSEXTO¬ESTU_REPROBOSEPTIMO¬ESTU_REPROBOOCTAVO¬ESTU_REPROBONOVENO¬ESTU_REPROBODECIMO¬ESTU_REPROBOONCEMAS¬ESTU_ANOSCOLEGIOACTUAL¬ESTU_CUANTOSCOLEGIOESTUDIO¬ESTU_TOTALALUMNOSCURSO¬ESTU_TIPOCARRERADESEADA¬ESTU_INSTPORPRESTIGIO¬ESTU_INSTPORCOSTOMATRICULA¬ESTU_INSTPORUBICACION¬ESTU_INSTPORUNICAQUEOFRECE¬ESTU_INSTPOROPORTUNIDADES¬ESTU_INSTPORAMIGOSESTUDIANDO¬ESTU_INSTPOROTRARAZON¬ESTU_PROGORIENTACIONVOCACIONAL¬ESTU_PROGPORBUSCANDOCARRERA¬ESTU_PROGPORCOLOMBIAAPRENDE¬ESTU_PROGPORINTERESPERSONAL¬ESTU_PROGPORTRADICIONFAMILIAR¬ESTU_PROGPORMEJORARPOSICSOCIAL¬ESTU_PROGPORINFLUENCIAALGUIEN¬COLE_CODIGO_ICFES¬COLE_COD_DANE_ESTABLECIMIENTO¬COLE_NOMBRE_ESTABLECIMIENTO¬COLE_GENERO¬COLE_NATURALEZA¬COLE_CALENDARIO¬COLE_BILINGUE¬COLE_CARACTER¬COLE_COD_DANE_SEDE¬COLE_NOMBRE_SEDE¬COLE_SEDE_PRINCIPAL¬COLE_AREA_UBICACION¬COLE_JORNADA¬COLE_COD_MCPIO_UBICACION¬COLE_MCPIO_UBICACION¬COLE_COD_DEPTO_UBICACION¬COLE_DEPTO_UBICACION¬ESTU_PRIVADO_LIBERTAD¬ESTU_COD_MCPIO_PRESENTACION¬ESTU_MCPIO_PRESENTACION¬ESTU_DEPTO_PRESENTACION¬ESTU_COD_DEPTO_PRESENTACION¬PUNT_MATEMATICAS¬PUNT_INGLES¬DESEMP_INGLES¬PUNT_CIENCIAS_SOCIALES¬PUNT_BIOLOGIA¬PUNT_FILOSOFIA¬PUNT_FISICA¬PUNT_QUIMICA¬PUNT_LENGUAJE¬PUNT_INTERDISC_MEDIOAMBIENTE¬PUNT_INTERDISC_VIOLENCIAYSOC¬PUNT_PROFUNDIZA_BIOLOGIA¬DESEMP_PROFUNDIZA_BIOLOGIA¬PUNT_PROFUNDIZA_CSOCIALES¬DESEMP_PROFUNDIZA_CSOCIALES¬PUNT_PROFUNDIZA_LENGUAJE¬DESEMP_PROFUNDIZA_LENGUAJE¬PUNT_PROFUNDIZA_MATEMATICA¬DESEMP_PROFUNDIZA_MATEMATICA¬ESTU_PUESTO¬RECAF_PUNT_SOCIALES_CIUDADANAS¬RECAF_PUNT_INGLES¬RECAF_PUNT_LECTURA_CRITICA¬RECAF_PUNT_MATEMATICAS¬RECAF_PUNT_C_NATURALES¬ESTU_ESTADOINVESTIGACION\n",
      "\n",
      "Archivo: SB11_20122.txt\n",
      "ESTU_TIPODOCUMENTO¬ESTU_NACIONALIDAD¬ESTU_GENERO¬ESTU_FECHANACIMIENTO¬PERIODO¬ESTU_CONSECUTIVO¬ESTU_ESTUDIANTE¬ESTU_PAIS_RESIDE¬ESTU_DEPTO_RESIDE¬ESTU_COD_RESIDE_DEPTO¬ESTU_MCPIO_RESIDE¬ESTU_COD_RESIDE_MCPIO¬ESTU_AREARESIDE¬ESTU_MESTERMINOBACHILLER¬ESTU_ANOTERMINOBACHILLER¬ESTU_VALORPENSIONCOLEGIO¬ESTU_MOTIVO_PRESENTAVALIDACION¬ESTU_FECHAGRADOBACHILLER¬FAMI_EDUCACIONPADRE¬FAMI_EDUCACIONMADRE¬FAMI_OCUPACIONPADRE¬FAMI_OCUPACIONMADRE¬FAMI_ESTRATOVIVIENDA¬FAMI_NIVELSISBEN¬FAMI_PERSONASHOGAR¬FAMI_CUARTOSHOGAR¬FAMI_PISOSHOGAR¬FAMI_TIENEINTERNET¬FAMI_TIENE_SERVICIOTV¬FAMI_TIENECOMPUTADOR¬FAMI_TIENELAVADORA¬FAMI_TIENEMICROONDAS¬FAMI_TIENEHORNO¬FAMI_TIENEAUTOMOVIL¬FAMI_TIENEDVD¬FAMI_TIENE_NEVERA¬FAMI_TIENE_CELULAR¬FAMI_TELEFONO¬FAMI_INGRESOFMILIARMENSUAL¬ESTU_TRABAJAACTUALMENTE¬ESTU_HORASSEMANATRABAJA¬ESTU_ANTECEDENTES¬ESTU_ANOSPREESCOLAR¬ESTU_ANOMATRICULAPRIMERO¬ESTU_ANOTERMINOQUINTO¬ESTU_ANOMATRICULASEXTO¬ESTU_REPROBOPRIMERO¬ESTU_REPROBOSEGUNDO¬ESTU_REPROBOTERCERO¬ESTU_REPROBOCUARTO¬ESTU_REPROBOQUINTO¬ESTU_REPROBOSEXTO¬ESTU_REPROBOSEPTIMO¬ESTU_REPROBOOCTAVO¬ESTU_REPROBONOVENO¬ESTU_REPROBODECIMO¬ESTU_REPROBOONCEMAS¬ESTU_ANOSCOLEGIOACTUAL¬ESTU_CUANTOSCOLEGIOESTUDIO¬ESTU_SERETIROCOLEGIO¬ESTU_RAZONRETIROCOLEGIO¬ESTU_TOTALALUMNOSCURSO¬ESTU_TIPOCARRERADESEADA¬ESTU_RAZON_INST_DESEADA¬ESTU_INSTPORPRESTIGIO¬ESTU_INSTPORCOSTOMATRICULA¬ESTU_INSTPORUBICACION¬ESTU_INSTPORUNICAQUEOFRECE¬ESTU_INSTPOROPORTUNIDADES¬ESTU_INSTPORAMIGOSESTUDIANDO¬ESTU_INSTPOROTRARAZON¬ESTU_RAZON_PROG_DESEADO¬ESTU_PROGORIENTACIONVOCACIONAL¬ESTU_PROGPORBUSCANDOCARRERA¬ESTU_PROGPORCOLOMBIAAPRENDE¬ESTU_PROGPORINTERESPERSONAL¬ESTU_PROGPORTRADICIONFAMILIAR¬ESTU_PROGPORMEJORARPOSICSOCIAL¬ESTU_PROGPORINFLUENCIAALGUIEN¬COLE_CODIGO_ICFES¬COLE_COD_DANE_ESTABLECIMIENTO¬COLE_NOMBRE_ESTABLECIMIENTO¬COLE_GENERO¬COLE_NATURALEZA¬COLE_CALENDARIO¬COLE_BILINGUE¬COLE_CARACTER¬COLE_COD_DANE_SEDE¬COLE_NOMBRE_SEDE¬COLE_SEDE_PRINCIPAL¬COLE_AREA_UBICACION¬COLE_COD_MCPIO_UBICACION¬COLE_JORNADA¬COLE_MCPIO_UBICACION¬COLE_COD_DEPTO_UBICACION¬COLE_DEPTO_UBICACION¬ESTU_PRIVADO_LIBERTAD¬ESTU_COD_MCPIO_PRESENTACION¬ESTU_MCPIO_PRESENTACION¬ESTU_DEPTO_PRESENTACION¬ESTU_COD_DEPTO_PRESENTACION¬PUNT_MATEMATICAS¬PUNT_INGLES¬DESEMP_INGLES¬PUNT_CIENCIAS_SOCIALES¬PUNT_BIOLOGIA¬PUNT_FILOSOFIA¬PUNT_FISICA¬PUNT_QUIMICA¬PUNT_LENGUAJE¬PUNT_INTERDISC_MEDIOAMBIENTE¬PUNT_INTERDISC_VIOLENCIAYSOC¬PUNT_PROFUNDIZA_BIOLOGIA¬DESEMP_PROFUNDIZA_BIOLOGIA¬PUNT_PROFUNDIZA_CSOCIALES¬DESEMP_PROFUNDIZA_CSOCIALES¬PUNT_PROFUNDIZA_LENGUAJE¬DESEMP_PROFUNDIZA_LENGUAJE¬PUNT_PROFUNDIZA_MATEMATICA¬DESEMP_PROFUNDIZA_MATEMATICA¬ESTU_PUESTO¬RECAF_PUNT_SOCIALES_CIUDADANAS¬RECAF_PUNT_INGLES¬RECAF_PUNT_LECTURA_CRITICA¬RECAF_PUNT_MATEMATICAS¬RECAF_PUNT_C_NATURALES¬ESTU_ESTADOINVESTIGACION\n",
      "\n",
      "Archivo: SB11_20131.txt\n",
      "ESTU_TIPODOCUMENTO¬ESTU_NACIONALIDAD¬ESTU_GENERO¬ESTU_FECHANACIMIENTO¬PERIODO¬ESTU_CONSECUTIVO¬ESTU_ESTUDIANTE¬ESTU_PAIS_RESIDE¬ESTU_DEPTO_RESIDE¬ESTU_COD_RESIDE_DEPTO¬ESTU_MCPIO_RESIDE¬ESTU_COD_RESIDE_MCPIO¬ESTU_AREARESIDE¬ESTU_VALORPENSIONCOLEGIO¬ESTU_VECESPRESENTOEXAMEN¬FAMI_EDUCACIONPADRE¬FAMI_EDUCACIONMADRE¬FAMI_OCUPACIONPADRE¬FAMI_OCUPACIONMADRE¬FAMI_ESTRATOVIVIENDA¬FAMI_NIVELSISBEN¬FAMI_PERSONASHOGAR¬FAMI_CUARTOSHOGAR¬FAMI_PISOSHOGAR¬FAMI_TIENEINTERNET¬FAMI_TIENECOMPUTADOR¬FAMI_TIENELAVADORA¬FAMI_TIENEMICROONDAS¬FAMI_TIENEHORNO¬FAMI_TIENETELEVISOR¬FAMI_TIENEAUTOMOVIL¬FAMI_TIENEDVD¬FAMI_TIENE_NEVERA¬FAMI_TIENE_CELULAR¬FAMI_TELEFONO¬FAMI_INGRESOFMILIARMENSUAL¬ESTU_TRABAJAACTUALMENTE¬ESTU_RECIBESALARIO¬ESTU_ANTECEDENTES¬ESTU_ANOSPREESCOLAR¬ESTU_ANOMATRICULAPRIMERO¬ESTU_ANOTERMINOQUINTO¬ESTU_ANOMATRICULASEXTO¬ESTU_REPROBOPRIMERO¬ESTU_REPROBOSEGUNDO¬ESTU_REPROBOTERCERO¬ESTU_REPROBOCUARTO¬ESTU_REPROBOQUINTO¬ESTU_REPROBOSEXTO¬ESTU_REPROBOSEPTIMO¬ESTU_REPROBOOCTAVO¬ESTU_REPROBONOVENO¬ESTU_REPROBODECIMO¬ESTU_REPROBOONCEMAS¬ESTU_ANOSCOLEGIOACTUAL¬ESTU_CUANTOSCOLEGIOESTUDIO¬ESTU_SERETIROCOLEGIO¬ESTU_RAZONRETIROCOLEGIO¬ESTU_TOTALALUMNOSCURSO¬ESTU_TIPOCARRERADESEADA¬ESTU_IESDESEADA¬ESTU_COD_MCPIOIESDESEADA¬ESTU_MCPIOIESDESEADA¬ESTU_PROGRAMADESEADO¬ESTU_INSTPORPRESTIGIO¬ESTU_INSTPORCOSTOMATRICULA¬ESTU_INSTPORUBICACION¬ESTU_INSTPORUNICAQUEOFRECE¬ESTU_INSTPOROPORTUNIDADES¬ESTU_INSTPORAMIGOSESTUDIANDO¬ESTU_INSTPOROTRARAZON¬ESTU_PROGORIENTACIONVOCACIONAL¬ESTU_PROGPORBUSCANDOCARRERA¬ESTU_PROGPORCOLOMBIAAPRENDE¬ESTU_PROGPORINTERESPERSONAL¬ESTU_PROGPORTRADICIONFAMILIAR¬ESTU_PROGPORMEJORARPOSICSOCIAL¬ESTU_PROGPORINFLUENCIAALGUIEN¬ESTU_EXPECTATIVAS¬ESTU_INGRESAR_PROG_EDUSUPERIOR¬ESTU_PUNT_ESPERADO_LENGUAJE¬ESTU_PUNT_ESPERADO_MATEMATICAS¬ESTU_PUNT_ESPERADO_INGLES¬ESTU_SALARIO_ESPERADOBACHILLER¬ESTU_SALARIO_ESPERADOTECNICO¬ESTU_SALARIO_ESPERADOPROFESI¬PUNT_CIENCIAS_SOCIALES¬COLE_CODIGO_ICFES¬COLE_COD_DANE_ESTABLECIMIENTO¬COLE_NOMBRE_ESTABLECIMIENTO¬COLE_GENERO¬COLE_NATURALEZA¬COLE_CALENDARIO¬COLE_BILINGUE¬COLE_CARACTER¬COLE_COD_DANE_SEDE¬COLE_NOMBRE_SEDE¬COLE_SEDE_PRINCIPAL¬COLE_AREA_UBICACION¬COLE_JORNADA¬COLE_COD_MCPIO_UBICACION¬COLE_MCPIO_UBICACION¬COLE_COD_DEPTO_UBICACION¬COLE_DEPTO_UBICACION¬ESTU_PRIVADO_LIBERTAD¬ESTU_COD_MCPIO_PRESENTACION¬ESTU_MCPIO_PRESENTACION¬ESTU_DEPTO_PRESENTACION¬ESTU_COD_DEPTO_PRESENTACION¬PUNT_MATEMATICAS¬PUNT_INGLES¬DESEMP_INGLES¬PUNT_BIOLOGIA¬PUNT_FILOSOFIA¬PUNT_INTERDISC_MEDIOAMBIENTE¬PUNT_FISICA¬PUNT_INTERDISC_VIOLENCIAYSOC¬PUNT_PROFUNDIZA_BIOLOGIA¬PUNT_QUIMICA¬DESEMP_PROFUNDIZA_BIOLOGIA¬PUNT_LENGUAJE¬PUNT_PROFUNDIZA_CSOCIALES¬DESEMP_PROFUNDIZA_CSOCIALES¬PUNT_PROFUNDIZA_LENGUAJE¬DESEMP_PROFUNDIZA_LENGUAJE¬PUNT_PROFUNDIZA_MATEMATICA¬DESEMP_PROFUNDIZA_MATEMATICA¬ESTU_PUESTO¬RECAF_PUNT_SOCIALES_CIUDADANAS¬RECAF_PUNT_INGLES¬RECAF_PUNT_LECTURA_CRITICA¬RECAF_PUNT_MATEMATICAS¬RECAF_PUNT_C_NATURALES¬ESTU_ESTADOINVESTIGACION\n",
      "\n",
      "Archivo: SB11_20132.txt\n",
      "ESTU_TIPODOCUMENTO¬ESTU_NACIONALIDAD¬ESTU_GENERO¬ESTU_FECHANACIMIENTO¬PERIODO¬ESTU_CONSECUTIVO¬ESTU_ESTUDIANTE¬ESTU_PAIS_RESIDE¬ESTU_DEPTO_RESIDE¬ESTU_COD_RESIDE_DEPTO¬ESTU_MCPIO_RESIDE¬ESTU_COD_RESIDE_MCPIO¬ESTU_AREARESIDE¬ESTU_VALORPENSIONCOLEGIO¬ESTU_VECESPRESENTOEXAMEN¬FAMI_EDUCACIONPADRE¬FAMI_EDUCACIONMADRE¬FAMI_OCUPACIONPADRE¬FAMI_OCUPACIONMADRE¬FAMI_ESTRATOVIVIENDA¬FAMI_NIVELSISBEN¬FAMI_PERSONASHOGAR¬FAMI_CUARTOSHOGAR¬FAMI_PISOSHOGAR¬FAMI_TIENEINTERNET¬FAMI_TIENECOMPUTADOR¬FAMI_TIENELAVADORA¬FAMI_TIENEMICROONDAS¬FAMI_TIENEHORNO¬FAMI_TIENETELEVISOR¬FAMI_TIENEAUTOMOVIL¬FAMI_TIENEDVD¬FAMI_TIENE_NEVERA¬FAMI_TIENE_CELULAR¬FAMI_TELEFONO¬FAMI_INGRESOFMILIARMENSUAL¬ESTU_TRABAJAACTUALMENTE¬ESTU_RECIBESALARIO¬ESTU_ANTECEDENTES¬ESTU_ANOSPREESCOLAR¬ESTU_ANOMATRICULAPRIMERO¬ESTU_ANOTERMINOQUINTO¬ESTU_ANOMATRICULASEXTO¬ESTU_REPROBOPRIMERO¬ESTU_REPROBOSEGUNDO¬ESTU_REPROBOTERCERO¬ESTU_REPROBOCUARTO¬ESTU_REPROBOQUINTO¬ESTU_REPROBOSEXTO¬ESTU_REPROBOSEPTIMO¬ESTU_REPROBOOCTAVO¬ESTU_REPROBONOVENO¬ESTU_REPROBODECIMO¬ESTU_REPROBOONCEMAS¬ESTU_ANOSCOLEGIOACTUAL¬ESTU_CUANTOSCOLEGIOESTUDIO¬ESTU_SERETIROCOLEGIO¬ESTU_RAZONRETIROCOLEGIO¬ESTU_TOTALALUMNOSCURSO¬ESTU_TIPOCARRERADESEADA¬ESTU_MCPIOIESDESEADA¬ESTU_COD_MCPIOIESDESEADA¬ESTU_IESDESEADA¬ESTU_PROGRAMADESEADO¬ESTU_INSTPORPRESTIGIO¬ESTU_INSTPORCOSTOMATRICULA¬ESTU_INSTPORUBICACION¬ESTU_INSTPORUNICAQUEOFRECE¬ESTU_INSTPOROPORTUNIDADES¬ESTU_INSTPORAMIGOSESTUDIANDO¬ESTU_INSTPOROTRARAZON¬ESTU_PROGORIENTACIONVOCACIONAL¬ESTU_PROGPORBUSCANDOCARRERA¬ESTU_PROGPORCOLOMBIAAPRENDE¬ESTU_PROGPORINTERESPERSONAL¬ESTU_PROGPORTRADICIONFAMILIAR¬ESTU_PROGPORMEJORARPOSICSOCIAL¬ESTU_PROGPORINFLUENCIAALGUIEN¬ESTU_EXPECTATIVAS¬ESTU_INGRESAR_PROG_EDUSUPERIOR¬ESTU_PUNT_ESPERADO_LENGUAJE¬ESTU_PUNT_ESPERADO_MATEMATICAS¬ESTU_PUNT_ESPERADO_INGLES¬ESTU_SALARIO_ESPERADOBACHILLER¬ESTU_SALARIO_ESPERADOTECNICO¬ESTU_SALARIO_ESPERADOPROFESI¬COLE_CODIGO_ICFES¬COLE_COD_DANE_ESTABLECIMIENTO¬COLE_NOMBRE_ESTABLECIMIENTO¬COLE_GENERO¬COLE_NATURALEZA¬COLE_CALENDARIO¬COLE_BILINGUE¬COLE_CARACTER¬COLE_COD_DANE_SEDE¬COLE_NOMBRE_SEDE¬COLE_SEDE_PRINCIPAL¬COLE_AREA_UBICACION¬COLE_JORNADA¬COLE_COD_MCPIO_UBICACION¬COLE_MCPIO_UBICACION¬COLE_COD_DEPTO_UBICACION¬COLE_DEPTO_UBICACION¬ESTU_PRIVADO_LIBERTAD¬ESTU_COD_MCPIO_PRESENTACION¬ESTU_MCPIO_PRESENTACION¬ESTU_DEPTO_PRESENTACION¬ESTU_COD_DEPTO_PRESENTACION¬PUNT_MATEMATICAS¬PUNT_PROFUNDIZA_MATEMATICA¬PUNT_CIENCIAS_SOCIALES¬DESEMP_PROFUNDIZA_MATEMATICA¬PUNT_PROFUNDIZA_CSOCIALES¬DESEMP_PROFUNDIZA_CSOCIALES¬PUNT_INGLES¬DESEMP_INGLES¬PUNT_BIOLOGIA¬PUNT_FILOSOFIA¬PUNT_PROFUNDIZA_BIOLOGIA¬PUNT_FISICA¬DESEMP_PROFUNDIZA_BIOLOGIA¬PUNT_INTERDISC_MEDIOAMBIENTE¬PUNT_QUIMICA¬PUNT_LENGUAJE¬PUNT_PROFUNDIZA_LENGUAJE¬DESEMP_PROFUNDIZA_LENGUAJE¬PUNT_INTERDISC_VIOLENCIAYSOC¬ESTU_PUESTO¬RECAF_PUNT_SOCIALES_CIUDADANAS¬RECAF_PUNT_INGLES¬RECAF_PUNT_LECTURA_CRITICA¬RECAF_PUNT_MATEMATICAS¬RECAF_PUNT_C_NATURALES¬ESTU_ESTADOINVESTIGACION\n",
      "\n"
     ]
    },
    {
     "name": "stdout",
     "output_type": "stream",
     "text": [
      "Archivo: SB11_20141.txt\n",
      "ESTU_TIPODOCUMENTO¬ESTU_NACIONALIDAD¬ESTU_GENERO¬ESTU_FECHANACIMIENTO¬PERIODO¬ESTU_CONSECUTIVO¬ESTU_ESTUDIANTE¬ESTU_PAIS_RESIDE¬ESTU_DEPTO_RESIDE¬ESTU_COD_RESIDE_DEPTO¬ESTU_MCPIO_RESIDE¬ESTU_COD_RESIDE_MCPIO¬ESTU_AREARESIDE¬ESTU_VALORPENSIONCOLEGIO¬ESTU_VECESPRESENTOEXAMEN¬FAMI_EDUCACIONPADRE¬FAMI_EDUCACIONMADRE¬FAMI_OCUPACIONPADRE¬FAMI_OCUPACIONMADRE¬FAMI_ESTRATOVIVIENDA¬FAMI_NIVELSISBEN¬FAMI_PERSONASHOGAR¬FAMI_CUARTOSHOGAR¬FAMI_PISOSHOGAR¬FAMI_TIENEINTERNET¬FAMI_TIENECOMPUTADOR¬FAMI_TIENELAVADORA¬FAMI_TIENEMICROONDAS¬FAMI_TIENEHORNO¬FAMI_TIENETELEVISOR¬FAMI_TIENEAUTOMOVIL¬FAMI_TIENEDVD¬FAMI_TIENE_NEVERA¬FAMI_TIENE_CELULAR¬FAMI_TELEFONO¬FAMI_INGRESOFMILIARMENSUAL¬ESTU_TRABAJAACTUALMENTE¬ESTU_RECIBESALARIO¬ESTU_ANTECEDENTES¬ESTU_ANOSPREESCOLAR¬ESTU_ANOMATRICULAPRIMERO¬ESTU_ANOTERMINOQUINTO¬ESTU_ANOMATRICULASEXTO¬ESTU_REPROBOPRIMERO¬ESTU_REPROBOSEGUNDO¬ESTU_REPROBOTERCERO¬ESTU_REPROBOCUARTO¬ESTU_REPROBOQUINTO¬ESTU_REPROBOSEXTO¬ESTU_REPROBOSEPTIMO¬ESTU_REPROBOOCTAVO¬ESTU_REPROBONOVENO¬ESTU_REPROBODECIMO¬ESTU_REPROBOONCEMAS¬ESTU_ANOSCOLEGIOACTUAL¬ESTU_CUANTOSCOLEGIOESTUDIO¬ESTU_SERETIROCOLEGIO¬ESTU_RAZONRETIROCOLEGIO¬ESTU_TOTALALUMNOSCURSO¬ESTU_TIPOCARRERADESEADA¬ESTU_COD_IESDESEADA¬ESTU_IESDESEADA¬ESTU_COD_MCPIOIESDESEADA¬ESTU_MCPIOIESDESEADA¬ESTU_PROGRAMADESEADO¬ESTU_INSTPORPRESTIGIO¬ESTU_INSTPORCOSTOMATRICULA¬ESTU_INSTPORUBICACION¬ESTU_INSTPORUNICAQUEOFRECE¬ESTU_INSTPOROPORTUNIDADES¬ESTU_INSTPORAMIGOSESTUDIANDO¬ESTU_INSTPOROTRARAZON¬ESTU_COD_PROGRAMADESEADO¬ESTU_PROGORIENTACIONVOCACIONAL¬ESTU_PROGPORBUSCANDOCARRERA¬ESTU_PROGPORCOLOMBIAAPRENDE¬ESTU_PROGPORINTERESPERSONAL¬ESTU_PROGPORTRADICIONFAMILIAR¬ESTU_PROGPORMEJORARPOSICSOCIAL¬ESTU_PROGPORINFLUENCIAALGUIEN¬ESTU_EXPECTATIVAS¬ESTU_INGRESAR_PROG_EDUSUPERIOR¬ESTU_PUNT_ESPERADO_LENGUAJE¬ESTU_PUNT_ESPERADO_MATEMATICAS¬ESTU_PUNT_ESPERADO_INGLES¬ESTU_SALARIO_ESPERADOBACHILLER¬ESTU_SALARIO_ESPERADOTECNICO¬ESTU_SALARIO_ESPERADOPROFESI¬COLE_CODIGO_ICFES¬COLE_COD_DANE_ESTABLECIMIENTO¬COLE_NOMBRE_ESTABLECIMIENTO¬COLE_GENERO¬COLE_NATURALEZA¬COLE_CALENDARIO¬COLE_BILINGUE¬COLE_CARACTER¬COLE_COD_DANE_SEDE¬COLE_NOMBRE_SEDE¬COLE_SEDE_PRINCIPAL¬COLE_AREA_UBICACION¬COLE_JORNADA¬COLE_COD_MCPIO_UBICACION¬COLE_MCPIO_UBICACION¬COLE_COD_DEPTO_UBICACION¬COLE_DEPTO_UBICACION¬ESTU_PRIVADO_LIBERTAD¬ESTU_COD_MCPIO_PRESENTACION¬ESTU_MCPIO_PRESENTACION¬ESTU_DEPTO_PRESENTACION¬ESTU_COD_DEPTO_PRESENTACION¬PUNT_MATEMATICAS¬PUNT_PROFUNDIZA_MATEMATICA¬DESEMP_PROFUNDIZA_MATEMATICA¬PUNT_CIENCIAS_SOCIALES¬PUNT_PROFUNDIZA_CSOCIALES¬DESEMP_PROFUNDIZA_CSOCIALES¬PUNT_INGLES¬DESEMP_INGLES¬PUNT_BIOLOGIA¬PUNT_PROFUNDIZA_BIOLOGIA¬DESEMP_PROFUNDIZA_BIOLOGIA¬PUNT_FILOSOFIA¬PUNT_INTERDISC_MEDIOAMBIENTE¬PUNT_FISICA¬PUNT_QUIMICA¬PUNT_LENGUAJE¬PUNT_PROFUNDIZA_LENGUAJE¬DESEMP_PROFUNDIZA_LENGUAJE¬PUNT_INTERDISC_VIOLENCIAYSOC¬ESTU_PUESTO¬RECAF_PUNT_SOCIALES_CIUDADANAS¬RECAF_PUNT_INGLES¬RECAF_PUNT_LECTURA_CRITICA¬RECAF_PUNT_MATEMATICAS¬RECAF_PUNT_C_NATURALES¬ESTU_ESTADOINVESTIGACION\n",
      "\n",
      "Archivo: SB11_20142.txt\n",
      "ESTU_TIPODOCUMENTO¬ESTU_NACIONALIDAD¬ESTU_GENERO¬ESTU_FECHANACIMIENTO¬PERIODO¬ESTU_CONSECUTIVO¬ESTU_ESTUDIANTE¬ESTU_PAIS_RESIDE¬ESTU_ETNIA¬ESTU_LIMITA_MOTRIZ¬ESTU_LIMITA_INVIDENTE¬ESTU_LIMITA_CONDICIONESPECIAL¬ESTU_LIMITA_SORDO¬ESTU_LIMITA_SDOWN¬ESTU_LIMITA_AUTISMO¬ESTU_DEPTO_RESIDE¬ESTU_COD_RESIDE_DEPTO¬ESTU_MCPIO_RESIDE¬ESTU_COD_RESIDE_MCPIO¬ESTU_AREARESIDE¬ESTU_VALORPENSIONCOLEGIO¬ESTU_VECESPRESENTOEXAMEN¬FAMI_EDUCACIONPADRE¬FAMI_EDUCACIONMADRE¬FAMI_OCUPACIONPADRE¬FAMI_OCUPACIONMADRE¬FAMI_ESTRATOVIVIENDA¬FAMI_NIVELSISBEN¬FAMI_PERSONASHOGAR¬FAMI_CUARTOSHOGAR¬FAMI_PISOSHOGAR¬FAMI_TIENEINTERNET¬FAMI_TIENECOMPUTADOR¬FAMI_TIENELAVADORA¬FAMI_TIENEMICROONDAS¬FAMI_TIENEHORNO¬FAMI_TIENESERVICIOTV¬FAMI_TIENEAUTOMOVIL¬FAMI_TIENEDVD¬FAMI_TIENE_NEVERA¬FAMI_TIENE_CELULAR¬FAMI_TELEFONO¬FAMI_INGRESOFMILIARMENSUAL¬ESTU_TRABAJAACTUALMENTE¬ESTU_RECIBESALARIO¬ESTU_ANOSPREESCOLAR¬ESTU_ANOMATRICULAPRIMERO¬ESTU_ANOTERMINOQUINTO¬ESTU_ANOMATRICULASEXTO¬ESTU_ANTECEDENTES¬ESTU_REPROBOPRIMERO¬ESTU_REPROBOSEGUNDO¬ESTU_REPROBOTERCERO¬ESTU_REPROBOCUARTO¬ESTU_REPROBOQUINTO¬ESTU_REPROBOSEXTO¬ESTU_REPROBOSEPTIMO¬ESTU_REPROBOOCTAVO¬ESTU_REPROBONOVENO¬ESTU_REPROBODECIMO¬ESTU_REPROBOONCEMAS¬ESTU_ANOSCOLEGIOACTUAL¬ESTU_CUANTOSCOLEGIOESTUDIO¬ESTU_SERETIROCOLEGIO¬ESTU_RAZONRETIROCOLEGIO¬ESTU_TOTALALUMNOSCURSO¬ESTU_TIPOCARRERADESEADA¬ESTU_IESDESEADA¬ESTU_COD_IESDESEADA¬ESTU_MCPIOIESDESEADA¬ESTU_COD_MCPIOIESDESEADA¬ESTU_INSTPORPRESTIGIO¬ESTU_INSTPORCOSTOMATRICULA¬ESTU_INSTPORUBICACION¬ESTU_INSTPORUNICAQUEOFRECE¬ESTU_INSTPOROPORTUNIDADES¬ESTU_INSTPORAMIGOSESTUDIANDO¬ESTU_INSTPOROTRARAZON¬ESTU_COD_PROGRAMADESEADO¬ESTU_PROGRAMADESEADO¬ESTU_PROGORIENTACIONVOCACIONAL¬ESTU_PROGPORBUSCANDOCARRERA¬ESTU_PROGPORCOLOMBIAAPRENDE¬ESTU_PROGPORINTERESPERSONAL¬ESTU_PROGPORTRADICIONFAMILIAR¬ESTU_PROGPORMEJORARPOSICSOCIAL¬ESTU_PROGPORINFLUENCIAALGUIEN¬ESTU_EXPECTATIVAS¬ESTU_INGRESAR_PROG_EDUSUPERIOR¬ESTU_PUNT_ESPERADO_LENGUAJE¬ESTU_PUNT_ESPERADO_MATEMATICAS¬ESTU_PUNT_ESPERADO_INGLES¬ESTU_SALARIO_ESPERADOBACHILLER¬ESTU_SALARIO_ESPERADOTECNICO¬ESTU_SALARIO_ESPERADOPROFESI¬COLE_CODIGO_ICFES¬COLE_COD_DANE_ESTABLECIMIENTO¬COLE_NOMBRE_ESTABLECIMIENTO¬COLE_GENERO¬COLE_NATURALEZA¬COLE_CALENDARIO¬COLE_BILINGUE¬COLE_CARACTER¬COLE_COD_DANE_SEDE¬COLE_NOMBRE_SEDE¬COLE_SEDE_PRINCIPAL¬COLE_AREA_UBICACION¬COLE_JORNADA¬COLE_COD_MCPIO_UBICACION¬COLE_MCPIO_UBICACION¬COLE_COD_DEPTO_UBICACION¬COLE_DEPTO_UBICACION¬ESTU_PRIVADO_LIBERTAD¬ESTU_COD_MCPIO_PRESENTACION¬ESTU_MCPIO_PRESENTACION¬ESTU_DEPTO_PRESENTACION¬ESTU_COD_DEPTO_PRESENTACION¬PUNT_LECTURA_CRITICA¬DECIL_LECTURA_CRITICA¬PUNT_MATEMATICAS¬DECIL_MATEMATICAS¬PUNT_C_NATURALES¬DECIL_C_NATURALES¬PUNT_SOCIALES_CIUDADANAS¬DECIL_SOCIALES_CIUDADANAS¬PUNT_RAZONA_CUANTITATIVO¬DECIL_RAZONA_CUANTITATIVO¬PUNT_COMP_CIUDADANA¬DECIL_COMP_CIUDADANA¬PUNT_INGLES¬DECIL_INGLES¬DESEMP_INGLES¬PUNT_GLOBAL¬ESTU_PUESTO¬ESTU_INSE_INDIVIDUAL¬ESTU_NSE_INDIVIDUAL¬ESTU_ESTADOINVESTIGACION\n",
      "\n",
      "Archivo: SB11_20151.txt\n",
      "ESTU_TIPODOCUMENTO¬ESTU_NACIONALIDAD¬ESTU_GENERO¬ESTU_FECHANACIMIENTO¬PERIODO¬ESTU_CONSECUTIVO¬ESTU_ESTUDIANTE¬ESTU_PAIS_RESIDE¬ESTU_ETNIA¬ESTU_LIMITA_MOTRIZ¬ESTU_LIMITA_INVIDENTE¬ESTU_LIMITA_CONDICIONESPECIAL¬ESTU_LIMITA_SORDO¬ESTU_LIMITA_SDOWN¬ESTU_LIMITA_AUTISMO¬ESTU_DEPTO_RESIDE¬ESTU_COD_RESIDE_DEPTO¬ESTU_MCPIO_RESIDE¬ESTU_COD_RESIDE_MCPIO¬ESTU_AREARESIDE¬ESTU_VALORPENSIONCOLEGIO¬ESTU_VECESPRESENTOEXAMEN¬FAMI_EDUCACIONPADRE¬FAMI_EDUCACIONMADRE¬FAMI_OCUPACIONPADRE¬FAMI_OCUPACIONMADRE¬FAMI_NUMHERMANOS¬FAMI_ESTRATOVIVIENDA¬FAMI_NIVELSISBEN¬FAMI_PERSONASHOGAR¬FAMI_CUARTOSHOGAR¬FAMI_PISOSHOGAR¬FAMI_TIENEINTERNET¬FAMI_TIENECOMPUTADOR¬FAMI_TIENELAVADORA¬FAMI_TIENEMICROONDAS¬FAMI_TIENEHORNO¬FAMI_TIENESERVICIOTV¬FAMI_TIENEAUTOMOVIL¬FAMI_TIENEDVD¬FAMI_TELEFONO¬FAMI_NUMLIBROS¬FAMI_INGRESOFMILIARMENSUAL¬ESTU_TRABAJAACTUALMENTE¬ESTU_RECIBESALARIO¬ESTU_ANTECEDENTES¬ESTU_ANOSPREESCOLAR¬ESTU_ANOMATRICULAPRIMERO¬ESTU_ANOTERMINOQUINTO¬ESTU_ANOMATRICULASEXTO¬ESTU_REPROBOPRIMERO¬ESTU_REPROBOSEGUNDO¬ESTU_REPROBOTERCERO¬ESTU_REPROBOCUARTO¬ESTU_REPROBOQUINTO¬ESTU_REPROBOSEXTO¬ESTU_REPROBOSEPTIMO¬ESTU_REPROBOOCTAVO¬ESTU_REPROBONOVENO¬ESTU_REPROBOONCEMAS¬ESTU_ANOSCOLEGIOACTUAL¬ESTU_CUANTOSCOLEGIOESTUDIO¬ESTU_SERETIROCOLEGIO¬ESTU_RAZONRETIROCOLEGIO¬ESTU_TOTALALUMNOSCURSO¬ESTU_VECESFALTOCOLEGIO¬ESTU_PROMEDIOSALON¬ESTU_TIPOCARRERADESEADA¬ESTU_IESDESEADA¬ESTU_COD_IESDESEADA¬ESTU_MCPIOIESDESEADA¬ESTU_COD_MCPIOIESDESEADA¬ESTU_INSTPORPRESTIGIO¬ESTU_INSTPORCOSTOMATRICULA¬ESTU_INSTPORUBICACION¬ESTU_INSTPORUNICAQUEOFRECE¬ESTU_INSTPOROPORTUNIDADES¬ESTU_INSTPORAMIGOSESTUDIANDO¬ESTU_INSTPOROTRARAZON¬ESTU_COD_PROGRAMADESEADO¬ESTU_PROGRAMADESEADO¬ESTU_PROGORIENTACIONVOCACIONAL¬ESTU_PROGPORBUSCANDOCARRERA¬ESTU_PROGPORCOLOMBIAAPRENDE¬ESTU_PROGPORINTERESPERSONAL¬ESTU_PROGPORTRADICIONFAMILIAR¬ESTU_PROGPORMEJORARPOSICSOCIAL¬ESTU_PROGPORINFLUENCIAALGUIEN¬COLE_CODIGO_ICFES¬COLE_COD_DANE_ESTABLECIMIENTO¬COLE_NOMBRE_ESTABLECIMIENTO¬COLE_GENERO¬COLE_NATURALEZA¬COLE_CALENDARIO¬COLE_BILINGUE¬COLE_CARACTER¬COLE_COD_DANE_SEDE¬COLE_NOMBRE_SEDE¬COLE_SEDE_PRINCIPAL¬COLE_AREA_UBICACION¬COLE_JORNADA¬COLE_COD_MCPIO_UBICACION¬COLE_MCPIO_UBICACION¬COLE_COD_DEPTO_UBICACION¬COLE_DEPTO_UBICACION¬ESTU_PRIVADO_LIBERTAD¬ESTU_COD_MCPIO_PRESENTACION¬ESTU_MCPIO_PRESENTACION¬ESTU_DEPTO_PRESENTACION¬ESTU_COD_DEPTO_PRESENTACION¬PUNT_LECTURA_CRITICA¬DECIL_LECTURA_CRITICA¬PUNT_MATEMATICAS¬DECIL_MATEMATICAS¬PUNT_C_NATURALES¬DECIL_C_NATURALES¬PUNT_SOCIALES_CIUDADANAS¬DECIL_SOCIALES_CIUDADANAS¬PUNT_RAZONA_CUANTITATIVO¬DECIL_RAZONA_CUANTITATIVO¬PUNT_COMP_CIUDADANA¬DECIL_COMP_CIUDADANA¬PUNT_INGLES¬DECIL_INGLES¬DESEMP_INGLES¬PUNT_GLOBAL¬ESTU_PUESTO¬ESTU_INSE_INDIVIDUAL¬ESTU_NSE_INDIVIDUAL¬ESTU_ESTADOINVESTIGACION\n",
      "\n",
      "Archivo: SB11_20152.txt\n",
      "ESTU_TIPODOCUMENTO¬ESTU_NACIONALIDAD¬ESTU_GENERO¬ESTU_FECHANACIMIENTO¬PERIODO¬ESTU_CONSECUTIVO¬ESTU_ESTUDIANTE¬ESTU_PAIS_RESIDE¬ESTU_TIENEETNIA¬ESTU_ETNIA¬ESTU_LIMITA_MOTRIZ¬ESTU_LIMITA_INVIDENTE¬ESTU_LIMITA_CONDICIONESPECIAL¬ESTU_LIMITA_SORDO¬ESTU_LIMITA_SDOWN¬ESTU_LIMITA_AUTISMO¬ESTU_DEPTO_RESIDE¬ESTU_COD_RESIDE_DEPTO¬ESTU_MCPIO_RESIDE¬ESTU_COD_RESIDE_MCPIO¬ESTU_AREARESIDE¬ESTU_VALORPENSIONCOLEGIO¬ESTU_VECESPRESENTOEXAMEN¬FAMI_EDUCACIONPADRE¬FAMI_EDUCACIONMADRE¬FAMI_OCUPACIONPADRE¬FAMI_OCUPACIONMADRE¬FAMI_NUMHERMANOS¬FAMI_ESTRATOVIVIENDA¬FAMI_NIVELSISBEN¬FAMI_PERSONASHOGAR¬FAMI_CUARTOSHOGAR¬FAMI_PISOSHOGAR¬FAMI_TIENEINTERNET¬FAMI_TIENECOMPUTADOR¬FAMI_TIENELAVADORA¬FAMI_TIENEMICROONDAS¬FAMI_TIENEHORNO¬FAMI_TIENESERVICIOTV¬FAMI_TIENEAUTOMOVIL¬FAMI_TIENEDVD¬FAMI_TELEFONO¬FAMI_NUMLIBROS¬FAMI_INGRESOFMILIARMENSUAL¬ESTU_TRABAJAACTUALMENTE¬ESTU_RECIBESALARIO¬COLE_CODIGO_ICFES¬COLE_COD_DANE_ESTABLECIMIENTO¬COLE_NOMBRE_ESTABLECIMIENTO¬COLE_GENERO¬COLE_NATURALEZA¬COLE_CALENDARIO¬COLE_BILINGUE¬COLE_CARACTER¬COLE_COD_DANE_SEDE¬COLE_NOMBRE_SEDE¬COLE_SEDE_PRINCIPAL¬COLE_AREA_UBICACION¬COLE_JORNADA¬COLE_COD_MCPIO_UBICACION¬COLE_MCPIO_UBICACION¬COLE_COD_DEPTO_UBICACION¬COLE_DEPTO_UBICACION¬ESTU_PRIVADO_LIBERTAD¬ESTU_COD_MCPIO_PRESENTACION¬ESTU_MCPIO_PRESENTACION¬ESTU_DEPTO_PRESENTACION¬ESTU_COD_DEPTO_PRESENTACION¬PUNT_LECTURA_CRITICA¬DECIL_LECTURA_CRITICA¬PUNT_MATEMATICAS¬DECIL_MATEMATICAS¬PUNT_C_NATURALES¬DECIL_C_NATURALES¬PUNT_SOCIALES_CIUDADANAS¬DECIL_SOCIALES_CIUDADANAS¬PUNT_RAZONA_CUANTITATIVO¬DECIL_RAZONA_CUANTITATIVO¬PUNT_COMP_CIUDADANA¬DECIL_COMP_CIUDADANA¬PUNT_INGLES¬DECIL_INGLES¬DESEMP_INGLES¬PUNT_GLOBAL¬ESTU_PUESTO¬ESTU_INSE_INDIVIDUAL¬ESTU_NSE_INDIVIDUAL¬ESTU_ESTADOINVESTIGACION\n",
      "\n"
     ]
    },
    {
     "name": "stdout",
     "output_type": "stream",
     "text": [
      "Archivo: SB11_20161.txt\n",
      "ESTU_TIPODOCUMENTO¬ESTU_NACIONALIDAD¬ESTU_GENERO¬ESTU_FECHANACIMIENTO¬PERIODO¬ESTU_CONSECUTIVO¬ESTU_ESTUDIANTE¬ESTU_PAIS_RESIDE¬ESTU_TIENEETNIA¬ESTU_ETNIA¬ESTU_DEPTO_RESIDE¬ESTU_COD_RESIDE_DEPTO¬ESTU_MCPIO_RESIDE¬ESTU_COD_RESIDE_MCPIO¬ESTU_AREARESIDE¬ESTU_VALORPENSIONCOLEGIO¬ESTU_VECESPRESENTOEXAMEN¬FAMI_EDUCACIONPADRE¬FAMI_EDUCACIONMADRE¬FAMI_OCUPACIONPADRE¬FAMI_OCUPACIONMADRE¬FAMI_NUMHERMANOS¬FAMI_ESTRATOVIVIENDA¬FAMI_NIVELSISBEN¬FAMI_PERSONASHOGAR¬FAMI_CUARTOSHOGAR¬FAMI_PISOSHOGAR¬FAMI_TIENEINTERNET¬FAMI_TIENECOMPUTADOR¬FAMI_TIENELAVADORA¬FAMI_TIENEMICROONDAS¬FAMI_TIENEHORNO¬FAMI_TIENESERVICIOTV¬FAMI_TIENEAUTOMOVIL¬FAMI_TIENEDVD¬FAMI_TELEFONO¬FAMI_NUMLIBROS¬FAMI_INGRESOFMILIARMENSUAL¬ESTU_TRABAJAACTUALMENTE¬ESTU_RECIBESALARIO¬COLE_CODIGO_ICFES¬COLE_COD_DANE_ESTABLECIMIENTO¬COLE_NOMBRE_ESTABLECIMIENTO¬COLE_GENERO¬COLE_NATURALEZA¬COLE_CALENDARIO¬COLE_BILINGUE¬COLE_CARACTER¬COLE_COD_DANE_SEDE¬COLE_NOMBRE_SEDE¬COLE_SEDE_PRINCIPAL¬COLE_AREA_UBICACION¬COLE_JORNADA¬COLE_COD_MCPIO_UBICACION¬COLE_MCPIO_UBICACION¬COLE_COD_DEPTO_UBICACION¬COLE_DEPTO_UBICACION¬ESTU_PRIVADO_LIBERTAD¬ESTU_COD_MCPIO_PRESENTACION¬ESTU_MCPIO_PRESENTACION¬ESTU_DEPTO_PRESENTACION¬ESTU_COD_DEPTO_PRESENTACION¬PUNT_LECTURA_CRITICA¬PERCENTIL_LECTURA_CRITICA¬DESEMP_LECTURA_CRITICA¬PUNT_MATEMATICAS¬PERCENTIL_MATEMATICAS¬DESEMP_MATEMATICAS¬PUNT_C_NATURALES¬PERCENTIL_C_NATURALES¬DESEMP_C_NATURALES¬PUNT_SOCIALES_CIUDADANAS¬PERCENTIL_SOCIALES_CIUDADANAS¬DESEMP_SOCIALES_CIUDADANAS¬PUNT_INGLES¬PERCENTIL_INGLES¬DESEMP_INGLES¬PUNT_GLOBAL¬PERCENTIL_GLOBAL¬ESTU_INSE_INDIVIDUAL¬ESTU_NSE_INDIVIDUAL¬ESTU_NSE_ESTABLECIMIENTO¬ESTU_ESTADOINVESTIGACION\n",
      "\n",
      "Archivo: SB11_20162.txt\n",
      "ESTU_TIPODOCUMENTO¬ESTU_NACIONALIDAD¬ESTU_GENERO¬ESTU_FECHANACIMIENTO¬PERIODO¬ESTU_CONSECUTIVO¬ESTU_ESTUDIANTE¬ESTU_PAIS_RESIDE¬ESTU_TIENEETNIA¬ESTU_ETNIA¬ESTU_DEPTO_RESIDE¬ESTU_COD_RESIDE_DEPTO¬ESTU_MCPIO_RESIDE¬ESTU_COD_RESIDE_MCPIO¬ESTU_AREARESIDE¬ESTU_VALORPENSIONCOLEGIO¬ESTU_VECESPRESENTOEXAMEN¬FAMI_EDUCACIONPADRE¬FAMI_EDUCACIONMADRE¬FAMI_OCUPACIONPADRE¬FAMI_OCUPACIONMADRE¬FAMI_NUMHERMANOS¬FAMI_ESTRATOVIVIENDA¬FAMI_NIVELSISBEN¬FAMI_PERSONASHOGAR¬FAMI_CUARTOSHOGAR¬FAMI_PISOSHOGAR¬FAMI_TIENEINTERNET¬FAMI_TIENECOMPUTADOR¬FAMI_TIENELAVADORA¬FAMI_TIENEMICROONDAS¬FAMI_TIENEHORNO¬FAMI_TIENESERVICIOTV¬FAMI_TIENEAUTOMOVIL¬FAMI_TIENEDVD¬FAMI_TELEFONO¬FAMI_NUMLIBROS¬FAMI_INGRESOFMILIARMENSUAL¬ESTU_TRABAJAACTUALMENTE¬ESTU_RECIBESALARIO¬COLE_CODIGO_ICFES¬COLE_COD_DANE_ESTABLECIMIENTO¬COLE_NOMBRE_ESTABLECIMIENTO¬COLE_GENERO¬COLE_NATURALEZA¬COLE_CALENDARIO¬COLE_BILINGUE¬COLE_CARACTER¬COLE_COD_DANE_SEDE¬COLE_NOMBRE_SEDE¬COLE_SEDE_PRINCIPAL¬COLE_AREA_UBICACION¬COLE_JORNADA¬COLE_COD_MCPIO_UBICACION¬COLE_MCPIO_UBICACION¬COLE_COD_DEPTO_UBICACION¬COLE_DEPTO_UBICACION¬ESTU_PRIVADO_LIBERTAD¬ESTU_COD_MCPIO_PRESENTACION¬ESTU_MCPIO_PRESENTACION¬ESTU_DEPTO_PRESENTACION¬ESTU_COD_DEPTO_PRESENTACION¬PUNT_LECTURA_CRITICA¬PERCENTIL_LECTURA_CRITICA¬DESEMP_LECTURA_CRITICA¬PUNT_MATEMATICAS¬PERCENTIL_MATEMATICAS¬DESEMP_MATEMATICAS¬PUNT_C_NATURALES¬PERCENTIL_C_NATURALES¬DESEMP_C_NATURALES¬PUNT_SOCIALES_CIUDADANAS¬PERCENTIL_SOCIALES_CIUDADANAS¬DESEMP_SOCIALES_CIUDADANAS¬PUNT_INGLES¬PERCENTIL_INGLES¬DESEMP_INGLES¬PUNT_GLOBAL¬PERCENTIL_GLOBAL¬ESTU_INSE_INDIVIDUAL¬ESTU_NSE_INDIVIDUAL¬ESTU_NSE_ESTABLECIMIENTO¬ESTU_ESTADOINVESTIGACION\n",
      "\n",
      "Archivo: SB11_20171.txt\n",
      "ESTU_TIPODOCUMENTO¬ESTU_NACIONALIDAD¬ESTU_GENERO¬ESTU_FECHANACIMIENTO¬PERIODO¬ESTU_CONSECUTIVO¬ESTU_ESTUDIANTE¬ESTU_PAIS_RESIDE¬ESTU_TIENEETNIA¬ESTU_ETNIA¬ESTU_DEPTO_RESIDE¬ESTU_COD_RESIDE_DEPTO¬ESTU_MCPIO_RESIDE¬ESTU_COD_RESIDE_MCPIO¬FAMI_EDUCACIONPADRE¬FAMI_EDUCACIONMADRE¬FAMI_ESTRATOVIVIENDA¬FAMI_PERSONASHOGAR¬FAMI_CUARTOSHOGAR¬FAMI_TIENEINTERNET¬FAMI_TIENECOMPUTADOR¬FAMI_TIENELAVADORA¬FAMI_TIENEHORNOMICROOGAS¬FAMI_TIENESERVICIOTV¬FAMI_TIENEAUTOMOVIL¬FAMI_TIENEMOTOCICLETA¬FAMI_TIENECONSOLAVIDEOJUEGOS¬FAMI_NUMLIBROS¬FAMI_COMELECHEDERIVADOS¬FAMI_COMECARNEPESCADOHUEVO¬FAMI_COMECEREALFRUTOSLEGUMBRE¬FAMI_TRABAJOLABORPADRE¬FAMI_TRABAJOLABORMADRE¬FAMI_SITUACIONECONOMICA¬ESTU_DEDICACIONLECTURADIARIA¬ESTU_DEDICACIONINTERNET¬ESTU_HORASSEMANATRABAJA¬ESTU_TIPOREMUNERACION¬COLE_CODIGO_ICFES¬COLE_COD_DANE_ESTABLECIMIENTO¬COLE_NOMBRE_ESTABLECIMIENTO¬COLE_GENERO¬COLE_NATURALEZA¬COLE_CALENDARIO¬COLE_BILINGUE¬COLE_CARACTER¬COLE_COD_DANE_SEDE¬COLE_NOMBRE_SEDE¬COLE_SEDE_PRINCIPAL¬COLE_AREA_UBICACION¬COLE_JORNADA¬COLE_COD_MCPIO_UBICACION¬COLE_MCPIO_UBICACION¬COLE_COD_DEPTO_UBICACION¬COLE_DEPTO_UBICACION¬ESTU_PRIVADO_LIBERTAD¬ESTU_COD_MCPIO_PRESENTACION¬ESTU_MCPIO_PRESENTACION¬ESTU_DEPTO_PRESENTACION¬ESTU_COD_DEPTO_PRESENTACION¬PUNT_LECTURA_CRITICA¬PERCENTIL_LECTURA_CRITICA¬DESEMP_LECTURA_CRITICA¬PUNT_MATEMATICAS¬PERCENTIL_MATEMATICAS¬DESEMP_MATEMATICAS¬PUNT_C_NATURALES¬PERCENTIL_C_NATURALES¬DESEMP_C_NATURALES¬PUNT_SOCIALES_CIUDADANAS¬PERCENTIL_SOCIALES_CIUDADANAS¬DESEMP_SOCIALES_CIUDADANAS¬PUNT_INGLES¬PERCENTIL_INGLES¬DESEMP_INGLES¬PUNT_GLOBAL¬PERCENTIL_GLOBAL¬ESTU_INSE_INDIVIDUAL¬ESTU_NSE_INDIVIDUAL¬ESTU_NSE_ESTABLECIMIENTO¬ESTU_ESTADOINVESTIGACION\n",
      "\n",
      "Archivo: SB11_20172.txt\n",
      "estu_tipodocumento¬estu_nacionalidad¬estu_genero¬estu_fechanacimiento¬periodo¬estu_consecutivo¬estu_estudiante¬estu_pais_reside¬estu_tieneetnia¬estu_etnia¬estu_limita_motriz¬estu_limita_invidente¬estu_limita_condicionespecial¬estu_limita_sordo¬estu_limita_sdown¬estu_limita_autismo¬estu_depto_reside¬estu_cod_reside_depto¬estu_mcpio_reside¬estu_cod_reside_mcpio¬fami_educacionpadre¬fami_educacionmadre¬fami_estratovivienda¬fami_personashogar¬fami_cuartoshogar¬fami_tienecomputador¬fami_tienelavadora¬fami_tienehornomicroogas¬fami_tieneserviciotv¬fami_tieneautomovil¬fami_tienemotocicleta¬fami_tieneconsolavideojuegos¬fami_numlibros¬fami_comelechederivados¬fami_comecarnepescadohuevo¬fami_comecerealfrutoslegumbre¬fami_trabajolaborpadre¬fami_trabajolabormadre¬fami_situacioneconomica¬estu_dedicacionlecturadiaria¬estu_dedicacioninternet¬estu_horassemanatrabaja¬estu_tiporemuneracion¬cole_codigo_icfes¬cole_cod_dane_establecimiento¬cole_nombre_establecimiento¬cole_genero¬cole_naturaleza¬cole_calendario¬cole_bilingue¬cole_caracter¬cole_cod_dane_sede¬cole_nombre_sede¬cole_sede_principal¬cole_area_ubicacion¬cole_jornada¬cole_cod_mcpio_ubicacion¬cole_mcpio_ubicacion¬cole_cod_depto_ubicacion¬cole_depto_ubicacion¬estu_privado_libertad¬estu_cod_mcpio_presentacion¬estu_mcpio_presentacion¬estu_depto_presentacion¬estu_cod_depto_presentacion¬punt_lectura_critica¬percentil_lectura_critica¬desemp_lectura_critica¬punt_matematicas¬percentil_matematicas¬desemp_matematicas¬punt_c_naturales¬percentil_c_naturales¬desemp_c_naturales¬punt_sociales_ciudadanas¬percentil_sociales_ciudadanas¬desemp_sociales_ciudadanas¬punt_ingles¬percentil_ingles¬desemp_ingles¬punt_global¬percentil_global¬estu_inse_individual¬estu_nse_individual¬estu_nse_establecimiento¬estu_pilopaga\n",
      "\n",
      "Archivo: SB11_20181.txt\n",
      "estu_tipodocumento¬estu_nacionalidad¬estu_genero¬estu_fechanacimiento¬periodo¬estu_consecutivo¬estu_estudiante¬estu_pais_reside¬estu_tieneetnia¬estu_etnia¬estu_limita_motriz¬estu_limita_invidente¬estu_limita_condicionespecial¬estu_limita_sordo¬estu_limita_sdown¬estu_limita_autismo¬estu_depto_reside¬estu_cod_reside_depto¬estu_mcpio_reside¬estu_cod_reside_mcpio¬fami_estratovivienda¬fami_personashogar¬fami_cuartoshogar¬fami_educacionpadre¬fami_educacionmadre¬fami_trabajolaborpadre¬fami_trabajolabormadre¬fami_tieneinternet¬fami_tieneserviciotv¬fami_tienecomputador¬fami_tienelavadora¬fami_tienehornomicroogas¬fami_tieneautomovil¬fami_tienemotocicleta¬fami_tieneconsolavideojuegos¬fami_numlibros¬fami_comelechederivados¬fami_comecarnepescadohuevo¬fami_comecerealfrutoslegumbre¬fami_situacioneconomica¬estu_dedicacionlecturadiaria¬estu_dedicacioninternet¬estu_horassemanatrabaja¬estu_tiporemuneracion¬cole_codigo_icfes¬cole_cod_dane_establecimiento¬cole_nombre_establecimiento¬cole_genero¬cole_naturaleza¬cole_calendario¬cole_bilingue¬cole_caracter¬cole_cod_dane_sede¬cole_nombre_sede¬cole_sede_principal¬cole_area_ubicacion¬cole_jornada¬cole_cod_mcpio_ubicacion¬cole_mcpio_ubicacion¬cole_cod_depto_ubicacion¬cole_depto_ubicacion¬estu_privado_libertad¬estu_cod_mcpio_presentacion¬estu_mcpio_presentacion¬estu_depto_presentacion¬estu_cod_depto_presentacion¬punt_lectura_critica¬percentil_lectura_critica¬desemp_lectura_critica¬punt_matematicas¬percentil_matematicas¬desemp_matematicas¬punt_c_naturales¬percentil_c_naturales¬desemp_c_naturales¬punt_sociales_ciudadanas¬percentil_sociales_ciudadanas¬desemp_sociales_ciudadanas¬punt_ingles¬percentil_ingles¬desemp_ingles¬punt_global¬percentil_global¬estu_inse_individual¬estu_nse_individual¬estu_estadoinvestigacion¬estu_pilopaga\n",
      "\n",
      "Archivo: SB11_20182.txt\n",
      "ESTU_TIPODOCUMENTO¬ESTU_NACIONALIDAD¬ESTU_GENERO¬ESTU_FECHANACIMIENTO¬PERIODO¬ESTU_CONSECUTIVO¬ESTU_ESTUDIANTE¬ESTU_PAIS_RESIDE¬ESTU_TIENEETNIA¬ESTU_ETNIA¬ESTU_LIMITA_MOTRIZ¬ESTU_DEPTO_RESIDE¬ESTU_COD_RESIDE_DEPTO¬ESTU_MCPIO_RESIDE¬ESTU_COD_RESIDE_MCPIO¬FAMI_ESTRATOVIVIENDA¬FAMI_PERSONASHOGAR¬FAMI_CUARTOSHOGAR¬FAMI_EDUCACIONPADRE¬FAMI_EDUCACIONMADRE¬FAMI_TRABAJOLABORPADRE¬FAMI_TRABAJOLABORMADRE¬FAMI_TIENEINTERNET¬FAMI_TIENESERVICIOTV¬FAMI_TIENECOMPUTADOR¬FAMI_TIENELAVADORA¬FAMI_TIENEHORNOMICROOGAS¬FAMI_TIENEAUTOMOVIL¬FAMI_TIENEMOTOCICLETA¬FAMI_TIENECONSOLAVIDEOJUEGOS¬FAMI_NUMLIBROS¬FAMI_COMELECHEDERIVADOS¬FAMI_COMECARNEPESCADOHUEVO¬FAMI_COMECEREALFRUTOSLEGUMBRE¬FAMI_SITUACIONECONOMICA¬ESTU_DEDICACIONLECTURADIARIA¬ESTU_DEDICACIONINTERNET¬ESTU_HORASSEMANATRABAJA¬ESTU_TIPOREMUNERACION¬COLE_CODIGO_ICFES¬COLE_COD_DANE_ESTABLECIMIENTO¬COLE_NOMBRE_ESTABLECIMIENTO¬COLE_GENERO¬COLE_NATURALEZA¬COLE_CALENDARIO¬COLE_BILINGUE¬COLE_CARACTER¬COLE_COD_DANE_SEDE¬COLE_NOMBRE_SEDE¬COLE_SEDE_PRINCIPAL¬COLE_AREA_UBICACION¬COLE_JORNADA¬COLE_COD_MCPIO_UBICACION¬COLE_MCPIO_UBICACION¬COLE_COD_DEPTO_UBICACION¬COLE_DEPTO_UBICACION¬ESTU_PRIVADO_LIBERTAD¬ESTU_COD_MCPIO_PRESENTACION¬ESTU_MCPIO_PRESENTACION¬ESTU_DEPTO_PRESENTACION¬ESTU_COD_DEPTO_PRESENTACION¬PUNT_LECTURA_CRITICA¬PERCENTIL_LECTURA_CRITICA¬DESEMP_LECTURA_CRITICA¬PUNT_MATEMATICAS¬PERCENTIL_MATEMATICAS¬DESEMP_MATEMATICAS¬PUNT_C_NATURALES¬PERCENTIL_C_NATURALES¬DESEMP_C_NATURALES¬PUNT_SOCIALES_CIUDADANAS¬PERCENTIL_SOCIALES_CIUDADANAS¬DESEMP_SOCIALES_CIUDADANAS¬PUNT_INGLES¬PERCENTIL_INGLES¬DESEMP_INGLES¬PUNT_GLOBAL¬PERCENTIL_GLOBAL¬ESTU_NSE_ESTABLECIMIENTO¬ESTU_INSE_INDIVIDUAL¬ESTU_NSE_INDIVIDUAL¬ESTU_ESTADOINVESTIGACION¬ESTU_GENERACION-E\n",
      "\n",
      "Archivo: SB11_20191.txt\n",
      "ESTU_TIPODOCUMENTO¬ESTU_NACIONALIDAD¬ESTU_GENERO¬ESTU_FECHANACIMIENTO¬PERIODO¬ESTU_CONSECUTIVO¬ESTU_ESTUDIANTE¬ESTU_PAIS_RESIDE¬ESTU_TIENEETNIA¬ESTU_ETNIA¬ESTU_DEPTO_RESIDE¬ESTU_COD_RESIDE_DEPTO¬ESTU_MCPIO_RESIDE¬ESTU_COD_RESIDE_MCPIO¬FAMI_ESTRATOVIVIENDA¬FAMI_PERSONASHOGAR¬FAMI_CUARTOSHOGAR¬FAMI_EDUCACIONPADRE¬FAMI_EDUCACIONMADRE¬FAMI_TRABAJOLABORPADRE¬FAMI_TRABAJOLABORMADRE¬FAMI_TIENEINTERNET¬FAMI_TIENESERVICIOTV¬FAMI_TIENECOMPUTADOR¬FAMI_TIENELAVADORA¬FAMI_TIENEHORNOMICROOGAS¬FAMI_TIENEAUTOMOVIL¬FAMI_TIENEMOTOCICLETA¬FAMI_TIENECONSOLAVIDEOJUEGOS¬FAMI_NUMLIBROS¬FAMI_COMELECHEDERIVADOS¬FAMI_COMECARNEPESCADOHUEVO¬FAMI_COMECEREALFRUTOSLEGUMBRE¬FAMI_SITUACIONECONOMICA¬ESTU_DEDICACIONLECTURADIARIA¬ESTU_DEDICACIONINTERNET¬ESTU_HORASSEMANATRABAJA¬ESTU_TIPOREMUNERACION¬COLE_CODIGO_ICFES¬COLE_COD_DANE_ESTABLECIMIENTO¬COLE_NOMBRE_ESTABLECIMIENTO¬COLE_GENERO¬COLE_NATURALEZA¬COLE_CALENDARIO¬COLE_BILINGUE¬COLE_CARACTER¬COLE_COD_DANE_SEDE¬COLE_NOMBRE_SEDE¬COLE_SEDE_PRINCIPAL¬COLE_AREA_UBICACION¬COLE_JORNADA¬COLE_COD_MCPIO_UBICACION¬COLE_MCPIO_UBICACION¬COLE_COD_DEPTO_UBICACION¬COLE_DEPTO_UBICACION¬ESTU_PRIVADO_LIBERTAD¬ESTU_COD_MCPIO_PRESENTACION¬ESTU_MCPIO_PRESENTACION¬ESTU_DEPTO_PRESENTACION¬ESTU_COD_DEPTO_PRESENTACION¬PUNT_LECTURA_CRITICA¬PERCENTIL_LECTURA_CRITICA¬DESEMP_LECTURA_CRITICA¬PUNT_MATEMATICAS¬PERCENTIL_MATEMATICAS¬DESEMP_MATEMATICAS¬PUNT_C_NATURALES¬PERCENTIL_C_NATURALES¬DESEMP_C_NATURALES¬PUNT_SOCIALES_CIUDADANAS¬PERCENTIL_SOCIALES_CIUDADANAS¬DESEMP_SOCIALES_CIUDADANAS¬PUNT_INGLES¬PERCENTIL_INGLES¬DESEMP_INGLES¬PUNT_GLOBAL¬PERCENTIL_GLOBAL¬ESTU_INSE_INDIVIDUAL¬ESTU_NSE_INDIVIDUAL¬ESTU_NSE_ESTABLECIMIENTO¬ESTU_ESTADOINVESTIGACION¬ESTU_GENERACION-E\n",
      "\n"
     ]
    }
   ],
   "source": [
    "for estu in estudiantes:\n",
    "    linea = sc.textFile(base2 + '/' + estu)\n",
    "    print(\"Archivo: \" + estu + \"\\n\" + linea.first() + '\\n')"
   ]
  }
 ],
 "metadata": {
  "kernelspec": {
   "display_name": "Python 3",
   "language": "python",
   "name": "python3"
  },
  "language_info": {
   "codemirror_mode": {
    "name": "ipython",
    "version": 3
   },
   "file_extension": ".py",
   "mimetype": "text/x-python",
   "name": "python",
   "nbconvert_exporter": "python",
   "pygments_lexer": "ipython3",
   "version": "3.7.3"
  }
 },
 "nbformat": 4,
 "nbformat_minor": 2
}
