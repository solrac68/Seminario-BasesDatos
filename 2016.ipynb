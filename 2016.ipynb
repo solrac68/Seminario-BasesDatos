{
 "cells": [
  {
   "cell_type": "code",
   "execution_count": 1,
   "metadata": {},
   "outputs": [],
   "source": [
    "from pyspark.sql import SparkSession\n",
    "from pyspark.sql import Row\n",
    "from functools import reduce\n",
    "from pyspark.sql import DataFrame\n",
    "from pyspark.sql.types import StringType,DoubleType,FloatType\n",
    "from pyspark.sql.functions import udf\n",
    "from pyspark.sql.functions import regexp_replace\n",
    "from pyspark.sql.functions import lit\n",
    "import locale\n",
    "import sys\n",
    "import os\n",
    "import re"
   ]
  },
  {
   "cell_type": "code",
   "execution_count": 2,
   "metadata": {},
   "outputs": [
    {
     "data": {
      "text/html": [
       "\n",
       "        <div>\n",
       "            <p><b>SparkContext</b></p>\n",
       "\n",
       "            <p><a href=\"http://nodo1:4046\">Spark UI</a></p>\n",
       "\n",
       "            <dl>\n",
       "              <dt>Version</dt>\n",
       "                <dd><code>v2.4.3</code></dd>\n",
       "              <dt>Master</dt>\n",
       "                <dd><code>local[*]</code></dd>\n",
       "              <dt>AppName</dt>\n",
       "                <dd><code>PySparkShell</code></dd>\n",
       "            </dl>\n",
       "        </div>\n",
       "        "
      ],
      "text/plain": [
       "<SparkContext master=local[*] appName=PySparkShell>"
      ]
     },
     "execution_count": 2,
     "metadata": {},
     "output_type": "execute_result"
    }
   ],
   "source": [
    "sc"
   ]
  },
  {
   "cell_type": "code",
   "execution_count": 3,
   "metadata": {},
   "outputs": [
    {
     "data": {
      "text/html": [
       "\n",
       "            <div>\n",
       "                <p><b>SparkSession - hive</b></p>\n",
       "                \n",
       "        <div>\n",
       "            <p><b>SparkContext</b></p>\n",
       "\n",
       "            <p><a href=\"http://nodo1:4046\">Spark UI</a></p>\n",
       "\n",
       "            <dl>\n",
       "              <dt>Version</dt>\n",
       "                <dd><code>v2.4.3</code></dd>\n",
       "              <dt>Master</dt>\n",
       "                <dd><code>local[*]</code></dd>\n",
       "              <dt>AppName</dt>\n",
       "                <dd><code>PySparkShell</code></dd>\n",
       "            </dl>\n",
       "        </div>\n",
       "        \n",
       "            </div>\n",
       "        "
      ],
      "text/plain": [
       "<pyspark.sql.session.SparkSession at 0x7f8d64210630>"
      ]
     },
     "execution_count": 3,
     "metadata": {},
     "output_type": "execute_result"
    }
   ],
   "source": [
    "spark"
   ]
  },
  {
   "cell_type": "markdown",
   "metadata": {},
   "source": [
    "# Leyendo lista de Colegios y Estudiantes"
   ]
  },
  {
   "cell_type": "code",
   "execution_count": 4,
   "metadata": {},
   "outputs": [],
   "source": [
    "base = '../Colegios'\n",
    "base2 = '../SB'\n",
    "colegios = os.listdir('../Colegios')\n",
    "estudiantes = os.listdir('../SB')"
   ]
  },
  {
   "cell_type": "code",
   "execution_count": 5,
   "metadata": {},
   "outputs": [],
   "source": [
    "estudiantes.sort()\n",
    "colegios.sort()\n",
    "estuDic = {}\n",
    "coleDic = {}\n",
    "for estu in estudiantes:\n",
    "    estuDic[re.findall('\\d+', estu)[1]] = estu\n",
    "\n",
    "for colegio in colegios:\n",
    "    coleDic[re.findall('\\d+', colegio)[1]] = colegio"
   ]
  },
  {
   "cell_type": "code",
   "execution_count": 6,
   "metadata": {},
   "outputs": [],
   "source": [
    "# Funciòn para unir cualquier nùmero de dataframes con la misma estructura \n",
    "def unionAll(*dfs):\n",
    "    return reduce(DataFrame.unionAll, dfs)"
   ]
  },
  {
   "cell_type": "code",
   "execution_count": 7,
   "metadata": {},
   "outputs": [
    {
     "name": "stdout",
     "output_type": "stream",
     "text": [
      "Archivos de estudiantes:  SB11_20161.txt SB11_20162.txt\n",
      "Archivos de colegios:  SB11-CLASIFI-PLANTELES-20161.txt SB11-CLASIFI-PLANTELES-20162.txt\n"
     ]
    }
   ],
   "source": [
    "print(\"Archivos de estudiantes: \", estuDic['20161'],estuDic['20162'])\n",
    "print(\"Archivos de colegios: \",coleDic['20161'],coleDic['20162'])"
   ]
  },
  {
   "cell_type": "code",
   "execution_count": 8,
   "metadata": {},
   "outputs": [],
   "source": [
    "df1 = spark.read.load(base2 + '/' + estuDic['20161'],\"com.databricks.spark.csv\",header='true',inferSchema='true',sep='¬')"
   ]
  },
  {
   "cell_type": "code",
   "execution_count": 9,
   "metadata": {},
   "outputs": [
    {
     "data": {
      "text/plain": [
       "['ESTU_TIPODOCUMENTO',\n",
       " 'ESTU_NACIONALIDAD',\n",
       " 'ESTU_GENERO',\n",
       " 'ESTU_FECHANACIMIENTO',\n",
       " 'PERIODO',\n",
       " 'ESTU_CONSECUTIVO',\n",
       " 'ESTU_ESTUDIANTE',\n",
       " 'ESTU_PAIS_RESIDE',\n",
       " 'ESTU_TIENEETNIA',\n",
       " 'ESTU_ETNIA',\n",
       " 'ESTU_DEPTO_RESIDE',\n",
       " 'ESTU_COD_RESIDE_DEPTO',\n",
       " 'ESTU_MCPIO_RESIDE',\n",
       " 'ESTU_COD_RESIDE_MCPIO',\n",
       " 'ESTU_AREARESIDE',\n",
       " 'ESTU_VALORPENSIONCOLEGIO',\n",
       " 'ESTU_VECESPRESENTOEXAMEN',\n",
       " 'FAMI_EDUCACIONPADRE',\n",
       " 'FAMI_EDUCACIONMADRE',\n",
       " 'FAMI_OCUPACIONPADRE',\n",
       " 'FAMI_OCUPACIONMADRE',\n",
       " 'FAMI_NUMHERMANOS',\n",
       " 'FAMI_ESTRATOVIVIENDA',\n",
       " 'FAMI_NIVELSISBEN',\n",
       " 'FAMI_PERSONASHOGAR',\n",
       " 'FAMI_CUARTOSHOGAR',\n",
       " 'FAMI_PISOSHOGAR',\n",
       " 'FAMI_TIENEINTERNET',\n",
       " 'FAMI_TIENECOMPUTADOR',\n",
       " 'FAMI_TIENELAVADORA',\n",
       " 'FAMI_TIENEMICROONDAS',\n",
       " 'FAMI_TIENEHORNO',\n",
       " 'FAMI_TIENESERVICIOTV',\n",
       " 'FAMI_TIENEAUTOMOVIL',\n",
       " 'FAMI_TIENEDVD',\n",
       " 'FAMI_TELEFONO',\n",
       " 'FAMI_NUMLIBROS',\n",
       " 'FAMI_INGRESOFMILIARMENSUAL',\n",
       " 'ESTU_TRABAJAACTUALMENTE',\n",
       " 'ESTU_RECIBESALARIO',\n",
       " 'COLE_CODIGO_ICFES',\n",
       " 'COLE_COD_DANE_ESTABLECIMIENTO',\n",
       " 'COLE_NOMBRE_ESTABLECIMIENTO',\n",
       " 'COLE_GENERO',\n",
       " 'COLE_NATURALEZA',\n",
       " 'COLE_CALENDARIO',\n",
       " 'COLE_BILINGUE',\n",
       " 'COLE_CARACTER',\n",
       " 'COLE_COD_DANE_SEDE',\n",
       " 'COLE_NOMBRE_SEDE',\n",
       " 'COLE_SEDE_PRINCIPAL',\n",
       " 'COLE_AREA_UBICACION',\n",
       " 'COLE_JORNADA',\n",
       " 'COLE_COD_MCPIO_UBICACION',\n",
       " 'COLE_MCPIO_UBICACION',\n",
       " 'COLE_COD_DEPTO_UBICACION',\n",
       " 'COLE_DEPTO_UBICACION',\n",
       " 'ESTU_PRIVADO_LIBERTAD',\n",
       " 'ESTU_COD_MCPIO_PRESENTACION',\n",
       " 'ESTU_MCPIO_PRESENTACION',\n",
       " 'ESTU_DEPTO_PRESENTACION',\n",
       " 'ESTU_COD_DEPTO_PRESENTACION',\n",
       " 'PUNT_LECTURA_CRITICA',\n",
       " 'PERCENTIL_LECTURA_CRITICA',\n",
       " 'DESEMP_LECTURA_CRITICA',\n",
       " 'PUNT_MATEMATICAS',\n",
       " 'PERCENTIL_MATEMATICAS',\n",
       " 'DESEMP_MATEMATICAS',\n",
       " 'PUNT_C_NATURALES',\n",
       " 'PERCENTIL_C_NATURALES',\n",
       " 'DESEMP_C_NATURALES',\n",
       " 'PUNT_SOCIALES_CIUDADANAS',\n",
       " 'PERCENTIL_SOCIALES_CIUDADANAS',\n",
       " 'DESEMP_SOCIALES_CIUDADANAS',\n",
       " 'PUNT_INGLES',\n",
       " 'PERCENTIL_INGLES',\n",
       " 'DESEMP_INGLES',\n",
       " 'PUNT_GLOBAL',\n",
       " 'PERCENTIL_GLOBAL',\n",
       " 'ESTU_INSE_INDIVIDUAL',\n",
       " 'ESTU_NSE_INDIVIDUAL',\n",
       " 'ESTU_NSE_ESTABLECIMIENTO',\n",
       " 'ESTU_ESTADOINVESTIGACION']"
      ]
     },
     "execution_count": 9,
     "metadata": {},
     "output_type": "execute_result"
    }
   ],
   "source": [
    "df1.columns"
   ]
  },
  {
   "cell_type": "code",
   "execution_count": 10,
   "metadata": {},
   "outputs": [],
   "source": [
    "columnasPuntos20161 = [\n",
    " 'COLE_COD_DANE_ESTABLECIMIENTO',\n",
    " 'COLE_NOMBRE_ESTABLECIMIENTO',\n",
    " 'PUNT_LECTURA_CRITICA',\n",
    " 'PUNT_MATEMATICAS',\n",
    " 'PUNT_C_NATURALES',\n",
    " 'PUNT_SOCIALES_CIUDADANAS',\n",
    " 'PUNT_INGLES']"
   ]
  },
  {
   "cell_type": "code",
   "execution_count": 11,
   "metadata": {},
   "outputs": [],
   "source": [
    "df1 = df1.select(columnasPuntos20161)"
   ]
  },
  {
   "cell_type": "code",
   "execution_count": 12,
   "metadata": {},
   "outputs": [],
   "source": [
    "# SE leen los dos archivos y se crean dos dataframes\n",
    "df2 = spark.read.load(base2 + '/' + estuDic['20162'],\"com.databricks.spark.csv\",header='true',inferSchema='true',sep='¬')"
   ]
  },
  {
   "cell_type": "code",
   "execution_count": 13,
   "metadata": {},
   "outputs": [
    {
     "data": {
      "text/plain": [
       "['ESTU_TIPODOCUMENTO',\n",
       " 'ESTU_NACIONALIDAD',\n",
       " 'ESTU_GENERO',\n",
       " 'ESTU_FECHANACIMIENTO',\n",
       " 'PERIODO',\n",
       " 'ESTU_CONSECUTIVO',\n",
       " 'ESTU_ESTUDIANTE',\n",
       " 'ESTU_PAIS_RESIDE',\n",
       " 'ESTU_TIENEETNIA',\n",
       " 'ESTU_ETNIA',\n",
       " 'ESTU_DEPTO_RESIDE',\n",
       " 'ESTU_COD_RESIDE_DEPTO',\n",
       " 'ESTU_MCPIO_RESIDE',\n",
       " 'ESTU_COD_RESIDE_MCPIO',\n",
       " 'ESTU_AREARESIDE',\n",
       " 'ESTU_VALORPENSIONCOLEGIO',\n",
       " 'ESTU_VECESPRESENTOEXAMEN',\n",
       " 'FAMI_EDUCACIONPADRE',\n",
       " 'FAMI_EDUCACIONMADRE',\n",
       " 'FAMI_OCUPACIONPADRE',\n",
       " 'FAMI_OCUPACIONMADRE',\n",
       " 'FAMI_NUMHERMANOS',\n",
       " 'FAMI_ESTRATOVIVIENDA',\n",
       " 'FAMI_NIVELSISBEN',\n",
       " 'FAMI_PERSONASHOGAR',\n",
       " 'FAMI_CUARTOSHOGAR',\n",
       " 'FAMI_PISOSHOGAR',\n",
       " 'FAMI_TIENEINTERNET',\n",
       " 'FAMI_TIENECOMPUTADOR',\n",
       " 'FAMI_TIENELAVADORA',\n",
       " 'FAMI_TIENEMICROONDAS',\n",
       " 'FAMI_TIENEHORNO',\n",
       " 'FAMI_TIENESERVICIOTV',\n",
       " 'FAMI_TIENEAUTOMOVIL',\n",
       " 'FAMI_TIENEDVD',\n",
       " 'FAMI_TELEFONO',\n",
       " 'FAMI_NUMLIBROS',\n",
       " 'FAMI_INGRESOFMILIARMENSUAL',\n",
       " 'ESTU_TRABAJAACTUALMENTE',\n",
       " 'ESTU_RECIBESALARIO',\n",
       " 'COLE_CODIGO_ICFES',\n",
       " 'COLE_COD_DANE_ESTABLECIMIENTO',\n",
       " 'COLE_NOMBRE_ESTABLECIMIENTO',\n",
       " 'COLE_GENERO',\n",
       " 'COLE_NATURALEZA',\n",
       " 'COLE_CALENDARIO',\n",
       " 'COLE_BILINGUE',\n",
       " 'COLE_CARACTER',\n",
       " 'COLE_COD_DANE_SEDE',\n",
       " 'COLE_NOMBRE_SEDE',\n",
       " 'COLE_SEDE_PRINCIPAL',\n",
       " 'COLE_AREA_UBICACION',\n",
       " 'COLE_JORNADA',\n",
       " 'COLE_COD_MCPIO_UBICACION',\n",
       " 'COLE_MCPIO_UBICACION',\n",
       " 'COLE_COD_DEPTO_UBICACION',\n",
       " 'COLE_DEPTO_UBICACION',\n",
       " 'ESTU_PRIVADO_LIBERTAD',\n",
       " 'ESTU_COD_MCPIO_PRESENTACION',\n",
       " 'ESTU_MCPIO_PRESENTACION',\n",
       " 'ESTU_DEPTO_PRESENTACION',\n",
       " 'ESTU_COD_DEPTO_PRESENTACION',\n",
       " 'PUNT_LECTURA_CRITICA',\n",
       " 'PERCENTIL_LECTURA_CRITICA',\n",
       " 'DESEMP_LECTURA_CRITICA',\n",
       " 'PUNT_MATEMATICAS',\n",
       " 'PERCENTIL_MATEMATICAS',\n",
       " 'DESEMP_MATEMATICAS',\n",
       " 'PUNT_C_NATURALES',\n",
       " 'PERCENTIL_C_NATURALES',\n",
       " 'DESEMP_C_NATURALES',\n",
       " 'PUNT_SOCIALES_CIUDADANAS',\n",
       " 'PERCENTIL_SOCIALES_CIUDADANAS',\n",
       " 'DESEMP_SOCIALES_CIUDADANAS',\n",
       " 'PUNT_INGLES',\n",
       " 'PERCENTIL_INGLES',\n",
       " 'DESEMP_INGLES',\n",
       " 'PUNT_GLOBAL',\n",
       " 'PERCENTIL_GLOBAL',\n",
       " 'ESTU_INSE_INDIVIDUAL',\n",
       " 'ESTU_NSE_INDIVIDUAL',\n",
       " 'ESTU_NSE_ESTABLECIMIENTO',\n",
       " 'ESTU_ESTADOINVESTIGACION']"
      ]
     },
     "execution_count": 13,
     "metadata": {},
     "output_type": "execute_result"
    }
   ],
   "source": [
    "df2.columns"
   ]
  },
  {
   "cell_type": "code",
   "execution_count": 14,
   "metadata": {},
   "outputs": [],
   "source": [
    "columnasPuntos20162 = [\n",
    " 'COLE_COD_DANE_ESTABLECIMIENTO',\n",
    " 'COLE_NOMBRE_ESTABLECIMIENTO',\n",
    " 'PUNT_LECTURA_CRITICA',\n",
    " 'PUNT_MATEMATICAS',\n",
    " 'PUNT_C_NATURALES',\n",
    " 'PUNT_SOCIALES_CIUDADANAS',\n",
    " 'PUNT_INGLES']"
   ]
  },
  {
   "cell_type": "code",
   "execution_count": 15,
   "metadata": {},
   "outputs": [],
   "source": [
    "df2 = df2.select(columnasPuntos20162)"
   ]
  },
  {
   "cell_type": "code",
   "execution_count": 16,
   "metadata": {},
   "outputs": [
    {
     "data": {
      "text/plain": [
       "['PUNT_LECTURA_CRITICA',\n",
       " 'PUNT_MATEMATICAS',\n",
       " 'PUNT_C_NATURALES',\n",
       " 'PUNT_SOCIALES_CIUDADANAS',\n",
       " 'PUNT_INGLES']"
      ]
     },
     "execution_count": 16,
     "metadata": {},
     "output_type": "execute_result"
    }
   ],
   "source": [
    "#dft = df1.columns.remove('cole_cod_dane_institucion')\n",
    "cols = df1.columns\n",
    "cols.remove('COLE_COD_DANE_ESTABLECIMIENTO')\n",
    "cols.remove('COLE_NOMBRE_ESTABLECIMIENTO')\n",
    "cols"
   ]
  },
  {
   "cell_type": "code",
   "execution_count": 17,
   "metadata": {},
   "outputs": [],
   "source": [
    "for cp in cols:\n",
    "    df1 = df1.withColumn(cp, regexp_replace(cp, ',', '.'))\n",
    "    df1 = df1.withColumn(cp, df1[cp].cast(\"float\"))\n",
    "    df1 = df1.na.fill({cp:0})"
   ]
  },
  {
   "cell_type": "code",
   "execution_count": 18,
   "metadata": {},
   "outputs": [],
   "source": [
    "df1 = df1.withColumn('COLE_COD_DANE_ESTABLECIMIENTO', df1['COLE_COD_DANE_ESTABLECIMIENTO'].cast(\"string\"))"
   ]
  },
  {
   "cell_type": "code",
   "execution_count": 19,
   "metadata": {},
   "outputs": [],
   "source": [
    "cols2 = df2.columns\n",
    "cols2.remove('COLE_COD_DANE_ESTABLECIMIENTO')\n",
    "cols2.remove('COLE_NOMBRE_ESTABLECIMIENTO')"
   ]
  },
  {
   "cell_type": "code",
   "execution_count": 20,
   "metadata": {},
   "outputs": [],
   "source": [
    "for cp in cols2:\n",
    "    df2 = df2.withColumn(cp, regexp_replace(cp, ',', '.'))\n",
    "    df2 = df2.withColumn(cp, df2[cp].cast(\"float\"))\n",
    "    df2 = df2.na.fill({cp:0})\n",
    "df2 = df2.withColumn('COLE_COD_DANE_ESTABLECIMIENTO', df2['COLE_COD_DANE_ESTABLECIMIENTO'].cast(\"string\"))"
   ]
  },
  {
   "cell_type": "code",
   "execution_count": 21,
   "metadata": {},
   "outputs": [
    {
     "name": "stdout",
     "output_type": "stream",
     "text": [
      "Numero de filas primero semestre  13065\n",
      "Numero de filas segundo semestre  548206\n"
     ]
    }
   ],
   "source": [
    "print(\"Numero de filas primero semestre \", df1.count())\n",
    "print(\"Numero de filas segundo semestre \", df2.count())"
   ]
  },
  {
   "cell_type": "code",
   "execution_count": 22,
   "metadata": {},
   "outputs": [
    {
     "name": "stdout",
     "output_type": "stream",
     "text": [
      "root\n",
      " |-- COLE_COD_DANE_ESTABLECIMIENTO: string (nullable = true)\n",
      " |-- COLE_NOMBRE_ESTABLECIMIENTO: string (nullable = true)\n",
      " |-- PUNT_LECTURA_CRITICA: float (nullable = false)\n",
      " |-- PUNT_MATEMATICAS: float (nullable = false)\n",
      " |-- PUNT_C_NATURALES: float (nullable = false)\n",
      " |-- PUNT_SOCIALES_CIUDADANAS: float (nullable = false)\n",
      " |-- PUNT_INGLES: float (nullable = false)\n",
      "\n",
      "None\n"
     ]
    }
   ],
   "source": [
    "print(df1.printSchema())"
   ]
  },
  {
   "cell_type": "code",
   "execution_count": 23,
   "metadata": {},
   "outputs": [
    {
     "name": "stdout",
     "output_type": "stream",
     "text": [
      "root\n",
      " |-- COLE_COD_DANE_ESTABLECIMIENTO: string (nullable = true)\n",
      " |-- COLE_NOMBRE_ESTABLECIMIENTO: string (nullable = true)\n",
      " |-- PUNT_LECTURA_CRITICA: float (nullable = false)\n",
      " |-- PUNT_MATEMATICAS: float (nullable = false)\n",
      " |-- PUNT_C_NATURALES: float (nullable = false)\n",
      " |-- PUNT_SOCIALES_CIUDADANAS: float (nullable = false)\n",
      " |-- PUNT_INGLES: float (nullable = false)\n",
      "\n",
      "None\n"
     ]
    }
   ],
   "source": [
    "print(df2.printSchema())"
   ]
  },
  {
   "cell_type": "code",
   "execution_count": 24,
   "metadata": {},
   "outputs": [],
   "source": [
    "# Contando el numero de estudiantes por instituciòn y mostrandola de forma descendente\n",
    "dsCountEst1 = df1.groupBy('COLE_COD_DANE_ESTABLECIMIENTO').count().orderBy('count',ascending=\n",
    "False)\n",
    "dsCountEst2 = df2.groupBy('COLE_COD_DANE_ESTABLECIMIENTO').count().orderBy('count',ascending=\n",
    "False)"
   ]
  },
  {
   "cell_type": "code",
   "execution_count": 25,
   "metadata": {},
   "outputs": [
    {
     "name": "stdout",
     "output_type": "stream",
     "text": [
      "+-----------------------------+-----+\n",
      "|COLE_COD_DANE_ESTABLECIMIENTO|count|\n",
      "+-----------------------------+-----+\n",
      "|376001028219                 |175  |\n",
      "|376001026925                 |170  |\n",
      "|376001000721                 |157  |\n",
      "|376001001116                 |154  |\n",
      "|311769003474                 |140  |\n",
      "|311001010820                 |136  |\n",
      "|376001007670                 |135  |\n",
      "|311848001011                 |131  |\n",
      "|376001000900                 |130  |\n",
      "|376001000276                 |127  |\n",
      "+-----------------------------+-----+\n",
      "only showing top 10 rows\n",
      "\n"
     ]
    }
   ],
   "source": [
    "dsCountEst1.show(10,False)\n",
    "# Numero de estudiantes por instituciòn primer semestre"
   ]
  },
  {
   "cell_type": "code",
   "execution_count": 26,
   "metadata": {},
   "outputs": [
    {
     "data": {
      "text/plain": [
       "347"
      ]
     },
     "execution_count": 26,
     "metadata": {},
     "output_type": "execute_result"
    }
   ],
   "source": [
    "dsCountEst1.count()"
   ]
  },
  {
   "cell_type": "code",
   "execution_count": 27,
   "metadata": {},
   "outputs": [
    {
     "name": "stdout",
     "output_type": "stream",
     "text": [
      "+-----------------------------+-----+\n",
      "|COLE_COD_DANE_ESTABLECIMIENTO|count|\n",
      "+-----------------------------+-----+\n",
      "|105001000108                 |968  |\n",
      "|105001013340                 |764  |\n",
      "|111001024732                 |633  |\n",
      "|176001005813                 |618  |\n",
      "|305001003963                 |554  |\n",
      "|105154000301                 |553  |\n",
      "|313001006701                 |545  |\n",
      "|105615000236                 |536  |\n",
      "|311001105863                 |531  |\n",
      "|305001005265                 |507  |\n",
      "+-----------------------------+-----+\n",
      "only showing top 10 rows\n",
      "\n"
     ]
    }
   ],
   "source": [
    "dsCountEst2.show(10,False)\n",
    "# Numero de estudiantes por instituciòn segundo semestre"
   ]
  },
  {
   "cell_type": "code",
   "execution_count": 28,
   "metadata": {},
   "outputs": [],
   "source": [
    "#Se crea una columna con el total de los puntajes \n",
    "df1= df1.withColumn(\"Suma\",df1['PUNT_LECTURA_CRITICA']+df1['PUNT_MATEMATICAS']+df1['PUNT_C_NATURALES']+\n",
    "                    df1['PUNT_SOCIALES_CIUDADANAS']+df1['PUNT_INGLES'])\n",
    "\n",
    "df2= df2.withColumn(\"Suma\",df2['PUNT_LECTURA_CRITICA']+df2['PUNT_MATEMATICAS']+df2['PUNT_C_NATURALES']+\n",
    "                    df2['PUNT_SOCIALES_CIUDADANAS']+df2['PUNT_INGLES'])"
   ]
  },
  {
   "cell_type": "markdown",
   "metadata": {},
   "source": [
    "## Resultados finales por instituciòn 1er semestre"
   ]
  },
  {
   "cell_type": "code",
   "execution_count": 29,
   "metadata": {},
   "outputs": [],
   "source": [
    "# Còdigo para obtener la media de los resultados de las evaluaciones de todos los estudiantes por instituciòn \n",
    "# y posiciòn en orden descendente.\n",
    "from pyspark.sql.functions import *\n",
    "from pyspark.sql.window import Window\n",
    "\n",
    "df1 = df1.groupBy('COLE_COD_DANE_ESTABLECIMIENTO','COLE_NOMBRE_ESTABLECIMIENTO').mean()\n",
    "df1 = df1.withColumn(\"rank\", dense_rank().over(Window.orderBy(desc(\"avg(Suma)\"))))\n",
    "df1 = df1.orderBy('rank',ascending= True)"
   ]
  },
  {
   "cell_type": "code",
   "execution_count": 30,
   "metadata": {
    "scrolled": true
   },
   "outputs": [
    {
     "name": "stdout",
     "output_type": "stream",
     "text": [
      "+-----------------------------+---------------------------+------------------+----+\n",
      "|COLE_COD_DANE_ESTABLECIMIENTO|COLE_NOMBRE_ESTABLECIMIENTO|avg(Suma)         |rank|\n",
      "+-----------------------------+---------------------------+------------------+----+\n",
      "|376001013441                 |COLEGIO BILINGUE DIANA OESE|427.0             |1   |\n",
      "|305001015503                 |COLEGIO LEONARDO DA VINCI  |410.44444444444446|2   |\n",
      "|311769003342                 |COL LOS NOGALES            |407.10714285714283|3   |\n",
      "|368001000516                 |COL NUEVO CAMBRIDGE        |405.22033898305085|4   |\n",
      "|311769000165                 |COL SAN JORGE DE INGLATERRA|405.0121951219512 |5   |\n",
      "|311848002424                 |COL SAN CARLOS             |404.59615384615387|6   |\n",
      "|311848000278                 |GIMN VERMONT               |404.4065934065934 |7   |\n",
      "|368276000826                 |COL LA QUINTA DEL PUENTE   |404.25            |8   |\n",
      "|466001005641                 |LIC CAMPESTRE DE PEREIRA   |403.6             |9   |\n",
      "|425758800009                 |COL CAMPOALEGRE LTDA       |403.2307692307692 |10  |\n",
      "+-----------------------------+---------------------------+------------------+----+\n",
      "only showing top 10 rows\n",
      "\n"
     ]
    }
   ],
   "source": [
    "df1.select('COLE_COD_DANE_ESTABLECIMIENTO','COLE_NOMBRE_ESTABLECIMIENTO','avg(Suma)','rank').show(10,False)"
   ]
  },
  {
   "cell_type": "markdown",
   "metadata": {},
   "source": [
    "## Resultados finales por instituciòn 2do semestre"
   ]
  },
  {
   "cell_type": "code",
   "execution_count": 31,
   "metadata": {},
   "outputs": [],
   "source": [
    "df2 = df2.groupBy('COLE_COD_DANE_ESTABLECIMIENTO','COLE_NOMBRE_ESTABLECIMIENTO').mean()\n",
    "df2 = df2.withColumn(\"rank\", dense_rank().over(Window.orderBy(desc(\"avg(Suma)\"))))\n",
    "df2 = df2.orderBy('rank',ascending= True)"
   ]
  },
  {
   "cell_type": "code",
   "execution_count": 32,
   "metadata": {},
   "outputs": [
    {
     "name": "stdout",
     "output_type": "stream",
     "text": [
      "+-----------------------------+------------------------------------------+------------------+----+\n",
      "|COLE_COD_DANE_ESTABLECIMIENTO|COLE_NOMBRE_ESTABLECIMIENTO               |avg(Suma)         |rank|\n",
      "+-----------------------------+------------------------------------------+------------------+----+\n",
      "|311001065489                 |LIC CAMPO DAVID                           |388.1666666666667 |1   |\n",
      "|311001076634                 |COL NUEVO COLOMBO AMERICANO               |385.6842105263158 |2   |\n",
      "|311001031088                 |COL NUEVA INGLATERRA                      |382.68518518518516|3   |\n",
      "|308001001871                 |NUEVO COLEGIO DEL PRADO                   |382.12820512820514|4   |\n",
      "|311001086320                 |COLOMBO BRITANICO - BILINGÜE INTERNACIONAL|381.0263157894737 |5   |\n",
      "|311848000308                 |COL ANGLO AMERICANO                       |381.00847457627117|6   |\n",
      "|311001005176                 |LIC NAVARRA                               |379.8048780487805 |7   |\n",
      "|425175032666                 |GIMNASIO EL HONTANAR                      |378.9             |8   |\n",
      "|311001089221                 |INST ALBERTO MERANI                       |376.8             |9   |\n",
      "|373001007662                 |COL  SAN BONIFACIO DE LAS LANZAS          |376.5             |10  |\n",
      "+-----------------------------+------------------------------------------+------------------+----+\n",
      "only showing top 10 rows\n",
      "\n"
     ]
    }
   ],
   "source": [
    "df2.select('COLE_COD_DANE_ESTABLECIMIENTO','COLE_NOMBRE_ESTABLECIMIENTO','avg(Suma)','rank').show(10,False)"
   ]
  },
  {
   "cell_type": "markdown",
   "metadata": {},
   "source": [
    "## Colegios primer semestre"
   ]
  },
  {
   "cell_type": "code",
   "execution_count": 33,
   "metadata": {},
   "outputs": [],
   "source": [
    "# SE crea Dataframe de colegios primer semestre\n",
    "dfc = spark.read.load(base + '/' + coleDic['20161'],\"com.databricks.spark.csv\",header='true',inferSchema='true',sep='|')\n",
    "dfc = dfc.withColumn('COLE_COD_DANE', dfc['COLE_COD_DANE'].cast(\"string\"))\n",
    "dfc = dfc.withColumn(\"rankIndiceTotal\", dense_rank().over(Window.orderBy(desc(\"INDICE_TOTAL\"))))\n",
    "dfc = dfc.orderBy('rankIndiceTotal',ascending= True)"
   ]
  },
  {
   "cell_type": "code",
   "execution_count": 34,
   "metadata": {},
   "outputs": [
    {
     "name": "stdout",
     "output_type": "stream",
     "text": [
      "root\n",
      " |-- PERIODO: integer (nullable = true)\n",
      " |-- COLE_COD_DANE: string (nullable = true)\n",
      " |-- COLE_INST_NOMBRE: string (nullable = true)\n",
      " |-- COLE_CODMPIO_COLEGIO: integer (nullable = true)\n",
      " |-- COLE_MPIO_MUNICIPIO: string (nullable = true)\n",
      " |-- COLE_COD_DEPTO: integer (nullable = true)\n",
      " |-- COLE_DEPTO_COLEGIO: string (nullable = true)\n",
      " |-- COLE_NATURALEZA: string (nullable = true)\n",
      " |-- COLE_GRADO: integer (nullable = true)\n",
      " |-- COLE_CALENDARIO_COLEGIO: string (nullable = true)\n",
      " |-- COLE_GENEROPOBLACION: string (nullable = true)\n",
      " |-- MATRICULADOS_ULTIMOS_3: integer (nullable = true)\n",
      " |-- EVALUADOS_ULTIMOS_3: integer (nullable = true)\n",
      " |-- INDICE_MATEMATICAS: string (nullable = true)\n",
      " |-- INDICE_C_NATURALES: string (nullable = true)\n",
      " |-- INDICE_SOCIALES_CIUDADANAS: string (nullable = true)\n",
      " |-- INDICE_LECTURA_CRITICA: string (nullable = true)\n",
      " |-- INDICE_INGLES: string (nullable = true)\n",
      " |-- INDICE_TOTAL: string (nullable = true)\n",
      " |-- COLE_CATEGORIA: string (nullable = true)\n",
      " |-- rankIndiceTotal: integer (nullable = true)\n",
      "\n",
      "None\n"
     ]
    }
   ],
   "source": [
    "print(dfc.printSchema())"
   ]
  },
  {
   "cell_type": "code",
   "execution_count": 35,
   "metadata": {},
   "outputs": [],
   "source": [
    "colsColegio = dfc.columns"
   ]
  },
  {
   "cell_type": "code",
   "execution_count": 41,
   "metadata": {},
   "outputs": [
    {
     "name": "stdout",
     "output_type": "stream",
     "text": [
      "+---------------+-------------+--------------------+------------+\n",
      "|rankIndiceTotal|COLE_COD_DANE|    COLE_INST_NOMBRE|INDICE_TOTAL|\n",
      "+---------------+-------------+--------------------+------------+\n",
      "|              1| 376001013441|COLEGIO BILINGUE ...|       0,917|\n",
      "|              2| 311769003342|     COL LOS NOGALES|      0,9152|\n",
      "|              3| 311848002424|      COL SAN CARLOS|      0,9109|\n",
      "|              4| 311769000165|COL SAN JORGE DE ...|      0,9065|\n",
      "|              5| 311848000278|        GIMN VERMONT|      0,9028|\n",
      "|              5| 411848002780|COL CAMPOALEGRE LTDA|      0,9028|\n",
      "|              6| 311848002351|COL SANTA FRANCIS...|      0,9017|\n",
      "|              7| 368276000826|COL LA QUINTA DEL...|      0,9008|\n",
      "|              8| 368001000516| COL NUEVO CAMBRIDGE|       0,899|\n",
      "|              9| 311769004292|COL SAN MATEO APO...|      0,8968|\n",
      "+---------------+-------------+--------------------+------------+\n",
      "only showing top 10 rows\n",
      "\n"
     ]
    }
   ],
   "source": [
    "dfc.select('rankIndiceTotal','COLE_COD_DANE','COLE_INST_NOMBRE','INDICE_TOTAL').show(10)"
   ]
  },
  {
   "cell_type": "code",
   "execution_count": 42,
   "metadata": {},
   "outputs": [
    {
     "name": "stdout",
     "output_type": "stream",
     "text": [
      "El numero de colegios es:  317\n"
     ]
    }
   ],
   "source": [
    "print(\"El numero de colegios es: \", dfc.count())"
   ]
  },
  {
   "cell_type": "markdown",
   "metadata": {},
   "source": [
    "## Colegios segundo semestre"
   ]
  },
  {
   "cell_type": "code",
   "execution_count": 43,
   "metadata": {},
   "outputs": [],
   "source": [
    "# SE crea Dataframe de colegios primer semestre\n",
    "dfc2 = spark.read.load(base + '/' + coleDic['20162'],\"com.databricks.spark.csv\",header='true',inferSchema='true',sep='|')\n",
    "dfc2 = dfc2.withColumn('COLE_COD_DANE', dfc2['COLE_COD_DANE'].cast(\"string\"))\n",
    "dfc2 = dfc2.withColumn(\"rankIndiceTotal\", dense_rank().over(Window.orderBy(desc(\"INDICE_TOTAL\"))))\n",
    "dfc2 = dfc2.orderBy('rankIndiceTotal',ascending= True)"
   ]
  },
  {
   "cell_type": "code",
   "execution_count": 44,
   "metadata": {},
   "outputs": [
    {
     "name": "stdout",
     "output_type": "stream",
     "text": [
      "root\n",
      " |-- PERIODO: integer (nullable = true)\n",
      " |-- COLE_COD_DANE: string (nullable = true)\n",
      " |-- COLE_INST_NOMBRE: string (nullable = true)\n",
      " |-- COLE_CODMPIO_COLEGIO: integer (nullable = true)\n",
      " |-- COLE_MPIO_MUNICIPIO: string (nullable = true)\n",
      " |-- COLE_COD_DEPTO: integer (nullable = true)\n",
      " |-- COLE_DEPTO_COLEGIO: string (nullable = true)\n",
      " |-- COLE_NATURALEZA: string (nullable = true)\n",
      " |-- COLE_GRADO: integer (nullable = true)\n",
      " |-- COLE_CALENDARIO_COLEGIO: string (nullable = true)\n",
      " |-- COLE_GENEROPOBLACION: string (nullable = true)\n",
      " |-- MATRICULADOS_ULTIMOS_3: integer (nullable = true)\n",
      " |-- EVALUADOS_ULTIMOS_3: integer (nullable = true)\n",
      " |-- INDICE_MATEMATICAS: string (nullable = true)\n",
      " |-- INDICE_C_NATURALES: string (nullable = true)\n",
      " |-- INDICE_SOCIALES_CIUDADANAS: string (nullable = true)\n",
      " |-- INDICE_LECTURA_CRITICA: string (nullable = true)\n",
      " |-- INDICE_INGLES: string (nullable = true)\n",
      " |-- INDICE_TOTAL: string (nullable = true)\n",
      " |-- COLE_CATEGORIA: string (nullable = true)\n",
      " |-- rankIndiceTotal: integer (nullable = true)\n",
      "\n",
      "None\n"
     ]
    }
   ],
   "source": [
    "print(dfc2.printSchema())"
   ]
  },
  {
   "cell_type": "code",
   "execution_count": 46,
   "metadata": {},
   "outputs": [
    {
     "name": "stdout",
     "output_type": "stream",
     "text": [
      "+---------------+-------------+--------------------+------------+\n",
      "|rankIndiceTotal|COLE_COD_DANE|    COLE_INST_NOMBRE|INDICE_TOTAL|\n",
      "+---------------+-------------+--------------------+------------+\n",
      "|              1| 311001065489|     LIC CAMPO DAVID|      0,9113|\n",
      "|              2| 311001089221| INST ALBERTO MERANI|      0,9108|\n",
      "|              3| 311001076634|COL NUEVO COLOMBO...|       0,908|\n",
      "|              4| 311001005176|         LIC NAVARRA|       0,907|\n",
      "|              5| 354518001139|CAMBRIDGE SCHOOL ...|      0,9048|\n",
      "|              6| 311848000308| COL ANGLO AMERICANO|       0,903|\n",
      "|              7| 311001086320|COLOMBO BRITANICO...|      0,9005|\n",
      "|              8| 368001000729|COL  SAN PEDRO CL...|      0,8946|\n",
      "|              9| 315001001842| COLEGIO LOS �NGELES|      0,8942|\n",
      "|             10| 425214000149|          COL REFOUS|      0,8936|\n",
      "+---------------+-------------+--------------------+------------+\n",
      "only showing top 10 rows\n",
      "\n"
     ]
    }
   ],
   "source": [
    "dfc2.select('rankIndiceTotal','COLE_COD_DANE','COLE_INST_NOMBRE','INDICE_TOTAL').orderBy('INDICE_TOTAL',ascending= False).show(10)"
   ]
  },
  {
   "cell_type": "code",
   "execution_count": 47,
   "metadata": {},
   "outputs": [
    {
     "name": "stdout",
     "output_type": "stream",
     "text": [
      "El numero de colegios segundo semestre:  8872\n"
     ]
    }
   ],
   "source": [
    "print(\"El numero de colegios segundo semestre: \", dfc2.count())"
   ]
  },
  {
   "cell_type": "markdown",
   "metadata": {},
   "source": [
    "## Anàlisis comparativo entre estudiantes y colegios primer semestre"
   ]
  },
  {
   "cell_type": "code",
   "execution_count": 48,
   "metadata": {},
   "outputs": [],
   "source": [
    "dfjoin = df1.join(dfc, df1.COLE_COD_DANE_ESTABLECIMIENTO == dfc.COLE_COD_DANE)"
   ]
  },
  {
   "cell_type": "code",
   "execution_count": 49,
   "metadata": {},
   "outputs": [
    {
     "name": "stdout",
     "output_type": "stream",
     "text": [
      "Nùmero de colegios coincidentes entre el archivo de estudiantes 1er semestre y colegios: 278\n"
     ]
    }
   ],
   "source": [
    "print(\"Nùmero de colegios coincidentes entre el archivo de estudiantes 1er semestre y colegios:\", dfjoin.count())"
   ]
  },
  {
   "cell_type": "code",
   "execution_count": 50,
   "metadata": {},
   "outputs": [],
   "source": [
    "dfjoinPorNom = df1.join(dfc, df1.COLE_NOMBRE_ESTABLECIMIENTO == dfc.COLE_INST_NOMBRE)"
   ]
  },
  {
   "cell_type": "code",
   "execution_count": 51,
   "metadata": {},
   "outputs": [
    {
     "name": "stdout",
     "output_type": "stream",
     "text": [
      "Nùmero de colegios coincidentes entre el archivo de estudiantes 1er semestre y colegios: 240\n"
     ]
    }
   ],
   "source": [
    "print(\"Nùmero de colegios coincidentes entre el archivo de estudiantes 1er semestre y colegios:\", dfjoinPorNom.count())"
   ]
  },
  {
   "cell_type": "code",
   "execution_count": 52,
   "metadata": {},
   "outputs": [
    {
     "name": "stdout",
     "output_type": "stream",
     "text": [
      "+----+---------------+-----------------------------+---------------------------+------------+\n",
      "|rank|rankIndiceTotal|COLE_COD_DANE_ESTABLECIMIENTO|COLE_NOMBRE_ESTABLECIMIENTO|INDICE_TOTAL|\n",
      "+----+---------------+-----------------------------+---------------------------+------------+\n",
      "|   1|              1|                 376001013441|       COLEGIO BILINGUE ...|       0,917|\n",
      "|   2|             11|                 305001015503|       COLEGIO LEONARDO ...|      0,8949|\n",
      "|   3|              2|                 311769003342|            COL LOS NOGALES|      0,9152|\n",
      "|   4|              8|                 368001000516|        COL NUEVO CAMBRIDGE|       0,899|\n",
      "|   5|              4|                 311769000165|       COL SAN JORGE DE ...|      0,9065|\n",
      "|   6|              3|                 311848002424|             COL SAN CARLOS|      0,9109|\n",
      "|   7|              5|                 311848000278|               GIMN VERMONT|      0,9028|\n",
      "|   8|              7|                 368276000826|       COL LA QUINTA DEL...|      0,9008|\n",
      "|   9|             17|                 466001005641|       LIC CAMPESTRE DE ...|       0,888|\n",
      "|  11|             13|                 311001087288|            GIMN LA MONTAÑA|      0,8933|\n",
      "+----+---------------+-----------------------------+---------------------------+------------+\n",
      "only showing top 10 rows\n",
      "\n"
     ]
    }
   ],
   "source": [
    "# Se cruza la informaciòn por el nombre del colegio - se evidencia que el còdigo DANE no coincide\n",
    "dfjoin.select('rank','rankIndiceTotal','COLE_COD_DANE_ESTABLECIMIENTO','COLE_NOMBRE_ESTABLECIMIENTO','INDICE_TOTAL').show(10)"
   ]
  },
  {
   "cell_type": "markdown",
   "metadata": {},
   "source": [
    "## Anàlisis comparativo entre estudiantes y colegios segundo semestre"
   ]
  },
  {
   "cell_type": "code",
   "execution_count": 53,
   "metadata": {},
   "outputs": [],
   "source": [
    "dfjoin2 = df2.join(dfc2, df2.COLE_COD_DANE_ESTABLECIMIENTO == dfc2.COLE_COD_DANE)"
   ]
  },
  {
   "cell_type": "code",
   "execution_count": 54,
   "metadata": {},
   "outputs": [
    {
     "name": "stdout",
     "output_type": "stream",
     "text": [
      "Nùmero de colegios coincidentes entre el archivo de estudiantes 2do semestre y colegios: 8849\n"
     ]
    }
   ],
   "source": [
    "print(\"Nùmero de colegios coincidentes entre el archivo de estudiantes 2do semestre y colegios:\", dfjoin2.count())"
   ]
  },
  {
   "cell_type": "code",
   "execution_count": 55,
   "metadata": {},
   "outputs": [
    {
     "data": {
      "text/plain": [
       "['COLE_COD_DANE_ESTABLECIMIENTO',\n",
       " 'COLE_NOMBRE_ESTABLECIMIENTO',\n",
       " 'avg(PUNT_LECTURA_CRITICA)',\n",
       " 'avg(PUNT_MATEMATICAS)',\n",
       " 'avg(PUNT_C_NATURALES)',\n",
       " 'avg(PUNT_SOCIALES_CIUDADANAS)',\n",
       " 'avg(PUNT_INGLES)',\n",
       " 'avg(Suma)',\n",
       " 'rank',\n",
       " 'PERIODO',\n",
       " 'COLE_COD_DANE',\n",
       " 'COLE_INST_NOMBRE',\n",
       " 'COLE_CODMPIO_COLEGIO',\n",
       " 'COLE_MPIO_MUNICIPIO',\n",
       " 'COLE_COD_DEPTO',\n",
       " 'COLE_DEPTO_COLEGIO',\n",
       " 'COLE_NATURALEZA',\n",
       " 'COLE_GRADO',\n",
       " 'COLE_CALENDARIO_COLEGIO',\n",
       " 'COLE_GENEROPOBLACION',\n",
       " 'MATRICULADOS_ULTIMOS_3',\n",
       " 'EVALUADOS_ULTIMOS_3',\n",
       " 'INDICE_MATEMATICAS',\n",
       " 'INDICE_C_NATURALES',\n",
       " 'INDICE_SOCIALES_CIUDADANAS',\n",
       " 'INDICE_LECTURA_CRITICA',\n",
       " 'INDICE_INGLES',\n",
       " 'INDICE_TOTAL',\n",
       " 'COLE_CATEGORIA',\n",
       " 'rankIndiceTotal']"
      ]
     },
     "execution_count": 55,
     "metadata": {},
     "output_type": "execute_result"
    }
   ],
   "source": [
    "dfjoin2.columns"
   ]
  },
  {
   "cell_type": "code",
   "execution_count": 56,
   "metadata": {},
   "outputs": [
    {
     "name": "stdout",
     "output_type": "stream",
     "text": [
      "+----+---------------+------------------+---------------------------+-------------+------------+\n",
      "|rank|rankIndiceTotal|         avg(Suma)|COLE_NOMBRE_ESTABLECIMIENTO|COLE_COD_DANE|INDICE_TOTAL|\n",
      "+----+---------------+------------------+---------------------------+-------------+------------+\n",
      "|   1|              1| 388.1666666666667|            LIC CAMPO DAVID| 311001065489|      0,9113|\n",
      "|   2|              3| 385.6842105263158|       COL NUEVO COLOMBO...| 311001076634|       0,908|\n",
      "|   3|             19|382.68518518518516|       COL NUEVA INGLATERRA| 311001031088|      0,8858|\n",
      "|   4|             27|382.12820512820514|       NUEVO COLEGIO DEL...| 308001001871|      0,8797|\n",
      "|   5|              7| 381.0263157894737|       COLOMBO BRITANICO...| 311001086320|      0,9005|\n",
      "|   6|              6|381.00847457627117|        COL ANGLO AMERICANO| 311848000308|       0,903|\n",
      "|   7|              4| 379.8048780487805|                LIC NAVARRA| 311001005176|       0,907|\n",
      "|   8|             17|             378.9|       GIMNASIO EL HONTANAR| 425175032666|      0,8862|\n",
      "|   9|              2|             376.8|        INST ALBERTO MERANI| 311001089221|      0,9108|\n",
      "|  10|             15|             376.5|       COL  SAN BONIFACI...| 373001007662|      0,8877|\n",
      "+----+---------------+------------------+---------------------------+-------------+------------+\n",
      "only showing top 10 rows\n",
      "\n"
     ]
    }
   ],
   "source": [
    "dfjoin2.select('rank','rankIndiceTotal','avg(Suma)','COLE_NOMBRE_ESTABLECIMIENTO','COLE_COD_DANE','INDICE_TOTAL').show(10)"
   ]
  },
  {
   "cell_type": "code",
   "execution_count": null,
   "metadata": {},
   "outputs": [],
   "source": []
  }
 ],
 "metadata": {
  "kernelspec": {
   "display_name": "Python 3",
   "language": "python",
   "name": "python3"
  },
  "language_info": {
   "codemirror_mode": {
    "name": "ipython",
    "version": 3
   },
   "file_extension": ".py",
   "mimetype": "text/x-python",
   "name": "python",
   "nbconvert_exporter": "python",
   "pygments_lexer": "ipython3",
   "version": "3.7.3"
  }
 },
 "nbformat": 4,
 "nbformat_minor": 2
}
