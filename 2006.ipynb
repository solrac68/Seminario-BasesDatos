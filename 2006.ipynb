{
 "cells": [
  {
   "cell_type": "code",
   "execution_count": 1,
   "metadata": {},
   "outputs": [],
   "source": [
    "from pyspark.sql import SparkSession\n",
    "from pyspark.sql import Row\n",
    "from functools import reduce\n",
    "from pyspark.sql import DataFrame\n",
    "from pyspark.sql.types import StringType,DoubleType,FloatType\n",
    "from pyspark.sql.functions import udf\n",
    "from pyspark.sql.functions import regexp_replace\n",
    "import locale\n",
    "import sys\n",
    "import os\n",
    "import re"
   ]
  },
  {
   "cell_type": "code",
   "execution_count": 2,
   "metadata": {},
   "outputs": [
    {
     "data": {
      "text/html": [
       "\n",
       "        <div>\n",
       "            <p><b>SparkContext</b></p>\n",
       "\n",
       "            <p><a href=\"http://nodo1:4041\">Spark UI</a></p>\n",
       "\n",
       "            <dl>\n",
       "              <dt>Version</dt>\n",
       "                <dd><code>v2.4.3</code></dd>\n",
       "              <dt>Master</dt>\n",
       "                <dd><code>local[*]</code></dd>\n",
       "              <dt>AppName</dt>\n",
       "                <dd><code>PySparkShell</code></dd>\n",
       "            </dl>\n",
       "        </div>\n",
       "        "
      ],
      "text/plain": [
       "<SparkContext master=local[*] appName=PySparkShell>"
      ]
     },
     "execution_count": 2,
     "metadata": {},
     "output_type": "execute_result"
    }
   ],
   "source": [
    "sc"
   ]
  },
  {
   "cell_type": "code",
   "execution_count": 3,
   "metadata": {},
   "outputs": [
    {
     "data": {
      "text/html": [
       "\n",
       "            <div>\n",
       "                <p><b>SparkSession - hive</b></p>\n",
       "                \n",
       "        <div>\n",
       "            <p><b>SparkContext</b></p>\n",
       "\n",
       "            <p><a href=\"http://nodo1:4041\">Spark UI</a></p>\n",
       "\n",
       "            <dl>\n",
       "              <dt>Version</dt>\n",
       "                <dd><code>v2.4.3</code></dd>\n",
       "              <dt>Master</dt>\n",
       "                <dd><code>local[*]</code></dd>\n",
       "              <dt>AppName</dt>\n",
       "                <dd><code>PySparkShell</code></dd>\n",
       "            </dl>\n",
       "        </div>\n",
       "        \n",
       "            </div>\n",
       "        "
      ],
      "text/plain": [
       "<pyspark.sql.session.SparkSession at 0x7f11444ae630>"
      ]
     },
     "execution_count": 3,
     "metadata": {},
     "output_type": "execute_result"
    }
   ],
   "source": [
    "spark"
   ]
  },
  {
   "cell_type": "markdown",
   "metadata": {},
   "source": [
    "# Leyendo lista de Colegios y Estudiantes"
   ]
  },
  {
   "cell_type": "code",
   "execution_count": 4,
   "metadata": {},
   "outputs": [],
   "source": [
    "base = '../Colegios'\n",
    "base2 = '../SB'\n",
    "colegios = os.listdir('../Colegios')\n",
    "estudiantes = os.listdir('../SB')"
   ]
  },
  {
   "cell_type": "code",
   "execution_count": 5,
   "metadata": {},
   "outputs": [],
   "source": [
    "estudiantes.sort()\n",
    "colegios.sort()\n",
    "estuDic = {}\n",
    "coleDic = {}\n",
    "for estu in estudiantes:\n",
    "    estuDic[re.findall('\\d+', estu)[1]] = estu\n",
    "\n",
    "for colegio in colegios:\n",
    "    coleDic[re.findall('\\d+', colegio)[1]] = colegio"
   ]
  },
  {
   "cell_type": "code",
   "execution_count": 6,
   "metadata": {},
   "outputs": [],
   "source": [
    "dfestu = {}\n",
    "dfcole = {}\n",
    "for i in coleDic:\n",
    "    dfestu[i] = None\n",
    "    dfcole[i] = None"
   ]
  },
  {
   "cell_type": "code",
   "execution_count": 7,
   "metadata": {},
   "outputs": [],
   "source": [
    "# Funciòn para unir cualquier nùmero de dataframes con la misma estructura \n",
    "def unionAll(*dfs):\n",
    "    return reduce(DataFrame.unionAll, dfs)"
   ]
  },
  {
   "cell_type": "code",
   "execution_count": 8,
   "metadata": {},
   "outputs": [
    {
     "name": "stdout",
     "output_type": "stream",
     "text": [
      "Archivos de estudiantes:  SB11_20061.txt SB11_20062.txt\n",
      "Archivos de colegios:  SB11-CLASIFI-PLANTELES-2006.txt\n"
     ]
    }
   ],
   "source": [
    "print(\"Archivos de estudiantes: \", estuDic['20061'],estuDic['20062'])\n",
    "print(\"Archivos de colegios: \",coleDic['2006'])"
   ]
  },
  {
   "cell_type": "code",
   "execution_count": 9,
   "metadata": {},
   "outputs": [],
   "source": [
    "# SE leen los dos archivos y se crean dos dataframes\n",
    "df1 = spark.read.load(base2 + '/' + estuDic['20061'],\"com.databricks.spark.csv\",header='true',inferSchema='true',sep='¬')\n",
    "df2 = spark.read.load(base2 + '/' + estuDic['20062'],\"com.databricks.spark.csv\",header='true',inferSchema='true',sep='¬')"
   ]
  },
  {
   "cell_type": "code",
   "execution_count": 10,
   "metadata": {},
   "outputs": [],
   "source": [
    "columnasPuntos = [\n",
    " 'punt_lenguaje',\n",
    " 'punt_matematicas',\n",
    " 'punt_c_sociales',\n",
    " 'punt_filosofia',\n",
    " 'punt_biologia',\n",
    " 'punt_quimica',\n",
    " 'punt_fisica',\n",
    " 'punt_idioma',\n",
    " 'punt_profundizacion',\n",
    " 'punt_interdisciplinar']"
   ]
  },
  {
   "cell_type": "code",
   "execution_count": 11,
   "metadata": {},
   "outputs": [],
   "source": [
    "# SE unen los dos dataframes\n",
    "df = unionAll(df1,df2)\n",
    "for cp in columnasPuntos:\n",
    "    df = df.withColumn(cp, regexp_replace(cp, ',', '.'))\n",
    "    df = df.withColumn(cp, df[cp].cast(\"float\"))\n",
    "    df = df.na.fill({cp:0})\n",
    "\n",
    "df = df.na.fill({'cole_cod_dane_institucion':'--'})\n",
    "df = df.na.fill({'cole_nombre_sede':'--'})\n",
    "\n",
    "df1 = df2 = None"
   ]
  },
  {
   "cell_type": "code",
   "execution_count": 12,
   "metadata": {},
   "outputs": [
    {
     "ename": "NameError",
     "evalue": "name 'col' is not defined",
     "output_type": "error",
     "traceback": [
      "\u001b[0;31m---------------------------------------------------------------------------\u001b[0m",
      "\u001b[0;31mNameError\u001b[0m                                 Traceback (most recent call last)",
      "\u001b[0;32m<ipython-input-12-895c26ca4d4f>\u001b[0m in \u001b[0;36m<module>\u001b[0;34m\u001b[0m\n\u001b[0;32m----> 1\u001b[0;31m \u001b[0mdff\u001b[0m \u001b[0;34m=\u001b[0m \u001b[0mdf\u001b[0m\u001b[0;34m.\u001b[0m\u001b[0mfilter\u001b[0m\u001b[0;34m(\u001b[0m\u001b[0mcol\u001b[0m\u001b[0;34m(\u001b[0m\u001b[0;34m\"cole_cod_dane_institucion\"\u001b[0m\u001b[0;34m)\u001b[0m \u001b[0;34m==\u001b[0m \u001b[0;34m\"--\"\u001b[0m\u001b[0;34m)\u001b[0m\u001b[0;34m\u001b[0m\u001b[0;34m\u001b[0m\u001b[0m\n\u001b[0m\u001b[1;32m      2\u001b[0m \u001b[0;31m#dff = df.filter(col(\"cole_nombre_sede\") == 'sin')\u001b[0m\u001b[0;34m\u001b[0m\u001b[0;34m\u001b[0m\u001b[0;34m\u001b[0m\u001b[0m\n\u001b[1;32m      3\u001b[0m \u001b[0;31m#dff.select(\"cole_cod_dane_institucion\",\"cole_nombre_sede\").show(10)#\u001b[0m\u001b[0;34m\u001b[0m\u001b[0;34m\u001b[0m\u001b[0;34m\u001b[0m\u001b[0m\n",
      "\u001b[0;31mNameError\u001b[0m: name 'col' is not defined"
     ]
    }
   ],
   "source": [
    "\n",
    "# SE evalua sí tiene valores nullos\n",
    "print(\"Nùmero de filas con cole_cod_dane_institucion nulos: \", df.filter(\"cole_cod_dane_institucion = '--'\").count())\n",
    "print(\"Nùmero de filas con cole_nombre_sede nulos: \", df.filter(\"cole_nombre_sede = '--'\").count())"
   ]
  },
  {
   "cell_type": "code",
   "execution_count": 217,
   "metadata": {},
   "outputs": [
    {
     "data": {
      "text/plain": [
       "['estu_exam_nombreexamen',\n",
       " 'estu_estudiante',\n",
       " 'periodo',\n",
       " 'estu_consecutivo',\n",
       " 'estu_edad',\n",
       " 'estu_tipo_documento',\n",
       " 'estu_pais_reside',\n",
       " 'estu_genero',\n",
       " 'estu_nacimiento_dia',\n",
       " 'estu_nacimiento_mes',\n",
       " 'estu_nacimiento_anno',\n",
       " 'estu_cod_reside_mcpio',\n",
       " 'estu_reside_mcpio',\n",
       " 'estu_reside_depto',\n",
       " 'estu_zona_reside',\n",
       " 'estu_razoninstituto',\n",
       " 'cole_valor_pension',\n",
       " 'estu_ies_cod_deseada',\n",
       " 'estu_carrdeseada_razon',\n",
       " 'estu_carrdeseada_cod',\n",
       " 'estu_ies_deseada_nombre',\n",
       " 'estu_ies_cod_mpio_deseada',\n",
       " 'estu_ies_mpio_deseada',\n",
       " 'estu_ies_dept_deseada',\n",
       " 'estu_mpio_presentacion',\n",
       " 'estu_dept_presentacion',\n",
       " 'estu_exam_cod_mpio_presentacio',\n",
       " 'estu_ano_termino_bachill',\n",
       " 'cole_cod_icfes',\n",
       " 'cole_cod_dane_institucion',\n",
       " 'cole_nombre_sede',\n",
       " 'cole_cod_mcpio_ubicacion',\n",
       " 'cole_calendario',\n",
       " 'cole_genero',\n",
       " 'cole_naturaleza',\n",
       " 'cole_bilingue',\n",
       " 'cole_jornada',\n",
       " 'cole_caracter',\n",
       " 'punt_lenguaje',\n",
       " 'punt_matematicas',\n",
       " 'punt_c_sociales',\n",
       " 'punt_filosofia',\n",
       " 'punt_biologia',\n",
       " 'punt_quimica',\n",
       " 'punt_fisica',\n",
       " 'nombre_idioma',\n",
       " 'punt_idioma',\n",
       " 'nombre_profundizacion',\n",
       " 'punt_profundizacion',\n",
       " 'desemp_profundizacion',\n",
       " 'nombre_interdisciplinar',\n",
       " 'punt_interdisciplinar',\n",
       " 'estu_puesto']"
      ]
     },
     "execution_count": 217,
     "metadata": {},
     "output_type": "execute_result"
    }
   ],
   "source": [
    "df.columns"
   ]
  },
  {
   "cell_type": "code",
   "execution_count": 218,
   "metadata": {},
   "outputs": [],
   "source": [
    "# Contando el numero de estudiantes por id instituciòn y mostrandola de forma descendente\n",
    "# dsCountEst = df.groupBy('cole_cod_dane_institucion').count().orderBy('count',ascending=False)\n",
    "\n",
    "# Contando el numero de estudiantes por nombre de instituciòn y mostrandola de forma descendente\n",
    "# por que hay muchos colegios con cole_cod_dane_institucion es null.\n",
    "dsCountEst = df.groupBy('cole_nombre_sede').count().orderBy('count',ascending=False)"
   ]
  },
  {
   "cell_type": "code",
   "execution_count": 219,
   "metadata": {},
   "outputs": [
    {
     "name": "stdout",
     "output_type": "stream",
     "text": [
      "+-------------------------------------------------------------------------------------+-------+\n",
      "|cole_nombre_sede                                                                     |num_est|\n",
      "+-------------------------------------------------------------------------------------+-------+\n",
      "|INST EDUC CEFA                                                                       |1200   |\n",
      "|INEM FRANCISCO DE PAULA SANTANDER                                                    |987    |\n",
      "|INSTITUTO TECNICO INDUSTRIAL                                                         |922    |\n",
      "| COL FUND STA ISABEL DE HUNGRIA                                                      |843    |\n",
      "|INEM SANTIAGO PEREZ                                                                  |811    |\n",
      "|INST EDUC INEM JOSE FELIX DE RESTREPO                                                |798    |\n",
      "|JORGE ELIECER GAITAN                                                                 |708    |\n",
      "|INSTITUCION EDUCATIVA JOSE MANUEL RODRIGUEZ TORICES                                  |702    |\n",
      "|INSTITUCION EDUCATIVA INEM MIGUEL ANTONIO CARO                                       |632    |\n",
      "|INSTITUTO REGIONAL COREDI                                                            |627    |\n",
      "+-------------------------------------------------------------------------------------+-------+\n",
      "only showing top 10 rows\n",
      "\n"
     ]
    }
   ],
   "source": [
    "dsCountEst = dsCountEst.withColumnRenamed(\"count\",\"num_est\")\n",
    "dsCountEst.show(10,False)"
   ]
  },
  {
   "cell_type": "code",
   "execution_count": 220,
   "metadata": {},
   "outputs": [
    {
     "name": "stdout",
     "output_type": "stream",
     "text": [
      "Numero màximo de estudiantes:  1200\n",
      "Numero mìnimo de estudiantes:  1\n"
     ]
    }
   ],
   "source": [
    "rowmax = dsCountEst.agg({\"num_est\": \"max\"}).collect()[0]\n",
    "rowmin = dsCountEst.agg({\"num_est\": \"min\"}).collect()[0]\n",
    "\n",
    "num_est_max = rowmax[\"max(num_est)\"]\n",
    "num_est_min = rowmin[\"min(num_est)\"]\n",
    "\n",
    "print(\"Numero màximo de estudiantes: \",num_est_max)\n",
    "print(\"Numero mìnimo de estudiantes: \",num_est_min)"
   ]
  },
  {
   "cell_type": "code",
   "execution_count": 221,
   "metadata": {},
   "outputs": [],
   "source": [
    "#Se crea una columna con el total de los puntajes   \n",
    "df= df.withColumn(\"Suma\",df['punt_lenguaje']+df['punt_matematicas']+df['punt_c_sociales']+\n",
    "                     df['punt_filosofia']+df['punt_biologia']+df['punt_quimica']+df['punt_fisica']+\n",
    "                     df['punt_idioma']+df['punt_profundizacion']+df['punt_interdisciplinar'])"
   ]
  },
  {
   "cell_type": "code",
   "execution_count": 222,
   "metadata": {},
   "outputs": [],
   "source": [
    "#Se crea una lista de columnas para hacer el analisis.\n",
    "columnasToAnalysis = columnasPuntos.copy()\n",
    "columnasToAnalysis.insert(0,'cole_cod_dane_institucion')\n",
    "columnasToAnalysis.insert(1,'cole_nombre_sede')\n",
    "columnasToAnalysis.append('Suma')"
   ]
  },
  {
   "cell_type": "code",
   "execution_count": 223,
   "metadata": {},
   "outputs": [
    {
     "data": {
      "text/plain": [
       "['cole_cod_dane_institucion',\n",
       " 'cole_nombre_sede',\n",
       " 'punt_lenguaje',\n",
       " 'punt_matematicas',\n",
       " 'punt_c_sociales',\n",
       " 'punt_filosofia',\n",
       " 'punt_biologia',\n",
       " 'punt_quimica',\n",
       " 'punt_fisica',\n",
       " 'punt_idioma',\n",
       " 'punt_profundizacion',\n",
       " 'punt_interdisciplinar',\n",
       " 'Suma']"
      ]
     },
     "execution_count": 223,
     "metadata": {},
     "output_type": "execute_result"
    }
   ],
   "source": [
    "columnasToAnalysis"
   ]
  },
  {
   "cell_type": "code",
   "execution_count": 224,
   "metadata": {},
   "outputs": [],
   "source": [
    "# SE Selecciona el subgrupo de informciòn que se analizara\n",
    "df = df.select(columnasToAnalysis)"
   ]
  },
  {
   "cell_type": "code",
   "execution_count": 225,
   "metadata": {},
   "outputs": [
    {
     "data": {
      "text/plain": [
       "['cole_cod_dane_institucion',\n",
       " 'cole_nombre_sede',\n",
       " 'punt_lenguaje',\n",
       " 'punt_matematicas',\n",
       " 'punt_c_sociales',\n",
       " 'punt_filosofia',\n",
       " 'punt_biologia',\n",
       " 'punt_quimica',\n",
       " 'punt_fisica',\n",
       " 'punt_idioma',\n",
       " 'punt_profundizacion',\n",
       " 'punt_interdisciplinar',\n",
       " 'Suma']"
      ]
     },
     "execution_count": 225,
     "metadata": {},
     "output_type": "execute_result"
    }
   ],
   "source": [
    "df.columns"
   ]
  },
  {
   "cell_type": "markdown",
   "metadata": {},
   "source": [
    "## Resultados finales por instituciòn"
   ]
  },
  {
   "cell_type": "code",
   "execution_count": 226,
   "metadata": {},
   "outputs": [
    {
     "name": "stdout",
     "output_type": "stream",
     "text": [
      "Màxima calificaciòn en colegios:  590.5481338500977\n",
      "Mìxima calificaciòn en colegios:  333.7709017666903\n"
     ]
    }
   ],
   "source": [
    "# Còdigo para obtener la media de los resultados de las evaluaciones de todos los estudiantes por instituciòn \n",
    "# y posiciòn en orden descendente.\n",
    "from pyspark.sql.functions import *\n",
    "from pyspark.sql.window import Window\n",
    "\n",
    "#df = df.groupBy('cole_cod_dane_institucion','cole_nombre_sede').mean()\n",
    "df = df.groupBy('cole_nombre_sede').mean()\n",
    "\n",
    "rowprommax = df.agg({\"avg(Suma)\": \"max\"}).collect()[0]\n",
    "rowprommin = df.agg({\"avg(Suma)\": \"min\"}).collect()[0]\n",
    "\n",
    "prom_est_max = rowprommax[\"max(avg(Suma))\"]\n",
    "prom_est_min = rowprommin[\"min(avg(Suma))\"]\n",
    "\n",
    "print(\"Màxima calificaciòn en colegios: \", prom_est_max)\n",
    "print(\"Mìxima calificaciòn en colegios: \", prom_est_min)\n",
    "\n",
    "#df = df.withColumn(\"rank\", dense_rank().over(Window.orderBy(desc(\"avg(Suma)\"))))\n",
    "#df = df.orderBy('rank',ascending= True)"
   ]
  },
  {
   "cell_type": "markdown",
   "metadata": {},
   "source": [
    "## Creación de Indices de evaluación\n",
    "$Indice\\_Prom = \\frac{avg(Suma)}{max(avg(Suma))}$&nbsp;&nbsp;\n",
    "$0 < Indice\\_Prom \\leq 1$\n",
    "\n",
    "$Indice\\_Num = \\frac{num\\_est}{max(num\\_est)}$&nbsp;&nbsp;\n",
    "$0 < Indice\\_Num \\leq 1$\n",
    "\n",
    "$Indice\\_Total = Indice\\_Prom \\times Indice\\_Num$&nbsp;&nbsp;\n",
    "$0 < Indice\\_Total \\leq 1 $\n",
    "\n",
    "$Indice\\_Total$: tiene en consideraciòn el promedio de las calificaciones y el nùmero de estudiantes "
   ]
  },
  {
   "cell_type": "code",
   "execution_count": 227,
   "metadata": {},
   "outputs": [],
   "source": [
    "dfjoin = df.join(dsCountEst,\"cole_nombre_sede\")\n",
    "dfjoin= dfjoin.withColumn(\"Indice_Prom\",round(dfjoin['avg(Suma)']/prom_est_max,3))\n",
    "dfjoin= dfjoin.withColumn(\"Indice_Num\",round(dfjoin['num_est']/num_est_max,3))\n",
    "dfjoin= dfjoin.withColumn(\"Indice_Total\",round(dfjoin['Indice_Prom']*dfjoin['Indice_Num'],3))"
   ]
  },
  {
   "cell_type": "code",
   "execution_count": 228,
   "metadata": {},
   "outputs": [
    {
     "name": "stdout",
     "output_type": "stream",
     "text": [
      "root\n",
      " |-- cole_nombre_sede: string (nullable = true)\n",
      " |-- avg(punt_lenguaje): double (nullable = true)\n",
      " |-- avg(punt_matematicas): double (nullable = true)\n",
      " |-- avg(punt_c_sociales): double (nullable = true)\n",
      " |-- avg(punt_filosofia): double (nullable = true)\n",
      " |-- avg(punt_biologia): double (nullable = true)\n",
      " |-- avg(punt_quimica): double (nullable = true)\n",
      " |-- avg(punt_fisica): double (nullable = true)\n",
      " |-- avg(punt_idioma): double (nullable = true)\n",
      " |-- avg(punt_profundizacion): double (nullable = true)\n",
      " |-- avg(punt_interdisciplinar): double (nullable = true)\n",
      " |-- avg(Suma): double (nullable = true)\n",
      " |-- num_est: long (nullable = false)\n",
      " |-- Indice_Prom: double (nullable = true)\n",
      " |-- Indice_Num: double (nullable = true)\n",
      " |-- Indice_Total: double (nullable = true)\n",
      "\n"
     ]
    }
   ],
   "source": [
    "dfjoin.printSchema()"
   ]
  },
  {
   "cell_type": "code",
   "execution_count": 229,
   "metadata": {},
   "outputs": [
    {
     "name": "stdout",
     "output_type": "stream",
     "text": [
      "root\n",
      " |-- cole_nombre_sede: string (nullable = true)\n",
      " |-- avg(Suma): double (nullable = true)\n",
      " |-- num_est: long (nullable = false)\n",
      " |-- Indice_Prom: double (nullable = true)\n",
      " |-- Indice_Num: double (nullable = true)\n",
      " |-- Indice_Total: double (nullable = true)\n",
      " |-- rankProm: integer (nullable = true)\n",
      " |-- rankNum: integer (nullable = true)\n",
      " |-- rankTotal: integer (nullable = true)\n",
      " |-- Media: double (nullable = true)\n",
      "\n"
     ]
    }
   ],
   "source": [
    "dfjoin = dfjoin.select('cole_nombre_sede','avg(Suma)','num_est','Indice_Prom','Indice_Num','Indice_Total')\n",
    "dfjoin = dfjoin.withColumn(\"rankProm\", dense_rank().over(Window.orderBy(desc(\"Indice_Prom\"))))\n",
    "dfjoin = dfjoin.withColumn(\"rankNum\", dense_rank().over(Window.orderBy(desc(\"Indice_Num\"))))\n",
    "dfjoin = dfjoin.withColumn(\"rankTotal\", dense_rank().over(Window.orderBy(desc(\"Indice_Total\"))))\n",
    "dfjoin = dfjoin.withColumn(\"Media\",round(dfjoin['avg(Suma)'],2))\n",
    "dfjoin.printSchema()"
   ]
  },
  {
   "cell_type": "code",
   "execution_count": 230,
   "metadata": {},
   "outputs": [
    {
     "name": "stdout",
     "output_type": "stream",
     "text": [
      "+--------------------+------+-----------+-------+--------+-------+---------+\n",
      "|    cole_nombre_sede| Media|Indice_Prom|num_est|rankProm|rankNum|rankTotal|\n",
      "+--------------------+------+-----------+-------+--------+-------+---------+\n",
      "|INST ALBERTO MERA...|590.55|        1.0|     16|       1|    324|      250|\n",
      "|LIC NAVARRA      ...|572.34|      0.969|     36|       2|    307|      234|\n",
      "|COL LOS NOGALES  ...|568.15|      0.962|     39|       3|    304|      231|\n",
      "|LIC  DE CERVANTES...|566.35|      0.959|     96|       4|    257|      186|\n",
      "|LIC CAMPO DAVID  ...|563.75|      0.955|     19|       5|    321|      248|\n",
      "|COL SAN CARLOS   ...|563.34|      0.954|     94|       6|    259|      189|\n",
      "|COLEGIO LEONARDO ...|562.99|      0.953|      4|       7|    334|      260|\n",
      "|COLEGIO MARYMOUNT...|563.02|      0.953|     97|       7|    256|      186|\n",
      "|COL  SAN BONIFACI...|562.43|      0.952|     18|       8|    322|      249|\n",
      "|COL SANTA FRANCIS...|559.54|      0.947|     49|       9|    296|      224|\n",
      "+--------------------+------+-----------+-------+--------+-------+---------+\n",
      "only showing top 10 rows\n",
      "\n"
     ]
    }
   ],
   "source": [
    "# Se ordena por Indice_Prom\n",
    "dfjoin = dfjoin.orderBy('rankProm',ascending= True)\n",
    "dfjoin.select('cole_nombre_sede','Media','Indice_Prom','num_est','rankProm','rankNum','rankTotal').show(10)"
   ]
  },
  {
   "cell_type": "code",
   "execution_count": 231,
   "metadata": {},
   "outputs": [
    {
     "name": "stdout",
     "output_type": "stream",
     "text": [
      "+--------------------+------+----------+-------+--------+-------+---------+\n",
      "|    cole_nombre_sede| Media|Indice_Num|num_est|rankProm|rankNum|rankTotal|\n",
      "+--------------------+------+----------+-------+--------+-------+---------+\n",
      "|      INST EDUC CEFA|427.16|       1.0|   1200|     211|      1|        1|\n",
      "|INEM FRANCISCO DE...|425.62|     0.823|    987|     213|      2|        2|\n",
      "|INSTITUTO TECNICO...|422.39|     0.768|    922|     219|      3|        3|\n",
      "| COL FUND STA ISA...|412.87|     0.703|    843|     235|      4|        4|\n",
      "| INEM SANTIAGO PEREZ|418.96|     0.676|    811|     225|      5|        5|\n",
      "|INST EDUC INEM JO...|436.27|     0.665|    798|     195|      6|        4|\n",
      "|JORGE ELIECER GAITAN|404.36|      0.59|    708|     249|      7|        7|\n",
      "|INSTITUCION EDUCA...|409.09|     0.585|    702|     241|      8|        6|\n",
      "|INSTITUCION EDUCA...|402.18|     0.527|    632|     253|      9|       10|\n",
      "|INSTITUTO REGIONA...|399.98|     0.523|    627|     257|     10|       11|\n",
      "+--------------------+------+----------+-------+--------+-------+---------+\n",
      "only showing top 10 rows\n",
      "\n"
     ]
    }
   ],
   "source": [
    "dfjoin = dfjoin.orderBy('rankNum',ascending= True)\n",
    "dfjoin.select('cole_nombre_sede','Media','Indice_Num','num_est','rankProm','rankNum','rankTotal').show(10)"
   ]
  },
  {
   "cell_type": "code",
   "execution_count": 232,
   "metadata": {},
   "outputs": [
    {
     "name": "stdout",
     "output_type": "stream",
     "text": [
      "+--------------------+------+------------+-------+--------+-------+---------+\n",
      "|    cole_nombre_sede| Media|Indice_Total|num_est|rankProm|rankNum|rankTotal|\n",
      "+--------------------+------+------------+-------+--------+-------+---------+\n",
      "|      INST EDUC CEFA|427.16|       0.723|   1200|     211|      1|        1|\n",
      "|INEM FRANCISCO DE...|425.62|       0.593|    987|     213|      2|        2|\n",
      "|INSTITUTO TECNICO...|422.39|       0.549|    922|     219|      3|        3|\n",
      "| COL FUND STA ISA...|412.87|       0.491|    843|     235|      4|        4|\n",
      "|INST EDUC INEM JO...|436.27|       0.491|    798|     195|      6|        4|\n",
      "| INEM SANTIAGO PEREZ|418.96|       0.479|    811|     225|      5|        5|\n",
      "|INSTITUCION EDUCA...|409.09|       0.405|    702|     241|      8|        6|\n",
      "|JORGE ELIECER GAITAN|404.36|       0.404|    708|     249|      7|        7|\n",
      "|LIC SALAZAR Y HER...|454.56|       0.395|    616|     164|     11|        8|\n",
      "|COL DE LA UNIV PO...|490.85|       0.387|    559|     103|     17|        9|\n",
      "+--------------------+------+------------+-------+--------+-------+---------+\n",
      "only showing top 10 rows\n",
      "\n"
     ]
    }
   ],
   "source": [
    "# Se ordena por Indice_Total\n",
    "dfjoin = dfjoin.orderBy('rankTotal',ascending= True)\n",
    "dfjoin.select('cole_nombre_sede','Media','Indice_Total','num_est','rankProm','rankNum','rankTotal').show(10)"
   ]
  },
  {
   "cell_type": "markdown",
   "metadata": {},
   "source": [
    "## Colegios 2006"
   ]
  },
  {
   "cell_type": "code",
   "execution_count": 26,
   "metadata": {},
   "outputs": [
    {
     "name": "stdout",
     "output_type": "stream",
     "text": [
      "+-------------------------+------------------+---------------------+--------------------+-------------------+------------------+------------------+-----------------+-----------------+------------------------+--------------------------+-----------------+----+----+\n",
      "|cole_cod_dane_institucion|avg(punt_lenguaje)|avg(punt_matematicas)|avg(punt_c_sociales)|avg(punt_filosofia)|avg(punt_biologia)|avg(punt_quimica) |avg(punt_fisica) |avg(punt_idioma) |avg(punt_profundizacion)|avg(punt_interdisciplinar)|avg(Suma)        |rank|año |\n",
      "+-------------------------+------------------+---------------------+--------------------+-------------------+------------------+------------------+-----------------+-----------------+------------------------+--------------------------+-----------------+----+----+\n",
      "|311001089221             |65.57875061035156 |65.78999948501587    |69.42500019073486   |61.70125079154968  |69.47937536239624 |61.438124656677246|62.29437446594238|70.63875007629395|6.42750009894371        |57.77499985694885         |590.5481338500977|1   |2006|\n",
      "|311001005176             |61.76166682773166 |68.72666645050049    |63.798055013020836  |59.49500062730577  |63.205555491977265|59.64666642083062 |63.54277748531766|73.87916692097981|6.883888880411784       |51.400277296702065        |572.339729309082 |2   |2006|\n",
      "|311769003342             |62.50564193725586 |81.12487059373122    |51.82256346482497   |57.838717729617386 |61.20000017606295 |54.41846133501102 |61.87025627723107|75.43461775168394|7.212564028226412       |54.718974284636666        |568.1466674804688|3   |2006|\n",
      "|311848002611             |62.04812518755595 |68.76489547888438    |61.9271875222524    |60.92979244391123  |61.62291685740153 |61.643020828564964|61.46187496185303|69.84489651521046|6.730208362142245       |51.376249512036644        |566.3491700490316|4   |2006|\n",
      "|354001000370             |62.39882375679764 |67.24019562964345    |62.305881949032056  |59.031960880055145 |63.411372988831765|60.94901993695427 |61.09666659785252|69.83764760634479|6.746666683870203       |52.299019420848175        |565.3172607421875|5   |2006|\n",
      "+-------------------------+------------------+---------------------+--------------------+-------------------+------------------+------------------+-----------------+-----------------+------------------------+--------------------------+-----------------+----+----+\n",
      "only showing top 5 rows\n",
      "\n"
     ]
    }
   ],
   "source": [
    "# se crea un dataframe con una columna que lo señala el año 2006.\n",
    "from pyspark.sql.functions import lit\n",
    "df = df.withColumn('año',lit(2006))\n",
    "df.show(5,False)"
   ]
  },
  {
   "cell_type": "code",
   "execution_count": 27,
   "metadata": {},
   "outputs": [],
   "source": [
    "# SE crea Dataframe de colegios 2006\n",
    "dfc = spark.read.load(base + '/' + coleDic['2006'],\"com.databricks.spark.csv\",header='true',inferSchema='true',sep='\\t')\n",
    "dfc = dfc.withColumn('COLE_CODIGO_COLEGIO', dfc['COLE_CODIGO_COLEGIO'].cast(\"string\"))\n",
    "dfc = dfc.withColumn('COLE_CODMPIO_COLEGIO', dfc['COLE_CODMPIO_COLEGIO'].cast(\"string\"))"
   ]
  },
  {
   "cell_type": "code",
   "execution_count": 28,
   "metadata": {},
   "outputs": [
    {
     "name": "stdout",
     "output_type": "stream",
     "text": [
      "root\n",
      " |-- COLE_CODIGO_COLEGIO: string (nullable = true)\n",
      " |-- COLE_INST_NOMBRE: string (nullable = true)\n",
      " |-- COLE_CODMPIO_COLEGIO: string (nullable = true)\n",
      " |-- COLE_MPIO_COLEGIO: string (nullable = true)\n",
      " |-- COLE_DEPTO_COLEGIO: string (nullable = true)\n",
      " |-- COLE_INST_JORNADA: string (nullable = true)\n",
      " |-- COLE_CALENDARIO_COLEGIO: string (nullable = true)\n",
      " |-- COLE_GENEROPOBLACION: string (nullable = true)\n",
      " |-- COLE_NATURALEZA: string (nullable = true)\n",
      " |-- COLE_CIENCIAS_SOCIALES: integer (nullable = true)\n",
      " |-- COLE_QUIMICA: integer (nullable = true)\n",
      " |-- COLE_FISICA: integer (nullable = true)\n",
      " |-- COLE_BIOLOGIA: integer (nullable = true)\n",
      " |-- COLE_FILOSOFIA: integer (nullable = true)\n",
      " |-- COLE_MATEMATICAS: integer (nullable = true)\n",
      " |-- COLE_LENGUAJE: integer (nullable = true)\n",
      " |-- COLE_INGLES: string (nullable = true)\n",
      " |-- COLE_GEOGRAFIA: string (nullable = true)\n",
      " |-- COLE_HISTORIA: string (nullable = true)\n",
      " |-- COLE_CATEGORIA: string (nullable = true)\n",
      " |-- COLE_ESTUDIANTES_PRESENTES: integer (nullable = true)\n",
      "\n",
      "None\n"
     ]
    }
   ],
   "source": [
    "print(dfc.printSchema())"
   ]
  },
  {
   "cell_type": "code",
   "execution_count": 29,
   "metadata": {},
   "outputs": [
    {
     "data": {
      "text/plain": [
       "['COLE_CODIGO_COLEGIO',\n",
       " 'COLE_INST_NOMBRE',\n",
       " 'COLE_CODMPIO_COLEGIO',\n",
       " 'COLE_MPIO_COLEGIO',\n",
       " 'COLE_DEPTO_COLEGIO',\n",
       " 'COLE_INST_JORNADA',\n",
       " 'COLE_CALENDARIO_COLEGIO',\n",
       " 'COLE_GENEROPOBLACION',\n",
       " 'COLE_NATURALEZA',\n",
       " 'COLE_CIENCIAS_SOCIALES',\n",
       " 'COLE_QUIMICA',\n",
       " 'COLE_FISICA',\n",
       " 'COLE_BIOLOGIA',\n",
       " 'COLE_FILOSOFIA',\n",
       " 'COLE_MATEMATICAS',\n",
       " 'COLE_LENGUAJE',\n",
       " 'COLE_INGLES',\n",
       " 'COLE_GEOGRAFIA',\n",
       " 'COLE_HISTORIA',\n",
       " 'COLE_CATEGORIA',\n",
       " 'COLE_ESTUDIANTES_PRESENTES']"
      ]
     },
     "execution_count": 29,
     "metadata": {},
     "output_type": "execute_result"
    }
   ],
   "source": [
    "dfc.columns"
   ]
  },
  {
   "cell_type": "code",
   "execution_count": 30,
   "metadata": {},
   "outputs": [],
   "source": [
    "colsColegio = ['COLE_CODIGO_COLEGIO',\n",
    " 'COLE_CODMPIO_COLEGIO',\n",
    " 'COLE_CIENCIAS_SOCIALES',\n",
    " 'COLE_QUIMICA',\n",
    " 'COLE_FISICA',\n",
    " 'COLE_BIOLOGIA',\n",
    " 'COLE_FILOSOFIA',\n",
    " 'COLE_MATEMATICAS',\n",
    " 'COLE_LENGUAJE',\n",
    " 'COLE_INGLES',\n",
    " 'COLE_GEOGRAFIA',\n",
    " 'COLE_HISTORIA']"
   ]
  },
  {
   "cell_type": "code",
   "execution_count": 31,
   "metadata": {},
   "outputs": [],
   "source": [
    "dfc = dfc.select(colsColegio)"
   ]
  },
  {
   "cell_type": "code",
   "execution_count": 35,
   "metadata": {},
   "outputs": [
    {
     "name": "stdout",
     "output_type": "stream",
     "text": [
      "+-------------------+--------------------+----------------------+------------+-----------+-------------+--------------+----------------+-------------+-----------+--------------+-------------+\n",
      "|COLE_CODIGO_COLEGIO|COLE_CODMPIO_COLEGIO|COLE_CIENCIAS_SOCIALES|COLE_QUIMICA|COLE_FISICA|COLE_BIOLOGIA|COLE_FILOSOFIA|COLE_MATEMATICAS|COLE_LENGUAJE|COLE_INGLES|COLE_GEOGRAFIA|COLE_HISTORIA|\n",
      "+-------------------+--------------------+----------------------+------------+-----------+-------------+--------------+----------------+-------------+-----------+--------------+-------------+\n",
      "|127696             |5001                |6                     |6           |7          |6            |8             |6               |7            |null       |null          |null         |\n",
      "|127704             |20001               |7                     |7           |7          |7            |8             |6               |7            |null       |null          |null         |\n",
      "|127712             |41807               |6                     |7           |6          |7            |7             |6               |7            |null       |null          |null         |\n",
      "|127738             |41319               |5                     |6           |6          |7            |6             |6               |6            |null       |null          |null         |\n",
      "|127746             |47001               |6                     |6           |7          |7            |7             |7               |6            |null       |null          |null         |\n",
      "+-------------------+--------------------+----------------------+------------+-----------+-------------+--------------+----------------+-------------+-----------+--------------+-------------+\n",
      "only showing top 5 rows\n",
      "\n"
     ]
    }
   ],
   "source": [
    "dfc.show(5,False)"
   ]
  },
  {
   "cell_type": "code",
   "execution_count": 36,
   "metadata": {},
   "outputs": [
    {
     "name": "stdout",
     "output_type": "stream",
     "text": [
      "El numero de colegios año 2006 es:  9249\n"
     ]
    }
   ],
   "source": [
    "print(\"El numero de colegios año 2006 es: \", dfc.select('COLE_CODIGO_COLEGIO').distinct().count())"
   ]
  },
  {
   "cell_type": "markdown",
   "metadata": {},
   "source": [
    "## Anàlisis comparativo entre estudiantes y colegios año 2006"
   ]
  },
  {
   "cell_type": "code",
   "execution_count": 38,
   "metadata": {},
   "outputs": [],
   "source": [
    "dfjoin2006 = df.join(dfc, df.cole_cod_dane_institucion == dfc.COLE_CODIGO_COLEGIO)"
   ]
  },
  {
   "cell_type": "code",
   "execution_count": 92,
   "metadata": {},
   "outputs": [
    {
     "name": "stdout",
     "output_type": "stream",
     "text": [
      "Nùmero de colegios coincidentes entre el archivo de estudiantes y colegios: 0\n"
     ]
    }
   ],
   "source": [
    "print(\"Nùmero de colegios coincidentes entre el archivo de estudiantes y colegios:\", dfjoin2006.count())"
   ]
  },
  {
   "cell_type": "code",
   "execution_count": 39,
   "metadata": {},
   "outputs": [
    {
     "name": "stdout",
     "output_type": "stream",
     "text": [
      "Nùmero de colegios coincidentes entre el archivo de estudiantes y colegios: 0\n"
     ]
    }
   ],
   "source": [
    "dfjoin2006 = df.join(dfc, df.cole_cod_dane_institucion == dfc.COLE_CODMPIO_COLEGIO)\n",
    "print(\"Nùmero de colegios coincidentes entre el archivo de estudiantes y colegios:\", dfjoin2006.count())"
   ]
  },
  {
   "cell_type": "markdown",
   "metadata": {},
   "source": [
    "La informaciòn de colegios no coincide con la informaciòn de estudiantes, no existe cole_cod_dane_institucion en el archivo de colegios."
   ]
  }
 ],
 "metadata": {
  "kernelspec": {
   "display_name": "Python 3",
   "language": "python",
   "name": "python3"
  },
  "language_info": {
   "codemirror_mode": {
    "name": "ipython",
    "version": 3
   },
   "file_extension": ".py",
   "mimetype": "text/x-python",
   "name": "python",
   "nbconvert_exporter": "python",
   "pygments_lexer": "ipython3",
   "version": "3.7.3"
  }
 },
 "nbformat": 4,
 "nbformat_minor": 2
}
